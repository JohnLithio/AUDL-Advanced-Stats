{
 "cells": [
  {
   "cell_type": "code",
   "execution_count": 2,
   "metadata": {
    "ExecuteTime": {
     "end_time": "2022-05-24T14:20:52.349598Z",
     "start_time": "2022-05-24T14:20:52.315001Z"
    }
   },
   "outputs": [],
   "source": [
    "from google.cloud import storage\n",
    "\n",
    "storage_client = storage.Client()"
   ]
  },
  {
   "cell_type": "code",
   "execution_count": 3,
   "metadata": {
    "ExecuteTime": {
     "end_time": "2022-05-24T14:25:22.199333Z",
     "start_time": "2022-05-24T14:25:21.412348Z"
    }
   },
   "outputs": [],
   "source": [
    "bucket = storage_client.get_bucket(\"audl-heroku-data\")\n",
    "blob = bucket.blob(\"test/README.md\")\n",
    "blob.upload_from_filename(\"README.md\")"
   ]
  },
  {
   "cell_type": "code",
   "execution_count": 4,
   "metadata": {
    "ExecuteTime": {
     "end_time": "2022-05-24T14:25:41.483922Z",
     "start_time": "2022-05-24T14:25:41.289207Z"
    }
   },
   "outputs": [],
   "source": [
    "bucket = storage_client.get_bucket(\"audl-heroku-data\")\n",
    "blob = bucket.blob(\"test/README.md\")\n",
    "blob.download_to_filename(\"README2.md\")"
   ]
  },
  {
   "cell_type": "code",
   "execution_count": 1,
   "metadata": {
    "ExecuteTime": {
     "end_time": "2022-05-24T14:32:30.953195Z",
     "start_time": "2022-05-24T14:32:30.860892Z"
    }
   },
   "outputs": [],
   "source": [
    "%load_ext autoreload"
   ]
  },
  {
   "cell_type": "code",
   "execution_count": 66,
   "metadata": {
    "ExecuteTime": {
     "end_time": "2022-05-24T14:32:40.968264Z",
     "start_time": "2022-05-24T14:32:37.618479Z"
    }
   },
   "outputs": [],
   "source": [
    "%autoreload\n",
    "import audl_advanced_stats as audl"
   ]
  },
  {
   "cell_type": "markdown",
   "metadata": {},
   "source": [
    "# Examples\n",
    "\n",
    "This notebook gives a brief explanation and examples of how to use the `audl_advanced_stats` package.\n",
    "\n",
    "The first time you run these functions, the data will be downloaded and stored locally, which will take a while. When you run the functions after that, the locally stored versions will be used, which is much quicker. The times in this notebook reflect the first run-through."
   ]
  },
  {
   "cell_type": "code",
   "execution_count": 18,
   "metadata": {},
   "outputs": [],
   "source": [
    "import audl_advanced_stats as audl"
   ]
  },
  {
   "cell_type": "markdown",
   "metadata": {},
   "source": [
    "## Season\n",
    "\n",
    "This section will go through the `Season` class."
   ]
  },
  {
   "cell_type": "code",
   "execution_count": 10,
   "metadata": {},
   "outputs": [
    {
     "name": "stdout",
     "output_type": "stream",
     "text": [
      "CPU times: user 44.5 s, sys: 43.7 s, total: 1min 28s\n",
      "Wall time: 1min 20s\n"
     ]
    },
    {
     "data": {
      "text/html": [
       "<div>\n",
       "<style scoped>\n",
       "    .dataframe tbody tr th:only-of-type {\n",
       "        vertical-align: middle;\n",
       "    }\n",
       "\n",
       "    .dataframe tbody tr th {\n",
       "        vertical-align: top;\n",
       "    }\n",
       "\n",
       "    .dataframe thead th {\n",
       "        text-align: right;\n",
       "    }\n",
       "</style>\n",
       "<table border=\"1\" class=\"dataframe\">\n",
       "  <thead>\n",
       "    <tr style=\"text-align: right;\">\n",
       "      <th></th>\n",
       "      <th>year</th>\n",
       "      <th>player_id</th>\n",
       "      <th>player_season_id</th>\n",
       "      <th>player_name</th>\n",
       "      <th>team_id</th>\n",
       "    </tr>\n",
       "  </thead>\n",
       "  <tbody>\n",
       "    <tr>\n",
       "      <th>1142</th>\n",
       "      <td>2021</td>\n",
       "      <td>77</td>\n",
       "      <td>8815</td>\n",
       "      <td>Laviolette, Allan</td>\n",
       "      <td>18</td>\n",
       "    </tr>\n",
       "  </tbody>\n",
       "</table>\n",
       "</div>"
      ],
      "text/plain": [
       "      year  player_id  player_season_id        player_name  team_id\n",
       "1142  2021         77              8815  Laviolette, Allan       18"
      ]
     },
     "execution_count": 10,
     "metadata": {},
     "output_type": "execute_result"
    }
   ],
   "source": [
    "%%time\n",
    "# Initialize season object\n",
    "s = audl.Season(\n",
    "    year=2023,\n",
    "    data_path=\"data\",\n",
    "    upload=False,\n",
    "    download=False\n",
    ")\n",
    "\n",
    "# Get all players\n",
    "s.get_players().query(\"player_name=='Laviolette, Allan'\").head()"
   ]
  },
  {
   "cell_type": "code",
   "execution_count": 11,
   "metadata": {},
   "outputs": [
    {
     "name": "stdout",
     "output_type": "stream",
     "text": [
      "CPU times: user 515 ms, sys: 14.1 ms, total: 529 ms\n",
      "Wall time: 529 ms\n"
     ]
    },
    {
     "data": {
      "text/html": [
       "<div>\n",
       "<style scoped>\n",
       "    .dataframe tbody tr th:only-of-type {\n",
       "        vertical-align: middle;\n",
       "    }\n",
       "\n",
       "    .dataframe tbody tr th {\n",
       "        vertical-align: top;\n",
       "    }\n",
       "\n",
       "    .dataframe thead th {\n",
       "        text-align: right;\n",
       "    }\n",
       "</style>\n",
       "<table border=\"1\" class=\"dataframe\">\n",
       "  <thead>\n",
       "    <tr style=\"text-align: right;\">\n",
       "      <th></th>\n",
       "      <th>year</th>\n",
       "      <th>team_id</th>\n",
       "      <th>team_abbrev</th>\n",
       "      <th>team_name</th>\n",
       "    </tr>\n",
       "  </thead>\n",
       "  <tbody>\n",
       "    <tr>\n",
       "      <th>0</th>\n",
       "      <td>2023</td>\n",
       "      <td>1</td>\n",
       "      <td>ATL</td>\n",
       "      <td>Atlanta Hustle</td>\n",
       "    </tr>\n",
       "    <tr>\n",
       "      <th>1</th>\n",
       "      <td>2023</td>\n",
       "      <td>2</td>\n",
       "      <td>ATX</td>\n",
       "      <td>Austin Sol</td>\n",
       "    </tr>\n",
       "    <tr>\n",
       "      <th>2</th>\n",
       "      <td>2023</td>\n",
       "      <td>37</td>\n",
       "      <td>BOS</td>\n",
       "      <td>Boston Glory</td>\n",
       "    </tr>\n",
       "    <tr>\n",
       "      <th>3</th>\n",
       "      <td>2023</td>\n",
       "      <td>18</td>\n",
       "      <td>CAR</td>\n",
       "      <td>Carolina Flyers</td>\n",
       "    </tr>\n",
       "    <tr>\n",
       "      <th>4</th>\n",
       "      <td>2023</td>\n",
       "      <td>3</td>\n",
       "      <td>CHI</td>\n",
       "      <td>Chicago Union</td>\n",
       "    </tr>\n",
       "    <tr>\n",
       "      <th>5</th>\n",
       "      <td>2023</td>\n",
       "      <td>39</td>\n",
       "      <td>COL</td>\n",
       "      <td>Colorado Summit</td>\n",
       "    </tr>\n",
       "    <tr>\n",
       "      <th>6</th>\n",
       "      <td>2023</td>\n",
       "      <td>5</td>\n",
       "      <td>DC</td>\n",
       "      <td>DC Breeze</td>\n",
       "    </tr>\n",
       "    <tr>\n",
       "      <th>7</th>\n",
       "      <td>2023</td>\n",
       "      <td>4</td>\n",
       "      <td>DAL</td>\n",
       "      <td>Dallas Legion</td>\n",
       "    </tr>\n",
       "    <tr>\n",
       "      <th>8</th>\n",
       "      <td>2023</td>\n",
       "      <td>6</td>\n",
       "      <td>DET</td>\n",
       "      <td>Detroit Mechanix</td>\n",
       "    </tr>\n",
       "    <tr>\n",
       "      <th>9</th>\n",
       "      <td>2023</td>\n",
       "      <td>41</td>\n",
       "      <td>HTX</td>\n",
       "      <td>Houston Havoc</td>\n",
       "    </tr>\n",
       "    <tr>\n",
       "      <th>10</th>\n",
       "      <td>2023</td>\n",
       "      <td>7</td>\n",
       "      <td>IND</td>\n",
       "      <td>Indianapolis AlleyCats</td>\n",
       "    </tr>\n",
       "    <tr>\n",
       "      <th>11</th>\n",
       "      <td>2023</td>\n",
       "      <td>10</td>\n",
       "      <td>LA</td>\n",
       "      <td>LA Aviators</td>\n",
       "    </tr>\n",
       "    <tr>\n",
       "      <th>12</th>\n",
       "      <td>2023</td>\n",
       "      <td>11</td>\n",
       "      <td>MAD</td>\n",
       "      <td>Madison Radicals</td>\n",
       "    </tr>\n",
       "    <tr>\n",
       "      <th>13</th>\n",
       "      <td>2023</td>\n",
       "      <td>12</td>\n",
       "      <td>MIN</td>\n",
       "      <td>Minnesota Wind Chill</td>\n",
       "    </tr>\n",
       "    <tr>\n",
       "      <th>14</th>\n",
       "      <td>2023</td>\n",
       "      <td>13</td>\n",
       "      <td>MTL</td>\n",
       "      <td>Montreal Royal</td>\n",
       "    </tr>\n",
       "    <tr>\n",
       "      <th>15</th>\n",
       "      <td>2023</td>\n",
       "      <td>14</td>\n",
       "      <td>NY</td>\n",
       "      <td>New York Empire</td>\n",
       "    </tr>\n",
       "    <tr>\n",
       "      <th>16</th>\n",
       "      <td>2023</td>\n",
       "      <td>21</td>\n",
       "      <td>OAK</td>\n",
       "      <td>Oakland Spiders</td>\n",
       "    </tr>\n",
       "    <tr>\n",
       "      <th>17</th>\n",
       "      <td>2022</td>\n",
       "      <td>15</td>\n",
       "      <td>OTT</td>\n",
       "      <td>Ottawa Outlaws</td>\n",
       "    </tr>\n",
       "    <tr>\n",
       "      <th>18</th>\n",
       "      <td>2023</td>\n",
       "      <td>16</td>\n",
       "      <td>PHI</td>\n",
       "      <td>Philadelphia Phoenix</td>\n",
       "    </tr>\n",
       "    <tr>\n",
       "      <th>19</th>\n",
       "      <td>2023</td>\n",
       "      <td>17</td>\n",
       "      <td>PIT</td>\n",
       "      <td>Pittsburgh Thunderbirds</td>\n",
       "    </tr>\n",
       "    <tr>\n",
       "      <th>20</th>\n",
       "      <td>2023</td>\n",
       "      <td>38</td>\n",
       "      <td>POR</td>\n",
       "      <td>Portland Nitro</td>\n",
       "    </tr>\n",
       "    <tr>\n",
       "      <th>21</th>\n",
       "      <td>2023</td>\n",
       "      <td>40</td>\n",
       "      <td>SLC</td>\n",
       "      <td>Salt Lake Shred</td>\n",
       "    </tr>\n",
       "    <tr>\n",
       "      <th>22</th>\n",
       "      <td>2023</td>\n",
       "      <td>19</td>\n",
       "      <td>SD</td>\n",
       "      <td>San Diego Growlers</td>\n",
       "    </tr>\n",
       "    <tr>\n",
       "      <th>23</th>\n",
       "      <td>2023</td>\n",
       "      <td>22</td>\n",
       "      <td>SEA</td>\n",
       "      <td>Seattle Cascades</td>\n",
       "    </tr>\n",
       "    <tr>\n",
       "      <th>24</th>\n",
       "      <td>2022</td>\n",
       "      <td>9</td>\n",
       "      <td>TB</td>\n",
       "      <td>Tampa Bay Cannons</td>\n",
       "    </tr>\n",
       "    <tr>\n",
       "      <th>25</th>\n",
       "      <td>2023</td>\n",
       "      <td>23</td>\n",
       "      <td>TOR</td>\n",
       "      <td>Toronto Rush</td>\n",
       "    </tr>\n",
       "  </tbody>\n",
       "</table>\n",
       "</div>"
      ],
      "text/plain": [
       "    year  team_id team_abbrev                team_name\n",
       "0   2023        1         ATL           Atlanta Hustle\n",
       "1   2023        2         ATX               Austin Sol\n",
       "2   2023       37         BOS             Boston Glory\n",
       "3   2023       18         CAR          Carolina Flyers\n",
       "4   2023        3         CHI            Chicago Union\n",
       "5   2023       39         COL          Colorado Summit\n",
       "6   2023        5          DC                DC Breeze\n",
       "7   2023        4         DAL            Dallas Legion\n",
       "8   2023        6         DET         Detroit Mechanix\n",
       "9   2023       41         HTX            Houston Havoc\n",
       "10  2023        7         IND   Indianapolis AlleyCats\n",
       "11  2023       10          LA              LA Aviators\n",
       "12  2023       11         MAD         Madison Radicals\n",
       "13  2023       12         MIN     Minnesota Wind Chill\n",
       "14  2023       13         MTL           Montreal Royal\n",
       "15  2023       14          NY          New York Empire\n",
       "16  2023       21         OAK          Oakland Spiders\n",
       "17  2022       15         OTT           Ottawa Outlaws\n",
       "18  2023       16         PHI     Philadelphia Phoenix\n",
       "19  2023       17         PIT  Pittsburgh Thunderbirds\n",
       "20  2023       38         POR           Portland Nitro\n",
       "21  2023       40         SLC          Salt Lake Shred\n",
       "22  2023       19          SD       San Diego Growlers\n",
       "23  2023       22         SEA         Seattle Cascades\n",
       "24  2022        9          TB        Tampa Bay Cannons\n",
       "25  2023       23         TOR             Toronto Rush"
      ]
     },
     "execution_count": 11,
     "metadata": {},
     "output_type": "execute_result"
    }
   ],
   "source": [
    "%%time\n",
    "# Get all teams\n",
    "s.get_teams(keep_all_years=True)"
   ]
  },
  {
   "cell_type": "code",
   "execution_count": 12,
   "metadata": {},
   "outputs": [
    {
     "name": "stdout",
     "output_type": "stream",
     "text": [
      "CPU times: user 74 µs, sys: 0 ns, total: 74 µs\n",
      "Wall time: 77.2 µs\n"
     ]
    },
    {
     "data": {
      "text/html": [
       "<div>\n",
       "<style scoped>\n",
       "    .dataframe tbody tr th:only-of-type {\n",
       "        vertical-align: middle;\n",
       "    }\n",
       "\n",
       "    .dataframe tbody tr th {\n",
       "        vertical-align: top;\n",
       "    }\n",
       "\n",
       "    .dataframe thead th {\n",
       "        text-align: right;\n",
       "    }\n",
       "</style>\n",
       "<table border=\"1\" class=\"dataframe\">\n",
       "  <thead>\n",
       "    <tr style=\"text-align: right;\">\n",
       "      <th></th>\n",
       "      <th>year</th>\n",
       "      <th>game_date</th>\n",
       "      <th>away_team</th>\n",
       "      <th>home_team</th>\n",
       "      <th>url</th>\n",
       "      <th>events_exist</th>\n",
       "      <th>playoffs</th>\n",
       "    </tr>\n",
       "  </thead>\n",
       "  <tbody>\n",
       "    <tr>\n",
       "      <th>0</th>\n",
       "      <td>2023</td>\n",
       "      <td>2023-04-28</td>\n",
       "      <td>SEA</td>\n",
       "      <td>SLC</td>\n",
       "      <td>https://www.backend.audlstats.com/stats-pages/...</td>\n",
       "      <td>True</td>\n",
       "      <td>False</td>\n",
       "    </tr>\n",
       "    <tr>\n",
       "      <th>1</th>\n",
       "      <td>2023</td>\n",
       "      <td>2023-04-29</td>\n",
       "      <td>ATX</td>\n",
       "      <td>HTX</td>\n",
       "      <td>https://www.backend.audlstats.com/stats-pages/...</td>\n",
       "      <td>True</td>\n",
       "      <td>False</td>\n",
       "    </tr>\n",
       "    <tr>\n",
       "      <th>2</th>\n",
       "      <td>2023</td>\n",
       "      <td>2023-04-29</td>\n",
       "      <td>DC</td>\n",
       "      <td>CAR</td>\n",
       "      <td>https://www.backend.audlstats.com/stats-pages/...</td>\n",
       "      <td>True</td>\n",
       "      <td>False</td>\n",
       "    </tr>\n",
       "    <tr>\n",
       "      <th>3</th>\n",
       "      <td>2023</td>\n",
       "      <td>2023-04-29</td>\n",
       "      <td>IND</td>\n",
       "      <td>ATL</td>\n",
       "      <td>https://www.backend.audlstats.com/stats-pages/...</td>\n",
       "      <td>True</td>\n",
       "      <td>False</td>\n",
       "    </tr>\n",
       "    <tr>\n",
       "      <th>4</th>\n",
       "      <td>2023</td>\n",
       "      <td>2023-04-29</td>\n",
       "      <td>MAD</td>\n",
       "      <td>PIT</td>\n",
       "      <td>https://www.backend.audlstats.com/stats-pages/...</td>\n",
       "      <td>True</td>\n",
       "      <td>False</td>\n",
       "    </tr>\n",
       "  </tbody>\n",
       "</table>\n",
       "</div>"
      ],
      "text/plain": [
       "   year   game_date away_team home_team  \\\n",
       "0  2023  2023-04-28       SEA       SLC   \n",
       "1  2023  2023-04-29       ATX       HTX   \n",
       "2  2023  2023-04-29        DC       CAR   \n",
       "3  2023  2023-04-29       IND       ATL   \n",
       "4  2023  2023-04-29       MAD       PIT   \n",
       "\n",
       "                                                 url  events_exist  playoffs  \n",
       "0  https://www.backend.audlstats.com/stats-pages/...          True     False  \n",
       "1  https://www.backend.audlstats.com/stats-pages/...          True     False  \n",
       "2  https://www.backend.audlstats.com/stats-pages/...          True     False  \n",
       "3  https://www.backend.audlstats.com/stats-pages/...          True     False  \n",
       "4  https://www.backend.audlstats.com/stats-pages/...          True     False  "
      ]
     },
     "execution_count": 12,
     "metadata": {},
     "output_type": "execute_result"
    }
   ],
   "source": [
    "%%time\n",
    "# Get all scheduled games and whether or not they've been played yet\n",
    "s.get_game_info(keep_all_years=True).head()"
   ]
  },
  {
   "cell_type": "code",
   "execution_count": 13,
   "metadata": {},
   "outputs": [
    {
     "data": {
      "text/plain": [
       "game_id  team_id\n",
       "2976     37          5\n",
       "2965     16          8\n",
       "2976     14          8\n",
       "2845     17          8\n",
       "2842     23          8\n",
       "                    ..\n",
       "2850     3          33\n",
       "2855     12         33\n",
       "2916     39         34\n",
       "2674     11         34\n",
       "2932     21         36\n",
       "Length: 764, dtype: int64"
      ]
     },
     "execution_count": 13,
     "metadata": {},
     "output_type": "execute_result"
    }
   ],
   "source": [
    "s.get_games().query(\"t==22\").groupby([\"game_id\", \"team_id\"]).size().sort_values()"
   ]
  },
  {
   "cell_type": "code",
   "execution_count": 56,
   "metadata": {},
   "outputs": [
    {
     "data": {
      "text/plain": [
       "Series([], Name: t_after, dtype: int64)"
      ]
     },
     "execution_count": 56,
     "metadata": {},
     "output_type": "execute_result"
    }
   ],
   "source": [
    "(\n",
    "    s.get_games()\n",
    "    .query(\"event_name==['In-bounds Pull', 'Out-of-bounds Pull']\")\n",
    "    [\"t_after\"].value_counts()\n",
    ")"
   ]
  },
  {
   "cell_type": "code",
   "execution_count": 34,
   "metadata": {},
   "outputs": [
    {
     "data": {
      "text/html": [
       "<div>\n",
       "<style scoped>\n",
       "    .dataframe tbody tr th:only-of-type {\n",
       "        vertical-align: middle;\n",
       "    }\n",
       "\n",
       "    .dataframe tbody tr th {\n",
       "        vertical-align: top;\n",
       "    }\n",
       "\n",
       "    .dataframe thead tr th {\n",
       "        text-align: left;\n",
       "    }\n",
       "</style>\n",
       "<table border=\"1\" class=\"dataframe\">\n",
       "  <thead>\n",
       "    <tr>\n",
       "      <th></th>\n",
       "      <th>year</th>\n",
       "      <th colspan=\"4\" halign=\"left\">first_possession_score_pct</th>\n",
       "    </tr>\n",
       "    <tr>\n",
       "      <th>event_name</th>\n",
       "      <th></th>\n",
       "      <th>In-bounds Pull Before Brick</th>\n",
       "      <th>In-bounds Pull: Brick to End Zone</th>\n",
       "      <th>In-bounds Pull: In End Zone</th>\n",
       "      <th>Out-of-bounds Pull</th>\n",
       "    </tr>\n",
       "  </thead>\n",
       "  <tbody>\n",
       "    <tr>\n",
       "      <th>0</th>\n",
       "      <td>2021</td>\n",
       "      <td>0.518201</td>\n",
       "      <td>0.534173</td>\n",
       "      <td>0.530885</td>\n",
       "      <td>0.554688</td>\n",
       "    </tr>\n",
       "    <tr>\n",
       "      <th>1</th>\n",
       "      <td>2022</td>\n",
       "      <td>0.559854</td>\n",
       "      <td>0.543275</td>\n",
       "      <td>0.518610</td>\n",
       "      <td>0.539130</td>\n",
       "    </tr>\n",
       "    <tr>\n",
       "      <th>2</th>\n",
       "      <td>2023</td>\n",
       "      <td>0.491713</td>\n",
       "      <td>0.514706</td>\n",
       "      <td>0.477499</td>\n",
       "      <td>0.542435</td>\n",
       "    </tr>\n",
       "  </tbody>\n",
       "</table>\n",
       "</div>"
      ],
      "text/plain": [
       "            year  first_possession_score_pct  \\\n",
       "event_name       In-bounds Pull Before Brick   \n",
       "0           2021                    0.518201   \n",
       "1           2022                    0.559854   \n",
       "2           2023                    0.491713   \n",
       "\n",
       "                                                                          \\\n",
       "event_name In-bounds Pull: Brick to End Zone In-bounds Pull: In End Zone   \n",
       "0                                   0.534173                    0.530885   \n",
       "1                                   0.543275                    0.518610   \n",
       "2                                   0.514706                    0.477499   \n",
       "\n",
       "                               \n",
       "event_name Out-of-bounds Pull  \n",
       "0                    0.554688  \n",
       "1                    0.539130  \n",
       "2                    0.542435  "
      ]
     },
     "execution_count": 34,
     "metadata": {},
     "output_type": "execute_result"
    }
   ],
   "source": [
    "import numpy as np\n",
    "(\n",
    "    s.get_games()\n",
    "    .query(\"event_name==['In-bounds Pull', 'Out-of-bounds Pull']\")\n",
    "    .query(\"possession_outcome_general==['Score', 'Turnover']\")\n",
    "    .assign(event_name=lambda x: np.where(\n",
    "        (x[\"y_after\"]>100) & (x[\"event_name\"]==\"In-bounds Pull\"),\n",
    "        \"In-bounds Pull: In End Zone\",\n",
    "        x[\"event_name\"]\n",
    "    ))\n",
    "    .assign(event_name=lambda x: np.where(\n",
    "        (x[\"y_after\"]>80) & (x[\"y_after\"]<=100) & (x[\"event_name\"]==\"In-bounds Pull\"),\n",
    "        \"In-bounds Pull: Brick to End Zone\",\n",
    "        x[\"event_name\"]\n",
    "    ))\n",
    "    .assign(event_name=lambda x: np.where(\n",
    "        (x[\"y_after\"]<=80) & (x[\"event_name\"]==\"In-bounds Pull\"),\n",
    "        \"In-bounds Pull Before Brick\",\n",
    "        x[\"event_name\"]\n",
    "    ))\n",
    "    .groupby([\"year\", \"event_name\", \"possession_outcome_general\"])\n",
    "    .size()\n",
    "    .groupby(level=[0,1])\n",
    "    .apply(lambda x: x/x.sum())\n",
    "    .rename(\"first_possession_score_pct\")\n",
    "    .reset_index()\n",
    "    .assign(year=lambda x: x[\"year\"].astype(int))\n",
    "    .query(\"possession_outcome_general=='Score'\")\n",
    "    .drop(columns=[\"possession_outcome_general\"])\n",
    "    .set_index([\"year\", \"event_name\"])\n",
    "    .unstack(level=[\"event_name\"])\n",
    "    .reset_index()\n",
    ")"
   ]
  },
  {
   "cell_type": "code",
   "execution_count": 40,
   "metadata": {},
   "outputs": [
    {
     "data": {
      "text/html": [
       "<div>\n",
       "<style scoped>\n",
       "    .dataframe tbody tr th:only-of-type {\n",
       "        vertical-align: middle;\n",
       "    }\n",
       "\n",
       "    .dataframe tbody tr th {\n",
       "        vertical-align: top;\n",
       "    }\n",
       "\n",
       "    .dataframe thead tr th {\n",
       "        text-align: left;\n",
       "    }\n",
       "</style>\n",
       "<table border=\"1\" class=\"dataframe\">\n",
       "  <thead>\n",
       "    <tr>\n",
       "      <th></th>\n",
       "      <th>year</th>\n",
       "      <th colspan=\"4\" halign=\"left\">pct_of_pulls</th>\n",
       "    </tr>\n",
       "    <tr>\n",
       "      <th>event_name</th>\n",
       "      <th></th>\n",
       "      <th>In-bounds Pull Before Brick</th>\n",
       "      <th>In-bounds Pull: Brick to End Zone</th>\n",
       "      <th>In-bounds Pull: In End Zone</th>\n",
       "      <th>Out-of-bounds Pull</th>\n",
       "    </tr>\n",
       "  </thead>\n",
       "  <tbody>\n",
       "    <tr>\n",
       "      <th>0</th>\n",
       "      <td>2021</td>\n",
       "      <td>0.243103</td>\n",
       "      <td>0.482388</td>\n",
       "      <td>0.207878</td>\n",
       "      <td>0.066632</td>\n",
       "    </tr>\n",
       "    <tr>\n",
       "      <th>1</th>\n",
       "      <td>2022</td>\n",
       "      <td>0.194133</td>\n",
       "      <td>0.455151</td>\n",
       "      <td>0.285532</td>\n",
       "      <td>0.065184</td>\n",
       "    </tr>\n",
       "    <tr>\n",
       "      <th>2</th>\n",
       "      <td>2023</td>\n",
       "      <td>0.150624</td>\n",
       "      <td>0.188627</td>\n",
       "      <td>0.585576</td>\n",
       "      <td>0.075173</td>\n",
       "    </tr>\n",
       "  </tbody>\n",
       "</table>\n",
       "</div>"
      ],
      "text/plain": [
       "            year                pct_of_pulls  \\\n",
       "event_name       In-bounds Pull Before Brick   \n",
       "0           2021                    0.243103   \n",
       "1           2022                    0.194133   \n",
       "2           2023                    0.150624   \n",
       "\n",
       "                                                                          \\\n",
       "event_name In-bounds Pull: Brick to End Zone In-bounds Pull: In End Zone   \n",
       "0                                   0.482388                    0.207878   \n",
       "1                                   0.455151                    0.285532   \n",
       "2                                   0.188627                    0.585576   \n",
       "\n",
       "                               \n",
       "event_name Out-of-bounds Pull  \n",
       "0                    0.066632  \n",
       "1                    0.065184  \n",
       "2                    0.075173  "
      ]
     },
     "execution_count": 40,
     "metadata": {},
     "output_type": "execute_result"
    }
   ],
   "source": [
    "import numpy as np\n",
    "pull_pct = (\n",
    "    s.get_games()\n",
    "    .query(\"event_name==['In-bounds Pull', 'Out-of-bounds Pull']\")\n",
    "    .query(\"possession_outcome_general==['Score', 'Turnover']\")\n",
    "    .assign(event_name=lambda x: np.where(\n",
    "        (x[\"y_after\"]>100) & (x[\"event_name\"]==\"In-bounds Pull\"),\n",
    "        \"In-bounds Pull: In End Zone\",\n",
    "        x[\"event_name\"]\n",
    "    ))\n",
    "    .assign(event_name=lambda x: np.where(\n",
    "        (x[\"y_after\"]>80) & (x[\"y_after\"]<=100) & (x[\"event_name\"]==\"In-bounds Pull\"),\n",
    "        \"In-bounds Pull: Brick to End Zone\",\n",
    "        x[\"event_name\"]\n",
    "    ))\n",
    "    .assign(event_name=lambda x: np.where(\n",
    "        (x[\"y_after\"]<=80) & (x[\"event_name\"]==\"In-bounds Pull\"),\n",
    "        \"In-bounds Pull Before Brick\",\n",
    "        x[\"event_name\"]\n",
    "    ))\n",
    "    .groupby([\"year\", \"event_name\"])\n",
    "    .size()\n",
    "    .groupby(level=[0])\n",
    "    .apply(lambda x: x/x.sum())\n",
    "    .rename(\"pct_of_pulls\")\n",
    "    .reset_index()\n",
    "    .assign(year=lambda x: x[\"year\"].astype(int))\n",
    "    # .query(\"possession_outcome_general=='Score'\")\n",
    "    # .drop(columns=[\"possession_outcome_general\"])\n",
    "    .set_index([\"year\", \"event_name\"])\n",
    "    .unstack(level=[\"event_name\"])\n",
    "    .reset_index()\n",
    "    # .transform(lambda x: '{:,.2%}'.format(x))\n",
    ")\n",
    "pull_pct"
   ]
  },
  {
   "cell_type": "code",
   "execution_count": 14,
   "metadata": {},
   "outputs": [
    {
     "name": "stdout",
     "output_type": "stream",
     "text": [
      "CPU times: user 107 µs, sys: 91 µs, total: 198 µs\n",
      "Wall time: 209 µs\n"
     ]
    },
    {
     "data": {
      "text/html": [
       "<div>\n",
       "<style scoped>\n",
       "    .dataframe tbody tr th:only-of-type {\n",
       "        vertical-align: middle;\n",
       "    }\n",
       "\n",
       "    .dataframe tbody tr th {\n",
       "        vertical-align: top;\n",
       "    }\n",
       "\n",
       "    .dataframe thead th {\n",
       "        text-align: right;\n",
       "    }\n",
       "</style>\n",
       "<table border=\"1\" class=\"dataframe\">\n",
       "  <thead>\n",
       "    <tr style=\"text-align: right;\">\n",
       "      <th></th>\n",
       "      <th>t</th>\n",
       "      <th>r</th>\n",
       "      <th>x</th>\n",
       "      <th>y</th>\n",
       "      <th>s</th>\n",
       "      <th>q</th>\n",
       "      <th>year</th>\n",
       "      <th>game_id</th>\n",
       "      <th>team_id</th>\n",
       "      <th>opponent_team_id</th>\n",
       "      <th>...</th>\n",
       "      <th>9607</th>\n",
       "      <th>8851</th>\n",
       "      <th>9307</th>\n",
       "      <th>8849</th>\n",
       "      <th>9202</th>\n",
       "      <th>9724</th>\n",
       "      <th>9725</th>\n",
       "      <th>9726</th>\n",
       "      <th>9727</th>\n",
       "      <th>9340</th>\n",
       "    </tr>\n",
       "  </thead>\n",
       "  <tbody>\n",
       "    <tr>\n",
       "      <th>0</th>\n",
       "      <td>50</td>\n",
       "      <td>NaN</td>\n",
       "      <td>NaN</td>\n",
       "      <td>NaN</td>\n",
       "      <td>720.0</td>\n",
       "      <td>NaN</td>\n",
       "      <td>2023.0</td>\n",
       "      <td>3097</td>\n",
       "      <td>40</td>\n",
       "      <td>22</td>\n",
       "      <td>...</td>\n",
       "      <td>NaN</td>\n",
       "      <td>NaN</td>\n",
       "      <td>NaN</td>\n",
       "      <td>NaN</td>\n",
       "      <td>NaN</td>\n",
       "      <td>NaN</td>\n",
       "      <td>NaN</td>\n",
       "      <td>NaN</td>\n",
       "      <td>NaN</td>\n",
       "      <td>NaN</td>\n",
       "    </tr>\n",
       "    <tr>\n",
       "      <th>1</th>\n",
       "      <td>1</td>\n",
       "      <td>NaN</td>\n",
       "      <td>NaN</td>\n",
       "      <td>NaN</td>\n",
       "      <td>NaN</td>\n",
       "      <td>NaN</td>\n",
       "      <td>2023.0</td>\n",
       "      <td>3097</td>\n",
       "      <td>40</td>\n",
       "      <td>22</td>\n",
       "      <td>...</td>\n",
       "      <td>NaN</td>\n",
       "      <td>NaN</td>\n",
       "      <td>NaN</td>\n",
       "      <td>NaN</td>\n",
       "      <td>NaN</td>\n",
       "      <td>NaN</td>\n",
       "      <td>NaN</td>\n",
       "      <td>NaN</td>\n",
       "      <td>NaN</td>\n",
       "      <td>NaN</td>\n",
       "    </tr>\n",
       "    <tr>\n",
       "      <th>2</th>\n",
       "      <td>20</td>\n",
       "      <td>11413.0</td>\n",
       "      <td>0.00</td>\n",
       "      <td>40.00</td>\n",
       "      <td>NaN</td>\n",
       "      <td>NaN</td>\n",
       "      <td>2023.0</td>\n",
       "      <td>3097</td>\n",
       "      <td>40</td>\n",
       "      <td>22</td>\n",
       "      <td>...</td>\n",
       "      <td>NaN</td>\n",
       "      <td>NaN</td>\n",
       "      <td>NaN</td>\n",
       "      <td>NaN</td>\n",
       "      <td>NaN</td>\n",
       "      <td>NaN</td>\n",
       "      <td>NaN</td>\n",
       "      <td>NaN</td>\n",
       "      <td>NaN</td>\n",
       "      <td>NaN</td>\n",
       "    </tr>\n",
       "    <tr>\n",
       "      <th>3</th>\n",
       "      <td>20</td>\n",
       "      <td>11421.0</td>\n",
       "      <td>-0.21</td>\n",
       "      <td>50.99</td>\n",
       "      <td>NaN</td>\n",
       "      <td>NaN</td>\n",
       "      <td>2023.0</td>\n",
       "      <td>3097</td>\n",
       "      <td>40</td>\n",
       "      <td>22</td>\n",
       "      <td>...</td>\n",
       "      <td>NaN</td>\n",
       "      <td>NaN</td>\n",
       "      <td>NaN</td>\n",
       "      <td>NaN</td>\n",
       "      <td>NaN</td>\n",
       "      <td>NaN</td>\n",
       "      <td>NaN</td>\n",
       "      <td>NaN</td>\n",
       "      <td>NaN</td>\n",
       "      <td>NaN</td>\n",
       "    </tr>\n",
       "    <tr>\n",
       "      <th>4</th>\n",
       "      <td>20</td>\n",
       "      <td>11413.0</td>\n",
       "      <td>-9.14</td>\n",
       "      <td>48.74</td>\n",
       "      <td>NaN</td>\n",
       "      <td>NaN</td>\n",
       "      <td>2023.0</td>\n",
       "      <td>3097</td>\n",
       "      <td>40</td>\n",
       "      <td>22</td>\n",
       "      <td>...</td>\n",
       "      <td>NaN</td>\n",
       "      <td>NaN</td>\n",
       "      <td>NaN</td>\n",
       "      <td>NaN</td>\n",
       "      <td>NaN</td>\n",
       "      <td>NaN</td>\n",
       "      <td>NaN</td>\n",
       "      <td>NaN</td>\n",
       "      <td>NaN</td>\n",
       "      <td>NaN</td>\n",
       "    </tr>\n",
       "  </tbody>\n",
       "</table>\n",
       "<p>5 rows × 2398 columns</p>\n",
       "</div>"
      ],
      "text/plain": [
       "    t        r     x      y      s   q    year  game_id  team_id  \\\n",
       "0  50      NaN   NaN    NaN  720.0 NaN  2023.0     3097       40   \n",
       "1   1      NaN   NaN    NaN    NaN NaN  2023.0     3097       40   \n",
       "2  20  11413.0  0.00  40.00    NaN NaN  2023.0     3097       40   \n",
       "3  20  11421.0 -0.21  50.99    NaN NaN  2023.0     3097       40   \n",
       "4  20  11413.0 -9.14  48.74    NaN NaN  2023.0     3097       40   \n",
       "\n",
       "   opponent_team_id  ...  9607 8851  9307  8849  9202  9724  9725 9726 9727  \\\n",
       "0                22  ...   NaN  NaN   NaN   NaN   NaN   NaN   NaN  NaN  NaN   \n",
       "1                22  ...   NaN  NaN   NaN   NaN   NaN   NaN   NaN  NaN  NaN   \n",
       "2                22  ...   NaN  NaN   NaN   NaN   NaN   NaN   NaN  NaN  NaN   \n",
       "3                22  ...   NaN  NaN   NaN   NaN   NaN   NaN   NaN  NaN  NaN   \n",
       "4                22  ...   NaN  NaN   NaN   NaN   NaN   NaN   NaN  NaN  NaN   \n",
       "\n",
       "  9340  \n",
       "0  NaN  \n",
       "1  NaN  \n",
       "2  NaN  \n",
       "3  NaN  \n",
       "4  NaN  \n",
       "\n",
       "[5 rows x 2398 columns]"
      ]
     },
     "execution_count": 14,
     "metadata": {},
     "output_type": "execute_result"
    }
   ],
   "source": [
    "%%time\n",
    "# Compile all processed game data into a single dataframe\n",
    "s.get_games().head()"
   ]
  },
  {
   "cell_type": "code",
   "execution_count": 15,
   "metadata": {},
   "outputs": [
    {
     "name": "stdout",
     "output_type": "stream",
     "text": [
      "CPU times: user 1min 45s, sys: 2.58 s, total: 1min 48s\n",
      "Wall time: 1min 46s\n"
     ]
    },
    {
     "data": {
      "text/html": [
       "<div>\n",
       "<style scoped>\n",
       "    .dataframe tbody tr th:only-of-type {\n",
       "        vertical-align: middle;\n",
       "    }\n",
       "\n",
       "    .dataframe tbody tr th {\n",
       "        vertical-align: top;\n",
       "    }\n",
       "\n",
       "    .dataframe thead th {\n",
       "        text-align: right;\n",
       "    }\n",
       "</style>\n",
       "<table border=\"1\" class=\"dataframe\">\n",
       "  <thead>\n",
       "    <tr style=\"text-align: right;\">\n",
       "      <th></th>\n",
       "      <th>year</th>\n",
       "      <th>game_date</th>\n",
       "      <th>away_team</th>\n",
       "      <th>home_team</th>\n",
       "      <th>url</th>\n",
       "      <th>events_exist</th>\n",
       "      <th>playoffs</th>\n",
       "      <th>not_seven_players_home</th>\n",
       "      <th>not_seven_players_away</th>\n",
       "      <th>not_seven_players_home_raw</th>\n",
       "      <th>not_seven_players_away_raw</th>\n",
       "      <th>negative_elapsed_home</th>\n",
       "      <th>negative_elapsed_away</th>\n",
       "      <th>negative_time_home_raw</th>\n",
       "      <th>negative_time_away_raw</th>\n",
       "      <th>no_event_label_home</th>\n",
       "      <th>no_event_label_away</th>\n",
       "      <th>data_labels_home_raw</th>\n",
       "      <th>data_labels_away_raw</th>\n",
       "    </tr>\n",
       "  </thead>\n",
       "  <tbody>\n",
       "    <tr>\n",
       "      <th>0</th>\n",
       "      <td>2023</td>\n",
       "      <td>2023-04-28</td>\n",
       "      <td>SEA</td>\n",
       "      <td>SLC</td>\n",
       "      <td>https://www.backend.audlstats.com/stats-pages/...</td>\n",
       "      <td>True</td>\n",
       "      <td>False</td>\n",
       "      <td>0</td>\n",
       "      <td>0</td>\n",
       "      <td>0</td>\n",
       "      <td>0</td>\n",
       "      <td>3</td>\n",
       "      <td>0</td>\n",
       "      <td>1</td>\n",
       "      <td>0</td>\n",
       "      <td>[]</td>\n",
       "      <td>[]</td>\n",
       "      <td>[l, ms, q, r, s, t, x, y]</td>\n",
       "      <td>[h, l, ms, q, r, s, t, x, y]</td>\n",
       "    </tr>\n",
       "    <tr>\n",
       "      <th>1</th>\n",
       "      <td>2023</td>\n",
       "      <td>2023-04-29</td>\n",
       "      <td>ATX</td>\n",
       "      <td>HTX</td>\n",
       "      <td>https://www.backend.audlstats.com/stats-pages/...</td>\n",
       "      <td>True</td>\n",
       "      <td>False</td>\n",
       "      <td>1</td>\n",
       "      <td>0</td>\n",
       "      <td>0</td>\n",
       "      <td>0</td>\n",
       "      <td>0</td>\n",
       "      <td>0</td>\n",
       "      <td>0</td>\n",
       "      <td>0</td>\n",
       "      <td>[]</td>\n",
       "      <td>[]</td>\n",
       "      <td>[l, ms, q, r, s, t, x, y]</td>\n",
       "      <td>[c, l, ms, r, s, t, x, y]</td>\n",
       "    </tr>\n",
       "    <tr>\n",
       "      <th>2</th>\n",
       "      <td>2023</td>\n",
       "      <td>2023-04-29</td>\n",
       "      <td>DC</td>\n",
       "      <td>CAR</td>\n",
       "      <td>https://www.backend.audlstats.com/stats-pages/...</td>\n",
       "      <td>True</td>\n",
       "      <td>False</td>\n",
       "      <td>0</td>\n",
       "      <td>0</td>\n",
       "      <td>0</td>\n",
       "      <td>0</td>\n",
       "      <td>1</td>\n",
       "      <td>0</td>\n",
       "      <td>0</td>\n",
       "      <td>0</td>\n",
       "      <td>[]</td>\n",
       "      <td>[]</td>\n",
       "      <td>[l, ms, q, r, s, t, x, y]</td>\n",
       "      <td>[h, l, ms, q, r, s, t, x, y]</td>\n",
       "    </tr>\n",
       "    <tr>\n",
       "      <th>3</th>\n",
       "      <td>2023</td>\n",
       "      <td>2023-04-29</td>\n",
       "      <td>IND</td>\n",
       "      <td>ATL</td>\n",
       "      <td>https://www.backend.audlstats.com/stats-pages/...</td>\n",
       "      <td>True</td>\n",
       "      <td>False</td>\n",
       "      <td>0</td>\n",
       "      <td>0</td>\n",
       "      <td>0</td>\n",
       "      <td>0</td>\n",
       "      <td>0</td>\n",
       "      <td>1</td>\n",
       "      <td>0</td>\n",
       "      <td>0</td>\n",
       "      <td>[]</td>\n",
       "      <td>[]</td>\n",
       "      <td>[c, l, ms, r, s, t, x, y]</td>\n",
       "      <td>[l, ms, r, s, t, x, y]</td>\n",
       "    </tr>\n",
       "    <tr>\n",
       "      <th>4</th>\n",
       "      <td>2023</td>\n",
       "      <td>2023-04-29</td>\n",
       "      <td>MAD</td>\n",
       "      <td>PIT</td>\n",
       "      <td>https://www.backend.audlstats.com/stats-pages/...</td>\n",
       "      <td>True</td>\n",
       "      <td>False</td>\n",
       "      <td>0</td>\n",
       "      <td>0</td>\n",
       "      <td>0</td>\n",
       "      <td>0</td>\n",
       "      <td>0</td>\n",
       "      <td>0</td>\n",
       "      <td>0</td>\n",
       "      <td>0</td>\n",
       "      <td>[]</td>\n",
       "      <td>[]</td>\n",
       "      <td>[c, l, ms, r, s, t, x, y]</td>\n",
       "      <td>[c, h, l, ms, r, s, t, x, y]</td>\n",
       "    </tr>\n",
       "    <tr>\n",
       "      <th>...</th>\n",
       "      <td>...</td>\n",
       "      <td>...</td>\n",
       "      <td>...</td>\n",
       "      <td>...</td>\n",
       "      <td>...</td>\n",
       "      <td>...</td>\n",
       "      <td>...</td>\n",
       "      <td>...</td>\n",
       "      <td>...</td>\n",
       "      <td>...</td>\n",
       "      <td>...</td>\n",
       "      <td>...</td>\n",
       "      <td>...</td>\n",
       "      <td>...</td>\n",
       "      <td>...</td>\n",
       "      <td>...</td>\n",
       "      <td>...</td>\n",
       "      <td>...</td>\n",
       "      <td>...</td>\n",
       "    </tr>\n",
       "    <tr>\n",
       "      <th>377</th>\n",
       "      <td>2021</td>\n",
       "      <td>2021-09-04</td>\n",
       "      <td>TOR</td>\n",
       "      <td>OTT</td>\n",
       "      <td>https://www.backend.audlstats.com/stats-pages/...</td>\n",
       "      <td>True</td>\n",
       "      <td>False</td>\n",
       "      <td>1</td>\n",
       "      <td>0</td>\n",
       "      <td>0</td>\n",
       "      <td>0</td>\n",
       "      <td>0</td>\n",
       "      <td>0</td>\n",
       "      <td>0</td>\n",
       "      <td>0</td>\n",
       "      <td>[]</td>\n",
       "      <td>[]</td>\n",
       "      <td>[c, h, l, ms, r, s, t, x, y]</td>\n",
       "      <td>[c, l, ms, r, s, t, x, y]</td>\n",
       "    </tr>\n",
       "    <tr>\n",
       "      <th>378</th>\n",
       "      <td>2021</td>\n",
       "      <td>2021-09-09</td>\n",
       "      <td>TOR</td>\n",
       "      <td>MTL</td>\n",
       "      <td>https://www.backend.audlstats.com/stats-pages/...</td>\n",
       "      <td>True</td>\n",
       "      <td>True</td>\n",
       "      <td>0</td>\n",
       "      <td>0</td>\n",
       "      <td>0</td>\n",
       "      <td>0</td>\n",
       "      <td>0</td>\n",
       "      <td>0</td>\n",
       "      <td>0</td>\n",
       "      <td>0</td>\n",
       "      <td>[]</td>\n",
       "      <td>[]</td>\n",
       "      <td>[l, ms, r, s, t, x, y]</td>\n",
       "      <td>[l, ms, r, s, t, x, y]</td>\n",
       "    </tr>\n",
       "    <tr>\n",
       "      <th>379</th>\n",
       "      <td>2021</td>\n",
       "      <td>2021-09-10</td>\n",
       "      <td>RAL</td>\n",
       "      <td>CHI</td>\n",
       "      <td>https://www.backend.audlstats.com/stats-pages/...</td>\n",
       "      <td>True</td>\n",
       "      <td>True</td>\n",
       "      <td>0</td>\n",
       "      <td>0</td>\n",
       "      <td>0</td>\n",
       "      <td>0</td>\n",
       "      <td>0</td>\n",
       "      <td>0</td>\n",
       "      <td>0</td>\n",
       "      <td>0</td>\n",
       "      <td>[]</td>\n",
       "      <td>[]</td>\n",
       "      <td>[c, l, lr, ms, o, r, s, t, x, y]</td>\n",
       "      <td>[c, h, l, lr, ms, o, q, r, s, t, x, y]</td>\n",
       "    </tr>\n",
       "    <tr>\n",
       "      <th>380</th>\n",
       "      <td>2021</td>\n",
       "      <td>2021-09-10</td>\n",
       "      <td>SD</td>\n",
       "      <td>NY</td>\n",
       "      <td>https://www.backend.audlstats.com/stats-pages/...</td>\n",
       "      <td>True</td>\n",
       "      <td>True</td>\n",
       "      <td>0</td>\n",
       "      <td>0</td>\n",
       "      <td>0</td>\n",
       "      <td>0</td>\n",
       "      <td>0</td>\n",
       "      <td>0</td>\n",
       "      <td>0</td>\n",
       "      <td>0</td>\n",
       "      <td>[]</td>\n",
       "      <td>[]</td>\n",
       "      <td>[l, ms, r, s, t, x, y]</td>\n",
       "      <td>[c, l, ms, r, s, t, x, y]</td>\n",
       "    </tr>\n",
       "    <tr>\n",
       "      <th>381</th>\n",
       "      <td>2021</td>\n",
       "      <td>2021-09-11</td>\n",
       "      <td>RAL</td>\n",
       "      <td>NY</td>\n",
       "      <td>https://www.backend.audlstats.com/stats-pages/...</td>\n",
       "      <td>True</td>\n",
       "      <td>True</td>\n",
       "      <td>0</td>\n",
       "      <td>0</td>\n",
       "      <td>0</td>\n",
       "      <td>0</td>\n",
       "      <td>0</td>\n",
       "      <td>0</td>\n",
       "      <td>0</td>\n",
       "      <td>0</td>\n",
       "      <td>[]</td>\n",
       "      <td>[]</td>\n",
       "      <td>[c, l, ms, r, s, t, x, y]</td>\n",
       "      <td>[c, h, l, ms, q, r, s, t, x, y]</td>\n",
       "    </tr>\n",
       "  </tbody>\n",
       "</table>\n",
       "<p>382 rows × 19 columns</p>\n",
       "</div>"
      ],
      "text/plain": [
       "     year   game_date away_team home_team  \\\n",
       "0    2023  2023-04-28       SEA       SLC   \n",
       "1    2023  2023-04-29       ATX       HTX   \n",
       "2    2023  2023-04-29        DC       CAR   \n",
       "3    2023  2023-04-29       IND       ATL   \n",
       "4    2023  2023-04-29       MAD       PIT   \n",
       "..    ...         ...       ...       ...   \n",
       "377  2021  2021-09-04       TOR       OTT   \n",
       "378  2021  2021-09-09       TOR       MTL   \n",
       "379  2021  2021-09-10       RAL       CHI   \n",
       "380  2021  2021-09-10        SD        NY   \n",
       "381  2021  2021-09-11       RAL        NY   \n",
       "\n",
       "                                                   url  events_exist  \\\n",
       "0    https://www.backend.audlstats.com/stats-pages/...          True   \n",
       "1    https://www.backend.audlstats.com/stats-pages/...          True   \n",
       "2    https://www.backend.audlstats.com/stats-pages/...          True   \n",
       "3    https://www.backend.audlstats.com/stats-pages/...          True   \n",
       "4    https://www.backend.audlstats.com/stats-pages/...          True   \n",
       "..                                                 ...           ...   \n",
       "377  https://www.backend.audlstats.com/stats-pages/...          True   \n",
       "378  https://www.backend.audlstats.com/stats-pages/...          True   \n",
       "379  https://www.backend.audlstats.com/stats-pages/...          True   \n",
       "380  https://www.backend.audlstats.com/stats-pages/...          True   \n",
       "381  https://www.backend.audlstats.com/stats-pages/...          True   \n",
       "\n",
       "     playoffs  not_seven_players_home  not_seven_players_away  \\\n",
       "0       False                       0                       0   \n",
       "1       False                       1                       0   \n",
       "2       False                       0                       0   \n",
       "3       False                       0                       0   \n",
       "4       False                       0                       0   \n",
       "..        ...                     ...                     ...   \n",
       "377     False                       1                       0   \n",
       "378      True                       0                       0   \n",
       "379      True                       0                       0   \n",
       "380      True                       0                       0   \n",
       "381      True                       0                       0   \n",
       "\n",
       "     not_seven_players_home_raw  not_seven_players_away_raw  \\\n",
       "0                             0                           0   \n",
       "1                             0                           0   \n",
       "2                             0                           0   \n",
       "3                             0                           0   \n",
       "4                             0                           0   \n",
       "..                          ...                         ...   \n",
       "377                           0                           0   \n",
       "378                           0                           0   \n",
       "379                           0                           0   \n",
       "380                           0                           0   \n",
       "381                           0                           0   \n",
       "\n",
       "     negative_elapsed_home  negative_elapsed_away  negative_time_home_raw  \\\n",
       "0                        3                      0                       1   \n",
       "1                        0                      0                       0   \n",
       "2                        1                      0                       0   \n",
       "3                        0                      1                       0   \n",
       "4                        0                      0                       0   \n",
       "..                     ...                    ...                     ...   \n",
       "377                      0                      0                       0   \n",
       "378                      0                      0                       0   \n",
       "379                      0                      0                       0   \n",
       "380                      0                      0                       0   \n",
       "381                      0                      0                       0   \n",
       "\n",
       "     negative_time_away_raw no_event_label_home no_event_label_away  \\\n",
       "0                         0                  []                  []   \n",
       "1                         0                  []                  []   \n",
       "2                         0                  []                  []   \n",
       "3                         0                  []                  []   \n",
       "4                         0                  []                  []   \n",
       "..                      ...                 ...                 ...   \n",
       "377                       0                  []                  []   \n",
       "378                       0                  []                  []   \n",
       "379                       0                  []                  []   \n",
       "380                       0                  []                  []   \n",
       "381                       0                  []                  []   \n",
       "\n",
       "                 data_labels_home_raw                    data_labels_away_raw  \n",
       "0           [l, ms, q, r, s, t, x, y]            [h, l, ms, q, r, s, t, x, y]  \n",
       "1           [l, ms, q, r, s, t, x, y]               [c, l, ms, r, s, t, x, y]  \n",
       "2           [l, ms, q, r, s, t, x, y]            [h, l, ms, q, r, s, t, x, y]  \n",
       "3           [c, l, ms, r, s, t, x, y]                  [l, ms, r, s, t, x, y]  \n",
       "4           [c, l, ms, r, s, t, x, y]            [c, h, l, ms, r, s, t, x, y]  \n",
       "..                                ...                                     ...  \n",
       "377      [c, h, l, ms, r, s, t, x, y]               [c, l, ms, r, s, t, x, y]  \n",
       "378            [l, ms, r, s, t, x, y]                  [l, ms, r, s, t, x, y]  \n",
       "379  [c, l, lr, ms, o, r, s, t, x, y]  [c, h, l, lr, ms, o, q, r, s, t, x, y]  \n",
       "380            [l, ms, r, s, t, x, y]               [c, l, ms, r, s, t, x, y]  \n",
       "381         [c, l, ms, r, s, t, x, y]         [c, h, l, ms, q, r, s, t, x, y]  \n",
       "\n",
       "[382 rows x 19 columns]"
      ]
     },
     "execution_count": 15,
     "metadata": {},
     "output_type": "execute_result"
    }
   ],
   "source": [
    "%%time\n",
    "# Get some basic QC info to determine where the raw data might be messed up\n",
    "# This will typically take at least ~2-3 minutes\n",
    "s.get_game_qc()"
   ]
  },
  {
   "cell_type": "code",
   "execution_count": 16,
   "metadata": {},
   "outputs": [
    {
     "name": "stderr",
     "output_type": "stream",
     "text": [
      "/Users/johnlithio/Documents/AUDL-Advanced-Stats/audl_advanced_stats/game.py:153: PerformanceWarning: DataFrame is highly fragmented.  This is usually the result of calling `frame.insert` many times, which has poor performance.  Consider joining all columns at once using pd.concat(axis=1) instead.  To get a de-fragmented frame, use `newframe = frame.copy()`\n",
      "  dfout[f\"receptions_{throw_type}_pct\"] = dfout[\n"
     ]
    },
    {
     "name": "stdout",
     "output_type": "stream",
     "text": [
      "CPU times: user 13min 28s, sys: 7.67 s, total: 13min 35s\n",
      "Wall time: 13min 37s\n"
     ]
    },
    {
     "data": {
      "text/html": [
       "<div>\n",
       "<style scoped>\n",
       "    .dataframe tbody tr th:only-of-type {\n",
       "        vertical-align: middle;\n",
       "    }\n",
       "\n",
       "    .dataframe tbody tr th {\n",
       "        vertical-align: top;\n",
       "    }\n",
       "\n",
       "    .dataframe thead th {\n",
       "        text-align: right;\n",
       "    }\n",
       "</style>\n",
       "<table border=\"1\" class=\"dataframe\">\n",
       "  <thead>\n",
       "    <tr style=\"text-align: right;\">\n",
       "      <th></th>\n",
       "      <th>player_season_id</th>\n",
       "      <th>playerid</th>\n",
       "      <th>name</th>\n",
       "      <th>team</th>\n",
       "      <th>opponent</th>\n",
       "      <th>game_date</th>\n",
       "      <th>year</th>\n",
       "      <th>playoffs</th>\n",
       "      <th>games</th>\n",
       "      <th>total_points</th>\n",
       "      <th>...</th>\n",
       "      <th>receptions_dump_pct</th>\n",
       "      <th>completion_huck_pct</th>\n",
       "      <th>attempts_huck_pct</th>\n",
       "      <th>receptions_huck_pct</th>\n",
       "      <th>completion_swing_pct</th>\n",
       "      <th>attempts_swing_pct</th>\n",
       "      <th>receptions_swing_pct</th>\n",
       "      <th>completion_throw_pct</th>\n",
       "      <th>attempts_throw_pct</th>\n",
       "      <th>receptions_throw_pct</th>\n",
       "    </tr>\n",
       "  </thead>\n",
       "  <tbody>\n",
       "    <tr>\n",
       "      <th>0</th>\n",
       "      <td>11406</td>\n",
       "      <td>2657</td>\n",
       "      <td>Jacob Miller</td>\n",
       "      <td>SLC</td>\n",
       "      <td>SEA</td>\n",
       "      <td>2023-04-28</td>\n",
       "      <td>2023.0</td>\n",
       "      <td>False</td>\n",
       "      <td>1.0</td>\n",
       "      <td>23.0</td>\n",
       "      <td>...</td>\n",
       "      <td>0.000000</td>\n",
       "      <td>NaN</td>\n",
       "      <td>0.000000</td>\n",
       "      <td>0.0</td>\n",
       "      <td>1.0</td>\n",
       "      <td>0.166667</td>\n",
       "      <td>0.210526</td>\n",
       "      <td>1.000000</td>\n",
       "      <td>0.566667</td>\n",
       "      <td>0.473684</td>\n",
       "    </tr>\n",
       "    <tr>\n",
       "      <th>1</th>\n",
       "      <td>11407</td>\n",
       "      <td>2985</td>\n",
       "      <td>Nathan Huff</td>\n",
       "      <td>SLC</td>\n",
       "      <td>SEA</td>\n",
       "      <td>2023-04-28</td>\n",
       "      <td>2023.0</td>\n",
       "      <td>False</td>\n",
       "      <td>1.0</td>\n",
       "      <td>19.0</td>\n",
       "      <td>...</td>\n",
       "      <td>0.125000</td>\n",
       "      <td>NaN</td>\n",
       "      <td>0.000000</td>\n",
       "      <td>0.0</td>\n",
       "      <td>1.0</td>\n",
       "      <td>0.125000</td>\n",
       "      <td>0.375000</td>\n",
       "      <td>1.000000</td>\n",
       "      <td>0.625000</td>\n",
       "      <td>0.250000</td>\n",
       "    </tr>\n",
       "    <tr>\n",
       "      <th>2</th>\n",
       "      <td>11408</td>\n",
       "      <td>2986</td>\n",
       "      <td>Luke Yorgason</td>\n",
       "      <td>SLC</td>\n",
       "      <td>SEA</td>\n",
       "      <td>2023-04-28</td>\n",
       "      <td>2023.0</td>\n",
       "      <td>False</td>\n",
       "      <td>1.0</td>\n",
       "      <td>20.0</td>\n",
       "      <td>...</td>\n",
       "      <td>0.166667</td>\n",
       "      <td>1.0</td>\n",
       "      <td>0.047619</td>\n",
       "      <td>0.0</td>\n",
       "      <td>1.0</td>\n",
       "      <td>0.095238</td>\n",
       "      <td>0.305556</td>\n",
       "      <td>0.965517</td>\n",
       "      <td>0.690476</td>\n",
       "      <td>0.305556</td>\n",
       "    </tr>\n",
       "    <tr>\n",
       "      <th>3</th>\n",
       "      <td>11410</td>\n",
       "      <td>2987</td>\n",
       "      <td>Devon Terry</td>\n",
       "      <td>SLC</td>\n",
       "      <td>SEA</td>\n",
       "      <td>2023-04-28</td>\n",
       "      <td>2023.0</td>\n",
       "      <td>False</td>\n",
       "      <td>1.0</td>\n",
       "      <td>9.0</td>\n",
       "      <td>...</td>\n",
       "      <td>0.000000</td>\n",
       "      <td>NaN</td>\n",
       "      <td>0.000000</td>\n",
       "      <td>0.0</td>\n",
       "      <td>NaN</td>\n",
       "      <td>0.000000</td>\n",
       "      <td>0.000000</td>\n",
       "      <td>NaN</td>\n",
       "      <td>0.000000</td>\n",
       "      <td>1.000000</td>\n",
       "    </tr>\n",
       "    <tr>\n",
       "      <th>4</th>\n",
       "      <td>11411</td>\n",
       "      <td>2988</td>\n",
       "      <td>Jensen Wells</td>\n",
       "      <td>SLC</td>\n",
       "      <td>SEA</td>\n",
       "      <td>2023-04-28</td>\n",
       "      <td>2023.0</td>\n",
       "      <td>False</td>\n",
       "      <td>1.0</td>\n",
       "      <td>14.0</td>\n",
       "      <td>...</td>\n",
       "      <td>0.000000</td>\n",
       "      <td>NaN</td>\n",
       "      <td>0.000000</td>\n",
       "      <td>0.0</td>\n",
       "      <td>1.0</td>\n",
       "      <td>0.125000</td>\n",
       "      <td>0.333333</td>\n",
       "      <td>1.000000</td>\n",
       "      <td>0.625000</td>\n",
       "      <td>0.166667</td>\n",
       "    </tr>\n",
       "  </tbody>\n",
       "</table>\n",
       "<p>5 rows × 222 columns</p>\n",
       "</div>"
      ],
      "text/plain": [
       "  player_season_id playerid           name team opponent   game_date    year  \\\n",
       "0            11406     2657   Jacob Miller  SLC      SEA  2023-04-28  2023.0   \n",
       "1            11407     2985    Nathan Huff  SLC      SEA  2023-04-28  2023.0   \n",
       "2            11408     2986  Luke Yorgason  SLC      SEA  2023-04-28  2023.0   \n",
       "3            11410     2987    Devon Terry  SLC      SEA  2023-04-28  2023.0   \n",
       "4            11411     2988   Jensen Wells  SLC      SEA  2023-04-28  2023.0   \n",
       "\n",
       "   playoffs  games  total_points  ...  receptions_dump_pct  \\\n",
       "0     False    1.0          23.0  ...             0.000000   \n",
       "1     False    1.0          19.0  ...             0.125000   \n",
       "2     False    1.0          20.0  ...             0.166667   \n",
       "3     False    1.0           9.0  ...             0.000000   \n",
       "4     False    1.0          14.0  ...             0.000000   \n",
       "\n",
       "   completion_huck_pct  attempts_huck_pct  receptions_huck_pct  \\\n",
       "0                  NaN           0.000000                  0.0   \n",
       "1                  NaN           0.000000                  0.0   \n",
       "2                  1.0           0.047619                  0.0   \n",
       "3                  NaN           0.000000                  0.0   \n",
       "4                  NaN           0.000000                  0.0   \n",
       "\n",
       "   completion_swing_pct  attempts_swing_pct  receptions_swing_pct  \\\n",
       "0                   1.0            0.166667              0.210526   \n",
       "1                   1.0            0.125000              0.375000   \n",
       "2                   1.0            0.095238              0.305556   \n",
       "3                   NaN            0.000000              0.000000   \n",
       "4                   1.0            0.125000              0.333333   \n",
       "\n",
       "   completion_throw_pct  attempts_throw_pct  receptions_throw_pct  \n",
       "0              1.000000            0.566667              0.473684  \n",
       "1              1.000000            0.625000              0.250000  \n",
       "2              0.965517            0.690476              0.305556  \n",
       "3                   NaN            0.000000              1.000000  \n",
       "4              1.000000            0.625000              0.166667  \n",
       "\n",
       "[5 rows x 222 columns]"
      ]
     },
     "execution_count": 16,
     "metadata": {},
     "output_type": "execute_result"
    }
   ],
   "source": [
    "%%time\n",
    "# Player stats for each separate game\n",
    "s.get_player_stats_by_game().head()"
   ]
  },
  {
   "cell_type": "code",
   "execution_count": 17,
   "metadata": {},
   "outputs": [
    {
     "name": "stdout",
     "output_type": "stream",
     "text": [
      "CPU times: user 83.8 ms, sys: 25.1 ms, total: 109 ms\n",
      "Wall time: 143 ms\n"
     ]
    },
    {
     "data": {
      "text/html": [
       "<div>\n",
       "<style scoped>\n",
       "    .dataframe tbody tr th:only-of-type {\n",
       "        vertical-align: middle;\n",
       "    }\n",
       "\n",
       "    .dataframe tbody tr th {\n",
       "        vertical-align: top;\n",
       "    }\n",
       "\n",
       "    .dataframe thead th {\n",
       "        text-align: right;\n",
       "    }\n",
       "</style>\n",
       "<table border=\"1\" class=\"dataframe\">\n",
       "  <thead>\n",
       "    <tr style=\"text-align: right;\">\n",
       "      <th></th>\n",
       "      <th>playerid</th>\n",
       "      <th>player_season_id</th>\n",
       "      <th>name</th>\n",
       "      <th>team</th>\n",
       "      <th>year</th>\n",
       "      <th>games</th>\n",
       "      <th>total_points</th>\n",
       "      <th>o_points</th>\n",
       "      <th>o_point_scores</th>\n",
       "      <th>o_point_noturns</th>\n",
       "      <th>...</th>\n",
       "      <th>receptions_dump_pct</th>\n",
       "      <th>completion_huck_pct</th>\n",
       "      <th>attempts_huck_pct</th>\n",
       "      <th>receptions_huck_pct</th>\n",
       "      <th>completion_swing_pct</th>\n",
       "      <th>attempts_swing_pct</th>\n",
       "      <th>receptions_swing_pct</th>\n",
       "      <th>completion_throw_pct</th>\n",
       "      <th>attempts_throw_pct</th>\n",
       "      <th>receptions_throw_pct</th>\n",
       "    </tr>\n",
       "  </thead>\n",
       "  <tbody>\n",
       "    <tr>\n",
       "      <th>1210</th>\n",
       "      <td>2639</td>\n",
       "      <td>10882</td>\n",
       "      <td>John Lithio</td>\n",
       "      <td>NY</td>\n",
       "      <td>2023.0</td>\n",
       "      <td>8.0</td>\n",
       "      <td>121.0</td>\n",
       "      <td>116.0</td>\n",
       "      <td>87.0</td>\n",
       "      <td>76.0</td>\n",
       "      <td>...</td>\n",
       "      <td>0.048611</td>\n",
       "      <td>0.666667</td>\n",
       "      <td>0.021127</td>\n",
       "      <td>0.027778</td>\n",
       "      <td>1.0</td>\n",
       "      <td>0.204225</td>\n",
       "      <td>0.138889</td>\n",
       "      <td>0.888889</td>\n",
       "      <td>0.380282</td>\n",
       "      <td>0.562500</td>\n",
       "    </tr>\n",
       "    <tr>\n",
       "      <th>1211</th>\n",
       "      <td>2639</td>\n",
       "      <td>9466</td>\n",
       "      <td>John Lithio</td>\n",
       "      <td>NY</td>\n",
       "      <td>2021.0</td>\n",
       "      <td>14.0</td>\n",
       "      <td>283.0</td>\n",
       "      <td>281.0</td>\n",
       "      <td>210.0</td>\n",
       "      <td>185.0</td>\n",
       "      <td>...</td>\n",
       "      <td>0.004202</td>\n",
       "      <td>0.500000</td>\n",
       "      <td>0.030612</td>\n",
       "      <td>0.016807</td>\n",
       "      <td>1.0</td>\n",
       "      <td>0.209184</td>\n",
       "      <td>0.025210</td>\n",
       "      <td>0.971429</td>\n",
       "      <td>0.357143</td>\n",
       "      <td>0.869748</td>\n",
       "    </tr>\n",
       "    <tr>\n",
       "      <th>1212</th>\n",
       "      <td>2639</td>\n",
       "      <td>9817</td>\n",
       "      <td>John Lithio</td>\n",
       "      <td>NY</td>\n",
       "      <td>2022.0</td>\n",
       "      <td>13.0</td>\n",
       "      <td>251.0</td>\n",
       "      <td>234.0</td>\n",
       "      <td>191.0</td>\n",
       "      <td>174.0</td>\n",
       "      <td>...</td>\n",
       "      <td>0.011538</td>\n",
       "      <td>0.666667</td>\n",
       "      <td>0.027778</td>\n",
       "      <td>0.026923</td>\n",
       "      <td>1.0</td>\n",
       "      <td>0.194444</td>\n",
       "      <td>0.084615</td>\n",
       "      <td>0.923077</td>\n",
       "      <td>0.421296</td>\n",
       "      <td>0.750000</td>\n",
       "    </tr>\n",
       "  </tbody>\n",
       "</table>\n",
       "<p>3 rows × 219 columns</p>\n",
       "</div>"
      ],
      "text/plain": [
       "     playerid player_season_id         name team    year  games  total_points  \\\n",
       "1210     2639            10882  John Lithio   NY  2023.0    8.0         121.0   \n",
       "1211     2639             9466  John Lithio   NY  2021.0   14.0         283.0   \n",
       "1212     2639             9817  John Lithio   NY  2022.0   13.0         251.0   \n",
       "\n",
       "      o_points  o_point_scores  o_point_noturns  ...  receptions_dump_pct  \\\n",
       "1210     116.0            87.0             76.0  ...             0.048611   \n",
       "1211     281.0           210.0            185.0  ...             0.004202   \n",
       "1212     234.0           191.0            174.0  ...             0.011538   \n",
       "\n",
       "      completion_huck_pct  attempts_huck_pct  receptions_huck_pct  \\\n",
       "1210             0.666667           0.021127             0.027778   \n",
       "1211             0.500000           0.030612             0.016807   \n",
       "1212             0.666667           0.027778             0.026923   \n",
       "\n",
       "      completion_swing_pct  attempts_swing_pct  receptions_swing_pct  \\\n",
       "1210                   1.0            0.204225              0.138889   \n",
       "1211                   1.0            0.209184              0.025210   \n",
       "1212                   1.0            0.194444              0.084615   \n",
       "\n",
       "      completion_throw_pct  attempts_throw_pct  receptions_throw_pct  \n",
       "1210              0.888889            0.380282              0.562500  \n",
       "1211              0.971429            0.357143              0.869748  \n",
       "1212              0.923077            0.421296              0.750000  \n",
       "\n",
       "[3 rows x 219 columns]"
      ]
     },
     "execution_count": 17,
     "metadata": {},
     "output_type": "execute_result"
    }
   ],
   "source": [
    "%%time\n",
    "# Aggregated player stats for the whole season\n",
    "s.get_player_stats_by_season().query(\"name=='John Lithio'\").head()"
   ]
  },
  {
   "cell_type": "code",
   "execution_count": 18,
   "metadata": {},
   "outputs": [
    {
     "data": {
      "text/html": [
       "<div>\n",
       "<style scoped>\n",
       "    .dataframe tbody tr th:only-of-type {\n",
       "        vertical-align: middle;\n",
       "    }\n",
       "\n",
       "    .dataframe tbody tr th {\n",
       "        vertical-align: top;\n",
       "    }\n",
       "\n",
       "    .dataframe thead th {\n",
       "        text-align: right;\n",
       "    }\n",
       "</style>\n",
       "<table border=\"1\" class=\"dataframe\">\n",
       "  <thead>\n",
       "    <tr style=\"text-align: right;\">\n",
       "      <th></th>\n",
       "      <th>year</th>\n",
       "      <th>game_id</th>\n",
       "      <th>team_id</th>\n",
       "      <th>opponent_team_id</th>\n",
       "      <th>period</th>\n",
       "      <th>t</th>\n",
       "      <th>t_after</th>\n",
       "      <th>r</th>\n",
       "      <th>r_after</th>\n",
       "      <th>x</th>\n",
       "      <th>...</th>\n",
       "      <th>s_before</th>\n",
       "      <th>o_point</th>\n",
       "      <th>possession_outcome_general</th>\n",
       "      <th>throw_outcome</th>\n",
       "      <th>yyards</th>\n",
       "      <th>yyards_raw</th>\n",
       "      <th>xyards</th>\n",
       "      <th>xyards_raw</th>\n",
       "      <th>yards</th>\n",
       "      <th>yards_raw</th>\n",
       "    </tr>\n",
       "  </thead>\n",
       "  <tbody>\n",
       "    <tr>\n",
       "      <th>1</th>\n",
       "      <td>2023.0</td>\n",
       "      <td>3097</td>\n",
       "      <td>40</td>\n",
       "      <td>22</td>\n",
       "      <td>1</td>\n",
       "      <td>1</td>\n",
       "      <td>NaN</td>\n",
       "      <td>NaN</td>\n",
       "      <td>NaN</td>\n",
       "      <td>NaN</td>\n",
       "      <td>...</td>\n",
       "      <td>720.0</td>\n",
       "      <td>True</td>\n",
       "      <td>Score</td>\n",
       "      <td>None</td>\n",
       "      <td>NaN</td>\n",
       "      <td>NaN</td>\n",
       "      <td>NaN</td>\n",
       "      <td>NaN</td>\n",
       "      <td>NaN</td>\n",
       "      <td>NaN</td>\n",
       "    </tr>\n",
       "    <tr>\n",
       "      <th>38</th>\n",
       "      <td>2023.0</td>\n",
       "      <td>3097</td>\n",
       "      <td>40</td>\n",
       "      <td>22</td>\n",
       "      <td>1</td>\n",
       "      <td>1</td>\n",
       "      <td>NaN</td>\n",
       "      <td>NaN</td>\n",
       "      <td>NaN</td>\n",
       "      <td>NaN</td>\n",
       "      <td>...</td>\n",
       "      <td>0.0</td>\n",
       "      <td>True</td>\n",
       "      <td>Turnover</td>\n",
       "      <td>None</td>\n",
       "      <td>NaN</td>\n",
       "      <td>NaN</td>\n",
       "      <td>NaN</td>\n",
       "      <td>NaN</td>\n",
       "      <td>NaN</td>\n",
       "      <td>NaN</td>\n",
       "    </tr>\n",
       "    <tr>\n",
       "      <th>44</th>\n",
       "      <td>2023.0</td>\n",
       "      <td>3097</td>\n",
       "      <td>40</td>\n",
       "      <td>22</td>\n",
       "      <td>1</td>\n",
       "      <td>1</td>\n",
       "      <td>NaN</td>\n",
       "      <td>NaN</td>\n",
       "      <td>NaN</td>\n",
       "      <td>NaN</td>\n",
       "      <td>...</td>\n",
       "      <td>472.0</td>\n",
       "      <td>True</td>\n",
       "      <td>Score</td>\n",
       "      <td>None</td>\n",
       "      <td>NaN</td>\n",
       "      <td>NaN</td>\n",
       "      <td>NaN</td>\n",
       "      <td>NaN</td>\n",
       "      <td>NaN</td>\n",
       "      <td>NaN</td>\n",
       "    </tr>\n",
       "    <tr>\n",
       "      <th>65</th>\n",
       "      <td>2023.0</td>\n",
       "      <td>3097</td>\n",
       "      <td>40</td>\n",
       "      <td>22</td>\n",
       "      <td>1</td>\n",
       "      <td>1</td>\n",
       "      <td>NaN</td>\n",
       "      <td>NaN</td>\n",
       "      <td>NaN</td>\n",
       "      <td>NaN</td>\n",
       "      <td>...</td>\n",
       "      <td>375.0</td>\n",
       "      <td>True</td>\n",
       "      <td>Score</td>\n",
       "      <td>None</td>\n",
       "      <td>NaN</td>\n",
       "      <td>NaN</td>\n",
       "      <td>NaN</td>\n",
       "      <td>NaN</td>\n",
       "      <td>NaN</td>\n",
       "      <td>NaN</td>\n",
       "    </tr>\n",
       "    <tr>\n",
       "      <th>79</th>\n",
       "      <td>2023.0</td>\n",
       "      <td>3097</td>\n",
       "      <td>40</td>\n",
       "      <td>22</td>\n",
       "      <td>1</td>\n",
       "      <td>1</td>\n",
       "      <td>NaN</td>\n",
       "      <td>NaN</td>\n",
       "      <td>NaN</td>\n",
       "      <td>NaN</td>\n",
       "      <td>...</td>\n",
       "      <td>279.0</td>\n",
       "      <td>True</td>\n",
       "      <td>Score</td>\n",
       "      <td>None</td>\n",
       "      <td>NaN</td>\n",
       "      <td>NaN</td>\n",
       "      <td>NaN</td>\n",
       "      <td>NaN</td>\n",
       "      <td>NaN</td>\n",
       "      <td>NaN</td>\n",
       "    </tr>\n",
       "  </tbody>\n",
       "</table>\n",
       "<p>5 rows × 23 columns</p>\n",
       "</div>"
      ],
      "text/plain": [
       "      year  game_id  team_id  opponent_team_id  period  t  t_after   r  \\\n",
       "1   2023.0     3097       40                22       1  1      NaN NaN   \n",
       "38  2023.0     3097       40                22       1  1      NaN NaN   \n",
       "44  2023.0     3097       40                22       1  1      NaN NaN   \n",
       "65  2023.0     3097       40                22       1  1      NaN NaN   \n",
       "79  2023.0     3097       40                22       1  1      NaN NaN   \n",
       "\n",
       "    r_after   x  ...  s_before  o_point  possession_outcome_general  \\\n",
       "1       NaN NaN  ...     720.0     True                       Score   \n",
       "38      NaN NaN  ...       0.0     True                    Turnover   \n",
       "44      NaN NaN  ...     472.0     True                       Score   \n",
       "65      NaN NaN  ...     375.0     True                       Score   \n",
       "79      NaN NaN  ...     279.0     True                       Score   \n",
       "\n",
       "    throw_outcome  yyards yyards_raw xyards  xyards_raw  yards  yards_raw  \n",
       "1            None     NaN        NaN    NaN         NaN    NaN        NaN  \n",
       "38           None     NaN        NaN    NaN         NaN    NaN        NaN  \n",
       "44           None     NaN        NaN    NaN         NaN    NaN        NaN  \n",
       "65           None     NaN        NaN    NaN         NaN    NaN        NaN  \n",
       "79           None     NaN        NaN    NaN         NaN    NaN        NaN  \n",
       "\n",
       "[5 rows x 23 columns]"
      ]
     },
     "execution_count": 18,
     "metadata": {},
     "output_type": "execute_result"
    }
   ],
   "source": [
    "s.get_player_stats_by_season(playoffs=True).head()\n",
    "s.get_player_stats_by_season(playoffs=False).head()\n",
    "s.get_start_of_opoints().head()"
   ]
  },
  {
   "cell_type": "code",
   "execution_count": 67,
   "metadata": {},
   "outputs": [
    {
     "name": "stdout",
     "output_type": "stream",
     "text": [
      "CPU times: user 317 ms, sys: 146 ms, total: 463 ms\n",
      "Wall time: 520 ms\n"
     ]
    },
    {
     "data": {
      "application/vnd.plotly.v1+json": {
       "config": {
        "plotlyServerURL": "https://plot.ly"
       },
       "data": [
        {
         "colorbar": {
          "len": 0.8,
          "lenmode": "fraction",
          "tickfont": {
           "color": "black"
          },
          "tickformat": ".0%",
          "ticklabelposition": "inside bottom",
          "x": 0,
          "xanchor": "right",
          "y": 0.8,
          "yanchor": "top"
         },
         "colorscale": [
          [
           0,
           "rgb(12,51,131)"
          ],
          [
           0.25,
           "rgb(10,136,186)"
          ],
          [
           0.5,
           "rgb(242,211,56)"
          ],
          [
           0.75,
           "rgb(242,143,56)"
          ],
          [
           1,
           "rgb(217,30,30)"
          ]
         ],
         "connectgaps": false,
         "customdata": [
          "Total Touches: 0<br># of Scores: 0",
          "Total Touches: 0<br># of Scores: 0",
          "Total Touches: 0<br># of Scores: 0",
          "Total Touches: 0<br># of Scores: 0",
          "Total Touches: 0<br># of Scores: 0",
          "Total Touches: 5<br># of Scores: 2<br>Score Pct: 40.0%<br>Avg Sideways Yards: 21.6<br>Avg Downfield Yards: 33.6",
          "Total Touches: 66<br># of Scores: 35<br>Score Pct: 53.0%<br>Avg Sideways Yards: 26.3<br>Avg Downfield Yards: 46.6",
          "Total Touches: 120<br># of Scores: 60<br>Score Pct: 50.0%<br>Avg Sideways Yards: 25.7<br>Avg Downfield Yards: 54.6",
          "Total Touches: 79<br># of Scores: 43<br>Score Pct: 54.4%<br>Avg Sideways Yards: 25.5<br>Avg Downfield Yards: 64.2",
          "Total Touches: 54<br># of Scores: 28<br>Score Pct: 51.9%<br>Avg Sideways Yards: 21.6<br>Avg Downfield Yards: 75.3",
          "Total Touches: 92<br># of Scores: 39<br>Score Pct: 42.4%<br>Avg Sideways Yards: 19.4<br>Avg Downfield Yards: 86.0",
          "Total Touches: 70<br># of Scores: 36<br>Score Pct: 51.4%<br>Avg Sideways Yards: 19.7<br>Avg Downfield Yards: 93.8",
          "Total Touches: 0<br># of Scores: 0",
          "Total Touches: 0<br># of Scores: 0",
          "Total Touches: 0<br># of Scores: 0",
          "Total Touches: 0<br># of Scores: 0",
          "Total Touches: 0<br># of Scores: 0",
          "Total Touches: 0<br># of Scores: 0",
          "Total Touches: 1<br># of Scores: 0",
          "Total Touches: 6<br># of Scores: 2<br>Score Pct: 33.3%<br>Avg Sideways Yards: 11.6<br>Avg Downfield Yards: 56.7",
          "Total Touches: 13<br># of Scores: 8<br>Score Pct: 61.5%<br>Avg Sideways Yards: 11.1<br>Avg Downfield Yards: 67.1",
          "Total Touches: 108<br># of Scores: 59<br>Score Pct: 54.6%<br>Avg Sideways Yards: 11.3<br>Avg Downfield Yards: 76.2",
          "Total Touches: 267<br># of Scores: 114<br>Score Pct: 42.7%<br>Avg Sideways Yards: 10.1<br>Avg Downfield Yards: 85.8",
          "Total Touches: 203<br># of Scores: 80<br>Score Pct: 39.4%<br>Avg Sideways Yards: 9.6<br>Avg Downfield Yards: 94.0",
          "Total Touches: 0<br># of Scores: 0",
          "Total Touches: 0<br># of Scores: 0",
          "Total Touches: 0<br># of Scores: 0",
          "Total Touches: 1<br># of Scores: 0",
          "Total Touches: 0<br># of Scores: 0",
          "Total Touches: 3<br># of Scores: 2<br>Score Pct: 66.7%<br>Avg Sideways Yards: 0.5<br>Avg Downfield Yards: 39.0",
          "Total Touches: 0<br># of Scores: 0",
          "Total Touches: 217<br># of Scores: 96<br>Score Pct: 44.2%<br>Avg Sideways Yards: 0.1<br>Avg Downfield Yards: 60.0",
          "Total Touches: 21<br># of Scores: 9<br>Score Pct: 42.9%<br>Avg Sideways Yards: 1.8<br>Avg Downfield Yards: 66.2",
          "Total Touches: 160<br># of Scores: 70<br>Score Pct: 43.8%<br>Avg Sideways Yards: 2.7<br>Avg Downfield Yards: 76.8",
          "Total Touches: 449<br># of Scores: 224<br>Score Pct: 49.9%<br>Avg Sideways Yards: 2.4<br>Avg Downfield Yards: 86.0",
          "Total Touches: 334<br># of Scores: 147<br>Score Pct: 44.0%<br>Avg Sideways Yards: 2.5<br>Avg Downfield Yards: 93.7",
          "Total Touches: 0<br># of Scores: 0",
          "Total Touches: 0<br># of Scores: 0",
          "Total Touches: 0<br># of Scores: 0",
          "Total Touches: 0<br># of Scores: 0",
          "Total Touches: 0<br># of Scores: 0",
          "Total Touches: 0<br># of Scores: 0",
          "Total Touches: 1<br># of Scores: 0",
          "Total Touches: 3<br># of Scores: 3<br>Score Pct: 100.0%<br>Avg Sideways Yards: 12.0<br>Avg Downfield Yards: 55.0",
          "Total Touches: 20<br># of Scores: 14<br>Score Pct: 70.0%<br>Avg Sideways Yards: 10.7<br>Avg Downfield Yards: 67.4",
          "Total Touches: 124<br># of Scores: 59<br>Score Pct: 47.6%<br>Avg Sideways Yards: 10.6<br>Avg Downfield Yards: 77.3",
          "Total Touches: 346<br># of Scores: 176<br>Score Pct: 50.9%<br>Avg Sideways Yards: 10.8<br>Avg Downfield Yards: 85.5",
          "Total Touches: 205<br># of Scores: 96<br>Score Pct: 46.8%<br>Avg Sideways Yards: 9.9<br>Avg Downfield Yards: 94.0",
          "Total Touches: 0<br># of Scores: 0",
          "Total Touches: 0<br># of Scores: 0",
          "Total Touches: 0<br># of Scores: 0",
          "Total Touches: 2<br># of Scores: 2<br>Score Pct: 100.0%<br>Avg Sideways Yards: 21.1<br>Avg Downfield Yards: 20.0",
          "Total Touches: 2<br># of Scores: 2<br>Score Pct: 100.0%<br>Avg Sideways Yards: 25.1<br>Avg Downfield Yards: 27.1",
          "Total Touches: 10<br># of Scores: 6<br>Score Pct: 60.0%<br>Avg Sideways Yards: 24.3<br>Avg Downfield Yards: 35.5",
          "Total Touches: 46<br># of Scores: 24<br>Score Pct: 52.2%<br>Avg Sideways Yards: 25.9<br>Avg Downfield Yards: 45.7",
          "Total Touches: 69<br># of Scores: 33<br>Score Pct: 47.8%<br>Avg Sideways Yards: 25.1<br>Avg Downfield Yards: 54.9",
          "Total Touches: 55<br># of Scores: 27<br>Score Pct: 49.1%<br>Avg Sideways Yards: 24.8<br>Avg Downfield Yards: 63.2",
          "Total Touches: 60<br># of Scores: 33<br>Score Pct: 55.0%<br>Avg Sideways Yards: 20.2<br>Avg Downfield Yards: 76.3",
          "Total Touches: 123<br># of Scores: 68<br>Score Pct: 55.3%<br>Avg Sideways Yards: 19.6<br>Avg Downfield Yards: 86.0",
          "Total Touches: 67<br># of Scores: 28<br>Score Pct: 41.8%<br>Avg Sideways Yards: 20.6<br>Avg Downfield Yards: 93.4"
         ],
         "hovertemplate": "%{customdata}<extra></extra>",
         "reversescale": false,
         "showscale": true,
         "type": "heatmap",
         "x": [
          0,
          1,
          2,
          3,
          4,
          5,
          6,
          7,
          8,
          9,
          10,
          11,
          0,
          1,
          2,
          3,
          4,
          5,
          6,
          7,
          8,
          9,
          10,
          11,
          0,
          1,
          2,
          3,
          4,
          5,
          6,
          7,
          8,
          9,
          10,
          11,
          0,
          1,
          2,
          3,
          4,
          5,
          6,
          7,
          8,
          9,
          10,
          11,
          0,
          1,
          2,
          3,
          4,
          5,
          6,
          7,
          8,
          9,
          10,
          11
         ],
         "xaxis": "x3",
         "y": [
          0,
          0,
          0,
          0,
          0,
          0,
          0,
          0,
          0,
          0,
          0,
          0,
          1,
          1,
          1,
          1,
          1,
          1,
          1,
          1,
          1,
          1,
          1,
          1,
          2,
          2,
          2,
          2,
          2,
          2,
          2,
          2,
          2,
          2,
          2,
          2,
          3,
          3,
          3,
          3,
          3,
          3,
          3,
          3,
          3,
          3,
          3,
          3,
          4,
          4,
          4,
          4,
          4,
          4,
          4,
          4,
          4,
          4,
          4,
          4
         ],
         "yaxis": "y3",
         "z": [
          null,
          null,
          null,
          null,
          null,
          0.4,
          0.5303030303030303,
          0.5,
          0.5443037974683544,
          0.5185185185185185,
          0.42391304347826086,
          0.5142857142857142,
          null,
          null,
          null,
          null,
          null,
          null,
          0,
          0.3333333333333333,
          0.6153846153846154,
          0.5462962962962963,
          0.42696629213483145,
          0.39408866995073893,
          null,
          null,
          null,
          0,
          null,
          0.6666666666666666,
          null,
          0.4423963133640553,
          0.42857142857142855,
          0.4375,
          0.49888641425389757,
          0.44011976047904194,
          null,
          null,
          null,
          null,
          null,
          null,
          0,
          1,
          0.7,
          0.47580645161290325,
          0.5086705202312138,
          0.4682926829268293,
          null,
          null,
          null,
          1,
          1,
          0.6,
          0.5217391304347826,
          0.4782608695652174,
          0.4909090909090909,
          0.55,
          0.5528455284552846,
          0.417910447761194
         ],
         "zauto": true,
         "zsmooth": "best"
        },
        {
         "alignmentgroup": "True",
         "bingroup": "y",
         "histfunc": "sum",
         "hovertemplate": "Scores:<br>%{x}<br><extra></extra>",
         "legendgroup": "",
         "marker": {
          "color": "#1F77B4",
          "opacity": 0.5,
          "pattern": {
           "shape": ""
          }
         },
         "name": "",
         "nbinsy": 5,
         "offsetgroup": "",
         "orientation": "h",
         "showlegend": false,
         "type": "histogram",
         "x": [
          0,
          0,
          0,
          0,
          0,
          2,
          35,
          60,
          43,
          28,
          39,
          36,
          0,
          0,
          0,
          0,
          0,
          0,
          0,
          2,
          8,
          59,
          114,
          80,
          0,
          0,
          0,
          0,
          0,
          2,
          0,
          96,
          9,
          70,
          224,
          147,
          0,
          0,
          0,
          0,
          0,
          0,
          0,
          3,
          14,
          59,
          176,
          96,
          0,
          0,
          0,
          2,
          2,
          6,
          24,
          33,
          27,
          33,
          68,
          28
         ],
         "xaxis": "x4",
         "y": [
          0,
          0,
          0,
          0,
          0,
          0,
          0,
          0,
          0,
          0,
          0,
          0,
          1,
          1,
          1,
          1,
          1,
          1,
          1,
          1,
          1,
          1,
          1,
          1,
          2,
          2,
          2,
          2,
          2,
          2,
          2,
          2,
          2,
          2,
          2,
          2,
          3,
          3,
          3,
          3,
          3,
          3,
          3,
          3,
          3,
          3,
          3,
          3,
          4,
          4,
          4,
          4,
          4,
          4,
          4,
          4,
          4,
          4,
          4,
          4
         ],
         "yaxis": "y4"
        },
        {
         "alignmentgroup": "True",
         "bingroup": "x",
         "histfunc": "sum",
         "hovertemplate": "Scores:<br>%{y}<br><extra></extra>",
         "legendgroup": "",
         "marker": {
          "color": "#1F77B4",
          "opacity": 0.5,
          "pattern": {
           "shape": ""
          }
         },
         "name": "",
         "nbinsx": 12,
         "offsetgroup": "",
         "orientation": "v",
         "showlegend": false,
         "type": "histogram",
         "x": [
          0,
          1,
          2,
          3,
          4,
          5,
          6,
          7,
          8,
          9,
          10,
          11,
          0,
          1,
          2,
          3,
          4,
          5,
          6,
          7,
          8,
          9,
          10,
          11,
          0,
          1,
          2,
          3,
          4,
          5,
          6,
          7,
          8,
          9,
          10,
          11,
          0,
          1,
          2,
          3,
          4,
          5,
          6,
          7,
          8,
          9,
          10,
          11,
          0,
          1,
          2,
          3,
          4,
          5,
          6,
          7,
          8,
          9,
          10,
          11
         ],
         "xaxis": "x",
         "y": [
          0,
          0,
          0,
          0,
          0,
          2,
          35,
          60,
          43,
          28,
          39,
          36,
          0,
          0,
          0,
          0,
          0,
          0,
          0,
          2,
          8,
          59,
          114,
          80,
          0,
          0,
          0,
          0,
          0,
          2,
          0,
          96,
          9,
          70,
          224,
          147,
          0,
          0,
          0,
          0,
          0,
          0,
          0,
          3,
          14,
          59,
          176,
          96,
          0,
          0,
          0,
          2,
          2,
          6,
          24,
          33,
          27,
          33,
          68,
          28
         ],
         "yaxis": "y"
        }
       ],
       "layout": {
        "annotations": [
         {
          "arrowhead": 2,
          "arrowsize": 1.5,
          "ax": -50,
          "axref": "pixel",
          "ay": 0,
          "ayref": "pixel",
          "showarrow": true,
          "text": "Attacking",
          "x": 0.5,
          "xref": "paper",
          "y": -0.02,
          "yref": "paper"
         }
        ],
        "font": {
         "family": "TW Cen MT, Futura"
        },
        "hoverlabel": {
         "font": {
          "family": "TW Cen MT, Futura"
         }
        },
        "margin": {
         "autoexpand": false,
         "b": 20,
         "l": 40,
         "r": 0,
         "t": 0
        },
        "paper_bgcolor": "rgba(0,0,0,0)",
        "plot_bgcolor": "rgba(0,0,0,0)",
        "shapes": [
         {
          "line": {
           "color": "black"
          },
          "type": "line",
          "x0": 0,
          "x1": 0,
          "xref": "paper",
          "y0": 0,
          "y1": 0.8,
          "yref": "paper"
         },
         {
          "line": {
           "color": "black"
          },
          "type": "line",
          "x0": 0.14166666666666666,
          "x1": 0.14166666666666666,
          "xref": "paper",
          "y0": 0,
          "y1": 0.8,
          "yref": "paper"
         },
         {
          "line": {
           "color": "black"
          },
          "type": "line",
          "x0": 0.7083333333333334,
          "x1": 0.7083333333333334,
          "xref": "paper",
          "y0": 0,
          "y1": 0.8,
          "yref": "paper"
         },
         {
          "line": {
           "color": "black"
          },
          "type": "line",
          "x0": 0.85,
          "x1": 0.85,
          "xref": "paper",
          "y0": 0,
          "y1": 0.8,
          "yref": "paper"
         },
         {
          "line": {
           "color": "black"
          },
          "type": "line",
          "x0": 0,
          "x1": 0.85,
          "xref": "paper",
          "y0": 0,
          "y1": 0,
          "yref": "paper"
         },
         {
          "line": {
           "color": "black"
          },
          "type": "line",
          "x0": 0,
          "x1": 0.85,
          "xref": "paper",
          "y0": 0.8,
          "y1": 0.8,
          "yref": "paper"
         }
        ],
        "template": {
         "data": {
          "bar": [
           {
            "error_x": {
             "color": "#2a3f5f"
            },
            "error_y": {
             "color": "#2a3f5f"
            },
            "marker": {
             "line": {
              "color": "#E5ECF6",
              "width": 0.5
             },
             "pattern": {
              "fillmode": "overlay",
              "size": 10,
              "solidity": 0.2
             }
            },
            "type": "bar"
           }
          ],
          "barpolar": [
           {
            "marker": {
             "line": {
              "color": "#E5ECF6",
              "width": 0.5
             },
             "pattern": {
              "fillmode": "overlay",
              "size": 10,
              "solidity": 0.2
             }
            },
            "type": "barpolar"
           }
          ],
          "carpet": [
           {
            "aaxis": {
             "endlinecolor": "#2a3f5f",
             "gridcolor": "white",
             "linecolor": "white",
             "minorgridcolor": "white",
             "startlinecolor": "#2a3f5f"
            },
            "baxis": {
             "endlinecolor": "#2a3f5f",
             "gridcolor": "white",
             "linecolor": "white",
             "minorgridcolor": "white",
             "startlinecolor": "#2a3f5f"
            },
            "type": "carpet"
           }
          ],
          "choropleth": [
           {
            "colorbar": {
             "outlinewidth": 0,
             "ticks": ""
            },
            "type": "choropleth"
           }
          ],
          "contour": [
           {
            "colorbar": {
             "outlinewidth": 0,
             "ticks": ""
            },
            "colorscale": [
             [
              0,
              "#0d0887"
             ],
             [
              0.1111111111111111,
              "#46039f"
             ],
             [
              0.2222222222222222,
              "#7201a8"
             ],
             [
              0.3333333333333333,
              "#9c179e"
             ],
             [
              0.4444444444444444,
              "#bd3786"
             ],
             [
              0.5555555555555556,
              "#d8576b"
             ],
             [
              0.6666666666666666,
              "#ed7953"
             ],
             [
              0.7777777777777778,
              "#fb9f3a"
             ],
             [
              0.8888888888888888,
              "#fdca26"
             ],
             [
              1,
              "#f0f921"
             ]
            ],
            "type": "contour"
           }
          ],
          "contourcarpet": [
           {
            "colorbar": {
             "outlinewidth": 0,
             "ticks": ""
            },
            "type": "contourcarpet"
           }
          ],
          "heatmap": [
           {
            "colorbar": {
             "outlinewidth": 0,
             "ticks": ""
            },
            "colorscale": [
             [
              0,
              "#0d0887"
             ],
             [
              0.1111111111111111,
              "#46039f"
             ],
             [
              0.2222222222222222,
              "#7201a8"
             ],
             [
              0.3333333333333333,
              "#9c179e"
             ],
             [
              0.4444444444444444,
              "#bd3786"
             ],
             [
              0.5555555555555556,
              "#d8576b"
             ],
             [
              0.6666666666666666,
              "#ed7953"
             ],
             [
              0.7777777777777778,
              "#fb9f3a"
             ],
             [
              0.8888888888888888,
              "#fdca26"
             ],
             [
              1,
              "#f0f921"
             ]
            ],
            "type": "heatmap"
           }
          ],
          "heatmapgl": [
           {
            "colorbar": {
             "outlinewidth": 0,
             "ticks": ""
            },
            "colorscale": [
             [
              0,
              "#0d0887"
             ],
             [
              0.1111111111111111,
              "#46039f"
             ],
             [
              0.2222222222222222,
              "#7201a8"
             ],
             [
              0.3333333333333333,
              "#9c179e"
             ],
             [
              0.4444444444444444,
              "#bd3786"
             ],
             [
              0.5555555555555556,
              "#d8576b"
             ],
             [
              0.6666666666666666,
              "#ed7953"
             ],
             [
              0.7777777777777778,
              "#fb9f3a"
             ],
             [
              0.8888888888888888,
              "#fdca26"
             ],
             [
              1,
              "#f0f921"
             ]
            ],
            "type": "heatmapgl"
           }
          ],
          "histogram": [
           {
            "marker": {
             "pattern": {
              "fillmode": "overlay",
              "size": 10,
              "solidity": 0.2
             }
            },
            "type": "histogram"
           }
          ],
          "histogram2d": [
           {
            "colorbar": {
             "outlinewidth": 0,
             "ticks": ""
            },
            "colorscale": [
             [
              0,
              "#0d0887"
             ],
             [
              0.1111111111111111,
              "#46039f"
             ],
             [
              0.2222222222222222,
              "#7201a8"
             ],
             [
              0.3333333333333333,
              "#9c179e"
             ],
             [
              0.4444444444444444,
              "#bd3786"
             ],
             [
              0.5555555555555556,
              "#d8576b"
             ],
             [
              0.6666666666666666,
              "#ed7953"
             ],
             [
              0.7777777777777778,
              "#fb9f3a"
             ],
             [
              0.8888888888888888,
              "#fdca26"
             ],
             [
              1,
              "#f0f921"
             ]
            ],
            "type": "histogram2d"
           }
          ],
          "histogram2dcontour": [
           {
            "colorbar": {
             "outlinewidth": 0,
             "ticks": ""
            },
            "colorscale": [
             [
              0,
              "#0d0887"
             ],
             [
              0.1111111111111111,
              "#46039f"
             ],
             [
              0.2222222222222222,
              "#7201a8"
             ],
             [
              0.3333333333333333,
              "#9c179e"
             ],
             [
              0.4444444444444444,
              "#bd3786"
             ],
             [
              0.5555555555555556,
              "#d8576b"
             ],
             [
              0.6666666666666666,
              "#ed7953"
             ],
             [
              0.7777777777777778,
              "#fb9f3a"
             ],
             [
              0.8888888888888888,
              "#fdca26"
             ],
             [
              1,
              "#f0f921"
             ]
            ],
            "type": "histogram2dcontour"
           }
          ],
          "mesh3d": [
           {
            "colorbar": {
             "outlinewidth": 0,
             "ticks": ""
            },
            "type": "mesh3d"
           }
          ],
          "parcoords": [
           {
            "line": {
             "colorbar": {
              "outlinewidth": 0,
              "ticks": ""
             }
            },
            "type": "parcoords"
           }
          ],
          "pie": [
           {
            "automargin": true,
            "type": "pie"
           }
          ],
          "scatter": [
           {
            "fillpattern": {
             "fillmode": "overlay",
             "size": 10,
             "solidity": 0.2
            },
            "type": "scatter"
           }
          ],
          "scatter3d": [
           {
            "line": {
             "colorbar": {
              "outlinewidth": 0,
              "ticks": ""
             }
            },
            "marker": {
             "colorbar": {
              "outlinewidth": 0,
              "ticks": ""
             }
            },
            "type": "scatter3d"
           }
          ],
          "scattercarpet": [
           {
            "marker": {
             "colorbar": {
              "outlinewidth": 0,
              "ticks": ""
             }
            },
            "type": "scattercarpet"
           }
          ],
          "scattergeo": [
           {
            "marker": {
             "colorbar": {
              "outlinewidth": 0,
              "ticks": ""
             }
            },
            "type": "scattergeo"
           }
          ],
          "scattergl": [
           {
            "marker": {
             "colorbar": {
              "outlinewidth": 0,
              "ticks": ""
             }
            },
            "type": "scattergl"
           }
          ],
          "scattermapbox": [
           {
            "marker": {
             "colorbar": {
              "outlinewidth": 0,
              "ticks": ""
             }
            },
            "type": "scattermapbox"
           }
          ],
          "scatterpolar": [
           {
            "marker": {
             "colorbar": {
              "outlinewidth": 0,
              "ticks": ""
             }
            },
            "type": "scatterpolar"
           }
          ],
          "scatterpolargl": [
           {
            "marker": {
             "colorbar": {
              "outlinewidth": 0,
              "ticks": ""
             }
            },
            "type": "scatterpolargl"
           }
          ],
          "scatterternary": [
           {
            "marker": {
             "colorbar": {
              "outlinewidth": 0,
              "ticks": ""
             }
            },
            "type": "scatterternary"
           }
          ],
          "surface": [
           {
            "colorbar": {
             "outlinewidth": 0,
             "ticks": ""
            },
            "colorscale": [
             [
              0,
              "#0d0887"
             ],
             [
              0.1111111111111111,
              "#46039f"
             ],
             [
              0.2222222222222222,
              "#7201a8"
             ],
             [
              0.3333333333333333,
              "#9c179e"
             ],
             [
              0.4444444444444444,
              "#bd3786"
             ],
             [
              0.5555555555555556,
              "#d8576b"
             ],
             [
              0.6666666666666666,
              "#ed7953"
             ],
             [
              0.7777777777777778,
              "#fb9f3a"
             ],
             [
              0.8888888888888888,
              "#fdca26"
             ],
             [
              1,
              "#f0f921"
             ]
            ],
            "type": "surface"
           }
          ],
          "table": [
           {
            "cells": {
             "fill": {
              "color": "#EBF0F8"
             },
             "line": {
              "color": "white"
             }
            },
            "header": {
             "fill": {
              "color": "#C8D4E3"
             },
             "line": {
              "color": "white"
             }
            },
            "type": "table"
           }
          ]
         },
         "layout": {
          "annotationdefaults": {
           "arrowcolor": "#2a3f5f",
           "arrowhead": 0,
           "arrowwidth": 1
          },
          "autotypenumbers": "strict",
          "coloraxis": {
           "colorbar": {
            "outlinewidth": 0,
            "ticks": ""
           }
          },
          "colorscale": {
           "diverging": [
            [
             0,
             "#8e0152"
            ],
            [
             0.1,
             "#c51b7d"
            ],
            [
             0.2,
             "#de77ae"
            ],
            [
             0.3,
             "#f1b6da"
            ],
            [
             0.4,
             "#fde0ef"
            ],
            [
             0.5,
             "#f7f7f7"
            ],
            [
             0.6,
             "#e6f5d0"
            ],
            [
             0.7,
             "#b8e186"
            ],
            [
             0.8,
             "#7fbc41"
            ],
            [
             0.9,
             "#4d9221"
            ],
            [
             1,
             "#276419"
            ]
           ],
           "sequential": [
            [
             0,
             "#0d0887"
            ],
            [
             0.1111111111111111,
             "#46039f"
            ],
            [
             0.2222222222222222,
             "#7201a8"
            ],
            [
             0.3333333333333333,
             "#9c179e"
            ],
            [
             0.4444444444444444,
             "#bd3786"
            ],
            [
             0.5555555555555556,
             "#d8576b"
            ],
            [
             0.6666666666666666,
             "#ed7953"
            ],
            [
             0.7777777777777778,
             "#fb9f3a"
            ],
            [
             0.8888888888888888,
             "#fdca26"
            ],
            [
             1,
             "#f0f921"
            ]
           ],
           "sequentialminus": [
            [
             0,
             "#0d0887"
            ],
            [
             0.1111111111111111,
             "#46039f"
            ],
            [
             0.2222222222222222,
             "#7201a8"
            ],
            [
             0.3333333333333333,
             "#9c179e"
            ],
            [
             0.4444444444444444,
             "#bd3786"
            ],
            [
             0.5555555555555556,
             "#d8576b"
            ],
            [
             0.6666666666666666,
             "#ed7953"
            ],
            [
             0.7777777777777778,
             "#fb9f3a"
            ],
            [
             0.8888888888888888,
             "#fdca26"
            ],
            [
             1,
             "#f0f921"
            ]
           ]
          },
          "colorway": [
           "#636efa",
           "#EF553B",
           "#00cc96",
           "#ab63fa",
           "#FFA15A",
           "#19d3f3",
           "#FF6692",
           "#B6E880",
           "#FF97FF",
           "#FECB52"
          ],
          "font": {
           "color": "#2a3f5f"
          },
          "geo": {
           "bgcolor": "white",
           "lakecolor": "white",
           "landcolor": "#E5ECF6",
           "showlakes": true,
           "showland": true,
           "subunitcolor": "white"
          },
          "hoverlabel": {
           "align": "left"
          },
          "hovermode": "closest",
          "mapbox": {
           "style": "light"
          },
          "paper_bgcolor": "white",
          "plot_bgcolor": "#E5ECF6",
          "polar": {
           "angularaxis": {
            "gridcolor": "white",
            "linecolor": "white",
            "ticks": ""
           },
           "bgcolor": "#E5ECF6",
           "radialaxis": {
            "gridcolor": "white",
            "linecolor": "white",
            "ticks": ""
           }
          },
          "scene": {
           "xaxis": {
            "backgroundcolor": "#E5ECF6",
            "gridcolor": "white",
            "gridwidth": 2,
            "linecolor": "white",
            "showbackground": true,
            "ticks": "",
            "zerolinecolor": "white"
           },
           "yaxis": {
            "backgroundcolor": "#E5ECF6",
            "gridcolor": "white",
            "gridwidth": 2,
            "linecolor": "white",
            "showbackground": true,
            "ticks": "",
            "zerolinecolor": "white"
           },
           "zaxis": {
            "backgroundcolor": "#E5ECF6",
            "gridcolor": "white",
            "gridwidth": 2,
            "linecolor": "white",
            "showbackground": true,
            "ticks": "",
            "zerolinecolor": "white"
           }
          },
          "shapedefaults": {
           "line": {
            "color": "#2a3f5f"
           }
          },
          "ternary": {
           "aaxis": {
            "gridcolor": "white",
            "linecolor": "white",
            "ticks": ""
           },
           "baxis": {
            "gridcolor": "white",
            "linecolor": "white",
            "ticks": ""
           },
           "bgcolor": "#E5ECF6",
           "caxis": {
            "gridcolor": "white",
            "linecolor": "white",
            "ticks": ""
           }
          },
          "title": {
           "x": 0.05
          },
          "xaxis": {
           "automargin": true,
           "gridcolor": "white",
           "linecolor": "white",
           "ticks": "",
           "title": {
            "standoff": 15
           },
           "zerolinecolor": "white",
           "zerolinewidth": 2
          },
          "yaxis": {
           "automargin": true,
           "gridcolor": "white",
           "linecolor": "white",
           "ticks": "",
           "title": {
            "standoff": 15
           },
           "zerolinecolor": "white",
           "zerolinewidth": 2
          }
         }
        },
        "xaxis": {
         "anchor": "y",
         "domain": [
          0,
          0.85
         ],
         "fixedrange": true,
         "matches": "x3",
         "showgrid": false,
         "showticklabels": false,
         "ticks": "",
         "zeroline": false
        },
        "xaxis2": {
         "anchor": "y2",
         "domain": [
          0.85,
          1
         ],
         "matches": "x4",
         "showticklabels": false
        },
        "xaxis3": {
         "anchor": "y3",
         "domain": [
          0,
          0.85
         ],
         "fixedrange": true,
         "showgrid": false,
         "showticklabels": false,
         "ticks": "",
         "zeroline": false
        },
        "xaxis4": {
         "anchor": "y4",
         "domain": [
          0.85,
          1
         ],
         "fixedrange": true,
         "showgrid": false,
         "showticklabels": false,
         "ticks": "",
         "zeroline": false
        },
        "yaxis": {
         "anchor": "x",
         "domain": [
          0.8,
          1
         ],
         "fixedrange": true,
         "showgrid": false,
         "showticklabels": false,
         "ticks": "",
         "zeroline": false
        },
        "yaxis2": {
         "anchor": "x2",
         "domain": [
          0.8,
          1
         ],
         "matches": "y",
         "showticklabels": false
        },
        "yaxis3": {
         "anchor": "x3",
         "autorange": "reversed",
         "domain": [
          0,
          0.8
         ],
         "fixedrange": true,
         "showgrid": false,
         "showticklabels": false,
         "ticks": "",
         "zeroline": false
        },
        "yaxis4": {
         "anchor": "x4",
         "autorange": "reversed",
         "domain": [
          0,
          0.8
         ],
         "fixedrange": true,
         "matches": "y3",
         "showgrid": false,
         "showticklabels": false,
         "ticks": "",
         "zeroline": false
        }
       }
      }
     },
     "metadata": {},
     "output_type": "display_data"
    }
   ],
   "source": [
    "%%time\n",
    "# Heatmap and histograms\n",
    "fighm, fighy, fighx = s.visual_field_heatmap_horizontal(\n",
    "    outcome_measure=\"possession_outcome_general\",\n",
    "    outcome=\"Score\",\n",
    "    metric=\"pct\",\n",
    "    pull_only=True,\n",
    "    remove_ob_pull=True,\n",
    "    years=[2023]\n",
    ")\n",
    "\n",
    "# Combine heatmap and histograms into single plot\n",
    "# The aspect ratio is weird here because it's handled in the app using html/css\n",
    "s.visual_field_heatmap_subplots_horizontal(fighm, fighy, fighx)"
   ]
  },
  {
   "cell_type": "markdown",
   "metadata": {},
   "source": [
    "## Game\n",
    "\n",
    "This section will go through the `Game` class using the first game of the season (DC at NY) as an example."
   ]
  },
  {
   "cell_type": "code",
   "execution_count": 28,
   "metadata": {},
   "outputs": [
    {
     "data": {
      "text/html": [
       "<div>\n",
       "<style scoped>\n",
       "    .dataframe tbody tr th:only-of-type {\n",
       "        vertical-align: middle;\n",
       "    }\n",
       "\n",
       "    .dataframe tbody tr th {\n",
       "        vertical-align: top;\n",
       "    }\n",
       "\n",
       "    .dataframe thead th {\n",
       "        text-align: right;\n",
       "    }\n",
       "</style>\n",
       "<table border=\"1\" class=\"dataframe\">\n",
       "  <thead>\n",
       "    <tr style=\"text-align: right;\">\n",
       "      <th></th>\n",
       "      <th>player_season_id</th>\n",
       "      <th>playerid</th>\n",
       "      <th>name</th>\n",
       "      <th>team</th>\n",
       "      <th>opponent</th>\n",
       "      <th>game_date</th>\n",
       "      <th>year</th>\n",
       "      <th>playoffs</th>\n",
       "      <th>games</th>\n",
       "      <th>total_points</th>\n",
       "      <th>...</th>\n",
       "      <th>receptions_dump_pct</th>\n",
       "      <th>completion_huck_pct</th>\n",
       "      <th>attempts_huck_pct</th>\n",
       "      <th>receptions_huck_pct</th>\n",
       "      <th>completion_swing_pct</th>\n",
       "      <th>attempts_swing_pct</th>\n",
       "      <th>receptions_swing_pct</th>\n",
       "      <th>completion_throw_pct</th>\n",
       "      <th>attempts_throw_pct</th>\n",
       "      <th>receptions_throw_pct</th>\n",
       "    </tr>\n",
       "  </thead>\n",
       "  <tbody>\n",
       "    <tr>\n",
       "      <th>0</th>\n",
       "      <td>10177</td>\n",
       "      <td>220</td>\n",
       "      <td>Brandon Malecek</td>\n",
       "      <td>DAL</td>\n",
       "      <td>CAR</td>\n",
       "      <td>2022-06-03</td>\n",
       "      <td>2022.0</td>\n",
       "      <td>False</td>\n",
       "      <td>1.0</td>\n",
       "      <td>21.0</td>\n",
       "      <td>...</td>\n",
       "      <td>0.222222</td>\n",
       "      <td>1.000000</td>\n",
       "      <td>0.043478</td>\n",
       "      <td>0.000000</td>\n",
       "      <td>1.0</td>\n",
       "      <td>0.021739</td>\n",
       "      <td>0.194444</td>\n",
       "      <td>0.964286</td>\n",
       "      <td>0.608696</td>\n",
       "      <td>0.305556</td>\n",
       "    </tr>\n",
       "    <tr>\n",
       "      <th>1</th>\n",
       "      <td>10178</td>\n",
       "      <td>1966</td>\n",
       "      <td>Griffin Miller</td>\n",
       "      <td>DAL</td>\n",
       "      <td>CAR</td>\n",
       "      <td>2022-06-03</td>\n",
       "      <td>2022.0</td>\n",
       "      <td>False</td>\n",
       "      <td>1.0</td>\n",
       "      <td>17.0</td>\n",
       "      <td>...</td>\n",
       "      <td>0.000000</td>\n",
       "      <td>NaN</td>\n",
       "      <td>0.000000</td>\n",
       "      <td>0.000000</td>\n",
       "      <td>1.0</td>\n",
       "      <td>0.200000</td>\n",
       "      <td>0.000000</td>\n",
       "      <td>1.000000</td>\n",
       "      <td>0.400000</td>\n",
       "      <td>0.800000</td>\n",
       "    </tr>\n",
       "    <tr>\n",
       "      <th>2</th>\n",
       "      <td>10182</td>\n",
       "      <td>2186</td>\n",
       "      <td>Jimmy Zuraw</td>\n",
       "      <td>DAL</td>\n",
       "      <td>CAR</td>\n",
       "      <td>2022-06-03</td>\n",
       "      <td>2022.0</td>\n",
       "      <td>False</td>\n",
       "      <td>1.0</td>\n",
       "      <td>22.0</td>\n",
       "      <td>...</td>\n",
       "      <td>0.289474</td>\n",
       "      <td>0.666667</td>\n",
       "      <td>0.062500</td>\n",
       "      <td>0.000000</td>\n",
       "      <td>1.0</td>\n",
       "      <td>0.145833</td>\n",
       "      <td>0.105263</td>\n",
       "      <td>1.000000</td>\n",
       "      <td>0.541667</td>\n",
       "      <td>0.236842</td>\n",
       "    </tr>\n",
       "    <tr>\n",
       "      <th>3</th>\n",
       "      <td>10183</td>\n",
       "      <td>1287</td>\n",
       "      <td>Michael Matthis</td>\n",
       "      <td>DAL</td>\n",
       "      <td>CAR</td>\n",
       "      <td>2022-06-03</td>\n",
       "      <td>2022.0</td>\n",
       "      <td>False</td>\n",
       "      <td>1.0</td>\n",
       "      <td>22.0</td>\n",
       "      <td>...</td>\n",
       "      <td>0.000000</td>\n",
       "      <td>NaN</td>\n",
       "      <td>0.000000</td>\n",
       "      <td>0.136364</td>\n",
       "      <td>1.0</td>\n",
       "      <td>0.050000</td>\n",
       "      <td>0.090909</td>\n",
       "      <td>1.000000</td>\n",
       "      <td>0.250000</td>\n",
       "      <td>0.545455</td>\n",
       "    </tr>\n",
       "    <tr>\n",
       "      <th>4</th>\n",
       "      <td>10184</td>\n",
       "      <td>179</td>\n",
       "      <td>Ben Lewis</td>\n",
       "      <td>DAL</td>\n",
       "      <td>CAR</td>\n",
       "      <td>2022-06-03</td>\n",
       "      <td>2022.0</td>\n",
       "      <td>False</td>\n",
       "      <td>1.0</td>\n",
       "      <td>21.0</td>\n",
       "      <td>...</td>\n",
       "      <td>0.000000</td>\n",
       "      <td>NaN</td>\n",
       "      <td>0.000000</td>\n",
       "      <td>0.100000</td>\n",
       "      <td>1.0</td>\n",
       "      <td>0.307692</td>\n",
       "      <td>0.050000</td>\n",
       "      <td>1.000000</td>\n",
       "      <td>0.153846</td>\n",
       "      <td>0.750000</td>\n",
       "    </tr>\n",
       "  </tbody>\n",
       "</table>\n",
       "<p>5 rows × 219 columns</p>\n",
       "</div>"
      ],
      "text/plain": [
       "  player_season_id playerid             name team opponent   game_date  \\\n",
       "0            10177      220  Brandon Malecek  DAL      CAR  2022-06-03   \n",
       "1            10178     1966   Griffin Miller  DAL      CAR  2022-06-03   \n",
       "2            10182     2186      Jimmy Zuraw  DAL      CAR  2022-06-03   \n",
       "3            10183     1287  Michael Matthis  DAL      CAR  2022-06-03   \n",
       "4            10184      179        Ben Lewis  DAL      CAR  2022-06-03   \n",
       "\n",
       "     year  playoffs  games  total_points  ...  receptions_dump_pct  \\\n",
       "0  2022.0     False    1.0          21.0  ...             0.222222   \n",
       "1  2022.0     False    1.0          17.0  ...             0.000000   \n",
       "2  2022.0     False    1.0          22.0  ...             0.289474   \n",
       "3  2022.0     False    1.0          22.0  ...             0.000000   \n",
       "4  2022.0     False    1.0          21.0  ...             0.000000   \n",
       "\n",
       "   completion_huck_pct  attempts_huck_pct  receptions_huck_pct  \\\n",
       "0             1.000000           0.043478             0.000000   \n",
       "1                  NaN           0.000000             0.000000   \n",
       "2             0.666667           0.062500             0.000000   \n",
       "3                  NaN           0.000000             0.136364   \n",
       "4                  NaN           0.000000             0.100000   \n",
       "\n",
       "   completion_swing_pct  attempts_swing_pct  receptions_swing_pct  \\\n",
       "0                   1.0            0.021739              0.194444   \n",
       "1                   1.0            0.200000              0.000000   \n",
       "2                   1.0            0.145833              0.105263   \n",
       "3                   1.0            0.050000              0.090909   \n",
       "4                   1.0            0.307692              0.050000   \n",
       "\n",
       "   completion_throw_pct  attempts_throw_pct  receptions_throw_pct  \n",
       "0              0.964286            0.608696              0.305556  \n",
       "1              1.000000            0.400000              0.800000  \n",
       "2              1.000000            0.541667              0.236842  \n",
       "3              1.000000            0.250000              0.545455  \n",
       "4              1.000000            0.153846              0.750000  \n",
       "\n",
       "[5 rows x 219 columns]"
      ]
     },
     "execution_count": 28,
     "metadata": {},
     "output_type": "execute_result"
    }
   ],
   "source": [
    "g = audl.Game(\"https://audl-stat-server.herokuapp.com/stats-pages/game/2022-06-03-CAR-DAL\")\n",
    "g.get_player_stats_by_game(home=True).head()"
   ]
  },
  {
   "cell_type": "code",
   "execution_count": 12,
   "metadata": {},
   "outputs": [
    {
     "name": "stdout",
     "output_type": "stream",
     "text": [
      "CPU times: user 238 µs, sys: 40 µs, total: 278 µs\n",
      "Wall time: 262 µs\n"
     ]
    }
   ],
   "source": [
    "%%time\n",
    "# Initialize game object using URL from season object\n",
    "g = audl.Game(s.get_game_info()[\"url\"].iloc[0])"
   ]
  },
  {
   "cell_type": "code",
   "execution_count": 13,
   "metadata": {},
   "outputs": [
    {
     "name": "stdout",
     "output_type": "stream",
     "text": [
      "CPU times: user 83.1 ms, sys: 1.87 ms, total: 85 ms\n",
      "Wall time: 84.5 ms\n"
     ]
    },
    {
     "data": {
      "text/plain": [
       "[{'t': 50},\n",
       " {'t': 1, 'l': [10141, 10147, 10149, 10154, 10158, 10159, 10174]},\n",
       " {'t': 20, 'r': 10159, 'x': 13.64, 'y': 19.99},\n",
       " {'t': 20, 'r': 10141, 'x': -2.26, 'y': 41.59},\n",
       " {'t': 20, 'r': 10149, 'x': 5.93, 'y': 48.81},\n",
       " {'t': 20, 'r': 10141, 'x': 8.52, 'y': 38.52},\n",
       " {'t': 20, 'r': 10154, 'x': 23.25, 'y': 44.11},\n",
       " {'t': 20, 'r': 10141, 'x': 0.13, 'y': 39.61},\n",
       " {'t': 20, 'r': 10174, 'x': -16.03, 'y': 45.88},\n",
       " {'t': 20, 'r': 10149, 'x': -19.92, 'y': 61.15},\n",
       " {'t': 20, 'r': 10141, 'x': -2.05, 'y': 51.2},\n",
       " {'t': 22, 'r': 10158, 'x': 24.75, 'y': 108.61, 's': 678},\n",
       " {'t': 2, 'l': [10153, 10160, 10162, 10171, 10167, 10176, 10157]},\n",
       " {'t': 3, 'x': 0, 'y': 80, 'ms': 0},\n",
       " {'t': 5, 'r': 10160, 'q': 1},\n",
       " {'t': 20, 'r': 10160, 'x': -9.96, 'y': 65.52},\n",
       " {'t': 20, 'r': 10162, 'x': -7.37, 'y': 76.09},\n",
       " {'t': 20, 'r': 10171, 'x': 21.68, 'y': 82.56},\n",
       " {'t': 20, 'r': 10162, 'x': 22.64, 'y': 87.06},\n",
       " {'t': 20, 'r': 10171, 'x': 6.61, 'y': 90},\n",
       " {'t': 8, 'x': -23.81, 'y': 98.31},\n",
       " {'t': 11},\n",
       " {'t': 21, 's': 535},\n",
       " {'t': 1, 'l': [10141, 10147, 10149, 10154, 10158, 10159, 10173]},\n",
       " {'t': 20, 'r': 10159, 'x': 10.5, 'y': 12.68},\n",
       " {'t': 20, 'r': 10141, 'x': -2.94, 'y': 31.43},\n",
       " {'t': 20, 'r': 10159, 'x': -12.9, 'y': 33.06},\n",
       " {'t': 20, 'r': 10141, 'x': 0.13, 'y': 33},\n",
       " {'t': 20, 'r': 10159, 'x': -8.94, 'y': 32.45},\n",
       " {'t': 20, 'r': 10149, 'x': -8.53, 'y': 37.09},\n",
       " {'t': 12},\n",
       " {'t': 20, 'r': 10141, 'x': -0.07, 'y': 46.15},\n",
       " {'t': 20, 'r': 10154, 'x': 13.36, 'y': 44.93},\n",
       " {'t': 20, 'r': 10159, 'x': -9.14, 'y': 46.84},\n",
       " {'t': 20, 'r': 10149, 'x': 6.13, 'y': 52.02},\n",
       " {'t': 20, 'r': 10154, 'x': 13.7, 'y': 48.34},\n",
       " {'t': 12},\n",
       " {'t': 20, 'r': 10159, 'x': 2.72, 'y': 42.81},\n",
       " {'t': 20, 'r': 10154, 'x': 13.7, 'y': 42},\n",
       " {'t': 20, 'r': 10159, 'x': -1.3, 'y': 42.75},\n",
       " {'t': 20, 'r': 10141, 'x': 13.7, 'y': 41.25},\n",
       " {'t': 10},\n",
       " {'t': 20, 'r': 10159, 'x': 21.14, 'y': 33.75},\n",
       " {'t': 20, 'r': 10154, 'x': 6.61, 'y': 24.95},\n",
       " {'t': 20, 'r': 10173, 'x': -3.62, 'y': 26.31},\n",
       " {'t': 20, 'r': 10154, 'x': -14.33, 'y': 29.18},\n",
       " {'t': 20, 'r': 10149, 'x': -17.94, 'y': 36.06},\n",
       " {'t': 20, 'r': 10159, 'x': -9.48, 'y': 28.7},\n",
       " {'t': 20, 'r': 10154, 'x': -17.53, 'y': 29.59},\n",
       " {'t': 20, 'r': 10149, 'x': -11.67, 'y': 34.43},\n",
       " {'t': 20, 'r': 10154, 'x': -14.26, 'y': 39.95},\n",
       " {'t': 20, 'r': 10173, 'x': -14.12, 'y': 48.2},\n",
       " {'t': 20, 'r': 10141, 'x': -2.39, 'y': 48.74},\n",
       " {'t': 8, 'x': 26.66, 'y': 106.15},\n",
       " {'t': 54, 's': 372},\n",
       " {'t': 43, 's': 372},\n",
       " {'t': 40, 'l': [10141, 10147, 10149, 10154, 10158, 10173, 10153]},\n",
       " {'t': 53},\n",
       " {'t': 21, 's': 367},\n",
       " {'t': 1, 'l': [10174, 10158, 10149, 10154, 10141, 10162, 10147]},\n",
       " {'t': 20, 'r': 10162, 'x': 0, 'y': 40},\n",
       " {'t': 20, 'r': 10154, 'x': -15.9, 'y': 45.54},\n",
       " {'t': 20, 'r': 10158, 'x': -13.92, 'y': 62.45},\n",
       " {'t': 20, 'r': 10154, 'x': -11.39, 'y': 54.47},\n",
       " {'t': 22, 'r': 10162, 'x': 7.16, 'y': 115.09, 's': 331},\n",
       " {'t': 2, 'l': [10153, 10156, 10176, 10143, 10151, 10165, 10166]},\n",
       " {'t': 3, 'x': 0, 'y': 80, 'ms': 0},\n",
       " {'t': 21, 'q': 1, 's': 244},\n",
       " {'t': 1, 'l': [10174, 10158, 10159, 10154, 10173, 10147, 10141]},\n",
       " {'t': 20, 'r': 10159, 'x': -0.69, 'y': 24.2},\n",
       " {'t': 20, 'r': 10141, 'x': -0.07, 'y': 29.65},\n",
       " {'t': 20, 'r': 10159, 'x': -7.03, 'y': 27.54},\n",
       " {'t': 20, 'r': 10154, 'x': -17.33, 'y': 31.63},\n",
       " {'t': 20, 'r': 10159, 'x': -16.92, 'y': 24},\n",
       " {'t': 20, 'r': 10154, 'x': -21.01, 'y': 29.79},\n",
       " {'t': 20, 'r': 10159, 'x': -10.99, 'y': 24.13},\n",
       " {'t': 20, 'r': 10141, 'x': -10.78, 'y': 29.45},\n",
       " {'t': 20, 'r': 10158, 'x': -3.42, 'y': 55.56},\n",
       " {'t': 20, 'r': 10154, 'x': 10.43, 'y': 52.63},\n",
       " {'t': 20, 'r': 10147, 'x': 19.5, 'y': 59.72},\n",
       " {'t': 20, 'r': 10154, 'x': 23.18, 'y': 71.52},\n",
       " {'t': 20, 'r': 10147, 'x': 13.43, 'y': 77.38},\n",
       " {'t': 20, 'r': 10173, 'x': 7.5, 'y': 86.18},\n",
       " {'t': 22, 'r': 10158, 'x': -18.62, 'y': 106.22, 's': 187},\n",
       " {'t': 2, 'l': [10171, 10162, 10156, 10153, 10167, 10160, 10157]},\n",
       " {'t': 3, 'r': 10162, 'x': -25.85, 'y': 51.47, 'ms': 13576},\n",
       " {'t': 13},\n",
       " {'t': 54, 's': 148},\n",
       " {'t': 53},\n",
       " {'t': 54, 's': 145},\n",
       " {'t': 53},\n",
       " {'t': 13},\n",
       " {'t': 54, 's': 103},\n",
       " {'t': 53},\n",
       " {'t': 5, 'r': 10157, 'h': 1},\n",
       " {'t': 20, 'r': 10157, 'x': -16.58, 'y': 30.54},\n",
       " {'t': 20, 'r': 10153, 'x': 19.64, 'y': 31.97},\n",
       " {'t': 8, 'x': -7.64, 'y': 96.47},\n",
       " {'t': 23},\n",
       " {'t': 2, 'l': [10165, 10143, 10151, 10167, 10162, 10176, 10166]},\n",
       " {'t': 3, 'r': 10162, 'x': -6.69, 'y': 111.27, 'ms': 5759},\n",
       " {'t': 11},\n",
       " {'t': 21, 's': 649},\n",
       " {'t': 1, 'l': [10174, 10158, 10149, 10159, 10154, 10173, 10141]},\n",
       " {'t': 20, 'r': 10159, 'x': 1.22, 'y': 25.43},\n",
       " {'t': 20, 'r': 10141, 'x': -1.91, 'y': 34.77},\n",
       " {'t': 20, 'r': 10159, 'x': -11.94, 'y': 35.59},\n",
       " {'t': 20, 'r': 10141, 'x': -2.53, 'y': 33.75},\n",
       " {'t': 20, 'r': 10174, 'x': 18.41, 'y': 41.93},\n",
       " {'t': 20, 'r': 10149, 'x': 13.09, 'y': 46.9},\n",
       " {'t': 22, 'r': 10173, 'x': 4.63, 'y': 107.79, 's': 613},\n",
       " {'t': 2, 'l': [10153, 10171, 10157, 10176, 10156, 10165, 10160]},\n",
       " {'t': 3, 'r': 10157, 'x': 11.59, 'y': 100.15, 'ms': 7906},\n",
       " {'t': 54, 's': 576},\n",
       " {'t': 53},\n",
       " {'t': 13},\n",
       " {'t': 5, 'r': 10156},\n",
       " {'t': 20, 'r': 10157, 'x': -25.79, 'y': 67.09},\n",
       " {'t': 20, 'r': 10153, 'x': 0.34, 'y': 62.25},\n",
       " {'t': 20, 'r': 10160, 'x': 19.3, 'y': 72.27},\n",
       " {'t': 20, 'r': 10176, 'x': 8.25, 'y': 75.75},\n",
       " {'t': 20, 'r': 10153, 'x': 1.77, 'y': 69.2},\n",
       " {'t': 20, 'r': 10176, 'x': -9.35, 'y': 73.63},\n",
       " {'t': 20, 'r': 10153, 'x': 2.65, 'y': 68.86},\n",
       " {'t': 20, 'r': 10176, 'x': -15.9, 'y': 89.25},\n",
       " {'t': 22, 'r': 10160, 'x': -23.53, 'y': 101.59, 's': 523},\n",
       " {'t': 2, 'l': [10167, 10174, 10143, 10166, 10162, 10151, 10160]},\n",
       " {'t': 3, 'r': 10162, 'x': 0.34, 'y': 110.45, 'ms': 6598},\n",
       " {'t': 54, 's': 476},\n",
       " {'t': 53},\n",
       " {'t': 18},\n",
       " {'t': 20, 'r': 10162, 'x': -26.67, 'y': 60.34},\n",
       " {'t': 20, 'r': 10143, 'x': -15.83, 'y': 42.88},\n",
       " {'t': 20, 'r': 10174, 'x': -3.96, 'y': 49.49},\n",
       " {'t': 20, 'r': 10160, 'x': 3.2, 'y': 70.56},\n",
       " {'t': 20, 'r': 10167, 'x': -3.62, 'y': 74.72},\n",
       " {'t': 20, 'r': 10143, 'x': -13.24, 'y': 73.56},\n",
       " {'t': 20, 'r': 10174, 'x': -18.15, 'y': 87.34},\n",
       " {'t': 20, 'r': 10143, 'x': -13.1, 'y': 81.47},\n",
       " {'t': 20, 'r': 10160, 'x': -24.56, 'y': 85.63},\n",
       " {'t': 20, 'r': 10162, 'x': -16.24, 'y': 83.38},\n",
       " {'t': 20, 'r': 10174, 'x': -3.28, 'y': 81.75},\n",
       " {'t': 20, 'r': 10166, 'x': 19.09, 'y': 93.47},\n",
       " {'t': 22, 'r': 10143, 'x': 23.8, 'y': 107.86, 's': 418},\n",
       " {'t': 2, 'l': [10176, 10157, 10171, 10167, 10156, 10165, 10153]},\n",
       " {'t': 4, 'r': 10153, 'x': 0, 'y': 80},\n",
       " {'t': 54, 's': 397},\n",
       " {'t': 53},\n",
       " {'t': 54, 's': 373},\n",
       " {'t': 53},\n",
       " {'t': 13},\n",
       " {'t': 54, 's': 275},\n",
       " {'t': 21, 's': 274},\n",
       " {'t': 1, 'l': [10174, 10158, 10149, 10159, 10173, 10147, 10141]},\n",
       " {'t': 20, 'r': 10159, 'x': -0.48, 'y': 3.4},\n",
       " {'t': 20, 'r': 10141, 'x': -1.3, 'y': 29.65},\n",
       " {'t': 20, 'r': 10158, 'x': -1.98, 'y': 46.9},\n",
       " {'t': 20, 'r': 10174, 'x': 22.84, 'y': 95.45},\n",
       " {'t': 20, 'r': 10173, 'x': 7.43, 'y': 93.95},\n",
       " {'t': 22, 'r': 10147, 'x': 1.36, 'y': 109.29, 's': 254},\n",
       " {'t': 2, 'l': [10143, 10156, 10171, 10176, 10162, 10167, 10153]},\n",
       " {'t': 3, 'r': 10153, 'x': -13.65, 'y': 106.9, 'ms': 8310},\n",
       " {'t': 5, 'r': 10156},\n",
       " {'t': 42, 's': 175},\n",
       " {'t': 41, 'l': [10143, 10171, 10176, 10162, 10167, 10153, 10141]},\n",
       " {'t': 20, 'r': 10162, 'x': 4.43, 'y': 19.5},\n",
       " {'t': 20, 'r': 10176, 'x': 17.86, 'y': 29.86},\n",
       " {'t': 20, 'r': 10153, 'x': 19.71, 'y': 40.63},\n",
       " {'t': 20, 'r': 10176, 'x': 13.36, 'y': 34.15},\n",
       " {'t': 20, 'r': 10167, 'x': 20.39, 'y': 43.9},\n",
       " {'t': 20, 'r': 10176, 'x': 16.64, 'y': 36.27},\n",
       " {'t': 20, 'r': 10162, 'x': 20.46, 'y': 42.61},\n",
       " {'t': 20, 'r': 10143, 'x': 13.29, 'y': 46.56},\n",
       " {'t': 20, 'r': 10176, 'x': 3.41, 'y': 44.25},\n",
       " {'t': 20, 'r': 10167, 'x': -10.64, 'y': 45.81},\n",
       " {'t': 20, 'r': 10141, 'x': -1.03, 'y': 46.84},\n",
       " {'t': 20, 'r': 10153, 'x': 4.7, 'y': 64.9},\n",
       " {'t': 20, 'r': 10143, 'x': 13.77, 'y': 71.25},\n",
       " {'t': 20, 'r': 10141, 'x': 8.25, 'y': 65.04},\n",
       " {'t': 20, 'r': 10167, 'x': -14.19, 'y': 67.84},\n",
       " {'t': 8, 'x': -14.19, 'y': 67.84},\n",
       " {'t': 54, 's': 87},\n",
       " {'t': 15, 's': 87},\n",
       " {'t': 40, 'l': [10153, 10160, 10154, 10151, 10166, 10157, 10165]},\n",
       " {'t': 53},\n",
       " {'t': 54, 's': 60},\n",
       " {'t': 11},\n",
       " {'t': 54, 's': 59},\n",
       " {'t': 53},\n",
       " {'t': 21, 's': 15},\n",
       " {'t': 1, 'l': [10149, 10147, 10158, 10153, 10159, 10154, 10141]},\n",
       " {'t': 20, 'r': 10159, 'x': 14.86, 'y': 4.36},\n",
       " {'t': 20, 'r': 10141, 'x': -0.96, 'y': 14.31},\n",
       " {'t': 20, 'r': 10154, 'x': 14.66, 'y': 30.4},\n",
       " {'t': 20, 'r': 10159, 'x': 7.02, 'y': 32.45},\n",
       " {'t': 20, 'r': 10149, 'x': -1.57, 'y': 47.93},\n",
       " {'t': 20, 'r': 10158, 'x': -1.23, 'y': 65.93},\n",
       " {'t': 8, 'x': -1.23, 'y': 65.93},\n",
       " {'t': 24},\n",
       " {'t': 1, 'l': [10158, 10149, 10159, 10154, 10173, 10147, 10141]},\n",
       " {'t': 20, 'r': 10141, 'x': 21.27, 'y': 16.02},\n",
       " {'t': 20, 'r': 10159, 'x': 7.36, 'y': 17.38},\n",
       " {'t': 20, 'r': 10141, 'x': 17.59, 'y': 30.34},\n",
       " {'t': 20, 'r': 10158, 'x': 16.57, 'y': 86.65},\n",
       " {'t': 22, 'r': 10149, 'x': -22.99, 'y': 105.4, 's': 693},\n",
       " {'t': 2, 'l': [10176, 10160, 10167, 10165, 10162, 10153, 10156]},\n",
       " {'t': 3, 'r': 10153, 'x': 0, 'y': 80, 'ms': 7330},\n",
       " {'t': 21, 's': 579},\n",
       " {'t': 1, 'l': [10174, 10158, 10159, 10154, 10147, 10141, 10153]},\n",
       " {'t': 20, 'r': 10159, 'x': -2.8, 'y': 15.95},\n",
       " {'t': 20, 'r': 10141, 'x': -2.53, 'y': 28.43},\n",
       " {'t': 20, 'r': 10158, 'x': -1.71, 'y': 57.27},\n",
       " {'t': 20, 'r': 10141, 'x': -3.35, 'y': 46.29},\n",
       " {'t': 20, 'r': 10159, 'x': -16.24, 'y': 51.61},\n",
       " {'t': 20, 'r': 10141, 'x': -7.85, 'y': 54.2},\n",
       " {'t': 20, 'r': 10153, 'x': 16.3, 'y': 67.29},\n",
       " {'t': 20, 'r': 10141, 'x': -2.05, 'y': 55.22},\n",
       " {'t': 20, 'r': 10158, 'x': -2.6, 'y': 82.36},\n",
       " {'t': 20, 'r': 10153, 'x': -8.12, 'y': 79.15},\n",
       " {'t': 20, 'r': 10154, 'x': -17.87, 'y': 82.02},\n",
       " {'t': 20, 'r': 10159, 'x': -10.3, 'y': 76.43},\n",
       " {'t': 20, 'r': 10154, 'x': -2.39, 'y': 79.36},\n",
       " {'t': 20, 'r': 10159, 'x': -2.19, 'y': 85.29},\n",
       " {'t': 20, 'r': 10141, 'x': 16.64, 'y': 83.45},\n",
       " {'t': 22, 'r': 10154, 'x': 24.07, 'y': 101.93, 's': 513},\n",
       " {'t': 2, 'l': [10176, 10171, 10143, 10157, 10151, 10165, 10149]},\n",
       " {'t': 3, 'r': 10151, 'x': -3.69, 'y': 106.43, 'ms': 0},\n",
       " {'t': 54, 's': 473},\n",
       " {'t': 11},\n",
       " {'t': 54, 's': 481},\n",
       " {'t': 53},\n",
       " {'t': 21, 's': 460},\n",
       " {'t': 1, 'l': [10174, 10158, 10159, 10154, 10173, 10147, 10141]},\n",
       " {'t': 20, 'r': 10141, 'x': 2.93, 'y': 25.84},\n",
       " {'t': 20, 'r': 10159, 'x': -0.82, 'y': 34.15},\n",
       " {'t': 10},\n",
       " {'t': 20, 'r': 10158, 'x': 18.95, 'y': 36.2},\n",
       " {'t': 8, 'x': -3.62, 'y': 110.99},\n",
       " {'t': 54, 's': 409},\n",
       " {'t': 53},\n",
       " {'t': 6, 'r': 10154, 'h': 1, 's': 402},\n",
       " {'t': 2, 'l': [10153, 10160, 10143, 10167, 10156, 10165, 10162]},\n",
       " {'t': 3, 'r': 10153, 'x': 0, 'y': 80, 'ms': 8492},\n",
       " {'t': 11},\n",
       " {'t': 21, 's': 329},\n",
       " {'t': 1, 'l': [10174, 10158, 10149, 10159, 10154, 10173, 10141]},\n",
       " {'t': 20, 'r': 10141, 'x': -1.44, 'y': 10.02},\n",
       " {'t': 20, 'r': 10159, 'x': 1.97, 'y': 34.29},\n",
       " {'t': 20, 'r': 10141, 'x': -13.37, 'y': 35.18},\n",
       " {'t': 20, 'r': 10159, 'x': -4.78, 'y': 34.9},\n",
       " {'t': 20, 'r': 10154, 'x': 9.41, 'y': 33.34},\n",
       " {'t': 20, 'r': 10158, 'x': 21.07, 'y': 53.79},\n",
       " {'t': 20, 'r': 10154, 'x': 19.3, 'y': 44.45},\n",
       " {'t': 20, 'r': 10141, 'x': 9.27, 'y': 43.63},\n",
       " {'t': 20, 'r': 10149, 'x': -4.92, 'y': 40.7},\n",
       " {'t': 20, 'r': 10154, 'x': 5.18, 'y': 35.65},\n",
       " {'t': 8, 'x': -11.39, 'y': 66.2},\n",
       " {'t': 15, 's': 260},\n",
       " {'t': 40, 'l': [10171, 10157, 10151, 10162, 10176, 10153, 10166]},\n",
       " {'t': 53},\n",
       " {'t': 54, 's': 246},\n",
       " {'t': 53},\n",
       " {'t': 11},\n",
       " {'t': 9},\n",
       " {'t': 20, 'r': 10157, 'x': -14.6, 'y': 36.68},\n",
       " {'t': 20, 'r': 10162, 'x': 4.5, 'y': 37.5},\n",
       " {'t': 20, 'r': 10171, 'x': 19.5, 'y': 42.27},\n",
       " {'t': 14, 's': 199},\n",
       " {'t': 41, 'l': [10158, 10149, 10159, 10154, 10173, 10147, 10141]},\n",
       " {'t': 20, 'r': 10141, 'x': 19.5, 'y': 42.27},\n",
       " {'t': 19, 'r': 10173, 'x': 2.45, 'y': 57.47},\n",
       " {'t': 11},\n",
       " {'t': 5, 'r': 10154},\n",
       " {'t': 20, 'r': 10141, 'x': 12.54, 'y': 21.06},\n",
       " {'t': 20, 'r': 10149, 'x': 9.82, 'y': 32.59},\n",
       " {'t': 20, 'r': 10141, 'x': 10.63, 'y': 23.25},\n",
       " {'t': 20, 'r': 10154, 'x': -4.98, 'y': 22.43},\n",
       " {'t': 20, 'r': 10159, 'x': -13.51, 'y': 37.97},\n",
       " {'t': 20, 'r': 10154, 'x': -1.3, 'y': 34.7},\n",
       " {'t': 20, 'r': 10173, 'x': 15.2, 'y': 38.25},\n",
       " {'t': 12},\n",
       " {'t': 42, 's': 93},\n",
       " {'t': 41, 'l': [10158, 10159, 10154, 10173, 10147, 10141, 10153]},\n",
       " {'t': 20, 'r': 10153, 'x': -3.07, 'y': 100},\n",
       " {'t': 22, 'r': 10154, 'q': 1, 'x': -12.42, 'y': 102.88, 's': 123},\n",
       " {'t': 2, 'l': [10156, 10165, 10176, 10153, 10167, 10171, 10160]},\n",
       " {'t': 3, 'r': 10153, 'x': -10.1, 'y': 102.06, 'ms': 8829},\n",
       " {'t': 21, 's': 85},\n",
       " {'t': 1, 'l': [10174, 10158, 10159, 10154, 10173, 10147, 10141]},\n",
       " {'t': 20, 'r': 10141, 'x': -20.33, 'y': 51.47},\n",
       " {'t': 20, 'r': 10159, 'x': -9.89, 'y': 47.11},\n",
       " {'t': 20, 'r': 10158, 'x': 6.95, 'y': 50.59},\n",
       " {'t': 20, 'r': 10159, 'x': -3.69, 'y': 54.81},\n",
       " {'t': 20, 'r': 10174, 'x': -17.87, 'y': 65.72},\n",
       " {'t': 8, 'x': -17.87, 'y': 65.72},\n",
       " {'t': 13},\n",
       " {'t': 54, 's': 37},\n",
       " {'t': 53},\n",
       " {'t': 21, 's': 28},\n",
       " {'t': 1, 'l': [10174, 10158, 10159, 10154, 10147, 10141, 10153]},\n",
       " {'t': 20, 'r': 10141, 'x': -26.67, 'y': 38.65},\n",
       " {'t': 20, 'r': 10154, 'x': -13.65, 'y': 42.81},\n",
       " {'t': 20, 'r': 10141, 'x': -24.01, 'y': 45.54},\n",
       " {'t': 20, 'r': 10159, 'x': -8.67, 'y': 38.45},\n",
       " {'t': 20, 'r': 10141, 'x': -20.67, 'y': 41.38},\n",
       " {'t': 20, 'r': 10158, 'x': -22.31, 'y': 51.34},\n",
       " {'t': 20, 'r': 10159, 'x': -13.17, 'y': 47.04},\n",
       " {'t': 20, 'r': 10154, 'x': -14.33, 'y': 69},\n",
       " {'t': 20, 'r': 10141, 'x': 0.61, 'y': 69.06},\n",
       " {'t': 8, 'x': 26.53, 'y': 115.22},\n",
       " {'t': 54, 's': 2},\n",
       " {'t': 53},\n",
       " {'t': 25},\n",
       " {'t': 2, 'l': [10171, 10153, 10176, 10167, 10162, 10143, 10160]},\n",
       " {'t': 3, 'r': 10153, 'x': 22.16, 'y': 100, 'ms': 8597},\n",
       " {'t': 11},\n",
       " {'t': 13},\n",
       " {'t': 11},\n",
       " {'t': 11},\n",
       " {'t': 43, 's': 597},\n",
       " {'t': 40, 'l': [10153, 10176, 10167, 10162, 10160, 10156, 10171]},\n",
       " {'t': 53},\n",
       " {'t': 54, 's': 565},\n",
       " {'t': 11},\n",
       " {'t': 54, 's': 566},\n",
       " {'t': 53},\n",
       " {'t': 11},\n",
       " {'t': 54, 's': 523},\n",
       " {'t': 53},\n",
       " {'t': 21, 's': 501},\n",
       " {'t': 1, 'l': [10174, 10158, 10159, 10154, 10173, 10147, 10141]},\n",
       " {'t': 20, 'r': 10159, 'x': 1.56, 'y': 9.81},\n",
       " {'t': 20, 'r': 10141, 'x': -8.46, 'y': 25.84},\n",
       " {'t': 20, 'r': 10159, 'x': -12.76, 'y': 20.93},\n",
       " {'t': 20, 'r': 10154, 'x': 6.41, 'y': 19.56},\n",
       " {'t': 20, 'r': 10159, 'x': -8.94, 'y': 18.68},\n",
       " {'t': 20, 'r': 10141, 'x': -16.99, 'y': 21},\n",
       " {'t': 20, 'r': 10154, 'x': -0.55, 'y': 18.2},\n",
       " {'t': 20, 'r': 10173, 'x': 8.11, 'y': 25.15},\n",
       " {'t': 20, 'r': 10141, 'x': -0.21, 'y': 29.11},\n",
       " {'t': 20, 'r': 10159, 'x': -11.6, 'y': 34.36},\n",
       " {'t': 20, 'r': 10141, 'x': 1.29, 'y': 31.97},\n",
       " {'t': 20, 'r': 10173, 'x': 19.71, 'y': 43.36},\n",
       " {'t': 20, 'r': 10141, 'x': 15.75, 'y': 47.25},\n",
       " {'t': 20, 'r': 10174, 'x': 23.59, 'y': 71.52},\n",
       " {'t': 20, 'r': 10173, 'x': 12.89, 'y': 72.47},\n",
       " {'t': 20, 'r': 10141, 'x': 6.13, 'y': 70.77},\n",
       " {'t': 20, 'r': 10159, 'x': -7.1, 'y': 68.86},\n",
       " {'t': 20, 'r': 10173, 'x': 15.75, 'y': 72.88},\n",
       " {'t': 20, 'r': 10141, 'x': 13.02, 'y': 75},\n",
       " {'t': 20, 'r': 10147, 'x': -22.58, 'y': 85.5},\n",
       " {'t': 20, 'r': 10154, 'x': -16.58, 'y': 81.95},\n",
       " {'t': 20, 'r': 10141, 'x': 9.95, 'y': 82.29},\n",
       " {'t': 20, 'r': 10158, 'x': 18, 'y': 90.75},\n",
       " {'t': 20, 'r': 10141, 'x': 13.98, 'y': 93.54},\n",
       " {'t': 22, 'r': 10174, 'x': -18.21, 'y': 116.93, 's': 410},\n",
       " {'t': 2, 'l': [10165, 10160, 10162, 10156, 10153, 10167, 10176]},\n",
       " {'t': 3, 'r': 10153, 'x': 0, 'y': 80, 'ms': 8302},\n",
       " {'t': 11},\n",
       " {'t': 21, 's': 309},\n",
       " {'t': 1, 'l': [10174, 10158, 10149, 10159, 10154, 10147, 10141]},\n",
       " {'t': 20, 'r': 10159, 'x': 1.02, 'y': 15.61},\n",
       " {'t': 20, 'r': 10149, 'q': 1, 'x': 0.2, 'y': 48.95},\n",
       " {'t': 20, 'r': 10141, 'x': -1.1, 'y': 43.02},\n",
       " {'t': 20, 'r': 10154, 'x': 21.34, 'y': 64.29},\n",
       " {'t': 20, 'r': 10141, 'x': 16.84, 'y': 55.77},\n",
       " {'t': 20, 'r': 10154, 'x': 7.97, 'y': 57.4},\n",
       " {'t': 20, 'r': 10141, 'x': -6.07, 'y': 65.59},\n",
       " {'t': 20, 'r': 10159, 'x': -14.74, 'y': 69.88},\n",
       " {'t': 20, 'r': 10147, 'x': -17.94, 'y': 77.11},\n",
       " {'t': 20, 'r': 10154, 'x': -7.85, 'y': 79.09},\n",
       " {'t': 22, 'r': 10174, 'x': 23.32, 'y': 105.81, 's': 258},\n",
       " {'t': 2, 'l': [10153, 10166, 10143, 10176, 10171, 10160, 10167]},\n",
       " {'t': 3, 'r': 10153, 'x': -3.48, 'y': 95.52, 'ms': 10244},\n",
       " {'t': 53},\n",
       " {'t': 13},\n",
       " {'t': 5, 'r': 10160},\n",
       " {'t': 20, 'r': 10176, 'x': 13.29, 'y': 88.84},\n",
       " {'t': 22, 'r': 10160, 'h': 1, 'x': 18.61, 'y': 107.65, 's': 193},\n",
       " {'t': 2, 'l': [10156, 10143, 10165, 10162, 10171, 10157, 10153]},\n",
       " {'t': 3, 'r': 10162, 'x': 23.18, 'y': 87.81, 'ms': 9098},\n",
       " {'t': 18},\n",
       " {'t': 20, 'r': 10162, 'x': -3.48, 'y': 80.31},\n",
       " {'t': 14, 's': 151},\n",
       " {'t': 41, 'l': [10141, 10159, 10154, 10158, 10153, 10149, 10174]},\n",
       " {'t': 20, 'r': 10141, 'x': -3.48, 'y': 80.31},\n",
       " {'t': 20, 'r': 10153, 'x': -17.53, 'y': 96.06},\n",
       " {'t': 22, 'r': 10154, 'x': -25.51, 'y': 107.93, 's': 140},\n",
       " {'t': 2, 'l': [10151, 10171, 10156, 10167, 10160, 10166, 10162]},\n",
       " {'t': 3, 'r': 10167, 'x': -9.35, 'y': 100, 'ms': 7394},\n",
       " {'t': 21, 's': 38},\n",
       " {'t': 1, 'l': [10158, 10149, 10159, 10154, 10147, 10141, 10153]},\n",
       " {'t': 20, 'r': 10141, 'x': -26.67, 'y': 68.93},\n",
       " {'t': 20, 'r': 10153, 'x': -9.76, 'y': 70.29},\n",
       " {'t': 20, 'r': 10159, 'x': -2.94, 'y': 49.84},\n",
       " {'t': 20, 'r': 10149, 'x': -16.92, 'y': 96.06},\n",
       " {'t': 22, 'r': 10154, 'x': -24.9, 'y': 101.59, 's': 17},\n",
       " {'t': 2, 'l': [10156, 10171, 10167, 10176, 10143, 10158, 10153]},\n",
       " {'t': 3, 'r': 10153, 'x': -5.53, 'y': 107.93, 'ms': 6712},\n",
       " {'t': 5, 'r': 10167},\n",
       " {'t': 20, 'r': 10167, 'x': 1.77, 'y': 28.43},\n",
       " {'t': 12},\n",
       " {'t': 20, 'r': 10156, 'x': 14.52, 'y': 45.47},\n",
       " {'t': 26}]"
      ]
     },
     "execution_count": 13,
     "metadata": {},
     "output_type": "execute_result"
    }
   ],
   "source": [
    "%%time\n",
    "# Here's what the raw events look like\n",
    "# Each dict in the list represents a different event. For example, 20 is a completion, 21 is a score, etc.\n",
    "# See constants.py for a list of the conversions.\n",
    "g.get_home_events_raw()"
   ]
  },
  {
   "cell_type": "code",
   "execution_count": 14,
   "metadata": {},
   "outputs": [
    {
     "name": "stdout",
     "output_type": "stream",
     "text": [
      "CPU times: user 5.65 ms, sys: 2.65 ms, total: 8.3 ms\n",
      "Wall time: 5.28 ms\n"
     ]
    },
    {
     "data": {
      "text/html": [
       "<div>\n",
       "<style scoped>\n",
       "    .dataframe tbody tr th:only-of-type {\n",
       "        vertical-align: middle;\n",
       "    }\n",
       "\n",
       "    .dataframe tbody tr th {\n",
       "        vertical-align: top;\n",
       "    }\n",
       "\n",
       "    .dataframe thead th {\n",
       "        text-align: right;\n",
       "    }\n",
       "</style>\n",
       "<table border=\"1\" class=\"dataframe\">\n",
       "  <thead>\n",
       "    <tr style=\"text-align: right;\">\n",
       "      <th></th>\n",
       "      <th>t</th>\n",
       "      <th>r</th>\n",
       "      <th>x</th>\n",
       "      <th>y</th>\n",
       "      <th>s</th>\n",
       "      <th>q</th>\n",
       "      <th>h</th>\n",
       "      <th>game_id</th>\n",
       "      <th>team_id</th>\n",
       "      <th>opponent_team_id</th>\n",
       "      <th>...</th>\n",
       "      <th>10165</th>\n",
       "      <th>10166</th>\n",
       "      <th>10167</th>\n",
       "      <th>10171</th>\n",
       "      <th>10173</th>\n",
       "      <th>10174</th>\n",
       "      <th>10176</th>\n",
       "      <th>centering_pass</th>\n",
       "      <th>throw_type</th>\n",
       "      <th>play_description</th>\n",
       "    </tr>\n",
       "  </thead>\n",
       "  <tbody>\n",
       "    <tr>\n",
       "      <th>0</th>\n",
       "      <td>50</td>\n",
       "      <td>NaN</td>\n",
       "      <td>NaN</td>\n",
       "      <td>NaN</td>\n",
       "      <td>720.0</td>\n",
       "      <td>NaN</td>\n",
       "      <td>NaN</td>\n",
       "      <td>2893</td>\n",
       "      <td>18</td>\n",
       "      <td>1</td>\n",
       "      <td>...</td>\n",
       "      <td>NaN</td>\n",
       "      <td>NaN</td>\n",
       "      <td>NaN</td>\n",
       "      <td>NaN</td>\n",
       "      <td>NaN</td>\n",
       "      <td>NaN</td>\n",
       "      <td>NaN</td>\n",
       "      <td>False</td>\n",
       "      <td>None</td>\n",
       "      <td></td>\n",
       "    </tr>\n",
       "    <tr>\n",
       "      <th>1</th>\n",
       "      <td>1</td>\n",
       "      <td>NaN</td>\n",
       "      <td>NaN</td>\n",
       "      <td>NaN</td>\n",
       "      <td>NaN</td>\n",
       "      <td>NaN</td>\n",
       "      <td>NaN</td>\n",
       "      <td>2893</td>\n",
       "      <td>18</td>\n",
       "      <td>1</td>\n",
       "      <td>...</td>\n",
       "      <td>0.0</td>\n",
       "      <td>0.0</td>\n",
       "      <td>0.0</td>\n",
       "      <td>0.0</td>\n",
       "      <td>0.0</td>\n",
       "      <td>1.0</td>\n",
       "      <td>0.0</td>\n",
       "      <td>False</td>\n",
       "      <td>None</td>\n",
       "      <td></td>\n",
       "    </tr>\n",
       "    <tr>\n",
       "      <th>2</th>\n",
       "      <td>20</td>\n",
       "      <td>10159.0</td>\n",
       "      <td>13.64</td>\n",
       "      <td>19.99</td>\n",
       "      <td>NaN</td>\n",
       "      <td>NaN</td>\n",
       "      <td>NaN</td>\n",
       "      <td>2893</td>\n",
       "      <td>18</td>\n",
       "      <td>1</td>\n",
       "      <td>...</td>\n",
       "      <td>0.0</td>\n",
       "      <td>0.0</td>\n",
       "      <td>0.0</td>\n",
       "      <td>0.0</td>\n",
       "      <td>0.0</td>\n",
       "      <td>1.0</td>\n",
       "      <td>0.0</td>\n",
       "      <td>True</td>\n",
       "      <td>Throw</td>\n",
       "      <td>Completion: Matt Gouchoe-Hanas Throw to&lt;br&gt;Sol...</td>\n",
       "    </tr>\n",
       "    <tr>\n",
       "      <th>3</th>\n",
       "      <td>20</td>\n",
       "      <td>10141.0</td>\n",
       "      <td>-2.26</td>\n",
       "      <td>41.59</td>\n",
       "      <td>NaN</td>\n",
       "      <td>NaN</td>\n",
       "      <td>NaN</td>\n",
       "      <td>2893</td>\n",
       "      <td>18</td>\n",
       "      <td>1</td>\n",
       "      <td>...</td>\n",
       "      <td>0.0</td>\n",
       "      <td>0.0</td>\n",
       "      <td>0.0</td>\n",
       "      <td>0.0</td>\n",
       "      <td>0.0</td>\n",
       "      <td>1.0</td>\n",
       "      <td>0.0</td>\n",
       "      <td>False</td>\n",
       "      <td>Dish</td>\n",
       "      <td>Completion: Sol Yanuck Dish to&lt;br&gt;Henry Fisher...</td>\n",
       "    </tr>\n",
       "    <tr>\n",
       "      <th>4</th>\n",
       "      <td>20</td>\n",
       "      <td>10149.0</td>\n",
       "      <td>5.93</td>\n",
       "      <td>48.81</td>\n",
       "      <td>NaN</td>\n",
       "      <td>NaN</td>\n",
       "      <td>NaN</td>\n",
       "      <td>2893</td>\n",
       "      <td>18</td>\n",
       "      <td>1</td>\n",
       "      <td>...</td>\n",
       "      <td>0.0</td>\n",
       "      <td>0.0</td>\n",
       "      <td>0.0</td>\n",
       "      <td>0.0</td>\n",
       "      <td>0.0</td>\n",
       "      <td>1.0</td>\n",
       "      <td>0.0</td>\n",
       "      <td>False</td>\n",
       "      <td>Dump</td>\n",
       "      <td>Completion: Henry Fisher Dump to&lt;br&gt;Sol Yanuck...</td>\n",
       "    </tr>\n",
       "  </tbody>\n",
       "</table>\n",
       "<p>5 rows × 68 columns</p>\n",
       "</div>"
      ],
      "text/plain": [
       "    t        r      x      y      s   q   h  game_id  team_id  \\\n",
       "0  50      NaN    NaN    NaN  720.0 NaN NaN     2893       18   \n",
       "1   1      NaN    NaN    NaN    NaN NaN NaN     2893       18   \n",
       "2  20  10159.0  13.64  19.99    NaN NaN NaN     2893       18   \n",
       "3  20  10141.0  -2.26  41.59    NaN NaN NaN     2893       18   \n",
       "4  20  10149.0   5.93  48.81    NaN NaN NaN     2893       18   \n",
       "\n",
       "   opponent_team_id  ...  10165 10166  10167  10171  10173  10174  10176  \\\n",
       "0                 1  ...    NaN   NaN    NaN    NaN    NaN    NaN    NaN   \n",
       "1                 1  ...    0.0   0.0    0.0    0.0    0.0    1.0    0.0   \n",
       "2                 1  ...    0.0   0.0    0.0    0.0    0.0    1.0    0.0   \n",
       "3                 1  ...    0.0   0.0    0.0    0.0    0.0    1.0    0.0   \n",
       "4                 1  ...    0.0   0.0    0.0    0.0    0.0    1.0    0.0   \n",
       "\n",
       "  centering_pass throw_type                                   play_description  \n",
       "0          False       None                                                     \n",
       "1          False       None                                                     \n",
       "2           True      Throw  Completion: Matt Gouchoe-Hanas Throw to<br>Sol...  \n",
       "3          False       Dish  Completion: Sol Yanuck Dish to<br>Henry Fisher...  \n",
       "4          False       Dump  Completion: Henry Fisher Dump to<br>Sol Yanuck...  \n",
       "\n",
       "[5 rows x 68 columns]"
      ]
     },
     "execution_count": 14,
     "metadata": {},
     "output_type": "execute_result"
    }
   ],
   "source": [
    "%%time\n",
    "# Here's what the processed events look like\n",
    "g.get_home_events().head()"
   ]
  },
  {
   "cell_type": "code",
   "execution_count": 15,
   "metadata": {},
   "outputs": [
    {
     "name": "stdout",
     "output_type": "stream",
     "text": [
      "CPU times: user 4 µs, sys: 1 µs, total: 5 µs\n",
      "Wall time: 8.11 µs\n"
     ]
    },
    {
     "data": {
      "text/html": [
       "<div>\n",
       "<style scoped>\n",
       "    .dataframe tbody tr th:only-of-type {\n",
       "        vertical-align: middle;\n",
       "    }\n",
       "\n",
       "    .dataframe tbody tr th {\n",
       "        vertical-align: top;\n",
       "    }\n",
       "\n",
       "    .dataframe thead th {\n",
       "        text-align: right;\n",
       "    }\n",
       "</style>\n",
       "<table border=\"1\" class=\"dataframe\">\n",
       "  <thead>\n",
       "    <tr style=\"text-align: right;\">\n",
       "      <th></th>\n",
       "      <th>id</th>\n",
       "      <th>team_season_id_home</th>\n",
       "      <th>team_season_id_away</th>\n",
       "      <th>status_id</th>\n",
       "      <th>score_home</th>\n",
       "      <th>score_away</th>\n",
       "      <th>live</th>\n",
       "      <th>reg_season</th>\n",
       "      <th>ignore_game</th>\n",
       "      <th>lock</th>\n",
       "      <th>...</th>\n",
       "      <th>aw_section</th>\n",
       "      <th>ext_game_id</th>\n",
       "      <th>update_timestamp</th>\n",
       "      <th>location_id</th>\n",
       "      <th>ls_game_id</th>\n",
       "      <th>ticket_url</th>\n",
       "      <th>streaming_url</th>\n",
       "      <th>roster_set</th>\n",
       "      <th>roster_set_1</th>\n",
       "      <th>roster_set_2</th>\n",
       "    </tr>\n",
       "  </thead>\n",
       "  <tbody>\n",
       "    <tr>\n",
       "      <th>0</th>\n",
       "      <td>2893</td>\n",
       "      <td>242</td>\n",
       "      <td>241</td>\n",
       "      <td>100</td>\n",
       "      <td>16</td>\n",
       "      <td>14</td>\n",
       "      <td>None</td>\n",
       "      <td>True</td>\n",
       "      <td>False</td>\n",
       "      <td>True</td>\n",
       "      <td>...</td>\n",
       "      <td>week-1</td>\n",
       "      <td>2022-04-29-ATL-CAR</td>\n",
       "      <td>2022-04-30T00:55:50.838Z</td>\n",
       "      <td>53</td>\n",
       "      <td>55790353-0270-4b7c-b916-948dd69b9abb</td>\n",
       "      <td>https://theaudl.com/flyers/tickets</td>\n",
       "      <td>https://audltv.vhx.tv/videos/atlanta-at-caroli...</td>\n",
       "      <td>True</td>\n",
       "      <td>True</td>\n",
       "      <td>True</td>\n",
       "    </tr>\n",
       "  </tbody>\n",
       "</table>\n",
       "<p>1 rows × 23 columns</p>\n",
       "</div>"
      ],
      "text/plain": [
       "     id  team_season_id_home  team_season_id_away  status_id  score_home  \\\n",
       "0  2893                  242                  241        100          16   \n",
       "\n",
       "   score_away  live  reg_season  ignore_game  lock  ... aw_section  \\\n",
       "0          14  None        True        False  True  ...     week-1   \n",
       "\n",
       "          ext_game_id          update_timestamp location_id  \\\n",
       "0  2022-04-29-ATL-CAR  2022-04-30T00:55:50.838Z          53   \n",
       "\n",
       "                             ls_game_id                          ticket_url  \\\n",
       "0  55790353-0270-4b7c-b916-948dd69b9abb  https://theaudl.com/flyers/tickets   \n",
       "\n",
       "                                       streaming_url roster_set roster_set_1  \\\n",
       "0  https://audltv.vhx.tv/videos/atlanta-at-caroli...       True         True   \n",
       "\n",
       "  roster_set_2  \n",
       "0         True  \n",
       "\n",
       "[1 rows x 23 columns]"
      ]
     },
     "execution_count": 15,
     "metadata": {},
     "output_type": "execute_result"
    }
   ],
   "source": [
    "%%time\n",
    "# We can also get some basic info about the game\n",
    "g.get_game_info()"
   ]
  },
  {
   "cell_type": "code",
   "execution_count": 16,
   "metadata": {},
   "outputs": [
    {
     "name": "stdout",
     "output_type": "stream",
     "text": [
      "CPU times: user 3.72 ms, sys: 551 µs, total: 4.27 ms\n",
      "Wall time: 3.83 ms\n"
     ]
    },
    {
     "data": {
      "text/html": [
       "<div>\n",
       "<style scoped>\n",
       "    .dataframe tbody tr th:only-of-type {\n",
       "        vertical-align: middle;\n",
       "    }\n",
       "\n",
       "    .dataframe tbody tr th {\n",
       "        vertical-align: top;\n",
       "    }\n",
       "\n",
       "    .dataframe thead th {\n",
       "        text-align: right;\n",
       "    }\n",
       "</style>\n",
       "<table border=\"1\" class=\"dataframe\">\n",
       "  <thead>\n",
       "    <tr style=\"text-align: right;\">\n",
       "      <th></th>\n",
       "      <th>abbrev</th>\n",
       "      <th>city</th>\n",
       "      <th>division_id</th>\n",
       "      <th>final_standing</th>\n",
       "      <th>id</th>\n",
       "      <th>season_id</th>\n",
       "      <th>team_id</th>\n",
       "      <th>ulti_analytics_ext_id</th>\n",
       "      <th>name</th>\n",
       "      <th>ext_team_id</th>\n",
       "      <th>ls_team_id</th>\n",
       "    </tr>\n",
       "  </thead>\n",
       "  <tbody>\n",
       "    <tr>\n",
       "      <th>0</th>\n",
       "      <td>CAR</td>\n",
       "      <td>Carolina</td>\n",
       "      <td>4</td>\n",
       "      <td>None</td>\n",
       "      <td>242</td>\n",
       "      <td>13</td>\n",
       "      <td>18</td>\n",
       "      <td>None</td>\n",
       "      <td>Flyers</td>\n",
       "      <td>flyers</td>\n",
       "      <td>f364b191-1101-4c86-959e-7ac9b2a0909b</td>\n",
       "    </tr>\n",
       "  </tbody>\n",
       "</table>\n",
       "</div>"
      ],
      "text/plain": [
       "  abbrev      city  division_id final_standing   id  season_id  team_id  \\\n",
       "0    CAR  Carolina            4           None  242         13       18   \n",
       "\n",
       "  ulti_analytics_ext_id    name ext_team_id  \\\n",
       "0                  None  Flyers      flyers   \n",
       "\n",
       "                             ls_team_id  \n",
       "0  f364b191-1101-4c86-959e-7ac9b2a0909b  "
      ]
     },
     "execution_count": 16,
     "metadata": {},
     "output_type": "execute_result"
    }
   ],
   "source": [
    "%%time\n",
    "# We can also get some basic info about each team\n",
    "g.get_home_team()"
   ]
  },
  {
   "cell_type": "code",
   "execution_count": 17,
   "metadata": {},
   "outputs": [
    {
     "name": "stdout",
     "output_type": "stream",
     "text": [
      "CPU times: user 6.97 ms, sys: 1.28 ms, total: 8.24 ms\n",
      "Wall time: 7.33 ms\n"
     ]
    },
    {
     "data": {
      "text/html": [
       "<div>\n",
       "<style scoped>\n",
       "    .dataframe tbody tr th:only-of-type {\n",
       "        vertical-align: middle;\n",
       "    }\n",
       "\n",
       "    .dataframe tbody tr th {\n",
       "        vertical-align: top;\n",
       "    }\n",
       "\n",
       "    .dataframe thead th {\n",
       "        text-align: right;\n",
       "    }\n",
       "</style>\n",
       "<table border=\"1\" class=\"dataframe\">\n",
       "  <thead>\n",
       "    <tr style=\"text-align: right;\">\n",
       "      <th></th>\n",
       "      <th>id</th>\n",
       "      <th>team_season_id</th>\n",
       "      <th>player_id</th>\n",
       "      <th>jersey_number</th>\n",
       "      <th>first_name</th>\n",
       "      <th>last_name</th>\n",
       "      <th>ext_player_id</th>\n",
       "      <th>ls_player_id</th>\n",
       "      <th>active</th>\n",
       "    </tr>\n",
       "  </thead>\n",
       "  <tbody>\n",
       "    <tr>\n",
       "      <th>0</th>\n",
       "      <td>10139</td>\n",
       "      <td>242</td>\n",
       "      <td>2889</td>\n",
       "      <td>0</td>\n",
       "      <td>Wilson</td>\n",
       "      <td>Matthews</td>\n",
       "      <td>wmatthews1</td>\n",
       "      <td>8bdcaa7f-035c-4f60-a1b3-2b5352519ada</td>\n",
       "      <td>False</td>\n",
       "    </tr>\n",
       "    <tr>\n",
       "      <th>1</th>\n",
       "      <td>10140</td>\n",
       "      <td>242</td>\n",
       "      <td>994</td>\n",
       "      <td>1</td>\n",
       "      <td>Justin</td>\n",
       "      <td>Allen</td>\n",
       "      <td>jallen</td>\n",
       "      <td>62b8c47d-76a7-4eae-a397-a313327407be</td>\n",
       "      <td>False</td>\n",
       "    </tr>\n",
       "    <tr>\n",
       "      <th>2</th>\n",
       "      <td>10141</td>\n",
       "      <td>242</td>\n",
       "      <td>1643</td>\n",
       "      <td>2</td>\n",
       "      <td>Sol</td>\n",
       "      <td>Yanuck</td>\n",
       "      <td>syanuck</td>\n",
       "      <td>4338c80e-2abd-40e8-a32a-0b95e347aba3</td>\n",
       "      <td>True</td>\n",
       "    </tr>\n",
       "    <tr>\n",
       "      <th>3</th>\n",
       "      <td>10142</td>\n",
       "      <td>242</td>\n",
       "      <td>2890</td>\n",
       "      <td>3</td>\n",
       "      <td>Michael</td>\n",
       "      <td>Lee</td>\n",
       "      <td>mlee1</td>\n",
       "      <td>d56afe48-2b65-4de1-8594-5650ea403a92</td>\n",
       "      <td>False</td>\n",
       "    </tr>\n",
       "    <tr>\n",
       "      <th>4</th>\n",
       "      <td>10143</td>\n",
       "      <td>242</td>\n",
       "      <td>2222</td>\n",
       "      <td>4</td>\n",
       "      <td>Seth</td>\n",
       "      <td>Weaver</td>\n",
       "      <td>sweaver</td>\n",
       "      <td>3264b70f-0b34-4733-a3e7-56173decc733</td>\n",
       "      <td>True</td>\n",
       "    </tr>\n",
       "  </tbody>\n",
       "</table>\n",
       "</div>"
      ],
      "text/plain": [
       "      id  team_season_id  player_id jersey_number first_name last_name  \\\n",
       "0  10139             242       2889             0     Wilson  Matthews   \n",
       "1  10140             242        994             1     Justin     Allen   \n",
       "2  10141             242       1643             2        Sol    Yanuck   \n",
       "3  10142             242       2890             3    Michael       Lee   \n",
       "4  10143             242       2222             4       Seth    Weaver   \n",
       "\n",
       "  ext_player_id                          ls_player_id  active  \n",
       "0    wmatthews1  8bdcaa7f-035c-4f60-a1b3-2b5352519ada   False  \n",
       "1        jallen  62b8c47d-76a7-4eae-a397-a313327407be   False  \n",
       "2       syanuck  4338c80e-2abd-40e8-a32a-0b95e347aba3    True  \n",
       "3         mlee1  d56afe48-2b65-4de1-8594-5650ea403a92   False  \n",
       "4       sweaver  3264b70f-0b34-4733-a3e7-56173decc733    True  "
      ]
     },
     "execution_count": 17,
     "metadata": {},
     "output_type": "execute_result"
    }
   ],
   "source": [
    "%%time\n",
    "# We can also get the rosters and which players were active\n",
    "g.get_home_roster().head()"
   ]
  },
  {
   "cell_type": "code",
   "execution_count": 18,
   "metadata": {},
   "outputs": [
    {
     "name": "stderr",
     "output_type": "stream",
     "text": [
      "/Users/johnlithio/Documents/AUDL-Advanced-Stats/audl_advanced_stats/game.py:2380: FutureWarning:\n",
      "\n",
      "Dropping of nuisance columns in DataFrame reductions (with 'numeric_only=None') is deprecated; in a future version this will raise TypeError.  Select only valid columns before calling the reduction.\n",
      "\n",
      "/Users/johnlithio/Documents/AUDL-Advanced-Stats/audl_advanced_stats/game.py:2781: FutureWarning:\n",
      "\n",
      "Dropping of nuisance columns in DataFrame reductions (with 'numeric_only=None') is deprecated; in a future version this will raise TypeError.  Select only valid columns before calling the reduction.\n",
      "\n"
     ]
    },
    {
     "name": "stdout",
     "output_type": "stream",
     "text": [
      "CPU times: user 1.14 s, sys: 11.9 ms, total: 1.15 s\n",
      "Wall time: 1.14 s\n"
     ]
    },
    {
     "data": {
      "text/html": [
       "<div>\n",
       "<style scoped>\n",
       "    .dataframe tbody tr th:only-of-type {\n",
       "        vertical-align: middle;\n",
       "    }\n",
       "\n",
       "    .dataframe tbody tr th {\n",
       "        vertical-align: top;\n",
       "    }\n",
       "\n",
       "    .dataframe thead th {\n",
       "        text-align: right;\n",
       "    }\n",
       "</style>\n",
       "<table border=\"1\" class=\"dataframe\">\n",
       "  <thead>\n",
       "    <tr style=\"text-align: right;\">\n",
       "      <th></th>\n",
       "      <th>playerid</th>\n",
       "      <th>name</th>\n",
       "      <th>team</th>\n",
       "      <th>opponent</th>\n",
       "      <th>game_date</th>\n",
       "      <th>year</th>\n",
       "      <th>playoffs</th>\n",
       "      <th>games</th>\n",
       "      <th>total_points</th>\n",
       "      <th>o_points</th>\n",
       "      <th>...</th>\n",
       "      <th>receptions_dump_pct</th>\n",
       "      <th>completion_huck_pct</th>\n",
       "      <th>attempts_huck_pct</th>\n",
       "      <th>receptions_huck_pct</th>\n",
       "      <th>completion_swing_pct</th>\n",
       "      <th>attempts_swing_pct</th>\n",
       "      <th>receptions_swing_pct</th>\n",
       "      <th>completion_throw_pct</th>\n",
       "      <th>attempts_throw_pct</th>\n",
       "      <th>receptions_throw_pct</th>\n",
       "    </tr>\n",
       "  </thead>\n",
       "  <tbody>\n",
       "    <tr>\n",
       "      <th>0</th>\n",
       "      <td>10141</td>\n",
       "      <td>Sol Yanuck</td>\n",
       "      <td>CAR</td>\n",
       "      <td>ATL</td>\n",
       "      <td>2022-04-29</td>\n",
       "      <td>2022</td>\n",
       "      <td>False</td>\n",
       "      <td>1</td>\n",
       "      <td>16</td>\n",
       "      <td>16</td>\n",
       "      <td>...</td>\n",
       "      <td>0.162791</td>\n",
       "      <td>0.5</td>\n",
       "      <td>0.081633</td>\n",
       "      <td>0.000000</td>\n",
       "      <td>1.0</td>\n",
       "      <td>0.204082</td>\n",
       "      <td>0.232558</td>\n",
       "      <td>1.0</td>\n",
       "      <td>0.408163</td>\n",
       "      <td>0.186047</td>\n",
       "    </tr>\n",
       "    <tr>\n",
       "      <th>1</th>\n",
       "      <td>10143</td>\n",
       "      <td>Seth Weaver</td>\n",
       "      <td>CAR</td>\n",
       "      <td>ATL</td>\n",
       "      <td>2022-04-29</td>\n",
       "      <td>2022</td>\n",
       "      <td>False</td>\n",
       "      <td>1</td>\n",
       "      <td>10</td>\n",
       "      <td>0</td>\n",
       "      <td>...</td>\n",
       "      <td>0.333333</td>\n",
       "      <td>NaN</td>\n",
       "      <td>0.000000</td>\n",
       "      <td>0.000000</td>\n",
       "      <td>1.0</td>\n",
       "      <td>0.200000</td>\n",
       "      <td>0.000000</td>\n",
       "      <td>1.0</td>\n",
       "      <td>0.400000</td>\n",
       "      <td>0.166667</td>\n",
       "    </tr>\n",
       "    <tr>\n",
       "      <th>2</th>\n",
       "      <td>10147</td>\n",
       "      <td>Terrence Mitchell</td>\n",
       "      <td>CAR</td>\n",
       "      <td>ATL</td>\n",
       "      <td>2022-04-29</td>\n",
       "      <td>2022</td>\n",
       "      <td>False</td>\n",
       "      <td>1</td>\n",
       "      <td>14</td>\n",
       "      <td>14</td>\n",
       "      <td>...</td>\n",
       "      <td>0.000000</td>\n",
       "      <td>NaN</td>\n",
       "      <td>0.000000</td>\n",
       "      <td>0.000000</td>\n",
       "      <td>NaN</td>\n",
       "      <td>0.000000</td>\n",
       "      <td>0.000000</td>\n",
       "      <td>1.0</td>\n",
       "      <td>0.250000</td>\n",
       "      <td>0.400000</td>\n",
       "    </tr>\n",
       "    <tr>\n",
       "      <th>3</th>\n",
       "      <td>10149</td>\n",
       "      <td>Henry Fisher</td>\n",
       "      <td>CAR</td>\n",
       "      <td>ATL</td>\n",
       "      <td>2022-04-29</td>\n",
       "      <td>2022</td>\n",
       "      <td>False</td>\n",
       "      <td>1</td>\n",
       "      <td>11</td>\n",
       "      <td>10</td>\n",
       "      <td>...</td>\n",
       "      <td>0.000000</td>\n",
       "      <td>1.0</td>\n",
       "      <td>0.083333</td>\n",
       "      <td>0.076923</td>\n",
       "      <td>1.0</td>\n",
       "      <td>0.083333</td>\n",
       "      <td>0.076923</td>\n",
       "      <td>1.0</td>\n",
       "      <td>0.083333</td>\n",
       "      <td>0.384615</td>\n",
       "    </tr>\n",
       "    <tr>\n",
       "      <th>4</th>\n",
       "      <td>10151</td>\n",
       "      <td>William Coffin</td>\n",
       "      <td>CAR</td>\n",
       "      <td>ATL</td>\n",
       "      <td>2022-04-29</td>\n",
       "      <td>2022</td>\n",
       "      <td>False</td>\n",
       "      <td>1</td>\n",
       "      <td>5</td>\n",
       "      <td>0</td>\n",
       "      <td>...</td>\n",
       "      <td>NaN</td>\n",
       "      <td>NaN</td>\n",
       "      <td>NaN</td>\n",
       "      <td>NaN</td>\n",
       "      <td>NaN</td>\n",
       "      <td>NaN</td>\n",
       "      <td>NaN</td>\n",
       "      <td>NaN</td>\n",
       "      <td>NaN</td>\n",
       "      <td>NaN</td>\n",
       "    </tr>\n",
       "  </tbody>\n",
       "</table>\n",
       "<p>5 rows × 218 columns</p>\n",
       "</div>"
      ],
      "text/plain": [
       "  playerid               name team opponent   game_date  year  playoffs  \\\n",
       "0    10141         Sol Yanuck  CAR      ATL  2022-04-29  2022     False   \n",
       "1    10143        Seth Weaver  CAR      ATL  2022-04-29  2022     False   \n",
       "2    10147  Terrence Mitchell  CAR      ATL  2022-04-29  2022     False   \n",
       "3    10149       Henry Fisher  CAR      ATL  2022-04-29  2022     False   \n",
       "4    10151     William Coffin  CAR      ATL  2022-04-29  2022     False   \n",
       "\n",
       "   games  total_points  o_points  ...  receptions_dump_pct  \\\n",
       "0      1            16        16  ...             0.162791   \n",
       "1      1            10         0  ...             0.333333   \n",
       "2      1            14        14  ...             0.000000   \n",
       "3      1            11        10  ...             0.000000   \n",
       "4      1             5         0  ...                  NaN   \n",
       "\n",
       "   completion_huck_pct  attempts_huck_pct  receptions_huck_pct  \\\n",
       "0                  0.5           0.081633             0.000000   \n",
       "1                  NaN           0.000000             0.000000   \n",
       "2                  NaN           0.000000             0.000000   \n",
       "3                  1.0           0.083333             0.076923   \n",
       "4                  NaN                NaN                  NaN   \n",
       "\n",
       "   completion_swing_pct  attempts_swing_pct  receptions_swing_pct  \\\n",
       "0                   1.0            0.204082              0.232558   \n",
       "1                   1.0            0.200000              0.000000   \n",
       "2                   NaN            0.000000              0.000000   \n",
       "3                   1.0            0.083333              0.076923   \n",
       "4                   NaN                 NaN                   NaN   \n",
       "\n",
       "   completion_throw_pct  attempts_throw_pct  receptions_throw_pct  \n",
       "0                   1.0            0.408163              0.186047  \n",
       "1                   1.0            0.400000              0.166667  \n",
       "2                   1.0            0.250000              0.400000  \n",
       "3                   1.0            0.083333              0.384615  \n",
       "4                   NaN                 NaN                   NaN  \n",
       "\n",
       "[5 rows x 218 columns]"
      ]
     },
     "execution_count": 18,
     "metadata": {},
     "output_type": "execute_result"
    }
   ],
   "source": [
    "%%time\n",
    "# Get player stats for this game\n",
    "g.get_player_stats_by_game(home=True).head()"
   ]
  },
  {
   "cell_type": "code",
   "execution_count": 19,
   "metadata": {},
   "outputs": [
    {
     "name": "stdout",
     "output_type": "stream",
     "text": [
      "CPU times: user 86.1 ms, sys: 8.23 ms, total: 94.3 ms\n",
      "Wall time: 97.9 ms\n"
     ]
    },
    {
     "data": {
      "application/vnd.plotly.v1+json": {
       "config": {
        "plotlyServerURL": "https://plot.ly"
       },
       "data": [
        {
         "customdata": [
          [
           "Carolina",
           "12:00"
          ],
          [
           "Carolina",
           "11:18"
          ],
          [
           "Carolina",
           "8:55"
          ],
          [
           "Carolina",
           "6:07"
          ],
          [
           "Carolina",
           "5:31"
          ],
          [
           "Carolina",
           "4:04"
          ],
          [
           "Carolina",
           "3:07"
          ],
          [
           "Carolina",
           "10:49"
          ],
          [
           "Carolina",
           "10:13"
          ],
          [
           "Carolina",
           "8:43"
          ],
          [
           "Carolina",
           "6:58"
          ],
          [
           "Carolina",
           "4:34"
          ],
          [
           "Carolina",
           "4:14"
          ],
          [
           "Carolina",
           "0:15"
          ],
          [
           "Carolina",
           "11:33"
          ],
          [
           "Carolina",
           "9:39"
          ],
          [
           "Carolina",
           "8:33"
          ],
          [
           "Carolina",
           "7:40"
          ],
          [
           "Carolina",
           "5:29"
          ],
          [
           "Carolina",
           "2:03"
          ],
          [
           "Carolina",
           "1:25"
          ],
          [
           "Carolina",
           "0:28"
          ],
          [
           "Carolina",
           "8:21"
          ],
          [
           "Carolina",
           "6:50"
          ],
          [
           "Carolina",
           "5:09"
          ],
          [
           "Carolina",
           "4:18"
          ],
          [
           "Carolina",
           "3:13"
          ],
          [
           "Carolina",
           "2:20"
          ],
          [
           "Carolina",
           "0:38"
          ],
          [
           "Carolina",
           "0:17"
          ],
          [
           "Carolina",
           "0:00"
          ]
         ],
         "hovertemplate": "%{customdata[0]}: %{y}<extra></extra>",
         "hovertext": [
          "12:00",
          "11:18",
          "8:55",
          "6:07",
          "5:31",
          "4:04",
          "3:07",
          "10:49",
          "10:13",
          "8:43",
          "6:58",
          "4:34",
          "4:14",
          "0:15",
          "11:33",
          "9:39",
          "8:33",
          "7:40",
          "5:29",
          "2:03",
          "1:25",
          "0:28",
          "8:21",
          "6:50",
          "5:09",
          "4:18",
          "3:13",
          "2:20",
          "0:38",
          "0:17",
          "0:00"
         ],
         "legendgroup": "a",
         "line": {
          "color": "#636efa",
          "dash": "solid",
          "shape": "hv"
         },
         "marker": {
          "symbol": "circle"
         },
         "mode": "lines",
         "name": "Carolina",
         "orientation": "v",
         "showlegend": true,
         "type": "scatter",
         "x": [
          0,
          42,
          185,
          353,
          389,
          476,
          533,
          791,
          827,
          917,
          1022,
          1166,
          1186,
          1425,
          1467,
          1581,
          1647,
          1700,
          1831,
          2037,
          2075,
          2132,
          2379,
          2470,
          2571,
          2622,
          2687,
          2740,
          2842,
          2863,
          2880
         ],
         "xaxis": "x",
         "y": [
          0,
          1,
          1,
          1,
          2,
          2,
          3,
          3,
          4,
          5,
          6,
          6,
          7,
          7,
          8,
          8,
          9,
          9,
          9,
          10,
          10,
          10,
          10,
          11,
          11,
          12,
          13,
          14,
          14,
          15,
          15
         ],
         "yaxis": "y"
        },
        {
         "customdata": [
          [
           "Atlanta",
           "12:00"
          ],
          [
           "Atlanta",
           "8:55"
          ],
          [
           "Atlanta",
           "6:07"
          ],
          [
           "Atlanta",
           "5:31"
          ],
          [
           "Atlanta",
           "4:04"
          ],
          [
           "Atlanta",
           "3:07"
          ],
          [
           "Atlanta",
           "10:49"
          ],
          [
           "Atlanta",
           "10:13"
          ],
          [
           "Atlanta",
           "8:43"
          ],
          [
           "Atlanta",
           "6:58"
          ],
          [
           "Atlanta",
           "4:34"
          ],
          [
           "Atlanta",
           "4:14"
          ],
          [
           "Atlanta",
           "0:15"
          ],
          [
           "Atlanta",
           "11:33"
          ],
          [
           "Atlanta",
           "9:39"
          ],
          [
           "Atlanta",
           "8:33"
          ],
          [
           "Atlanta",
           "7:40"
          ],
          [
           "Atlanta",
           "5:29"
          ],
          [
           "Atlanta",
           "2:03"
          ],
          [
           "Atlanta",
           "1:25"
          ],
          [
           "Atlanta",
           "0:28"
          ],
          [
           "Atlanta",
           "8:21"
          ],
          [
           "Atlanta",
           "6:50"
          ],
          [
           "Atlanta",
           "5:09"
          ],
          [
           "Atlanta",
           "4:18"
          ],
          [
           "Atlanta",
           "3:13"
          ],
          [
           "Atlanta",
           "2:20"
          ],
          [
           "Atlanta",
           "0:38"
          ],
          [
           "Atlanta",
           "0:17"
          ],
          [
           "Atlanta",
           "0:00"
          ]
         ],
         "hovertemplate": "%{customdata[0]}: %{y}<extra></extra>",
         "hovertext": [
          "12:00",
          "8:55",
          "6:07",
          "5:31",
          "4:04",
          "3:07",
          "10:49",
          "10:13",
          "8:43",
          "6:58",
          "4:34",
          "4:14",
          "0:15",
          "11:33",
          "9:39",
          "8:33",
          "7:40",
          "5:29",
          "2:03",
          "1:25",
          "0:28",
          "8:21",
          "6:50",
          "5:09",
          "4:18",
          "3:13",
          "2:20",
          "0:38",
          "0:17",
          "0:00"
         ],
         "legendgroup": "a",
         "line": {
          "color": "#EF553B",
          "dash": "solid",
          "shape": "hv"
         },
         "marker": {
          "symbol": "circle"
         },
         "mode": "lines",
         "name": "Atlanta",
         "orientation": "v",
         "showlegend": true,
         "type": "scatter",
         "x": [
          0,
          185,
          353,
          389,
          476,
          533,
          791,
          827,
          917,
          1022,
          1166,
          1186,
          1425,
          1467,
          1581,
          1647,
          1700,
          1831,
          2037,
          2075,
          2132,
          2379,
          2470,
          2571,
          2622,
          2687,
          2740,
          2842,
          2863,
          2880
         ],
         "xaxis": "x",
         "y": [
          0,
          1,
          2,
          2,
          3,
          3,
          4,
          4,
          4,
          4,
          5,
          5,
          6,
          6,
          7,
          7,
          8,
          9,
          9,
          10,
          11,
          12,
          12,
          13,
          13,
          13,
          13,
          14,
          14,
          14
         ],
         "yaxis": "y"
        }
       ],
       "layout": {
        "annotations": [
         {
          "showarrow": false,
          "text": "Game Start",
          "x": 0,
          "xref": "x",
          "y": -2,
          "yref": "y"
         },
         {
          "showarrow": false,
          "text": "End of Q1",
          "x": 720,
          "xref": "x",
          "y": -2,
          "yref": "y"
         },
         {
          "showarrow": false,
          "text": "End of Q2",
          "x": 1440,
          "xref": "x",
          "y": -2,
          "yref": "y"
         },
         {
          "showarrow": false,
          "text": "End of Q3",
          "x": 2160,
          "xref": "x",
          "y": -2,
          "yref": "y"
         },
         {
          "showarrow": false,
          "text": "End of Q4",
          "x": 2880,
          "xref": "x",
          "y": -2,
          "yref": "y"
         }
        ],
        "font": {
         "family": "TW Cen MT"
        },
        "height": 250,
        "hoverlabel": {
         "font": {
          "family": "TW Cen MT"
         }
        },
        "hovermode": "x unified",
        "legend": {
         "title": {},
         "tracegroupgap": 0
        },
        "margin": {
         "autoexpand": false,
         "b": 20,
         "l": 102,
         "r": 150,
         "t": 5
        },
        "paper_bgcolor": "rgba(0,0,0,0)",
        "plot_bgcolor": "rgba(0,0,0,0)",
        "shapes": [
         {
          "layer": "below",
          "line": {
           "color": "lightgray",
           "dash": "solid",
           "width": 1
          },
          "type": "line",
          "x0": 0,
          "x1": 0,
          "y0": 0,
          "y1": 15
         },
         {
          "layer": "below",
          "line": {
           "color": "lightgray",
           "dash": "solid",
           "width": 1
          },
          "type": "line",
          "x0": 720,
          "x1": 720,
          "y0": 0,
          "y1": 15
         },
         {
          "layer": "below",
          "line": {
           "color": "lightgray",
           "dash": "solid",
           "width": 1
          },
          "type": "line",
          "x0": 1440,
          "x1": 1440,
          "y0": 0,
          "y1": 15
         },
         {
          "layer": "below",
          "line": {
           "color": "lightgray",
           "dash": "solid",
           "width": 1
          },
          "type": "line",
          "x0": 2160,
          "x1": 2160,
          "y0": 0,
          "y1": 15
         },
         {
          "layer": "below",
          "line": {
           "color": "lightgray",
           "dash": "solid",
           "width": 1
          },
          "type": "line",
          "x0": 2880,
          "x1": 2880,
          "y0": 0,
          "y1": 15
         }
        ],
        "template": {
         "data": {
          "bar": [
           {
            "error_x": {
             "color": "#2a3f5f"
            },
            "error_y": {
             "color": "#2a3f5f"
            },
            "marker": {
             "line": {
              "color": "#E5ECF6",
              "width": 0.5
             },
             "pattern": {
              "fillmode": "overlay",
              "size": 10,
              "solidity": 0.2
             }
            },
            "type": "bar"
           }
          ],
          "barpolar": [
           {
            "marker": {
             "line": {
              "color": "#E5ECF6",
              "width": 0.5
             },
             "pattern": {
              "fillmode": "overlay",
              "size": 10,
              "solidity": 0.2
             }
            },
            "type": "barpolar"
           }
          ],
          "carpet": [
           {
            "aaxis": {
             "endlinecolor": "#2a3f5f",
             "gridcolor": "white",
             "linecolor": "white",
             "minorgridcolor": "white",
             "startlinecolor": "#2a3f5f"
            },
            "baxis": {
             "endlinecolor": "#2a3f5f",
             "gridcolor": "white",
             "linecolor": "white",
             "minorgridcolor": "white",
             "startlinecolor": "#2a3f5f"
            },
            "type": "carpet"
           }
          ],
          "choropleth": [
           {
            "colorbar": {
             "outlinewidth": 0,
             "ticks": ""
            },
            "type": "choropleth"
           }
          ],
          "contour": [
           {
            "colorbar": {
             "outlinewidth": 0,
             "ticks": ""
            },
            "colorscale": [
             [
              0,
              "#0d0887"
             ],
             [
              0.1111111111111111,
              "#46039f"
             ],
             [
              0.2222222222222222,
              "#7201a8"
             ],
             [
              0.3333333333333333,
              "#9c179e"
             ],
             [
              0.4444444444444444,
              "#bd3786"
             ],
             [
              0.5555555555555556,
              "#d8576b"
             ],
             [
              0.6666666666666666,
              "#ed7953"
             ],
             [
              0.7777777777777778,
              "#fb9f3a"
             ],
             [
              0.8888888888888888,
              "#fdca26"
             ],
             [
              1,
              "#f0f921"
             ]
            ],
            "type": "contour"
           }
          ],
          "contourcarpet": [
           {
            "colorbar": {
             "outlinewidth": 0,
             "ticks": ""
            },
            "type": "contourcarpet"
           }
          ],
          "heatmap": [
           {
            "colorbar": {
             "outlinewidth": 0,
             "ticks": ""
            },
            "colorscale": [
             [
              0,
              "#0d0887"
             ],
             [
              0.1111111111111111,
              "#46039f"
             ],
             [
              0.2222222222222222,
              "#7201a8"
             ],
             [
              0.3333333333333333,
              "#9c179e"
             ],
             [
              0.4444444444444444,
              "#bd3786"
             ],
             [
              0.5555555555555556,
              "#d8576b"
             ],
             [
              0.6666666666666666,
              "#ed7953"
             ],
             [
              0.7777777777777778,
              "#fb9f3a"
             ],
             [
              0.8888888888888888,
              "#fdca26"
             ],
             [
              1,
              "#f0f921"
             ]
            ],
            "type": "heatmap"
           }
          ],
          "heatmapgl": [
           {
            "colorbar": {
             "outlinewidth": 0,
             "ticks": ""
            },
            "colorscale": [
             [
              0,
              "#0d0887"
             ],
             [
              0.1111111111111111,
              "#46039f"
             ],
             [
              0.2222222222222222,
              "#7201a8"
             ],
             [
              0.3333333333333333,
              "#9c179e"
             ],
             [
              0.4444444444444444,
              "#bd3786"
             ],
             [
              0.5555555555555556,
              "#d8576b"
             ],
             [
              0.6666666666666666,
              "#ed7953"
             ],
             [
              0.7777777777777778,
              "#fb9f3a"
             ],
             [
              0.8888888888888888,
              "#fdca26"
             ],
             [
              1,
              "#f0f921"
             ]
            ],
            "type": "heatmapgl"
           }
          ],
          "histogram": [
           {
            "marker": {
             "pattern": {
              "fillmode": "overlay",
              "size": 10,
              "solidity": 0.2
             }
            },
            "type": "histogram"
           }
          ],
          "histogram2d": [
           {
            "colorbar": {
             "outlinewidth": 0,
             "ticks": ""
            },
            "colorscale": [
             [
              0,
              "#0d0887"
             ],
             [
              0.1111111111111111,
              "#46039f"
             ],
             [
              0.2222222222222222,
              "#7201a8"
             ],
             [
              0.3333333333333333,
              "#9c179e"
             ],
             [
              0.4444444444444444,
              "#bd3786"
             ],
             [
              0.5555555555555556,
              "#d8576b"
             ],
             [
              0.6666666666666666,
              "#ed7953"
             ],
             [
              0.7777777777777778,
              "#fb9f3a"
             ],
             [
              0.8888888888888888,
              "#fdca26"
             ],
             [
              1,
              "#f0f921"
             ]
            ],
            "type": "histogram2d"
           }
          ],
          "histogram2dcontour": [
           {
            "colorbar": {
             "outlinewidth": 0,
             "ticks": ""
            },
            "colorscale": [
             [
              0,
              "#0d0887"
             ],
             [
              0.1111111111111111,
              "#46039f"
             ],
             [
              0.2222222222222222,
              "#7201a8"
             ],
             [
              0.3333333333333333,
              "#9c179e"
             ],
             [
              0.4444444444444444,
              "#bd3786"
             ],
             [
              0.5555555555555556,
              "#d8576b"
             ],
             [
              0.6666666666666666,
              "#ed7953"
             ],
             [
              0.7777777777777778,
              "#fb9f3a"
             ],
             [
              0.8888888888888888,
              "#fdca26"
             ],
             [
              1,
              "#f0f921"
             ]
            ],
            "type": "histogram2dcontour"
           }
          ],
          "mesh3d": [
           {
            "colorbar": {
             "outlinewidth": 0,
             "ticks": ""
            },
            "type": "mesh3d"
           }
          ],
          "parcoords": [
           {
            "line": {
             "colorbar": {
              "outlinewidth": 0,
              "ticks": ""
             }
            },
            "type": "parcoords"
           }
          ],
          "pie": [
           {
            "automargin": true,
            "type": "pie"
           }
          ],
          "scatter": [
           {
            "fillpattern": {
             "fillmode": "overlay",
             "size": 10,
             "solidity": 0.2
            },
            "type": "scatter"
           }
          ],
          "scatter3d": [
           {
            "line": {
             "colorbar": {
              "outlinewidth": 0,
              "ticks": ""
             }
            },
            "marker": {
             "colorbar": {
              "outlinewidth": 0,
              "ticks": ""
             }
            },
            "type": "scatter3d"
           }
          ],
          "scattercarpet": [
           {
            "marker": {
             "colorbar": {
              "outlinewidth": 0,
              "ticks": ""
             }
            },
            "type": "scattercarpet"
           }
          ],
          "scattergeo": [
           {
            "marker": {
             "colorbar": {
              "outlinewidth": 0,
              "ticks": ""
             }
            },
            "type": "scattergeo"
           }
          ],
          "scattergl": [
           {
            "marker": {
             "colorbar": {
              "outlinewidth": 0,
              "ticks": ""
             }
            },
            "type": "scattergl"
           }
          ],
          "scattermapbox": [
           {
            "marker": {
             "colorbar": {
              "outlinewidth": 0,
              "ticks": ""
             }
            },
            "type": "scattermapbox"
           }
          ],
          "scatterpolar": [
           {
            "marker": {
             "colorbar": {
              "outlinewidth": 0,
              "ticks": ""
             }
            },
            "type": "scatterpolar"
           }
          ],
          "scatterpolargl": [
           {
            "marker": {
             "colorbar": {
              "outlinewidth": 0,
              "ticks": ""
             }
            },
            "type": "scatterpolargl"
           }
          ],
          "scatterternary": [
           {
            "marker": {
             "colorbar": {
              "outlinewidth": 0,
              "ticks": ""
             }
            },
            "type": "scatterternary"
           }
          ],
          "surface": [
           {
            "colorbar": {
             "outlinewidth": 0,
             "ticks": ""
            },
            "colorscale": [
             [
              0,
              "#0d0887"
             ],
             [
              0.1111111111111111,
              "#46039f"
             ],
             [
              0.2222222222222222,
              "#7201a8"
             ],
             [
              0.3333333333333333,
              "#9c179e"
             ],
             [
              0.4444444444444444,
              "#bd3786"
             ],
             [
              0.5555555555555556,
              "#d8576b"
             ],
             [
              0.6666666666666666,
              "#ed7953"
             ],
             [
              0.7777777777777778,
              "#fb9f3a"
             ],
             [
              0.8888888888888888,
              "#fdca26"
             ],
             [
              1,
              "#f0f921"
             ]
            ],
            "type": "surface"
           }
          ],
          "table": [
           {
            "cells": {
             "fill": {
              "color": "#EBF0F8"
             },
             "line": {
              "color": "white"
             }
            },
            "header": {
             "fill": {
              "color": "#C8D4E3"
             },
             "line": {
              "color": "white"
             }
            },
            "type": "table"
           }
          ]
         },
         "layout": {
          "annotationdefaults": {
           "arrowcolor": "#2a3f5f",
           "arrowhead": 0,
           "arrowwidth": 1
          },
          "autotypenumbers": "strict",
          "coloraxis": {
           "colorbar": {
            "outlinewidth": 0,
            "ticks": ""
           }
          },
          "colorscale": {
           "diverging": [
            [
             0,
             "#8e0152"
            ],
            [
             0.1,
             "#c51b7d"
            ],
            [
             0.2,
             "#de77ae"
            ],
            [
             0.3,
             "#f1b6da"
            ],
            [
             0.4,
             "#fde0ef"
            ],
            [
             0.5,
             "#f7f7f7"
            ],
            [
             0.6,
             "#e6f5d0"
            ],
            [
             0.7,
             "#b8e186"
            ],
            [
             0.8,
             "#7fbc41"
            ],
            [
             0.9,
             "#4d9221"
            ],
            [
             1,
             "#276419"
            ]
           ],
           "sequential": [
            [
             0,
             "#0d0887"
            ],
            [
             0.1111111111111111,
             "#46039f"
            ],
            [
             0.2222222222222222,
             "#7201a8"
            ],
            [
             0.3333333333333333,
             "#9c179e"
            ],
            [
             0.4444444444444444,
             "#bd3786"
            ],
            [
             0.5555555555555556,
             "#d8576b"
            ],
            [
             0.6666666666666666,
             "#ed7953"
            ],
            [
             0.7777777777777778,
             "#fb9f3a"
            ],
            [
             0.8888888888888888,
             "#fdca26"
            ],
            [
             1,
             "#f0f921"
            ]
           ],
           "sequentialminus": [
            [
             0,
             "#0d0887"
            ],
            [
             0.1111111111111111,
             "#46039f"
            ],
            [
             0.2222222222222222,
             "#7201a8"
            ],
            [
             0.3333333333333333,
             "#9c179e"
            ],
            [
             0.4444444444444444,
             "#bd3786"
            ],
            [
             0.5555555555555556,
             "#d8576b"
            ],
            [
             0.6666666666666666,
             "#ed7953"
            ],
            [
             0.7777777777777778,
             "#fb9f3a"
            ],
            [
             0.8888888888888888,
             "#fdca26"
            ],
            [
             1,
             "#f0f921"
            ]
           ]
          },
          "colorway": [
           "#636efa",
           "#EF553B",
           "#00cc96",
           "#ab63fa",
           "#FFA15A",
           "#19d3f3",
           "#FF6692",
           "#B6E880",
           "#FF97FF",
           "#FECB52"
          ],
          "font": {
           "color": "#2a3f5f"
          },
          "geo": {
           "bgcolor": "white",
           "lakecolor": "white",
           "landcolor": "#E5ECF6",
           "showlakes": true,
           "showland": true,
           "subunitcolor": "white"
          },
          "hoverlabel": {
           "align": "left"
          },
          "hovermode": "closest",
          "mapbox": {
           "style": "light"
          },
          "paper_bgcolor": "white",
          "plot_bgcolor": "#E5ECF6",
          "polar": {
           "angularaxis": {
            "gridcolor": "white",
            "linecolor": "white",
            "ticks": ""
           },
           "bgcolor": "#E5ECF6",
           "radialaxis": {
            "gridcolor": "white",
            "linecolor": "white",
            "ticks": ""
           }
          },
          "scene": {
           "xaxis": {
            "backgroundcolor": "#E5ECF6",
            "gridcolor": "white",
            "gridwidth": 2,
            "linecolor": "white",
            "showbackground": true,
            "ticks": "",
            "zerolinecolor": "white"
           },
           "yaxis": {
            "backgroundcolor": "#E5ECF6",
            "gridcolor": "white",
            "gridwidth": 2,
            "linecolor": "white",
            "showbackground": true,
            "ticks": "",
            "zerolinecolor": "white"
           },
           "zaxis": {
            "backgroundcolor": "#E5ECF6",
            "gridcolor": "white",
            "gridwidth": 2,
            "linecolor": "white",
            "showbackground": true,
            "ticks": "",
            "zerolinecolor": "white"
           }
          },
          "shapedefaults": {
           "line": {
            "color": "#2a3f5f"
           }
          },
          "ternary": {
           "aaxis": {
            "gridcolor": "white",
            "linecolor": "white",
            "ticks": ""
           },
           "baxis": {
            "gridcolor": "white",
            "linecolor": "white",
            "ticks": ""
           },
           "bgcolor": "#E5ECF6",
           "caxis": {
            "gridcolor": "white",
            "linecolor": "white",
            "ticks": ""
           }
          },
          "title": {
           "x": 0.05
          },
          "xaxis": {
           "automargin": true,
           "gridcolor": "white",
           "linecolor": "white",
           "ticks": "",
           "title": {
            "standoff": 15
           },
           "zerolinecolor": "white",
           "zerolinewidth": 2
          },
          "yaxis": {
           "automargin": true,
           "gridcolor": "white",
           "linecolor": "white",
           "ticks": "",
           "title": {
            "standoff": 15
           },
           "zerolinecolor": "white",
           "zerolinewidth": 2
          }
         }
        },
        "xaxis": {
         "anchor": "y",
         "domain": [
          0,
          1
         ],
         "fixedrange": true,
         "range": [
          -20,
          2890
         ],
         "showgrid": false,
         "showspikes": true,
         "showticklabels": false,
         "spikecolor": "black",
         "spikedash": "solid",
         "spikemode": "across",
         "spikesnap": "cursor",
         "spikethickness": 2,
         "tickmode": "array",
         "ticks": "",
         "ticktext": [
          "Game Start",
          "End of Q1",
          "End of Q2",
          "End of Q3",
          "End of Q4",
          "Q1: 11:18",
          "Q1: 8:55",
          "Q1: 6:07",
          "Q1: 5:31",
          "Q1: 4:04",
          "Q1: 3:07",
          "Q2: 10:49",
          "Q2: 10:13",
          "Q2: 8:43",
          "Q2: 6:58",
          "Q2: 4:34",
          "Q2: 4:14",
          "Q2: 0:15",
          "Q2: 11:33",
          "Q3: 9:39",
          "Q3: 8:33",
          "Q3: 7:40",
          "Q3: 5:29",
          "Q3: 2:03",
          "Q3: 1:25",
          "Q3: 0:28",
          "Q4: 8:21",
          "Q4: 6:50",
          "Q4: 5:09",
          "Q4: 4:18",
          "Q4: 3:13",
          "Q4: 2:20",
          "Q4: 0:38",
          "Q4: 0:17"
         ],
         "tickvals": [
          0,
          720,
          1440,
          2160,
          2880,
          42,
          185,
          353,
          389,
          476,
          533,
          791,
          827,
          917,
          1022,
          1166,
          1186,
          1425,
          1467,
          1581,
          1647,
          1700,
          1831,
          2037,
          2075,
          2132,
          2379,
          2470,
          2571,
          2622,
          2687,
          2740,
          2842,
          2863
         ],
         "title": {},
         "zeroline": false
        },
        "yaxis": {
         "anchor": "x",
         "domain": [
          0,
          1
         ],
         "fixedrange": true,
         "showgrid": false,
         "title": {
          "text": "Points"
         },
         "zerolinecolor": "lightgray"
        }
       }
      }
     },
     "metadata": {},
     "output_type": "display_data"
    }
   ],
   "source": [
    "%%time\n",
    "# Visualize the progression of scoring\n",
    "g.visual_game_score()"
   ]
  },
  {
   "cell_type": "code",
   "execution_count": 20,
   "metadata": {},
   "outputs": [
    {
     "name": "stdout",
     "output_type": "stream",
     "text": [
      "CPU times: user 309 ms, sys: 7.29 ms, total: 316 ms\n",
      "Wall time: 329 ms\n"
     ]
    },
    {
     "data": {
      "application/vnd.plotly.v1+json": {
       "config": {
        "plotlyServerURL": "https://plot.ly"
       },
       "data": [
        {
         "alignmentgroup": "True",
         "base": [
          1581,
          1961,
          1831,
          1440,
          2379,
          2067,
          476,
          2729,
          2842,
          791,
          353,
          2571,
          0,
          2729,
          2571,
          2379,
          2067,
          1961,
          1831,
          1581,
          1166,
          791,
          476,
          353,
          0,
          1440,
          2842,
          1581,
          1166,
          791,
          476,
          2379,
          2842,
          2729,
          2571,
          353,
          0,
          1961,
          1831,
          2067,
          1440,
          2571,
          2729,
          2842,
          2379,
          476,
          0,
          791,
          1166,
          1440,
          1831,
          1961,
          2067,
          1581,
          2842,
          0,
          476,
          353,
          1166,
          1440,
          1581,
          1961,
          2067,
          2379,
          2571,
          0,
          353,
          791,
          2729,
          2571,
          2379,
          476,
          1581,
          1166,
          964,
          917,
          1831,
          1166,
          1440,
          1831,
          1961,
          2571,
          2729,
          2842,
          791,
          353,
          0,
          1440,
          1831,
          2067,
          1961,
          791,
          476,
          2379,
          1166,
          2842,
          2729,
          2687,
          2622,
          827,
          2067,
          1914,
          1900,
          1581,
          864,
          1914,
          864,
          827,
          2687,
          2622,
          1900,
          1914,
          1900,
          864,
          827,
          2622,
          2622,
          964,
          917,
          864,
          964,
          917,
          827,
          2622,
          2687,
          1914,
          1900,
          964,
          917,
          353,
          2687,
          864,
          827,
          827,
          864,
          1900,
          1914,
          2687,
          2687,
          827,
          864,
          964,
          917,
          2687,
          2622,
          964,
          917,
          1900,
          1914,
          2622,
          1900,
          917,
          964,
          1914
         ],
         "customdata": [
          [
           "Anders Juengst",
           "9:39",
           "8:33",
           "O-Point",
           "Hold",
           0,
           "",
           ""
          ],
          [
           "Anders Juengst",
           "3:19",
           "1:33",
           "O-Point",
           "Hold",
           4,
           " (Timeout)",
           " (Injury)"
          ],
          [
           "Anders Juengst",
           "5:29",
           "4:20",
           "O-Point",
           "Hold",
           4,
           "",
           " (Timeout)"
          ],
          [
           "Anders Juengst",
           "12:00",
           "11:33",
           "O-Point",
           "Hold",
           0,
           "",
           ""
          ],
          [
           "Anders Juengst",
           "8:21",
           "6:50",
           "O-Point",
           "Hold",
           0,
           "",
           ""
          ],
          [
           "Anders Juengst",
           "1:33",
           "2:03",
           "O-Point",
           "Hold",
           4,
           " (Injury)",
           ""
          ],
          [
           "Anders Juengst",
           "4:04",
           "3:07",
           "O-Point",
           "Hold",
           0,
           "",
           ""
          ],
          [
           "Anders Juengst",
           "2:31",
           "2:20",
           "D-Point",
           "Break",
           1,
           " (Timeout)",
           ""
          ],
          [
           "Anders Juengst",
           "0:38",
           "0:17",
           "O-Point",
           "Hold",
           0,
           "",
           ""
          ],
          [
           "Anders Juengst",
           "10:49",
           "10:13",
           "O-Point",
           "Hold",
           0,
           "",
           ""
          ],
          [
           "Anders Juengst",
           "6:07",
           "5:31",
           "O-Point",
           "Hold",
           0,
           "",
           ""
          ],
          [
           "Anders Juengst",
           "5:09",
           "4:18",
           "O-Point",
           "Hold",
           0,
           "",
           ""
          ],
          [
           "Anders Juengst",
           "12:00",
           "11:18",
           "O-Point",
           "Hold",
           0,
           "",
           ""
          ],
          [
           "Jacob Fairfax",
           "2:31",
           "2:20",
           "D-Point",
           "Break",
           1,
           " (Timeout)",
           ""
          ],
          [
           "Jacob Fairfax",
           "5:09",
           "4:18",
           "O-Point",
           "Hold",
           0,
           "",
           ""
          ],
          [
           "Jacob Fairfax",
           "8:21",
           "6:50",
           "O-Point",
           "Hold",
           0,
           "",
           ""
          ],
          [
           "Jacob Fairfax",
           "1:33",
           "2:03",
           "O-Point",
           "Hold",
           4,
           " (Injury)",
           ""
          ],
          [
           "Jacob Fairfax",
           "3:19",
           "1:33",
           "O-Point",
           "Hold",
           4,
           " (Timeout)",
           " (Injury)"
          ],
          [
           "Jacob Fairfax",
           "5:29",
           "4:20",
           "O-Point",
           "Hold",
           4,
           "",
           " (Timeout)"
          ],
          [
           "Jacob Fairfax",
           "9:39",
           "8:33",
           "O-Point",
           "Hold",
           0,
           "",
           ""
          ],
          [
           "Jacob Fairfax",
           "4:34",
           "4:14",
           "O-Point",
           "Hold",
           0,
           "",
           ""
          ],
          [
           "Jacob Fairfax",
           "10:49",
           "10:13",
           "O-Point",
           "Hold",
           0,
           "",
           ""
          ],
          [
           "Jacob Fairfax",
           "4:04",
           "3:07",
           "O-Point",
           "Hold",
           0,
           "",
           ""
          ],
          [
           "Jacob Fairfax",
           "6:07",
           "5:31",
           "O-Point",
           "Hold",
           0,
           "",
           ""
          ],
          [
           "Jacob Fairfax",
           "12:00",
           "11:18",
           "O-Point",
           "Hold",
           0,
           "",
           ""
          ],
          [
           "Jacob Fairfax",
           "12:00",
           "11:33",
           "O-Point",
           "Hold",
           0,
           "",
           ""
          ],
          [
           "Jacob Fairfax",
           "0:38",
           "0:17",
           "O-Point",
           "Hold",
           0,
           "",
           ""
          ],
          [
           "Sol Yanuck",
           "9:39",
           "8:33",
           "O-Point",
           "Hold",
           0,
           "",
           ""
          ],
          [
           "Sol Yanuck",
           "4:34",
           "4:14",
           "O-Point",
           "Hold",
           0,
           "",
           ""
          ],
          [
           "Sol Yanuck",
           "10:49",
           "10:13",
           "O-Point",
           "Hold",
           0,
           "",
           ""
          ],
          [
           "Sol Yanuck",
           "4:04",
           "3:07",
           "O-Point",
           "Hold",
           0,
           "",
           ""
          ],
          [
           "Sol Yanuck",
           "8:21",
           "6:50",
           "O-Point",
           "Hold",
           0,
           "",
           ""
          ],
          [
           "Sol Yanuck",
           "0:38",
           "0:17",
           "O-Point",
           "Hold",
           0,
           "",
           ""
          ],
          [
           "Sol Yanuck",
           "2:31",
           "2:20",
           "D-Point",
           "Break",
           1,
           " (Timeout)",
           ""
          ],
          [
           "Sol Yanuck",
           "5:09",
           "4:18",
           "O-Point",
           "Hold",
           0,
           "",
           ""
          ],
          [
           "Sol Yanuck",
           "6:07",
           "5:31",
           "O-Point",
           "Hold",
           0,
           "",
           ""
          ],
          [
           "Sol Yanuck",
           "12:00",
           "11:18",
           "O-Point",
           "Hold",
           0,
           "",
           ""
          ],
          [
           "Sol Yanuck",
           "3:19",
           "1:33",
           "O-Point",
           "Hold",
           4,
           " (Timeout)",
           " (Injury)"
          ],
          [
           "Sol Yanuck",
           "5:29",
           "4:20",
           "O-Point",
           "Hold",
           4,
           "",
           " (Timeout)"
          ],
          [
           "Sol Yanuck",
           "1:33",
           "2:03",
           "O-Point",
           "Hold",
           4,
           " (Injury)",
           ""
          ],
          [
           "Sol Yanuck",
           "12:00",
           "11:33",
           "O-Point",
           "Hold",
           0,
           "",
           ""
          ],
          [
           "Matt Gouchoe-Hanas",
           "5:09",
           "4:18",
           "O-Point",
           "Hold",
           0,
           "",
           ""
          ],
          [
           "Matt Gouchoe-Hanas",
           "2:31",
           "2:20",
           "D-Point",
           "Break",
           1,
           " (Timeout)",
           ""
          ],
          [
           "Matt Gouchoe-Hanas",
           "0:38",
           "0:17",
           "O-Point",
           "Hold",
           0,
           "",
           ""
          ],
          [
           "Matt Gouchoe-Hanas",
           "8:21",
           "6:50",
           "O-Point",
           "Hold",
           0,
           "",
           ""
          ],
          [
           "Matt Gouchoe-Hanas",
           "4:04",
           "3:07",
           "O-Point",
           "Hold",
           0,
           "",
           ""
          ],
          [
           "Matt Gouchoe-Hanas",
           "12:00",
           "11:18",
           "O-Point",
           "Hold",
           0,
           "",
           ""
          ],
          [
           "Matt Gouchoe-Hanas",
           "10:49",
           "10:13",
           "O-Point",
           "Hold",
           0,
           "",
           ""
          ],
          [
           "Matt Gouchoe-Hanas",
           "4:34",
           "4:14",
           "O-Point",
           "Hold",
           0,
           "",
           ""
          ],
          [
           "Matt Gouchoe-Hanas",
           "12:00",
           "11:33",
           "O-Point",
           "Hold",
           0,
           "",
           ""
          ],
          [
           "Matt Gouchoe-Hanas",
           "5:29",
           "4:20",
           "O-Point",
           "Hold",
           4,
           "",
           " (Timeout)"
          ],
          [
           "Matt Gouchoe-Hanas",
           "3:19",
           "1:33",
           "O-Point",
           "Hold",
           4,
           " (Timeout)",
           " (Injury)"
          ],
          [
           "Matt Gouchoe-Hanas",
           "1:33",
           "2:03",
           "O-Point",
           "Hold",
           4,
           " (Injury)",
           ""
          ],
          [
           "Matt Gouchoe-Hanas",
           "9:39",
           "8:33",
           "O-Point",
           "Hold",
           0,
           "",
           ""
          ],
          [
           "Terrence Mitchell",
           "0:38",
           "0:17",
           "O-Point",
           "Hold",
           0,
           "",
           ""
          ],
          [
           "Terrence Mitchell",
           "12:00",
           "11:18",
           "O-Point",
           "Hold",
           0,
           "",
           ""
          ],
          [
           "Terrence Mitchell",
           "4:04",
           "3:07",
           "O-Point",
           "Hold",
           0,
           "",
           ""
          ],
          [
           "Terrence Mitchell",
           "6:07",
           "5:31",
           "O-Point",
           "Hold",
           0,
           "",
           ""
          ],
          [
           "Terrence Mitchell",
           "4:34",
           "4:14",
           "O-Point",
           "Hold",
           0,
           "",
           ""
          ],
          [
           "Terrence Mitchell",
           "12:00",
           "11:33",
           "O-Point",
           "Hold",
           0,
           "",
           ""
          ],
          [
           "Terrence Mitchell",
           "9:39",
           "8:33",
           "O-Point",
           "Hold",
           0,
           "",
           ""
          ],
          [
           "Terrence Mitchell",
           "3:19",
           "1:33",
           "O-Point",
           "Hold",
           4,
           " (Timeout)",
           " (Injury)"
          ],
          [
           "Terrence Mitchell",
           "1:33",
           "2:03",
           "O-Point",
           "Hold",
           4,
           " (Injury)",
           ""
          ],
          [
           "Terrence Mitchell",
           "8:21",
           "6:50",
           "O-Point",
           "Hold",
           0,
           "",
           ""
          ],
          [
           "Terrence Mitchell",
           "5:09",
           "4:18",
           "O-Point",
           "Hold",
           0,
           "",
           ""
          ],
          [
           "Alex Davis",
           "12:00",
           "11:18",
           "O-Point",
           "Hold",
           0,
           "",
           ""
          ],
          [
           "Alex Davis",
           "6:07",
           "5:31",
           "O-Point",
           "Hold",
           0,
           "",
           ""
          ],
          [
           "Alex Davis",
           "10:49",
           "10:13",
           "O-Point",
           "Hold",
           0,
           "",
           ""
          ],
          [
           "Alex Davis",
           "2:31",
           "2:20",
           "D-Point",
           "Break",
           1,
           " (Timeout)",
           ""
          ],
          [
           "Alex Davis",
           "5:09",
           "4:18",
           "O-Point",
           "Hold",
           0,
           "",
           ""
          ],
          [
           "Alex Davis",
           "8:21",
           "6:50",
           "O-Point",
           "Hold",
           0,
           "",
           ""
          ],
          [
           "Alex Davis",
           "4:04",
           "3:07",
           "O-Point",
           "Hold",
           0,
           "",
           ""
          ],
          [
           "Alex Davis",
           "9:39",
           "8:33",
           "O-Point",
           "Hold",
           0,
           "",
           ""
          ],
          [
           "Alex Davis",
           "4:34",
           "4:14",
           "O-Point",
           "Hold",
           0,
           "",
           ""
          ],
          [
           "Alex Davis",
           "7:56",
           "6:58",
           "D-Point",
           "Break",
           1,
           "",
           ""
          ],
          [
           "Alex Davis",
           "8:43",
           "7:56",
           "D-Point",
           "Break",
           1,
           "",
           ""
          ],
          [
           "Alex Davis",
           "5:29",
           "4:20",
           "O-Point",
           "Hold",
           4,
           "",
           " (Timeout)"
          ],
          [
           "Henry Fisher",
           "4:34",
           "4:14",
           "O-Point",
           "Hold",
           0,
           "",
           ""
          ],
          [
           "Henry Fisher",
           "12:00",
           "11:33",
           "O-Point",
           "Hold",
           0,
           "",
           ""
          ],
          [
           "Henry Fisher",
           "5:29",
           "4:20",
           "O-Point",
           "Hold",
           4,
           "",
           " (Timeout)"
          ],
          [
           "Henry Fisher",
           "3:19",
           "1:33",
           "O-Point",
           "Hold",
           4,
           " (Timeout)",
           " (Injury)"
          ],
          [
           "Henry Fisher",
           "5:09",
           "4:18",
           "O-Point",
           "Hold",
           0,
           "",
           ""
          ],
          [
           "Henry Fisher",
           "2:31",
           "2:20",
           "D-Point",
           "Break",
           1,
           " (Timeout)",
           ""
          ],
          [
           "Henry Fisher",
           "0:38",
           "0:17",
           "O-Point",
           "Hold",
           0,
           "",
           ""
          ],
          [
           "Henry Fisher",
           "10:49",
           "10:13",
           "O-Point",
           "Hold",
           0,
           "",
           ""
          ],
          [
           "Henry Fisher",
           "6:07",
           "5:31",
           "O-Point",
           "Hold",
           0,
           "",
           ""
          ],
          [
           "Henry Fisher",
           "12:00",
           "11:18",
           "O-Point",
           "Hold",
           0,
           "",
           ""
          ],
          [
           "Trevor Lynch",
           "12:00",
           "11:33",
           "O-Point",
           "Hold",
           0,
           "",
           ""
          ],
          [
           "Trevor Lynch",
           "5:29",
           "4:20",
           "O-Point",
           "Hold",
           4,
           "",
           " (Timeout)"
          ],
          [
           "Trevor Lynch",
           "1:33",
           "2:03",
           "O-Point",
           "Hold",
           4,
           " (Injury)",
           ""
          ],
          [
           "Trevor Lynch",
           "3:19",
           "1:33",
           "O-Point",
           "Hold",
           4,
           " (Timeout)",
           " (Injury)"
          ],
          [
           "Trevor Lynch",
           "10:49",
           "10:13",
           "O-Point",
           "Hold",
           0,
           "",
           ""
          ],
          [
           "Trevor Lynch",
           "4:04",
           "3:07",
           "O-Point",
           "Hold",
           0,
           "",
           ""
          ],
          [
           "Trevor Lynch",
           "8:21",
           "6:50",
           "O-Point",
           "Hold",
           0,
           "",
           ""
          ],
          [
           "Trevor Lynch",
           "4:34",
           "4:14",
           "O-Point",
           "Hold",
           0,
           "",
           ""
          ],
          [
           "Eric Taylor",
           "0:38",
           "0:17",
           "O-Point",
           "Hold",
           0,
           "",
           ""
          ],
          [
           "Eric Taylor",
           "2:31",
           "2:20",
           "D-Point",
           "Break",
           1,
           " (Timeout)",
           ""
          ],
          [
           "Eric Taylor",
           "3:13",
           "2:31",
           "D-Point",
           "Break",
           1,
           "",
           " (Timeout)"
          ],
          [
           "Eric Taylor",
           "4:18",
           "3:13",
           "D-Point",
           "Break",
           1,
           "",
           ""
          ],
          [
           "Eric Taylor",
           "10:13",
           "9:36",
           "D-Point",
           "Break",
           1,
           "",
           ""
          ],
          [
           "Eric Taylor",
           "1:33",
           "2:03",
           "O-Point",
           "Hold",
           4,
           " (Injury)",
           ""
          ],
          [
           "Eric Taylor",
           "4:06",
           "3:19",
           "O-Point",
           "Hold",
           4,
           "",
           " (Timeout)"
          ],
          [
           "Eric Taylor",
           "4:20",
           "4:06",
           "O-Point",
           "Hold",
           4,
           " (Timeout)",
           ""
          ],
          [
           "Eric Taylor",
           "9:39",
           "8:33",
           "O-Point",
           "Hold",
           0,
           "",
           ""
          ],
          [
           "Eric Taylor",
           "9:36",
           "8:43",
           "D-Point",
           "Break",
           1,
           "",
           ""
          ],
          [
           "Tim McAllister",
           "4:06",
           "3:19",
           "O-Point",
           "Hold",
           4,
           "",
           " (Timeout)"
          ],
          [
           "Tim McAllister",
           "9:36",
           "8:43",
           "D-Point",
           "Break",
           1,
           "",
           ""
          ],
          [
           "Tim McAllister",
           "10:13",
           "9:36",
           "D-Point",
           "Break",
           1,
           "",
           ""
          ],
          [
           "Tim McAllister",
           "3:13",
           "2:31",
           "D-Point",
           "Break",
           1,
           "",
           " (Timeout)"
          ],
          [
           "Tim McAllister",
           "4:18",
           "3:13",
           "D-Point",
           "Break",
           1,
           "",
           ""
          ],
          [
           "Tim McAllister",
           "4:20",
           "4:06",
           "O-Point",
           "Hold",
           4,
           " (Timeout)",
           ""
          ],
          [
           "Ethan Bloodworth",
           "4:06",
           "3:19",
           "O-Point",
           "Hold",
           4,
           "",
           " (Timeout)"
          ],
          [
           "Ethan Bloodworth",
           "4:20",
           "4:06",
           "O-Point",
           "Hold",
           4,
           " (Timeout)",
           ""
          ],
          [
           "Ethan Bloodworth",
           "9:36",
           "8:43",
           "D-Point",
           "Break",
           1,
           "",
           ""
          ],
          [
           "Ethan Bloodworth",
           "10:13",
           "9:36",
           "D-Point",
           "Break",
           1,
           "",
           ""
          ],
          [
           "Ethan Bloodworth",
           "4:18",
           "3:13",
           "D-Point",
           "Break",
           1,
           "",
           ""
          ],
          [
           "Connor Russell",
           "4:18",
           "3:13",
           "D-Point",
           "Break",
           1,
           "",
           ""
          ],
          [
           "Connor Russell",
           "7:56",
           "6:58",
           "D-Point",
           "Break",
           1,
           "",
           ""
          ],
          [
           "Connor Russell",
           "8:43",
           "7:56",
           "D-Point",
           "Break",
           1,
           "",
           ""
          ],
          [
           "Charlie McCutcheon",
           "9:36",
           "8:43",
           "D-Point",
           "Break",
           1,
           "",
           ""
          ],
          [
           "Charlie McCutcheon",
           "7:56",
           "6:58",
           "D-Point",
           "Break",
           1,
           "",
           ""
          ],
          [
           "Charlie McCutcheon",
           "8:43",
           "7:56",
           "D-Point",
           "Break",
           1,
           "",
           ""
          ],
          [
           "Charlie McCutcheon",
           "10:13",
           "9:36",
           "D-Point",
           "Break",
           1,
           "",
           ""
          ],
          [
           "Charlie McCutcheon",
           "4:18",
           "3:13",
           "D-Point",
           "Break",
           1,
           "",
           ""
          ],
          [
           "Noah Saul",
           "3:13",
           "2:31",
           "D-Point",
           "Break",
           1,
           "",
           " (Timeout)"
          ],
          [
           "Noah Saul",
           "4:06",
           "3:19",
           "O-Point",
           "Hold",
           4,
           "",
           " (Timeout)"
          ],
          [
           "Noah Saul",
           "4:20",
           "4:06",
           "O-Point",
           "Hold",
           4,
           " (Timeout)",
           ""
          ],
          [
           "Noah Saul",
           "7:56",
           "6:58",
           "D-Point",
           "Break",
           1,
           "",
           ""
          ],
          [
           "Noah Saul",
           "8:43",
           "7:56",
           "D-Point",
           "Break",
           1,
           "",
           ""
          ],
          [
           "Noah Saul",
           "6:07",
           "5:31",
           "O-Point",
           "Hold",
           0,
           "",
           ""
          ],
          [
           "Suraj Madiraju",
           "3:13",
           "2:31",
           "D-Point",
           "Break",
           1,
           "",
           " (Timeout)"
          ],
          [
           "Suraj Madiraju",
           "9:36",
           "8:43",
           "D-Point",
           "Break",
           1,
           "",
           ""
          ],
          [
           "Suraj Madiraju",
           "10:13",
           "9:36",
           "D-Point",
           "Break",
           1,
           "",
           ""
          ],
          [
           "Player Pierce",
           "10:13",
           "9:36",
           "D-Point",
           "Break",
           1,
           "",
           ""
          ],
          [
           "Player Pierce",
           "9:36",
           "8:43",
           "D-Point",
           "Break",
           1,
           "",
           ""
          ],
          [
           "Player Pierce",
           "4:20",
           "4:06",
           "O-Point",
           "Hold",
           4,
           " (Timeout)",
           ""
          ],
          [
           "Player Pierce",
           "4:06",
           "3:19",
           "O-Point",
           "Hold",
           4,
           "",
           " (Timeout)"
          ],
          [
           "Player Pierce",
           "3:13",
           "2:31",
           "D-Point",
           "Break",
           1,
           "",
           " (Timeout)"
          ],
          [
           "Grayson Sanner",
           "3:13",
           "2:31",
           "D-Point",
           "Break",
           1,
           "",
           " (Timeout)"
          ],
          [
           "Grayson Sanner",
           "10:13",
           "9:36",
           "D-Point",
           "Break",
           1,
           "",
           ""
          ],
          [
           "Grayson Sanner",
           "9:36",
           "8:43",
           "D-Point",
           "Break",
           1,
           "",
           ""
          ],
          [
           "Seth Weaver",
           "7:56",
           "6:58",
           "D-Point",
           "Break",
           1,
           "",
           ""
          ],
          [
           "Seth Weaver",
           "8:43",
           "7:56",
           "D-Point",
           "Break",
           1,
           "",
           ""
          ],
          [
           "Seth Weaver",
           "3:13",
           "2:31",
           "D-Point",
           "Break",
           1,
           "",
           " (Timeout)"
          ],
          [
           "Seth Weaver",
           "4:18",
           "3:13",
           "D-Point",
           "Break",
           1,
           "",
           ""
          ],
          [
           "William Coffin",
           "7:56",
           "6:58",
           "D-Point",
           "Break",
           1,
           "",
           ""
          ],
          [
           "William Coffin",
           "8:43",
           "7:56",
           "D-Point",
           "Break",
           1,
           "",
           ""
          ],
          [
           "William Coffin",
           "4:20",
           "4:06",
           "O-Point",
           "Hold",
           4,
           " (Timeout)",
           ""
          ],
          [
           "William Coffin",
           "4:06",
           "3:19",
           "O-Point",
           "Hold",
           4,
           "",
           " (Timeout)"
          ],
          [
           "Andrew McKelvey",
           "4:18",
           "3:13",
           "D-Point",
           "Break",
           1,
           "",
           ""
          ],
          [
           "Andrew McKelvey",
           "4:20",
           "4:06",
           "O-Point",
           "Hold",
           4,
           " (Timeout)",
           ""
          ],
          [
           "Andrew McKelvey",
           "8:43",
           "7:56",
           "D-Point",
           "Break",
           1,
           "",
           ""
          ],
          [
           "Andrew McKelvey",
           "7:56",
           "6:58",
           "D-Point",
           "Break",
           1,
           "",
           ""
          ],
          [
           "Andrew McKelvey",
           "4:06",
           "3:19",
           "O-Point",
           "Hold",
           4,
           "",
           " (Timeout)"
          ]
         ],
         "hovertemplate": "%{customdata[0]}<br>Segment Start: %{customdata[1]}%{customdata[6]}<br>Segment End: %{customdata[2]}%{customdata[7]}<br>Initial Possession: %{customdata[3]}<br>Outcome: %{customdata[4]}<br>Total Turns During Point: %{customdata[5]}<br><extra></extra>",
         "legendgroup": "Score",
         "marker": {
          "color": "#636efa"
         },
         "name": "Score",
         "offsetgroup": "Score",
         "orientation": "h",
         "showlegend": true,
         "textposition": "auto",
         "type": "bar",
         "x": [
          66,
          106,
          69,
          27,
          91,
          -30,
          57,
          11,
          21,
          36,
          36,
          51,
          42,
          11,
          51,
          91,
          -30,
          106,
          69,
          66,
          20,
          36,
          57,
          36,
          42,
          27,
          21,
          66,
          20,
          36,
          57,
          91,
          21,
          11,
          51,
          36,
          42,
          106,
          69,
          -30,
          27,
          51,
          11,
          21,
          91,
          57,
          42,
          36,
          20,
          27,
          69,
          106,
          -30,
          66,
          21,
          42,
          57,
          36,
          20,
          27,
          66,
          106,
          -30,
          91,
          51,
          42,
          36,
          36,
          11,
          51,
          91,
          57,
          66,
          20,
          58,
          47,
          69,
          20,
          27,
          69,
          106,
          51,
          11,
          21,
          36,
          36,
          42,
          27,
          69,
          -30,
          106,
          36,
          57,
          91,
          20,
          21,
          11,
          42,
          65,
          37,
          -30,
          47,
          14,
          66,
          53,
          47,
          53,
          37,
          42,
          65,
          14,
          47,
          14,
          53,
          37,
          65,
          65,
          58,
          47,
          53,
          58,
          47,
          37,
          65,
          42,
          47,
          14,
          58,
          47,
          36,
          42,
          53,
          37,
          37,
          53,
          14,
          47,
          42,
          42,
          37,
          53,
          58,
          47,
          42,
          65,
          58,
          47,
          14,
          47,
          65,
          14,
          47,
          58,
          47
         ],
         "xaxis": "x",
         "y": [
          "Anders Juengst",
          "Anders Juengst",
          "Anders Juengst",
          "Anders Juengst",
          "Anders Juengst",
          "Anders Juengst",
          "Anders Juengst",
          "Anders Juengst",
          "Anders Juengst",
          "Anders Juengst",
          "Anders Juengst",
          "Anders Juengst",
          "Anders Juengst",
          "Jacob Fairfax",
          "Jacob Fairfax",
          "Jacob Fairfax",
          "Jacob Fairfax",
          "Jacob Fairfax",
          "Jacob Fairfax",
          "Jacob Fairfax",
          "Jacob Fairfax",
          "Jacob Fairfax",
          "Jacob Fairfax",
          "Jacob Fairfax",
          "Jacob Fairfax",
          "Jacob Fairfax",
          "Jacob Fairfax",
          "Sol Yanuck",
          "Sol Yanuck",
          "Sol Yanuck",
          "Sol Yanuck",
          "Sol Yanuck",
          "Sol Yanuck",
          "Sol Yanuck",
          "Sol Yanuck",
          "Sol Yanuck",
          "Sol Yanuck",
          "Sol Yanuck",
          "Sol Yanuck",
          "Sol Yanuck",
          "Sol Yanuck",
          "Matt Gouchoe-Hanas",
          "Matt Gouchoe-Hanas",
          "Matt Gouchoe-Hanas",
          "Matt Gouchoe-Hanas",
          "Matt Gouchoe-Hanas",
          "Matt Gouchoe-Hanas",
          "Matt Gouchoe-Hanas",
          "Matt Gouchoe-Hanas",
          "Matt Gouchoe-Hanas",
          "Matt Gouchoe-Hanas",
          "Matt Gouchoe-Hanas",
          "Matt Gouchoe-Hanas",
          "Matt Gouchoe-Hanas",
          "Terrence Mitchell",
          "Terrence Mitchell",
          "Terrence Mitchell",
          "Terrence Mitchell",
          "Terrence Mitchell",
          "Terrence Mitchell",
          "Terrence Mitchell",
          "Terrence Mitchell",
          "Terrence Mitchell",
          "Terrence Mitchell",
          "Terrence Mitchell",
          "Alex Davis",
          "Alex Davis",
          "Alex Davis",
          "Alex Davis",
          "Alex Davis",
          "Alex Davis",
          "Alex Davis",
          "Alex Davis",
          "Alex Davis",
          "Alex Davis",
          "Alex Davis",
          "Alex Davis",
          "Henry Fisher",
          "Henry Fisher",
          "Henry Fisher",
          "Henry Fisher",
          "Henry Fisher",
          "Henry Fisher",
          "Henry Fisher",
          "Henry Fisher",
          "Henry Fisher",
          "Henry Fisher",
          "Trevor Lynch",
          "Trevor Lynch",
          "Trevor Lynch",
          "Trevor Lynch",
          "Trevor Lynch",
          "Trevor Lynch",
          "Trevor Lynch",
          "Trevor Lynch",
          "Eric Taylor",
          "Eric Taylor",
          "Eric Taylor",
          "Eric Taylor",
          "Eric Taylor",
          "Eric Taylor",
          "Eric Taylor",
          "Eric Taylor",
          "Eric Taylor",
          "Eric Taylor",
          "Tim McAllister",
          "Tim McAllister",
          "Tim McAllister",
          "Tim McAllister",
          "Tim McAllister",
          "Tim McAllister",
          "Ethan Bloodworth",
          "Ethan Bloodworth",
          "Ethan Bloodworth",
          "Ethan Bloodworth",
          "Ethan Bloodworth",
          "Connor Russell",
          "Connor Russell",
          "Connor Russell",
          "Charlie McCutcheon",
          "Charlie McCutcheon",
          "Charlie McCutcheon",
          "Charlie McCutcheon",
          "Charlie McCutcheon",
          "Noah Saul",
          "Noah Saul",
          "Noah Saul",
          "Noah Saul",
          "Noah Saul",
          "Noah Saul",
          "Suraj Madiraju",
          "Suraj Madiraju",
          "Suraj Madiraju",
          "Player Pierce",
          "Player Pierce",
          "Player Pierce",
          "Player Pierce",
          "Player Pierce",
          "Grayson Sanner",
          "Grayson Sanner",
          "Grayson Sanner",
          "Seth Weaver",
          "Seth Weaver",
          "Seth Weaver",
          "Seth Weaver",
          "William Coffin",
          "William Coffin",
          "William Coffin",
          "William Coffin",
          "Andrew McKelvey",
          "Andrew McKelvey",
          "Andrew McKelvey",
          "Andrew McKelvey",
          "Andrew McKelvey"
         ],
         "yaxis": "y"
        },
        {
         "alignmentgroup": "True",
         "base": [
          1751,
          1700,
          1751,
          1700,
          1700,
          1751,
          1700,
          1751,
          1700,
          1751,
          1700,
          1751,
          1751,
          1700
         ],
         "customdata": [
          [
           "Anders Juengst",
           "6:49",
           "6:42",
           "O-Point",
           "Hold",
           1,
           "",
           ""
          ],
          [
           "Anders Juengst",
           "7:40",
           "6:49",
           "O-Point",
           "Hold",
           1,
           "",
           ""
          ],
          [
           "Jacob Fairfax",
           "6:49",
           "6:42",
           "O-Point",
           "Hold",
           1,
           "",
           ""
          ],
          [
           "Jacob Fairfax",
           "7:40",
           "6:49",
           "O-Point",
           "Hold",
           1,
           "",
           ""
          ],
          [
           "Sol Yanuck",
           "7:40",
           "6:49",
           "O-Point",
           "Hold",
           1,
           "",
           ""
          ],
          [
           "Sol Yanuck",
           "6:49",
           "6:42",
           "O-Point",
           "Hold",
           1,
           "",
           ""
          ],
          [
           "Matt Gouchoe-Hanas",
           "7:40",
           "6:49",
           "O-Point",
           "Hold",
           1,
           "",
           ""
          ],
          [
           "Matt Gouchoe-Hanas",
           "6:49",
           "6:42",
           "O-Point",
           "Hold",
           1,
           "",
           ""
          ],
          [
           "Terrence Mitchell",
           "7:40",
           "6:49",
           "O-Point",
           "Hold",
           1,
           "",
           ""
          ],
          [
           "Terrence Mitchell",
           "6:49",
           "6:42",
           "O-Point",
           "Hold",
           1,
           "",
           ""
          ],
          [
           "Alex Davis",
           "7:40",
           "6:49",
           "O-Point",
           "Hold",
           1,
           "",
           ""
          ],
          [
           "Alex Davis",
           "6:49",
           "6:42",
           "O-Point",
           "Hold",
           1,
           "",
           ""
          ],
          [
           "Trevor Lynch",
           "6:49",
           "6:42",
           "O-Point",
           "Hold",
           1,
           "",
           ""
          ],
          [
           "Trevor Lynch",
           "7:40",
           "6:49",
           "O-Point",
           "Hold",
           1,
           "",
           ""
          ]
         ],
         "hovertemplate": "%{customdata[0]}<br>Segment Start: %{customdata[1]}%{customdata[6]}<br>Segment End: %{customdata[2]}%{customdata[7]}<br>Initial Possession: %{customdata[3]}<br>Outcome: %{customdata[4]}<br>Total Turns During Point: %{customdata[5]}<br><extra></extra>",
         "legendgroup": "Callahan",
         "marker": {
          "color": "#EF553B"
         },
         "name": "Callahan",
         "offsetgroup": "Callahan",
         "orientation": "h",
         "showlegend": true,
         "textposition": "auto",
         "type": "bar",
         "x": [
          7,
          51,
          7,
          51,
          51,
          7,
          51,
          7,
          51,
          7,
          51,
          7,
          7,
          51
         ],
         "xaxis": "x",
         "y": [
          "Anders Juengst",
          "Anders Juengst",
          "Jacob Fairfax",
          "Jacob Fairfax",
          "Sol Yanuck",
          "Sol Yanuck",
          "Matt Gouchoe-Hanas",
          "Matt Gouchoe-Hanas",
          "Terrence Mitchell",
          "Terrence Mitchell",
          "Alex Davis",
          "Alex Davis",
          "Trevor Lynch",
          "Trevor Lynch"
         ],
         "yaxis": "y"
        },
        {
         "alignmentgroup": "True",
         "base": [
          2123,
          2075,
          1381,
          1380,
          1353,
          348,
          185,
          2075,
          348,
          185,
          2123,
          1265,
          348,
          185,
          2075,
          2123,
          185,
          2075,
          2123,
          185,
          348,
          2075,
          2123,
          2075,
          2123,
          1647,
          1687,
          1679,
          185,
          348,
          2075,
          185,
          348,
          2123,
          348,
          1381,
          2283,
          2160,
          2315,
          2314,
          2357,
          2470,
          42,
          2037,
          1758,
          1467,
          1380,
          1353,
          1265,
          1186,
          1067,
          1043,
          1022,
          389,
          2160,
          1186,
          1067,
          1043,
          1022,
          42,
          2037,
          1265,
          2315,
          2283,
          2740,
          2357,
          2314,
          1647,
          1679,
          1687,
          1186,
          2357,
          2314,
          2315,
          2283,
          2160,
          2037,
          2470,
          1679,
          1687,
          1647,
          1467,
          1265,
          1067,
          1043,
          1022,
          720,
          389,
          42,
          1758,
          1467,
          1265,
          1186,
          1043,
          2037,
          2160,
          2283,
          2315,
          2470,
          2357,
          2314,
          1022,
          2740,
          1067,
          720,
          42,
          2037,
          1758,
          1467,
          1381,
          1380,
          1353,
          42,
          2283,
          2160,
          2314,
          2315,
          2357,
          2470,
          2740,
          2740,
          2470,
          2314,
          2315,
          2283,
          2160,
          1758,
          1467,
          1265,
          1186,
          720,
          2357,
          42,
          2740,
          2283,
          2037,
          1758,
          1467,
          1186,
          1067,
          1043,
          1022,
          2314,
          389,
          2315,
          2357,
          2470,
          42,
          1353,
          1022,
          1043,
          1067,
          1380,
          1647,
          1687,
          1679,
          1381,
          2470,
          389,
          1380,
          2037,
          1758,
          1679,
          1687,
          1647,
          1467,
          1381,
          720,
          1022,
          1043,
          1067,
          1353,
          2160,
          1758,
          1679,
          1687,
          1647,
          1265,
          1186,
          720,
          389,
          1381,
          1380,
          1353,
          389,
          720,
          1679,
          1687,
          2740,
          1647,
          389,
          2740,
          1381,
          1380,
          1353,
          720
         ],
         "customdata": [
          [
           "Anders Juengst",
           "0:37",
           "0:28",
           "O-Point",
           "Opponent Break",
           1,
           "",
           ""
          ],
          [
           "Anders Juengst",
           "1:25",
           "0:37",
           "O-Point",
           "Opponent Break",
           1,
           "",
           ""
          ],
          [
           "Anders Juengst",
           "0:59",
           "0:15",
           "D-Point",
           "Opponent Hold",
           2,
           "",
           ""
          ],
          [
           "Anders Juengst",
           "1:00",
           "0:59",
           "D-Point",
           "Opponent Hold",
           2,
           "",
           ""
          ],
          [
           "Anders Juengst",
           "1:27",
           "1:00",
           "D-Point",
           "Opponent Hold",
           2,
           " (Timeout)",
           ""
          ],
          [
           "Anders Juengst",
           "6:12",
           "6:07",
           "O-Point",
           "Opponent Break",
           1,
           " (Injury)",
           ""
          ],
          [
           "Anders Juengst",
           "8:55",
           "6:12",
           "O-Point",
           "Opponent Break",
           1,
           "",
           " (Injury)"
          ],
          [
           "Jacob Fairfax",
           "1:25",
           "0:37",
           "O-Point",
           "Opponent Break",
           1,
           "",
           ""
          ],
          [
           "Jacob Fairfax",
           "6:12",
           "6:07",
           "O-Point",
           "Opponent Break",
           1,
           " (Injury)",
           ""
          ],
          [
           "Jacob Fairfax",
           "8:55",
           "6:12",
           "O-Point",
           "Opponent Break",
           1,
           "",
           " (Injury)"
          ],
          [
           "Jacob Fairfax",
           "0:37",
           "0:28",
           "O-Point",
           "Opponent Break",
           1,
           "",
           ""
          ],
          [
           "Sol Yanuck",
           "2:55",
           "1:27",
           "D-Point",
           "Opponent Hold",
           2,
           " (Injury)",
           " (Timeout)"
          ],
          [
           "Sol Yanuck",
           "6:12",
           "6:07",
           "O-Point",
           "Opponent Break",
           1,
           " (Injury)",
           ""
          ],
          [
           "Sol Yanuck",
           "8:55",
           "6:12",
           "O-Point",
           "Opponent Break",
           1,
           "",
           " (Injury)"
          ],
          [
           "Sol Yanuck",
           "1:25",
           "0:37",
           "O-Point",
           "Opponent Break",
           1,
           "",
           ""
          ],
          [
           "Sol Yanuck",
           "0:37",
           "0:28",
           "O-Point",
           "Opponent Break",
           1,
           "",
           ""
          ],
          [
           "Matt Gouchoe-Hanas",
           "8:55",
           "6:12",
           "O-Point",
           "Opponent Break",
           1,
           "",
           " (Injury)"
          ],
          [
           "Matt Gouchoe-Hanas",
           "1:25",
           "0:37",
           "O-Point",
           "Opponent Break",
           1,
           "",
           ""
          ],
          [
           "Matt Gouchoe-Hanas",
           "0:37",
           "0:28",
           "O-Point",
           "Opponent Break",
           1,
           "",
           ""
          ],
          [
           "Terrence Mitchell",
           "8:55",
           "6:12",
           "O-Point",
           "Opponent Break",
           1,
           "",
           " (Injury)"
          ],
          [
           "Terrence Mitchell",
           "6:12",
           "6:07",
           "O-Point",
           "Opponent Break",
           1,
           " (Injury)",
           ""
          ],
          [
           "Terrence Mitchell",
           "1:25",
           "0:37",
           "O-Point",
           "Opponent Break",
           1,
           "",
           ""
          ],
          [
           "Terrence Mitchell",
           "0:37",
           "0:28",
           "O-Point",
           "Opponent Break",
           1,
           "",
           ""
          ],
          [
           "Alex Davis",
           "1:25",
           "0:37",
           "O-Point",
           "Opponent Break",
           1,
           "",
           ""
          ],
          [
           "Alex Davis",
           "0:37",
           "0:28",
           "O-Point",
           "Opponent Break",
           1,
           "",
           ""
          ],
          [
           "Henry Fisher",
           "8:33",
           "7:53",
           "D-Point",
           "Opponent Hold",
           0,
           "",
           ""
          ],
          [
           "Henry Fisher",
           "7:53",
           "8:01",
           "D-Point",
           "Opponent Hold",
           0,
           "",
           ""
          ],
          [
           "Henry Fisher",
           "8:01",
           "7:40",
           "D-Point",
           "Opponent Hold",
           0,
           "",
           ""
          ],
          [
           "Henry Fisher",
           "8:55",
           "6:12",
           "O-Point",
           "Opponent Break",
           1,
           "",
           " (Injury)"
          ],
          [
           "Henry Fisher",
           "6:12",
           "6:07",
           "O-Point",
           "Opponent Break",
           1,
           " (Injury)",
           ""
          ],
          [
           "Trevor Lynch",
           "1:25",
           "0:37",
           "O-Point",
           "Opponent Break",
           1,
           "",
           ""
          ],
          [
           "Trevor Lynch",
           "8:55",
           "6:12",
           "O-Point",
           "Opponent Break",
           1,
           "",
           " (Injury)"
          ],
          [
           "Trevor Lynch",
           "6:12",
           "6:07",
           "O-Point",
           "Opponent Break",
           1,
           " (Injury)",
           ""
          ],
          [
           "Trevor Lynch",
           "0:37",
           "0:28",
           "O-Point",
           "Opponent Break",
           1,
           "",
           ""
          ],
          [
           "Eric Taylor",
           "6:12",
           "6:07",
           "O-Point",
           "Opponent Break",
           1,
           " (Injury)",
           ""
          ],
          [
           "Eric Taylor",
           "0:59",
           "0:15",
           "D-Point",
           "Opponent Hold",
           2,
           "",
           ""
          ],
          [
           "Eric Taylor",
           "9:57",
           "9:25",
           "D-Point",
           "Opponent Hold",
           0,
           " (Injury)",
           ""
          ],
          [
           "Eric Taylor",
           "12:00",
           "9:57",
           "D-Point",
           "Opponent Hold",
           0,
           "",
           " (Injury)"
          ],
          [
           "Eric Taylor",
           "9:25",
           "9:26",
           "D-Point",
           "Opponent Hold",
           0,
           "",
           ""
          ],
          [
           "Eric Taylor",
           "9:26",
           "8:43",
           "D-Point",
           "Opponent Hold",
           0,
           "",
           ""
          ],
          [
           "Eric Taylor",
           "8:43",
           "8:21",
           "D-Point",
           "Opponent Hold",
           0,
           "",
           ""
          ],
          [
           "Eric Taylor",
           "6:50",
           "5:09",
           "D-Point",
           "Opponent Hold",
           0,
           "",
           ""
          ],
          [
           "Eric Taylor",
           "11:18",
           "8:55",
           "D-Point",
           "Opponent Hold",
           2,
           "",
           ""
          ],
          [
           "Eric Taylor",
           "2:03",
           "1:25",
           "D-Point",
           "Opponent Hold",
           0,
           "",
           ""
          ],
          [
           "Eric Taylor",
           "6:42",
           "5:29",
           "D-Point",
           "Opponent Hold",
           0,
           "",
           ""
          ],
          [
           "Eric Taylor",
           "11:33",
           "9:39",
           "D-Point",
           "Opponent Hold",
           0,
           "",
           ""
          ],
          [
           "Eric Taylor",
           "1:00",
           "0:59",
           "D-Point",
           "Opponent Hold",
           2,
           "",
           ""
          ],
          [
           "Eric Taylor",
           "1:27",
           "1:00",
           "D-Point",
           "Opponent Hold",
           2,
           " (Timeout)",
           ""
          ],
          [
           "Eric Taylor",
           "2:55",
           "1:27",
           "D-Point",
           "Opponent Hold",
           2,
           " (Injury)",
           " (Timeout)"
          ],
          [
           "Eric Taylor",
           "4:14",
           "2:55",
           "D-Point",
           "Opponent Hold",
           2,
           "",
           " (Injury)"
          ],
          [
           "Eric Taylor",
           "6:13",
           "4:35",
           "D-Point",
           "Opponent Hold",
           0,
           "",
           ""
          ],
          [
           "Eric Taylor",
           "6:37",
           "6:13",
           "D-Point",
           "Opponent Hold",
           0,
           "",
           ""
          ],
          [
           "Eric Taylor",
           "6:58",
           "6:37",
           "D-Point",
           "Opponent Hold",
           0,
           "",
           ""
          ],
          [
           "Eric Taylor",
           "5:31",
           "4:04",
           "D-Point",
           "Opponent Hold",
           0,
           "",
           ""
          ],
          [
           "Tim McAllister",
           "12:00",
           "9:57",
           "D-Point",
           "Opponent Hold",
           0,
           "",
           " (Injury)"
          ],
          [
           "Tim McAllister",
           "4:14",
           "2:55",
           "D-Point",
           "Opponent Hold",
           2,
           "",
           " (Injury)"
          ],
          [
           "Tim McAllister",
           "6:13",
           "4:35",
           "D-Point",
           "Opponent Hold",
           0,
           "",
           ""
          ],
          [
           "Tim McAllister",
           "6:37",
           "6:13",
           "D-Point",
           "Opponent Hold",
           0,
           "",
           ""
          ],
          [
           "Tim McAllister",
           "6:58",
           "6:37",
           "D-Point",
           "Opponent Hold",
           0,
           "",
           ""
          ],
          [
           "Tim McAllister",
           "11:18",
           "8:55",
           "D-Point",
           "Opponent Hold",
           2,
           "",
           ""
          ],
          [
           "Tim McAllister",
           "2:03",
           "1:25",
           "D-Point",
           "Opponent Hold",
           0,
           "",
           ""
          ],
          [
           "Tim McAllister",
           "2:55",
           "1:27",
           "D-Point",
           "Opponent Hold",
           2,
           " (Injury)",
           " (Timeout)"
          ],
          [
           "Tim McAllister",
           "9:25",
           "9:26",
           "D-Point",
           "Opponent Hold",
           0,
           "",
           ""
          ],
          [
           "Tim McAllister",
           "9:57",
           "9:25",
           "D-Point",
           "Opponent Hold",
           0,
           " (Injury)",
           ""
          ],
          [
           "Tim McAllister",
           "2:20",
           "0:38",
           "D-Point",
           "Opponent Hold",
           0,
           "",
           ""
          ],
          [
           "Tim McAllister",
           "8:43",
           "8:21",
           "D-Point",
           "Opponent Hold",
           0,
           "",
           ""
          ],
          [
           "Tim McAllister",
           "9:26",
           "8:43",
           "D-Point",
           "Opponent Hold",
           0,
           "",
           ""
          ],
          [
           "Tim McAllister",
           "8:33",
           "7:53",
           "D-Point",
           "Opponent Hold",
           0,
           "",
           ""
          ],
          [
           "Tim McAllister",
           "8:01",
           "7:40",
           "D-Point",
           "Opponent Hold",
           0,
           "",
           ""
          ],
          [
           "Tim McAllister",
           "7:53",
           "8:01",
           "D-Point",
           "Opponent Hold",
           0,
           "",
           ""
          ],
          [
           "Ethan Bloodworth",
           "4:14",
           "2:55",
           "D-Point",
           "Opponent Hold",
           2,
           "",
           " (Injury)"
          ],
          [
           "Ethan Bloodworth",
           "8:43",
           "8:21",
           "D-Point",
           "Opponent Hold",
           0,
           "",
           ""
          ],
          [
           "Ethan Bloodworth",
           "9:26",
           "8:43",
           "D-Point",
           "Opponent Hold",
           0,
           "",
           ""
          ],
          [
           "Ethan Bloodworth",
           "9:25",
           "9:26",
           "D-Point",
           "Opponent Hold",
           0,
           "",
           ""
          ],
          [
           "Ethan Bloodworth",
           "9:57",
           "9:25",
           "D-Point",
           "Opponent Hold",
           0,
           " (Injury)",
           ""
          ],
          [
           "Ethan Bloodworth",
           "12:00",
           "9:57",
           "D-Point",
           "Opponent Hold",
           0,
           "",
           " (Injury)"
          ],
          [
           "Ethan Bloodworth",
           "2:03",
           "1:25",
           "D-Point",
           "Opponent Hold",
           0,
           "",
           ""
          ],
          [
           "Ethan Bloodworth",
           "6:50",
           "5:09",
           "D-Point",
           "Opponent Hold",
           0,
           "",
           ""
          ],
          [
           "Ethan Bloodworth",
           "8:01",
           "7:40",
           "D-Point",
           "Opponent Hold",
           0,
           "",
           ""
          ],
          [
           "Ethan Bloodworth",
           "7:53",
           "8:01",
           "D-Point",
           "Opponent Hold",
           0,
           "",
           ""
          ],
          [
           "Ethan Bloodworth",
           "8:33",
           "7:53",
           "D-Point",
           "Opponent Hold",
           0,
           "",
           ""
          ],
          [
           "Ethan Bloodworth",
           "11:33",
           "9:39",
           "D-Point",
           "Opponent Hold",
           0,
           "",
           ""
          ],
          [
           "Ethan Bloodworth",
           "2:55",
           "1:27",
           "D-Point",
           "Opponent Hold",
           2,
           " (Injury)",
           " (Timeout)"
          ],
          [
           "Ethan Bloodworth",
           "6:13",
           "4:35",
           "D-Point",
           "Opponent Hold",
           0,
           "",
           ""
          ],
          [
           "Ethan Bloodworth",
           "6:37",
           "6:13",
           "D-Point",
           "Opponent Hold",
           0,
           "",
           ""
          ],
          [
           "Ethan Bloodworth",
           "6:58",
           "6:37",
           "D-Point",
           "Opponent Hold",
           0,
           "",
           ""
          ],
          [
           "Ethan Bloodworth",
           "12:00",
           "10:49",
           "D-Point",
           "Opponent Hold",
           0,
           "",
           ""
          ],
          [
           "Ethan Bloodworth",
           "5:31",
           "4:04",
           "D-Point",
           "Opponent Hold",
           0,
           "",
           ""
          ],
          [
           "Ethan Bloodworth",
           "11:18",
           "8:55",
           "D-Point",
           "Opponent Hold",
           2,
           "",
           ""
          ],
          [
           "Connor Russell",
           "6:42",
           "5:29",
           "D-Point",
           "Opponent Hold",
           0,
           "",
           ""
          ],
          [
           "Connor Russell",
           "11:33",
           "9:39",
           "D-Point",
           "Opponent Hold",
           0,
           "",
           ""
          ],
          [
           "Connor Russell",
           "2:55",
           "1:27",
           "D-Point",
           "Opponent Hold",
           2,
           " (Injury)",
           " (Timeout)"
          ],
          [
           "Connor Russell",
           "4:14",
           "2:55",
           "D-Point",
           "Opponent Hold",
           2,
           "",
           " (Injury)"
          ],
          [
           "Connor Russell",
           "6:37",
           "6:13",
           "D-Point",
           "Opponent Hold",
           0,
           "",
           ""
          ],
          [
           "Connor Russell",
           "2:03",
           "1:25",
           "D-Point",
           "Opponent Hold",
           0,
           "",
           ""
          ],
          [
           "Connor Russell",
           "12:00",
           "9:57",
           "D-Point",
           "Opponent Hold",
           0,
           "",
           " (Injury)"
          ],
          [
           "Connor Russell",
           "9:57",
           "9:25",
           "D-Point",
           "Opponent Hold",
           0,
           " (Injury)",
           ""
          ],
          [
           "Connor Russell",
           "9:25",
           "9:26",
           "D-Point",
           "Opponent Hold",
           0,
           "",
           ""
          ],
          [
           "Connor Russell",
           "6:50",
           "5:09",
           "D-Point",
           "Opponent Hold",
           0,
           "",
           ""
          ],
          [
           "Connor Russell",
           "8:43",
           "8:21",
           "D-Point",
           "Opponent Hold",
           0,
           "",
           ""
          ],
          [
           "Connor Russell",
           "9:26",
           "8:43",
           "D-Point",
           "Opponent Hold",
           0,
           "",
           ""
          ],
          [
           "Connor Russell",
           "6:58",
           "6:37",
           "D-Point",
           "Opponent Hold",
           0,
           "",
           ""
          ],
          [
           "Connor Russell",
           "2:20",
           "0:38",
           "D-Point",
           "Opponent Hold",
           0,
           "",
           ""
          ],
          [
           "Connor Russell",
           "6:13",
           "4:35",
           "D-Point",
           "Opponent Hold",
           0,
           "",
           ""
          ],
          [
           "Connor Russell",
           "12:00",
           "10:49",
           "D-Point",
           "Opponent Hold",
           0,
           "",
           ""
          ],
          [
           "Connor Russell",
           "11:18",
           "8:55",
           "D-Point",
           "Opponent Hold",
           2,
           "",
           ""
          ],
          [
           "Charlie McCutcheon",
           "2:03",
           "1:25",
           "D-Point",
           "Opponent Hold",
           0,
           "",
           ""
          ],
          [
           "Charlie McCutcheon",
           "6:42",
           "5:29",
           "D-Point",
           "Opponent Hold",
           0,
           "",
           ""
          ],
          [
           "Charlie McCutcheon",
           "11:33",
           "9:39",
           "D-Point",
           "Opponent Hold",
           0,
           "",
           ""
          ],
          [
           "Charlie McCutcheon",
           "0:59",
           "0:15",
           "D-Point",
           "Opponent Hold",
           2,
           "",
           ""
          ],
          [
           "Charlie McCutcheon",
           "1:00",
           "0:59",
           "D-Point",
           "Opponent Hold",
           2,
           "",
           ""
          ],
          [
           "Charlie McCutcheon",
           "1:27",
           "1:00",
           "D-Point",
           "Opponent Hold",
           2,
           " (Timeout)",
           ""
          ],
          [
           "Charlie McCutcheon",
           "11:18",
           "8:55",
           "D-Point",
           "Opponent Hold",
           2,
           "",
           ""
          ],
          [
           "Charlie McCutcheon",
           "9:57",
           "9:25",
           "D-Point",
           "Opponent Hold",
           0,
           " (Injury)",
           ""
          ],
          [
           "Charlie McCutcheon",
           "12:00",
           "9:57",
           "D-Point",
           "Opponent Hold",
           0,
           "",
           " (Injury)"
          ],
          [
           "Charlie McCutcheon",
           "9:26",
           "8:43",
           "D-Point",
           "Opponent Hold",
           0,
           "",
           ""
          ],
          [
           "Charlie McCutcheon",
           "9:25",
           "9:26",
           "D-Point",
           "Opponent Hold",
           0,
           "",
           ""
          ],
          [
           "Charlie McCutcheon",
           "8:43",
           "8:21",
           "D-Point",
           "Opponent Hold",
           0,
           "",
           ""
          ],
          [
           "Charlie McCutcheon",
           "6:50",
           "5:09",
           "D-Point",
           "Opponent Hold",
           0,
           "",
           ""
          ],
          [
           "Charlie McCutcheon",
           "2:20",
           "0:38",
           "D-Point",
           "Opponent Hold",
           0,
           "",
           ""
          ],
          [
           "Noah Saul",
           "2:20",
           "0:38",
           "D-Point",
           "Opponent Hold",
           0,
           "",
           ""
          ],
          [
           "Noah Saul",
           "6:50",
           "5:09",
           "D-Point",
           "Opponent Hold",
           0,
           "",
           ""
          ],
          [
           "Noah Saul",
           "9:26",
           "8:43",
           "D-Point",
           "Opponent Hold",
           0,
           "",
           ""
          ],
          [
           "Noah Saul",
           "9:25",
           "9:26",
           "D-Point",
           "Opponent Hold",
           0,
           "",
           ""
          ],
          [
           "Noah Saul",
           "9:57",
           "9:25",
           "D-Point",
           "Opponent Hold",
           0,
           " (Injury)",
           ""
          ],
          [
           "Noah Saul",
           "12:00",
           "9:57",
           "D-Point",
           "Opponent Hold",
           0,
           "",
           " (Injury)"
          ],
          [
           "Noah Saul",
           "6:42",
           "5:29",
           "D-Point",
           "Opponent Hold",
           0,
           "",
           ""
          ],
          [
           "Noah Saul",
           "11:33",
           "9:39",
           "D-Point",
           "Opponent Hold",
           0,
           "",
           ""
          ],
          [
           "Noah Saul",
           "2:55",
           "1:27",
           "D-Point",
           "Opponent Hold",
           2,
           " (Injury)",
           " (Timeout)"
          ],
          [
           "Noah Saul",
           "4:14",
           "2:55",
           "D-Point",
           "Opponent Hold",
           2,
           "",
           " (Injury)"
          ],
          [
           "Noah Saul",
           "12:00",
           "10:49",
           "D-Point",
           "Opponent Hold",
           0,
           "",
           ""
          ],
          [
           "Noah Saul",
           "8:43",
           "8:21",
           "D-Point",
           "Opponent Hold",
           0,
           "",
           ""
          ],
          [
           "Noah Saul",
           "11:18",
           "8:55",
           "D-Point",
           "Opponent Hold",
           2,
           "",
           ""
          ],
          [
           "Suraj Madiraju",
           "2:20",
           "0:38",
           "D-Point",
           "Opponent Hold",
           0,
           "",
           ""
          ],
          [
           "Suraj Madiraju",
           "9:57",
           "9:25",
           "D-Point",
           "Opponent Hold",
           0,
           " (Injury)",
           ""
          ],
          [
           "Suraj Madiraju",
           "2:03",
           "1:25",
           "D-Point",
           "Opponent Hold",
           0,
           "",
           ""
          ],
          [
           "Suraj Madiraju",
           "6:42",
           "5:29",
           "D-Point",
           "Opponent Hold",
           0,
           "",
           ""
          ],
          [
           "Suraj Madiraju",
           "11:33",
           "9:39",
           "D-Point",
           "Opponent Hold",
           0,
           "",
           ""
          ],
          [
           "Suraj Madiraju",
           "4:14",
           "2:55",
           "D-Point",
           "Opponent Hold",
           2,
           "",
           " (Injury)"
          ],
          [
           "Suraj Madiraju",
           "6:13",
           "4:35",
           "D-Point",
           "Opponent Hold",
           0,
           "",
           ""
          ],
          [
           "Suraj Madiraju",
           "6:37",
           "6:13",
           "D-Point",
           "Opponent Hold",
           0,
           "",
           ""
          ],
          [
           "Suraj Madiraju",
           "6:58",
           "6:37",
           "D-Point",
           "Opponent Hold",
           0,
           "",
           ""
          ],
          [
           "Suraj Madiraju",
           "9:26",
           "8:43",
           "D-Point",
           "Opponent Hold",
           0,
           "",
           ""
          ],
          [
           "Suraj Madiraju",
           "5:31",
           "4:04",
           "D-Point",
           "Opponent Hold",
           0,
           "",
           ""
          ],
          [
           "Suraj Madiraju",
           "9:25",
           "9:26",
           "D-Point",
           "Opponent Hold",
           0,
           "",
           ""
          ],
          [
           "Suraj Madiraju",
           "8:43",
           "8:21",
           "D-Point",
           "Opponent Hold",
           0,
           "",
           ""
          ],
          [
           "Suraj Madiraju",
           "6:50",
           "5:09",
           "D-Point",
           "Opponent Hold",
           0,
           "",
           ""
          ],
          [
           "Player Pierce",
           "11:18",
           "8:55",
           "D-Point",
           "Opponent Hold",
           2,
           "",
           ""
          ],
          [
           "Player Pierce",
           "1:27",
           "1:00",
           "D-Point",
           "Opponent Hold",
           2,
           " (Timeout)",
           ""
          ],
          [
           "Player Pierce",
           "6:58",
           "6:37",
           "D-Point",
           "Opponent Hold",
           0,
           "",
           ""
          ],
          [
           "Player Pierce",
           "6:37",
           "6:13",
           "D-Point",
           "Opponent Hold",
           0,
           "",
           ""
          ],
          [
           "Player Pierce",
           "6:13",
           "4:35",
           "D-Point",
           "Opponent Hold",
           0,
           "",
           ""
          ],
          [
           "Player Pierce",
           "1:00",
           "0:59",
           "D-Point",
           "Opponent Hold",
           2,
           "",
           ""
          ],
          [
           "Player Pierce",
           "8:33",
           "7:53",
           "D-Point",
           "Opponent Hold",
           0,
           "",
           ""
          ],
          [
           "Player Pierce",
           "7:53",
           "8:01",
           "D-Point",
           "Opponent Hold",
           0,
           "",
           ""
          ],
          [
           "Player Pierce",
           "8:01",
           "7:40",
           "D-Point",
           "Opponent Hold",
           0,
           "",
           ""
          ],
          [
           "Player Pierce",
           "0:59",
           "0:15",
           "D-Point",
           "Opponent Hold",
           2,
           "",
           ""
          ],
          [
           "Grayson Sanner",
           "6:50",
           "5:09",
           "D-Point",
           "Opponent Hold",
           0,
           "",
           ""
          ],
          [
           "Grayson Sanner",
           "5:31",
           "4:04",
           "D-Point",
           "Opponent Hold",
           0,
           "",
           ""
          ],
          [
           "Grayson Sanner",
           "1:00",
           "0:59",
           "D-Point",
           "Opponent Hold",
           2,
           "",
           ""
          ],
          [
           "Grayson Sanner",
           "2:03",
           "1:25",
           "D-Point",
           "Opponent Hold",
           0,
           "",
           ""
          ],
          [
           "Grayson Sanner",
           "6:42",
           "5:29",
           "D-Point",
           "Opponent Hold",
           0,
           "",
           ""
          ],
          [
           "Grayson Sanner",
           "8:01",
           "7:40",
           "D-Point",
           "Opponent Hold",
           0,
           "",
           ""
          ],
          [
           "Grayson Sanner",
           "7:53",
           "8:01",
           "D-Point",
           "Opponent Hold",
           0,
           "",
           ""
          ],
          [
           "Grayson Sanner",
           "8:33",
           "7:53",
           "D-Point",
           "Opponent Hold",
           0,
           "",
           ""
          ],
          [
           "Grayson Sanner",
           "11:33",
           "9:39",
           "D-Point",
           "Opponent Hold",
           0,
           "",
           ""
          ],
          [
           "Grayson Sanner",
           "0:59",
           "0:15",
           "D-Point",
           "Opponent Hold",
           2,
           "",
           ""
          ],
          [
           "Grayson Sanner",
           "12:00",
           "10:49",
           "D-Point",
           "Opponent Hold",
           0,
           "",
           ""
          ],
          [
           "Grayson Sanner",
           "6:58",
           "6:37",
           "D-Point",
           "Opponent Hold",
           0,
           "",
           ""
          ],
          [
           "Grayson Sanner",
           "6:37",
           "6:13",
           "D-Point",
           "Opponent Hold",
           0,
           "",
           ""
          ],
          [
           "Grayson Sanner",
           "6:13",
           "4:35",
           "D-Point",
           "Opponent Hold",
           0,
           "",
           ""
          ],
          [
           "Grayson Sanner",
           "1:27",
           "1:00",
           "D-Point",
           "Opponent Hold",
           2,
           " (Timeout)",
           ""
          ],
          [
           "Seth Weaver",
           "12:00",
           "9:57",
           "D-Point",
           "Opponent Hold",
           0,
           "",
           " (Injury)"
          ],
          [
           "Seth Weaver",
           "6:42",
           "5:29",
           "D-Point",
           "Opponent Hold",
           0,
           "",
           ""
          ],
          [
           "Seth Weaver",
           "8:01",
           "7:40",
           "D-Point",
           "Opponent Hold",
           0,
           "",
           ""
          ],
          [
           "Seth Weaver",
           "7:53",
           "8:01",
           "D-Point",
           "Opponent Hold",
           0,
           "",
           ""
          ],
          [
           "Seth Weaver",
           "8:33",
           "7:53",
           "D-Point",
           "Opponent Hold",
           0,
           "",
           ""
          ],
          [
           "Seth Weaver",
           "2:55",
           "1:27",
           "D-Point",
           "Opponent Hold",
           2,
           " (Injury)",
           " (Timeout)"
          ],
          [
           "Seth Weaver",
           "4:14",
           "2:55",
           "D-Point",
           "Opponent Hold",
           2,
           "",
           " (Injury)"
          ],
          [
           "Seth Weaver",
           "12:00",
           "10:49",
           "D-Point",
           "Opponent Hold",
           0,
           "",
           ""
          ],
          [
           "Seth Weaver",
           "5:31",
           "4:04",
           "D-Point",
           "Opponent Hold",
           0,
           "",
           ""
          ],
          [
           "William Coffin",
           "0:59",
           "0:15",
           "D-Point",
           "Opponent Hold",
           2,
           "",
           ""
          ],
          [
           "William Coffin",
           "1:00",
           "0:59",
           "D-Point",
           "Opponent Hold",
           2,
           "",
           ""
          ],
          [
           "William Coffin",
           "1:27",
           "1:00",
           "D-Point",
           "Opponent Hold",
           2,
           " (Timeout)",
           ""
          ],
          [
           "William Coffin",
           "5:31",
           "4:04",
           "D-Point",
           "Opponent Hold",
           0,
           "",
           ""
          ],
          [
           "William Coffin",
           "12:00",
           "10:49",
           "D-Point",
           "Opponent Hold",
           0,
           "",
           ""
          ],
          [
           "William Coffin",
           "8:01",
           "7:40",
           "D-Point",
           "Opponent Hold",
           0,
           "",
           ""
          ],
          [
           "William Coffin",
           "7:53",
           "8:01",
           "D-Point",
           "Opponent Hold",
           0,
           "",
           ""
          ],
          [
           "William Coffin",
           "2:20",
           "0:38",
           "D-Point",
           "Opponent Hold",
           0,
           "",
           ""
          ],
          [
           "William Coffin",
           "8:33",
           "7:53",
           "D-Point",
           "Opponent Hold",
           0,
           "",
           ""
          ],
          [
           "Andrew McKelvey",
           "5:31",
           "4:04",
           "D-Point",
           "Opponent Hold",
           0,
           "",
           ""
          ],
          [
           "Andrew McKelvey",
           "2:20",
           "0:38",
           "D-Point",
           "Opponent Hold",
           0,
           "",
           ""
          ],
          [
           "Andrew McKelvey",
           "0:59",
           "0:15",
           "D-Point",
           "Opponent Hold",
           2,
           "",
           ""
          ],
          [
           "Andrew McKelvey",
           "1:00",
           "0:59",
           "D-Point",
           "Opponent Hold",
           2,
           "",
           ""
          ],
          [
           "Andrew McKelvey",
           "1:27",
           "1:00",
           "D-Point",
           "Opponent Hold",
           2,
           " (Timeout)",
           ""
          ],
          [
           "Andrew McKelvey",
           "12:00",
           "10:49",
           "D-Point",
           "Opponent Hold",
           0,
           "",
           ""
          ]
         ],
         "hovertemplate": "%{customdata[0]}<br>Segment Start: %{customdata[1]}%{customdata[6]}<br>Segment End: %{customdata[2]}%{customdata[7]}<br>Initial Possession: %{customdata[3]}<br>Outcome: %{customdata[4]}<br>Total Turns During Point: %{customdata[5]}<br><extra></extra>",
         "legendgroup": "Opponent Score",
         "marker": {
          "color": "#00cc96"
         },
         "name": "Opponent Score",
         "offsetgroup": "Opponent Score",
         "orientation": "h",
         "showlegend": true,
         "textposition": "auto",
         "type": "bar",
         "x": [
          9,
          48,
          44,
          1,
          27,
          5,
          163,
          48,
          5,
          163,
          9,
          88,
          5,
          163,
          48,
          9,
          163,
          48,
          9,
          163,
          5,
          48,
          9,
          48,
          9,
          40,
          -8,
          21,
          163,
          5,
          48,
          163,
          5,
          9,
          5,
          44,
          32,
          123,
          -1,
          43,
          22,
          101,
          143,
          38,
          73,
          114,
          1,
          27,
          88,
          79,
          98,
          24,
          21,
          87,
          123,
          79,
          98,
          24,
          21,
          143,
          38,
          88,
          -1,
          32,
          102,
          22,
          43,
          40,
          21,
          -8,
          79,
          22,
          43,
          -1,
          32,
          123,
          38,
          101,
          21,
          -8,
          40,
          114,
          88,
          98,
          24,
          21,
          71,
          87,
          143,
          73,
          114,
          88,
          79,
          24,
          38,
          123,
          32,
          -1,
          101,
          22,
          43,
          21,
          102,
          98,
          71,
          143,
          38,
          73,
          114,
          44,
          1,
          27,
          143,
          32,
          123,
          43,
          -1,
          22,
          101,
          102,
          102,
          101,
          43,
          -1,
          32,
          123,
          73,
          114,
          88,
          79,
          71,
          22,
          143,
          102,
          32,
          38,
          73,
          114,
          79,
          98,
          24,
          21,
          43,
          87,
          -1,
          22,
          101,
          143,
          27,
          21,
          24,
          98,
          1,
          40,
          -8,
          21,
          44,
          101,
          87,
          1,
          38,
          73,
          21,
          -8,
          40,
          114,
          44,
          71,
          21,
          24,
          98,
          27,
          123,
          73,
          21,
          -8,
          40,
          88,
          79,
          71,
          87,
          44,
          1,
          27,
          87,
          71,
          21,
          -8,
          102,
          40,
          87,
          102,
          44,
          1,
          27,
          71
         ],
         "xaxis": "x",
         "y": [
          "Anders Juengst",
          "Anders Juengst",
          "Anders Juengst",
          "Anders Juengst",
          "Anders Juengst",
          "Anders Juengst",
          "Anders Juengst",
          "Jacob Fairfax",
          "Jacob Fairfax",
          "Jacob Fairfax",
          "Jacob Fairfax",
          "Sol Yanuck",
          "Sol Yanuck",
          "Sol Yanuck",
          "Sol Yanuck",
          "Sol Yanuck",
          "Matt Gouchoe-Hanas",
          "Matt Gouchoe-Hanas",
          "Matt Gouchoe-Hanas",
          "Terrence Mitchell",
          "Terrence Mitchell",
          "Terrence Mitchell",
          "Terrence Mitchell",
          "Alex Davis",
          "Alex Davis",
          "Henry Fisher",
          "Henry Fisher",
          "Henry Fisher",
          "Henry Fisher",
          "Henry Fisher",
          "Trevor Lynch",
          "Trevor Lynch",
          "Trevor Lynch",
          "Trevor Lynch",
          "Eric Taylor",
          "Eric Taylor",
          "Eric Taylor",
          "Eric Taylor",
          "Eric Taylor",
          "Eric Taylor",
          "Eric Taylor",
          "Eric Taylor",
          "Eric Taylor",
          "Eric Taylor",
          "Eric Taylor",
          "Eric Taylor",
          "Eric Taylor",
          "Eric Taylor",
          "Eric Taylor",
          "Eric Taylor",
          "Eric Taylor",
          "Eric Taylor",
          "Eric Taylor",
          "Eric Taylor",
          "Tim McAllister",
          "Tim McAllister",
          "Tim McAllister",
          "Tim McAllister",
          "Tim McAllister",
          "Tim McAllister",
          "Tim McAllister",
          "Tim McAllister",
          "Tim McAllister",
          "Tim McAllister",
          "Tim McAllister",
          "Tim McAllister",
          "Tim McAllister",
          "Tim McAllister",
          "Tim McAllister",
          "Tim McAllister",
          "Ethan Bloodworth",
          "Ethan Bloodworth",
          "Ethan Bloodworth",
          "Ethan Bloodworth",
          "Ethan Bloodworth",
          "Ethan Bloodworth",
          "Ethan Bloodworth",
          "Ethan Bloodworth",
          "Ethan Bloodworth",
          "Ethan Bloodworth",
          "Ethan Bloodworth",
          "Ethan Bloodworth",
          "Ethan Bloodworth",
          "Ethan Bloodworth",
          "Ethan Bloodworth",
          "Ethan Bloodworth",
          "Ethan Bloodworth",
          "Ethan Bloodworth",
          "Ethan Bloodworth",
          "Connor Russell",
          "Connor Russell",
          "Connor Russell",
          "Connor Russell",
          "Connor Russell",
          "Connor Russell",
          "Connor Russell",
          "Connor Russell",
          "Connor Russell",
          "Connor Russell",
          "Connor Russell",
          "Connor Russell",
          "Connor Russell",
          "Connor Russell",
          "Connor Russell",
          "Connor Russell",
          "Connor Russell",
          "Charlie McCutcheon",
          "Charlie McCutcheon",
          "Charlie McCutcheon",
          "Charlie McCutcheon",
          "Charlie McCutcheon",
          "Charlie McCutcheon",
          "Charlie McCutcheon",
          "Charlie McCutcheon",
          "Charlie McCutcheon",
          "Charlie McCutcheon",
          "Charlie McCutcheon",
          "Charlie McCutcheon",
          "Charlie McCutcheon",
          "Charlie McCutcheon",
          "Noah Saul",
          "Noah Saul",
          "Noah Saul",
          "Noah Saul",
          "Noah Saul",
          "Noah Saul",
          "Noah Saul",
          "Noah Saul",
          "Noah Saul",
          "Noah Saul",
          "Noah Saul",
          "Noah Saul",
          "Noah Saul",
          "Suraj Madiraju",
          "Suraj Madiraju",
          "Suraj Madiraju",
          "Suraj Madiraju",
          "Suraj Madiraju",
          "Suraj Madiraju",
          "Suraj Madiraju",
          "Suraj Madiraju",
          "Suraj Madiraju",
          "Suraj Madiraju",
          "Suraj Madiraju",
          "Suraj Madiraju",
          "Suraj Madiraju",
          "Suraj Madiraju",
          "Player Pierce",
          "Player Pierce",
          "Player Pierce",
          "Player Pierce",
          "Player Pierce",
          "Player Pierce",
          "Player Pierce",
          "Player Pierce",
          "Player Pierce",
          "Player Pierce",
          "Grayson Sanner",
          "Grayson Sanner",
          "Grayson Sanner",
          "Grayson Sanner",
          "Grayson Sanner",
          "Grayson Sanner",
          "Grayson Sanner",
          "Grayson Sanner",
          "Grayson Sanner",
          "Grayson Sanner",
          "Grayson Sanner",
          "Grayson Sanner",
          "Grayson Sanner",
          "Grayson Sanner",
          "Grayson Sanner",
          "Seth Weaver",
          "Seth Weaver",
          "Seth Weaver",
          "Seth Weaver",
          "Seth Weaver",
          "Seth Weaver",
          "Seth Weaver",
          "Seth Weaver",
          "Seth Weaver",
          "William Coffin",
          "William Coffin",
          "William Coffin",
          "William Coffin",
          "William Coffin",
          "William Coffin",
          "William Coffin",
          "William Coffin",
          "William Coffin",
          "Andrew McKelvey",
          "Andrew McKelvey",
          "Andrew McKelvey",
          "Andrew McKelvey",
          "Andrew McKelvey",
          "Andrew McKelvey"
         ],
         "yaxis": "y"
        },
        {
         "alignmentgroup": "True",
         "base": [
          2132,
          1425,
          2158,
          1425,
          2132,
          2863,
          2158,
          2158,
          1425,
          2132,
          1425,
          2158,
          2132,
          1425,
          2132,
          2158,
          2158,
          2132,
          1425,
          2158,
          533,
          2863,
          572,
          575,
          2132,
          1425,
          617,
          617,
          575,
          572,
          2863,
          533,
          2863,
          2863,
          533,
          572,
          575,
          617,
          617,
          575,
          533,
          572,
          617,
          572,
          575,
          533,
          617,
          2863,
          575,
          572,
          533,
          575,
          617,
          533,
          572,
          2863
         ],
         "customdata": [
          [
           "Anders Juengst",
           "0:28",
           "0:02",
           "O-Point",
           "End of Period",
           1,
           "",
           ""
          ],
          [
           "Anders Juengst",
           "0:15",
           "0:00",
           "O-Point",
           "End of Period",
           0,
           "",
           ""
          ],
          [
           "Anders Juengst",
           "0:02",
           "0:00",
           "O-Point",
           "End of Period",
           1,
           "",
           ""
          ],
          [
           "Jacob Fairfax",
           "0:15",
           "0:00",
           "O-Point",
           "End of Period",
           0,
           "",
           ""
          ],
          [
           "Jacob Fairfax",
           "0:28",
           "0:02",
           "O-Point",
           "End of Period",
           1,
           "",
           ""
          ],
          [
           "Jacob Fairfax",
           "0:17",
           "5:00",
           "D-Point",
           "End of Period",
           1,
           "",
           ""
          ],
          [
           "Jacob Fairfax",
           "0:02",
           "0:00",
           "O-Point",
           "End of Period",
           1,
           "",
           ""
          ],
          [
           "Sol Yanuck",
           "0:02",
           "0:00",
           "O-Point",
           "End of Period",
           1,
           "",
           ""
          ],
          [
           "Sol Yanuck",
           "0:15",
           "0:00",
           "O-Point",
           "End of Period",
           0,
           "",
           ""
          ],
          [
           "Sol Yanuck",
           "0:28",
           "0:02",
           "O-Point",
           "End of Period",
           1,
           "",
           ""
          ],
          [
           "Matt Gouchoe-Hanas",
           "0:15",
           "0:00",
           "O-Point",
           "End of Period",
           0,
           "",
           ""
          ],
          [
           "Matt Gouchoe-Hanas",
           "0:02",
           "0:00",
           "O-Point",
           "End of Period",
           1,
           "",
           ""
          ],
          [
           "Matt Gouchoe-Hanas",
           "0:28",
           "0:02",
           "O-Point",
           "End of Period",
           1,
           "",
           ""
          ],
          [
           "Terrence Mitchell",
           "0:15",
           "0:00",
           "O-Point",
           "End of Period",
           0,
           "",
           ""
          ],
          [
           "Terrence Mitchell",
           "0:28",
           "0:02",
           "O-Point",
           "End of Period",
           1,
           "",
           ""
          ],
          [
           "Terrence Mitchell",
           "0:02",
           "0:00",
           "O-Point",
           "End of Period",
           1,
           "",
           ""
          ],
          [
           "Alex Davis",
           "0:02",
           "0:00",
           "O-Point",
           "End of Period",
           1,
           "",
           ""
          ],
          [
           "Alex Davis",
           "0:28",
           "0:02",
           "O-Point",
           "End of Period",
           1,
           "",
           ""
          ],
          [
           "Henry Fisher",
           "0:15",
           "0:00",
           "O-Point",
           "End of Period",
           0,
           "",
           ""
          ],
          [
           "Eric Taylor",
           "0:02",
           "0:00",
           "O-Point",
           "End of Period",
           1,
           "",
           ""
          ],
          [
           "Eric Taylor",
           "3:07",
           "2:28",
           "D-Point",
           "End of Period",
           1,
           "",
           ""
          ],
          [
           "Eric Taylor",
           "0:17",
           "5:00",
           "D-Point",
           "End of Period",
           1,
           "",
           ""
          ],
          [
           "Eric Taylor",
           "2:28",
           "2:25",
           "D-Point",
           "End of Period",
           1,
           "",
           ""
          ],
          [
           "Eric Taylor",
           "2:25",
           "1:43",
           "D-Point",
           "End of Period",
           1,
           "",
           ""
          ],
          [
           "Eric Taylor",
           "0:28",
           "0:02",
           "O-Point",
           "End of Period",
           1,
           "",
           ""
          ],
          [
           "Eric Taylor",
           "0:15",
           "0:00",
           "O-Point",
           "End of Period",
           0,
           "",
           ""
          ],
          [
           "Eric Taylor",
           "1:43",
           "0:00",
           "D-Point",
           "End of Period",
           1,
           "",
           ""
          ],
          [
           "Tim McAllister",
           "1:43",
           "0:00",
           "D-Point",
           "End of Period",
           1,
           "",
           ""
          ],
          [
           "Tim McAllister",
           "2:25",
           "1:43",
           "D-Point",
           "End of Period",
           1,
           "",
           ""
          ],
          [
           "Tim McAllister",
           "2:28",
           "2:25",
           "D-Point",
           "End of Period",
           1,
           "",
           ""
          ],
          [
           "Tim McAllister",
           "0:17",
           "5:00",
           "D-Point",
           "End of Period",
           1,
           "",
           ""
          ],
          [
           "Tim McAllister",
           "3:07",
           "2:28",
           "D-Point",
           "End of Period",
           1,
           "",
           ""
          ],
          [
           "Ethan Bloodworth",
           "0:17",
           "5:00",
           "D-Point",
           "End of Period",
           1,
           "",
           ""
          ],
          [
           "Connor Russell",
           "0:17",
           "5:00",
           "D-Point",
           "End of Period",
           1,
           "",
           ""
          ],
          [
           "Connor Russell",
           "3:07",
           "2:28",
           "D-Point",
           "End of Period",
           1,
           "",
           ""
          ],
          [
           "Connor Russell",
           "2:28",
           "2:25",
           "D-Point",
           "End of Period",
           1,
           "",
           ""
          ],
          [
           "Connor Russell",
           "2:25",
           "1:43",
           "D-Point",
           "End of Period",
           1,
           "",
           ""
          ],
          [
           "Connor Russell",
           "1:43",
           "0:00",
           "D-Point",
           "End of Period",
           1,
           "",
           ""
          ],
          [
           "Charlie McCutcheon",
           "1:43",
           "0:00",
           "D-Point",
           "End of Period",
           1,
           "",
           ""
          ],
          [
           "Charlie McCutcheon",
           "2:25",
           "1:43",
           "D-Point",
           "End of Period",
           1,
           "",
           ""
          ],
          [
           "Charlie McCutcheon",
           "3:07",
           "2:28",
           "D-Point",
           "End of Period",
           1,
           "",
           ""
          ],
          [
           "Charlie McCutcheon",
           "2:28",
           "2:25",
           "D-Point",
           "End of Period",
           1,
           "",
           ""
          ],
          [
           "Noah Saul",
           "1:43",
           "0:00",
           "D-Point",
           "End of Period",
           1,
           "",
           ""
          ],
          [
           "Noah Saul",
           "2:28",
           "2:25",
           "D-Point",
           "End of Period",
           1,
           "",
           ""
          ],
          [
           "Noah Saul",
           "2:25",
           "1:43",
           "D-Point",
           "End of Period",
           1,
           "",
           ""
          ],
          [
           "Noah Saul",
           "3:07",
           "2:28",
           "D-Point",
           "End of Period",
           1,
           "",
           ""
          ],
          [
           "Suraj Madiraju",
           "1:43",
           "0:00",
           "D-Point",
           "End of Period",
           1,
           "",
           ""
          ],
          [
           "Suraj Madiraju",
           "0:17",
           "5:00",
           "D-Point",
           "End of Period",
           1,
           "",
           ""
          ],
          [
           "Suraj Madiraju",
           "2:25",
           "1:43",
           "D-Point",
           "End of Period",
           1,
           "",
           ""
          ],
          [
           "Suraj Madiraju",
           "2:28",
           "2:25",
           "D-Point",
           "End of Period",
           1,
           "",
           ""
          ],
          [
           "Suraj Madiraju",
           "3:07",
           "2:28",
           "D-Point",
           "End of Period",
           1,
           "",
           ""
          ],
          [
           "Player Pierce",
           "2:25",
           "1:43",
           "D-Point",
           "End of Period",
           1,
           "",
           ""
          ],
          [
           "Player Pierce",
           "1:43",
           "0:00",
           "D-Point",
           "End of Period",
           1,
           "",
           ""
          ],
          [
           "Player Pierce",
           "3:07",
           "2:28",
           "D-Point",
           "End of Period",
           1,
           "",
           ""
          ],
          [
           "Player Pierce",
           "2:28",
           "2:25",
           "D-Point",
           "End of Period",
           1,
           "",
           ""
          ],
          [
           "Seth Weaver",
           "0:17",
           "5:00",
           "D-Point",
           "End of Period",
           1,
           "",
           ""
          ]
         ],
         "hovertemplate": "%{customdata[0]}<br>Segment Start: %{customdata[1]}%{customdata[6]}<br>Segment End: %{customdata[2]}%{customdata[7]}<br>Initial Possession: %{customdata[3]}<br>Outcome: %{customdata[4]}<br>Total Turns During Point: %{customdata[5]}<br><extra></extra>",
         "legendgroup": "End of Period",
         "marker": {
          "color": "#FFA15A"
         },
         "name": "End of Period",
         "offsetgroup": "End of Period",
         "orientation": "h",
         "showlegend": true,
         "textposition": "auto",
         "type": "bar",
         "x": [
          26,
          15,
          2,
          15,
          26,
          17,
          2,
          2,
          15,
          26,
          15,
          2,
          26,
          15,
          26,
          2,
          2,
          26,
          15,
          2,
          39,
          17,
          3,
          42,
          26,
          15,
          103,
          103,
          42,
          3,
          17,
          39,
          17,
          17,
          39,
          3,
          42,
          103,
          103,
          42,
          39,
          3,
          103,
          3,
          42,
          39,
          103,
          17,
          42,
          3,
          39,
          42,
          103,
          39,
          3,
          17
         ],
         "xaxis": "x",
         "y": [
          "Anders Juengst",
          "Anders Juengst",
          "Anders Juengst",
          "Jacob Fairfax",
          "Jacob Fairfax",
          "Jacob Fairfax",
          "Jacob Fairfax",
          "Sol Yanuck",
          "Sol Yanuck",
          "Sol Yanuck",
          "Matt Gouchoe-Hanas",
          "Matt Gouchoe-Hanas",
          "Matt Gouchoe-Hanas",
          "Terrence Mitchell",
          "Terrence Mitchell",
          "Terrence Mitchell",
          "Alex Davis",
          "Alex Davis",
          "Henry Fisher",
          "Eric Taylor",
          "Eric Taylor",
          "Eric Taylor",
          "Eric Taylor",
          "Eric Taylor",
          "Eric Taylor",
          "Eric Taylor",
          "Eric Taylor",
          "Tim McAllister",
          "Tim McAllister",
          "Tim McAllister",
          "Tim McAllister",
          "Tim McAllister",
          "Ethan Bloodworth",
          "Connor Russell",
          "Connor Russell",
          "Connor Russell",
          "Connor Russell",
          "Connor Russell",
          "Charlie McCutcheon",
          "Charlie McCutcheon",
          "Charlie McCutcheon",
          "Charlie McCutcheon",
          "Noah Saul",
          "Noah Saul",
          "Noah Saul",
          "Noah Saul",
          "Suraj Madiraju",
          "Suraj Madiraju",
          "Suraj Madiraju",
          "Suraj Madiraju",
          "Suraj Madiraju",
          "Player Pierce",
          "Player Pierce",
          "Player Pierce",
          "Player Pierce",
          "Seth Weaver"
         ],
         "yaxis": "y"
        }
       ],
       "layout": {
        "barmode": "overlay",
        "coloraxis": {
         "colorbar": {
          "dtick": 1,
          "tick0": 0,
          "title": {
           "text": "Turns During Point"
          }
         },
         "colorscale": [
          [
           0,
           "rgb(150,150,150)"
          ],
          [
           0.33,
           "rgb(200,200,50)"
          ],
          [
           0.67,
           "rgb(200,100,50)"
          ],
          [
           1,
           "rgb(200,50,50)"
          ]
         ]
        },
        "font": {
         "family": "TW Cen MT"
        },
        "hoverlabel": {
         "font": {
          "family": "TW Cen MT"
         }
        },
        "legend": {
         "title": {},
         "tracegroupgap": 0
        },
        "margin": {
         "autoexpand": false,
         "b": 20,
         "l": 102,
         "r": 150,
         "t": 5
        },
        "shapes": [
         {
          "layer": "above",
          "line": {
           "color": "white",
           "dash": "solid",
           "width": 2
          },
          "type": "line",
          "x0": 0,
          "x1": 0,
          "xref": "x",
          "y0": 0,
          "y1": 1,
          "yref": "y domain"
         },
         {
          "layer": "above",
          "line": {
           "color": "white",
           "dash": "solid",
           "width": 2
          },
          "type": "line",
          "x0": 720,
          "x1": 720,
          "xref": "x",
          "y0": 0,
          "y1": 1,
          "yref": "y domain"
         },
         {
          "layer": "above",
          "line": {
           "color": "white",
           "dash": "solid",
           "width": 2
          },
          "type": "line",
          "x0": 1440,
          "x1": 1440,
          "xref": "x",
          "y0": 0,
          "y1": 1,
          "yref": "y domain"
         },
         {
          "layer": "above",
          "line": {
           "color": "white",
           "dash": "solid",
           "width": 2
          },
          "type": "line",
          "x0": 2160,
          "x1": 2160,
          "xref": "x",
          "y0": 0,
          "y1": 1,
          "yref": "y domain"
         },
         {
          "layer": "above",
          "line": {
           "color": "white",
           "dash": "solid",
           "width": 2
          },
          "type": "line",
          "x0": 2880,
          "x1": 2880,
          "xref": "x",
          "y0": 0,
          "y1": 1,
          "yref": "y domain"
         },
         {
          "layer": "above",
          "line": {
           "color": "white",
           "dash": "dash",
           "width": 2
          },
          "type": "line",
          "x0": 1353,
          "x1": 1353,
          "xref": "x",
          "y0": 0,
          "y1": 1,
          "yref": "y domain"
         },
         {
          "layer": "above",
          "line": {
           "color": "white",
           "dash": "dash",
           "width": 2
          },
          "type": "line",
          "x0": 1900,
          "x1": 1900,
          "xref": "x",
          "y0": 0,
          "y1": 1,
          "yref": "y domain"
         },
         {
          "layer": "above",
          "line": {
           "color": "white",
           "dash": "dash",
           "width": 2
          },
          "type": "line",
          "x0": 1961,
          "x1": 1961,
          "xref": "x",
          "y0": 0,
          "y1": 1,
          "yref": "y domain"
         },
         {
          "layer": "above",
          "line": {
           "color": "white",
           "dash": "dash",
           "width": 2
          },
          "type": "line",
          "x0": 2729,
          "x1": 2729,
          "xref": "x",
          "y0": 0,
          "y1": 1,
          "yref": "y domain"
         },
         {
          "layer": "above",
          "line": {
           "color": "white",
           "dash": "dash",
           "width": 2
          },
          "type": "line",
          "x0": 348,
          "x1": 348,
          "xref": "x",
          "y0": 0,
          "y1": 1,
          "yref": "y domain"
         },
         {
          "layer": "above",
          "line": {
           "color": "white",
           "dash": "dash",
           "width": 2
          },
          "type": "line",
          "x0": 1265,
          "x1": 1265,
          "xref": "x",
          "y0": 0,
          "y1": 1,
          "yref": "y domain"
         },
         {
          "layer": "above",
          "line": {
           "color": "white",
           "dash": "dash",
           "width": 2
          },
          "type": "line",
          "x0": 2067,
          "x1": 2067,
          "xref": "x",
          "y0": 0,
          "y1": 1,
          "yref": "y domain"
         },
         {
          "layer": "above",
          "line": {
           "color": "white",
           "dash": "dash",
           "width": 2
          },
          "type": "line",
          "x0": 2283,
          "x1": 2283,
          "xref": "x",
          "y0": 0,
          "y1": 1,
          "yref": "y domain"
         },
         {
          "fillcolor": "rgb(102,194,165)",
          "layer": "below",
          "line": {
           "width": 0
          },
          "opacity": 0.25,
          "type": "rect",
          "x0": 0,
          "x1": 1,
          "xref": "x domain",
          "y0": 11.5,
          "y1": 19.5,
          "yref": "y"
         },
         {
          "fillcolor": "rgb(252,141,98)",
          "layer": "below",
          "line": {
           "width": 0
          },
          "opacity": 0.25,
          "type": "rect",
          "x0": 0,
          "x1": 1,
          "xref": "x domain",
          "y0": 4.5,
          "y1": 11.5,
          "yref": "y"
         },
         {
          "fillcolor": "rgb(141,160,203)",
          "layer": "below",
          "line": {
           "width": 0
          },
          "opacity": 0.25,
          "type": "rect",
          "x0": 0,
          "x1": 1,
          "xref": "x domain",
          "y0": -0.5,
          "y1": 4.5,
          "yref": "y"
         }
        ],
        "template": {
         "data": {
          "bar": [
           {
            "error_x": {
             "color": "#2a3f5f"
            },
            "error_y": {
             "color": "#2a3f5f"
            },
            "marker": {
             "line": {
              "color": "#E5ECF6",
              "width": 0.5
             },
             "pattern": {
              "fillmode": "overlay",
              "size": 10,
              "solidity": 0.2
             }
            },
            "type": "bar"
           }
          ],
          "barpolar": [
           {
            "marker": {
             "line": {
              "color": "#E5ECF6",
              "width": 0.5
             },
             "pattern": {
              "fillmode": "overlay",
              "size": 10,
              "solidity": 0.2
             }
            },
            "type": "barpolar"
           }
          ],
          "carpet": [
           {
            "aaxis": {
             "endlinecolor": "#2a3f5f",
             "gridcolor": "white",
             "linecolor": "white",
             "minorgridcolor": "white",
             "startlinecolor": "#2a3f5f"
            },
            "baxis": {
             "endlinecolor": "#2a3f5f",
             "gridcolor": "white",
             "linecolor": "white",
             "minorgridcolor": "white",
             "startlinecolor": "#2a3f5f"
            },
            "type": "carpet"
           }
          ],
          "choropleth": [
           {
            "colorbar": {
             "outlinewidth": 0,
             "ticks": ""
            },
            "type": "choropleth"
           }
          ],
          "contour": [
           {
            "colorbar": {
             "outlinewidth": 0,
             "ticks": ""
            },
            "colorscale": [
             [
              0,
              "#0d0887"
             ],
             [
              0.1111111111111111,
              "#46039f"
             ],
             [
              0.2222222222222222,
              "#7201a8"
             ],
             [
              0.3333333333333333,
              "#9c179e"
             ],
             [
              0.4444444444444444,
              "#bd3786"
             ],
             [
              0.5555555555555556,
              "#d8576b"
             ],
             [
              0.6666666666666666,
              "#ed7953"
             ],
             [
              0.7777777777777778,
              "#fb9f3a"
             ],
             [
              0.8888888888888888,
              "#fdca26"
             ],
             [
              1,
              "#f0f921"
             ]
            ],
            "type": "contour"
           }
          ],
          "contourcarpet": [
           {
            "colorbar": {
             "outlinewidth": 0,
             "ticks": ""
            },
            "type": "contourcarpet"
           }
          ],
          "heatmap": [
           {
            "colorbar": {
             "outlinewidth": 0,
             "ticks": ""
            },
            "colorscale": [
             [
              0,
              "#0d0887"
             ],
             [
              0.1111111111111111,
              "#46039f"
             ],
             [
              0.2222222222222222,
              "#7201a8"
             ],
             [
              0.3333333333333333,
              "#9c179e"
             ],
             [
              0.4444444444444444,
              "#bd3786"
             ],
             [
              0.5555555555555556,
              "#d8576b"
             ],
             [
              0.6666666666666666,
              "#ed7953"
             ],
             [
              0.7777777777777778,
              "#fb9f3a"
             ],
             [
              0.8888888888888888,
              "#fdca26"
             ],
             [
              1,
              "#f0f921"
             ]
            ],
            "type": "heatmap"
           }
          ],
          "heatmapgl": [
           {
            "colorbar": {
             "outlinewidth": 0,
             "ticks": ""
            },
            "colorscale": [
             [
              0,
              "#0d0887"
             ],
             [
              0.1111111111111111,
              "#46039f"
             ],
             [
              0.2222222222222222,
              "#7201a8"
             ],
             [
              0.3333333333333333,
              "#9c179e"
             ],
             [
              0.4444444444444444,
              "#bd3786"
             ],
             [
              0.5555555555555556,
              "#d8576b"
             ],
             [
              0.6666666666666666,
              "#ed7953"
             ],
             [
              0.7777777777777778,
              "#fb9f3a"
             ],
             [
              0.8888888888888888,
              "#fdca26"
             ],
             [
              1,
              "#f0f921"
             ]
            ],
            "type": "heatmapgl"
           }
          ],
          "histogram": [
           {
            "marker": {
             "pattern": {
              "fillmode": "overlay",
              "size": 10,
              "solidity": 0.2
             }
            },
            "type": "histogram"
           }
          ],
          "histogram2d": [
           {
            "colorbar": {
             "outlinewidth": 0,
             "ticks": ""
            },
            "colorscale": [
             [
              0,
              "#0d0887"
             ],
             [
              0.1111111111111111,
              "#46039f"
             ],
             [
              0.2222222222222222,
              "#7201a8"
             ],
             [
              0.3333333333333333,
              "#9c179e"
             ],
             [
              0.4444444444444444,
              "#bd3786"
             ],
             [
              0.5555555555555556,
              "#d8576b"
             ],
             [
              0.6666666666666666,
              "#ed7953"
             ],
             [
              0.7777777777777778,
              "#fb9f3a"
             ],
             [
              0.8888888888888888,
              "#fdca26"
             ],
             [
              1,
              "#f0f921"
             ]
            ],
            "type": "histogram2d"
           }
          ],
          "histogram2dcontour": [
           {
            "colorbar": {
             "outlinewidth": 0,
             "ticks": ""
            },
            "colorscale": [
             [
              0,
              "#0d0887"
             ],
             [
              0.1111111111111111,
              "#46039f"
             ],
             [
              0.2222222222222222,
              "#7201a8"
             ],
             [
              0.3333333333333333,
              "#9c179e"
             ],
             [
              0.4444444444444444,
              "#bd3786"
             ],
             [
              0.5555555555555556,
              "#d8576b"
             ],
             [
              0.6666666666666666,
              "#ed7953"
             ],
             [
              0.7777777777777778,
              "#fb9f3a"
             ],
             [
              0.8888888888888888,
              "#fdca26"
             ],
             [
              1,
              "#f0f921"
             ]
            ],
            "type": "histogram2dcontour"
           }
          ],
          "mesh3d": [
           {
            "colorbar": {
             "outlinewidth": 0,
             "ticks": ""
            },
            "type": "mesh3d"
           }
          ],
          "parcoords": [
           {
            "line": {
             "colorbar": {
              "outlinewidth": 0,
              "ticks": ""
             }
            },
            "type": "parcoords"
           }
          ],
          "pie": [
           {
            "automargin": true,
            "type": "pie"
           }
          ],
          "scatter": [
           {
            "fillpattern": {
             "fillmode": "overlay",
             "size": 10,
             "solidity": 0.2
            },
            "type": "scatter"
           }
          ],
          "scatter3d": [
           {
            "line": {
             "colorbar": {
              "outlinewidth": 0,
              "ticks": ""
             }
            },
            "marker": {
             "colorbar": {
              "outlinewidth": 0,
              "ticks": ""
             }
            },
            "type": "scatter3d"
           }
          ],
          "scattercarpet": [
           {
            "marker": {
             "colorbar": {
              "outlinewidth": 0,
              "ticks": ""
             }
            },
            "type": "scattercarpet"
           }
          ],
          "scattergeo": [
           {
            "marker": {
             "colorbar": {
              "outlinewidth": 0,
              "ticks": ""
             }
            },
            "type": "scattergeo"
           }
          ],
          "scattergl": [
           {
            "marker": {
             "colorbar": {
              "outlinewidth": 0,
              "ticks": ""
             }
            },
            "type": "scattergl"
           }
          ],
          "scattermapbox": [
           {
            "marker": {
             "colorbar": {
              "outlinewidth": 0,
              "ticks": ""
             }
            },
            "type": "scattermapbox"
           }
          ],
          "scatterpolar": [
           {
            "marker": {
             "colorbar": {
              "outlinewidth": 0,
              "ticks": ""
             }
            },
            "type": "scatterpolar"
           }
          ],
          "scatterpolargl": [
           {
            "marker": {
             "colorbar": {
              "outlinewidth": 0,
              "ticks": ""
             }
            },
            "type": "scatterpolargl"
           }
          ],
          "scatterternary": [
           {
            "marker": {
             "colorbar": {
              "outlinewidth": 0,
              "ticks": ""
             }
            },
            "type": "scatterternary"
           }
          ],
          "surface": [
           {
            "colorbar": {
             "outlinewidth": 0,
             "ticks": ""
            },
            "colorscale": [
             [
              0,
              "#0d0887"
             ],
             [
              0.1111111111111111,
              "#46039f"
             ],
             [
              0.2222222222222222,
              "#7201a8"
             ],
             [
              0.3333333333333333,
              "#9c179e"
             ],
             [
              0.4444444444444444,
              "#bd3786"
             ],
             [
              0.5555555555555556,
              "#d8576b"
             ],
             [
              0.6666666666666666,
              "#ed7953"
             ],
             [
              0.7777777777777778,
              "#fb9f3a"
             ],
             [
              0.8888888888888888,
              "#fdca26"
             ],
             [
              1,
              "#f0f921"
             ]
            ],
            "type": "surface"
           }
          ],
          "table": [
           {
            "cells": {
             "fill": {
              "color": "#EBF0F8"
             },
             "line": {
              "color": "white"
             }
            },
            "header": {
             "fill": {
              "color": "#C8D4E3"
             },
             "line": {
              "color": "white"
             }
            },
            "type": "table"
           }
          ]
         },
         "layout": {
          "annotationdefaults": {
           "arrowcolor": "#2a3f5f",
           "arrowhead": 0,
           "arrowwidth": 1
          },
          "autotypenumbers": "strict",
          "coloraxis": {
           "colorbar": {
            "outlinewidth": 0,
            "ticks": ""
           }
          },
          "colorscale": {
           "diverging": [
            [
             0,
             "#8e0152"
            ],
            [
             0.1,
             "#c51b7d"
            ],
            [
             0.2,
             "#de77ae"
            ],
            [
             0.3,
             "#f1b6da"
            ],
            [
             0.4,
             "#fde0ef"
            ],
            [
             0.5,
             "#f7f7f7"
            ],
            [
             0.6,
             "#e6f5d0"
            ],
            [
             0.7,
             "#b8e186"
            ],
            [
             0.8,
             "#7fbc41"
            ],
            [
             0.9,
             "#4d9221"
            ],
            [
             1,
             "#276419"
            ]
           ],
           "sequential": [
            [
             0,
             "#0d0887"
            ],
            [
             0.1111111111111111,
             "#46039f"
            ],
            [
             0.2222222222222222,
             "#7201a8"
            ],
            [
             0.3333333333333333,
             "#9c179e"
            ],
            [
             0.4444444444444444,
             "#bd3786"
            ],
            [
             0.5555555555555556,
             "#d8576b"
            ],
            [
             0.6666666666666666,
             "#ed7953"
            ],
            [
             0.7777777777777778,
             "#fb9f3a"
            ],
            [
             0.8888888888888888,
             "#fdca26"
            ],
            [
             1,
             "#f0f921"
            ]
           ],
           "sequentialminus": [
            [
             0,
             "#0d0887"
            ],
            [
             0.1111111111111111,
             "#46039f"
            ],
            [
             0.2222222222222222,
             "#7201a8"
            ],
            [
             0.3333333333333333,
             "#9c179e"
            ],
            [
             0.4444444444444444,
             "#bd3786"
            ],
            [
             0.5555555555555556,
             "#d8576b"
            ],
            [
             0.6666666666666666,
             "#ed7953"
            ],
            [
             0.7777777777777778,
             "#fb9f3a"
            ],
            [
             0.8888888888888888,
             "#fdca26"
            ],
            [
             1,
             "#f0f921"
            ]
           ]
          },
          "colorway": [
           "#636efa",
           "#EF553B",
           "#00cc96",
           "#ab63fa",
           "#FFA15A",
           "#19d3f3",
           "#FF6692",
           "#B6E880",
           "#FF97FF",
           "#FECB52"
          ],
          "font": {
           "color": "#2a3f5f"
          },
          "geo": {
           "bgcolor": "white",
           "lakecolor": "white",
           "landcolor": "#E5ECF6",
           "showlakes": true,
           "showland": true,
           "subunitcolor": "white"
          },
          "hoverlabel": {
           "align": "left"
          },
          "hovermode": "closest",
          "mapbox": {
           "style": "light"
          },
          "paper_bgcolor": "white",
          "plot_bgcolor": "#E5ECF6",
          "polar": {
           "angularaxis": {
            "gridcolor": "white",
            "linecolor": "white",
            "ticks": ""
           },
           "bgcolor": "#E5ECF6",
           "radialaxis": {
            "gridcolor": "white",
            "linecolor": "white",
            "ticks": ""
           }
          },
          "scene": {
           "xaxis": {
            "backgroundcolor": "#E5ECF6",
            "gridcolor": "white",
            "gridwidth": 2,
            "linecolor": "white",
            "showbackground": true,
            "ticks": "",
            "zerolinecolor": "white"
           },
           "yaxis": {
            "backgroundcolor": "#E5ECF6",
            "gridcolor": "white",
            "gridwidth": 2,
            "linecolor": "white",
            "showbackground": true,
            "ticks": "",
            "zerolinecolor": "white"
           },
           "zaxis": {
            "backgroundcolor": "#E5ECF6",
            "gridcolor": "white",
            "gridwidth": 2,
            "linecolor": "white",
            "showbackground": true,
            "ticks": "",
            "zerolinecolor": "white"
           }
          },
          "shapedefaults": {
           "line": {
            "color": "#2a3f5f"
           }
          },
          "ternary": {
           "aaxis": {
            "gridcolor": "white",
            "linecolor": "white",
            "ticks": ""
           },
           "baxis": {
            "gridcolor": "white",
            "linecolor": "white",
            "ticks": ""
           },
           "bgcolor": "#E5ECF6",
           "caxis": {
            "gridcolor": "white",
            "linecolor": "white",
            "ticks": ""
           }
          },
          "title": {
           "x": 0.05
          },
          "xaxis": {
           "automargin": true,
           "gridcolor": "white",
           "linecolor": "white",
           "ticks": "",
           "title": {
            "standoff": 15
           },
           "zerolinecolor": "white",
           "zerolinewidth": 2
          },
          "yaxis": {
           "automargin": true,
           "gridcolor": "white",
           "linecolor": "white",
           "ticks": "",
           "title": {
            "standoff": 15
           },
           "zerolinecolor": "white",
           "zerolinewidth": 2
          }
         }
        },
        "xaxis": {
         "anchor": "y",
         "domain": [
          0,
          1
         ],
         "fixedrange": true,
         "range": [
          0,
          2880
         ],
         "showgrid": false,
         "tickmode": "array",
         "ticks": "",
         "ticktext": [
          "Game Start",
          "End of Q1",
          "End of Q2",
          "End of Q3",
          "End of Q4"
         ],
         "tickvals": [
          0,
          720,
          1440,
          2160,
          2880
         ],
         "type": "linear"
        },
        "yaxis": {
         "anchor": "x",
         "categoryarray": [
          "Andrew McKelvey",
          "William Coffin",
          "Seth Weaver",
          "Grayson Sanner",
          "Player Pierce",
          "Suraj Madiraju",
          "Noah Saul",
          "Charlie McCutcheon",
          "Connor Russell",
          "Ethan Bloodworth",
          "Tim McAllister",
          "Eric Taylor",
          "Trevor Lynch",
          "Henry Fisher",
          "Alex Davis",
          "Terrence Mitchell",
          "Matt Gouchoe-Hanas",
          "Sol Yanuck",
          "Jacob Fairfax",
          "Anders Juengst"
         ],
         "categoryorder": "array",
         "domain": [
          0,
          1
         ],
         "fixedrange": true,
         "title": {}
        }
       }
      }
     },
     "metadata": {},
     "output_type": "display_data"
    }
   ],
   "source": [
    "%%time\n",
    "# Visualize the substitution patterns\n",
    "g.visual_game_flow()"
   ]
  },
  {
   "cell_type": "code",
   "execution_count": 22,
   "metadata": {},
   "outputs": [
    {
     "name": "stdout",
     "output_type": "stream",
     "text": [
      "CPU times: user 130 ms, sys: 24.5 ms, total: 154 ms\n",
      "Wall time: 174 ms\n"
     ]
    },
    {
     "data": {
      "application/vnd.plotly.v1+json": {
       "config": {
        "plotlyServerURL": "https://plot.ly"
       },
       "data": [
        {
         "hoverinfo": "skip",
         "legendgroup": "",
         "marker": {
          "color": "gray",
          "size": [
           1
          ],
          "sizemode": "area",
          "sizeref": 0.01,
          "symbol": "circle"
         },
         "mode": "markers",
         "name": "",
         "orientation": "v",
         "showlegend": false,
         "type": "scatter",
         "x": [
          13.64
         ],
         "xaxis": "x",
         "y": [
          19.99
         ],
         "yaxis": "y"
        },
        {
         "hovertemplate": "%{text}<extra></extra>",
         "marker": {
          "color": [
           "purple"
          ],
          "symbol": "diamond"
         },
         "mode": "markers",
         "name": "Start of Possession",
         "text": [
          "<b>Start of Possession</b><br>Downfield Yards: 0.0<br>Sideways Yards: 0.0<br>Total Yards: 0.0"
         ],
         "type": "scatter",
         "x": [
          13.64
         ],
         "y": [
          19.99
         ]
        },
        {
         "hovertemplate": "%{text}<extra></extra>",
         "marker": {
          "color": [
           "gray",
           "gray",
           "gray",
           "gray",
           "gray",
           "gray",
           "gray",
           "gray"
          ],
          "symbol": "diamond"
         },
         "mode": "markers",
         "name": "Completion",
         "text": [
          "<b>Completion: Matt Gouchoe-Hanas Throw to<br>Sol Yanuck for 22 yards</b><br>Downfield Yards: 21.6<br>Sideways Yards: -15.9<br>Total Yards: 26.8",
          "<b>Completion: Sol Yanuck Dish to<br>Henry Fisher for 7 yards</b><br>Downfield Yards: 7.2<br>Sideways Yards: 8.2<br>Total Yards: 10.9",
          "<b>Completion: Henry Fisher Dump to<br>Sol Yanuck for -10 yards</b><br>Downfield Yards: -10.3<br>Sideways Yards: 2.6<br>Total Yards: 10.6",
          "<b>Completion: Sol Yanuck Throw to<br>Anders Juengst for 6 yards</b><br>Downfield Yards: 5.6<br>Sideways Yards: 14.7<br>Total Yards: 15.8",
          "<b>Completion: Anders Juengst Swing to<br>Sol Yanuck for -4 yards</b><br>Downfield Yards: -4.5<br>Sideways Yards: -23.1<br>Total Yards: 23.6",
          "<b>Completion: Sol Yanuck Throw to<br>Alex Davis for 6 yards</b><br>Downfield Yards: 6.3<br>Sideways Yards: -16.2<br>Total Yards: 17.3",
          "<b>Completion: Alex Davis Throw to<br>Henry Fisher for 15 yards</b><br>Downfield Yards: 15.3<br>Sideways Yards: -3.9<br>Total Yards: 15.8",
          "<b>Completion: Henry Fisher Swing to<br>Sol Yanuck for -10 yards</b><br>Downfield Yards: -9.9<br>Sideways Yards: 17.9<br>Total Yards: 20.5"
         ],
         "type": "scatter",
         "x": [
          -2.26,
          5.93,
          8.52,
          23.25,
          0.13,
          -16.03,
          -19.92,
          -2.05
         ],
         "y": [
          41.59,
          48.81,
          38.52,
          44.11,
          39.61,
          45.88,
          61.15,
          51.2
         ]
        },
        {
         "hovertemplate": "%{text}<extra></extra>",
         "marker": {
          "color": [
           "green"
          ],
          "symbol": "diamond"
         },
         "mode": "markers",
         "name": "Score",
         "text": [
          "<b>Score: Sol Yanuck Huck to<br>Jacob Fairfax for 49 yards</b><br>Downfield Yards: 57.4<br>Sideways Yards: 26.8<br>Total Yards: 63.4"
         ],
         "type": "scatter",
         "x": [
          24.75
         ],
         "y": [
          108.61
         ]
        }
       ],
       "frames": [
        {
         "data": [
          {
           "legendgroup": "",
           "marker": {
            "color": "gray",
            "size": [
             1
            ],
            "sizemode": "area",
            "sizeref": 0.01,
            "symbol": "circle"
           },
           "mode": "markers",
           "name": "",
           "orientation": "v",
           "showlegend": false,
           "type": "scatter",
           "x": [
            13.64
           ],
           "xaxis": "x",
           "y": [
            19.99
           ],
           "yaxis": "y"
          }
         ],
         "name": "1"
        },
        {
         "data": [
          {
           "legendgroup": "",
           "marker": {
            "color": "gray",
            "size": [
             1
            ],
            "sizemode": "area",
            "sizeref": 0.01,
            "symbol": "circle"
           },
           "mode": "markers",
           "name": "",
           "orientation": "v",
           "showlegend": false,
           "type": "scatter",
           "x": [
            -2.26
           ],
           "xaxis": "x",
           "y": [
            41.59
           ],
           "yaxis": "y"
          }
         ],
         "name": "2"
        },
        {
         "data": [
          {
           "legendgroup": "",
           "marker": {
            "color": "gray",
            "size": [
             1
            ],
            "sizemode": "area",
            "sizeref": 0.01,
            "symbol": "circle"
           },
           "mode": "markers",
           "name": "",
           "orientation": "v",
           "showlegend": false,
           "type": "scatter",
           "x": [
            5.93
           ],
           "xaxis": "x",
           "y": [
            48.81
           ],
           "yaxis": "y"
          }
         ],
         "name": "3"
        },
        {
         "data": [
          {
           "legendgroup": "",
           "marker": {
            "color": "gray",
            "size": [
             1
            ],
            "sizemode": "area",
            "sizeref": 0.01,
            "symbol": "circle"
           },
           "mode": "markers",
           "name": "",
           "orientation": "v",
           "showlegend": false,
           "type": "scatter",
           "x": [
            8.52
           ],
           "xaxis": "x",
           "y": [
            38.52
           ],
           "yaxis": "y"
          }
         ],
         "name": "4"
        },
        {
         "data": [
          {
           "legendgroup": "",
           "marker": {
            "color": "gray",
            "size": [
             1
            ],
            "sizemode": "area",
            "sizeref": 0.01,
            "symbol": "circle"
           },
           "mode": "markers",
           "name": "",
           "orientation": "v",
           "showlegend": false,
           "type": "scatter",
           "x": [
            23.25
           ],
           "xaxis": "x",
           "y": [
            44.11
           ],
           "yaxis": "y"
          }
         ],
         "name": "5"
        },
        {
         "data": [
          {
           "legendgroup": "",
           "marker": {
            "color": "gray",
            "size": [
             1
            ],
            "sizemode": "area",
            "sizeref": 0.01,
            "symbol": "circle"
           },
           "mode": "markers",
           "name": "",
           "orientation": "v",
           "showlegend": false,
           "type": "scatter",
           "x": [
            0.13
           ],
           "xaxis": "x",
           "y": [
            39.61
           ],
           "yaxis": "y"
          }
         ],
         "name": "6"
        },
        {
         "data": [
          {
           "legendgroup": "",
           "marker": {
            "color": "gray",
            "size": [
             1
            ],
            "sizemode": "area",
            "sizeref": 0.01,
            "symbol": "circle"
           },
           "mode": "markers",
           "name": "",
           "orientation": "v",
           "showlegend": false,
           "type": "scatter",
           "x": [
            -16.03
           ],
           "xaxis": "x",
           "y": [
            45.88
           ],
           "yaxis": "y"
          }
         ],
         "name": "7"
        },
        {
         "data": [
          {
           "legendgroup": "",
           "marker": {
            "color": "gray",
            "size": [
             1
            ],
            "sizemode": "area",
            "sizeref": 0.01,
            "symbol": "circle"
           },
           "mode": "markers",
           "name": "",
           "orientation": "v",
           "showlegend": false,
           "type": "scatter",
           "x": [
            -19.92
           ],
           "xaxis": "x",
           "y": [
            61.15
           ],
           "yaxis": "y"
          }
         ],
         "name": "8"
        },
        {
         "data": [
          {
           "legendgroup": "",
           "marker": {
            "color": "gray",
            "size": [
             1
            ],
            "sizemode": "area",
            "sizeref": 0.01,
            "symbol": "circle"
           },
           "mode": "markers",
           "name": "",
           "orientation": "v",
           "showlegend": false,
           "type": "scatter",
           "x": [
            -2.05
           ],
           "xaxis": "x",
           "y": [
            51.2
           ],
           "yaxis": "y"
          }
         ],
         "name": "9"
        },
        {
         "data": [
          {
           "legendgroup": "",
           "marker": {
            "color": "gray",
            "size": [
             1
            ],
            "sizemode": "area",
            "sizeref": 0.01,
            "symbol": "circle"
           },
           "mode": "markers",
           "name": "",
           "orientation": "v",
           "showlegend": false,
           "type": "scatter",
           "x": [
            24.75
           ],
           "xaxis": "x",
           "y": [
            108.61
           ],
           "yaxis": "y"
          }
         ],
         "name": "10"
        }
       ],
       "layout": {
        "annotations": [
         {
          "arrowhead": 2,
          "arrowsize": 1.5,
          "ax": 30,
          "axref": "x",
          "ay": 60,
          "ayref": "y",
          "showarrow": true,
          "text": "Attacking",
          "x": 30,
          "xref": "x",
          "y": 80,
          "yref": "y"
         }
        ],
        "font": {
         "family": "TW Cen MT"
        },
        "height": 800,
        "hoverlabel": {
         "font": {
          "family": "TW Cen MT"
         }
        },
        "legend": {
         "itemsizing": "constant",
         "tracegroupgap": 0
        },
        "margin": {
         "b": 0,
         "l": 0,
         "r": 0,
         "t": 0
        },
        "paper_bgcolor": "rgba(0,0,0,0)",
        "plot_bgcolor": "rgba(0,0,0,0)",
        "shapes": [
         {
          "layer": "below",
          "line": {
           "color": "gray"
          },
          "type": "line",
          "x0": 13.64,
          "x1": -2.26,
          "y0": 19.99,
          "y1": 41.59
         },
         {
          "layer": "below",
          "line": {
           "color": "gray"
          },
          "type": "line",
          "x0": -2.26,
          "x1": 5.93,
          "y0": 41.59,
          "y1": 48.81
         },
         {
          "layer": "below",
          "line": {
           "color": "gray"
          },
          "type": "line",
          "x0": 5.93,
          "x1": 8.52,
          "y0": 48.81,
          "y1": 38.52
         },
         {
          "layer": "below",
          "line": {
           "color": "gray"
          },
          "type": "line",
          "x0": 8.52,
          "x1": 23.25,
          "y0": 38.52,
          "y1": 44.11
         },
         {
          "layer": "below",
          "line": {
           "color": "gray"
          },
          "type": "line",
          "x0": 23.25,
          "x1": 0.13,
          "y0": 44.11,
          "y1": 39.61
         },
         {
          "layer": "below",
          "line": {
           "color": "gray"
          },
          "type": "line",
          "x0": 0.13,
          "x1": -16.03,
          "y0": 39.61,
          "y1": 45.88
         },
         {
          "layer": "below",
          "line": {
           "color": "gray"
          },
          "type": "line",
          "x0": -16.03,
          "x1": -19.92,
          "y0": 45.88,
          "y1": 61.15
         },
         {
          "layer": "below",
          "line": {
           "color": "gray"
          },
          "type": "line",
          "x0": -19.92,
          "x1": -2.05,
          "y0": 61.15,
          "y1": 51.2
         },
         {
          "layer": "below",
          "line": {
           "color": "green"
          },
          "type": "line",
          "x0": -2.05,
          "x1": 24.75,
          "y0": 51.2,
          "y1": 108.61
         },
         {
          "line": {
           "color": "black"
          },
          "type": "line",
          "x0": -25,
          "x1": 25,
          "y0": 0,
          "y1": 0
         },
         {
          "line": {
           "color": "black"
          },
          "type": "line",
          "x0": -25,
          "x1": 25,
          "y0": 20,
          "y1": 20
         },
         {
          "line": {
           "color": "black"
          },
          "type": "line",
          "x0": -25,
          "x1": 25,
          "y0": 100,
          "y1": 100
         },
         {
          "line": {
           "color": "black"
          },
          "type": "line",
          "x0": -25,
          "x1": 25,
          "y0": 120,
          "y1": 120
         },
         {
          "line": {
           "color": "black"
          },
          "type": "line",
          "x0": -25,
          "x1": -25,
          "y0": 0,
          "y1": 120
         },
         {
          "line": {
           "color": "black"
          },
          "type": "line",
          "x0": 25,
          "x1": 25,
          "y0": 0,
          "y1": 120
         }
        ],
        "showlegend": false,
        "sliders": [
         {
          "active": 0,
          "currentvalue": {
           "prefix": ""
          },
          "len": 0.9,
          "pad": {
           "b": -25,
           "t": 25
          },
          "steps": [
           {
            "args": [
             [
              "1"
             ],
             {
              "frame": {
               "duration": 0,
               "redraw": false
              },
              "fromcurrent": true,
              "mode": "immediate",
              "transition": {
               "duration": 0,
               "easing": "linear"
              }
             }
            ],
            "label": "Start of Possession",
            "method": "animate"
           },
           {
            "args": [
             [
              "2"
             ],
             {
              "frame": {
               "duration": 0,
               "redraw": false
              },
              "fromcurrent": true,
              "mode": "immediate",
              "transition": {
               "duration": 0,
               "easing": "linear"
              }
             }
            ],
            "label": "Completion: Matt Gouchoe-Hanas Throw to<br>Sol Yanuck for 22 yards",
            "method": "animate"
           },
           {
            "args": [
             [
              "3"
             ],
             {
              "frame": {
               "duration": 0,
               "redraw": false
              },
              "fromcurrent": true,
              "mode": "immediate",
              "transition": {
               "duration": 0,
               "easing": "linear"
              }
             }
            ],
            "label": "Completion: Sol Yanuck Dish to<br>Henry Fisher for 7 yards",
            "method": "animate"
           },
           {
            "args": [
             [
              "4"
             ],
             {
              "frame": {
               "duration": 0,
               "redraw": false
              },
              "fromcurrent": true,
              "mode": "immediate",
              "transition": {
               "duration": 0,
               "easing": "linear"
              }
             }
            ],
            "label": "Completion: Henry Fisher Dump to<br>Sol Yanuck for -10 yards",
            "method": "animate"
           },
           {
            "args": [
             [
              "5"
             ],
             {
              "frame": {
               "duration": 0,
               "redraw": false
              },
              "fromcurrent": true,
              "mode": "immediate",
              "transition": {
               "duration": 0,
               "easing": "linear"
              }
             }
            ],
            "label": "Completion: Sol Yanuck Throw to<br>Anders Juengst for 6 yards",
            "method": "animate"
           },
           {
            "args": [
             [
              "6"
             ],
             {
              "frame": {
               "duration": 0,
               "redraw": false
              },
              "fromcurrent": true,
              "mode": "immediate",
              "transition": {
               "duration": 0,
               "easing": "linear"
              }
             }
            ],
            "label": "Completion: Anders Juengst Swing to<br>Sol Yanuck for -4 yards",
            "method": "animate"
           },
           {
            "args": [
             [
              "7"
             ],
             {
              "frame": {
               "duration": 0,
               "redraw": false
              },
              "fromcurrent": true,
              "mode": "immediate",
              "transition": {
               "duration": 0,
               "easing": "linear"
              }
             }
            ],
            "label": "Completion: Sol Yanuck Throw to<br>Alex Davis for 6 yards",
            "method": "animate"
           },
           {
            "args": [
             [
              "8"
             ],
             {
              "frame": {
               "duration": 0,
               "redraw": false
              },
              "fromcurrent": true,
              "mode": "immediate",
              "transition": {
               "duration": 0,
               "easing": "linear"
              }
             }
            ],
            "label": "Completion: Alex Davis Throw to<br>Henry Fisher for 15 yards",
            "method": "animate"
           },
           {
            "args": [
             [
              "9"
             ],
             {
              "frame": {
               "duration": 0,
               "redraw": false
              },
              "fromcurrent": true,
              "mode": "immediate",
              "transition": {
               "duration": 0,
               "easing": "linear"
              }
             }
            ],
            "label": "Completion: Henry Fisher Swing to<br>Sol Yanuck for -10 yards",
            "method": "animate"
           },
           {
            "args": [
             [
              "10"
             ],
             {
              "frame": {
               "duration": 0,
               "redraw": false
              },
              "fromcurrent": true,
              "mode": "immediate",
              "transition": {
               "duration": 0,
               "easing": "linear"
              }
             }
            ],
            "label": "Score: Sol Yanuck Huck to<br>Jacob Fairfax for 49 yards",
            "method": "animate"
           }
          ],
          "x": 0.1,
          "xanchor": "left",
          "y": 0.1,
          "yanchor": "top"
         }
        ],
        "template": {
         "data": {
          "bar": [
           {
            "error_x": {
             "color": "#2a3f5f"
            },
            "error_y": {
             "color": "#2a3f5f"
            },
            "marker": {
             "line": {
              "color": "#E5ECF6",
              "width": 0.5
             },
             "pattern": {
              "fillmode": "overlay",
              "size": 10,
              "solidity": 0.2
             }
            },
            "type": "bar"
           }
          ],
          "barpolar": [
           {
            "marker": {
             "line": {
              "color": "#E5ECF6",
              "width": 0.5
             },
             "pattern": {
              "fillmode": "overlay",
              "size": 10,
              "solidity": 0.2
             }
            },
            "type": "barpolar"
           }
          ],
          "carpet": [
           {
            "aaxis": {
             "endlinecolor": "#2a3f5f",
             "gridcolor": "white",
             "linecolor": "white",
             "minorgridcolor": "white",
             "startlinecolor": "#2a3f5f"
            },
            "baxis": {
             "endlinecolor": "#2a3f5f",
             "gridcolor": "white",
             "linecolor": "white",
             "minorgridcolor": "white",
             "startlinecolor": "#2a3f5f"
            },
            "type": "carpet"
           }
          ],
          "choropleth": [
           {
            "colorbar": {
             "outlinewidth": 0,
             "ticks": ""
            },
            "type": "choropleth"
           }
          ],
          "contour": [
           {
            "colorbar": {
             "outlinewidth": 0,
             "ticks": ""
            },
            "colorscale": [
             [
              0,
              "#0d0887"
             ],
             [
              0.1111111111111111,
              "#46039f"
             ],
             [
              0.2222222222222222,
              "#7201a8"
             ],
             [
              0.3333333333333333,
              "#9c179e"
             ],
             [
              0.4444444444444444,
              "#bd3786"
             ],
             [
              0.5555555555555556,
              "#d8576b"
             ],
             [
              0.6666666666666666,
              "#ed7953"
             ],
             [
              0.7777777777777778,
              "#fb9f3a"
             ],
             [
              0.8888888888888888,
              "#fdca26"
             ],
             [
              1,
              "#f0f921"
             ]
            ],
            "type": "contour"
           }
          ],
          "contourcarpet": [
           {
            "colorbar": {
             "outlinewidth": 0,
             "ticks": ""
            },
            "type": "contourcarpet"
           }
          ],
          "heatmap": [
           {
            "colorbar": {
             "outlinewidth": 0,
             "ticks": ""
            },
            "colorscale": [
             [
              0,
              "#0d0887"
             ],
             [
              0.1111111111111111,
              "#46039f"
             ],
             [
              0.2222222222222222,
              "#7201a8"
             ],
             [
              0.3333333333333333,
              "#9c179e"
             ],
             [
              0.4444444444444444,
              "#bd3786"
             ],
             [
              0.5555555555555556,
              "#d8576b"
             ],
             [
              0.6666666666666666,
              "#ed7953"
             ],
             [
              0.7777777777777778,
              "#fb9f3a"
             ],
             [
              0.8888888888888888,
              "#fdca26"
             ],
             [
              1,
              "#f0f921"
             ]
            ],
            "type": "heatmap"
           }
          ],
          "heatmapgl": [
           {
            "colorbar": {
             "outlinewidth": 0,
             "ticks": ""
            },
            "colorscale": [
             [
              0,
              "#0d0887"
             ],
             [
              0.1111111111111111,
              "#46039f"
             ],
             [
              0.2222222222222222,
              "#7201a8"
             ],
             [
              0.3333333333333333,
              "#9c179e"
             ],
             [
              0.4444444444444444,
              "#bd3786"
             ],
             [
              0.5555555555555556,
              "#d8576b"
             ],
             [
              0.6666666666666666,
              "#ed7953"
             ],
             [
              0.7777777777777778,
              "#fb9f3a"
             ],
             [
              0.8888888888888888,
              "#fdca26"
             ],
             [
              1,
              "#f0f921"
             ]
            ],
            "type": "heatmapgl"
           }
          ],
          "histogram": [
           {
            "marker": {
             "pattern": {
              "fillmode": "overlay",
              "size": 10,
              "solidity": 0.2
             }
            },
            "type": "histogram"
           }
          ],
          "histogram2d": [
           {
            "colorbar": {
             "outlinewidth": 0,
             "ticks": ""
            },
            "colorscale": [
             [
              0,
              "#0d0887"
             ],
             [
              0.1111111111111111,
              "#46039f"
             ],
             [
              0.2222222222222222,
              "#7201a8"
             ],
             [
              0.3333333333333333,
              "#9c179e"
             ],
             [
              0.4444444444444444,
              "#bd3786"
             ],
             [
              0.5555555555555556,
              "#d8576b"
             ],
             [
              0.6666666666666666,
              "#ed7953"
             ],
             [
              0.7777777777777778,
              "#fb9f3a"
             ],
             [
              0.8888888888888888,
              "#fdca26"
             ],
             [
              1,
              "#f0f921"
             ]
            ],
            "type": "histogram2d"
           }
          ],
          "histogram2dcontour": [
           {
            "colorbar": {
             "outlinewidth": 0,
             "ticks": ""
            },
            "colorscale": [
             [
              0,
              "#0d0887"
             ],
             [
              0.1111111111111111,
              "#46039f"
             ],
             [
              0.2222222222222222,
              "#7201a8"
             ],
             [
              0.3333333333333333,
              "#9c179e"
             ],
             [
              0.4444444444444444,
              "#bd3786"
             ],
             [
              0.5555555555555556,
              "#d8576b"
             ],
             [
              0.6666666666666666,
              "#ed7953"
             ],
             [
              0.7777777777777778,
              "#fb9f3a"
             ],
             [
              0.8888888888888888,
              "#fdca26"
             ],
             [
              1,
              "#f0f921"
             ]
            ],
            "type": "histogram2dcontour"
           }
          ],
          "mesh3d": [
           {
            "colorbar": {
             "outlinewidth": 0,
             "ticks": ""
            },
            "type": "mesh3d"
           }
          ],
          "parcoords": [
           {
            "line": {
             "colorbar": {
              "outlinewidth": 0,
              "ticks": ""
             }
            },
            "type": "parcoords"
           }
          ],
          "pie": [
           {
            "automargin": true,
            "type": "pie"
           }
          ],
          "scatter": [
           {
            "fillpattern": {
             "fillmode": "overlay",
             "size": 10,
             "solidity": 0.2
            },
            "type": "scatter"
           }
          ],
          "scatter3d": [
           {
            "line": {
             "colorbar": {
              "outlinewidth": 0,
              "ticks": ""
             }
            },
            "marker": {
             "colorbar": {
              "outlinewidth": 0,
              "ticks": ""
             }
            },
            "type": "scatter3d"
           }
          ],
          "scattercarpet": [
           {
            "marker": {
             "colorbar": {
              "outlinewidth": 0,
              "ticks": ""
             }
            },
            "type": "scattercarpet"
           }
          ],
          "scattergeo": [
           {
            "marker": {
             "colorbar": {
              "outlinewidth": 0,
              "ticks": ""
             }
            },
            "type": "scattergeo"
           }
          ],
          "scattergl": [
           {
            "marker": {
             "colorbar": {
              "outlinewidth": 0,
              "ticks": ""
             }
            },
            "type": "scattergl"
           }
          ],
          "scattermapbox": [
           {
            "marker": {
             "colorbar": {
              "outlinewidth": 0,
              "ticks": ""
             }
            },
            "type": "scattermapbox"
           }
          ],
          "scatterpolar": [
           {
            "marker": {
             "colorbar": {
              "outlinewidth": 0,
              "ticks": ""
             }
            },
            "type": "scatterpolar"
           }
          ],
          "scatterpolargl": [
           {
            "marker": {
             "colorbar": {
              "outlinewidth": 0,
              "ticks": ""
             }
            },
            "type": "scatterpolargl"
           }
          ],
          "scatterternary": [
           {
            "marker": {
             "colorbar": {
              "outlinewidth": 0,
              "ticks": ""
             }
            },
            "type": "scatterternary"
           }
          ],
          "surface": [
           {
            "colorbar": {
             "outlinewidth": 0,
             "ticks": ""
            },
            "colorscale": [
             [
              0,
              "#0d0887"
             ],
             [
              0.1111111111111111,
              "#46039f"
             ],
             [
              0.2222222222222222,
              "#7201a8"
             ],
             [
              0.3333333333333333,
              "#9c179e"
             ],
             [
              0.4444444444444444,
              "#bd3786"
             ],
             [
              0.5555555555555556,
              "#d8576b"
             ],
             [
              0.6666666666666666,
              "#ed7953"
             ],
             [
              0.7777777777777778,
              "#fb9f3a"
             ],
             [
              0.8888888888888888,
              "#fdca26"
             ],
             [
              1,
              "#f0f921"
             ]
            ],
            "type": "surface"
           }
          ],
          "table": [
           {
            "cells": {
             "fill": {
              "color": "#EBF0F8"
             },
             "line": {
              "color": "white"
             }
            },
            "header": {
             "fill": {
              "color": "#C8D4E3"
             },
             "line": {
              "color": "white"
             }
            },
            "type": "table"
           }
          ]
         },
         "layout": {
          "annotationdefaults": {
           "arrowcolor": "#2a3f5f",
           "arrowhead": 0,
           "arrowwidth": 1
          },
          "autotypenumbers": "strict",
          "coloraxis": {
           "colorbar": {
            "outlinewidth": 0,
            "ticks": ""
           }
          },
          "colorscale": {
           "diverging": [
            [
             0,
             "#8e0152"
            ],
            [
             0.1,
             "#c51b7d"
            ],
            [
             0.2,
             "#de77ae"
            ],
            [
             0.3,
             "#f1b6da"
            ],
            [
             0.4,
             "#fde0ef"
            ],
            [
             0.5,
             "#f7f7f7"
            ],
            [
             0.6,
             "#e6f5d0"
            ],
            [
             0.7,
             "#b8e186"
            ],
            [
             0.8,
             "#7fbc41"
            ],
            [
             0.9,
             "#4d9221"
            ],
            [
             1,
             "#276419"
            ]
           ],
           "sequential": [
            [
             0,
             "#0d0887"
            ],
            [
             0.1111111111111111,
             "#46039f"
            ],
            [
             0.2222222222222222,
             "#7201a8"
            ],
            [
             0.3333333333333333,
             "#9c179e"
            ],
            [
             0.4444444444444444,
             "#bd3786"
            ],
            [
             0.5555555555555556,
             "#d8576b"
            ],
            [
             0.6666666666666666,
             "#ed7953"
            ],
            [
             0.7777777777777778,
             "#fb9f3a"
            ],
            [
             0.8888888888888888,
             "#fdca26"
            ],
            [
             1,
             "#f0f921"
            ]
           ],
           "sequentialminus": [
            [
             0,
             "#0d0887"
            ],
            [
             0.1111111111111111,
             "#46039f"
            ],
            [
             0.2222222222222222,
             "#7201a8"
            ],
            [
             0.3333333333333333,
             "#9c179e"
            ],
            [
             0.4444444444444444,
             "#bd3786"
            ],
            [
             0.5555555555555556,
             "#d8576b"
            ],
            [
             0.6666666666666666,
             "#ed7953"
            ],
            [
             0.7777777777777778,
             "#fb9f3a"
            ],
            [
             0.8888888888888888,
             "#fdca26"
            ],
            [
             1,
             "#f0f921"
            ]
           ]
          },
          "colorway": [
           "#636efa",
           "#EF553B",
           "#00cc96",
           "#ab63fa",
           "#FFA15A",
           "#19d3f3",
           "#FF6692",
           "#B6E880",
           "#FF97FF",
           "#FECB52"
          ],
          "font": {
           "color": "#2a3f5f"
          },
          "geo": {
           "bgcolor": "white",
           "lakecolor": "white",
           "landcolor": "#E5ECF6",
           "showlakes": true,
           "showland": true,
           "subunitcolor": "white"
          },
          "hoverlabel": {
           "align": "left"
          },
          "hovermode": "closest",
          "mapbox": {
           "style": "light"
          },
          "paper_bgcolor": "white",
          "plot_bgcolor": "#E5ECF6",
          "polar": {
           "angularaxis": {
            "gridcolor": "white",
            "linecolor": "white",
            "ticks": ""
           },
           "bgcolor": "#E5ECF6",
           "radialaxis": {
            "gridcolor": "white",
            "linecolor": "white",
            "ticks": ""
           }
          },
          "scene": {
           "xaxis": {
            "backgroundcolor": "#E5ECF6",
            "gridcolor": "white",
            "gridwidth": 2,
            "linecolor": "white",
            "showbackground": true,
            "ticks": "",
            "zerolinecolor": "white"
           },
           "yaxis": {
            "backgroundcolor": "#E5ECF6",
            "gridcolor": "white",
            "gridwidth": 2,
            "linecolor": "white",
            "showbackground": true,
            "ticks": "",
            "zerolinecolor": "white"
           },
           "zaxis": {
            "backgroundcolor": "#E5ECF6",
            "gridcolor": "white",
            "gridwidth": 2,
            "linecolor": "white",
            "showbackground": true,
            "ticks": "",
            "zerolinecolor": "white"
           }
          },
          "shapedefaults": {
           "line": {
            "color": "#2a3f5f"
           }
          },
          "ternary": {
           "aaxis": {
            "gridcolor": "white",
            "linecolor": "white",
            "ticks": ""
           },
           "baxis": {
            "gridcolor": "white",
            "linecolor": "white",
            "ticks": ""
           },
           "bgcolor": "#E5ECF6",
           "caxis": {
            "gridcolor": "white",
            "linecolor": "white",
            "ticks": ""
           }
          },
          "title": {
           "x": 0.05
          },
          "xaxis": {
           "automargin": true,
           "gridcolor": "white",
           "linecolor": "white",
           "ticks": "",
           "title": {
            "standoff": 15
           },
           "zerolinecolor": "white",
           "zerolinewidth": 2
          },
          "yaxis": {
           "automargin": true,
           "gridcolor": "white",
           "linecolor": "white",
           "ticks": "",
           "title": {
            "standoff": 15
           },
           "zerolinecolor": "white",
           "zerolinewidth": 2
          }
         }
        },
        "updatemenus": [
         {
          "buttons": [
           {
            "args": [
             null,
             {
              "frame": {
               "duration": 500,
               "redraw": false
              },
              "fromcurrent": true,
              "mode": "immediate",
              "transition": {
               "duration": 500,
               "easing": "linear"
              }
             }
            ],
            "label": "&#9654;",
            "method": "animate"
           },
           {
            "args": [
             [
              null
             ],
             {
              "frame": {
               "duration": 0,
               "redraw": false
              },
              "fromcurrent": true,
              "mode": "immediate",
              "transition": {
               "duration": 0,
               "easing": "linear"
              }
             }
            ],
            "label": "&#9724;",
            "method": "animate"
           }
          ],
          "direction": "left",
          "pad": {
           "r": 10,
           "t": 70
          },
          "showactive": false,
          "type": "buttons",
          "x": 0.1,
          "xanchor": "right",
          "y": 0.125,
          "yanchor": "top"
         }
        ],
        "width": 385,
        "xaxis": {
         "anchor": "y",
         "domain": [
          0,
          1
         ],
         "fixedrange": true,
         "range": [
          -27,
          35
         ],
         "showgrid": false,
         "showticklabels": false,
         "ticks": "",
         "title": {},
         "zeroline": false
        },
        "yaxis": {
         "anchor": "x",
         "domain": [
          0,
          1
         ],
         "fixedrange": true,
         "range": [
          -1,
          121
         ],
         "scaleanchor": "x",
         "scaleratio": 1,
         "showgrid": false,
         "showticklabels": false,
         "ticks": "",
         "title": {},
         "zeroline": false
        }
       }
      }
     },
     "metadata": {},
     "output_type": "display_data"
    }
   ],
   "source": [
    "%%time\n",
    "# Visualize a single possession\n",
    "g.visual_possession_map_vertical(possession_number=1)"
   ]
  },
  {
   "cell_type": "code",
   "execution_count": 4,
   "metadata": {},
   "outputs": [
    {
     "data": {
      "text/html": [
       "<div>\n",
       "<style scoped>\n",
       "    .dataframe tbody tr th:only-of-type {\n",
       "        vertical-align: middle;\n",
       "    }\n",
       "\n",
       "    .dataframe tbody tr th {\n",
       "        vertical-align: top;\n",
       "    }\n",
       "\n",
       "    .dataframe thead th {\n",
       "        text-align: right;\n",
       "    }\n",
       "</style>\n",
       "<table border=\"1\" class=\"dataframe\">\n",
       "  <thead>\n",
       "    <tr style=\"text-align: right;\">\n",
       "      <th></th>\n",
       "      <th>player_season_id</th>\n",
       "      <th>team_season_id</th>\n",
       "      <th>id</th>\n",
       "      <th>jersey_number</th>\n",
       "      <th>first_name</th>\n",
       "      <th>last_name</th>\n",
       "      <th>ext_player_id</th>\n",
       "      <th>ls_player_id</th>\n",
       "      <th>active</th>\n",
       "    </tr>\n",
       "  </thead>\n",
       "  <tbody>\n",
       "    <tr>\n",
       "      <th>0</th>\n",
       "      <td>9452</td>\n",
       "      <td>210</td>\n",
       "      <td>2001</td>\n",
       "      <td>8</td>\n",
       "      <td>TJ</td>\n",
       "      <td>Stanton</td>\n",
       "      <td>tstanton</td>\n",
       "      <td>4a113253-fcab-462d-b36d-0cd15f955a7f</td>\n",
       "      <td>False</td>\n",
       "    </tr>\n",
       "    <tr>\n",
       "      <th>1</th>\n",
       "      <td>9451</td>\n",
       "      <td>210</td>\n",
       "      <td>174</td>\n",
       "      <td>4</td>\n",
       "      <td>Ben</td>\n",
       "      <td>Jagt</td>\n",
       "      <td>bjagt</td>\n",
       "      <td>6d4fbe3d-da8a-4390-b082-5b299b367c49</td>\n",
       "      <td>False</td>\n",
       "    </tr>\n",
       "    <tr>\n",
       "      <th>2</th>\n",
       "      <td>9450</td>\n",
       "      <td>210</td>\n",
       "      <td>2093</td>\n",
       "      <td>3</td>\n",
       "      <td>Elliott</td>\n",
       "      <td>Chartock</td>\n",
       "      <td>echartock</td>\n",
       "      <td>cb680971-9250-4928-8f16-297f7ea06352</td>\n",
       "      <td>False</td>\n",
       "    </tr>\n",
       "    <tr>\n",
       "      <th>3</th>\n",
       "      <td>9449</td>\n",
       "      <td>210</td>\n",
       "      <td>1545</td>\n",
       "      <td>1</td>\n",
       "      <td>Ryan</td>\n",
       "      <td>Saffa</td>\n",
       "      <td>rsaffa</td>\n",
       "      <td>559bfb06-bffe-4a47-bee7-446dd89b4081</td>\n",
       "      <td>False</td>\n",
       "    </tr>\n",
       "    <tr>\n",
       "      <th>4</th>\n",
       "      <td>9448</td>\n",
       "      <td>210</td>\n",
       "      <td>1543</td>\n",
       "      <td>2</td>\n",
       "      <td>Ryan</td>\n",
       "      <td>Osgar</td>\n",
       "      <td>rosgar</td>\n",
       "      <td>eee9ed39-be6b-4697-808e-7383082a46d3</td>\n",
       "      <td>False</td>\n",
       "    </tr>\n",
       "    <tr>\n",
       "      <th>5</th>\n",
       "      <td>9453</td>\n",
       "      <td>210</td>\n",
       "      <td>2637</td>\n",
       "      <td>9</td>\n",
       "      <td>Solomon</td>\n",
       "      <td>Rueschemeyer-Bailey</td>\n",
       "      <td>srueschem</td>\n",
       "      <td>be6f0e2b-e914-4af4-857f-f4b707d3e9bd</td>\n",
       "      <td>False</td>\n",
       "    </tr>\n",
       "    <tr>\n",
       "      <th>6</th>\n",
       "      <td>9460</td>\n",
       "      <td>210</td>\n",
       "      <td>2638</td>\n",
       "      <td>22</td>\n",
       "      <td>Angelo</td>\n",
       "      <td>Olcese</td>\n",
       "      <td>aolcese</td>\n",
       "      <td>5e163bd4-0a35-4d69-ae16-9d08f55053b9</td>\n",
       "      <td>False</td>\n",
       "    </tr>\n",
       "    <tr>\n",
       "      <th>7</th>\n",
       "      <td>9466</td>\n",
       "      <td>210</td>\n",
       "      <td>2639</td>\n",
       "      <td>54</td>\n",
       "      <td>John</td>\n",
       "      <td>Lithio</td>\n",
       "      <td>jlithio</td>\n",
       "      <td>6b1d93f6-d9a7-4f88-a672-647f0d152c40</td>\n",
       "      <td>False</td>\n",
       "    </tr>\n",
       "    <tr>\n",
       "      <th>8</th>\n",
       "      <td>9457</td>\n",
       "      <td>210</td>\n",
       "      <td>874</td>\n",
       "      <td>14</td>\n",
       "      <td>Joe</td>\n",
       "      <td>Ouellette</td>\n",
       "      <td>jouellett</td>\n",
       "      <td>e08cd129-3c1c-45e1-9383-38a8e0bc1316</td>\n",
       "      <td>False</td>\n",
       "    </tr>\n",
       "    <tr>\n",
       "      <th>9</th>\n",
       "      <td>9456</td>\n",
       "      <td>210</td>\n",
       "      <td>1207</td>\n",
       "      <td>12</td>\n",
       "      <td>Matt</td>\n",
       "      <td>LeMar</td>\n",
       "      <td>mlemar</td>\n",
       "      <td>706838fb-5980-4b4b-a1e1-055f6c706b5e</td>\n",
       "      <td>False</td>\n",
       "    </tr>\n",
       "    <tr>\n",
       "      <th>10</th>\n",
       "      <td>9455</td>\n",
       "      <td>210</td>\n",
       "      <td>747</td>\n",
       "      <td>11</td>\n",
       "      <td>Jack</td>\n",
       "      <td>Williams</td>\n",
       "      <td>jwilliams</td>\n",
       "      <td>45c77a7d-2649-4ee3-b083-b50c86a17fa6</td>\n",
       "      <td>False</td>\n",
       "    </tr>\n",
       "    <tr>\n",
       "      <th>11</th>\n",
       "      <td>9454</td>\n",
       "      <td>210</td>\n",
       "      <td>408</td>\n",
       "      <td>10</td>\n",
       "      <td>Conor</td>\n",
       "      <td>Kline</td>\n",
       "      <td>ckline</td>\n",
       "      <td>98199daa-9d7f-498d-b5fa-2d14359d2144</td>\n",
       "      <td>False</td>\n",
       "    </tr>\n",
       "    <tr>\n",
       "      <th>12</th>\n",
       "      <td>9458</td>\n",
       "      <td>210</td>\n",
       "      <td>1314</td>\n",
       "      <td>16</td>\n",
       "      <td>Mike</td>\n",
       "      <td>Drost</td>\n",
       "      <td>mdrost</td>\n",
       "      <td>8126f63f-426f-4d82-9d5e-642cd2f00182</td>\n",
       "      <td>False</td>\n",
       "    </tr>\n",
       "    <tr>\n",
       "      <th>13</th>\n",
       "      <td>9459</td>\n",
       "      <td>210</td>\n",
       "      <td>1221</td>\n",
       "      <td>17</td>\n",
       "      <td>Matt</td>\n",
       "      <td>Stevens</td>\n",
       "      <td>mstevens</td>\n",
       "      <td>996e07f3-7554-47ea-84a0-626013562283</td>\n",
       "      <td>False</td>\n",
       "    </tr>\n",
       "    <tr>\n",
       "      <th>14</th>\n",
       "      <td>9461</td>\n",
       "      <td>210</td>\n",
       "      <td>1536</td>\n",
       "      <td>23</td>\n",
       "      <td>Ryan</td>\n",
       "      <td>Holmes</td>\n",
       "      <td>rholmes</td>\n",
       "      <td>e5f604b7-9413-414f-8298-8310a5d55944</td>\n",
       "      <td>False</td>\n",
       "    </tr>\n",
       "    <tr>\n",
       "      <th>15</th>\n",
       "      <td>9462</td>\n",
       "      <td>210</td>\n",
       "      <td>2000</td>\n",
       "      <td>27</td>\n",
       "      <td>Noriaki</td>\n",
       "      <td>To</td>\n",
       "      <td>nto</td>\n",
       "      <td>e825e69d-b480-460a-bd53-c1ae6f6e9908</td>\n",
       "      <td>False</td>\n",
       "    </tr>\n",
       "    <tr>\n",
       "      <th>16</th>\n",
       "      <td>9463</td>\n",
       "      <td>210</td>\n",
       "      <td>178</td>\n",
       "      <td>28</td>\n",
       "      <td>Ben</td>\n",
       "      <td>Katz</td>\n",
       "      <td>bkatz1</td>\n",
       "      <td>9ec7f459-2779-4d7d-9bbd-b6f63e04311a</td>\n",
       "      <td>False</td>\n",
       "    </tr>\n",
       "    <tr>\n",
       "      <th>17</th>\n",
       "      <td>9464</td>\n",
       "      <td>210</td>\n",
       "      <td>2293</td>\n",
       "      <td>31</td>\n",
       "      <td>Sam</td>\n",
       "      <td>Feder</td>\n",
       "      <td>sfeder</td>\n",
       "      <td>00b11126-986f-40c1-9579-25bb414fd4b1</td>\n",
       "      <td>False</td>\n",
       "    </tr>\n",
       "    <tr>\n",
       "      <th>18</th>\n",
       "      <td>9465</td>\n",
       "      <td>210</td>\n",
       "      <td>2075</td>\n",
       "      <td>48</td>\n",
       "      <td>Ryan</td>\n",
       "      <td>Weaver</td>\n",
       "      <td>rweaver</td>\n",
       "      <td>dd58e38c-7a10-4d6c-a32a-8ac7c672e658</td>\n",
       "      <td>False</td>\n",
       "    </tr>\n",
       "    <tr>\n",
       "      <th>19</th>\n",
       "      <td>9467</td>\n",
       "      <td>210</td>\n",
       "      <td>1227</td>\n",
       "      <td>61</td>\n",
       "      <td>Matt</td>\n",
       "      <td>Weintraub</td>\n",
       "      <td>mweintrau</td>\n",
       "      <td>6cde0226-8ac0-4bb1-ba95-e1b9f608f952</td>\n",
       "      <td>False</td>\n",
       "    </tr>\n",
       "    <tr>\n",
       "      <th>20</th>\n",
       "      <td>9468</td>\n",
       "      <td>210</td>\n",
       "      <td>182</td>\n",
       "      <td>68</td>\n",
       "      <td>Ben</td>\n",
       "      <td>Nelson</td>\n",
       "      <td>bnelson</td>\n",
       "      <td>34892608-b544-4137-a519-08e72b38cc6d</td>\n",
       "      <td>False</td>\n",
       "    </tr>\n",
       "    <tr>\n",
       "      <th>21</th>\n",
       "      <td>9469</td>\n",
       "      <td>210</td>\n",
       "      <td>1531</td>\n",
       "      <td>80</td>\n",
       "      <td>Ryan</td>\n",
       "      <td>Drost</td>\n",
       "      <td>rdrost</td>\n",
       "      <td>d8d878f6-64df-42fe-ba27-a249741f0a73</td>\n",
       "      <td>False</td>\n",
       "    </tr>\n",
       "    <tr>\n",
       "      <th>22</th>\n",
       "      <td>9470</td>\n",
       "      <td>210</td>\n",
       "      <td>1180</td>\n",
       "      <td>82</td>\n",
       "      <td>Marques</td>\n",
       "      <td>Brownlee</td>\n",
       "      <td>mbrownlee</td>\n",
       "      <td>b7555739-2e4d-4c99-973b-0f65947230db</td>\n",
       "      <td>False</td>\n",
       "    </tr>\n",
       "    <tr>\n",
       "      <th>23</th>\n",
       "      <td>9471</td>\n",
       "      <td>210</td>\n",
       "      <td>823</td>\n",
       "      <td>87</td>\n",
       "      <td>Jeff</td>\n",
       "      <td>Babbitt</td>\n",
       "      <td>jbabbitt</td>\n",
       "      <td>f8530fac-d3cd-49c3-868f-2431dca4b0ae</td>\n",
       "      <td>False</td>\n",
       "    </tr>\n",
       "    <tr>\n",
       "      <th>24</th>\n",
       "      <td>9550</td>\n",
       "      <td>210</td>\n",
       "      <td>963</td>\n",
       "      <td>30</td>\n",
       "      <td>Josue</td>\n",
       "      <td>Alorro</td>\n",
       "      <td>jalorro</td>\n",
       "      <td>8201f46c-1b8a-42cb-ae95-e44084ba6e0d</td>\n",
       "      <td>False</td>\n",
       "    </tr>\n",
       "    <tr>\n",
       "      <th>25</th>\n",
       "      <td>9617</td>\n",
       "      <td>210</td>\n",
       "      <td>2715</td>\n",
       "      <td>5</td>\n",
       "      <td>Kainoa</td>\n",
       "      <td>Chun Moy</td>\n",
       "      <td>kchunmoy</td>\n",
       "      <td>0e319331-e659-415a-bf1e-f78d9eff666c</td>\n",
       "      <td>False</td>\n",
       "    </tr>\n",
       "    <tr>\n",
       "      <th>26</th>\n",
       "      <td>9618</td>\n",
       "      <td>210</td>\n",
       "      <td>2716</td>\n",
       "      <td>44</td>\n",
       "      <td>Oliver</td>\n",
       "      <td>Feder</td>\n",
       "      <td>ofeder</td>\n",
       "      <td>da15e4ec-0962-430b-a2ac-966e8bcda265</td>\n",
       "      <td>False</td>\n",
       "    </tr>\n",
       "    <tr>\n",
       "      <th>27</th>\n",
       "      <td>9619</td>\n",
       "      <td>210</td>\n",
       "      <td>2295</td>\n",
       "      <td>98</td>\n",
       "      <td>Kyle</td>\n",
       "      <td>Dew</td>\n",
       "      <td>kdew</td>\n",
       "      <td>b4b020d2-48bf-42fd-a1a2-e9aad4793709</td>\n",
       "      <td>False</td>\n",
       "    </tr>\n",
       "    <tr>\n",
       "      <th>28</th>\n",
       "      <td>9620</td>\n",
       "      <td>210</td>\n",
       "      <td>2717</td>\n",
       "      <td>39</td>\n",
       "      <td>Brooks</td>\n",
       "      <td>Wallace</td>\n",
       "      <td>bwallace</td>\n",
       "      <td>f8914cb0-0fd4-4679-97cb-c2de49ecb801</td>\n",
       "      <td>False</td>\n",
       "    </tr>\n",
       "    <tr>\n",
       "      <th>29</th>\n",
       "      <td>9611</td>\n",
       "      <td>210</td>\n",
       "      <td>2710</td>\n",
       "      <td>20</td>\n",
       "      <td>Matt</td>\n",
       "      <td>LaBar</td>\n",
       "      <td>mlabar</td>\n",
       "      <td>48faa529-8869-41ed-8fcd-67bef981b8b0</td>\n",
       "      <td>False</td>\n",
       "    </tr>\n",
       "    <tr>\n",
       "      <th>30</th>\n",
       "      <td>9621</td>\n",
       "      <td>210</td>\n",
       "      <td>2718</td>\n",
       "      <td>34</td>\n",
       "      <td>Elias</td>\n",
       "      <td>Griffin</td>\n",
       "      <td>egriffin</td>\n",
       "      <td>c89f9002-863c-408f-b15f-323471208720</td>\n",
       "      <td>False</td>\n",
       "    </tr>\n",
       "    <tr>\n",
       "      <th>31</th>\n",
       "      <td>9661</td>\n",
       "      <td>210</td>\n",
       "      <td>1343</td>\n",
       "      <td>32</td>\n",
       "      <td>Nasser</td>\n",
       "      <td>M'Bae Vogel</td>\n",
       "      <td>nmbaevoge</td>\n",
       "      <td>fa4d5f34-14b6-415a-a097-7038e7e1b745</td>\n",
       "      <td>False</td>\n",
       "    </tr>\n",
       "  </tbody>\n",
       "</table>\n",
       "</div>"
      ],
      "text/plain": [
       "    player_season_id  team_season_id    id jersey_number first_name  \\\n",
       "0               9452             210  2001             8         TJ   \n",
       "1               9451             210   174             4        Ben   \n",
       "2               9450             210  2093             3    Elliott   \n",
       "3               9449             210  1545             1       Ryan   \n",
       "4               9448             210  1543             2       Ryan   \n",
       "5               9453             210  2637             9    Solomon   \n",
       "6               9460             210  2638            22     Angelo   \n",
       "7               9466             210  2639            54       John   \n",
       "8               9457             210   874            14        Joe   \n",
       "9               9456             210  1207            12       Matt   \n",
       "10              9455             210   747            11       Jack   \n",
       "11              9454             210   408            10      Conor   \n",
       "12              9458             210  1314            16       Mike   \n",
       "13              9459             210  1221            17       Matt   \n",
       "14              9461             210  1536            23       Ryan   \n",
       "15              9462             210  2000            27    Noriaki   \n",
       "16              9463             210   178            28        Ben   \n",
       "17              9464             210  2293            31        Sam   \n",
       "18              9465             210  2075            48       Ryan   \n",
       "19              9467             210  1227            61       Matt   \n",
       "20              9468             210   182            68        Ben   \n",
       "21              9469             210  1531            80       Ryan   \n",
       "22              9470             210  1180            82    Marques   \n",
       "23              9471             210   823            87       Jeff   \n",
       "24              9550             210   963            30      Josue   \n",
       "25              9617             210  2715             5     Kainoa   \n",
       "26              9618             210  2716            44     Oliver   \n",
       "27              9619             210  2295            98       Kyle   \n",
       "28              9620             210  2717            39     Brooks   \n",
       "29              9611             210  2710            20       Matt   \n",
       "30              9621             210  2718            34      Elias   \n",
       "31              9661             210  1343            32     Nasser   \n",
       "\n",
       "              last_name ext_player_id                          ls_player_id  \\\n",
       "0               Stanton      tstanton  4a113253-fcab-462d-b36d-0cd15f955a7f   \n",
       "1                  Jagt         bjagt  6d4fbe3d-da8a-4390-b082-5b299b367c49   \n",
       "2              Chartock     echartock  cb680971-9250-4928-8f16-297f7ea06352   \n",
       "3                 Saffa        rsaffa  559bfb06-bffe-4a47-bee7-446dd89b4081   \n",
       "4                 Osgar        rosgar  eee9ed39-be6b-4697-808e-7383082a46d3   \n",
       "5   Rueschemeyer-Bailey     srueschem  be6f0e2b-e914-4af4-857f-f4b707d3e9bd   \n",
       "6                Olcese       aolcese  5e163bd4-0a35-4d69-ae16-9d08f55053b9   \n",
       "7                Lithio       jlithio  6b1d93f6-d9a7-4f88-a672-647f0d152c40   \n",
       "8             Ouellette     jouellett  e08cd129-3c1c-45e1-9383-38a8e0bc1316   \n",
       "9                 LeMar        mlemar  706838fb-5980-4b4b-a1e1-055f6c706b5e   \n",
       "10             Williams     jwilliams  45c77a7d-2649-4ee3-b083-b50c86a17fa6   \n",
       "11                Kline        ckline  98199daa-9d7f-498d-b5fa-2d14359d2144   \n",
       "12                Drost        mdrost  8126f63f-426f-4d82-9d5e-642cd2f00182   \n",
       "13              Stevens      mstevens  996e07f3-7554-47ea-84a0-626013562283   \n",
       "14               Holmes       rholmes  e5f604b7-9413-414f-8298-8310a5d55944   \n",
       "15                   To           nto  e825e69d-b480-460a-bd53-c1ae6f6e9908   \n",
       "16                 Katz        bkatz1  9ec7f459-2779-4d7d-9bbd-b6f63e04311a   \n",
       "17                Feder        sfeder  00b11126-986f-40c1-9579-25bb414fd4b1   \n",
       "18               Weaver       rweaver  dd58e38c-7a10-4d6c-a32a-8ac7c672e658   \n",
       "19            Weintraub     mweintrau  6cde0226-8ac0-4bb1-ba95-e1b9f608f952   \n",
       "20               Nelson       bnelson  34892608-b544-4137-a519-08e72b38cc6d   \n",
       "21                Drost        rdrost  d8d878f6-64df-42fe-ba27-a249741f0a73   \n",
       "22             Brownlee     mbrownlee  b7555739-2e4d-4c99-973b-0f65947230db   \n",
       "23              Babbitt      jbabbitt  f8530fac-d3cd-49c3-868f-2431dca4b0ae   \n",
       "24               Alorro       jalorro  8201f46c-1b8a-42cb-ae95-e44084ba6e0d   \n",
       "25             Chun Moy      kchunmoy  0e319331-e659-415a-bf1e-f78d9eff666c   \n",
       "26                Feder        ofeder  da15e4ec-0962-430b-a2ac-966e8bcda265   \n",
       "27                  Dew          kdew  b4b020d2-48bf-42fd-a1a2-e9aad4793709   \n",
       "28              Wallace      bwallace  f8914cb0-0fd4-4679-97cb-c2de49ecb801   \n",
       "29                LaBar        mlabar  48faa529-8869-41ed-8fcd-67bef981b8b0   \n",
       "30              Griffin      egriffin  c89f9002-863c-408f-b15f-323471208720   \n",
       "31          M'Bae Vogel     nmbaevoge  fa4d5f34-14b6-415a-a097-7038e7e1b745   \n",
       "\n",
       "    active  \n",
       "0    False  \n",
       "1    False  \n",
       "2    False  \n",
       "3    False  \n",
       "4    False  \n",
       "5    False  \n",
       "6    False  \n",
       "7    False  \n",
       "8    False  \n",
       "9    False  \n",
       "10   False  \n",
       "11   False  \n",
       "12   False  \n",
       "13   False  \n",
       "14   False  \n",
       "15   False  \n",
       "16   False  \n",
       "17   False  \n",
       "18   False  \n",
       "19   False  \n",
       "20   False  \n",
       "21   False  \n",
       "22   False  \n",
       "23   False  \n",
       "24   False  \n",
       "25   False  \n",
       "26   False  \n",
       "27   False  \n",
       "28   False  \n",
       "29   False  \n",
       "30   False  \n",
       "31   False  "
      ]
     },
     "execution_count": 4,
     "metadata": {},
     "output_type": "execute_result"
    }
   ],
   "source": [
    "import pandas as pd\n",
    "home = True\n",
    "if home:\n",
    "    roster_str = \"Home\"\n",
    "else:\n",
    "    roster_str = \"Away\"\n",
    "\n",
    "# Get list of dicts of roster\n",
    "roster_raw = g.get_response()[f\"rosters{roster_str}\"]\n",
    "\n",
    "# Convert to dataframe and un-nest dicts\n",
    "roster = (\n",
    "    pd.DataFrame.from_records(roster_raw)\n",
    "    .merge(\n",
    "        pd.DataFrame.from_records([x[\"player\"] for x in roster_raw]),\n",
    "        how=\"left\",\n",
    "        left_on=[\"player_id\"],\n",
    "        right_on=[\"id\"],\n",
    "        suffixes=[\"\", \"_y\"],\n",
    "    )\n",
    "    .drop(columns=[\"id_y\", \"player\", \"active\"])\n",
    "    .drop_duplicates()\n",
    "    .rename(columns={\"id\": \"player_season_id\", \"player_id\": \"id\"})\n",
    ")\n",
    "\n",
    "# Get active players\n",
    "active_raw = g.response[f\"tsg{roster_str}\"][\"rosterIds\"]\n",
    "active = pd.DataFrame(data=[[x] for x in active_raw], columns=[\"id\"])\n",
    "active[\"active\"] = True\n",
    "\n",
    "# Add column for whether players were active for this game\n",
    "roster = roster.merge(active, how=\"left\", on=[\"id\"]).assign(\n",
    "    active=lambda x: x[\"active\"].fillna(False)\n",
    ")\n",
    "roster"
   ]
  },
  {
   "cell_type": "code",
   "execution_count": 7,
   "metadata": {},
   "outputs": [
    {
     "data": {
      "text/plain": [
       "{2001: 'TJ Stanton',\n",
       " 174: 'Ben Jagt',\n",
       " 2093: 'Elliott Chartock',\n",
       " 1545: 'Ryan Saffa',\n",
       " 1543: 'Ryan Osgar',\n",
       " 2637: 'Solomon Rueschemeyer-Bailey',\n",
       " 2638: 'Angelo Olcese',\n",
       " 2639: 'John Lithio',\n",
       " 874: 'Joe Ouellette',\n",
       " 1207: 'Matt LeMar',\n",
       " 747: 'Jack Williams',\n",
       " 408: 'Conor Kline',\n",
       " 1314: 'Mike Drost',\n",
       " 1221: 'Matt Stevens',\n",
       " 1536: 'Ryan Holmes',\n",
       " 2000: 'Noriaki To',\n",
       " 178: 'Ben Katz',\n",
       " 2293: 'Sam Feder',\n",
       " 2075: 'Ryan Weaver',\n",
       " 1227: 'Matt Weintraub',\n",
       " 182: 'Ben Nelson',\n",
       " 1531: 'Ryan Drost',\n",
       " 1180: 'Marques Brownlee',\n",
       " 823: 'Jeff Babbitt',\n",
       " 963: 'Josue Alorro',\n",
       " 2715: 'Kainoa Chun Moy',\n",
       " 2716: 'Oliver Feder',\n",
       " 2295: 'Kyle Dew',\n",
       " 2717: 'Brooks Wallace',\n",
       " 2710: 'Matt LaBar',\n",
       " 2718: 'Elias Griffin',\n",
       " 1343: \"Nasser M'Bae Vogel\"}"
      ]
     },
     "execution_count": 7,
     "metadata": {},
     "output_type": "execute_result"
    }
   ],
   "source": [
    "player_names = (\n",
    "    roster.assign(\n",
    "        name=lambda x: x[\"first_name\"].str.strip()\n",
    "        + \" \"\n",
    "        + x[\"last_name\"].str.strip()\n",
    "    )[[\"player_season_id\", \"id\", \"name\"]]\n",
    "    .set_index(\"id\")\n",
    "    .to_dict()[\"name\"]\n",
    ")\n",
    "player_names"
   ]
  },
  {
   "cell_type": "code",
   "execution_count": 8,
   "metadata": {},
   "outputs": [
    {
     "data": {
      "text/html": [
       "<div>\n",
       "<style scoped>\n",
       "    .dataframe tbody tr th:only-of-type {\n",
       "        vertical-align: middle;\n",
       "    }\n",
       "\n",
       "    .dataframe tbody tr th {\n",
       "        vertical-align: top;\n",
       "    }\n",
       "\n",
       "    .dataframe thead th {\n",
       "        text-align: right;\n",
       "    }\n",
       "</style>\n",
       "<table border=\"1\" class=\"dataframe\">\n",
       "  <thead>\n",
       "    <tr style=\"text-align: right;\">\n",
       "      <th></th>\n",
       "      <th>player_season_id</th>\n",
       "      <th>team_season_id</th>\n",
       "      <th>id</th>\n",
       "      <th>jersey_number</th>\n",
       "      <th>first_name</th>\n",
       "      <th>last_name</th>\n",
       "      <th>ext_player_id</th>\n",
       "      <th>ls_player_id</th>\n",
       "      <th>active</th>\n",
       "    </tr>\n",
       "  </thead>\n",
       "  <tbody>\n",
       "    <tr>\n",
       "      <th>0</th>\n",
       "      <td>9452</td>\n",
       "      <td>210</td>\n",
       "      <td>2001</td>\n",
       "      <td>8</td>\n",
       "      <td>TJ</td>\n",
       "      <td>Stanton</td>\n",
       "      <td>tstanton</td>\n",
       "      <td>4a113253-fcab-462d-b36d-0cd15f955a7f</td>\n",
       "      <td>False</td>\n",
       "    </tr>\n",
       "    <tr>\n",
       "      <th>1</th>\n",
       "      <td>9451</td>\n",
       "      <td>210</td>\n",
       "      <td>174</td>\n",
       "      <td>4</td>\n",
       "      <td>Ben</td>\n",
       "      <td>Jagt</td>\n",
       "      <td>bjagt</td>\n",
       "      <td>6d4fbe3d-da8a-4390-b082-5b299b367c49</td>\n",
       "      <td>False</td>\n",
       "    </tr>\n",
       "    <tr>\n",
       "      <th>2</th>\n",
       "      <td>9450</td>\n",
       "      <td>210</td>\n",
       "      <td>2093</td>\n",
       "      <td>3</td>\n",
       "      <td>Elliott</td>\n",
       "      <td>Chartock</td>\n",
       "      <td>echartock</td>\n",
       "      <td>cb680971-9250-4928-8f16-297f7ea06352</td>\n",
       "      <td>False</td>\n",
       "    </tr>\n",
       "    <tr>\n",
       "      <th>3</th>\n",
       "      <td>9449</td>\n",
       "      <td>210</td>\n",
       "      <td>1545</td>\n",
       "      <td>1</td>\n",
       "      <td>Ryan</td>\n",
       "      <td>Saffa</td>\n",
       "      <td>rsaffa</td>\n",
       "      <td>559bfb06-bffe-4a47-bee7-446dd89b4081</td>\n",
       "      <td>False</td>\n",
       "    </tr>\n",
       "    <tr>\n",
       "      <th>4</th>\n",
       "      <td>9448</td>\n",
       "      <td>210</td>\n",
       "      <td>1543</td>\n",
       "      <td>2</td>\n",
       "      <td>Ryan</td>\n",
       "      <td>Osgar</td>\n",
       "      <td>rosgar</td>\n",
       "      <td>eee9ed39-be6b-4697-808e-7383082a46d3</td>\n",
       "      <td>False</td>\n",
       "    </tr>\n",
       "    <tr>\n",
       "      <th>5</th>\n",
       "      <td>9453</td>\n",
       "      <td>210</td>\n",
       "      <td>2637</td>\n",
       "      <td>9</td>\n",
       "      <td>Solomon</td>\n",
       "      <td>Rueschemeyer-Bailey</td>\n",
       "      <td>srueschem</td>\n",
       "      <td>be6f0e2b-e914-4af4-857f-f4b707d3e9bd</td>\n",
       "      <td>False</td>\n",
       "    </tr>\n",
       "    <tr>\n",
       "      <th>6</th>\n",
       "      <td>9460</td>\n",
       "      <td>210</td>\n",
       "      <td>2638</td>\n",
       "      <td>22</td>\n",
       "      <td>Angelo</td>\n",
       "      <td>Olcese</td>\n",
       "      <td>aolcese</td>\n",
       "      <td>5e163bd4-0a35-4d69-ae16-9d08f55053b9</td>\n",
       "      <td>False</td>\n",
       "    </tr>\n",
       "    <tr>\n",
       "      <th>7</th>\n",
       "      <td>9466</td>\n",
       "      <td>210</td>\n",
       "      <td>2639</td>\n",
       "      <td>54</td>\n",
       "      <td>John</td>\n",
       "      <td>Lithio</td>\n",
       "      <td>jlithio</td>\n",
       "      <td>6b1d93f6-d9a7-4f88-a672-647f0d152c40</td>\n",
       "      <td>False</td>\n",
       "    </tr>\n",
       "    <tr>\n",
       "      <th>8</th>\n",
       "      <td>9457</td>\n",
       "      <td>210</td>\n",
       "      <td>874</td>\n",
       "      <td>14</td>\n",
       "      <td>Joe</td>\n",
       "      <td>Ouellette</td>\n",
       "      <td>jouellett</td>\n",
       "      <td>e08cd129-3c1c-45e1-9383-38a8e0bc1316</td>\n",
       "      <td>False</td>\n",
       "    </tr>\n",
       "    <tr>\n",
       "      <th>9</th>\n",
       "      <td>9456</td>\n",
       "      <td>210</td>\n",
       "      <td>1207</td>\n",
       "      <td>12</td>\n",
       "      <td>Matt</td>\n",
       "      <td>LeMar</td>\n",
       "      <td>mlemar</td>\n",
       "      <td>706838fb-5980-4b4b-a1e1-055f6c706b5e</td>\n",
       "      <td>False</td>\n",
       "    </tr>\n",
       "    <tr>\n",
       "      <th>10</th>\n",
       "      <td>9455</td>\n",
       "      <td>210</td>\n",
       "      <td>747</td>\n",
       "      <td>11</td>\n",
       "      <td>Jack</td>\n",
       "      <td>Williams</td>\n",
       "      <td>jwilliams</td>\n",
       "      <td>45c77a7d-2649-4ee3-b083-b50c86a17fa6</td>\n",
       "      <td>False</td>\n",
       "    </tr>\n",
       "    <tr>\n",
       "      <th>11</th>\n",
       "      <td>9454</td>\n",
       "      <td>210</td>\n",
       "      <td>408</td>\n",
       "      <td>10</td>\n",
       "      <td>Conor</td>\n",
       "      <td>Kline</td>\n",
       "      <td>ckline</td>\n",
       "      <td>98199daa-9d7f-498d-b5fa-2d14359d2144</td>\n",
       "      <td>False</td>\n",
       "    </tr>\n",
       "    <tr>\n",
       "      <th>12</th>\n",
       "      <td>9458</td>\n",
       "      <td>210</td>\n",
       "      <td>1314</td>\n",
       "      <td>16</td>\n",
       "      <td>Mike</td>\n",
       "      <td>Drost</td>\n",
       "      <td>mdrost</td>\n",
       "      <td>8126f63f-426f-4d82-9d5e-642cd2f00182</td>\n",
       "      <td>False</td>\n",
       "    </tr>\n",
       "    <tr>\n",
       "      <th>13</th>\n",
       "      <td>9459</td>\n",
       "      <td>210</td>\n",
       "      <td>1221</td>\n",
       "      <td>17</td>\n",
       "      <td>Matt</td>\n",
       "      <td>Stevens</td>\n",
       "      <td>mstevens</td>\n",
       "      <td>996e07f3-7554-47ea-84a0-626013562283</td>\n",
       "      <td>False</td>\n",
       "    </tr>\n",
       "    <tr>\n",
       "      <th>14</th>\n",
       "      <td>9461</td>\n",
       "      <td>210</td>\n",
       "      <td>1536</td>\n",
       "      <td>23</td>\n",
       "      <td>Ryan</td>\n",
       "      <td>Holmes</td>\n",
       "      <td>rholmes</td>\n",
       "      <td>e5f604b7-9413-414f-8298-8310a5d55944</td>\n",
       "      <td>False</td>\n",
       "    </tr>\n",
       "    <tr>\n",
       "      <th>15</th>\n",
       "      <td>9462</td>\n",
       "      <td>210</td>\n",
       "      <td>2000</td>\n",
       "      <td>27</td>\n",
       "      <td>Noriaki</td>\n",
       "      <td>To</td>\n",
       "      <td>nto</td>\n",
       "      <td>e825e69d-b480-460a-bd53-c1ae6f6e9908</td>\n",
       "      <td>False</td>\n",
       "    </tr>\n",
       "    <tr>\n",
       "      <th>16</th>\n",
       "      <td>9463</td>\n",
       "      <td>210</td>\n",
       "      <td>178</td>\n",
       "      <td>28</td>\n",
       "      <td>Ben</td>\n",
       "      <td>Katz</td>\n",
       "      <td>bkatz1</td>\n",
       "      <td>9ec7f459-2779-4d7d-9bbd-b6f63e04311a</td>\n",
       "      <td>False</td>\n",
       "    </tr>\n",
       "    <tr>\n",
       "      <th>17</th>\n",
       "      <td>9464</td>\n",
       "      <td>210</td>\n",
       "      <td>2293</td>\n",
       "      <td>31</td>\n",
       "      <td>Sam</td>\n",
       "      <td>Feder</td>\n",
       "      <td>sfeder</td>\n",
       "      <td>00b11126-986f-40c1-9579-25bb414fd4b1</td>\n",
       "      <td>False</td>\n",
       "    </tr>\n",
       "    <tr>\n",
       "      <th>18</th>\n",
       "      <td>9465</td>\n",
       "      <td>210</td>\n",
       "      <td>2075</td>\n",
       "      <td>48</td>\n",
       "      <td>Ryan</td>\n",
       "      <td>Weaver</td>\n",
       "      <td>rweaver</td>\n",
       "      <td>dd58e38c-7a10-4d6c-a32a-8ac7c672e658</td>\n",
       "      <td>False</td>\n",
       "    </tr>\n",
       "    <tr>\n",
       "      <th>19</th>\n",
       "      <td>9467</td>\n",
       "      <td>210</td>\n",
       "      <td>1227</td>\n",
       "      <td>61</td>\n",
       "      <td>Matt</td>\n",
       "      <td>Weintraub</td>\n",
       "      <td>mweintrau</td>\n",
       "      <td>6cde0226-8ac0-4bb1-ba95-e1b9f608f952</td>\n",
       "      <td>False</td>\n",
       "    </tr>\n",
       "    <tr>\n",
       "      <th>20</th>\n",
       "      <td>9468</td>\n",
       "      <td>210</td>\n",
       "      <td>182</td>\n",
       "      <td>68</td>\n",
       "      <td>Ben</td>\n",
       "      <td>Nelson</td>\n",
       "      <td>bnelson</td>\n",
       "      <td>34892608-b544-4137-a519-08e72b38cc6d</td>\n",
       "      <td>False</td>\n",
       "    </tr>\n",
       "    <tr>\n",
       "      <th>21</th>\n",
       "      <td>9469</td>\n",
       "      <td>210</td>\n",
       "      <td>1531</td>\n",
       "      <td>80</td>\n",
       "      <td>Ryan</td>\n",
       "      <td>Drost</td>\n",
       "      <td>rdrost</td>\n",
       "      <td>d8d878f6-64df-42fe-ba27-a249741f0a73</td>\n",
       "      <td>False</td>\n",
       "    </tr>\n",
       "    <tr>\n",
       "      <th>22</th>\n",
       "      <td>9470</td>\n",
       "      <td>210</td>\n",
       "      <td>1180</td>\n",
       "      <td>82</td>\n",
       "      <td>Marques</td>\n",
       "      <td>Brownlee</td>\n",
       "      <td>mbrownlee</td>\n",
       "      <td>b7555739-2e4d-4c99-973b-0f65947230db</td>\n",
       "      <td>False</td>\n",
       "    </tr>\n",
       "    <tr>\n",
       "      <th>23</th>\n",
       "      <td>9471</td>\n",
       "      <td>210</td>\n",
       "      <td>823</td>\n",
       "      <td>87</td>\n",
       "      <td>Jeff</td>\n",
       "      <td>Babbitt</td>\n",
       "      <td>jbabbitt</td>\n",
       "      <td>f8530fac-d3cd-49c3-868f-2431dca4b0ae</td>\n",
       "      <td>False</td>\n",
       "    </tr>\n",
       "    <tr>\n",
       "      <th>24</th>\n",
       "      <td>9550</td>\n",
       "      <td>210</td>\n",
       "      <td>963</td>\n",
       "      <td>30</td>\n",
       "      <td>Josue</td>\n",
       "      <td>Alorro</td>\n",
       "      <td>jalorro</td>\n",
       "      <td>8201f46c-1b8a-42cb-ae95-e44084ba6e0d</td>\n",
       "      <td>False</td>\n",
       "    </tr>\n",
       "    <tr>\n",
       "      <th>25</th>\n",
       "      <td>9617</td>\n",
       "      <td>210</td>\n",
       "      <td>2715</td>\n",
       "      <td>5</td>\n",
       "      <td>Kainoa</td>\n",
       "      <td>Chun Moy</td>\n",
       "      <td>kchunmoy</td>\n",
       "      <td>0e319331-e659-415a-bf1e-f78d9eff666c</td>\n",
       "      <td>False</td>\n",
       "    </tr>\n",
       "    <tr>\n",
       "      <th>26</th>\n",
       "      <td>9618</td>\n",
       "      <td>210</td>\n",
       "      <td>2716</td>\n",
       "      <td>44</td>\n",
       "      <td>Oliver</td>\n",
       "      <td>Feder</td>\n",
       "      <td>ofeder</td>\n",
       "      <td>da15e4ec-0962-430b-a2ac-966e8bcda265</td>\n",
       "      <td>False</td>\n",
       "    </tr>\n",
       "    <tr>\n",
       "      <th>27</th>\n",
       "      <td>9619</td>\n",
       "      <td>210</td>\n",
       "      <td>2295</td>\n",
       "      <td>98</td>\n",
       "      <td>Kyle</td>\n",
       "      <td>Dew</td>\n",
       "      <td>kdew</td>\n",
       "      <td>b4b020d2-48bf-42fd-a1a2-e9aad4793709</td>\n",
       "      <td>False</td>\n",
       "    </tr>\n",
       "    <tr>\n",
       "      <th>28</th>\n",
       "      <td>9620</td>\n",
       "      <td>210</td>\n",
       "      <td>2717</td>\n",
       "      <td>39</td>\n",
       "      <td>Brooks</td>\n",
       "      <td>Wallace</td>\n",
       "      <td>bwallace</td>\n",
       "      <td>f8914cb0-0fd4-4679-97cb-c2de49ecb801</td>\n",
       "      <td>False</td>\n",
       "    </tr>\n",
       "    <tr>\n",
       "      <th>29</th>\n",
       "      <td>9611</td>\n",
       "      <td>210</td>\n",
       "      <td>2710</td>\n",
       "      <td>20</td>\n",
       "      <td>Matt</td>\n",
       "      <td>LaBar</td>\n",
       "      <td>mlabar</td>\n",
       "      <td>48faa529-8869-41ed-8fcd-67bef981b8b0</td>\n",
       "      <td>False</td>\n",
       "    </tr>\n",
       "    <tr>\n",
       "      <th>30</th>\n",
       "      <td>9621</td>\n",
       "      <td>210</td>\n",
       "      <td>2718</td>\n",
       "      <td>34</td>\n",
       "      <td>Elias</td>\n",
       "      <td>Griffin</td>\n",
       "      <td>egriffin</td>\n",
       "      <td>c89f9002-863c-408f-b15f-323471208720</td>\n",
       "      <td>False</td>\n",
       "    </tr>\n",
       "    <tr>\n",
       "      <th>31</th>\n",
       "      <td>9661</td>\n",
       "      <td>210</td>\n",
       "      <td>1343</td>\n",
       "      <td>32</td>\n",
       "      <td>Nasser</td>\n",
       "      <td>M'Bae Vogel</td>\n",
       "      <td>nmbaevoge</td>\n",
       "      <td>fa4d5f34-14b6-415a-a097-7038e7e1b745</td>\n",
       "      <td>False</td>\n",
       "    </tr>\n",
       "  </tbody>\n",
       "</table>\n",
       "</div>"
      ],
      "text/plain": [
       "    player_season_id  team_season_id    id jersey_number first_name  \\\n",
       "0               9452             210  2001             8         TJ   \n",
       "1               9451             210   174             4        Ben   \n",
       "2               9450             210  2093             3    Elliott   \n",
       "3               9449             210  1545             1       Ryan   \n",
       "4               9448             210  1543             2       Ryan   \n",
       "5               9453             210  2637             9    Solomon   \n",
       "6               9460             210  2638            22     Angelo   \n",
       "7               9466             210  2639            54       John   \n",
       "8               9457             210   874            14        Joe   \n",
       "9               9456             210  1207            12       Matt   \n",
       "10              9455             210   747            11       Jack   \n",
       "11              9454             210   408            10      Conor   \n",
       "12              9458             210  1314            16       Mike   \n",
       "13              9459             210  1221            17       Matt   \n",
       "14              9461             210  1536            23       Ryan   \n",
       "15              9462             210  2000            27    Noriaki   \n",
       "16              9463             210   178            28        Ben   \n",
       "17              9464             210  2293            31        Sam   \n",
       "18              9465             210  2075            48       Ryan   \n",
       "19              9467             210  1227            61       Matt   \n",
       "20              9468             210   182            68        Ben   \n",
       "21              9469             210  1531            80       Ryan   \n",
       "22              9470             210  1180            82    Marques   \n",
       "23              9471             210   823            87       Jeff   \n",
       "24              9550             210   963            30      Josue   \n",
       "25              9617             210  2715             5     Kainoa   \n",
       "26              9618             210  2716            44     Oliver   \n",
       "27              9619             210  2295            98       Kyle   \n",
       "28              9620             210  2717            39     Brooks   \n",
       "29              9611             210  2710            20       Matt   \n",
       "30              9621             210  2718            34      Elias   \n",
       "31              9661             210  1343            32     Nasser   \n",
       "\n",
       "              last_name ext_player_id                          ls_player_id  \\\n",
       "0               Stanton      tstanton  4a113253-fcab-462d-b36d-0cd15f955a7f   \n",
       "1                  Jagt         bjagt  6d4fbe3d-da8a-4390-b082-5b299b367c49   \n",
       "2              Chartock     echartock  cb680971-9250-4928-8f16-297f7ea06352   \n",
       "3                 Saffa        rsaffa  559bfb06-bffe-4a47-bee7-446dd89b4081   \n",
       "4                 Osgar        rosgar  eee9ed39-be6b-4697-808e-7383082a46d3   \n",
       "5   Rueschemeyer-Bailey     srueschem  be6f0e2b-e914-4af4-857f-f4b707d3e9bd   \n",
       "6                Olcese       aolcese  5e163bd4-0a35-4d69-ae16-9d08f55053b9   \n",
       "7                Lithio       jlithio  6b1d93f6-d9a7-4f88-a672-647f0d152c40   \n",
       "8             Ouellette     jouellett  e08cd129-3c1c-45e1-9383-38a8e0bc1316   \n",
       "9                 LeMar        mlemar  706838fb-5980-4b4b-a1e1-055f6c706b5e   \n",
       "10             Williams     jwilliams  45c77a7d-2649-4ee3-b083-b50c86a17fa6   \n",
       "11                Kline        ckline  98199daa-9d7f-498d-b5fa-2d14359d2144   \n",
       "12                Drost        mdrost  8126f63f-426f-4d82-9d5e-642cd2f00182   \n",
       "13              Stevens      mstevens  996e07f3-7554-47ea-84a0-626013562283   \n",
       "14               Holmes       rholmes  e5f604b7-9413-414f-8298-8310a5d55944   \n",
       "15                   To           nto  e825e69d-b480-460a-bd53-c1ae6f6e9908   \n",
       "16                 Katz        bkatz1  9ec7f459-2779-4d7d-9bbd-b6f63e04311a   \n",
       "17                Feder        sfeder  00b11126-986f-40c1-9579-25bb414fd4b1   \n",
       "18               Weaver       rweaver  dd58e38c-7a10-4d6c-a32a-8ac7c672e658   \n",
       "19            Weintraub     mweintrau  6cde0226-8ac0-4bb1-ba95-e1b9f608f952   \n",
       "20               Nelson       bnelson  34892608-b544-4137-a519-08e72b38cc6d   \n",
       "21                Drost        rdrost  d8d878f6-64df-42fe-ba27-a249741f0a73   \n",
       "22             Brownlee     mbrownlee  b7555739-2e4d-4c99-973b-0f65947230db   \n",
       "23              Babbitt      jbabbitt  f8530fac-d3cd-49c3-868f-2431dca4b0ae   \n",
       "24               Alorro       jalorro  8201f46c-1b8a-42cb-ae95-e44084ba6e0d   \n",
       "25             Chun Moy      kchunmoy  0e319331-e659-415a-bf1e-f78d9eff666c   \n",
       "26                Feder        ofeder  da15e4ec-0962-430b-a2ac-966e8bcda265   \n",
       "27                  Dew          kdew  b4b020d2-48bf-42fd-a1a2-e9aad4793709   \n",
       "28              Wallace      bwallace  f8914cb0-0fd4-4679-97cb-c2de49ecb801   \n",
       "29                LaBar        mlabar  48faa529-8869-41ed-8fcd-67bef981b8b0   \n",
       "30              Griffin      egriffin  c89f9002-863c-408f-b15f-323471208720   \n",
       "31          M'Bae Vogel     nmbaevoge  fa4d5f34-14b6-415a-a097-7038e7e1b745   \n",
       "\n",
       "    active  \n",
       "0    False  \n",
       "1    False  \n",
       "2    False  \n",
       "3    False  \n",
       "4    False  \n",
       "5    False  \n",
       "6    False  \n",
       "7    False  \n",
       "8    False  \n",
       "9    False  \n",
       "10   False  \n",
       "11   False  \n",
       "12   False  \n",
       "13   False  \n",
       "14   False  \n",
       "15   False  \n",
       "16   False  \n",
       "17   False  \n",
       "18   False  \n",
       "19   False  \n",
       "20   False  \n",
       "21   False  \n",
       "22   False  \n",
       "23   False  \n",
       "24   False  \n",
       "25   False  \n",
       "26   False  \n",
       "27   False  \n",
       "28   False  \n",
       "29   False  \n",
       "30   False  \n",
       "31   False  "
      ]
     },
     "execution_count": 8,
     "metadata": {},
     "output_type": "execute_result"
    }
   ],
   "source": [
    "g.get_home_roster()"
   ]
  },
  {
   "cell_type": "code",
   "execution_count": null,
   "metadata": {},
   "outputs": [],
   "source": []
  }
 ],
 "metadata": {
  "interpreter": {
   "hash": "f38a339d07bf5b00e653706e835409eef6c67e71f1b0bd88aeba0a6ba6011e8d"
  },
  "kernelspec": {
   "display_name": "Python 3 (ipykernel)",
   "language": "python",
   "name": "python3"
  },
  "language_info": {
   "codemirror_mode": {
    "name": "ipython",
    "version": 3
   },
   "file_extension": ".py",
   "mimetype": "text/x-python",
   "name": "python",
   "nbconvert_exporter": "python",
   "pygments_lexer": "ipython3",
   "version": "3.9.7"
  },
  "notify_time": "5",
  "toc": {
   "base_numbering": 1,
   "nav_menu": {},
   "number_sections": true,
   "sideBar": true,
   "skip_h1_title": false,
   "title_cell": "Table of Contents",
   "title_sidebar": "Contents",
   "toc_cell": false,
   "toc_position": {},
   "toc_section_display": true,
   "toc_window_display": false
  }
 },
 "nbformat": 4,
 "nbformat_minor": 4
}
