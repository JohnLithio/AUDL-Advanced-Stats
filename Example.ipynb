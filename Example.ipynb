{
 "cells": [
  {
   "cell_type": "markdown",
   "metadata": {},
   "source": [
    "# Examples\n",
    "\n",
    "This notebook gives a brief explanation and examples of how to use the `audl_advanced_stats` package.\n",
    "\n",
    "The first time you run these functions, the data will be downloaded and stored locally, which will take a while. When you run the functions after that, the locally stored versions will be used, which is much quicker. The times in this notebook reflect the first run-through."
   ]
  },
  {
   "cell_type": "code",
   "execution_count": 1,
   "metadata": {},
   "outputs": [],
   "source": [
    "import audl_advanced_stats as audl"
   ]
  },
  {
   "cell_type": "markdown",
   "metadata": {},
   "source": [
    "## Season\n",
    "\n",
    "This section will go through the `Season` class."
   ]
  },
  {
   "cell_type": "code",
   "execution_count": 2,
   "metadata": {},
   "outputs": [
    {
     "name": "stdout",
     "output_type": "stream",
     "text": [
      "CPU times: user 4.93 ms, sys: 2.76 ms, total: 7.69 ms\n",
      "Wall time: 7.67 ms\n"
     ]
    },
    {
     "data": {
      "text/html": [
       "<div>\n",
       "<style scoped>\n",
       "    .dataframe tbody tr th:only-of-type {\n",
       "        vertical-align: middle;\n",
       "    }\n",
       "\n",
       "    .dataframe tbody tr th {\n",
       "        vertical-align: top;\n",
       "    }\n",
       "\n",
       "    .dataframe thead th {\n",
       "        text-align: right;\n",
       "    }\n",
       "</style>\n",
       "<table border=\"1\" class=\"dataframe\">\n",
       "  <thead>\n",
       "    <tr style=\"text-align: right;\">\n",
       "      <th></th>\n",
       "      <th>player_id</th>\n",
       "      <th>player_name</th>\n",
       "      <th>team_id</th>\n",
       "    </tr>\n",
       "  </thead>\n",
       "  <tbody>\n",
       "    <tr>\n",
       "      <th>0</th>\n",
       "      <td>9842</td>\n",
       "      <td>Abrahamsson, Gavin</td>\n",
       "      <td>16</td>\n",
       "    </tr>\n",
       "    <tr>\n",
       "      <th>1</th>\n",
       "      <td>10473</td>\n",
       "      <td>Akyuz, Tarik</td>\n",
       "      <td>22</td>\n",
       "    </tr>\n",
       "    <tr>\n",
       "      <th>2</th>\n",
       "      <td>10225</td>\n",
       "      <td>Alongi, Robert</td>\n",
       "      <td>9</td>\n",
       "    </tr>\n",
       "    <tr>\n",
       "      <th>3</th>\n",
       "      <td>10058</td>\n",
       "      <td>Anthony, Kevin</td>\n",
       "      <td>6</td>\n",
       "    </tr>\n",
       "    <tr>\n",
       "      <th>4</th>\n",
       "      <td>10595</td>\n",
       "      <td>Arcata, Mike</td>\n",
       "      <td>16</td>\n",
       "    </tr>\n",
       "  </tbody>\n",
       "</table>\n",
       "</div>"
      ],
      "text/plain": [
       "   player_id         player_name  team_id\n",
       "0       9842  Abrahamsson, Gavin       16\n",
       "1      10473        Akyuz, Tarik       22\n",
       "2      10225      Alongi, Robert        9\n",
       "3      10058      Anthony, Kevin        6\n",
       "4      10595        Arcata, Mike       16"
      ]
     },
     "execution_count": 2,
     "metadata": {},
     "output_type": "execute_result"
    }
   ],
   "source": [
    "%%time\n",
    "# Initialize season object\n",
    "s = audl.Season(\n",
    "    year=2022,\n",
    "    data_path=\"data\",\n",
    "    upload=False,\n",
    "    download=False\n",
    ")\n",
    "\n",
    "# Get all players\n",
    "s.get_players().head()"
   ]
  },
  {
   "cell_type": "code",
   "execution_count": 3,
   "metadata": {},
   "outputs": [
    {
     "name": "stdout",
     "output_type": "stream",
     "text": [
      "CPU times: user 2.35 ms, sys: 1.31 ms, total: 3.66 ms\n",
      "Wall time: 2.63 ms\n"
     ]
    },
    {
     "data": {
      "text/html": [
       "<div>\n",
       "<style scoped>\n",
       "    .dataframe tbody tr th:only-of-type {\n",
       "        vertical-align: middle;\n",
       "    }\n",
       "\n",
       "    .dataframe tbody tr th {\n",
       "        vertical-align: top;\n",
       "    }\n",
       "\n",
       "    .dataframe thead th {\n",
       "        text-align: right;\n",
       "    }\n",
       "</style>\n",
       "<table border=\"1\" class=\"dataframe\">\n",
       "  <thead>\n",
       "    <tr style=\"text-align: right;\">\n",
       "      <th></th>\n",
       "      <th>team_id</th>\n",
       "      <th>team_abbrev</th>\n",
       "      <th>team_name</th>\n",
       "    </tr>\n",
       "  </thead>\n",
       "  <tbody>\n",
       "    <tr>\n",
       "      <th>0</th>\n",
       "      <td>1</td>\n",
       "      <td>ATL</td>\n",
       "      <td>Atlanta Hustle</td>\n",
       "    </tr>\n",
       "    <tr>\n",
       "      <th>1</th>\n",
       "      <td>2</td>\n",
       "      <td>ATX</td>\n",
       "      <td>Austin Sol</td>\n",
       "    </tr>\n",
       "    <tr>\n",
       "      <th>2</th>\n",
       "      <td>37</td>\n",
       "      <td>BOS</td>\n",
       "      <td>Boston Glory</td>\n",
       "    </tr>\n",
       "    <tr>\n",
       "      <th>3</th>\n",
       "      <td>18</td>\n",
       "      <td>CAR</td>\n",
       "      <td>Carolina Flyers</td>\n",
       "    </tr>\n",
       "    <tr>\n",
       "      <th>4</th>\n",
       "      <td>3</td>\n",
       "      <td>CHI</td>\n",
       "      <td>Chicago Union</td>\n",
       "    </tr>\n",
       "  </tbody>\n",
       "</table>\n",
       "</div>"
      ],
      "text/plain": [
       "   team_id team_abbrev        team_name\n",
       "0        1         ATL   Atlanta Hustle\n",
       "1        2         ATX       Austin Sol\n",
       "2       37         BOS     Boston Glory\n",
       "3       18         CAR  Carolina Flyers\n",
       "4        3         CHI    Chicago Union"
      ]
     },
     "execution_count": 3,
     "metadata": {},
     "output_type": "execute_result"
    }
   ],
   "source": [
    "%%time\n",
    "# Get all teams\n",
    "s.get_teams().head()"
   ]
  },
  {
   "cell_type": "code",
   "execution_count": 4,
   "metadata": {},
   "outputs": [
    {
     "name": "stdout",
     "output_type": "stream",
     "text": [
      "CPU times: user 2.88 ms, sys: 2.21 ms, total: 5.09 ms\n",
      "Wall time: 3.76 ms\n"
     ]
    },
    {
     "data": {
      "text/html": [
       "<div>\n",
       "<style scoped>\n",
       "    .dataframe tbody tr th:only-of-type {\n",
       "        vertical-align: middle;\n",
       "    }\n",
       "\n",
       "    .dataframe tbody tr th {\n",
       "        vertical-align: top;\n",
       "    }\n",
       "\n",
       "    .dataframe thead th {\n",
       "        text-align: right;\n",
       "    }\n",
       "</style>\n",
       "<table border=\"1\" class=\"dataframe\">\n",
       "  <thead>\n",
       "    <tr style=\"text-align: right;\">\n",
       "      <th></th>\n",
       "      <th>game_date</th>\n",
       "      <th>away_team</th>\n",
       "      <th>home_team</th>\n",
       "      <th>url</th>\n",
       "      <th>events_exist</th>\n",
       "      <th>playoffs</th>\n",
       "    </tr>\n",
       "  </thead>\n",
       "  <tbody>\n",
       "    <tr>\n",
       "      <th>0</th>\n",
       "      <td>2022-04-29</td>\n",
       "      <td>ATL</td>\n",
       "      <td>CAR</td>\n",
       "      <td>https://audl-stat-server.herokuapp.com/stats-p...</td>\n",
       "      <td>True</td>\n",
       "      <td>False</td>\n",
       "    </tr>\n",
       "    <tr>\n",
       "      <th>1</th>\n",
       "      <td>2022-04-29</td>\n",
       "      <td>SLC</td>\n",
       "      <td>SD</td>\n",
       "      <td>https://audl-stat-server.herokuapp.com/stats-p...</td>\n",
       "      <td>True</td>\n",
       "      <td>False</td>\n",
       "    </tr>\n",
       "    <tr>\n",
       "      <th>2</th>\n",
       "      <td>2022-04-30</td>\n",
       "      <td>ATX</td>\n",
       "      <td>DAL</td>\n",
       "      <td>https://audl-stat-server.herokuapp.com/stats-p...</td>\n",
       "      <td>True</td>\n",
       "      <td>False</td>\n",
       "    </tr>\n",
       "    <tr>\n",
       "      <th>3</th>\n",
       "      <td>2022-04-30</td>\n",
       "      <td>MTL</td>\n",
       "      <td>TOR</td>\n",
       "      <td>https://audl-stat-server.herokuapp.com/stats-p...</td>\n",
       "      <td>True</td>\n",
       "      <td>False</td>\n",
       "    </tr>\n",
       "    <tr>\n",
       "      <th>4</th>\n",
       "      <td>2022-04-30</td>\n",
       "      <td>NY</td>\n",
       "      <td>DC</td>\n",
       "      <td>https://audl-stat-server.herokuapp.com/stats-p...</td>\n",
       "      <td>True</td>\n",
       "      <td>False</td>\n",
       "    </tr>\n",
       "  </tbody>\n",
       "</table>\n",
       "</div>"
      ],
      "text/plain": [
       "    game_date away_team home_team  \\\n",
       "0  2022-04-29       ATL       CAR   \n",
       "1  2022-04-29       SLC        SD   \n",
       "2  2022-04-30       ATX       DAL   \n",
       "3  2022-04-30       MTL       TOR   \n",
       "4  2022-04-30        NY        DC   \n",
       "\n",
       "                                                 url  events_exist  playoffs  \n",
       "0  https://audl-stat-server.herokuapp.com/stats-p...          True     False  \n",
       "1  https://audl-stat-server.herokuapp.com/stats-p...          True     False  \n",
       "2  https://audl-stat-server.herokuapp.com/stats-p...          True     False  \n",
       "3  https://audl-stat-server.herokuapp.com/stats-p...          True     False  \n",
       "4  https://audl-stat-server.herokuapp.com/stats-p...          True     False  "
      ]
     },
     "execution_count": 4,
     "metadata": {},
     "output_type": "execute_result"
    }
   ],
   "source": [
    "%%time\n",
    "# Get all scheduled games and whether or not they've been played yet\n",
    "s.get_game_info().head()"
   ]
  },
  {
   "cell_type": "code",
   "execution_count": 5,
   "metadata": {},
   "outputs": [
    {
     "name": "stdout",
     "output_type": "stream",
     "text": [
      "CPU times: user 31 ms, sys: 116 ms, total: 147 ms\n",
      "Wall time: 32.4 ms\n"
     ]
    },
    {
     "data": {
      "text/html": [
       "<div>\n",
       "<style scoped>\n",
       "    .dataframe tbody tr th:only-of-type {\n",
       "        vertical-align: middle;\n",
       "    }\n",
       "\n",
       "    .dataframe tbody tr th {\n",
       "        vertical-align: top;\n",
       "    }\n",
       "\n",
       "    .dataframe thead th {\n",
       "        text-align: right;\n",
       "    }\n",
       "</style>\n",
       "<table border=\"1\" class=\"dataframe\">\n",
       "  <thead>\n",
       "    <tr style=\"text-align: right;\">\n",
       "      <th></th>\n",
       "      <th>t</th>\n",
       "      <th>r</th>\n",
       "      <th>x</th>\n",
       "      <th>y</th>\n",
       "      <th>s</th>\n",
       "      <th>q</th>\n",
       "      <th>h</th>\n",
       "      <th>game_id</th>\n",
       "      <th>team_id</th>\n",
       "      <th>opponent_team_id</th>\n",
       "      <th>...</th>\n",
       "      <th>10466</th>\n",
       "      <th>10467</th>\n",
       "      <th>10468</th>\n",
       "      <th>10471</th>\n",
       "      <th>10472</th>\n",
       "      <th>10473</th>\n",
       "      <th>10474</th>\n",
       "      <th>10476</th>\n",
       "      <th>10478</th>\n",
       "      <th>10604</th>\n",
       "    </tr>\n",
       "  </thead>\n",
       "  <tbody>\n",
       "    <tr>\n",
       "      <th>0</th>\n",
       "      <td>50</td>\n",
       "      <td>NaN</td>\n",
       "      <td>NaN</td>\n",
       "      <td>NaN</td>\n",
       "      <td>720.0</td>\n",
       "      <td>NaN</td>\n",
       "      <td>NaN</td>\n",
       "      <td>2893</td>\n",
       "      <td>18</td>\n",
       "      <td>1</td>\n",
       "      <td>...</td>\n",
       "      <td>NaN</td>\n",
       "      <td>NaN</td>\n",
       "      <td>NaN</td>\n",
       "      <td>NaN</td>\n",
       "      <td>NaN</td>\n",
       "      <td>NaN</td>\n",
       "      <td>NaN</td>\n",
       "      <td>NaN</td>\n",
       "      <td>NaN</td>\n",
       "      <td>NaN</td>\n",
       "    </tr>\n",
       "    <tr>\n",
       "      <th>1</th>\n",
       "      <td>1</td>\n",
       "      <td>NaN</td>\n",
       "      <td>NaN</td>\n",
       "      <td>NaN</td>\n",
       "      <td>NaN</td>\n",
       "      <td>NaN</td>\n",
       "      <td>NaN</td>\n",
       "      <td>2893</td>\n",
       "      <td>18</td>\n",
       "      <td>1</td>\n",
       "      <td>...</td>\n",
       "      <td>NaN</td>\n",
       "      <td>NaN</td>\n",
       "      <td>NaN</td>\n",
       "      <td>NaN</td>\n",
       "      <td>NaN</td>\n",
       "      <td>NaN</td>\n",
       "      <td>NaN</td>\n",
       "      <td>NaN</td>\n",
       "      <td>NaN</td>\n",
       "      <td>NaN</td>\n",
       "    </tr>\n",
       "    <tr>\n",
       "      <th>2</th>\n",
       "      <td>20</td>\n",
       "      <td>10159.0</td>\n",
       "      <td>13.64</td>\n",
       "      <td>19.99</td>\n",
       "      <td>NaN</td>\n",
       "      <td>NaN</td>\n",
       "      <td>NaN</td>\n",
       "      <td>2893</td>\n",
       "      <td>18</td>\n",
       "      <td>1</td>\n",
       "      <td>...</td>\n",
       "      <td>NaN</td>\n",
       "      <td>NaN</td>\n",
       "      <td>NaN</td>\n",
       "      <td>NaN</td>\n",
       "      <td>NaN</td>\n",
       "      <td>NaN</td>\n",
       "      <td>NaN</td>\n",
       "      <td>NaN</td>\n",
       "      <td>NaN</td>\n",
       "      <td>NaN</td>\n",
       "    </tr>\n",
       "    <tr>\n",
       "      <th>3</th>\n",
       "      <td>20</td>\n",
       "      <td>10141.0</td>\n",
       "      <td>-2.26</td>\n",
       "      <td>41.59</td>\n",
       "      <td>NaN</td>\n",
       "      <td>NaN</td>\n",
       "      <td>NaN</td>\n",
       "      <td>2893</td>\n",
       "      <td>18</td>\n",
       "      <td>1</td>\n",
       "      <td>...</td>\n",
       "      <td>NaN</td>\n",
       "      <td>NaN</td>\n",
       "      <td>NaN</td>\n",
       "      <td>NaN</td>\n",
       "      <td>NaN</td>\n",
       "      <td>NaN</td>\n",
       "      <td>NaN</td>\n",
       "      <td>NaN</td>\n",
       "      <td>NaN</td>\n",
       "      <td>NaN</td>\n",
       "    </tr>\n",
       "    <tr>\n",
       "      <th>4</th>\n",
       "      <td>20</td>\n",
       "      <td>10149.0</td>\n",
       "      <td>5.93</td>\n",
       "      <td>48.81</td>\n",
       "      <td>NaN</td>\n",
       "      <td>NaN</td>\n",
       "      <td>NaN</td>\n",
       "      <td>2893</td>\n",
       "      <td>18</td>\n",
       "      <td>1</td>\n",
       "      <td>...</td>\n",
       "      <td>NaN</td>\n",
       "      <td>NaN</td>\n",
       "      <td>NaN</td>\n",
       "      <td>NaN</td>\n",
       "      <td>NaN</td>\n",
       "      <td>NaN</td>\n",
       "      <td>NaN</td>\n",
       "      <td>NaN</td>\n",
       "      <td>NaN</td>\n",
       "      <td>NaN</td>\n",
       "    </tr>\n",
       "  </tbody>\n",
       "</table>\n",
       "<p>5 rows × 435 columns</p>\n",
       "</div>"
      ],
      "text/plain": [
       "    t        r      x      y      s   q   h  game_id  team_id  \\\n",
       "0  50      NaN    NaN    NaN  720.0 NaN NaN     2893       18   \n",
       "1   1      NaN    NaN    NaN    NaN NaN NaN     2893       18   \n",
       "2  20  10159.0  13.64  19.99    NaN NaN NaN     2893       18   \n",
       "3  20  10141.0  -2.26  41.59    NaN NaN NaN     2893       18   \n",
       "4  20  10149.0   5.93  48.81    NaN NaN NaN     2893       18   \n",
       "\n",
       "   opponent_team_id  ...  10466 10467  10468  10471  10472  10473  10474  \\\n",
       "0                 1  ...    NaN   NaN    NaN    NaN    NaN    NaN    NaN   \n",
       "1                 1  ...    NaN   NaN    NaN    NaN    NaN    NaN    NaN   \n",
       "2                 1  ...    NaN   NaN    NaN    NaN    NaN    NaN    NaN   \n",
       "3                 1  ...    NaN   NaN    NaN    NaN    NaN    NaN    NaN   \n",
       "4                 1  ...    NaN   NaN    NaN    NaN    NaN    NaN    NaN   \n",
       "\n",
       "  10476 10478 10604  \n",
       "0   NaN   NaN   NaN  \n",
       "1   NaN   NaN   NaN  \n",
       "2   NaN   NaN   NaN  \n",
       "3   NaN   NaN   NaN  \n",
       "4   NaN   NaN   NaN  \n",
       "\n",
       "[5 rows x 435 columns]"
      ]
     },
     "execution_count": 5,
     "metadata": {},
     "output_type": "execute_result"
    }
   ],
   "source": [
    "%%time\n",
    "# Compile all processed game data into a single dataframe\n",
    "s.get_games().head()"
   ]
  },
  {
   "cell_type": "code",
   "execution_count": 6,
   "metadata": {},
   "outputs": [
    {
     "name": "stdout",
     "output_type": "stream",
     "text": [
      "CPU times: user 3.42 s, sys: 82.2 ms, total: 3.5 s\n",
      "Wall time: 3.49 s\n"
     ]
    },
    {
     "data": {
      "text/html": [
       "<div>\n",
       "<style scoped>\n",
       "    .dataframe tbody tr th:only-of-type {\n",
       "        vertical-align: middle;\n",
       "    }\n",
       "\n",
       "    .dataframe tbody tr th {\n",
       "        vertical-align: top;\n",
       "    }\n",
       "\n",
       "    .dataframe thead th {\n",
       "        text-align: right;\n",
       "    }\n",
       "</style>\n",
       "<table border=\"1\" class=\"dataframe\">\n",
       "  <thead>\n",
       "    <tr style=\"text-align: right;\">\n",
       "      <th></th>\n",
       "      <th>game_date</th>\n",
       "      <th>away_team</th>\n",
       "      <th>home_team</th>\n",
       "      <th>url</th>\n",
       "      <th>events_exist</th>\n",
       "      <th>playoffs</th>\n",
       "      <th>not_seven_players_home</th>\n",
       "      <th>not_seven_players_away</th>\n",
       "      <th>not_seven_players_home_raw</th>\n",
       "      <th>not_seven_players_away_raw</th>\n",
       "      <th>negative_elapsed_home</th>\n",
       "      <th>negative_elapsed_away</th>\n",
       "      <th>negative_time_home_raw</th>\n",
       "      <th>negative_time_away_raw</th>\n",
       "      <th>no_event_label_home</th>\n",
       "      <th>no_event_label_away</th>\n",
       "      <th>data_labels_home_raw</th>\n",
       "      <th>data_labels_away_raw</th>\n",
       "    </tr>\n",
       "  </thead>\n",
       "  <tbody>\n",
       "    <tr>\n",
       "      <th>0</th>\n",
       "      <td>2022-04-29</td>\n",
       "      <td>ATL</td>\n",
       "      <td>CAR</td>\n",
       "      <td>https://audl-stat-server.herokuapp.com/stats-p...</td>\n",
       "      <td>True</td>\n",
       "      <td>False</td>\n",
       "      <td>0</td>\n",
       "      <td>0</td>\n",
       "      <td>0</td>\n",
       "      <td>0</td>\n",
       "      <td>3</td>\n",
       "      <td>0</td>\n",
       "      <td>0</td>\n",
       "      <td>0</td>\n",
       "      <td>[]</td>\n",
       "      <td>[]</td>\n",
       "      <td>[h, l, ms, q, r, s, t, x, y]</td>\n",
       "      <td>[c, l, ms, q, r, s, t, x, y]</td>\n",
       "    </tr>\n",
       "    <tr>\n",
       "      <th>1</th>\n",
       "      <td>2022-04-29</td>\n",
       "      <td>SLC</td>\n",
       "      <td>SD</td>\n",
       "      <td>https://audl-stat-server.herokuapp.com/stats-p...</td>\n",
       "      <td>True</td>\n",
       "      <td>False</td>\n",
       "      <td>1</td>\n",
       "      <td>0</td>\n",
       "      <td>1</td>\n",
       "      <td>0</td>\n",
       "      <td>0</td>\n",
       "      <td>0</td>\n",
       "      <td>0</td>\n",
       "      <td>0</td>\n",
       "      <td>[]</td>\n",
       "      <td>[]</td>\n",
       "      <td>[c, l, ms, r, s, t, x, y]</td>\n",
       "      <td>[l, ms, q, r, s, t, x, y]</td>\n",
       "    </tr>\n",
       "    <tr>\n",
       "      <th>2</th>\n",
       "      <td>2022-04-30</td>\n",
       "      <td>ATX</td>\n",
       "      <td>DAL</td>\n",
       "      <td>https://audl-stat-server.herokuapp.com/stats-p...</td>\n",
       "      <td>True</td>\n",
       "      <td>False</td>\n",
       "      <td>0</td>\n",
       "      <td>0</td>\n",
       "      <td>0</td>\n",
       "      <td>0</td>\n",
       "      <td>0</td>\n",
       "      <td>0</td>\n",
       "      <td>0</td>\n",
       "      <td>0</td>\n",
       "      <td>[]</td>\n",
       "      <td>[]</td>\n",
       "      <td>[c, l, ms, q, r, s, t, x, y]</td>\n",
       "      <td>[c, l, ms, r, s, t, x, y]</td>\n",
       "    </tr>\n",
       "    <tr>\n",
       "      <th>3</th>\n",
       "      <td>2022-04-30</td>\n",
       "      <td>MTL</td>\n",
       "      <td>TOR</td>\n",
       "      <td>https://audl-stat-server.herokuapp.com/stats-p...</td>\n",
       "      <td>True</td>\n",
       "      <td>False</td>\n",
       "      <td>0</td>\n",
       "      <td>0</td>\n",
       "      <td>0</td>\n",
       "      <td>0</td>\n",
       "      <td>0</td>\n",
       "      <td>0</td>\n",
       "      <td>0</td>\n",
       "      <td>0</td>\n",
       "      <td>[]</td>\n",
       "      <td>[]</td>\n",
       "      <td>[c, l, ms, r, s, t, x, y]</td>\n",
       "      <td>[l, ms, r, s, t, x, y]</td>\n",
       "    </tr>\n",
       "    <tr>\n",
       "      <th>4</th>\n",
       "      <td>2022-04-30</td>\n",
       "      <td>NY</td>\n",
       "      <td>DC</td>\n",
       "      <td>https://audl-stat-server.herokuapp.com/stats-p...</td>\n",
       "      <td>True</td>\n",
       "      <td>False</td>\n",
       "      <td>0</td>\n",
       "      <td>0</td>\n",
       "      <td>0</td>\n",
       "      <td>0</td>\n",
       "      <td>0</td>\n",
       "      <td>0</td>\n",
       "      <td>0</td>\n",
       "      <td>0</td>\n",
       "      <td>[]</td>\n",
       "      <td>[]</td>\n",
       "      <td>[c, l, ms, r, s, t, x, y]</td>\n",
       "      <td>[c, l, ms, r, s, t, x, y]</td>\n",
       "    </tr>\n",
       "    <tr>\n",
       "      <th>5</th>\n",
       "      <td>2022-04-30</td>\n",
       "      <td>PHI</td>\n",
       "      <td>BOS</td>\n",
       "      <td>https://audl-stat-server.herokuapp.com/stats-p...</td>\n",
       "      <td>True</td>\n",
       "      <td>False</td>\n",
       "      <td>0</td>\n",
       "      <td>2</td>\n",
       "      <td>0</td>\n",
       "      <td>2</td>\n",
       "      <td>0</td>\n",
       "      <td>0</td>\n",
       "      <td>0</td>\n",
       "      <td>0</td>\n",
       "      <td>[]</td>\n",
       "      <td>[]</td>\n",
       "      <td>[c, h, l, ms, r, s, t, x, y]</td>\n",
       "      <td>[h, l, ms, r, s, t, x, y]</td>\n",
       "    </tr>\n",
       "    <tr>\n",
       "      <th>6</th>\n",
       "      <td>2022-04-30</td>\n",
       "      <td>PIT</td>\n",
       "      <td>DET</td>\n",
       "      <td>https://audl-stat-server.herokuapp.com/stats-p...</td>\n",
       "      <td>True</td>\n",
       "      <td>False</td>\n",
       "      <td>0</td>\n",
       "      <td>0</td>\n",
       "      <td>0</td>\n",
       "      <td>0</td>\n",
       "      <td>0</td>\n",
       "      <td>0</td>\n",
       "      <td>0</td>\n",
       "      <td>0</td>\n",
       "      <td>[]</td>\n",
       "      <td>[]</td>\n",
       "      <td>[l, ms, r, s, t, x, y]</td>\n",
       "      <td>[l, ms, r, s, t, x, y]</td>\n",
       "    </tr>\n",
       "    <tr>\n",
       "      <th>7</th>\n",
       "      <td>2022-04-30</td>\n",
       "      <td>SLC</td>\n",
       "      <td>LA</td>\n",
       "      <td>https://audl-stat-server.herokuapp.com/stats-p...</td>\n",
       "      <td>True</td>\n",
       "      <td>False</td>\n",
       "      <td>0</td>\n",
       "      <td>0</td>\n",
       "      <td>0</td>\n",
       "      <td>0</td>\n",
       "      <td>4</td>\n",
       "      <td>0</td>\n",
       "      <td>0</td>\n",
       "      <td>0</td>\n",
       "      <td>[]</td>\n",
       "      <td>[]</td>\n",
       "      <td>[h, l, ms, r, s, t, x, y]</td>\n",
       "      <td>[l, ms, r, s, t, x, y]</td>\n",
       "    </tr>\n",
       "    <tr>\n",
       "      <th>8</th>\n",
       "      <td>2022-04-30</td>\n",
       "      <td>TB</td>\n",
       "      <td>ATL</td>\n",
       "      <td>https://audl-stat-server.herokuapp.com/stats-p...</td>\n",
       "      <td>True</td>\n",
       "      <td>False</td>\n",
       "      <td>0</td>\n",
       "      <td>0</td>\n",
       "      <td>0</td>\n",
       "      <td>0</td>\n",
       "      <td>0</td>\n",
       "      <td>0</td>\n",
       "      <td>0</td>\n",
       "      <td>0</td>\n",
       "      <td>[]</td>\n",
       "      <td>[]</td>\n",
       "      <td>[c, h, l, ms, q, r, s, t, x, y]</td>\n",
       "      <td>[h, l, ms, q, r, s, t, x, y]</td>\n",
       "    </tr>\n",
       "    <tr>\n",
       "      <th>9</th>\n",
       "      <td>2022-05-01</td>\n",
       "      <td>PIT</td>\n",
       "      <td>CHI</td>\n",
       "      <td>https://audl-stat-server.herokuapp.com/stats-p...</td>\n",
       "      <td>True</td>\n",
       "      <td>False</td>\n",
       "      <td>0</td>\n",
       "      <td>0</td>\n",
       "      <td>0</td>\n",
       "      <td>0</td>\n",
       "      <td>0</td>\n",
       "      <td>0</td>\n",
       "      <td>0</td>\n",
       "      <td>0</td>\n",
       "      <td>[]</td>\n",
       "      <td>[]</td>\n",
       "      <td>[l, ms, q, r, s, t, x, y]</td>\n",
       "      <td>[l, ms, r, s, t, x, y]</td>\n",
       "    </tr>\n",
       "    <tr>\n",
       "      <th>10</th>\n",
       "      <td>2022-05-01</td>\n",
       "      <td>SEA</td>\n",
       "      <td>POR</td>\n",
       "      <td>https://audl-stat-server.herokuapp.com/stats-p...</td>\n",
       "      <td>True</td>\n",
       "      <td>False</td>\n",
       "      <td>0</td>\n",
       "      <td>0</td>\n",
       "      <td>0</td>\n",
       "      <td>0</td>\n",
       "      <td>2</td>\n",
       "      <td>0</td>\n",
       "      <td>0</td>\n",
       "      <td>0</td>\n",
       "      <td>[]</td>\n",
       "      <td>[]</td>\n",
       "      <td>[h, l, ms, q, r, s, t, x, y]</td>\n",
       "      <td>[h, l, ms, q, r, s, t, x, y]</td>\n",
       "    </tr>\n",
       "  </tbody>\n",
       "</table>\n",
       "</div>"
      ],
      "text/plain": [
       "     game_date away_team home_team  \\\n",
       "0   2022-04-29       ATL       CAR   \n",
       "1   2022-04-29       SLC        SD   \n",
       "2   2022-04-30       ATX       DAL   \n",
       "3   2022-04-30       MTL       TOR   \n",
       "4   2022-04-30        NY        DC   \n",
       "5   2022-04-30       PHI       BOS   \n",
       "6   2022-04-30       PIT       DET   \n",
       "7   2022-04-30       SLC        LA   \n",
       "8   2022-04-30        TB       ATL   \n",
       "9   2022-05-01       PIT       CHI   \n",
       "10  2022-05-01       SEA       POR   \n",
       "\n",
       "                                                  url  events_exist  playoffs  \\\n",
       "0   https://audl-stat-server.herokuapp.com/stats-p...          True     False   \n",
       "1   https://audl-stat-server.herokuapp.com/stats-p...          True     False   \n",
       "2   https://audl-stat-server.herokuapp.com/stats-p...          True     False   \n",
       "3   https://audl-stat-server.herokuapp.com/stats-p...          True     False   \n",
       "4   https://audl-stat-server.herokuapp.com/stats-p...          True     False   \n",
       "5   https://audl-stat-server.herokuapp.com/stats-p...          True     False   \n",
       "6   https://audl-stat-server.herokuapp.com/stats-p...          True     False   \n",
       "7   https://audl-stat-server.herokuapp.com/stats-p...          True     False   \n",
       "8   https://audl-stat-server.herokuapp.com/stats-p...          True     False   \n",
       "9   https://audl-stat-server.herokuapp.com/stats-p...          True     False   \n",
       "10  https://audl-stat-server.herokuapp.com/stats-p...          True     False   \n",
       "\n",
       "    not_seven_players_home  not_seven_players_away  \\\n",
       "0                        0                       0   \n",
       "1                        1                       0   \n",
       "2                        0                       0   \n",
       "3                        0                       0   \n",
       "4                        0                       0   \n",
       "5                        0                       2   \n",
       "6                        0                       0   \n",
       "7                        0                       0   \n",
       "8                        0                       0   \n",
       "9                        0                       0   \n",
       "10                       0                       0   \n",
       "\n",
       "    not_seven_players_home_raw  not_seven_players_away_raw  \\\n",
       "0                            0                           0   \n",
       "1                            1                           0   \n",
       "2                            0                           0   \n",
       "3                            0                           0   \n",
       "4                            0                           0   \n",
       "5                            0                           2   \n",
       "6                            0                           0   \n",
       "7                            0                           0   \n",
       "8                            0                           0   \n",
       "9                            0                           0   \n",
       "10                           0                           0   \n",
       "\n",
       "    negative_elapsed_home  negative_elapsed_away  negative_time_home_raw  \\\n",
       "0                       3                      0                       0   \n",
       "1                       0                      0                       0   \n",
       "2                       0                      0                       0   \n",
       "3                       0                      0                       0   \n",
       "4                       0                      0                       0   \n",
       "5                       0                      0                       0   \n",
       "6                       0                      0                       0   \n",
       "7                       4                      0                       0   \n",
       "8                       0                      0                       0   \n",
       "9                       0                      0                       0   \n",
       "10                      2                      0                       0   \n",
       "\n",
       "    negative_time_away_raw no_event_label_home no_event_label_away  \\\n",
       "0                        0                  []                  []   \n",
       "1                        0                  []                  []   \n",
       "2                        0                  []                  []   \n",
       "3                        0                  []                  []   \n",
       "4                        0                  []                  []   \n",
       "5                        0                  []                  []   \n",
       "6                        0                  []                  []   \n",
       "7                        0                  []                  []   \n",
       "8                        0                  []                  []   \n",
       "9                        0                  []                  []   \n",
       "10                       0                  []                  []   \n",
       "\n",
       "               data_labels_home_raw          data_labels_away_raw  \n",
       "0      [h, l, ms, q, r, s, t, x, y]  [c, l, ms, q, r, s, t, x, y]  \n",
       "1         [c, l, ms, r, s, t, x, y]     [l, ms, q, r, s, t, x, y]  \n",
       "2      [c, l, ms, q, r, s, t, x, y]     [c, l, ms, r, s, t, x, y]  \n",
       "3         [c, l, ms, r, s, t, x, y]        [l, ms, r, s, t, x, y]  \n",
       "4         [c, l, ms, r, s, t, x, y]     [c, l, ms, r, s, t, x, y]  \n",
       "5      [c, h, l, ms, r, s, t, x, y]     [h, l, ms, r, s, t, x, y]  \n",
       "6            [l, ms, r, s, t, x, y]        [l, ms, r, s, t, x, y]  \n",
       "7         [h, l, ms, r, s, t, x, y]        [l, ms, r, s, t, x, y]  \n",
       "8   [c, h, l, ms, q, r, s, t, x, y]  [h, l, ms, q, r, s, t, x, y]  \n",
       "9         [l, ms, q, r, s, t, x, y]        [l, ms, r, s, t, x, y]  \n",
       "10     [h, l, ms, q, r, s, t, x, y]  [h, l, ms, q, r, s, t, x, y]  "
      ]
     },
     "execution_count": 6,
     "metadata": {},
     "output_type": "execute_result"
    }
   ],
   "source": [
    "%%time\n",
    "# Get some basic QC info to determine where the raw data might be messed up\n",
    "# This will typically take at least ~2-3 minutes\n",
    "s.get_game_qc()"
   ]
  },
  {
   "cell_type": "code",
   "execution_count": 7,
   "metadata": {},
   "outputs": [
    {
     "name": "stdout",
     "output_type": "stream",
     "text": [
      "CPU times: user 7.47 ms, sys: 6.26 ms, total: 13.7 ms\n",
      "Wall time: 7.55 ms\n"
     ]
    },
    {
     "data": {
      "text/html": [
       "<div>\n",
       "<style scoped>\n",
       "    .dataframe tbody tr th:only-of-type {\n",
       "        vertical-align: middle;\n",
       "    }\n",
       "\n",
       "    .dataframe tbody tr th {\n",
       "        vertical-align: top;\n",
       "    }\n",
       "\n",
       "    .dataframe thead th {\n",
       "        text-align: right;\n",
       "    }\n",
       "</style>\n",
       "<table border=\"1\" class=\"dataframe\">\n",
       "  <thead>\n",
       "    <tr style=\"text-align: right;\">\n",
       "      <th></th>\n",
       "      <th>playerid</th>\n",
       "      <th>name</th>\n",
       "      <th>team</th>\n",
       "      <th>opponent</th>\n",
       "      <th>game_date</th>\n",
       "      <th>year</th>\n",
       "      <th>playoffs</th>\n",
       "      <th>games</th>\n",
       "      <th>total_points</th>\n",
       "      <th>o_points</th>\n",
       "      <th>...</th>\n",
       "      <th>receptions_dump_pct</th>\n",
       "      <th>completion_huck_pct</th>\n",
       "      <th>attempts_huck_pct</th>\n",
       "      <th>receptions_huck_pct</th>\n",
       "      <th>completion_swing_pct</th>\n",
       "      <th>attempts_swing_pct</th>\n",
       "      <th>receptions_swing_pct</th>\n",
       "      <th>completion_throw_pct</th>\n",
       "      <th>attempts_throw_pct</th>\n",
       "      <th>receptions_throw_pct</th>\n",
       "    </tr>\n",
       "  </thead>\n",
       "  <tbody>\n",
       "    <tr>\n",
       "      <th>0</th>\n",
       "      <td>10141</td>\n",
       "      <td>Sol Yanuck</td>\n",
       "      <td>CAR</td>\n",
       "      <td>ATL</td>\n",
       "      <td>2022-04-29</td>\n",
       "      <td>2022.0</td>\n",
       "      <td>False</td>\n",
       "      <td>1.0</td>\n",
       "      <td>16.0</td>\n",
       "      <td>16.0</td>\n",
       "      <td>...</td>\n",
       "      <td>0.162791</td>\n",
       "      <td>0.5</td>\n",
       "      <td>0.081633</td>\n",
       "      <td>0.000000</td>\n",
       "      <td>1.0</td>\n",
       "      <td>0.204082</td>\n",
       "      <td>0.232558</td>\n",
       "      <td>1.0</td>\n",
       "      <td>0.408163</td>\n",
       "      <td>0.186047</td>\n",
       "    </tr>\n",
       "    <tr>\n",
       "      <th>1</th>\n",
       "      <td>10143</td>\n",
       "      <td>Seth Weaver</td>\n",
       "      <td>CAR</td>\n",
       "      <td>ATL</td>\n",
       "      <td>2022-04-29</td>\n",
       "      <td>2022.0</td>\n",
       "      <td>False</td>\n",
       "      <td>1.0</td>\n",
       "      <td>10.0</td>\n",
       "      <td>0.0</td>\n",
       "      <td>...</td>\n",
       "      <td>0.333333</td>\n",
       "      <td>NaN</td>\n",
       "      <td>0.000000</td>\n",
       "      <td>0.000000</td>\n",
       "      <td>1.0</td>\n",
       "      <td>0.200000</td>\n",
       "      <td>0.000000</td>\n",
       "      <td>1.0</td>\n",
       "      <td>0.400000</td>\n",
       "      <td>0.166667</td>\n",
       "    </tr>\n",
       "    <tr>\n",
       "      <th>2</th>\n",
       "      <td>10147</td>\n",
       "      <td>Terrence Mitchell</td>\n",
       "      <td>CAR</td>\n",
       "      <td>ATL</td>\n",
       "      <td>2022-04-29</td>\n",
       "      <td>2022.0</td>\n",
       "      <td>False</td>\n",
       "      <td>1.0</td>\n",
       "      <td>14.0</td>\n",
       "      <td>14.0</td>\n",
       "      <td>...</td>\n",
       "      <td>0.000000</td>\n",
       "      <td>NaN</td>\n",
       "      <td>0.000000</td>\n",
       "      <td>0.000000</td>\n",
       "      <td>NaN</td>\n",
       "      <td>0.000000</td>\n",
       "      <td>0.000000</td>\n",
       "      <td>1.0</td>\n",
       "      <td>0.250000</td>\n",
       "      <td>0.400000</td>\n",
       "    </tr>\n",
       "    <tr>\n",
       "      <th>3</th>\n",
       "      <td>10149</td>\n",
       "      <td>Henry Fisher</td>\n",
       "      <td>CAR</td>\n",
       "      <td>ATL</td>\n",
       "      <td>2022-04-29</td>\n",
       "      <td>2022.0</td>\n",
       "      <td>False</td>\n",
       "      <td>1.0</td>\n",
       "      <td>11.0</td>\n",
       "      <td>10.0</td>\n",
       "      <td>...</td>\n",
       "      <td>0.000000</td>\n",
       "      <td>1.0</td>\n",
       "      <td>0.083333</td>\n",
       "      <td>0.076923</td>\n",
       "      <td>1.0</td>\n",
       "      <td>0.083333</td>\n",
       "      <td>0.076923</td>\n",
       "      <td>1.0</td>\n",
       "      <td>0.083333</td>\n",
       "      <td>0.384615</td>\n",
       "    </tr>\n",
       "    <tr>\n",
       "      <th>4</th>\n",
       "      <td>10151</td>\n",
       "      <td>William Coffin</td>\n",
       "      <td>CAR</td>\n",
       "      <td>ATL</td>\n",
       "      <td>2022-04-29</td>\n",
       "      <td>2022.0</td>\n",
       "      <td>False</td>\n",
       "      <td>1.0</td>\n",
       "      <td>5.0</td>\n",
       "      <td>0.0</td>\n",
       "      <td>...</td>\n",
       "      <td>NaN</td>\n",
       "      <td>NaN</td>\n",
       "      <td>NaN</td>\n",
       "      <td>NaN</td>\n",
       "      <td>NaN</td>\n",
       "      <td>NaN</td>\n",
       "      <td>NaN</td>\n",
       "      <td>NaN</td>\n",
       "      <td>NaN</td>\n",
       "      <td>NaN</td>\n",
       "    </tr>\n",
       "  </tbody>\n",
       "</table>\n",
       "<p>5 rows × 218 columns</p>\n",
       "</div>"
      ],
      "text/plain": [
       "  playerid               name team opponent   game_date    year  playoffs  \\\n",
       "0    10141         Sol Yanuck  CAR      ATL  2022-04-29  2022.0     False   \n",
       "1    10143        Seth Weaver  CAR      ATL  2022-04-29  2022.0     False   \n",
       "2    10147  Terrence Mitchell  CAR      ATL  2022-04-29  2022.0     False   \n",
       "3    10149       Henry Fisher  CAR      ATL  2022-04-29  2022.0     False   \n",
       "4    10151     William Coffin  CAR      ATL  2022-04-29  2022.0     False   \n",
       "\n",
       "   games  total_points  o_points  ...  receptions_dump_pct  \\\n",
       "0    1.0          16.0      16.0  ...             0.162791   \n",
       "1    1.0          10.0       0.0  ...             0.333333   \n",
       "2    1.0          14.0      14.0  ...             0.000000   \n",
       "3    1.0          11.0      10.0  ...             0.000000   \n",
       "4    1.0           5.0       0.0  ...                  NaN   \n",
       "\n",
       "   completion_huck_pct  attempts_huck_pct  receptions_huck_pct  \\\n",
       "0                  0.5           0.081633             0.000000   \n",
       "1                  NaN           0.000000             0.000000   \n",
       "2                  NaN           0.000000             0.000000   \n",
       "3                  1.0           0.083333             0.076923   \n",
       "4                  NaN                NaN                  NaN   \n",
       "\n",
       "   completion_swing_pct  attempts_swing_pct  receptions_swing_pct  \\\n",
       "0                   1.0            0.204082              0.232558   \n",
       "1                   1.0            0.200000              0.000000   \n",
       "2                   NaN            0.000000              0.000000   \n",
       "3                   1.0            0.083333              0.076923   \n",
       "4                   NaN                 NaN                   NaN   \n",
       "\n",
       "   completion_throw_pct  attempts_throw_pct  receptions_throw_pct  \n",
       "0                   1.0            0.408163              0.186047  \n",
       "1                   1.0            0.400000              0.166667  \n",
       "2                   1.0            0.250000              0.400000  \n",
       "3                   1.0            0.083333              0.384615  \n",
       "4                   NaN                 NaN                   NaN  \n",
       "\n",
       "[5 rows x 218 columns]"
      ]
     },
     "execution_count": 7,
     "metadata": {},
     "output_type": "execute_result"
    }
   ],
   "source": [
    "%%time\n",
    "# Player stats for each separate game\n",
    "s.get_player_stats_by_game().head()"
   ]
  },
  {
   "cell_type": "code",
   "execution_count": 8,
   "metadata": {},
   "outputs": [
    {
     "name": "stdout",
     "output_type": "stream",
     "text": [
      "CPU times: user 7.68 ms, sys: 6.36 ms, total: 14 ms\n",
      "Wall time: 8.13 ms\n"
     ]
    },
    {
     "data": {
      "text/html": [
       "<div>\n",
       "<style scoped>\n",
       "    .dataframe tbody tr th:only-of-type {\n",
       "        vertical-align: middle;\n",
       "    }\n",
       "\n",
       "    .dataframe tbody tr th {\n",
       "        vertical-align: top;\n",
       "    }\n",
       "\n",
       "    .dataframe thead th {\n",
       "        text-align: right;\n",
       "    }\n",
       "</style>\n",
       "<table border=\"1\" class=\"dataframe\">\n",
       "  <thead>\n",
       "    <tr style=\"text-align: right;\">\n",
       "      <th></th>\n",
       "      <th>playerid</th>\n",
       "      <th>name</th>\n",
       "      <th>team</th>\n",
       "      <th>year</th>\n",
       "      <th>games</th>\n",
       "      <th>total_points</th>\n",
       "      <th>o_points</th>\n",
       "      <th>o_point_scores</th>\n",
       "      <th>o_point_noturns</th>\n",
       "      <th>d_points</th>\n",
       "      <th>...</th>\n",
       "      <th>receptions_dump_pct</th>\n",
       "      <th>completion_huck_pct</th>\n",
       "      <th>attempts_huck_pct</th>\n",
       "      <th>receptions_huck_pct</th>\n",
       "      <th>completion_swing_pct</th>\n",
       "      <th>attempts_swing_pct</th>\n",
       "      <th>receptions_swing_pct</th>\n",
       "      <th>completion_throw_pct</th>\n",
       "      <th>attempts_throw_pct</th>\n",
       "      <th>receptions_throw_pct</th>\n",
       "    </tr>\n",
       "  </thead>\n",
       "  <tbody>\n",
       "    <tr>\n",
       "      <th>0</th>\n",
       "      <td>10000</td>\n",
       "      <td>Noah Celuch</td>\n",
       "      <td>PIT</td>\n",
       "      <td>2022.0</td>\n",
       "      <td>2.0</td>\n",
       "      <td>11.0</td>\n",
       "      <td>2.0</td>\n",
       "      <td>1.0</td>\n",
       "      <td>0.0</td>\n",
       "      <td>9.0</td>\n",
       "      <td>...</td>\n",
       "      <td>0.000000</td>\n",
       "      <td>NaN</td>\n",
       "      <td>0.000000</td>\n",
       "      <td>0.0</td>\n",
       "      <td>1.0</td>\n",
       "      <td>0.166667</td>\n",
       "      <td>0.142857</td>\n",
       "      <td>1.00</td>\n",
       "      <td>0.166667</td>\n",
       "      <td>0.428571</td>\n",
       "    </tr>\n",
       "    <tr>\n",
       "      <th>1</th>\n",
       "      <td>10001</td>\n",
       "      <td>Anson Reppermund</td>\n",
       "      <td>PIT</td>\n",
       "      <td>2022.0</td>\n",
       "      <td>1.0</td>\n",
       "      <td>13.0</td>\n",
       "      <td>0.0</td>\n",
       "      <td>0.0</td>\n",
       "      <td>0.0</td>\n",
       "      <td>13.0</td>\n",
       "      <td>...</td>\n",
       "      <td>0.000000</td>\n",
       "      <td>NaN</td>\n",
       "      <td>0.000000</td>\n",
       "      <td>0.0</td>\n",
       "      <td>1.0</td>\n",
       "      <td>0.200000</td>\n",
       "      <td>0.000000</td>\n",
       "      <td>NaN</td>\n",
       "      <td>0.000000</td>\n",
       "      <td>0.500000</td>\n",
       "    </tr>\n",
       "    <tr>\n",
       "      <th>2</th>\n",
       "      <td>10002</td>\n",
       "      <td>Cam Bellando</td>\n",
       "      <td>PIT</td>\n",
       "      <td>2022.0</td>\n",
       "      <td>2.0</td>\n",
       "      <td>19.0</td>\n",
       "      <td>3.0</td>\n",
       "      <td>2.0</td>\n",
       "      <td>1.0</td>\n",
       "      <td>16.0</td>\n",
       "      <td>...</td>\n",
       "      <td>0.200000</td>\n",
       "      <td>0.0</td>\n",
       "      <td>0.142857</td>\n",
       "      <td>0.0</td>\n",
       "      <td>NaN</td>\n",
       "      <td>0.000000</td>\n",
       "      <td>0.100000</td>\n",
       "      <td>0.75</td>\n",
       "      <td>0.571429</td>\n",
       "      <td>0.600000</td>\n",
       "    </tr>\n",
       "    <tr>\n",
       "      <th>3</th>\n",
       "      <td>10003</td>\n",
       "      <td>Thomas Hansen</td>\n",
       "      <td>PIT</td>\n",
       "      <td>2022.0</td>\n",
       "      <td>2.0</td>\n",
       "      <td>11.0</td>\n",
       "      <td>2.0</td>\n",
       "      <td>1.0</td>\n",
       "      <td>0.0</td>\n",
       "      <td>9.0</td>\n",
       "      <td>...</td>\n",
       "      <td>0.000000</td>\n",
       "      <td>NaN</td>\n",
       "      <td>0.000000</td>\n",
       "      <td>0.0</td>\n",
       "      <td>NaN</td>\n",
       "      <td>0.000000</td>\n",
       "      <td>0.000000</td>\n",
       "      <td>NaN</td>\n",
       "      <td>0.000000</td>\n",
       "      <td>1.000000</td>\n",
       "    </tr>\n",
       "    <tr>\n",
       "      <th>4</th>\n",
       "      <td>10004</td>\n",
       "      <td>Andrew Thompson</td>\n",
       "      <td>PIT</td>\n",
       "      <td>2022.0</td>\n",
       "      <td>1.0</td>\n",
       "      <td>6.0</td>\n",
       "      <td>1.0</td>\n",
       "      <td>1.0</td>\n",
       "      <td>1.0</td>\n",
       "      <td>5.0</td>\n",
       "      <td>...</td>\n",
       "      <td>0.333333</td>\n",
       "      <td>NaN</td>\n",
       "      <td>0.000000</td>\n",
       "      <td>0.0</td>\n",
       "      <td>NaN</td>\n",
       "      <td>0.000000</td>\n",
       "      <td>0.333333</td>\n",
       "      <td>0.50</td>\n",
       "      <td>0.666667</td>\n",
       "      <td>0.000000</td>\n",
       "    </tr>\n",
       "  </tbody>\n",
       "</table>\n",
       "<p>5 rows × 215 columns</p>\n",
       "</div>"
      ],
      "text/plain": [
       "  playerid              name team    year  games  total_points  o_points  \\\n",
       "0    10000       Noah Celuch  PIT  2022.0    2.0          11.0       2.0   \n",
       "1    10001  Anson Reppermund  PIT  2022.0    1.0          13.0       0.0   \n",
       "2    10002      Cam Bellando  PIT  2022.0    2.0          19.0       3.0   \n",
       "3    10003     Thomas Hansen  PIT  2022.0    2.0          11.0       2.0   \n",
       "4    10004   Andrew Thompson  PIT  2022.0    1.0           6.0       1.0   \n",
       "\n",
       "   o_point_scores  o_point_noturns  d_points  ...  receptions_dump_pct  \\\n",
       "0             1.0              0.0       9.0  ...             0.000000   \n",
       "1             0.0              0.0      13.0  ...             0.000000   \n",
       "2             2.0              1.0      16.0  ...             0.200000   \n",
       "3             1.0              0.0       9.0  ...             0.000000   \n",
       "4             1.0              1.0       5.0  ...             0.333333   \n",
       "\n",
       "   completion_huck_pct  attempts_huck_pct  receptions_huck_pct  \\\n",
       "0                  NaN           0.000000                  0.0   \n",
       "1                  NaN           0.000000                  0.0   \n",
       "2                  0.0           0.142857                  0.0   \n",
       "3                  NaN           0.000000                  0.0   \n",
       "4                  NaN           0.000000                  0.0   \n",
       "\n",
       "   completion_swing_pct  attempts_swing_pct  receptions_swing_pct  \\\n",
       "0                   1.0            0.166667              0.142857   \n",
       "1                   1.0            0.200000              0.000000   \n",
       "2                   NaN            0.000000              0.100000   \n",
       "3                   NaN            0.000000              0.000000   \n",
       "4                   NaN            0.000000              0.333333   \n",
       "\n",
       "   completion_throw_pct  attempts_throw_pct  receptions_throw_pct  \n",
       "0                  1.00            0.166667              0.428571  \n",
       "1                   NaN            0.000000              0.500000  \n",
       "2                  0.75            0.571429              0.600000  \n",
       "3                   NaN            0.000000              1.000000  \n",
       "4                  0.50            0.666667              0.000000  \n",
       "\n",
       "[5 rows x 215 columns]"
      ]
     },
     "execution_count": 8,
     "metadata": {},
     "output_type": "execute_result"
    }
   ],
   "source": [
    "%%time\n",
    "# Aggregated player stats for the whole season\n",
    "s.get_player_stats_by_season().head()"
   ]
  },
  {
   "cell_type": "code",
   "execution_count": 9,
   "metadata": {},
   "outputs": [
    {
     "name": "stdout",
     "output_type": "stream",
     "text": [
      "CPU times: user 275 ms, sys: 60.1 ms, total: 335 ms\n",
      "Wall time: 477 ms\n"
     ]
    },
    {
     "data": {
      "application/vnd.plotly.v1+json": {
       "config": {
        "plotlyServerURL": "https://plot.ly"
       },
       "data": [
        {
         "colorbar": {
          "len": 0.9,
          "lenmode": "fraction",
          "tickfont": {
           "color": "black"
          },
          "tickformat": ".0,",
          "ticklabelposition": "inside bottom",
          "x": 0,
          "xanchor": "right",
          "y": 0.9,
          "yanchor": "top"
         },
         "colorscale": [
          [
           0,
           "rgb(12,51,131)"
          ],
          [
           0.25,
           "rgb(10,136,186)"
          ],
          [
           0.5,
           "rgb(242,211,56)"
          ],
          [
           0.75,
           "rgb(242,143,56)"
          ],
          [
           1,
           "rgb(217,30,30)"
          ]
         ],
         "connectgaps": false,
         "customdata": [
          "Total Touches: 1<br># of Completions: 1<br>Completion Pct: 100.0%<br>Avg Sideways Yards: 8.3<br>Avg Downfield Yards: -1.4",
          "Total Touches: 30<br># of Completions: 28<br>Completion Pct: 93.3%<br>Avg Sideways Yards: 10.8<br>Avg Downfield Yards: 9.2",
          "Total Touches: 55<br># of Completions: 51<br>Completion Pct: 92.7%<br>Avg Sideways Yards: 13.2<br>Avg Downfield Yards: 8.1",
          "Total Touches: 90<br># of Completions: 81<br>Completion Pct: 90.0%<br>Avg Sideways Yards: 11.3<br>Avg Downfield Yards: 6.9",
          "Total Touches: 83<br># of Completions: 74<br>Completion Pct: 89.2%<br>Avg Sideways Yards: 11.3<br>Avg Downfield Yards: 6.7",
          "Total Touches: 95<br># of Completions: 82<br>Completion Pct: 86.3%<br>Avg Sideways Yards: 10.9<br>Avg Downfield Yards: 5.6",
          "Total Touches: 87<br># of Completions: 76<br>Completion Pct: 87.4%<br>Avg Sideways Yards: 11.5<br>Avg Downfield Yards: 4.2",
          "Total Touches: 108<br># of Completions: 101<br>Completion Pct: 93.5%<br>Avg Sideways Yards: 9.8<br>Avg Downfield Yards: 4.4",
          "Total Touches: 101<br># of Completions: 90<br>Completion Pct: 89.1%<br>Avg Sideways Yards: 10.1<br>Avg Downfield Yards: 2.7",
          "Total Touches: 38<br># of Completions: 36<br>Completion Pct: 94.7%<br>Avg Sideways Yards: 9.6<br>Avg Downfield Yards: 5.5",
          "Total Touches: 0<br># of Completions: 0",
          "Total Touches: 0<br># of Completions: 0",
          "Total Touches: 6<br># of Completions: 6<br>Completion Pct: 100.0%<br>Avg Sideways Yards: 9.7<br>Avg Downfield Yards: 8.3",
          "Total Touches: 48<br># of Completions: 46<br>Completion Pct: 95.8%<br>Avg Sideways Yards: 9.1<br>Avg Downfield Yards: 9.3",
          "Total Touches: 139<br># of Completions: 132<br>Completion Pct: 95.0%<br>Avg Sideways Yards: 10.2<br>Avg Downfield Yards: 6.7",
          "Total Touches: 175<br># of Completions: 168<br>Completion Pct: 96.0%<br>Avg Sideways Yards: 10.3<br>Avg Downfield Yards: 7.4",
          "Total Touches: 180<br># of Completions: 167<br>Completion Pct: 92.8%<br>Avg Sideways Yards: 9.7<br>Avg Downfield Yards: 8.5",
          "Total Touches: 136<br># of Completions: 130<br>Completion Pct: 95.6%<br>Avg Sideways Yards: 9.0<br>Avg Downfield Yards: 8.7",
          "Total Touches: 146<br># of Completions: 135<br>Completion Pct: 92.5%<br>Avg Sideways Yards: 9.2<br>Avg Downfield Yards: 6.3",
          "Total Touches: 163<br># of Completions: 151<br>Completion Pct: 92.6%<br>Avg Sideways Yards: 8.8<br>Avg Downfield Yards: 5.7",
          "Total Touches: 128<br># of Completions: 123<br>Completion Pct: 96.1%<br>Avg Sideways Yards: 8.5<br>Avg Downfield Yards: 5.0",
          "Total Touches: 53<br># of Completions: 49<br>Completion Pct: 92.5%<br>Avg Sideways Yards: 9.1<br>Avg Downfield Yards: 6.6",
          "Total Touches: 0<br># of Completions: 0",
          "Total Touches: 0<br># of Completions: 0",
          "Total Touches: 17<br># of Completions: 17<br>Completion Pct: 100.0%<br>Avg Sideways Yards: 5.3<br>Avg Downfield Yards: 15.1",
          "Total Touches: 89<br># of Completions: 85<br>Completion Pct: 95.5%<br>Avg Sideways Yards: 8.9<br>Avg Downfield Yards: 10.0",
          "Total Touches: 229<br># of Completions: 217<br>Completion Pct: 94.8%<br>Avg Sideways Yards: 10.5<br>Avg Downfield Yards: 8.9",
          "Total Touches: 340<br># of Completions: 325<br>Completion Pct: 95.6%<br>Avg Sideways Yards: 11.1<br>Avg Downfield Yards: 7.7",
          "Total Touches: 256<br># of Completions: 237<br>Completion Pct: 92.6%<br>Avg Sideways Yards: 10.5<br>Avg Downfield Yards: 8.8",
          "Total Touches: 197<br># of Completions: 188<br>Completion Pct: 95.4%<br>Avg Sideways Yards: 10.0<br>Avg Downfield Yards: 9.3",
          "Total Touches: 179<br># of Completions: 168<br>Completion Pct: 93.9%<br>Avg Sideways Yards: 10.4<br>Avg Downfield Yards: 6.7",
          "Total Touches: 148<br># of Completions: 137<br>Completion Pct: 92.6%<br>Avg Sideways Yards: 10.9<br>Avg Downfield Yards: 6.5",
          "Total Touches: 117<br># of Completions: 111<br>Completion Pct: 94.9%<br>Avg Sideways Yards: 10.6<br>Avg Downfield Yards: 5.0",
          "Total Touches: 60<br># of Completions: 56<br>Completion Pct: 93.3%<br>Avg Sideways Yards: 8.6<br>Avg Downfield Yards: 3.0",
          "Total Touches: 0<br># of Completions: 0",
          "Total Touches: 0<br># of Completions: 0",
          "Total Touches: 14<br># of Completions: 14<br>Completion Pct: 100.0%<br>Avg Sideways Yards: 9.2<br>Avg Downfield Yards: 15.1",
          "Total Touches: 90<br># of Completions: 89<br>Completion Pct: 98.9%<br>Avg Sideways Yards: 9.4<br>Avg Downfield Yards: 10.8",
          "Total Touches: 143<br># of Completions: 133<br>Completion Pct: 93.0%<br>Avg Sideways Yards: 8.7<br>Avg Downfield Yards: 8.2",
          "Total Touches: 179<br># of Completions: 171<br>Completion Pct: 95.5%<br>Avg Sideways Yards: 9.3<br>Avg Downfield Yards: 9.0",
          "Total Touches: 182<br># of Completions: 169<br>Completion Pct: 92.9%<br>Avg Sideways Yards: 10.0<br>Avg Downfield Yards: 9.0",
          "Total Touches: 169<br># of Completions: 160<br>Completion Pct: 94.7%<br>Avg Sideways Yards: 10.1<br>Avg Downfield Yards: 10.9",
          "Total Touches: 160<br># of Completions: 149<br>Completion Pct: 93.1%<br>Avg Sideways Yards: 9.3<br>Avg Downfield Yards: 8.2",
          "Total Touches: 169<br># of Completions: 152<br>Completion Pct: 89.9%<br>Avg Sideways Yards: 10.7<br>Avg Downfield Yards: 8.0",
          "Total Touches: 100<br># of Completions: 95<br>Completion Pct: 95.0%<br>Avg Sideways Yards: 10.5<br>Avg Downfield Yards: 7.1",
          "Total Touches: 53<br># of Completions: 51<br>Completion Pct: 96.2%<br>Avg Sideways Yards: 8.9<br>Avg Downfield Yards: 4.3",
          "Total Touches: 0<br># of Completions: 0",
          "Total Touches: 0<br># of Completions: 0",
          "Total Touches: 5<br># of Completions: 5<br>Completion Pct: 100.0%<br>Avg Sideways Yards: 15.2<br>Avg Downfield Yards: 11.5",
          "Total Touches: 32<br># of Completions: 28<br>Completion Pct: 87.5%<br>Avg Sideways Yards: 10.8<br>Avg Downfield Yards: 8.8",
          "Total Touches: 64<br># of Completions: 59<br>Completion Pct: 92.2%<br>Avg Sideways Yards: 12.3<br>Avg Downfield Yards: 9.5",
          "Total Touches: 83<br># of Completions: 73<br>Completion Pct: 88.0%<br>Avg Sideways Yards: 9.9<br>Avg Downfield Yards: 8.6",
          "Total Touches: 128<br># of Completions: 108<br>Completion Pct: 84.4%<br>Avg Sideways Yards: 9.7<br>Avg Downfield Yards: 6.6",
          "Total Touches: 101<br># of Completions: 89<br>Completion Pct: 88.1%<br>Avg Sideways Yards: 10.4<br>Avg Downfield Yards: 5.9",
          "Total Touches: 101<br># of Completions: 91<br>Completion Pct: 90.1%<br>Avg Sideways Yards: 8.9<br>Avg Downfield Yards: 7.3",
          "Total Touches: 105<br># of Completions: 96<br>Completion Pct: 91.4%<br>Avg Sideways Yards: 11.4<br>Avg Downfield Yards: 4.6",
          "Total Touches: 97<br># of Completions: 90<br>Completion Pct: 92.8%<br>Avg Sideways Yards: 9.2<br>Avg Downfield Yards: 6.9",
          "Total Touches: 60<br># of Completions: 57<br>Completion Pct: 95.0%<br>Avg Sideways Yards: 10.7<br>Avg Downfield Yards: 3.1",
          "Total Touches: 0<br># of Completions: 0",
          "Total Touches: 0<br># of Completions: 0"
         ],
         "hovertemplate": "%{customdata}<extra></extra>",
         "reversescale": false,
         "showscale": true,
         "type": "heatmap",
         "x": [
          0,
          0,
          0,
          0,
          0,
          0,
          0,
          0,
          0,
          0,
          0,
          0,
          1,
          1,
          1,
          1,
          1,
          1,
          1,
          1,
          1,
          1,
          1,
          1,
          2,
          2,
          2,
          2,
          2,
          2,
          2,
          2,
          2,
          2,
          2,
          2,
          3,
          3,
          3,
          3,
          3,
          3,
          3,
          3,
          3,
          3,
          3,
          3,
          4,
          4,
          4,
          4,
          4,
          4,
          4,
          4,
          4,
          4,
          4,
          4
         ],
         "xaxis": "x3",
         "y": [
          0,
          1,
          2,
          3,
          4,
          5,
          6,
          7,
          8,
          9,
          10,
          11,
          0,
          1,
          2,
          3,
          4,
          5,
          6,
          7,
          8,
          9,
          10,
          11,
          0,
          1,
          2,
          3,
          4,
          5,
          6,
          7,
          8,
          9,
          10,
          11,
          0,
          1,
          2,
          3,
          4,
          5,
          6,
          7,
          8,
          9,
          10,
          11,
          0,
          1,
          2,
          3,
          4,
          5,
          6,
          7,
          8,
          9,
          10,
          11
         ],
         "yaxis": "y3",
         "z": [
          1,
          28,
          51,
          81,
          74,
          82,
          76,
          101,
          90,
          36,
          0,
          0,
          6,
          46,
          132,
          168,
          167,
          130,
          135,
          151,
          123,
          49,
          0,
          0,
          17,
          85,
          217,
          325,
          237,
          188,
          168,
          137,
          111,
          56,
          0,
          0,
          14,
          89,
          133,
          171,
          169,
          160,
          149,
          152,
          95,
          51,
          0,
          0,
          5,
          28,
          59,
          73,
          108,
          89,
          91,
          96,
          90,
          57,
          0,
          0
         ],
         "zauto": true,
         "zsmooth": "best"
        },
        {
         "alignmentgroup": "True",
         "bingroup": "y",
         "histfunc": "sum",
         "hovertemplate": "Completions:<br>%{x}<br><extra></extra>",
         "legendgroup": "",
         "marker": {
          "color": "#1F77B4",
          "opacity": 0.5,
          "pattern": {
           "shape": ""
          }
         },
         "name": "",
         "nbinsy": 12,
         "offsetgroup": "",
         "orientation": "h",
         "showlegend": false,
         "type": "histogram",
         "x": [
          1,
          28,
          51,
          81,
          74,
          82,
          76,
          101,
          90,
          36,
          0,
          0,
          6,
          46,
          132,
          168,
          167,
          130,
          135,
          151,
          123,
          49,
          0,
          0,
          17,
          85,
          217,
          325,
          237,
          188,
          168,
          137,
          111,
          56,
          0,
          0,
          14,
          89,
          133,
          171,
          169,
          160,
          149,
          152,
          95,
          51,
          0,
          0,
          5,
          28,
          59,
          73,
          108,
          89,
          91,
          96,
          90,
          57,
          0,
          0
         ],
         "xaxis": "x4",
         "y": [
          0,
          1,
          2,
          3,
          4,
          5,
          6,
          7,
          8,
          9,
          10,
          11,
          0,
          1,
          2,
          3,
          4,
          5,
          6,
          7,
          8,
          9,
          10,
          11,
          0,
          1,
          2,
          3,
          4,
          5,
          6,
          7,
          8,
          9,
          10,
          11,
          0,
          1,
          2,
          3,
          4,
          5,
          6,
          7,
          8,
          9,
          10,
          11,
          0,
          1,
          2,
          3,
          4,
          5,
          6,
          7,
          8,
          9,
          10,
          11
         ],
         "yaxis": "y4"
        },
        {
         "alignmentgroup": "True",
         "bingroup": "x",
         "histfunc": "sum",
         "hovertemplate": "Completions:<br>%{y}<br><extra></extra>",
         "legendgroup": "",
         "marker": {
          "color": "#1F77B4",
          "opacity": 0.5,
          "pattern": {
           "shape": ""
          }
         },
         "name": "",
         "nbinsx": 5,
         "offsetgroup": "",
         "orientation": "v",
         "showlegend": false,
         "type": "histogram",
         "x": [
          0,
          0,
          0,
          0,
          0,
          0,
          0,
          0,
          0,
          0,
          0,
          0,
          1,
          1,
          1,
          1,
          1,
          1,
          1,
          1,
          1,
          1,
          1,
          1,
          2,
          2,
          2,
          2,
          2,
          2,
          2,
          2,
          2,
          2,
          2,
          2,
          3,
          3,
          3,
          3,
          3,
          3,
          3,
          3,
          3,
          3,
          3,
          3,
          4,
          4,
          4,
          4,
          4,
          4,
          4,
          4,
          4,
          4,
          4,
          4
         ],
         "xaxis": "x",
         "y": [
          1,
          28,
          51,
          81,
          74,
          82,
          76,
          101,
          90,
          36,
          0,
          0,
          6,
          46,
          132,
          168,
          167,
          130,
          135,
          151,
          123,
          49,
          0,
          0,
          17,
          85,
          217,
          325,
          237,
          188,
          168,
          137,
          111,
          56,
          0,
          0,
          14,
          89,
          133,
          171,
          169,
          160,
          149,
          152,
          95,
          51,
          0,
          0,
          5,
          28,
          59,
          73,
          108,
          89,
          91,
          96,
          90,
          57,
          0,
          0
         ],
         "yaxis": "y"
        }
       ],
       "layout": {
        "font": {
         "family": "TW Cen MT"
        },
        "hoverlabel": {
         "font": {
          "family": "TW Cen MT"
         }
        },
        "margin": {
         "autoexpand": false,
         "b": 20,
         "l": 40,
         "r": 0,
         "t": 0
        },
        "paper_bgcolor": "rgba(0,0,0,0)",
        "plot_bgcolor": "rgba(0,0,0,0)",
        "shapes": [
         {
          "line": {
           "color": "black"
          },
          "type": "line",
          "x0": 0,
          "x1": 0.8,
          "xref": "paper",
          "y0": 0,
          "y1": 0,
          "yref": "paper"
         },
         {
          "line": {
           "color": "black"
          },
          "type": "line",
          "x0": 0,
          "x1": 0.8,
          "xref": "paper",
          "y0": 0.15,
          "y1": 0.15,
          "yref": "paper"
         },
         {
          "line": {
           "color": "black"
          },
          "type": "line",
          "x0": 0,
          "x1": 0.8,
          "xref": "paper",
          "y0": 0.75,
          "y1": 0.75,
          "yref": "paper"
         },
         {
          "line": {
           "color": "black"
          },
          "type": "line",
          "x0": 0,
          "x1": 0.8,
          "xref": "paper",
          "y0": 0.9,
          "y1": 0.9,
          "yref": "paper"
         },
         {
          "line": {
           "color": "black"
          },
          "type": "line",
          "x0": 0,
          "x1": 0,
          "xref": "paper",
          "y0": 0,
          "y1": 0.9,
          "yref": "paper"
         },
         {
          "line": {
           "color": "black"
          },
          "type": "line",
          "x0": 0.8,
          "x1": 0.8,
          "xref": "paper",
          "y0": 0,
          "y1": 0.9,
          "yref": "paper"
         }
        ],
        "template": {
         "data": {
          "bar": [
           {
            "error_x": {
             "color": "#2a3f5f"
            },
            "error_y": {
             "color": "#2a3f5f"
            },
            "marker": {
             "line": {
              "color": "#E5ECF6",
              "width": 0.5
             },
             "pattern": {
              "fillmode": "overlay",
              "size": 10,
              "solidity": 0.2
             }
            },
            "type": "bar"
           }
          ],
          "barpolar": [
           {
            "marker": {
             "line": {
              "color": "#E5ECF6",
              "width": 0.5
             },
             "pattern": {
              "fillmode": "overlay",
              "size": 10,
              "solidity": 0.2
             }
            },
            "type": "barpolar"
           }
          ],
          "carpet": [
           {
            "aaxis": {
             "endlinecolor": "#2a3f5f",
             "gridcolor": "white",
             "linecolor": "white",
             "minorgridcolor": "white",
             "startlinecolor": "#2a3f5f"
            },
            "baxis": {
             "endlinecolor": "#2a3f5f",
             "gridcolor": "white",
             "linecolor": "white",
             "minorgridcolor": "white",
             "startlinecolor": "#2a3f5f"
            },
            "type": "carpet"
           }
          ],
          "choropleth": [
           {
            "colorbar": {
             "outlinewidth": 0,
             "ticks": ""
            },
            "type": "choropleth"
           }
          ],
          "contour": [
           {
            "colorbar": {
             "outlinewidth": 0,
             "ticks": ""
            },
            "colorscale": [
             [
              0,
              "#0d0887"
             ],
             [
              0.1111111111111111,
              "#46039f"
             ],
             [
              0.2222222222222222,
              "#7201a8"
             ],
             [
              0.3333333333333333,
              "#9c179e"
             ],
             [
              0.4444444444444444,
              "#bd3786"
             ],
             [
              0.5555555555555556,
              "#d8576b"
             ],
             [
              0.6666666666666666,
              "#ed7953"
             ],
             [
              0.7777777777777778,
              "#fb9f3a"
             ],
             [
              0.8888888888888888,
              "#fdca26"
             ],
             [
              1,
              "#f0f921"
             ]
            ],
            "type": "contour"
           }
          ],
          "contourcarpet": [
           {
            "colorbar": {
             "outlinewidth": 0,
             "ticks": ""
            },
            "type": "contourcarpet"
           }
          ],
          "heatmap": [
           {
            "colorbar": {
             "outlinewidth": 0,
             "ticks": ""
            },
            "colorscale": [
             [
              0,
              "#0d0887"
             ],
             [
              0.1111111111111111,
              "#46039f"
             ],
             [
              0.2222222222222222,
              "#7201a8"
             ],
             [
              0.3333333333333333,
              "#9c179e"
             ],
             [
              0.4444444444444444,
              "#bd3786"
             ],
             [
              0.5555555555555556,
              "#d8576b"
             ],
             [
              0.6666666666666666,
              "#ed7953"
             ],
             [
              0.7777777777777778,
              "#fb9f3a"
             ],
             [
              0.8888888888888888,
              "#fdca26"
             ],
             [
              1,
              "#f0f921"
             ]
            ],
            "type": "heatmap"
           }
          ],
          "heatmapgl": [
           {
            "colorbar": {
             "outlinewidth": 0,
             "ticks": ""
            },
            "colorscale": [
             [
              0,
              "#0d0887"
             ],
             [
              0.1111111111111111,
              "#46039f"
             ],
             [
              0.2222222222222222,
              "#7201a8"
             ],
             [
              0.3333333333333333,
              "#9c179e"
             ],
             [
              0.4444444444444444,
              "#bd3786"
             ],
             [
              0.5555555555555556,
              "#d8576b"
             ],
             [
              0.6666666666666666,
              "#ed7953"
             ],
             [
              0.7777777777777778,
              "#fb9f3a"
             ],
             [
              0.8888888888888888,
              "#fdca26"
             ],
             [
              1,
              "#f0f921"
             ]
            ],
            "type": "heatmapgl"
           }
          ],
          "histogram": [
           {
            "marker": {
             "pattern": {
              "fillmode": "overlay",
              "size": 10,
              "solidity": 0.2
             }
            },
            "type": "histogram"
           }
          ],
          "histogram2d": [
           {
            "colorbar": {
             "outlinewidth": 0,
             "ticks": ""
            },
            "colorscale": [
             [
              0,
              "#0d0887"
             ],
             [
              0.1111111111111111,
              "#46039f"
             ],
             [
              0.2222222222222222,
              "#7201a8"
             ],
             [
              0.3333333333333333,
              "#9c179e"
             ],
             [
              0.4444444444444444,
              "#bd3786"
             ],
             [
              0.5555555555555556,
              "#d8576b"
             ],
             [
              0.6666666666666666,
              "#ed7953"
             ],
             [
              0.7777777777777778,
              "#fb9f3a"
             ],
             [
              0.8888888888888888,
              "#fdca26"
             ],
             [
              1,
              "#f0f921"
             ]
            ],
            "type": "histogram2d"
           }
          ],
          "histogram2dcontour": [
           {
            "colorbar": {
             "outlinewidth": 0,
             "ticks": ""
            },
            "colorscale": [
             [
              0,
              "#0d0887"
             ],
             [
              0.1111111111111111,
              "#46039f"
             ],
             [
              0.2222222222222222,
              "#7201a8"
             ],
             [
              0.3333333333333333,
              "#9c179e"
             ],
             [
              0.4444444444444444,
              "#bd3786"
             ],
             [
              0.5555555555555556,
              "#d8576b"
             ],
             [
              0.6666666666666666,
              "#ed7953"
             ],
             [
              0.7777777777777778,
              "#fb9f3a"
             ],
             [
              0.8888888888888888,
              "#fdca26"
             ],
             [
              1,
              "#f0f921"
             ]
            ],
            "type": "histogram2dcontour"
           }
          ],
          "mesh3d": [
           {
            "colorbar": {
             "outlinewidth": 0,
             "ticks": ""
            },
            "type": "mesh3d"
           }
          ],
          "parcoords": [
           {
            "line": {
             "colorbar": {
              "outlinewidth": 0,
              "ticks": ""
             }
            },
            "type": "parcoords"
           }
          ],
          "pie": [
           {
            "automargin": true,
            "type": "pie"
           }
          ],
          "scatter": [
           {
            "fillpattern": {
             "fillmode": "overlay",
             "size": 10,
             "solidity": 0.2
            },
            "type": "scatter"
           }
          ],
          "scatter3d": [
           {
            "line": {
             "colorbar": {
              "outlinewidth": 0,
              "ticks": ""
             }
            },
            "marker": {
             "colorbar": {
              "outlinewidth": 0,
              "ticks": ""
             }
            },
            "type": "scatter3d"
           }
          ],
          "scattercarpet": [
           {
            "marker": {
             "colorbar": {
              "outlinewidth": 0,
              "ticks": ""
             }
            },
            "type": "scattercarpet"
           }
          ],
          "scattergeo": [
           {
            "marker": {
             "colorbar": {
              "outlinewidth": 0,
              "ticks": ""
             }
            },
            "type": "scattergeo"
           }
          ],
          "scattergl": [
           {
            "marker": {
             "colorbar": {
              "outlinewidth": 0,
              "ticks": ""
             }
            },
            "type": "scattergl"
           }
          ],
          "scattermapbox": [
           {
            "marker": {
             "colorbar": {
              "outlinewidth": 0,
              "ticks": ""
             }
            },
            "type": "scattermapbox"
           }
          ],
          "scatterpolar": [
           {
            "marker": {
             "colorbar": {
              "outlinewidth": 0,
              "ticks": ""
             }
            },
            "type": "scatterpolar"
           }
          ],
          "scatterpolargl": [
           {
            "marker": {
             "colorbar": {
              "outlinewidth": 0,
              "ticks": ""
             }
            },
            "type": "scatterpolargl"
           }
          ],
          "scatterternary": [
           {
            "marker": {
             "colorbar": {
              "outlinewidth": 0,
              "ticks": ""
             }
            },
            "type": "scatterternary"
           }
          ],
          "surface": [
           {
            "colorbar": {
             "outlinewidth": 0,
             "ticks": ""
            },
            "colorscale": [
             [
              0,
              "#0d0887"
             ],
             [
              0.1111111111111111,
              "#46039f"
             ],
             [
              0.2222222222222222,
              "#7201a8"
             ],
             [
              0.3333333333333333,
              "#9c179e"
             ],
             [
              0.4444444444444444,
              "#bd3786"
             ],
             [
              0.5555555555555556,
              "#d8576b"
             ],
             [
              0.6666666666666666,
              "#ed7953"
             ],
             [
              0.7777777777777778,
              "#fb9f3a"
             ],
             [
              0.8888888888888888,
              "#fdca26"
             ],
             [
              1,
              "#f0f921"
             ]
            ],
            "type": "surface"
           }
          ],
          "table": [
           {
            "cells": {
             "fill": {
              "color": "#EBF0F8"
             },
             "line": {
              "color": "white"
             }
            },
            "header": {
             "fill": {
              "color": "#C8D4E3"
             },
             "line": {
              "color": "white"
             }
            },
            "type": "table"
           }
          ]
         },
         "layout": {
          "annotationdefaults": {
           "arrowcolor": "#2a3f5f",
           "arrowhead": 0,
           "arrowwidth": 1
          },
          "autotypenumbers": "strict",
          "coloraxis": {
           "colorbar": {
            "outlinewidth": 0,
            "ticks": ""
           }
          },
          "colorscale": {
           "diverging": [
            [
             0,
             "#8e0152"
            ],
            [
             0.1,
             "#c51b7d"
            ],
            [
             0.2,
             "#de77ae"
            ],
            [
             0.3,
             "#f1b6da"
            ],
            [
             0.4,
             "#fde0ef"
            ],
            [
             0.5,
             "#f7f7f7"
            ],
            [
             0.6,
             "#e6f5d0"
            ],
            [
             0.7,
             "#b8e186"
            ],
            [
             0.8,
             "#7fbc41"
            ],
            [
             0.9,
             "#4d9221"
            ],
            [
             1,
             "#276419"
            ]
           ],
           "sequential": [
            [
             0,
             "#0d0887"
            ],
            [
             0.1111111111111111,
             "#46039f"
            ],
            [
             0.2222222222222222,
             "#7201a8"
            ],
            [
             0.3333333333333333,
             "#9c179e"
            ],
            [
             0.4444444444444444,
             "#bd3786"
            ],
            [
             0.5555555555555556,
             "#d8576b"
            ],
            [
             0.6666666666666666,
             "#ed7953"
            ],
            [
             0.7777777777777778,
             "#fb9f3a"
            ],
            [
             0.8888888888888888,
             "#fdca26"
            ],
            [
             1,
             "#f0f921"
            ]
           ],
           "sequentialminus": [
            [
             0,
             "#0d0887"
            ],
            [
             0.1111111111111111,
             "#46039f"
            ],
            [
             0.2222222222222222,
             "#7201a8"
            ],
            [
             0.3333333333333333,
             "#9c179e"
            ],
            [
             0.4444444444444444,
             "#bd3786"
            ],
            [
             0.5555555555555556,
             "#d8576b"
            ],
            [
             0.6666666666666666,
             "#ed7953"
            ],
            [
             0.7777777777777778,
             "#fb9f3a"
            ],
            [
             0.8888888888888888,
             "#fdca26"
            ],
            [
             1,
             "#f0f921"
            ]
           ]
          },
          "colorway": [
           "#636efa",
           "#EF553B",
           "#00cc96",
           "#ab63fa",
           "#FFA15A",
           "#19d3f3",
           "#FF6692",
           "#B6E880",
           "#FF97FF",
           "#FECB52"
          ],
          "font": {
           "color": "#2a3f5f"
          },
          "geo": {
           "bgcolor": "white",
           "lakecolor": "white",
           "landcolor": "#E5ECF6",
           "showlakes": true,
           "showland": true,
           "subunitcolor": "white"
          },
          "hoverlabel": {
           "align": "left"
          },
          "hovermode": "closest",
          "mapbox": {
           "style": "light"
          },
          "paper_bgcolor": "white",
          "plot_bgcolor": "#E5ECF6",
          "polar": {
           "angularaxis": {
            "gridcolor": "white",
            "linecolor": "white",
            "ticks": ""
           },
           "bgcolor": "#E5ECF6",
           "radialaxis": {
            "gridcolor": "white",
            "linecolor": "white",
            "ticks": ""
           }
          },
          "scene": {
           "xaxis": {
            "backgroundcolor": "#E5ECF6",
            "gridcolor": "white",
            "gridwidth": 2,
            "linecolor": "white",
            "showbackground": true,
            "ticks": "",
            "zerolinecolor": "white"
           },
           "yaxis": {
            "backgroundcolor": "#E5ECF6",
            "gridcolor": "white",
            "gridwidth": 2,
            "linecolor": "white",
            "showbackground": true,
            "ticks": "",
            "zerolinecolor": "white"
           },
           "zaxis": {
            "backgroundcolor": "#E5ECF6",
            "gridcolor": "white",
            "gridwidth": 2,
            "linecolor": "white",
            "showbackground": true,
            "ticks": "",
            "zerolinecolor": "white"
           }
          },
          "shapedefaults": {
           "line": {
            "color": "#2a3f5f"
           }
          },
          "ternary": {
           "aaxis": {
            "gridcolor": "white",
            "linecolor": "white",
            "ticks": ""
           },
           "baxis": {
            "gridcolor": "white",
            "linecolor": "white",
            "ticks": ""
           },
           "bgcolor": "#E5ECF6",
           "caxis": {
            "gridcolor": "white",
            "linecolor": "white",
            "ticks": ""
           }
          },
          "title": {
           "x": 0.05
          },
          "xaxis": {
           "automargin": true,
           "gridcolor": "white",
           "linecolor": "white",
           "ticks": "",
           "title": {
            "standoff": 15
           },
           "zerolinecolor": "white",
           "zerolinewidth": 2
          },
          "yaxis": {
           "automargin": true,
           "gridcolor": "white",
           "linecolor": "white",
           "ticks": "",
           "title": {
            "standoff": 15
           },
           "zerolinecolor": "white",
           "zerolinewidth": 2
          }
         }
        },
        "xaxis": {
         "anchor": "y",
         "domain": [
          0,
          0.8
         ],
         "fixedrange": true,
         "matches": "x3",
         "showgrid": false,
         "showticklabels": false,
         "ticks": "",
         "zeroline": false
        },
        "xaxis2": {
         "anchor": "y2",
         "domain": [
          0.8,
          1
         ],
         "matches": "x4",
         "showticklabels": false
        },
        "xaxis3": {
         "anchor": "y3",
         "domain": [
          0,
          0.8
         ],
         "fixedrange": true,
         "showgrid": false,
         "showticklabels": false,
         "ticks": "",
         "zeroline": false
        },
        "xaxis4": {
         "anchor": "y4",
         "domain": [
          0.8,
          1
         ],
         "fixedrange": true,
         "showgrid": false,
         "showticklabels": false,
         "ticks": "",
         "zeroline": false
        },
        "yaxis": {
         "anchor": "x",
         "domain": [
          0.9,
          1
         ],
         "fixedrange": true,
         "showgrid": false,
         "showticklabels": false,
         "ticks": "",
         "zeroline": false
        },
        "yaxis2": {
         "anchor": "x2",
         "domain": [
          0.9,
          1
         ],
         "matches": "y",
         "showticklabels": false
        },
        "yaxis3": {
         "anchor": "x3",
         "domain": [
          0,
          0.9
         ],
         "fixedrange": true,
         "showgrid": false,
         "showticklabels": false,
         "ticks": "",
         "zeroline": false
        },
        "yaxis4": {
         "anchor": "x4",
         "domain": [
          0,
          0.9
         ],
         "fixedrange": true,
         "matches": "y3",
         "showgrid": false,
         "showticklabels": false,
         "ticks": "",
         "zeroline": false
        }
       }
      }
     },
     "metadata": {},
     "output_type": "display_data"
    }
   ],
   "source": [
    "%%time\n",
    "# Heatmap and histograms\n",
    "fighm, fighy, fighx = s.visual_field_heatmap_vertical(\n",
    "    outcome_measure=\"throw_outcome\",\n",
    "    outcome=\"Completion\",\n",
    "    metric=\"count\"\n",
    ")\n",
    "\n",
    "# Combine heatmap and histograms into single plot\n",
    "# The aspect ratio is weird here because it's handled in the app using html/css\n",
    "s.visual_field_heatmap_subplots_vertical(fighm, fighx, fighy)"
   ]
  },
  {
   "cell_type": "markdown",
   "metadata": {},
   "source": [
    "## Game\n",
    "\n",
    "This section will go through the `Game` class using the first game of the season (DC at NY) as an example."
   ]
  },
  {
   "cell_type": "code",
   "execution_count": 10,
   "metadata": {},
   "outputs": [
    {
     "name": "stderr",
     "output_type": "stream",
     "text": [
      "/Users/johnlithio/Documents/AUDL-Advanced-Stats/audl_advanced_stats/game.py:2380: FutureWarning:\n",
      "\n",
      "Dropping of nuisance columns in DataFrame reductions (with 'numeric_only=None') is deprecated; in a future version this will raise TypeError.  Select only valid columns before calling the reduction.\n",
      "\n",
      "/Users/johnlithio/Documents/AUDL-Advanced-Stats/audl_advanced_stats/game.py:2781: FutureWarning:\n",
      "\n",
      "Dropping of nuisance columns in DataFrame reductions (with 'numeric_only=None') is deprecated; in a future version this will raise TypeError.  Select only valid columns before calling the reduction.\n",
      "\n"
     ]
    },
    {
     "data": {
      "text/html": [
       "<div>\n",
       "<style scoped>\n",
       "    .dataframe tbody tr th:only-of-type {\n",
       "        vertical-align: middle;\n",
       "    }\n",
       "\n",
       "    .dataframe tbody tr th {\n",
       "        vertical-align: top;\n",
       "    }\n",
       "\n",
       "    .dataframe thead th {\n",
       "        text-align: right;\n",
       "    }\n",
       "</style>\n",
       "<table border=\"1\" class=\"dataframe\">\n",
       "  <thead>\n",
       "    <tr style=\"text-align: right;\">\n",
       "      <th></th>\n",
       "      <th>o_possession_scores</th>\n",
       "      <th>d_possessions</th>\n",
       "      <th>d_possession_scores_allowed</th>\n",
       "      <th>possessions_team</th>\n",
       "      <th>o_possessions_team</th>\n",
       "      <th>d_possessions_team</th>\n",
       "      <th>minutes_played</th>\n",
       "      <th>throwaways</th>\n",
       "      <th>completions</th>\n",
       "      <th>receptions</th>\n",
       "      <th>drops</th>\n",
       "      <th>stalls</th>\n",
       "      <th>assists</th>\n",
       "      <th>goals</th>\n",
       "      <th>blocks</th>\n",
       "      <th>callahans</th>\n",
       "      <th>throwaways_team</th>\n",
       "      <th>drops_team</th>\n",
       "      <th>completions_team</th>\n",
       "      <th>stalls_team</th>\n",
       "    </tr>\n",
       "  </thead>\n",
       "  <tbody>\n",
       "    <tr>\n",
       "      <th>0</th>\n",
       "      <td>18</td>\n",
       "      <td>2</td>\n",
       "      <td>1</td>\n",
       "      <td>59</td>\n",
       "      <td>31</td>\n",
       "      <td>29</td>\n",
       "      <td>22.833333</td>\n",
       "      <td>2.0</td>\n",
       "      <td>36.0</td>\n",
       "      <td>40.0</td>\n",
       "      <td>1.0</td>\n",
       "      <td>0.0</td>\n",
       "      <td>7.0</td>\n",
       "      <td>2.0</td>\n",
       "      <td>0.0</td>\n",
       "      <td>0.0</td>\n",
       "      <td>4</td>\n",
       "      <td>1</td>\n",
       "      <td>225</td>\n",
       "      <td>0</td>\n",
       "    </tr>\n",
       "    <tr>\n",
       "      <th>1</th>\n",
       "      <td>18</td>\n",
       "      <td>5</td>\n",
       "      <td>3</td>\n",
       "      <td>59</td>\n",
       "      <td>31</td>\n",
       "      <td>29</td>\n",
       "      <td>24.333333</td>\n",
       "      <td>1.0</td>\n",
       "      <td>20.0</td>\n",
       "      <td>25.0</td>\n",
       "      <td>0.0</td>\n",
       "      <td>0.0</td>\n",
       "      <td>4.0</td>\n",
       "      <td>4.0</td>\n",
       "      <td>0.0</td>\n",
       "      <td>0.0</td>\n",
       "      <td>5</td>\n",
       "      <td>1</td>\n",
       "      <td>226</td>\n",
       "      <td>0</td>\n",
       "    </tr>\n",
       "    <tr>\n",
       "      <th>2</th>\n",
       "      <td>0</td>\n",
       "      <td>9</td>\n",
       "      <td>5</td>\n",
       "      <td>59</td>\n",
       "      <td>31</td>\n",
       "      <td>29</td>\n",
       "      <td>8.166667</td>\n",
       "      <td>0.0</td>\n",
       "      <td>0.0</td>\n",
       "      <td>0.0</td>\n",
       "      <td>0.0</td>\n",
       "      <td>0.0</td>\n",
       "      <td>0.0</td>\n",
       "      <td>0.0</td>\n",
       "      <td>0.0</td>\n",
       "      <td>0.0</td>\n",
       "      <td>1</td>\n",
       "      <td>0</td>\n",
       "      <td>6</td>\n",
       "      <td>0</td>\n",
       "    </tr>\n",
       "    <tr>\n",
       "      <th>3</th>\n",
       "      <td>16</td>\n",
       "      <td>2</td>\n",
       "      <td>1</td>\n",
       "      <td>59</td>\n",
       "      <td>31</td>\n",
       "      <td>29</td>\n",
       "      <td>20.566667</td>\n",
       "      <td>0.0</td>\n",
       "      <td>22.0</td>\n",
       "      <td>24.0</td>\n",
       "      <td>0.0</td>\n",
       "      <td>0.0</td>\n",
       "      <td>2.0</td>\n",
       "      <td>1.0</td>\n",
       "      <td>0.0</td>\n",
       "      <td>0.0</td>\n",
       "      <td>4</td>\n",
       "      <td>1</td>\n",
       "      <td>214</td>\n",
       "      <td>0</td>\n",
       "    </tr>\n",
       "    <tr>\n",
       "      <th>4</th>\n",
       "      <td>3</td>\n",
       "      <td>16</td>\n",
       "      <td>10</td>\n",
       "      <td>59</td>\n",
       "      <td>31</td>\n",
       "      <td>29</td>\n",
       "      <td>16.450000</td>\n",
       "      <td>0.0</td>\n",
       "      <td>10.0</td>\n",
       "      <td>8.0</td>\n",
       "      <td>0.0</td>\n",
       "      <td>0.0</td>\n",
       "      <td>0.0</td>\n",
       "      <td>0.0</td>\n",
       "      <td>0.0</td>\n",
       "      <td>0.0</td>\n",
       "      <td>1</td>\n",
       "      <td>0</td>\n",
       "      <td>36</td>\n",
       "      <td>0</td>\n",
       "    </tr>\n",
       "  </tbody>\n",
       "</table>\n",
       "</div>"
      ],
      "text/plain": [
       "   o_possession_scores  d_possessions  d_possession_scores_allowed  \\\n",
       "0                   18              2                            1   \n",
       "1                   18              5                            3   \n",
       "2                    0              9                            5   \n",
       "3                   16              2                            1   \n",
       "4                    3             16                           10   \n",
       "\n",
       "   possessions_team  o_possessions_team  d_possessions_team  minutes_played  \\\n",
       "0                59                  31                  29       22.833333   \n",
       "1                59                  31                  29       24.333333   \n",
       "2                59                  31                  29        8.166667   \n",
       "3                59                  31                  29       20.566667   \n",
       "4                59                  31                  29       16.450000   \n",
       "\n",
       "   throwaways  completions  receptions  drops  stalls  assists  goals  blocks  \\\n",
       "0         2.0         36.0        40.0    1.0     0.0      7.0    2.0     0.0   \n",
       "1         1.0         20.0        25.0    0.0     0.0      4.0    4.0     0.0   \n",
       "2         0.0          0.0         0.0    0.0     0.0      0.0    0.0     0.0   \n",
       "3         0.0         22.0        24.0    0.0     0.0      2.0    1.0     0.0   \n",
       "4         0.0         10.0         8.0    0.0     0.0      0.0    0.0     0.0   \n",
       "\n",
       "   callahans  throwaways_team  drops_team  completions_team  stalls_team  \n",
       "0        0.0                4           1               225            0  \n",
       "1        0.0                5           1               226            0  \n",
       "2        0.0                1           0                 6            0  \n",
       "3        0.0                4           1               214            0  \n",
       "4        0.0                1           0                36            0  "
      ]
     },
     "execution_count": 10,
     "metadata": {},
     "output_type": "execute_result"
    }
   ],
   "source": [
    "g = audl.Game(\"https://audl-stat-server.herokuapp.com/stats-pages//game/2022-04-30-NY-DC\")\n",
    "g.get_player_stats_by_game(home=False).head().iloc[:, 20:40]"
   ]
  },
  {
   "cell_type": "code",
   "execution_count": 11,
   "metadata": {},
   "outputs": [
    {
     "data": {
      "text/plain": [
       "{'game': {'id': 2809,\n",
       "  'team_season_id_home': 240,\n",
       "  'team_season_id_away': 239,\n",
       "  'status_id': 100,\n",
       "  'score_home': 19,\n",
       "  'score_away': 22,\n",
       "  'live': None,\n",
       "  'reg_season': True,\n",
       "  'ignore_game': False,\n",
       "  'lock': True,\n",
       "  'start_timestamp': '2022-04-30T19:00:00.000Z',\n",
       "  'start_timezone': 'EDT',\n",
       "  'start_time_tbd': None,\n",
       "  'aw_section': 'week-1',\n",
       "  'score_times_home': [0,\n",
       "   52,\n",
       "   122,\n",
       "   294,\n",
       "   476,\n",
       "   618,\n",
       "   881,\n",
       "   1051,\n",
       "   1271,\n",
       "   1360,\n",
       "   1540,\n",
       "   1613,\n",
       "   1888,\n",
       "   2160,\n",
       "   2275,\n",
       "   2475,\n",
       "   2509,\n",
       "   2632,\n",
       "   2774,\n",
       "   2852],\n",
       "  'score_times_away': [0,\n",
       "   79,\n",
       "   197,\n",
       "   397,\n",
       "   577,\n",
       "   657,\n",
       "   769,\n",
       "   857,\n",
       "   957,\n",
       "   1142,\n",
       "   1404,\n",
       "   1578,\n",
       "   1662,\n",
       "   1774,\n",
       "   1998,\n",
       "   2041,\n",
       "   2117,\n",
       "   2233,\n",
       "   2545,\n",
       "   2676,\n",
       "   2714,\n",
       "   2823,\n",
       "   2880],\n",
       "  'ext_game_id': '2022-04-30-NY-DC',\n",
       "  'update_timestamp': '2022-05-01T01:06:16.829Z',\n",
       "  'location_id': 13,\n",
       "  'ls_game_id': '2dc34d97-a4d5-4175-8421-526e472e2642',\n",
       "  'ticket_url': 'https://shop.thedcbreeze.com/collections/tickets',\n",
       "  'streaming_url': 'https://audltv.vhx.tv/videos/new-york-at-dc-04-30-2022',\n",
       "  'roster_set': True,\n",
       "  'roster_set_1': True,\n",
       "  'roster_set_2': True,\n",
       "  'team_season_home': {'id': 240,\n",
       "   'team_id': 5,\n",
       "   'season_id': 13,\n",
       "   'division_id': 1,\n",
       "   'city': 'DC',\n",
       "   'abbrev': 'DC',\n",
       "   'ulti_analytics_ext_id': None,\n",
       "   'final_standing': None,\n",
       "   'team': {'id': 5,\n",
       "    'name': 'Breeze',\n",
       "    'ext_team_id': 'breeze',\n",
       "    'ls_team_id': '3a44b6f3-baa7-4529-8467-3fd31245c2a0'}},\n",
       "  'team_season_away': {'id': 239,\n",
       "   'team_id': 14,\n",
       "   'season_id': 13,\n",
       "   'division_id': 1,\n",
       "   'city': 'New York',\n",
       "   'abbrev': 'NY',\n",
       "   'ulti_analytics_ext_id': None,\n",
       "   'final_standing': None,\n",
       "   'team': {'id': 14,\n",
       "    'name': 'Empire',\n",
       "    'ext_team_id': 'empire',\n",
       "    'ls_team_id': '292818ec-f349-495e-8297-d0c5acb5de6e'}}},\n",
       " 'rostersHome': [{'id': 9756,\n",
       "   'team_season_id': 240,\n",
       "   'player_id': 2799,\n",
       "   'jersey_number': '0',\n",
       "   'active': True,\n",
       "   'player': {'id': 2799,\n",
       "    'first_name': 'Ted',\n",
       "    'last_name': 'Sither',\n",
       "    'ext_player_id': 'tsither',\n",
       "    'ls_player_id': '64489c91-e036-4939-9125-dfd2a5a4ec03'}},\n",
       "  {'id': 9757,\n",
       "   'team_season_id': 240,\n",
       "   'player_id': 1984,\n",
       "   'jersey_number': '1',\n",
       "   'active': True,\n",
       "   'player': {'id': 1984,\n",
       "    'first_name': 'Alexandre',\n",
       "    'last_name': 'Fall',\n",
       "    'ext_player_id': 'afall',\n",
       "    'ls_player_id': 'efe6973b-2e08-4ba3-8d67-b291fba0f532'}},\n",
       "  {'id': 9758,\n",
       "   'team_season_id': 240,\n",
       "   'player_id': 2800,\n",
       "   'jersey_number': '2',\n",
       "   'active': True,\n",
       "   'player': {'id': 2800,\n",
       "    'first_name': 'Isaac',\n",
       "    'last_name': 'Lee',\n",
       "    'ext_player_id': 'ilee',\n",
       "    'ls_player_id': '08db16b3-934c-4d87-9f9c-a44bc4f819a6'}},\n",
       "  {'id': 9759,\n",
       "   'team_season_id': 240,\n",
       "   'player_id': 2309,\n",
       "   'jersey_number': '3',\n",
       "   'active': True,\n",
       "   'player': {'id': 2309,\n",
       "    'first_name': 'Jeremy',\n",
       "    'last_name': 'Hess',\n",
       "    'ext_player_id': 'jhess',\n",
       "    'ls_player_id': '80f5afac-5f0c-43e9-a21c-76c734b85f4c'}},\n",
       "  {'id': 9760,\n",
       "   'team_season_id': 240,\n",
       "   'player_id': 527,\n",
       "   'jersey_number': '4',\n",
       "   'active': True,\n",
       "   'player': {'id': 527,\n",
       "    'first_name': 'Delrico',\n",
       "    'last_name': 'Johnson',\n",
       "    'ext_player_id': 'djohnson',\n",
       "    'ls_player_id': '055cfe79-a560-48fe-9241-6ea63ccc2989'}},\n",
       "  {'id': 9761,\n",
       "   'team_season_id': 240,\n",
       "   'player_id': 2301,\n",
       "   'jersey_number': '5',\n",
       "   'active': True,\n",
       "   'player': {'id': 2301,\n",
       "    'first_name': 'AJ',\n",
       "    'last_name': 'Merriman',\n",
       "    'ext_player_id': 'amerriman',\n",
       "    'ls_player_id': 'bf58a0fc-5267-4f87-892d-88361a5cf33f'}},\n",
       "  {'id': 9762,\n",
       "   'team_season_id': 240,\n",
       "   'player_id': 454,\n",
       "   'jersey_number': '6',\n",
       "   'active': True,\n",
       "   'player': {'id': 454,\n",
       "    'first_name': 'Dane',\n",
       "    'last_name': 'Warner',\n",
       "    'ext_player_id': 'dwarner',\n",
       "    'ls_player_id': '1ebe50dd-592e-4d39-9657-40fe40d155c5'}},\n",
       "  {'id': 9763,\n",
       "   'team_season_id': 240,\n",
       "   'player_id': 1786,\n",
       "   'jersey_number': '7',\n",
       "   'active': True,\n",
       "   'player': {'id': 1786,\n",
       "    'first_name': 'Tyler',\n",
       "    'last_name': 'Monroe',\n",
       "    'ext_player_id': 'tmonroe',\n",
       "    'ls_player_id': '561e4081-2575-4ec5-b91a-8ae5a4585ee7'}},\n",
       "  {'id': 9764,\n",
       "   'team_season_id': 240,\n",
       "   'player_id': 1991,\n",
       "   'jersey_number': '21',\n",
       "   'active': True,\n",
       "   'player': {'id': 1991,\n",
       "    'first_name': 'Rhys',\n",
       "    'last_name': 'Bergeron',\n",
       "    'ext_player_id': 'rbergeron',\n",
       "    'ls_player_id': '16d5aedd-133b-4d2f-9093-c2f7aafe3a76'}},\n",
       "  {'id': 9765,\n",
       "   'team_season_id': 240,\n",
       "   'player_id': 2303,\n",
       "   'jersey_number': '9',\n",
       "   'active': True,\n",
       "   'player': {'id': 2303,\n",
       "    'first_name': 'Kenta',\n",
       "    'last_name': 'Kawaguchi',\n",
       "    'ext_player_id': 'kkawaguch',\n",
       "    'ls_player_id': '129af512-881b-47ea-899b-430c4f3c1fe3'}},\n",
       "  {'id': 9766,\n",
       "   'team_season_id': 240,\n",
       "   'player_id': 1843,\n",
       "   'jersey_number': '10',\n",
       "   'active': True,\n",
       "   'player': {'id': 1843,\n",
       "    'first_name': 'Zach',\n",
       "    'last_name': 'Norrbom',\n",
       "    'ext_player_id': 'znorrbom',\n",
       "    'ls_player_id': '316644eb-9ecb-47a8-bfad-29a3e077b224'}},\n",
       "  {'id': 9767,\n",
       "   'team_season_id': 240,\n",
       "   'player_id': 2569,\n",
       "   'jersey_number': '11',\n",
       "   'active': True,\n",
       "   'player': {'id': 2569,\n",
       "    'first_name': 'Luke',\n",
       "    'last_name': 'Rehfuss',\n",
       "    'ext_player_id': 'lrehfuss',\n",
       "    'ls_player_id': '981fd3e9-6ad3-4108-a84f-5617b7f3e595'}},\n",
       "  {'id': 9768,\n",
       "   'team_season_id': 240,\n",
       "   'player_id': 1241,\n",
       "   'jersey_number': '12',\n",
       "   'active': True,\n",
       "   'player': {'id': 1241,\n",
       "    'first_name': 'Rowan',\n",
       "    'last_name': 'McDonnell',\n",
       "    'ext_player_id': 'mmcdonnel',\n",
       "    'ls_player_id': '813d2b34-d5a7-4a33-8e39-574200e372b5'}},\n",
       "  {'id': 9769,\n",
       "   'team_season_id': 240,\n",
       "   'player_id': 1985,\n",
       "   'jersey_number': '13',\n",
       "   'active': True,\n",
       "   'player': {'id': 1985,\n",
       "    'first_name': 'Christian',\n",
       "    'last_name': 'Boxley',\n",
       "    'ext_player_id': 'cboxley',\n",
       "    'ls_player_id': '4faf99bc-b5c1-495b-ba9b-d84d2dd29b7b'}},\n",
       "  {'id': 9770,\n",
       "   'team_season_id': 240,\n",
       "   'player_id': 2570,\n",
       "   'jersey_number': '14',\n",
       "   'active': True,\n",
       "   'player': {'id': 2570,\n",
       "    'first_name': 'Aaron',\n",
       "    'last_name': 'Bartlett',\n",
       "    'ext_player_id': 'abartlett',\n",
       "    'ls_player_id': '7c8f7602-7841-43c7-8b38-1b2fe940b236'}},\n",
       "  {'id': 9771,\n",
       "   'team_season_id': 240,\n",
       "   'player_id': 2306,\n",
       "   'jersey_number': '15',\n",
       "   'active': True,\n",
       "   'player': {'id': 2306,\n",
       "    'first_name': 'Kyle',\n",
       "    'last_name': 'Vezina',\n",
       "    'ext_player_id': 'kvezina',\n",
       "    'ls_player_id': 'b6380568-363e-41ed-b66f-b50b3dabc1b4'}},\n",
       "  {'id': 9772,\n",
       "   'team_season_id': 240,\n",
       "   'player_id': 2571,\n",
       "   'jersey_number': '17',\n",
       "   'active': True,\n",
       "   'player': {'id': 2571,\n",
       "    'first_name': 'Moussa',\n",
       "    'last_name': 'Dia',\n",
       "    'ext_player_id': 'mdia',\n",
       "    'ls_player_id': '7d7bdd31-4b5d-4a2e-93bf-97946bea7d94'}},\n",
       "  {'id': 9773,\n",
       "   'team_season_id': 240,\n",
       "   'player_id': 2484,\n",
       "   'jersey_number': '18',\n",
       "   'active': True,\n",
       "   'player': {'id': 2484,\n",
       "    'first_name': 'Kevin',\n",
       "    'last_name': 'Healey',\n",
       "    'ext_player_id': 'khealey',\n",
       "    'ls_player_id': 'e09d9602-8545-41ba-b8f2-b4f85fb947ea'}},\n",
       "  {'id': 9774,\n",
       "   'team_season_id': 240,\n",
       "   'player_id': 2106,\n",
       "   'jersey_number': '19',\n",
       "   'active': True,\n",
       "   'player': {'id': 2106,\n",
       "    'first_name': 'Brandon',\n",
       "    'last_name': 'Lamberty',\n",
       "    'ext_player_id': 'blamberty',\n",
       "    'ls_player_id': 'b08fa184-1fed-49a0-b618-54a205bb2aed'}},\n",
       "  {'id': 9775,\n",
       "   'team_season_id': 240,\n",
       "   'player_id': 2801,\n",
       "   'jersey_number': '20',\n",
       "   'active': True,\n",
       "   'player': {'id': 2801,\n",
       "    'first_name': 'David',\n",
       "    'last_name': 'Zimmerman',\n",
       "    'ext_player_id': 'dzimmerma',\n",
       "    'ls_player_id': 'c38daeaa-38f2-4957-90ed-7e70b63e5147'}},\n",
       "  {'id': 9777,\n",
       "   'team_season_id': 240,\n",
       "   'player_id': 2665,\n",
       "   'jersey_number': '22',\n",
       "   'active': True,\n",
       "   'player': {'id': 2665,\n",
       "    'first_name': 'Colin',\n",
       "    'last_name': 'McLaughlin',\n",
       "    'ext_player_id': 'cmclaughl',\n",
       "    'ls_player_id': 'f77c895d-fce4-415b-9ac6-2997d659f448'}},\n",
       "  {'id': 9778,\n",
       "   'team_season_id': 240,\n",
       "   'player_id': 1992,\n",
       "   'jersey_number': '23',\n",
       "   'active': True,\n",
       "   'player': {'id': 1992,\n",
       "    'first_name': 'Gabe',\n",
       "    'last_name': 'Webster',\n",
       "    'ext_player_id': 'gwebster',\n",
       "    'ls_player_id': '72d603ff-8c06-4c4f-8701-ead78aacff5a'}},\n",
       "  {'id': 9779,\n",
       "   'team_season_id': 240,\n",
       "   'player_id': 2341,\n",
       "   'jersey_number': '24',\n",
       "   'active': True,\n",
       "   'player': {'id': 2341,\n",
       "    'first_name': 'Jacques',\n",
       "    'last_name': 'Nissen',\n",
       "    'ext_player_id': 'jnissen',\n",
       "    'ls_player_id': 'f0e558da-f2ec-49fd-9118-7159738d530b'}},\n",
       "  {'id': 9780,\n",
       "   'team_season_id': 240,\n",
       "   'player_id': 2320,\n",
       "   'jersey_number': '25',\n",
       "   'active': True,\n",
       "   'player': {'id': 2320,\n",
       "    'first_name': 'Jeremy',\n",
       "    'last_name': 'Knopf',\n",
       "    'ext_player_id': 'jknopf',\n",
       "    'ls_player_id': '46a21ba6-5c2e-4ded-b6ba-cb3fa8e30bf9'}},\n",
       "  {'id': 9781,\n",
       "   'team_season_id': 240,\n",
       "   'player_id': 2540,\n",
       "   'jersey_number': '27',\n",
       "   'active': True,\n",
       "   'player': {'id': 2540,\n",
       "    'first_name': 'Steven',\n",
       "    'last_name': 'Wartinbee',\n",
       "    'ext_player_id': 'swartinbe',\n",
       "    'ls_player_id': '91c56f8c-72c5-4ecd-8ac2-1f497d7542ee'}},\n",
       "  {'id': 9782,\n",
       "   'team_season_id': 240,\n",
       "   'player_id': 492,\n",
       "   'jersey_number': '30',\n",
       "   'active': True,\n",
       "   'player': {'id': 492,\n",
       "    'first_name': 'David',\n",
       "    'last_name': 'Bloodgood',\n",
       "    'ext_player_id': 'dbloodgoo',\n",
       "    'ls_player_id': 'ef1d8994-d03c-4b7e-861c-bbb68522b765'}},\n",
       "  {'id': 9783,\n",
       "   'team_season_id': 240,\n",
       "   'player_id': 512,\n",
       "   'jersey_number': '36',\n",
       "   'active': True,\n",
       "   'player': {'id': 512,\n",
       "    'first_name': 'David',\n",
       "    'last_name': 'Shields',\n",
       "    'ext_player_id': 'dshields',\n",
       "    'ls_player_id': 'cd8e0f78-3a5f-4aac-b797-becb2a208d04'}},\n",
       "  {'id': 9784,\n",
       "   'team_season_id': 240,\n",
       "   'player_id': 497,\n",
       "   'jersey_number': '42',\n",
       "   'active': True,\n",
       "   'player': {'id': 497,\n",
       "    'first_name': 'David',\n",
       "    'last_name': 'Cranston',\n",
       "    'ext_player_id': 'dcranston',\n",
       "    'ls_player_id': 'f93922eb-8856-4dd5-93cc-d365fb41197c'}},\n",
       "  {'id': 9785,\n",
       "   'team_season_id': 240,\n",
       "   'player_id': 834,\n",
       "   'jersey_number': '45',\n",
       "   'active': True,\n",
       "   'player': {'id': 834,\n",
       "    'first_name': 'Jeff',\n",
       "    'last_name': 'Wodatch',\n",
       "    'ext_player_id': 'jwodatch1',\n",
       "    'ls_player_id': 'f74f32f6-b70d-4fbc-a6e5-3afe448d44c6'}},\n",
       "  {'id': 9786,\n",
       "   'team_season_id': 240,\n",
       "   'player_id': 2321,\n",
       "   'jersey_number': '51',\n",
       "   'active': True,\n",
       "   'player': {'id': 2321,\n",
       "    'first_name': 'Kevin',\n",
       "    'last_name': 'Versteeg',\n",
       "    'ext_player_id': 'kversteeg',\n",
       "    'ls_player_id': 'c011b5f8-fbea-4d49-a51f-e2d35e948ded'}},\n",
       "  {'id': 9787,\n",
       "   'team_season_id': 240,\n",
       "   'player_id': 946,\n",
       "   'jersey_number': '53',\n",
       "   'active': True,\n",
       "   'player': {'id': 946,\n",
       "    'first_name': 'Jonny',\n",
       "    'last_name': 'Malks',\n",
       "    'ext_player_id': 'jmalks',\n",
       "    'ls_player_id': 'be414f48-a96f-46b9-aec9-78e2d22d212a'}},\n",
       "  {'id': 9788,\n",
       "   'team_season_id': 240,\n",
       "   'player_id': 2352,\n",
       "   'jersey_number': '57',\n",
       "   'active': True,\n",
       "   'player': {'id': 2352,\n",
       "    'first_name': 'Jasper',\n",
       "    'last_name': 'Tom',\n",
       "    'ext_player_id': 'jtom',\n",
       "    'ls_player_id': 'ff1fdc5a-aa67-4846-a627-3b57f909b6c6'}},\n",
       "  {'id': 9789,\n",
       "   'team_season_id': 240,\n",
       "   'player_id': 1157,\n",
       "   'jersey_number': '66',\n",
       "   'active': True,\n",
       "   'player': {'id': 1157,\n",
       "    'first_name': 'Marcus',\n",
       "    'last_name': 'Thaw',\n",
       "    'ext_player_id': 'mthaw',\n",
       "    'ls_player_id': '721f443e-1c31-49ac-8911-31d90d699397'}},\n",
       "  {'id': 9790,\n",
       "   'team_season_id': 240,\n",
       "   'player_id': 2802,\n",
       "   'jersey_number': '73',\n",
       "   'active': True,\n",
       "   'player': {'id': 2802,\n",
       "    'first_name': 'Frederick',\n",
       "    'last_name': 'Farah',\n",
       "    'ext_player_id': 'ffarah',\n",
       "    'ls_player_id': 'ff2c753c-8c20-451d-93ba-55d674fa847f'}},\n",
       "  {'id': 9791,\n",
       "   'team_season_id': 240,\n",
       "   'player_id': 1994,\n",
       "   'jersey_number': '78',\n",
       "   'active': True,\n",
       "   'player': {'id': 1994,\n",
       "    'first_name': 'Leo',\n",
       "    'last_name': 'Pierson',\n",
       "    'ext_player_id': 'lpierson',\n",
       "    'ls_player_id': '22cee70a-cc87-47fa-9f79-84eb5b0a8883'}},\n",
       "  {'id': 9792,\n",
       "   'team_season_id': 240,\n",
       "   'player_id': 2664,\n",
       "   'jersey_number': '88',\n",
       "   'active': True,\n",
       "   'player': {'id': 2664,\n",
       "    'first_name': 'Duncan',\n",
       "    'last_name': 'Fitzgerald',\n",
       "    'ext_player_id': 'dfitzgera',\n",
       "    'ls_player_id': 'c7e93583-e125-44bb-acc0-9a473752b93a'}},\n",
       "  {'id': 9793,\n",
       "   'team_season_id': 240,\n",
       "   'player_id': 33,\n",
       "   'jersey_number': '90',\n",
       "   'active': True,\n",
       "   'player': {'id': 33,\n",
       "    'first_name': 'Alan',\n",
       "    'last_name': 'Kolick',\n",
       "    'ext_player_id': 'akolick',\n",
       "    'ls_player_id': '90bbca72-bb78-4602-a9c7-353a5bb889a5'}},\n",
       "  {'id': 9794,\n",
       "   'team_season_id': 240,\n",
       "   'player_id': 1771,\n",
       "   'jersey_number': '91',\n",
       "   'active': True,\n",
       "   'player': {'id': 1771,\n",
       "    'first_name': 'Troy',\n",
       "    'last_name': 'Holland',\n",
       "    'ext_player_id': 'tholland',\n",
       "    'ls_player_id': '7857fb6f-cb6a-4209-ab58-beb8521dc006'}},\n",
       "  {'id': 9795,\n",
       "   'team_season_id': 240,\n",
       "   'player_id': 875,\n",
       "   'jersey_number': '99',\n",
       "   'active': True,\n",
       "   'player': {'id': 875,\n",
       "    'first_name': 'Joe',\n",
       "    'last_name': 'Richards',\n",
       "    'ext_player_id': 'jrichards',\n",
       "    'ls_player_id': 'de9fef48-eff5-4843-88a8-01f5452338a0'}},\n",
       "  {'id': 9776,\n",
       "   'team_season_id': 240,\n",
       "   'player_id': 2568,\n",
       "   'jersey_number': '8',\n",
       "   'active': True,\n",
       "   'player': {'id': 2568,\n",
       "    'first_name': 'Colum',\n",
       "    'last_name': 'Bergeron',\n",
       "    'ext_player_id': 'cbergeron',\n",
       "    'ls_player_id': '3ec63a42-664f-4db6-9ef0-a196ac65bc3c'}}],\n",
       " 'rostersAway': [{'id': 9796,\n",
       "   'team_season_id': 239,\n",
       "   'player_id': 2768,\n",
       "   'jersey_number': '0',\n",
       "   'active': True,\n",
       "   'player': {'id': 2768,\n",
       "    'first_name': 'Matthew',\n",
       "    'last_name': 'Johnson',\n",
       "    'ext_player_id': 'mjohnson',\n",
       "    'ls_player_id': '51e05d46-8e09-4df1-936f-38e8a1bef7dc'}},\n",
       "  {'id': 9797,\n",
       "   'team_season_id': 239,\n",
       "   'player_id': 1543,\n",
       "   'jersey_number': '1',\n",
       "   'active': True,\n",
       "   'player': {'id': 1543,\n",
       "    'first_name': 'Ryan',\n",
       "    'last_name': 'Osgar',\n",
       "    'ext_player_id': 'rosgar',\n",
       "    'ls_player_id': 'eee9ed39-be6b-4697-808e-7383082a46d3'}},\n",
       "  {'id': 9798,\n",
       "   'team_season_id': 239,\n",
       "   'player_id': 1981,\n",
       "   'jersey_number': '2',\n",
       "   'active': True,\n",
       "   'player': {'id': 1981,\n",
       "    'first_name': 'Matt',\n",
       "    'last_name': 'Ellis',\n",
       "    'ext_player_id': 'mellis',\n",
       "    'ls_player_id': '5fac8805-257f-49d4-a29b-970da95751d4'}},\n",
       "  {'id': 9799,\n",
       "   'team_season_id': 239,\n",
       "   'player_id': 174,\n",
       "   'jersey_number': '4',\n",
       "   'active': True,\n",
       "   'player': {'id': 174,\n",
       "    'first_name': 'Ben',\n",
       "    'last_name': 'Jagt',\n",
       "    'ext_player_id': 'bjagt',\n",
       "    'ls_player_id': '6d4fbe3d-da8a-4390-b082-5b299b367c49'}},\n",
       "  {'id': 9800,\n",
       "   'team_season_id': 239,\n",
       "   'player_id': 403,\n",
       "   'jersey_number': '5',\n",
       "   'active': True,\n",
       "   'player': {'id': 403,\n",
       "    'first_name': 'Connor',\n",
       "    'last_name': 'Fortin',\n",
       "    'ext_player_id': 'cfortin',\n",
       "    'ls_player_id': '5260ba5a-84e4-4922-9c27-db145adba25d'}},\n",
       "  {'id': 9801,\n",
       "   'team_season_id': 239,\n",
       "   'player_id': 316,\n",
       "   'jersey_number': '6',\n",
       "   'active': True,\n",
       "   'player': {'id': 316,\n",
       "    'first_name': 'Charles',\n",
       "    'last_name': 'Weinberg',\n",
       "    'ext_player_id': 'cweinberg',\n",
       "    'ls_player_id': 'e2a28b41-b847-415d-8016-db0d57d4b65b'}},\n",
       "  {'id': 9802,\n",
       "   'team_season_id': 239,\n",
       "   'player_id': 621,\n",
       "   'jersey_number': '8',\n",
       "   'active': True,\n",
       "   'player': {'id': 621,\n",
       "    'first_name': 'Ethan',\n",
       "    'last_name': 'Fortin',\n",
       "    'ext_player_id': 'efortin',\n",
       "    'ls_player_id': '63bdbc7a-79a5-4176-ba46-cadad5ff2638'}},\n",
       "  {'id': 9803,\n",
       "   'team_season_id': 239,\n",
       "   'player_id': 2637,\n",
       "   'jersey_number': '9',\n",
       "   'active': True,\n",
       "   'player': {'id': 2637,\n",
       "    'first_name': 'Solomon',\n",
       "    'last_name': 'Rueschemeyer-Bailey',\n",
       "    'ext_player_id': 'srueschem',\n",
       "    'ls_player_id': 'be6f0e2b-e914-4af4-857f-f4b707d3e9bd'}},\n",
       "  {'id': 9804,\n",
       "   'team_season_id': 239,\n",
       "   'player_id': 2093,\n",
       "   'jersey_number': '10',\n",
       "   'active': True,\n",
       "   'player': {'id': 2093,\n",
       "    'first_name': 'Elliott',\n",
       "    'last_name': 'Chartock',\n",
       "    'ext_player_id': 'echartock',\n",
       "    'ls_player_id': 'cb680971-9250-4928-8f16-297f7ea06352'}},\n",
       "  {'id': 9805,\n",
       "   'team_season_id': 239,\n",
       "   'player_id': 1314,\n",
       "   'jersey_number': '16',\n",
       "   'active': True,\n",
       "   'player': {'id': 1314,\n",
       "    'first_name': 'Mike',\n",
       "    'last_name': 'Drost',\n",
       "    'ext_player_id': 'mdrost',\n",
       "    'ls_player_id': '8126f63f-426f-4d82-9d5e-642cd2f00182'}},\n",
       "  {'id': 9806,\n",
       "   'team_season_id': 239,\n",
       "   'player_id': 1221,\n",
       "   'jersey_number': '17',\n",
       "   'active': True,\n",
       "   'player': {'id': 1221,\n",
       "    'first_name': 'Matt',\n",
       "    'last_name': 'Stevens',\n",
       "    'ext_player_id': 'mstevens',\n",
       "    'ls_player_id': '996e07f3-7554-47ea-84a0-626013562283'}},\n",
       "  {'id': 9807,\n",
       "   'team_season_id': 239,\n",
       "   'player_id': 2710,\n",
       "   'jersey_number': '20',\n",
       "   'active': True,\n",
       "   'player': {'id': 2710,\n",
       "    'first_name': 'Matt',\n",
       "    'last_name': 'LaBar',\n",
       "    'ext_player_id': 'mlabar',\n",
       "    'ls_player_id': '48faa529-8869-41ed-8fcd-67bef981b8b0'}},\n",
       "  {'id': 9808,\n",
       "   'team_season_id': 239,\n",
       "   'player_id': 1608,\n",
       "   'jersey_number': '22',\n",
       "   'active': True,\n",
       "   'player': {'id': 1608,\n",
       "    'first_name': 'Scott',\n",
       "    'last_name': 'Xu',\n",
       "    'ext_player_id': 'sxu',\n",
       "    'ls_player_id': '2bf2dea5-6631-4111-8332-19fcfee10296'}},\n",
       "  {'id': 9809,\n",
       "   'team_season_id': 239,\n",
       "   'player_id': 1536,\n",
       "   'jersey_number': '23',\n",
       "   'active': True,\n",
       "   'player': {'id': 1536,\n",
       "    'first_name': 'Ryan',\n",
       "    'last_name': 'Holmes',\n",
       "    'ext_player_id': 'rholmes',\n",
       "    'ls_player_id': 'e5f604b7-9413-414f-8298-8310a5d55944'}},\n",
       "  {'id': 9810,\n",
       "   'team_season_id': 239,\n",
       "   'player_id': 2000,\n",
       "   'jersey_number': '27',\n",
       "   'active': True,\n",
       "   'player': {'id': 2000,\n",
       "    'first_name': 'Noriaki',\n",
       "    'last_name': 'To',\n",
       "    'ext_player_id': 'nto',\n",
       "    'ls_player_id': 'e825e69d-b480-460a-bd53-c1ae6f6e9908'}},\n",
       "  {'id': 9811,\n",
       "   'team_season_id': 239,\n",
       "   'player_id': 178,\n",
       "   'jersey_number': '28',\n",
       "   'active': True,\n",
       "   'player': {'id': 178,\n",
       "    'first_name': 'Ben',\n",
       "    'last_name': 'Katz',\n",
       "    'ext_player_id': 'bkatz1',\n",
       "    'ls_player_id': '9ec7f459-2779-4d7d-9bbd-b6f63e04311a'}},\n",
       "  {'id': 9812,\n",
       "   'team_season_id': 239,\n",
       "   'player_id': 2293,\n",
       "   'jersey_number': '31',\n",
       "   'active': True,\n",
       "   'player': {'id': 2293,\n",
       "    'first_name': 'Sam',\n",
       "    'last_name': 'Feder',\n",
       "    'ext_player_id': 'sfeder',\n",
       "    'ls_player_id': '00b11126-986f-40c1-9579-25bb414fd4b1'}},\n",
       "  {'id': 9813,\n",
       "   'team_season_id': 239,\n",
       "   'player_id': 1165,\n",
       "   'jersey_number': '33',\n",
       "   'active': True,\n",
       "   'player': {'id': 1165,\n",
       "    'first_name': 'Mark',\n",
       "    'last_name': 'Lin',\n",
       "    'ext_player_id': 'mlin',\n",
       "    'ls_player_id': 'baeeb4d9-516c-4570-ab6e-0e8b30026358'}},\n",
       "  {'id': 9814,\n",
       "   'team_season_id': 239,\n",
       "   'player_id': 2718,\n",
       "   'jersey_number': '34',\n",
       "   'active': True,\n",
       "   'player': {'id': 2718,\n",
       "    'first_name': 'Elias',\n",
       "    'last_name': 'Griffin',\n",
       "    'ext_player_id': 'egriffin',\n",
       "    'ls_player_id': 'c89f9002-863c-408f-b15f-323471208720'}},\n",
       "  {'id': 9815,\n",
       "   'team_season_id': 239,\n",
       "   'player_id': 2803,\n",
       "   'jersey_number': '41',\n",
       "   'active': True,\n",
       "   'player': {'id': 2803,\n",
       "    'first_name': 'Robert',\n",
       "    'last_name': 'Elston',\n",
       "    'ext_player_id': 'relston',\n",
       "    'ls_player_id': 'd455be14-708a-425b-99e6-5399e03f8a1d'}},\n",
       "  {'id': 9816,\n",
       "   'team_season_id': 239,\n",
       "   'player_id': 1316,\n",
       "   'jersey_number': '44',\n",
       "   'active': True,\n",
       "   'player': {'id': 1316,\n",
       "    'first_name': 'Mike',\n",
       "    'last_name': 'Kobyra',\n",
       "    'ext_player_id': 'mkobyra',\n",
       "    'ls_player_id': '0da839a3-fb76-4aff-badc-5e0524185c3b'}},\n",
       "  {'id': 9817,\n",
       "   'team_season_id': 239,\n",
       "   'player_id': 2639,\n",
       "   'jersey_number': '54',\n",
       "   'active': True,\n",
       "   'player': {'id': 2639,\n",
       "    'first_name': 'John',\n",
       "    'last_name': 'Lithio',\n",
       "    'ext_player_id': 'jlithio',\n",
       "    'ls_player_id': '6b1d93f6-d9a7-4f88-a672-647f0d152c40'}},\n",
       "  {'id': 9818,\n",
       "   'team_season_id': 239,\n",
       "   'player_id': 2804,\n",
       "   'jersey_number': '67',\n",
       "   'active': True,\n",
       "   'player': {'id': 2804,\n",
       "    'first_name': 'Chris',\n",
       "    'last_name': 'McLaughlin',\n",
       "    'ext_player_id': 'cmclaughl1',\n",
       "    'ls_player_id': '2b6813bf-0483-49de-946b-6774a03af0b0'}},\n",
       "  {'id': 9819,\n",
       "   'team_season_id': 239,\n",
       "   'player_id': 1531,\n",
       "   'jersey_number': '80',\n",
       "   'active': True,\n",
       "   'player': {'id': 1531,\n",
       "    'first_name': 'Ryan',\n",
       "    'last_name': 'Drost',\n",
       "    'ext_player_id': 'rdrost',\n",
       "    'ls_player_id': 'd8d878f6-64df-42fe-ba27-a249741f0a73'}},\n",
       "  {'id': 9820,\n",
       "   'team_season_id': 239,\n",
       "   'player_id': 139,\n",
       "   'jersey_number': '81',\n",
       "   'active': True,\n",
       "   'player': {'id': 139,\n",
       "    'first_name': 'Antoine',\n",
       "    'last_name': 'Davis',\n",
       "    'ext_player_id': 'adavis2',\n",
       "    'ls_player_id': '41347fac-afc3-40b1-9792-3e41807f7c82'}},\n",
       "  {'id': 9821,\n",
       "   'team_season_id': 239,\n",
       "   'player_id': 1180,\n",
       "   'jersey_number': '82',\n",
       "   'active': True,\n",
       "   'player': {'id': 1180,\n",
       "    'first_name': 'Marques',\n",
       "    'last_name': 'Brownlee',\n",
       "    'ext_player_id': 'mbrownlee',\n",
       "    'ls_player_id': 'b7555739-2e4d-4c99-973b-0f65947230db'}},\n",
       "  {'id': 9822,\n",
       "   'team_season_id': 239,\n",
       "   'player_id': 823,\n",
       "   'jersey_number': '87',\n",
       "   'active': True,\n",
       "   'player': {'id': 823,\n",
       "    'first_name': 'Jeff',\n",
       "    'last_name': 'Babbitt',\n",
       "    'ext_player_id': 'jbabbitt',\n",
       "    'ls_player_id': 'f8530fac-d3cd-49c3-868f-2431dca4b0ae'}},\n",
       "  {'id': 9823,\n",
       "   'team_season_id': 239,\n",
       "   'player_id': 747,\n",
       "   'jersey_number': '11',\n",
       "   'active': True,\n",
       "   'player': {'id': 747,\n",
       "    'first_name': 'Jack',\n",
       "    'last_name': 'Williams',\n",
       "    'ext_player_id': 'jwilliams',\n",
       "    'ls_player_id': '45c77a7d-2649-4ee3-b083-b50c86a17fa6'}},\n",
       "  {'id': 9824,\n",
       "   'team_season_id': 239,\n",
       "   'player_id': 2805,\n",
       "   'jersey_number': '13',\n",
       "   'active': True,\n",
       "   'player': {'id': 2805,\n",
       "    'first_name': 'Oliver',\n",
       "    'last_name': 'Chartock',\n",
       "    'ext_player_id': 'ochartock',\n",
       "    'ls_player_id': '57e620bd-f070-4ebe-9f4b-28a05c402a22'}},\n",
       "  {'id': 10643,\n",
       "   'team_season_id': 239,\n",
       "   'player_id': 909,\n",
       "   'jersey_number': '79',\n",
       "   'active': True,\n",
       "   'player': {'id': 909,\n",
       "    'first_name': 'John',\n",
       "    'last_name': 'Randolph',\n",
       "    'ext_player_id': 'jrandolph',\n",
       "    'ls_player_id': 'd74003de-7363-43c6-8b10-2847db4c6e96'}}],\n",
       " 'tsgHome': {'id': 2639,\n",
       "  'teamSeasonId': 240,\n",
       "  'gameId': 2809,\n",
       "  'source': 'sk-v2',\n",
       "  'startOnOffense': True,\n",
       "  'events': '[{\"t\":50},{\"t\":1,\"l\":[9763,9781,9769,9795,9793,9768,9766]},{\"t\":20,\"r\":9793,\"x\":22.22,\"y\":29.56},{\"t\":20,\"r\":9766,\"x\":14.57,\"y\":32.76},{\"t\":20,\"r\":9763,\"x\":24.69,\"y\":41.65},{\"t\":20,\"r\":9793,\"x\":8.59,\"y\":35.38},{\"t\":20,\"r\":9781,\"x\":18.06,\"y\":43.68},{\"t\":20,\"r\":9768,\"x\":1.74,\"y\":39.75},{\"t\":20,\"r\":9766,\"x\":17.77,\"y\":46.67},{\"t\":20,\"r\":9763,\"x\":14.79,\"y\":59.56},{\"t\":20,\"r\":9768,\"x\":6.41,\"y\":60.43},{\"t\":20,\"r\":9769,\"x\":-1.61,\"y\":66.04},{\"t\":20,\"r\":9793,\"x\":-14.07,\"y\":79.87},{\"t\":22,\"r\":9769,\"x\":-13.78,\"y\":107.25,\"s\":668},{\"t\":2,\"l\":[9782,9784,9757,9759,9760,9761,9788]},{\"t\":3,\"r\":9761,\"x\":-3.5,\"y\":86.43,\"ms\":4109},{\"t\":21,\"s\":641},{\"t\":1,\"l\":[9768,9769,9766,9780,9772,9793,9763]},{\"t\":20,\"r\":9780,\"x\":14.79,\"y\":39.39},{\"t\":20,\"r\":9766,\"x\":6.19,\"y\":39.53},{\"t\":20,\"r\":9793,\"x\":-4.16,\"y\":43.32},{\"t\":20,\"r\":9769,\"x\":-14.21,\"y\":52.5},{\"t\":20,\"r\":9763,\"x\":-18.51,\"y\":64.66},{\"t\":20,\"r\":9768,\"x\":-8.75,\"y\":65.16},{\"t\":20,\"r\":9780,\"x\":-2.41,\"y\":68.37},{\"t\":20,\"r\":9793,\"x\":-7.15,\"y\":72.01},{\"t\":20,\"r\":9772,\"x\":-17.78,\"y\":92.69},{\"t\":22,\"r\":9763,\"x\":-20.41,\"y\":103.61,\"s\":598},{\"t\":2,\"l\":[9757,9759,9762,9775,9764,9777,9788]},{\"t\":3,\"r\":9759,\"x\":-15.96,\"y\":71.14,\"ms\":7349},{\"t\":21,\"s\":523},{\"t\":1,\"l\":[9795,9793,9781,9763,9772,9768,9780]},{\"t\":20,\"r\":9780,\"x\":-7.73,\"y\":32.54},{\"t\":20,\"r\":9793,\"x\":1.38,\"y\":40.92},{\"t\":20,\"r\":9780,\"x\":-13.92,\"y\":44.12},{\"t\":20,\"r\":9768,\"x\":-7,\"y\":46.23},{\"t\":20,\"r\":9763,\"x\":10.34,\"y\":54.53},{\"t\":20,\"r\":9793,\"x\":23.24,\"y\":70.84},{\"t\":20,\"r\":9763,\"x\":6.55,\"y\":62.91},{\"t\":20,\"r\":9780,\"x\":21.2,\"y\":70.12},{\"t\":20,\"r\":9768,\"x\":15.51,\"y\":76.52},{\"t\":20,\"r\":9763,\"x\":0.51,\"y\":77.69},{\"t\":20,\"r\":9795,\"x\":-9.04,\"y\":81.99},{\"t\":20,\"r\":9763,\"x\":-1.17,\"y\":79.44},{\"t\":20,\"r\":9768,\"x\":9.69,\"y\":83.3},{\"t\":20,\"r\":9763,\"x\":2.11,\"y\":80.67},{\"t\":20,\"r\":9772,\"x\":21.05,\"y\":93.05},{\"t\":20,\"r\":9763,\"x\":10.05,\"y\":89.41},{\"t\":20,\"r\":9768,\"x\":4.66,\"y\":87.52},{\"t\":20,\"r\":9772,\"x\":-3.79,\"y\":92.98},{\"t\":20,\"r\":9768,\"x\":6.55,\"y\":90.8},{\"t\":20,\"r\":9763,\"x\":6.33,\"y\":86.79},{\"t\":20,\"r\":9768,\"x\":-3.14,\"y\":94.51},{\"t\":20,\"r\":9793,\"x\":-7.87,\"y\":96.11},{\"t\":22,\"r\":9763,\"x\":-9.99,\"y\":103.03,\"s\":426},{\"t\":2,\"l\":[9760,9761,9782,9775,9762,9784,9764]},{\"t\":3,\"r\":9761,\"x\":-7.36,\"y\":86.57,\"ms\":4869},{\"t\":13},{\"t\":21,\"s\":323},{\"t\":1,\"l\":[9780,9766,9769,9795,9768,9772,9781]},{\"t\":20,\"r\":9780,\"x\":15.95,\"y\":29.19},{\"t\":20,\"r\":9766,\"x\":3.27,\"y\":43.39},{\"t\":20,\"r\":9768,\"x\":21.78,\"y\":47.62},{\"t\":20,\"r\":9772,\"x\":10.71,\"y\":59.92},{\"t\":20,\"r\":9768,\"x\":20.91,\"y\":67.57},{\"t\":20,\"r\":9766,\"x\":17.41,\"y\":76.52},{\"t\":20,\"r\":9768,\"x\":19.67,\"y\":83.88},{\"t\":10},{\"t\":20,\"r\":9769,\"x\":8.59,\"y\":75},{\"t\":20,\"r\":9772,\"x\":-13.12,\"y\":74.56},{\"t\":20,\"r\":9780,\"x\":-16.62,\"y\":85.04},{\"t\":20,\"r\":9781,\"x\":-1.46,\"y\":70.19},{\"t\":20,\"r\":9766,\"x\":14.64,\"y\":77.98},{\"t\":22,\"r\":9795,\"x\":-13.85,\"y\":112.64,\"s\":244},{\"t\":2,\"l\":[9757,9759,9760,9761,9782,9784,9788]},{\"t\":3,\"r\":9760,\"x\":-16.18,\"y\":79.66,\"ms\":4191},{\"t\":54,\"s\":180},{\"t\":53},{\"t\":54,\"s\":150},{\"t\":53},{\"t\":11},{\"t\":21,\"s\":143},{\"t\":1,\"l\":[9763,9769,9772,9795,9793,9781,9766]},{\"t\":20,\"r\":9781,\"x\":15.08,\"y\":44.27},{\"t\":20,\"r\":9766,\"x\":3.57,\"y\":47.4},{\"t\":20,\"r\":9769,\"x\":-6.85,\"y\":57.01},{\"t\":20,\"r\":9795,\"x\":1.09,\"y\":66.26},{\"t\":20,\"r\":9766,\"x\":12.82,\"y\":67.06},{\"t\":20,\"r\":9763,\"x\":17.41,\"y\":75.21},{\"t\":20,\"r\":9772,\"x\":-1.1,\"y\":81.84},{\"t\":20,\"r\":9763,\"x\":-8.38,\"y\":80.89},{\"t\":22,\"r\":9795,\"x\":-14.43,\"y\":107.76,\"s\":102},{\"t\":2,\"l\":[9757,9759,9760,9761,9782,9784,9788]},{\"t\":3,\"r\":9759,\"x\":5.39,\"y\":81.11,\"ms\":4741},{\"t\":21,\"s\":63},{\"t\":1,\"l\":[9793,9780,9768,9769,9763,9766,9772]},{\"t\":20,\"r\":9766,\"x\":-26.67,\"y\":74.7},{\"t\":20,\"r\":9763,\"x\":2.33,\"y\":56.94},{\"t\":20,\"r\":9772,\"x\":22.65,\"y\":63.71},{\"t\":20,\"r\":9763,\"x\":7.57,\"y\":63.13},{\"t\":20,\"r\":9769,\"x\":19.67,\"y\":68.15},{\"t\":20,\"r\":9763,\"x\":10.2,\"y\":63.56},{\"t\":20,\"r\":9769,\"x\":17.85,\"y\":57.01},{\"t\":20,\"r\":9763,\"x\":22,\"y\":62.62},{\"t\":10},{\"t\":20,\"r\":9769,\"x\":23.02,\"y\":67.13},{\"t\":20,\"r\":9768,\"x\":12.96,\"y\":57.96},{\"t\":20,\"r\":9793,\"x\":3.13,\"y\":58.54},{\"t\":20,\"r\":9780,\"x\":-8.6,\"y\":58.54},{\"t\":20,\"r\":9769,\"x\":4.44,\"y\":64.29},{\"t\":20,\"r\":9766,\"x\":8.96,\"y\":69.24},{\"t\":20,\"r\":9769,\"x\":15.95,\"y\":75.21},{\"t\":20,\"r\":9766,\"x\":18.87,\"y\":78.64},{\"t\":23},{\"t\":2,\"l\":[9757,9759,9762,9775,9764,9777,9788]},{\"t\":3,\"r\":9759,\"x\":-11.52,\"y\":77.25,\"ms\":5356},{\"t\":21,\"s\":671},{\"t\":1,\"l\":[9780,9763,9795,9781,9768,9769,9793]},{\"t\":20,\"r\":9780,\"x\":1.23,\"y\":32.69},{\"t\":20,\"r\":9793,\"x\":0.87,\"y\":46.31},{\"t\":20,\"r\":9781,\"x\":17.19,\"y\":47.33},{\"t\":20,\"r\":9769,\"x\":7.79,\"y\":60.5},{\"t\":20,\"r\":9763,\"x\":18.65,\"y\":70.63},{\"t\":20,\"r\":9769,\"x\":7.35,\"y\":76.23},{\"t\":20,\"r\":9763,\"x\":7.65,\"y\":69.02},{\"t\":20,\"r\":9768,\"x\":-13.78,\"y\":68.44},{\"t\":20,\"r\":9793,\"x\":-18.51,\"y\":74.05},{\"t\":20,\"r\":9763,\"x\":-19.09,\"y\":81.04},{\"t\":8,\"x\":13.33,\"y\":75.58},{\"t\":21,\"s\":583},{\"t\":1,\"l\":[9784,9781,9760,9772,9766,9769,9768]},{\"t\":20,\"r\":9766,\"x\":26.66,\"y\":60.43},{\"t\":22,\"r\":9769,\"x\":19.16,\"y\":106.6,\"s\":559},{\"t\":2,\"l\":[9784,9775,9760,9761,9777,9782,9764]},{\"t\":3,\"r\":9761,\"x\":9.61,\"y\":84.1,\"ms\":4561},{\"t\":21,\"s\":483},{\"t\":1,\"l\":[9780,9768,9766,9793,9795,9772,9763]},{\"t\":20,\"r\":9766,\"x\":-7.8,\"y\":20},{\"t\":20,\"r\":9793,\"x\":8.08,\"y\":27.52},{\"t\":20,\"r\":9766,\"x\":-7.29,\"y\":25.04},{\"t\":20,\"r\":9780,\"x\":-18.95,\"y\":26.57},{\"t\":20,\"r\":9793,\"x\":-3.65,\"y\":22.06},{\"t\":20,\"r\":9768,\"x\":-22.52,\"y\":38.44},{\"t\":19,\"r\":9795,\"x\":-16.98,\"y\":54.68},{\"t\":9},{\"t\":20,\"r\":9766,\"x\":-25.58,\"y\":20.67},{\"t\":20,\"r\":9793,\"x\":-11.95,\"y\":15.94},{\"t\":20,\"r\":9763,\"x\":0.29,\"y\":20.16},{\"t\":20,\"r\":9766,\"x\":-15.52,\"y\":32.54},{\"t\":20,\"r\":9768,\"x\":-19.09,\"y\":40.99},{\"t\":20,\"r\":9772,\"x\":-2.12,\"y\":99.99},{\"t\":22,\"r\":9795,\"x\":3.64,\"y\":109.15,\"s\":389},{\"t\":2,\"l\":[9759,9782,9761,9784,9757,9760,9788]},{\"t\":4,\"r\":9759,\"x\":0,\"y\":80},{\"t\":11},{\"t\":21,\"s\":298},{\"t\":1,\"l\":[9763,9781,9769,9766,9793,9768,9772]},{\"t\":20,\"r\":9781,\"x\":-8.38,\"y\":21.91},{\"t\":20,\"r\":9766,\"x\":-0.3,\"y\":31.6},{\"t\":20,\"r\":9793,\"x\":8.45,\"y\":29.41},{\"t\":20,\"r\":9769,\"x\":16.53,\"y\":45.87},{\"t\":20,\"r\":9763,\"x\":17.77,\"y\":71.06},{\"t\":20,\"r\":9768,\"x\":19.23,\"y\":85.41},{\"t\":19,\"r\":9766,\"x\":-4.89,\"y\":110.16},{\"t\":15,\"s\":243},{\"t\":40,\"l\":[9788,9775,9764,9757,9777,9759,9762]},{\"t\":53},{\"t\":54,\"s\":243},{\"t\":53},{\"t\":9},{\"t\":20,\"r\":9759,\"x\":-13.78,\"y\":40.33},{\"t\":20,\"r\":9788,\"x\":-7.87,\"y\":48.85},{\"t\":14,\"s\":193},{\"t\":41,\"l\":[9760,9784,9780,9763,9769,9768,9766]},{\"t\":20,\"r\":9766,\"x\":-7.87,\"y\":48.85},{\"t\":20,\"r\":9780,\"x\":3.93,\"y\":51.84},{\"t\":20,\"r\":9784,\"x\":15.95,\"y\":68.3},{\"t\":20,\"r\":9763,\"x\":23.31,\"y\":77.98},{\"t\":20,\"r\":9784,\"x\":19.45,\"y\":87.37},{\"t\":22,\"r\":9760,\"x\":-9.04,\"y\":109.15,\"s\":169},{\"t\":2,\"l\":[9782,9775,9761,9760,9764,9784,9762]},{\"t\":3,\"r\":9761,\"x\":-13.12,\"y\":93.93,\"ms\":3518},{\"t\":5,\"r\":9782},{\"t\":20,\"r\":9782,\"x\":0.51,\"y\":64.8},{\"t\":20,\"r\":9784,\"x\":8.01,\"y\":64.58},{\"t\":20,\"r\":9782,\"x\":18.72,\"y\":66.91},{\"t\":14,\"s\":133},{\"t\":41,\"l\":[9768,9780,9760,9763,9784,9766,9769]},{\"t\":20,\"r\":9766,\"x\":18.72,\"y\":66.91},{\"t\":20,\"r\":9768,\"x\":6.04,\"y\":66.99},{\"t\":20,\"r\":9784,\"x\":-15.52,\"y\":73.32},{\"t\":20,\"r\":9763,\"x\":-24.27,\"y\":86.65},{\"t\":20,\"r\":9784,\"x\":-12.68,\"y\":79.8},{\"t\":20,\"r\":9769,\"x\":18.36,\"y\":83.22},{\"t\":12},{\"t\":20,\"r\":9768,\"x\":3.57,\"y\":90.36},{\"t\":20,\"r\":9784,\"x\":13.26,\"y\":95.67},{\"t\":20,\"r\":9766,\"x\":17.34,\"y\":97.13},{\"t\":20,\"r\":9768,\"x\":4.51,\"y\":98.51},{\"t\":22,\"r\":9763,\"x\":5.75,\"y\":104.92,\"s\":80},{\"t\":2,\"l\":[9782,9761,9759,9772,9757,9764,9793]},{\"t\":3,\"r\":9761,\"x\":19.52,\"y\":87.3,\"ms\":3184},{\"t\":21,\"s\":36},{\"t\":1,\"l\":[9768,9769,9795,9781,9772,9766,9763]},{\"t\":20,\"r\":9766,\"x\":-17.49,\"y\":25.48},{\"t\":20,\"r\":9768,\"x\":1.67,\"y\":30.8},{\"t\":20,\"r\":9769,\"x\":2.91,\"y\":40.19},{\"t\":20,\"r\":9768,\"x\":-5.54,\"y\":40.26},{\"t\":20,\"r\":9769,\"x\":-9.7,\"y\":46.89},{\"t\":20,\"r\":9766,\"x\":-18.51,\"y\":68.88},{\"t\":20,\"r\":9769,\"x\":-6.71,\"y\":66.48},{\"t\":20,\"r\":9768,\"x\":-13.12,\"y\":74.27},{\"t\":8,\"x\":14.79,\"y\":90},{\"t\":24},{\"t\":1,\"l\":[9793,9768,9795,9766,9781,9763,9769]},{\"t\":20,\"r\":9793,\"x\":0,\"y\":40},{\"t\":20,\"r\":9766,\"x\":-11.23,\"y\":43.1},{\"t\":20,\"r\":9768,\"x\":-18.8,\"y\":60.07},{\"t\":20,\"r\":9793,\"x\":-20.84,\"y\":66.18},{\"t\":20,\"r\":9768,\"x\":-8.31,\"y\":59.05},{\"t\":20,\"r\":9793,\"x\":-17.35,\"y\":69.9},{\"t\":20,\"r\":9795,\"x\":-4.45,\"y\":61.96},{\"t\":20,\"r\":9766,\"x\":3.57,\"y\":58.98},{\"t\":20,\"r\":9768,\"x\":15.88,\"y\":68.73},{\"t\":20,\"r\":9763,\"x\":9.32,\"y\":78.56},{\"t\":10},{\"t\":20,\"r\":9793,\"x\":19.96,\"y\":75.87},{\"t\":20,\"r\":9763,\"x\":14.35,\"y\":70.92},{\"t\":20,\"r\":9781,\"x\":-7.66,\"y\":79.07},{\"t\":20,\"r\":9763,\"x\":-13.63,\"y\":85.7},{\"t\":22,\"r\":9793,\"x\":-16.33,\"y\":105.5,\"s\":620},{\"t\":2,\"l\":[9757,9760,9788,9784,9759,9782,9761]},{\"t\":3,\"r\":9760,\"x\":12.02,\"y\":79.87,\"ms\":6719},{\"t\":21,\"s\":582},{\"t\":1,\"l\":[9780,9768,9781,9772,9769,9795,9766]},{\"t\":20,\"r\":9781,\"x\":15,\"y\":28.32},{\"t\":20,\"r\":9766,\"x\":9.32,\"y\":36.69},{\"t\":20,\"r\":9769,\"x\":19.96,\"y\":48.56},{\"t\":20,\"r\":9766,\"x\":4.37,\"y\":41.35},{\"t\":20,\"r\":9780,\"x\":12.38,\"y\":49.15},{\"t\":20,\"r\":9781,\"x\":18.72,\"y\":65.31},{\"t\":22,\"r\":9795,\"x\":-5.54,\"y\":109.29,\"s\":547},{\"t\":2,\"l\":[9757,9759,9762,9775,9764,9777,9788]},{\"t\":3,\"r\":9759,\"x\":-8.31,\"y\":87.01,\"ms\":7577},{\"t\":21,\"s\":498},{\"t\":1,\"l\":[9769,9768,9772,9763,9780,9793,9781]},{\"t\":20,\"r\":9793,\"x\":-26.67,\"y\":79.36},{\"t\":17},{\"t\":15,\"s\":425},{\"t\":40,\"l\":[9757,9759,9760,9761,9782,9784,9788]},{\"t\":11},{\"t\":21,\"s\":386},{\"t\":1,\"l\":[9763,9766,9768,9795,9772,9781,9793]},{\"t\":20,\"r\":9793,\"x\":3.35,\"y\":18.93},{\"t\":20,\"r\":9766,\"x\":0.72,\"y\":34.51},{\"t\":20,\"r\":9768,\"x\":19.23,\"y\":42.96},{\"t\":20,\"r\":9763,\"x\":10.12,\"y\":43.32},{\"t\":20,\"r\":9766,\"x\":-8.89,\"y\":51.4},{\"t\":20,\"r\":9781,\"x\":8.23,\"y\":50.97},{\"t\":20,\"r\":9772,\"x\":19.3,\"y\":75},{\"t\":20,\"r\":9781,\"x\":17.92,\"y\":66.33},{\"t\":20,\"r\":9793,\"x\":19.81,\"y\":84.32},{\"t\":20,\"r\":9781,\"x\":4.88,\"y\":75.29},{\"t\":20,\"r\":9766,\"x\":-14.5,\"y\":79.15},{\"t\":20,\"r\":9768,\"x\":-8.98,\"y\":76.01},{\"t\":20,\"r\":9763,\"x\":-15.31,\"y\":70.7},{\"t\":20,\"r\":9793,\"x\":-21.79,\"y\":82.5},{\"t\":10},{\"t\":20,\"r\":9763,\"x\":-21.64,\"y\":68},{\"t\":20,\"r\":9781,\"x\":-8.82,\"y\":65.31},{\"t\":20,\"r\":9766,\"x\":-16.69,\"y\":72.01},{\"t\":20,\"r\":9781,\"x\":-6.71,\"y\":77.69},{\"t\":20,\"r\":9768,\"x\":5.24,\"y\":84.1},{\"t\":20,\"r\":9766,\"x\":-7.36,\"y\":78.13},{\"t\":22,\"r\":9795,\"x\":-2.99,\"y\":110.6,\"s\":272},{\"t\":2,\"l\":[9775,9764,9777,9761,9760,9784,9782]},{\"t\":3,\"r\":9761,\"x\":7.94,\"y\":101.72,\"ms\":5236},{\"t\":13},{\"t\":21,\"s\":162},{\"t\":1,\"l\":[9780,9766,9769,9763,9772,9793,9781]},{\"t\":20,\"r\":9780,\"x\":7.35,\"y\":21.18},{\"t\":20,\"r\":9793,\"x\":7.21,\"y\":32.69},{\"t\":20,\"r\":9772,\"x\":8.23,\"y\":41.57},{\"t\":8,\"x\":-6.78,\"y\":40.48},{\"t\":15,\"s\":128},{\"t\":40,\"l\":[9761,9759,9768,9784,9788,9782,9769]},{\"t\":53},{\"t\":21,\"s\":119},{\"t\":1,\"l\":[9763,9766,9780,9781,9772,9795,9768]},{\"t\":20,\"r\":9781,\"x\":-26.67,\"y\":80.82},{\"t\":8,\"x\":-19.53,\"y\":87.74},{\"t\":21,\"s\":43},{\"t\":1,\"l\":[9784,9760,9793,9763,9782,9768,9769]},{\"t\":20,\"r\":9782,\"x\":-17.35,\"y\":20},{\"t\":20,\"r\":9793,\"x\":0.58,\"y\":26.14},{\"t\":20,\"r\":9784,\"x\":11.8,\"y\":34.95},{\"t\":20,\"r\":9769,\"x\":22.44,\"y\":58.39},{\"t\":20,\"r\":9793,\"x\":11,\"y\":55.12},{\"t\":20,\"r\":9769,\"x\":9.69,\"y\":49.87},{\"t\":20,\"r\":9784,\"x\":15.95,\"y\":59.49},{\"t\":20,\"r\":9782,\"x\":4.88,\"y\":58.1},{\"t\":20,\"r\":9768,\"x\":-12.76,\"y\":58.9},{\"t\":20,\"r\":9769,\"x\":2.98,\"y\":66.55},{\"t\":20,\"r\":9784,\"x\":12.02,\"y\":70.48},{\"t\":20,\"r\":9768,\"x\":0.72,\"y\":69.75},{\"t\":20,\"r\":9782,\"x\":12.89,\"y\":75.29},{\"t\":22,\"r\":9763,\"x\":14.71,\"y\":107.4,\"s\":0},{\"t\":25},{\"t\":2,\"l\":[9760,9782,9764,9759,9761,9784,9793]},{\"t\":3,\"r\":9759,\"x\":-15.74,\"y\":84.53,\"ms\":8446},{\"t\":5,\"r\":9764},{\"t\":20,\"r\":9761,\"x\":21.05,\"y\":14.7},{\"t\":20,\"r\":9782,\"x\":21.49,\"y\":25.19},{\"t\":8,\"x\":21.12,\"y\":38.22},{\"t\":21,\"s\":647},{\"t\":1,\"l\":[9766,9780,9763,9769,9781,9795,9768]},{\"t\":20,\"r\":9766,\"x\":0,\"y\":10},{\"t\":20,\"r\":9769,\"x\":-7.07,\"y\":18.93},{\"t\":20,\"r\":9768,\"x\":-12.76,\"y\":22.13},{\"t\":20,\"r\":9763,\"x\":0.14,\"y\":38.59},{\"t\":20,\"r\":9768,\"x\":-1.32,\"y\":46.74},{\"t\":20,\"r\":9769,\"x\":-11.74,\"y\":52.06},{\"t\":20,\"r\":9768,\"x\":-3.21,\"y\":51.69},{\"t\":20,\"r\":9763,\"x\":-0.08,\"y\":58.76},{\"t\":20,\"r\":9768,\"x\":-12.25,\"y\":65.02},{\"t\":20,\"r\":9769,\"x\":2.4,\"y\":62.11},{\"t\":20,\"r\":9781,\"x\":9.18,\"y\":64.15},{\"t\":22,\"r\":9768,\"x\":16.32,\"y\":105.07,\"s\":605},{\"t\":2,\"l\":[9761,9782,9784,9777,9760,9759,9788]},{\"t\":3,\"r\":9759,\"x\":-13.41,\"y\":96.99,\"ms\":7211},{\"t\":5,\"r\":9784},{\"t\":20,\"r\":9782,\"x\":14.93,\"y\":21.26},{\"t\":14,\"s\":492},{\"t\":41,\"l\":[9795,9769,9766,9781,9768,9780,9763]},{\"t\":20,\"r\":9768,\"x\":14.93,\"y\":21.26},{\"t\":20,\"r\":9769,\"x\":-4.74,\"y\":23.08},{\"t\":20,\"r\":9780,\"x\":-15.96,\"y\":21.33},{\"t\":20,\"r\":9795,\"x\":-23.61,\"y\":38.73},{\"t\":20,\"r\":9780,\"x\":-12.03,\"y\":32.83},{\"t\":20,\"r\":9768,\"x\":-3.36,\"y\":33.85},{\"t\":20,\"r\":9769,\"x\":5.53,\"y\":32.83},{\"t\":20,\"r\":9768,\"x\":15.37,\"y\":40.77},{\"t\":20,\"r\":9766,\"x\":18.06,\"y\":45.36},{\"t\":20,\"r\":9769,\"x\":2.55,\"y\":46.09},{\"t\":20,\"r\":9766,\"x\":16.39,\"y\":47.33},{\"t\":20,\"r\":9763,\"x\":0.14,\"y\":99.99},{\"t\":12,\"c\":true},{\"t\":20,\"r\":9769,\"x\":19.81,\"y\":97.86},{\"t\":22,\"r\":9795,\"x\":-16.54,\"y\":116.28,\"s\":405},{\"t\":2,\"l\":[9761,9757,9764,9793,9788,9777,9772]},{\"t\":3,\"r\":9761,\"x\":11.22,\"y\":86.21,\"ms\":8042},{\"t\":5,\"r\":9793},{\"t\":20,\"r\":9793,\"x\":-12.39,\"y\":67.71},{\"t\":20,\"r\":9772,\"x\":-10.5,\"y\":80.46},{\"t\":20,\"r\":9764,\"x\":6.04,\"y\":78.64},{\"t\":20,\"r\":9793,\"x\":-12.03,\"y\":90.07},{\"t\":22,\"r\":9761,\"x\":-18.37,\"y\":107.91,\"s\":371},{\"t\":2,\"l\":[9760,9761,9757,9768,9782,9759,9764]},{\"t\":3,\"r\":9761,\"x\":6.92,\"y\":84.46,\"ms\":6026},{\"t\":21,\"s\":335},{\"t\":1,\"l\":[9763,9766,9781,9769,9795,9793,9768]},{\"t\":20,\"r\":9781,\"x\":4.08,\"y\":21.84},{\"t\":20,\"r\":9766,\"x\":6.7,\"y\":31.52},{\"t\":20,\"r\":9763,\"x\":9.54,\"y\":40.99},{\"t\":20,\"r\":9793,\"x\":10.27,\"y\":31.67},{\"t\":20,\"r\":9763,\"x\":0.65,\"y\":30.72},{\"t\":20,\"r\":9793,\"x\":12.53,\"y\":31.45},{\"t\":20,\"r\":9766,\"x\":20.61,\"y\":41.14},{\"t\":20,\"r\":9768,\"x\":19.81,\"y\":56.86},{\"t\":20,\"r\":9769,\"x\":16.97,\"y\":69.68},{\"t\":20,\"r\":9766,\"x\":12.24,\"y\":79.66},{\"t\":20,\"r\":9793,\"x\":-4.89,\"y\":82.79},{\"t\":20,\"r\":9769,\"x\":-14.87,\"y\":97.42},{\"t\":20,\"r\":9766,\"x\":3.42,\"y\":94.36},{\"t\":20,\"r\":9768,\"x\":16.75,\"y\":96.99},{\"t\":8,\"x\":17.19,\"y\":104.7},{\"t\":6,\"r\":9769,\"s\":248},{\"t\":2,\"l\":[9761,9784,9788,9760,9759,9782,9764]},{\"t\":3,\"r\":9761,\"x\":13.84,\"y\":97.57,\"ms\":5810},{\"t\":21,\"s\":204},{\"t\":1,\"l\":[9769,9766,9781,9763,9772,9768,9795]},{\"t\":20,\"r\":9781,\"x\":1.23,\"y\":22.57},{\"t\":20,\"r\":9766,\"x\":0.94,\"y\":33.13},{\"t\":20,\"r\":9769,\"x\":-11.59,\"y\":33.49},{\"t\":19,\"r\":9768,\"x\":-18.66,\"y\":49.95},{\"t\":21,\"s\":166},{\"t\":1,\"l\":[9768,9769,9772,9781,9795,9766,9763]},{\"t\":20,\"r\":9766,\"x\":-1.17,\"y\":46.89},{\"t\":20,\"r\":9763,\"x\":18.87,\"y\":47.69},{\"t\":20,\"r\":9769,\"x\":21.05,\"y\":64.29},{\"t\":20,\"r\":9763,\"x\":8.67,\"y\":56.72},{\"t\":20,\"r\":9766,\"x\":21.78,\"y\":65.24},{\"t\":20,\"r\":9763,\"x\":5.31,\"y\":67.42},{\"t\":20,\"r\":9768,\"x\":-4.09,\"y\":71.86},{\"t\":20,\"r\":9763,\"x\":-1.46,\"y\":66.91},{\"t\":20,\"r\":9768,\"x\":4.51,\"y\":68.44},{\"t\":20,\"r\":9763,\"x\":-3.21,\"y\":72.59},{\"t\":20,\"r\":9769,\"x\":5.75,\"y\":75.5},{\"t\":20,\"r\":9781,\"x\":-6.78,\"y\":72.66},{\"t\":20,\"r\":9766,\"x\":-3.72,\"y\":90.58},{\"t\":20,\"r\":9769,\"x\":-10.06,\"y\":80.75},{\"t\":22,\"r\":9763,\"x\":-22.08,\"y\":102.08,\"s\":106},{\"t\":2,\"l\":[9761,9782,9784,9769,9764,9760,9759]},{\"t\":3,\"r\":9760,\"x\":17.55,\"y\":92.47,\"ms\":6712},{\"t\":11},{\"t\":21,\"s\":57},{\"t\":1,\"l\":[9766,9768,9772,9781,9795,9784,9782]},{\"t\":20,\"r\":9766,\"x\":-13.48,\"y\":21.04},{\"t\":20,\"r\":9781,\"x\":-11.59,\"y\":26.65},{\"t\":20,\"r\":9772,\"x\":-6.78,\"y\":45.8},{\"t\":20,\"r\":9795,\"x\":12.89,\"y\":49.95},{\"t\":20,\"r\":9768,\"x\":17.63,\"y\":58.68},{\"t\":20,\"r\":9781,\"x\":-12.32,\"y\":69.46},{\"t\":20,\"r\":9772,\"x\":-17.56,\"y\":78.49},{\"t\":20,\"r\":9782,\"x\":-16.91,\"y\":80.89},{\"t\":20,\"r\":9781,\"x\":-3.65,\"y\":88.25},{\"t\":20,\"r\":9784,\"x\":7.43,\"y\":94.29},{\"t\":22,\"r\":9782,\"x\":11.73,\"y\":104.19,\"s\":28},{\"t\":2,\"l\":[9759,9760,9761,9793,9769,9784,9764]},{\"t\":3,\"r\":9760,\"x\":-26.6,\"y\":50.89,\"ms\":1547},{\"t\":21,\"s\":0},{\"t\":26}]',\n",
       "  'updateMoment': '2022-05-01T01:06:02.554Z',\n",
       "  'statusId': 100,\n",
       "  'scoreTimesOur': [0,\n",
       "   52,\n",
       "   122,\n",
       "   294,\n",
       "   476,\n",
       "   618,\n",
       "   881,\n",
       "   1051,\n",
       "   1271,\n",
       "   1360,\n",
       "   1540,\n",
       "   1613,\n",
       "   1888,\n",
       "   2160,\n",
       "   2275,\n",
       "   2475,\n",
       "   2509,\n",
       "   2632,\n",
       "   2774,\n",
       "   2852],\n",
       "  'scoreTimesTheir': [0,\n",
       "   79,\n",
       "   197,\n",
       "   397,\n",
       "   577,\n",
       "   657,\n",
       "   769,\n",
       "   857,\n",
       "   957,\n",
       "   1142,\n",
       "   1404,\n",
       "   1578,\n",
       "   1662,\n",
       "   1774,\n",
       "   1998,\n",
       "   2041,\n",
       "   2117,\n",
       "   2233,\n",
       "   2545,\n",
       "   2676,\n",
       "   2714,\n",
       "   2823,\n",
       "   2880],\n",
       "  'completionsNumer': 251,\n",
       "  'completionsDenom': 261,\n",
       "  'hucksNumer': 5,\n",
       "  'hucksDenom': 5,\n",
       "  'blocks': 5,\n",
       "  'turnovers': 10,\n",
       "  'oLineScores': 15,\n",
       "  'oLinePoints': 23,\n",
       "  'oLinePossessions': 25,\n",
       "  'dLineScores': 3,\n",
       "  'dLinePoints': 20,\n",
       "  'dLinePossessions': 4,\n",
       "  'redZoneScores': 13,\n",
       "  'redZonePossessions': 17,\n",
       "  'rosterIds': [9759,\n",
       "   9762,\n",
       "   9764,\n",
       "   9766,\n",
       "   9768,\n",
       "   9769,\n",
       "   9772,\n",
       "   9780,\n",
       "   9781,\n",
       "   9782,\n",
       "   9784,\n",
       "   9788,\n",
       "   9793,\n",
       "   9795,\n",
       "   9760,\n",
       "   9777,\n",
       "   9761,\n",
       "   9757,\n",
       "   9763,\n",
       "   9775]},\n",
       " 'tsgAway': {'id': 2640,\n",
       "  'teamSeasonId': 239,\n",
       "  'gameId': 2809,\n",
       "  'source': 'sk-v2',\n",
       "  'startOnOffense': False,\n",
       "  'events': '[{\"t\":50},{\"t\":2,\"l\":[9822,9821,9820,9802,9811,9819,9816]},{\"t\":3,\"r\":9821,\"x\":-21.79,\"y\":93.42,\"ms\":6837},{\"t\":21,\"s\":668},{\"t\":1,\"l\":[9804,9799,9817,9797,9803,9801,9823]},{\"t\":20,\"r\":9804,\"x\":1.6,\"y\":25.41},{\"t\":20,\"r\":9803,\"x\":6.41,\"y\":38.59},{\"t\":20,\"r\":9797,\"x\":22.95,\"y\":49.87},{\"t\":20,\"r\":9817,\"x\":23.31,\"y\":66.62},{\"t\":20,\"r\":9799,\"x\":22.87,\"y\":85.63},{\"t\":22,\"r\":9803,\"x\":19.23,\"y\":113.73,\"s\":641},{\"t\":2,\"l\":[9800,9809,9816,9813,9824,9808,9806]},{\"t\":3,\"r\":9809,\"x\":-18.44,\"y\":96.48,\"ms\":7811},{\"t\":21,\"s\":598},{\"t\":1,\"l\":[9804,9799,9817,9797,9803,9801,9823]},{\"t\":20,\"r\":9804,\"x\":19.81,\"y\":29.19},{\"t\":20,\"r\":9803,\"x\":23.97,\"y\":36.11},{\"t\":20,\"r\":9804,\"x\":6.99,\"y\":32.69},{\"t\":20,\"r\":9797,\"x\":-12.97,\"y\":46.52},{\"t\":20,\"r\":9817,\"x\":2.55,\"y\":53.88},{\"t\":20,\"r\":9823,\"x\":20.83,\"y\":55.63},{\"t\":20,\"r\":9803,\"x\":-14.29,\"y\":54.68},{\"t\":20,\"r\":9801,\"x\":-18.44,\"y\":75},{\"t\":20,\"r\":9799,\"x\":-9.33,\"y\":86.06},{\"t\":20,\"r\":9797,\"x\":-15.45,\"y\":96.91},{\"t\":20,\"r\":9803,\"x\":-2.77,\"y\":85.55},{\"t\":20,\"r\":9797,\"x\":7.43,\"y\":89.63},{\"t\":20,\"r\":9823,\"x\":-7.29,\"y\":95.89},{\"t\":20,\"r\":9797,\"x\":-1.54,\"y\":83.15},{\"t\":20,\"r\":9823,\"x\":8.16,\"y\":88.83},{\"t\":20,\"r\":9797,\"x\":-8.82,\"y\":95.16},{\"t\":22,\"r\":9799,\"x\":-16.33,\"y\":107.11,\"s\":523},{\"t\":2,\"l\":[9822,9821,9820,9802,9811,9819,9809]},{\"t\":3,\"r\":9821,\"x\":4.59,\"y\":90.21,\"ms\":6034},{\"t\":21,\"s\":426},{\"t\":1,\"l\":[9804,9799,9817,9797,9803,9801,9823]},{\"t\":20,\"r\":9803,\"x\":-10.06,\"y\":27.66},{\"t\":20,\"r\":9804,\"x\":4.22,\"y\":36.77},{\"t\":20,\"r\":9817,\"x\":19.38,\"y\":46.6},{\"t\":20,\"r\":9804,\"x\":3.86,\"y\":39.1},{\"t\":20,\"r\":9803,\"x\":-12.25,\"y\":40.41},{\"t\":20,\"r\":9804,\"x\":4.88,\"y\":43.68},{\"t\":20,\"r\":9801,\"x\":18.87,\"y\":51.62},{\"t\":20,\"r\":9797,\"x\":22.95,\"y\":63.42},{\"t\":20,\"r\":9799,\"x\":23.53,\"y\":77.4},{\"t\":20,\"r\":9801,\"x\":0.65,\"y\":76.45},{\"t\":20,\"r\":9817,\"x\":-13.99,\"y\":86.72},{\"t\":20,\"r\":9804,\"x\":0.94,\"y\":75.36},{\"t\":20,\"r\":9823,\"x\":-13.85,\"y\":86.14},{\"t\":10},{\"t\":20,\"r\":9804,\"x\":-15.31,\"y\":60.58},{\"t\":20,\"r\":9823,\"x\":5.39,\"y\":67.71},{\"t\":20,\"r\":9804,\"x\":-16.54,\"y\":78.93},{\"t\":20,\"r\":9803,\"x\":19.67,\"y\":80.38},{\"t\":22,\"r\":9817,\"x\":22.14,\"y\":112.71,\"s\":323},{\"t\":2,\"l\":[9800,9809,9816,9813,9824,9808,9806]},{\"t\":3,\"r\":9809,\"x\":-8.82,\"y\":91.16,\"ms\":5477},{\"t\":21,\"s\":244},{\"t\":1,\"l\":[9804,9799,9817,9797,9803,9801,9823]},{\"t\":20,\"r\":9804,\"x\":21.2,\"y\":30.14},{\"t\":20,\"r\":9803,\"x\":3.71,\"y\":31.82},{\"t\":20,\"r\":9797,\"x\":17.26,\"y\":51.4},{\"t\":20,\"r\":9804,\"x\":-5.11,\"y\":46.38},{\"t\":20,\"r\":9797,\"x\":8.88,\"y\":48.13},{\"t\":20,\"r\":9817,\"x\":21.42,\"y\":58.32},{\"t\":20,\"r\":9797,\"x\":4.95,\"y\":54.02},{\"t\":20,\"r\":9823,\"x\":15,\"y\":60.58},{\"t\":20,\"r\":9804,\"x\":-8.31,\"y\":52.57},{\"t\":20,\"r\":9817,\"x\":-14.14,\"y\":63.85},{\"t\":20,\"r\":9804,\"x\":-18.8,\"y\":50.31},{\"t\":14,\"s\":180},{\"t\":41,\"l\":[9804,9799,9817,9797,9803,9801,9823]},{\"t\":20,\"r\":9804,\"x\":-18.8,\"y\":50.31},{\"t\":20,\"r\":9801,\"x\":8.45,\"y\":49.87},{\"t\":20,\"r\":9797,\"x\":15.95,\"y\":56.21},{\"t\":20,\"r\":9799,\"x\":20.61,\"y\":65.82},{\"t\":20,\"r\":9804,\"x\":4.15,\"y\":97.42},{\"t\":12,\"c\":true},{\"t\":20,\"r\":9804,\"x\":0,\"y\":100},{\"t\":22,\"r\":9797,\"x\":21.71,\"y\":108.13,\"s\":143},{\"t\":2,\"l\":[9822,9821,9820,9802,9811,9819,9816]},{\"t\":3,\"r\":9821,\"x\":-20.48,\"y\":83.66,\"ms\":3652},{\"t\":21,\"s\":102},{\"t\":1,\"l\":[9804,9799,9817,9797,9803,9801,9823]},{\"t\":20,\"r\":9803,\"x\":-6.93,\"y\":28.76},{\"t\":20,\"r\":9804,\"x\":3.78,\"y\":33.71},{\"t\":20,\"r\":9803,\"x\":-11.44,\"y\":38.44},{\"t\":20,\"r\":9817,\"x\":1.09,\"y\":45.07},{\"t\":20,\"r\":9799,\"x\":8.08,\"y\":59.19},{\"t\":20,\"r\":9804,\"x\":0.29,\"y\":45.58},{\"t\":20,\"r\":9817,\"x\":17.48,\"y\":64.51},{\"t\":20,\"r\":9797,\"x\":14.64,\"y\":82.35},{\"t\":22,\"r\":9799,\"x\":7.57,\"y\":114.46,\"s\":63},{\"t\":2,\"l\":[9822,9821,9820,9802,9811,9819,9823]},{\"t\":3,\"r\":9821,\"x\":22.87,\"y\":44.34,\"ms\":1319},{\"t\":23},{\"t\":1,\"l\":[9804,9799,9817,9797,9803,9801,9823]},{\"t\":20,\"r\":9804,\"x\":18.14,\"y\":27.37},{\"t\":20,\"r\":9803,\"x\":4.59,\"y\":25.7},{\"t\":20,\"r\":9817,\"x\":-12.97,\"y\":33.34},{\"t\":20,\"r\":9823,\"x\":11.73,\"y\":39.46},{\"t\":20,\"r\":9797,\"x\":22.44,\"y\":53.37},{\"t\":20,\"r\":9801,\"x\":5.46,\"y\":53.88},{\"t\":20,\"r\":9823,\"x\":0.65,\"y\":42.52},{\"t\":20,\"r\":9804,\"x\":-14.14,\"y\":58.39},{\"t\":20,\"r\":9823,\"x\":-0.73,\"y\":49.44},{\"t\":20,\"r\":9804,\"x\":11.8,\"y\":64.87},{\"t\":22,\"r\":9799,\"x\":18.36,\"y\":111.84,\"s\":671},{\"t\":2,\"l\":[9822,9821,9820,9802,9811,9819,9813]},{\"t\":3,\"r\":9821,\"x\":-11.01,\"y\":95.97,\"ms\":7680},{\"t\":5,\"r\":9820},{\"t\":20,\"r\":9802,\"x\":-20.92,\"y\":39.46},{\"t\":20,\"r\":9811,\"x\":-2.41,\"y\":29.99},{\"t\":20,\"r\":9813,\"x\":15.08,\"y\":38.15},{\"t\":20,\"r\":9820,\"x\":16.39,\"y\":48.78},{\"t\":20,\"r\":9813,\"x\":-8.53,\"y\":59.99},{\"t\":20,\"r\":9820,\"x\":6.04,\"y\":69.9},{\"t\":22,\"r\":9822,\"x\":18.36,\"y\":113.73,\"s\":583},{\"t\":2,\"l\":[9800,9809,9816,9824,9808,9806,9799]},{\"t\":3,\"r\":9809,\"x\":-20.48,\"y\":60.87,\"ms\":1714},{\"t\":21,\"s\":559},{\"t\":1,\"l\":[9804,9799,9817,9797,9803,9801,9823]},{\"t\":20,\"r\":9803,\"x\":3.71,\"y\":25.99},{\"t\":20,\"r\":9804,\"x\":-0.88,\"y\":37.5},{\"t\":20,\"r\":9803,\"x\":-16.47,\"y\":32.98},{\"t\":20,\"r\":9804,\"x\":0.8,\"y\":26.35},{\"t\":20,\"r\":9803,\"x\":-11.08,\"y\":20.02},{\"t\":20,\"r\":9804,\"x\":2.91,\"y\":12.01},{\"t\":20,\"r\":9823,\"x\":-9.33,\"y\":22.71},{\"t\":20,\"r\":9797,\"x\":-11.08,\"y\":36.4},{\"t\":20,\"r\":9799,\"x\":-19.09,\"y\":53.51},{\"t\":20,\"r\":9801,\"x\":-18,\"y\":77.83},{\"t\":20,\"r\":9803,\"x\":-1.61,\"y\":80.82},{\"t\":20,\"r\":9797,\"x\":-0.44,\"y\":65.09},{\"t\":20,\"r\":9817,\"x\":9.69,\"y\":74.85},{\"t\":20,\"r\":9804,\"x\":20.54,\"y\":77.62},{\"t\":20,\"r\":9801,\"x\":16.9,\"y\":88.98},{\"t\":20,\"r\":9804,\"x\":4,\"y\":84.61},{\"t\":20,\"r\":9797,\"x\":-16.11,\"y\":84.97},{\"t\":22,\"r\":9817,\"x\":15.88,\"y\":110.6,\"s\":483},{\"t\":2,\"l\":[9822,9821,9820,9802,9811,9819,9816]},{\"t\":3,\"r\":9821,\"x\":7.06,\"y\":87.81,\"ms\":9091},{\"t\":5,\"r\":9811},{\"t\":20,\"r\":9802,\"x\":10.85,\"y\":51.48},{\"t\":20,\"r\":9822,\"x\":-4.67,\"y\":43.25},{\"t\":20,\"r\":9802,\"x\":13.47,\"y\":52.93},{\"t\":20,\"r\":9819,\"x\":21.63,\"y\":77.03},{\"t\":20,\"r\":9802,\"x\":17.12,\"y\":66.69},{\"t\":20,\"r\":9819,\"x\":0.07,\"y\":64.95},{\"t\":20,\"r\":9802,\"x\":7.35,\"y\":58.32},{\"t\":20,\"r\":9816,\"x\":-9.33,\"y\":68.95},{\"t\":8,\"x\":21.85,\"y\":102.52},{\"t\":21,\"s\":389},{\"t\":1,\"l\":[9804,9799,9817,9797,9803,9801,9823]},{\"t\":20,\"r\":9804,\"x\":0,\"y\":40},{\"t\":20,\"r\":9797,\"x\":15.15,\"y\":48.27},{\"t\":20,\"r\":9803,\"x\":-6.49,\"y\":47.11},{\"t\":20,\"r\":9804,\"x\":-6.49,\"y\":47.11},{\"t\":12},{\"t\":20,\"r\":9797,\"x\":-14.87,\"y\":70.19},{\"t\":20,\"r\":9799,\"x\":-22.37,\"y\":82.79},{\"t\":20,\"r\":9797,\"x\":-17.71,\"y\":66.48},{\"t\":20,\"r\":9804,\"x\":-3.58,\"y\":57.52},{\"t\":20,\"r\":9797,\"x\":10.71,\"y\":63.71},{\"t\":20,\"r\":9817,\"x\":18.72,\"y\":76.89},{\"t\":20,\"r\":9801,\"x\":3.13,\"y\":79.66},{\"t\":20,\"r\":9799,\"x\":17.19,\"y\":88.17},{\"t\":22,\"r\":9817,\"x\":21.12,\"y\":112.35,\"s\":298},{\"t\":2,\"l\":[9800,9809,9816,9813,9824,9808,9806]},{\"t\":3,\"r\":9809,\"x\":7.86,\"y\":86.14,\"ms\":5768},{\"t\":9},{\"t\":20,\"r\":9808,\"x\":8.01,\"y\":19.66},{\"t\":20,\"r\":9813,\"x\":-9.4,\"y\":21.91},{\"t\":14,\"s\":243},{\"t\":41,\"l\":[9804,9799,9817,9797,9803,9801,9823]},{\"t\":20,\"r\":9804,\"x\":-9.4,\"y\":21.91},{\"t\":20,\"r\":9797,\"x\":7.5,\"y\":24.68},{\"t\":20,\"r\":9817,\"x\":20.61,\"y\":42.66},{\"t\":20,\"r\":9799,\"x\":10.85,\"y\":53.22},{\"t\":20,\"r\":9804,\"x\":-0.08,\"y\":43.76},{\"t\":20,\"r\":9801,\"x\":20.1,\"y\":49.58},{\"t\":19,\"r\":9797,\"x\":9.83,\"y\":80.24},{\"t\":15,\"s\":199},{\"t\":40,\"l\":[9799,9820,9822,9823,9819,9811,9817]},{\"t\":21,\"s\":169},{\"t\":1,\"l\":[9804,9799,9817,9797,9803,9801,9823]},{\"t\":20,\"r\":9803,\"x\":12.09,\"y\":29.12},{\"t\":20,\"r\":9804,\"x\":-0.81,\"y\":42.96},{\"t\":20,\"r\":9803,\"x\":-5.03,\"y\":31.45},{\"t\":20,\"r\":9817,\"x\":-0.95,\"y\":46.74},{\"t\":20,\"r\":9797,\"x\":0.56,\"y\":50.59},{\"t\":8,\"x\":-1.03,\"y\":64.15},{\"t\":15,\"s\":133},{\"t\":40,\"l\":[9822,9821,9820,9802,9811,9819,9816]},{\"t\":21,\"s\":80},{\"t\":1,\"l\":[9804,9799,9817,9797,9803,9801,9823]},{\"t\":20,\"r\":9804,\"x\":-16.62,\"y\":33.93},{\"t\":20,\"r\":9803,\"x\":1.6,\"y\":33.13},{\"t\":20,\"r\":9817,\"x\":12.31,\"y\":44.27},{\"t\":20,\"r\":9799,\"x\":23.09,\"y\":55.92},{\"t\":20,\"r\":9801,\"x\":11.29,\"y\":74.05},{\"t\":20,\"r\":9797,\"x\":16.02,\"y\":89.7},{\"t\":20,\"r\":9801,\"x\":9.03,\"y\":79.44},{\"t\":20,\"r\":9799,\"x\":20.4,\"y\":92.47},{\"t\":22,\"r\":9803,\"x\":-9.48,\"y\":112.71,\"s\":36},{\"t\":2,\"l\":[9822,9820,9799,9811,9817,9819,9823]},{\"t\":3,\"r\":9799,\"x\":16.02,\"y\":91.82,\"ms\":846},{\"t\":5,\"r\":9822},{\"t\":20,\"r\":9811,\"x\":-19.09,\"y\":31.82},{\"t\":20,\"r\":9823,\"x\":-1.75,\"y\":33.56},{\"t\":8,\"x\":15.08,\"y\":88.61},{\"t\":24},{\"t\":2,\"l\":[9822,9821,9820,9802,9811,9819,9813]},{\"t\":4,\"r\":9821,\"x\":0,\"y\":80},{\"t\":21,\"s\":620},{\"t\":1,\"l\":[9804,9799,9817,9797,9803,9801,9823]},{\"t\":20,\"r\":9803,\"x\":-16.98,\"y\":35.67},{\"t\":20,\"r\":9804,\"x\":1.82,\"y\":35.09},{\"t\":20,\"r\":9803,\"x\":-14.58,\"y\":41.72},{\"t\":20,\"r\":9823,\"x\":7.14,\"y\":46.38},{\"t\":20,\"r\":9797,\"x\":5.46,\"y\":57.01},{\"t\":22,\"r\":9801,\"x\":16.23,\"y\":112.71,\"s\":577},{\"t\":2,\"l\":[9800,9809,9816,9813,9824,9808,9806]},{\"t\":3,\"r\":9813,\"x\":-18.07,\"y\":84.9,\"ms\":7531},{\"t\":54,\"s\":512},{\"t\":21,\"s\":545},{\"t\":1,\"l\":[9804,9799,9817,9797,9803,9801,9823]},{\"t\":20,\"r\":9804,\"x\":15.3,\"y\":31.45},{\"t\":20,\"r\":9803,\"x\":0.29,\"y\":36.62},{\"t\":20,\"r\":9799,\"x\":14.35,\"y\":45.43},{\"t\":20,\"r\":9803,\"x\":-2.12,\"y\":36.84},{\"t\":20,\"r\":9817,\"x\":-16.03,\"y\":46.82},{\"t\":20,\"r\":9823,\"x\":3.93,\"y\":46.01},{\"t\":20,\"r\":9801,\"x\":19.59,\"y\":54.97},{\"t\":20,\"r\":9797,\"x\":-4.38,\"y\":96.69},{\"t\":22,\"r\":9817,\"x\":12.31,\"y\":108.2,\"s\":498},{\"t\":2,\"l\":[9822,9821,9820,9802,9811,9819,9816]},{\"t\":3,\"r\":9821,\"x\":23.6,\"y\":48.27,\"ms\":1468},{\"t\":18},{\"t\":20,\"r\":9811,\"x\":24.69,\"y\":49.15},{\"t\":20,\"r\":9802,\"x\":4.95,\"y\":41.57},{\"t\":20,\"r\":9821,\"x\":-10.13,\"y\":43.32},{\"t\":20,\"r\":9802,\"x\":7.14,\"y\":40.55},{\"t\":20,\"r\":9811,\"x\":-10.13,\"y\":50.97},{\"t\":20,\"r\":9820,\"x\":-22.01,\"y\":58.1},{\"t\":20,\"r\":9821,\"x\":7.5,\"y\":47.83},{\"t\":20,\"r\":9822,\"x\":-5.18,\"y\":94.36},{\"t\":14,\"s\":425},{\"t\":41,\"l\":[9804,9799,9817,9797,9803,9823,9822]},{\"t\":20,\"r\":9803,\"x\":-5.18,\"y\":94.36},{\"t\":20,\"r\":9822,\"x\":6.99,\"y\":95.82},{\"t\":10},{\"t\":20,\"r\":9797,\"x\":-0.66,\"y\":92.98},{\"t\":22,\"r\":9823,\"x\":-1.9,\"y\":107.11,\"s\":326},{\"t\":2,\"l\":[9822,9821,9820,9802,9811,9819,9813]},{\"t\":3,\"r\":9821,\"x\":-1.75,\"y\":105.36,\"ms\":6805},{\"t\":21,\"s\":272},{\"t\":1,\"l\":[9804,9799,9817,9797,9803,9801,9823]},{\"t\":20,\"r\":9804,\"x\":-10.79,\"y\":34.29},{\"t\":20,\"r\":9803,\"x\":2.18,\"y\":43.39},{\"t\":20,\"r\":9817,\"x\":16.46,\"y\":46.45},{\"t\":20,\"r\":9799,\"x\":20.54,\"y\":55.33},{\"t\":20,\"r\":9804,\"x\":0.51,\"y\":43.17},{\"t\":20,\"r\":9823,\"x\":18.94,\"y\":40.99},{\"t\":10},{\"t\":20,\"r\":9799,\"x\":-1.54,\"y\":37.93},{\"t\":20,\"r\":9803,\"x\":-18.51,\"y\":40.41},{\"t\":20,\"r\":9801,\"x\":-17.78,\"y\":56.57},{\"t\":20,\"r\":9817,\"x\":-0.15,\"y\":65.75},{\"t\":20,\"r\":9799,\"x\":-21.57,\"y\":77.4},{\"t\":20,\"r\":9801,\"x\":-11.52,\"y\":68.37},{\"t\":20,\"r\":9804,\"x\":9.83,\"y\":58.32},{\"t\":20,\"r\":9803,\"x\":-3.72,\"y\":72.52},{\"t\":20,\"r\":9804,\"x\":-15.96,\"y\":64},{\"t\":20,\"r\":9803,\"x\":-22.15,\"y\":78.13},{\"t\":20,\"r\":9823,\"x\":-5.18,\"y\":73.17},{\"t\":20,\"r\":9804,\"x\":-20.7,\"y\":82.42},{\"t\":20,\"r\":9823,\"x\":-10.13,\"y\":74.63},{\"t\":20,\"r\":9803,\"x\":7.57,\"y\":70.84},{\"t\":20,\"r\":9801,\"x\":17.48,\"y\":85.99},{\"t\":22,\"r\":9797,\"x\":18.06,\"y\":105.94,\"s\":162},{\"t\":2,\"l\":[9800,9809,9816,9813,9824,9808,9806]},{\"t\":3,\"r\":9813,\"x\":-7.87,\"y\":104.63,\"ms\":6894},{\"t\":9},{\"t\":20,\"r\":9824,\"x\":11.8,\"y\":79.07},{\"t\":20,\"r\":9813,\"x\":-4.3,\"y\":79.87},{\"t\":20,\"r\":9808,\"x\":-17.49,\"y\":88.76},{\"t\":14,\"s\":128},{\"t\":41,\"l\":[9804,9799,9817,9797,9803,9823,9822]},{\"t\":20,\"r\":9804,\"x\":-17.49,\"y\":88.76},{\"t\":20,\"r\":9799,\"x\":10.71,\"y\":83.66},{\"t\":22,\"r\":9822,\"x\":15.81,\"y\":115.77,\"s\":119},{\"t\":2,\"l\":[9822,9821,9820,9802,9811,9819,9813]},{\"t\":3,\"r\":9821,\"x\":21.2,\"y\":60.5,\"ms\":1717},{\"t\":5,\"r\":9811},{\"t\":20,\"r\":9811,\"x\":13.11,\"y\":37.86},{\"t\":20,\"r\":9819,\"x\":0.65,\"y\":52.79},{\"t\":20,\"r\":9811,\"x\":-0.3,\"y\":41.5},{\"t\":20,\"r\":9802,\"x\":18.36,\"y\":57.37},{\"t\":20,\"r\":9819,\"x\":-16.98,\"y\":49.95},{\"t\":20,\"r\":9811,\"x\":9.39,\"y\":54.24},{\"t\":20,\"r\":9802,\"x\":-6.85,\"y\":53.59},{\"t\":20,\"r\":9811,\"x\":2.84,\"y\":48.56},{\"t\":20,\"r\":9819,\"x\":14.79,\"y\":61.67},{\"t\":20,\"r\":9820,\"x\":21.05,\"y\":83.3},{\"t\":20,\"r\":9811,\"x\":14.06,\"y\":67.93},{\"t\":20,\"r\":9802,\"x\":-1.03,\"y\":76.52},{\"t\":20,\"r\":9811,\"x\":-11.74,\"y\":61.96},{\"t\":20,\"r\":9813,\"x\":0.43,\"y\":74.34},{\"t\":22,\"r\":9822,\"x\":-10.64,\"y\":105.07,\"s\":43},{\"t\":2,\"l\":[9800,9809,9816,9813,9824,9808,9806]},{\"t\":3,\"r\":9809,\"x\":9.69,\"y\":92.98,\"ms\":4403},{\"t\":21,\"s\":0},{\"t\":25},{\"t\":1,\"l\":[9804,9799,9817,9797,9803,9801,9823]},{\"t\":20,\"r\":9804,\"x\":17.7,\"y\":36.62},{\"t\":20,\"r\":9803,\"x\":-1.17,\"y\":34.58},{\"t\":20,\"r\":9799,\"x\":17.41,\"y\":50.46},{\"t\":20,\"r\":9803,\"x\":2.47,\"y\":45.87},{\"t\":20,\"r\":9804,\"x\":-12.25,\"y\":43.61},{\"t\":20,\"r\":9799,\"x\":-18.58,\"y\":55.55},{\"t\":8,\"x\":-18,\"y\":93.64},{\"t\":5,\"r\":9803},{\"t\":20,\"r\":9804,\"x\":-16.54,\"y\":75.07},{\"t\":20,\"r\":9823,\"x\":-16.91,\"y\":86.35},{\"t\":20,\"r\":9797,\"x\":-0.66,\"y\":79},{\"t\":20,\"r\":9801,\"x\":-14.5,\"y\":88.68},{\"t\":20,\"r\":9797,\"x\":-1.75,\"y\":77.25},{\"t\":20,\"r\":9804,\"x\":17.04,\"y\":85.55},{\"t\":20,\"r\":9803,\"x\":14.71,\"y\":95.82},{\"t\":22,\"r\":9804,\"x\":23.16,\"y\":105.21,\"s\":647},{\"t\":2,\"l\":[9822,9821,9820,9802,9811,9819,9816]},{\"t\":45,\"r\":9821,\"x\":0,\"y\":110},{\"t\":21,\"s\":605},{\"t\":1,\"l\":[9804,9799,9817,9797,9803,9801,9823]},{\"t\":20,\"r\":9804,\"x\":19.3,\"y\":30.58},{\"t\":20,\"r\":9803,\"x\":2.69,\"y\":24.61},{\"t\":20,\"r\":9804,\"x\":-2.7,\"y\":16.82},{\"t\":20,\"r\":9823,\"x\":-18.22,\"y\":26.86},{\"t\":20,\"r\":9801,\"x\":-18.95,\"y\":41.21},{\"t\":20,\"r\":9804,\"x\":2.25,\"y\":34.51},{\"t\":20,\"r\":9803,\"x\":16.1,\"y\":44.49},{\"t\":20,\"r\":9823,\"x\":22.22,\"y\":57.37},{\"t\":20,\"r\":9804,\"x\":-1.46,\"y\":42.74},{\"t\":20,\"r\":9823,\"x\":11.43,\"y\":39.9},{\"t\":20,\"r\":9804,\"x\":-5.69,\"y\":40.84},{\"t\":20,\"r\":9801,\"x\":-18.15,\"y\":49.73},{\"t\":20,\"r\":9799,\"x\":-16.62,\"y\":60.5},{\"t\":20,\"r\":9797,\"x\":-21.13,\"y\":81.4},{\"t\":20,\"r\":9801,\"x\":-3.94,\"y\":73.03},{\"t\":20,\"r\":9803,\"x\":13.4,\"y\":66.48},{\"t\":20,\"r\":9823,\"x\":-8.75,\"y\":67.42},{\"t\":20,\"r\":9797,\"x\":-10.72,\"y\":79.15},{\"t\":20,\"r\":9801,\"x\":-18.66,\"y\":86.35},{\"t\":20,\"r\":9803,\"x\":-4.23,\"y\":73.1},{\"t\":20,\"r\":9823,\"x\":-18,\"y\":83.08},{\"t\":20,\"r\":9797,\"x\":-1.1,\"y\":77.25},{\"t\":20,\"r\":9823,\"x\":-6.93,\"y\":85.92},{\"t\":20,\"r\":9797,\"x\":-0.52,\"y\":92.62},{\"t\":8,\"x\":-13.41,\"y\":102.96},{\"t\":15,\"s\":492},{\"t\":40,\"l\":[9822,9821,9820,9802,9811,9819,9813]},{\"t\":43,\"s\":455},{\"t\":40,\"l\":[9822,9821,9820,9802,9811,9813,9816]},{\"t\":21,\"s\":405},{\"t\":1,\"l\":[9804,9799,9817,9797,9803,9801,9823]},{\"t\":20,\"r\":9803,\"x\":-16.4,\"y\":38.08},{\"t\":20,\"r\":9804,\"x\":-0.88,\"y\":35.53},{\"t\":20,\"r\":9817,\"x\":18.21,\"y\":47.03},{\"t\":8,\"x\":6.26,\"y\":57.01},{\"t\":21,\"s\":371},{\"t\":1,\"l\":[9804,9799,9817,9797,9803,9801,9823]},{\"t\":20,\"r\":9803,\"x\":-8.89,\"y\":36.48},{\"t\":20,\"r\":9804,\"x\":4.44,\"y\":45.36},{\"t\":20,\"r\":9823,\"x\":25.06,\"y\":55.99},{\"t\":20,\"r\":9803,\"x\":2.55,\"y\":47.91},{\"t\":20,\"r\":9817,\"x\":1.82,\"y\":64.58},{\"t\":20,\"r\":9797,\"x\":-5.11,\"y\":69.32},{\"t\":20,\"r\":9799,\"x\":-13.27,\"y\":89.78},{\"t\":20,\"r\":9801,\"x\":-19.24,\"y\":98.08},{\"t\":22,\"r\":9817,\"x\":-7.44,\"y\":115.04,\"s\":335},{\"t\":2,\"l\":[9800,9809,9816,9813,9824,9808,9820]},{\"t\":3,\"r\":9813,\"x\":-11.52,\"y\":102.88,\"ms\":8526},{\"t\":5,\"r\":9820},{\"t\":42,\"s\":265},{\"t\":41,\"l\":[9800,9809,9813,9824,9808,9820,9823]},{\"t\":20,\"r\":9824,\"x\":-17.49,\"y\":22.5},{\"t\":20,\"r\":9813,\"x\":-6.42,\"y\":3.56},{\"t\":7,\"x\":-6.42,\"y\":3.56,\"s\":248},{\"t\":1,\"l\":[9804,9799,9817,9797,9803,9801,9823]},{\"t\":20,\"r\":9803,\"x\":-14.87,\"y\":31.74},{\"t\":20,\"r\":9797,\"x\":3.35,\"y\":37.28},{\"t\":20,\"r\":9803,\"x\":-16.4,\"y\":35.82},{\"t\":20,\"r\":9823,\"x\":-20.48,\"y\":53.95},{\"t\":20,\"r\":9801,\"x\":-21.86,\"y\":75.07},{\"t\":20,\"r\":9823,\"x\":-20.19,\"y\":82.86},{\"t\":20,\"r\":9797,\"x\":-11.3,\"y\":92.76},{\"t\":20,\"r\":9823,\"x\":-1.46,\"y\":79.8},{\"t\":20,\"r\":9797,\"x\":10.27,\"y\":92.11},{\"t\":20,\"r\":9823,\"x\":-9.91,\"y\":93.34},{\"t\":22,\"r\":9799,\"x\":-14.58,\"y\":107.4,\"s\":204},{\"t\":2,\"l\":[9822,9821,9820,9802,9811,9819,9816]},{\"t\":3,\"r\":9821,\"x\":-6.85,\"y\":104.34,\"ms\":9136},{\"t\":9},{\"t\":20,\"r\":9811,\"x\":20.91,\"y\":78.42},{\"t\":22,\"r\":9819,\"x\":18.5,\"y\":115.04,\"s\":166},{\"t\":2,\"l\":[9800,9809,9816,9813,9824,9808,9806]},{\"t\":3,\"r\":9813,\"x\":-6.64,\"y\":72.88,\"ms\":7364},{\"t\":21,\"s\":106},{\"t\":1,\"l\":[9804,9799,9817,9797,9803,9801,9823]},{\"t\":20,\"r\":9804,\"x\":-18.8,\"y\":40.41},{\"t\":20,\"r\":9801,\"x\":-0.08,\"y\":34.29},{\"t\":20,\"r\":9823,\"x\":-21.13,\"y\":51.91},{\"t\":20,\"r\":9799,\"x\":-18.44,\"y\":71.94},{\"t\":20,\"r\":9797,\"x\":-20.33,\"y\":84.1},{\"t\":12},{\"t\":20,\"r\":9823,\"x\":-4.23,\"y\":83.59},{\"t\":22,\"r\":9804,\"x\":17.48,\"y\":110.38,\"s\":57},{\"t\":2,\"l\":[9822,9821,9820,9802,9811,9819,9816]},{\"t\":3,\"r\":9821,\"x\":14.71,\"y\":95.89,\"ms\":4906},{\"t\":21,\"s\":28},{\"t\":1,\"l\":[9804,9799,9817,9797,9803,9823,9822]},{\"t\":20,\"r\":9804,\"x\":23.89,\"y\":76.45},{\"t\":20,\"r\":9823,\"x\":-2.92,\"y\":31.16},{\"t\":20,\"r\":9803,\"x\":-15.82,\"y\":45.07},{\"t\":20,\"r\":9823,\"x\":-18.73,\"y\":31.16},{\"t\":20,\"r\":9803,\"x\":-14.29,\"y\":45.94},{\"t\":20,\"r\":9797,\"x\":4.88,\"y\":56.57},{\"t\":22,\"r\":9822,\"x\":14.86,\"y\":114.9,\"s\":0},{\"t\":26}]',\n",
       "  'updateMoment': '2022-05-01T17:25:25.360Z',\n",
       "  'statusId': 100,\n",
       "  'scoreTimesOur': [0,\n",
       "   79,\n",
       "   197,\n",
       "   397,\n",
       "   577,\n",
       "   657,\n",
       "   769,\n",
       "   857,\n",
       "   957,\n",
       "   1142,\n",
       "   1404,\n",
       "   1583,\n",
       "   1662,\n",
       "   1834,\n",
       "   1998,\n",
       "   2041,\n",
       "   2117,\n",
       "   2233,\n",
       "   2545,\n",
       "   2676,\n",
       "   2714,\n",
       "   2823,\n",
       "   2880],\n",
       "  'scoreTimesTheir': [0,\n",
       "   52,\n",
       "   122,\n",
       "   294,\n",
       "   476,\n",
       "   618,\n",
       "   881,\n",
       "   1051,\n",
       "   1271,\n",
       "   1360,\n",
       "   1540,\n",
       "   1615,\n",
       "   1888,\n",
       "   2160,\n",
       "   2275,\n",
       "   2475,\n",
       "   2509,\n",
       "   2632,\n",
       "   2774,\n",
       "   2852],\n",
       "  'completionsNumer': 263,\n",
       "  'completionsDenom': 271,\n",
       "  'hucksNumer': 6,\n",
       "  'hucksDenom': 7,\n",
       "  'blocks': 6,\n",
       "  'turnovers': 8,\n",
       "  'oLineScores': 17,\n",
       "  'oLinePoints': 20,\n",
       "  'oLinePossessions': 21,\n",
       "  'dLineScores': 5,\n",
       "  'dLinePoints': 23,\n",
       "  'dLinePossessions': 9,\n",
       "  'redZoneScores': 17,\n",
       "  'redZonePossessions': 18,\n",
       "  'rosterIds': [9797,\n",
       "   9799,\n",
       "   9800,\n",
       "   9801,\n",
       "   9824,\n",
       "   9809,\n",
       "   9803,\n",
       "   9808,\n",
       "   9816,\n",
       "   9822,\n",
       "   9806,\n",
       "   9817,\n",
       "   9823,\n",
       "   9820,\n",
       "   9811,\n",
       "   9802,\n",
       "   9819,\n",
       "   9804,\n",
       "   9813,\n",
       "   9821]}}"
      ]
     },
     "execution_count": 11,
     "metadata": {},
     "output_type": "execute_result"
    }
   ],
   "source": [
    "g.get_response()"
   ]
  },
  {
   "cell_type": "code",
   "execution_count": 12,
   "metadata": {},
   "outputs": [
    {
     "name": "stdout",
     "output_type": "stream",
     "text": [
      "CPU times: user 238 µs, sys: 40 µs, total: 278 µs\n",
      "Wall time: 262 µs\n"
     ]
    }
   ],
   "source": [
    "%%time\n",
    "# Initialize game object using URL from season object\n",
    "g = audl.Game(s.get_game_info()[\"url\"].iloc[0])"
   ]
  },
  {
   "cell_type": "code",
   "execution_count": 13,
   "metadata": {},
   "outputs": [
    {
     "name": "stdout",
     "output_type": "stream",
     "text": [
      "CPU times: user 83.1 ms, sys: 1.87 ms, total: 85 ms\n",
      "Wall time: 84.5 ms\n"
     ]
    },
    {
     "data": {
      "text/plain": [
       "[{'t': 50},\n",
       " {'t': 1, 'l': [10141, 10147, 10149, 10154, 10158, 10159, 10174]},\n",
       " {'t': 20, 'r': 10159, 'x': 13.64, 'y': 19.99},\n",
       " {'t': 20, 'r': 10141, 'x': -2.26, 'y': 41.59},\n",
       " {'t': 20, 'r': 10149, 'x': 5.93, 'y': 48.81},\n",
       " {'t': 20, 'r': 10141, 'x': 8.52, 'y': 38.52},\n",
       " {'t': 20, 'r': 10154, 'x': 23.25, 'y': 44.11},\n",
       " {'t': 20, 'r': 10141, 'x': 0.13, 'y': 39.61},\n",
       " {'t': 20, 'r': 10174, 'x': -16.03, 'y': 45.88},\n",
       " {'t': 20, 'r': 10149, 'x': -19.92, 'y': 61.15},\n",
       " {'t': 20, 'r': 10141, 'x': -2.05, 'y': 51.2},\n",
       " {'t': 22, 'r': 10158, 'x': 24.75, 'y': 108.61, 's': 678},\n",
       " {'t': 2, 'l': [10153, 10160, 10162, 10171, 10167, 10176, 10157]},\n",
       " {'t': 3, 'x': 0, 'y': 80, 'ms': 0},\n",
       " {'t': 5, 'r': 10160, 'q': 1},\n",
       " {'t': 20, 'r': 10160, 'x': -9.96, 'y': 65.52},\n",
       " {'t': 20, 'r': 10162, 'x': -7.37, 'y': 76.09},\n",
       " {'t': 20, 'r': 10171, 'x': 21.68, 'y': 82.56},\n",
       " {'t': 20, 'r': 10162, 'x': 22.64, 'y': 87.06},\n",
       " {'t': 20, 'r': 10171, 'x': 6.61, 'y': 90},\n",
       " {'t': 8, 'x': -23.81, 'y': 98.31},\n",
       " {'t': 11},\n",
       " {'t': 21, 's': 535},\n",
       " {'t': 1, 'l': [10141, 10147, 10149, 10154, 10158, 10159, 10173]},\n",
       " {'t': 20, 'r': 10159, 'x': 10.5, 'y': 12.68},\n",
       " {'t': 20, 'r': 10141, 'x': -2.94, 'y': 31.43},\n",
       " {'t': 20, 'r': 10159, 'x': -12.9, 'y': 33.06},\n",
       " {'t': 20, 'r': 10141, 'x': 0.13, 'y': 33},\n",
       " {'t': 20, 'r': 10159, 'x': -8.94, 'y': 32.45},\n",
       " {'t': 20, 'r': 10149, 'x': -8.53, 'y': 37.09},\n",
       " {'t': 12},\n",
       " {'t': 20, 'r': 10141, 'x': -0.07, 'y': 46.15},\n",
       " {'t': 20, 'r': 10154, 'x': 13.36, 'y': 44.93},\n",
       " {'t': 20, 'r': 10159, 'x': -9.14, 'y': 46.84},\n",
       " {'t': 20, 'r': 10149, 'x': 6.13, 'y': 52.02},\n",
       " {'t': 20, 'r': 10154, 'x': 13.7, 'y': 48.34},\n",
       " {'t': 12},\n",
       " {'t': 20, 'r': 10159, 'x': 2.72, 'y': 42.81},\n",
       " {'t': 20, 'r': 10154, 'x': 13.7, 'y': 42},\n",
       " {'t': 20, 'r': 10159, 'x': -1.3, 'y': 42.75},\n",
       " {'t': 20, 'r': 10141, 'x': 13.7, 'y': 41.25},\n",
       " {'t': 10},\n",
       " {'t': 20, 'r': 10159, 'x': 21.14, 'y': 33.75},\n",
       " {'t': 20, 'r': 10154, 'x': 6.61, 'y': 24.95},\n",
       " {'t': 20, 'r': 10173, 'x': -3.62, 'y': 26.31},\n",
       " {'t': 20, 'r': 10154, 'x': -14.33, 'y': 29.18},\n",
       " {'t': 20, 'r': 10149, 'x': -17.94, 'y': 36.06},\n",
       " {'t': 20, 'r': 10159, 'x': -9.48, 'y': 28.7},\n",
       " {'t': 20, 'r': 10154, 'x': -17.53, 'y': 29.59},\n",
       " {'t': 20, 'r': 10149, 'x': -11.67, 'y': 34.43},\n",
       " {'t': 20, 'r': 10154, 'x': -14.26, 'y': 39.95},\n",
       " {'t': 20, 'r': 10173, 'x': -14.12, 'y': 48.2},\n",
       " {'t': 20, 'r': 10141, 'x': -2.39, 'y': 48.74},\n",
       " {'t': 8, 'x': 26.66, 'y': 106.15},\n",
       " {'t': 54, 's': 372},\n",
       " {'t': 43, 's': 372},\n",
       " {'t': 40, 'l': [10141, 10147, 10149, 10154, 10158, 10173, 10153]},\n",
       " {'t': 53},\n",
       " {'t': 21, 's': 367},\n",
       " {'t': 1, 'l': [10174, 10158, 10149, 10154, 10141, 10162, 10147]},\n",
       " {'t': 20, 'r': 10162, 'x': 0, 'y': 40},\n",
       " {'t': 20, 'r': 10154, 'x': -15.9, 'y': 45.54},\n",
       " {'t': 20, 'r': 10158, 'x': -13.92, 'y': 62.45},\n",
       " {'t': 20, 'r': 10154, 'x': -11.39, 'y': 54.47},\n",
       " {'t': 22, 'r': 10162, 'x': 7.16, 'y': 115.09, 's': 331},\n",
       " {'t': 2, 'l': [10153, 10156, 10176, 10143, 10151, 10165, 10166]},\n",
       " {'t': 3, 'x': 0, 'y': 80, 'ms': 0},\n",
       " {'t': 21, 'q': 1, 's': 244},\n",
       " {'t': 1, 'l': [10174, 10158, 10159, 10154, 10173, 10147, 10141]},\n",
       " {'t': 20, 'r': 10159, 'x': -0.69, 'y': 24.2},\n",
       " {'t': 20, 'r': 10141, 'x': -0.07, 'y': 29.65},\n",
       " {'t': 20, 'r': 10159, 'x': -7.03, 'y': 27.54},\n",
       " {'t': 20, 'r': 10154, 'x': -17.33, 'y': 31.63},\n",
       " {'t': 20, 'r': 10159, 'x': -16.92, 'y': 24},\n",
       " {'t': 20, 'r': 10154, 'x': -21.01, 'y': 29.79},\n",
       " {'t': 20, 'r': 10159, 'x': -10.99, 'y': 24.13},\n",
       " {'t': 20, 'r': 10141, 'x': -10.78, 'y': 29.45},\n",
       " {'t': 20, 'r': 10158, 'x': -3.42, 'y': 55.56},\n",
       " {'t': 20, 'r': 10154, 'x': 10.43, 'y': 52.63},\n",
       " {'t': 20, 'r': 10147, 'x': 19.5, 'y': 59.72},\n",
       " {'t': 20, 'r': 10154, 'x': 23.18, 'y': 71.52},\n",
       " {'t': 20, 'r': 10147, 'x': 13.43, 'y': 77.38},\n",
       " {'t': 20, 'r': 10173, 'x': 7.5, 'y': 86.18},\n",
       " {'t': 22, 'r': 10158, 'x': -18.62, 'y': 106.22, 's': 187},\n",
       " {'t': 2, 'l': [10171, 10162, 10156, 10153, 10167, 10160, 10157]},\n",
       " {'t': 3, 'r': 10162, 'x': -25.85, 'y': 51.47, 'ms': 13576},\n",
       " {'t': 13},\n",
       " {'t': 54, 's': 148},\n",
       " {'t': 53},\n",
       " {'t': 54, 's': 145},\n",
       " {'t': 53},\n",
       " {'t': 13},\n",
       " {'t': 54, 's': 103},\n",
       " {'t': 53},\n",
       " {'t': 5, 'r': 10157, 'h': 1},\n",
       " {'t': 20, 'r': 10157, 'x': -16.58, 'y': 30.54},\n",
       " {'t': 20, 'r': 10153, 'x': 19.64, 'y': 31.97},\n",
       " {'t': 8, 'x': -7.64, 'y': 96.47},\n",
       " {'t': 23},\n",
       " {'t': 2, 'l': [10165, 10143, 10151, 10167, 10162, 10176, 10166]},\n",
       " {'t': 3, 'r': 10162, 'x': -6.69, 'y': 111.27, 'ms': 5759},\n",
       " {'t': 11},\n",
       " {'t': 21, 's': 649},\n",
       " {'t': 1, 'l': [10174, 10158, 10149, 10159, 10154, 10173, 10141]},\n",
       " {'t': 20, 'r': 10159, 'x': 1.22, 'y': 25.43},\n",
       " {'t': 20, 'r': 10141, 'x': -1.91, 'y': 34.77},\n",
       " {'t': 20, 'r': 10159, 'x': -11.94, 'y': 35.59},\n",
       " {'t': 20, 'r': 10141, 'x': -2.53, 'y': 33.75},\n",
       " {'t': 20, 'r': 10174, 'x': 18.41, 'y': 41.93},\n",
       " {'t': 20, 'r': 10149, 'x': 13.09, 'y': 46.9},\n",
       " {'t': 22, 'r': 10173, 'x': 4.63, 'y': 107.79, 's': 613},\n",
       " {'t': 2, 'l': [10153, 10171, 10157, 10176, 10156, 10165, 10160]},\n",
       " {'t': 3, 'r': 10157, 'x': 11.59, 'y': 100.15, 'ms': 7906},\n",
       " {'t': 54, 's': 576},\n",
       " {'t': 53},\n",
       " {'t': 13},\n",
       " {'t': 5, 'r': 10156},\n",
       " {'t': 20, 'r': 10157, 'x': -25.79, 'y': 67.09},\n",
       " {'t': 20, 'r': 10153, 'x': 0.34, 'y': 62.25},\n",
       " {'t': 20, 'r': 10160, 'x': 19.3, 'y': 72.27},\n",
       " {'t': 20, 'r': 10176, 'x': 8.25, 'y': 75.75},\n",
       " {'t': 20, 'r': 10153, 'x': 1.77, 'y': 69.2},\n",
       " {'t': 20, 'r': 10176, 'x': -9.35, 'y': 73.63},\n",
       " {'t': 20, 'r': 10153, 'x': 2.65, 'y': 68.86},\n",
       " {'t': 20, 'r': 10176, 'x': -15.9, 'y': 89.25},\n",
       " {'t': 22, 'r': 10160, 'x': -23.53, 'y': 101.59, 's': 523},\n",
       " {'t': 2, 'l': [10167, 10174, 10143, 10166, 10162, 10151, 10160]},\n",
       " {'t': 3, 'r': 10162, 'x': 0.34, 'y': 110.45, 'ms': 6598},\n",
       " {'t': 54, 's': 476},\n",
       " {'t': 53},\n",
       " {'t': 18},\n",
       " {'t': 20, 'r': 10162, 'x': -26.67, 'y': 60.34},\n",
       " {'t': 20, 'r': 10143, 'x': -15.83, 'y': 42.88},\n",
       " {'t': 20, 'r': 10174, 'x': -3.96, 'y': 49.49},\n",
       " {'t': 20, 'r': 10160, 'x': 3.2, 'y': 70.56},\n",
       " {'t': 20, 'r': 10167, 'x': -3.62, 'y': 74.72},\n",
       " {'t': 20, 'r': 10143, 'x': -13.24, 'y': 73.56},\n",
       " {'t': 20, 'r': 10174, 'x': -18.15, 'y': 87.34},\n",
       " {'t': 20, 'r': 10143, 'x': -13.1, 'y': 81.47},\n",
       " {'t': 20, 'r': 10160, 'x': -24.56, 'y': 85.63},\n",
       " {'t': 20, 'r': 10162, 'x': -16.24, 'y': 83.38},\n",
       " {'t': 20, 'r': 10174, 'x': -3.28, 'y': 81.75},\n",
       " {'t': 20, 'r': 10166, 'x': 19.09, 'y': 93.47},\n",
       " {'t': 22, 'r': 10143, 'x': 23.8, 'y': 107.86, 's': 418},\n",
       " {'t': 2, 'l': [10176, 10157, 10171, 10167, 10156, 10165, 10153]},\n",
       " {'t': 4, 'r': 10153, 'x': 0, 'y': 80},\n",
       " {'t': 54, 's': 397},\n",
       " {'t': 53},\n",
       " {'t': 54, 's': 373},\n",
       " {'t': 53},\n",
       " {'t': 13},\n",
       " {'t': 54, 's': 275},\n",
       " {'t': 21, 's': 274},\n",
       " {'t': 1, 'l': [10174, 10158, 10149, 10159, 10173, 10147, 10141]},\n",
       " {'t': 20, 'r': 10159, 'x': -0.48, 'y': 3.4},\n",
       " {'t': 20, 'r': 10141, 'x': -1.3, 'y': 29.65},\n",
       " {'t': 20, 'r': 10158, 'x': -1.98, 'y': 46.9},\n",
       " {'t': 20, 'r': 10174, 'x': 22.84, 'y': 95.45},\n",
       " {'t': 20, 'r': 10173, 'x': 7.43, 'y': 93.95},\n",
       " {'t': 22, 'r': 10147, 'x': 1.36, 'y': 109.29, 's': 254},\n",
       " {'t': 2, 'l': [10143, 10156, 10171, 10176, 10162, 10167, 10153]},\n",
       " {'t': 3, 'r': 10153, 'x': -13.65, 'y': 106.9, 'ms': 8310},\n",
       " {'t': 5, 'r': 10156},\n",
       " {'t': 42, 's': 175},\n",
       " {'t': 41, 'l': [10143, 10171, 10176, 10162, 10167, 10153, 10141]},\n",
       " {'t': 20, 'r': 10162, 'x': 4.43, 'y': 19.5},\n",
       " {'t': 20, 'r': 10176, 'x': 17.86, 'y': 29.86},\n",
       " {'t': 20, 'r': 10153, 'x': 19.71, 'y': 40.63},\n",
       " {'t': 20, 'r': 10176, 'x': 13.36, 'y': 34.15},\n",
       " {'t': 20, 'r': 10167, 'x': 20.39, 'y': 43.9},\n",
       " {'t': 20, 'r': 10176, 'x': 16.64, 'y': 36.27},\n",
       " {'t': 20, 'r': 10162, 'x': 20.46, 'y': 42.61},\n",
       " {'t': 20, 'r': 10143, 'x': 13.29, 'y': 46.56},\n",
       " {'t': 20, 'r': 10176, 'x': 3.41, 'y': 44.25},\n",
       " {'t': 20, 'r': 10167, 'x': -10.64, 'y': 45.81},\n",
       " {'t': 20, 'r': 10141, 'x': -1.03, 'y': 46.84},\n",
       " {'t': 20, 'r': 10153, 'x': 4.7, 'y': 64.9},\n",
       " {'t': 20, 'r': 10143, 'x': 13.77, 'y': 71.25},\n",
       " {'t': 20, 'r': 10141, 'x': 8.25, 'y': 65.04},\n",
       " {'t': 20, 'r': 10167, 'x': -14.19, 'y': 67.84},\n",
       " {'t': 8, 'x': -14.19, 'y': 67.84},\n",
       " {'t': 54, 's': 87},\n",
       " {'t': 15, 's': 87},\n",
       " {'t': 40, 'l': [10153, 10160, 10154, 10151, 10166, 10157, 10165]},\n",
       " {'t': 53},\n",
       " {'t': 54, 's': 60},\n",
       " {'t': 11},\n",
       " {'t': 54, 's': 59},\n",
       " {'t': 53},\n",
       " {'t': 21, 's': 15},\n",
       " {'t': 1, 'l': [10149, 10147, 10158, 10153, 10159, 10154, 10141]},\n",
       " {'t': 20, 'r': 10159, 'x': 14.86, 'y': 4.36},\n",
       " {'t': 20, 'r': 10141, 'x': -0.96, 'y': 14.31},\n",
       " {'t': 20, 'r': 10154, 'x': 14.66, 'y': 30.4},\n",
       " {'t': 20, 'r': 10159, 'x': 7.02, 'y': 32.45},\n",
       " {'t': 20, 'r': 10149, 'x': -1.57, 'y': 47.93},\n",
       " {'t': 20, 'r': 10158, 'x': -1.23, 'y': 65.93},\n",
       " {'t': 8, 'x': -1.23, 'y': 65.93},\n",
       " {'t': 24},\n",
       " {'t': 1, 'l': [10158, 10149, 10159, 10154, 10173, 10147, 10141]},\n",
       " {'t': 20, 'r': 10141, 'x': 21.27, 'y': 16.02},\n",
       " {'t': 20, 'r': 10159, 'x': 7.36, 'y': 17.38},\n",
       " {'t': 20, 'r': 10141, 'x': 17.59, 'y': 30.34},\n",
       " {'t': 20, 'r': 10158, 'x': 16.57, 'y': 86.65},\n",
       " {'t': 22, 'r': 10149, 'x': -22.99, 'y': 105.4, 's': 693},\n",
       " {'t': 2, 'l': [10176, 10160, 10167, 10165, 10162, 10153, 10156]},\n",
       " {'t': 3, 'r': 10153, 'x': 0, 'y': 80, 'ms': 7330},\n",
       " {'t': 21, 's': 579},\n",
       " {'t': 1, 'l': [10174, 10158, 10159, 10154, 10147, 10141, 10153]},\n",
       " {'t': 20, 'r': 10159, 'x': -2.8, 'y': 15.95},\n",
       " {'t': 20, 'r': 10141, 'x': -2.53, 'y': 28.43},\n",
       " {'t': 20, 'r': 10158, 'x': -1.71, 'y': 57.27},\n",
       " {'t': 20, 'r': 10141, 'x': -3.35, 'y': 46.29},\n",
       " {'t': 20, 'r': 10159, 'x': -16.24, 'y': 51.61},\n",
       " {'t': 20, 'r': 10141, 'x': -7.85, 'y': 54.2},\n",
       " {'t': 20, 'r': 10153, 'x': 16.3, 'y': 67.29},\n",
       " {'t': 20, 'r': 10141, 'x': -2.05, 'y': 55.22},\n",
       " {'t': 20, 'r': 10158, 'x': -2.6, 'y': 82.36},\n",
       " {'t': 20, 'r': 10153, 'x': -8.12, 'y': 79.15},\n",
       " {'t': 20, 'r': 10154, 'x': -17.87, 'y': 82.02},\n",
       " {'t': 20, 'r': 10159, 'x': -10.3, 'y': 76.43},\n",
       " {'t': 20, 'r': 10154, 'x': -2.39, 'y': 79.36},\n",
       " {'t': 20, 'r': 10159, 'x': -2.19, 'y': 85.29},\n",
       " {'t': 20, 'r': 10141, 'x': 16.64, 'y': 83.45},\n",
       " {'t': 22, 'r': 10154, 'x': 24.07, 'y': 101.93, 's': 513},\n",
       " {'t': 2, 'l': [10176, 10171, 10143, 10157, 10151, 10165, 10149]},\n",
       " {'t': 3, 'r': 10151, 'x': -3.69, 'y': 106.43, 'ms': 0},\n",
       " {'t': 54, 's': 473},\n",
       " {'t': 11},\n",
       " {'t': 54, 's': 481},\n",
       " {'t': 53},\n",
       " {'t': 21, 's': 460},\n",
       " {'t': 1, 'l': [10174, 10158, 10159, 10154, 10173, 10147, 10141]},\n",
       " {'t': 20, 'r': 10141, 'x': 2.93, 'y': 25.84},\n",
       " {'t': 20, 'r': 10159, 'x': -0.82, 'y': 34.15},\n",
       " {'t': 10},\n",
       " {'t': 20, 'r': 10158, 'x': 18.95, 'y': 36.2},\n",
       " {'t': 8, 'x': -3.62, 'y': 110.99},\n",
       " {'t': 54, 's': 409},\n",
       " {'t': 53},\n",
       " {'t': 6, 'r': 10154, 'h': 1, 's': 402},\n",
       " {'t': 2, 'l': [10153, 10160, 10143, 10167, 10156, 10165, 10162]},\n",
       " {'t': 3, 'r': 10153, 'x': 0, 'y': 80, 'ms': 8492},\n",
       " {'t': 11},\n",
       " {'t': 21, 's': 329},\n",
       " {'t': 1, 'l': [10174, 10158, 10149, 10159, 10154, 10173, 10141]},\n",
       " {'t': 20, 'r': 10141, 'x': -1.44, 'y': 10.02},\n",
       " {'t': 20, 'r': 10159, 'x': 1.97, 'y': 34.29},\n",
       " {'t': 20, 'r': 10141, 'x': -13.37, 'y': 35.18},\n",
       " {'t': 20, 'r': 10159, 'x': -4.78, 'y': 34.9},\n",
       " {'t': 20, 'r': 10154, 'x': 9.41, 'y': 33.34},\n",
       " {'t': 20, 'r': 10158, 'x': 21.07, 'y': 53.79},\n",
       " {'t': 20, 'r': 10154, 'x': 19.3, 'y': 44.45},\n",
       " {'t': 20, 'r': 10141, 'x': 9.27, 'y': 43.63},\n",
       " {'t': 20, 'r': 10149, 'x': -4.92, 'y': 40.7},\n",
       " {'t': 20, 'r': 10154, 'x': 5.18, 'y': 35.65},\n",
       " {'t': 8, 'x': -11.39, 'y': 66.2},\n",
       " {'t': 15, 's': 260},\n",
       " {'t': 40, 'l': [10171, 10157, 10151, 10162, 10176, 10153, 10166]},\n",
       " {'t': 53},\n",
       " {'t': 54, 's': 246},\n",
       " {'t': 53},\n",
       " {'t': 11},\n",
       " {'t': 9},\n",
       " {'t': 20, 'r': 10157, 'x': -14.6, 'y': 36.68},\n",
       " {'t': 20, 'r': 10162, 'x': 4.5, 'y': 37.5},\n",
       " {'t': 20, 'r': 10171, 'x': 19.5, 'y': 42.27},\n",
       " {'t': 14, 's': 199},\n",
       " {'t': 41, 'l': [10158, 10149, 10159, 10154, 10173, 10147, 10141]},\n",
       " {'t': 20, 'r': 10141, 'x': 19.5, 'y': 42.27},\n",
       " {'t': 19, 'r': 10173, 'x': 2.45, 'y': 57.47},\n",
       " {'t': 11},\n",
       " {'t': 5, 'r': 10154},\n",
       " {'t': 20, 'r': 10141, 'x': 12.54, 'y': 21.06},\n",
       " {'t': 20, 'r': 10149, 'x': 9.82, 'y': 32.59},\n",
       " {'t': 20, 'r': 10141, 'x': 10.63, 'y': 23.25},\n",
       " {'t': 20, 'r': 10154, 'x': -4.98, 'y': 22.43},\n",
       " {'t': 20, 'r': 10159, 'x': -13.51, 'y': 37.97},\n",
       " {'t': 20, 'r': 10154, 'x': -1.3, 'y': 34.7},\n",
       " {'t': 20, 'r': 10173, 'x': 15.2, 'y': 38.25},\n",
       " {'t': 12},\n",
       " {'t': 42, 's': 93},\n",
       " {'t': 41, 'l': [10158, 10159, 10154, 10173, 10147, 10141, 10153]},\n",
       " {'t': 20, 'r': 10153, 'x': -3.07, 'y': 100},\n",
       " {'t': 22, 'r': 10154, 'q': 1, 'x': -12.42, 'y': 102.88, 's': 123},\n",
       " {'t': 2, 'l': [10156, 10165, 10176, 10153, 10167, 10171, 10160]},\n",
       " {'t': 3, 'r': 10153, 'x': -10.1, 'y': 102.06, 'ms': 8829},\n",
       " {'t': 21, 's': 85},\n",
       " {'t': 1, 'l': [10174, 10158, 10159, 10154, 10173, 10147, 10141]},\n",
       " {'t': 20, 'r': 10141, 'x': -20.33, 'y': 51.47},\n",
       " {'t': 20, 'r': 10159, 'x': -9.89, 'y': 47.11},\n",
       " {'t': 20, 'r': 10158, 'x': 6.95, 'y': 50.59},\n",
       " {'t': 20, 'r': 10159, 'x': -3.69, 'y': 54.81},\n",
       " {'t': 20, 'r': 10174, 'x': -17.87, 'y': 65.72},\n",
       " {'t': 8, 'x': -17.87, 'y': 65.72},\n",
       " {'t': 13},\n",
       " {'t': 54, 's': 37},\n",
       " {'t': 53},\n",
       " {'t': 21, 's': 28},\n",
       " {'t': 1, 'l': [10174, 10158, 10159, 10154, 10147, 10141, 10153]},\n",
       " {'t': 20, 'r': 10141, 'x': -26.67, 'y': 38.65},\n",
       " {'t': 20, 'r': 10154, 'x': -13.65, 'y': 42.81},\n",
       " {'t': 20, 'r': 10141, 'x': -24.01, 'y': 45.54},\n",
       " {'t': 20, 'r': 10159, 'x': -8.67, 'y': 38.45},\n",
       " {'t': 20, 'r': 10141, 'x': -20.67, 'y': 41.38},\n",
       " {'t': 20, 'r': 10158, 'x': -22.31, 'y': 51.34},\n",
       " {'t': 20, 'r': 10159, 'x': -13.17, 'y': 47.04},\n",
       " {'t': 20, 'r': 10154, 'x': -14.33, 'y': 69},\n",
       " {'t': 20, 'r': 10141, 'x': 0.61, 'y': 69.06},\n",
       " {'t': 8, 'x': 26.53, 'y': 115.22},\n",
       " {'t': 54, 's': 2},\n",
       " {'t': 53},\n",
       " {'t': 25},\n",
       " {'t': 2, 'l': [10171, 10153, 10176, 10167, 10162, 10143, 10160]},\n",
       " {'t': 3, 'r': 10153, 'x': 22.16, 'y': 100, 'ms': 8597},\n",
       " {'t': 11},\n",
       " {'t': 13},\n",
       " {'t': 11},\n",
       " {'t': 11},\n",
       " {'t': 43, 's': 597},\n",
       " {'t': 40, 'l': [10153, 10176, 10167, 10162, 10160, 10156, 10171]},\n",
       " {'t': 53},\n",
       " {'t': 54, 's': 565},\n",
       " {'t': 11},\n",
       " {'t': 54, 's': 566},\n",
       " {'t': 53},\n",
       " {'t': 11},\n",
       " {'t': 54, 's': 523},\n",
       " {'t': 53},\n",
       " {'t': 21, 's': 501},\n",
       " {'t': 1, 'l': [10174, 10158, 10159, 10154, 10173, 10147, 10141]},\n",
       " {'t': 20, 'r': 10159, 'x': 1.56, 'y': 9.81},\n",
       " {'t': 20, 'r': 10141, 'x': -8.46, 'y': 25.84},\n",
       " {'t': 20, 'r': 10159, 'x': -12.76, 'y': 20.93},\n",
       " {'t': 20, 'r': 10154, 'x': 6.41, 'y': 19.56},\n",
       " {'t': 20, 'r': 10159, 'x': -8.94, 'y': 18.68},\n",
       " {'t': 20, 'r': 10141, 'x': -16.99, 'y': 21},\n",
       " {'t': 20, 'r': 10154, 'x': -0.55, 'y': 18.2},\n",
       " {'t': 20, 'r': 10173, 'x': 8.11, 'y': 25.15},\n",
       " {'t': 20, 'r': 10141, 'x': -0.21, 'y': 29.11},\n",
       " {'t': 20, 'r': 10159, 'x': -11.6, 'y': 34.36},\n",
       " {'t': 20, 'r': 10141, 'x': 1.29, 'y': 31.97},\n",
       " {'t': 20, 'r': 10173, 'x': 19.71, 'y': 43.36},\n",
       " {'t': 20, 'r': 10141, 'x': 15.75, 'y': 47.25},\n",
       " {'t': 20, 'r': 10174, 'x': 23.59, 'y': 71.52},\n",
       " {'t': 20, 'r': 10173, 'x': 12.89, 'y': 72.47},\n",
       " {'t': 20, 'r': 10141, 'x': 6.13, 'y': 70.77},\n",
       " {'t': 20, 'r': 10159, 'x': -7.1, 'y': 68.86},\n",
       " {'t': 20, 'r': 10173, 'x': 15.75, 'y': 72.88},\n",
       " {'t': 20, 'r': 10141, 'x': 13.02, 'y': 75},\n",
       " {'t': 20, 'r': 10147, 'x': -22.58, 'y': 85.5},\n",
       " {'t': 20, 'r': 10154, 'x': -16.58, 'y': 81.95},\n",
       " {'t': 20, 'r': 10141, 'x': 9.95, 'y': 82.29},\n",
       " {'t': 20, 'r': 10158, 'x': 18, 'y': 90.75},\n",
       " {'t': 20, 'r': 10141, 'x': 13.98, 'y': 93.54},\n",
       " {'t': 22, 'r': 10174, 'x': -18.21, 'y': 116.93, 's': 410},\n",
       " {'t': 2, 'l': [10165, 10160, 10162, 10156, 10153, 10167, 10176]},\n",
       " {'t': 3, 'r': 10153, 'x': 0, 'y': 80, 'ms': 8302},\n",
       " {'t': 11},\n",
       " {'t': 21, 's': 309},\n",
       " {'t': 1, 'l': [10174, 10158, 10149, 10159, 10154, 10147, 10141]},\n",
       " {'t': 20, 'r': 10159, 'x': 1.02, 'y': 15.61},\n",
       " {'t': 20, 'r': 10149, 'q': 1, 'x': 0.2, 'y': 48.95},\n",
       " {'t': 20, 'r': 10141, 'x': -1.1, 'y': 43.02},\n",
       " {'t': 20, 'r': 10154, 'x': 21.34, 'y': 64.29},\n",
       " {'t': 20, 'r': 10141, 'x': 16.84, 'y': 55.77},\n",
       " {'t': 20, 'r': 10154, 'x': 7.97, 'y': 57.4},\n",
       " {'t': 20, 'r': 10141, 'x': -6.07, 'y': 65.59},\n",
       " {'t': 20, 'r': 10159, 'x': -14.74, 'y': 69.88},\n",
       " {'t': 20, 'r': 10147, 'x': -17.94, 'y': 77.11},\n",
       " {'t': 20, 'r': 10154, 'x': -7.85, 'y': 79.09},\n",
       " {'t': 22, 'r': 10174, 'x': 23.32, 'y': 105.81, 's': 258},\n",
       " {'t': 2, 'l': [10153, 10166, 10143, 10176, 10171, 10160, 10167]},\n",
       " {'t': 3, 'r': 10153, 'x': -3.48, 'y': 95.52, 'ms': 10244},\n",
       " {'t': 53},\n",
       " {'t': 13},\n",
       " {'t': 5, 'r': 10160},\n",
       " {'t': 20, 'r': 10176, 'x': 13.29, 'y': 88.84},\n",
       " {'t': 22, 'r': 10160, 'h': 1, 'x': 18.61, 'y': 107.65, 's': 193},\n",
       " {'t': 2, 'l': [10156, 10143, 10165, 10162, 10171, 10157, 10153]},\n",
       " {'t': 3, 'r': 10162, 'x': 23.18, 'y': 87.81, 'ms': 9098},\n",
       " {'t': 18},\n",
       " {'t': 20, 'r': 10162, 'x': -3.48, 'y': 80.31},\n",
       " {'t': 14, 's': 151},\n",
       " {'t': 41, 'l': [10141, 10159, 10154, 10158, 10153, 10149, 10174]},\n",
       " {'t': 20, 'r': 10141, 'x': -3.48, 'y': 80.31},\n",
       " {'t': 20, 'r': 10153, 'x': -17.53, 'y': 96.06},\n",
       " {'t': 22, 'r': 10154, 'x': -25.51, 'y': 107.93, 's': 140},\n",
       " {'t': 2, 'l': [10151, 10171, 10156, 10167, 10160, 10166, 10162]},\n",
       " {'t': 3, 'r': 10167, 'x': -9.35, 'y': 100, 'ms': 7394},\n",
       " {'t': 21, 's': 38},\n",
       " {'t': 1, 'l': [10158, 10149, 10159, 10154, 10147, 10141, 10153]},\n",
       " {'t': 20, 'r': 10141, 'x': -26.67, 'y': 68.93},\n",
       " {'t': 20, 'r': 10153, 'x': -9.76, 'y': 70.29},\n",
       " {'t': 20, 'r': 10159, 'x': -2.94, 'y': 49.84},\n",
       " {'t': 20, 'r': 10149, 'x': -16.92, 'y': 96.06},\n",
       " {'t': 22, 'r': 10154, 'x': -24.9, 'y': 101.59, 's': 17},\n",
       " {'t': 2, 'l': [10156, 10171, 10167, 10176, 10143, 10158, 10153]},\n",
       " {'t': 3, 'r': 10153, 'x': -5.53, 'y': 107.93, 'ms': 6712},\n",
       " {'t': 5, 'r': 10167},\n",
       " {'t': 20, 'r': 10167, 'x': 1.77, 'y': 28.43},\n",
       " {'t': 12},\n",
       " {'t': 20, 'r': 10156, 'x': 14.52, 'y': 45.47},\n",
       " {'t': 26}]"
      ]
     },
     "execution_count": 13,
     "metadata": {},
     "output_type": "execute_result"
    }
   ],
   "source": [
    "%%time\n",
    "# Here's what the raw events look like\n",
    "# Each dict in the list represents a different event. For example, 20 is a completion, 21 is a score, etc.\n",
    "# See constants.py for a list of the conversions.\n",
    "g.get_home_events_raw()"
   ]
  },
  {
   "cell_type": "code",
   "execution_count": 14,
   "metadata": {},
   "outputs": [
    {
     "name": "stdout",
     "output_type": "stream",
     "text": [
      "CPU times: user 5.65 ms, sys: 2.65 ms, total: 8.3 ms\n",
      "Wall time: 5.28 ms\n"
     ]
    },
    {
     "data": {
      "text/html": [
       "<div>\n",
       "<style scoped>\n",
       "    .dataframe tbody tr th:only-of-type {\n",
       "        vertical-align: middle;\n",
       "    }\n",
       "\n",
       "    .dataframe tbody tr th {\n",
       "        vertical-align: top;\n",
       "    }\n",
       "\n",
       "    .dataframe thead th {\n",
       "        text-align: right;\n",
       "    }\n",
       "</style>\n",
       "<table border=\"1\" class=\"dataframe\">\n",
       "  <thead>\n",
       "    <tr style=\"text-align: right;\">\n",
       "      <th></th>\n",
       "      <th>t</th>\n",
       "      <th>r</th>\n",
       "      <th>x</th>\n",
       "      <th>y</th>\n",
       "      <th>s</th>\n",
       "      <th>q</th>\n",
       "      <th>h</th>\n",
       "      <th>game_id</th>\n",
       "      <th>team_id</th>\n",
       "      <th>opponent_team_id</th>\n",
       "      <th>...</th>\n",
       "      <th>10165</th>\n",
       "      <th>10166</th>\n",
       "      <th>10167</th>\n",
       "      <th>10171</th>\n",
       "      <th>10173</th>\n",
       "      <th>10174</th>\n",
       "      <th>10176</th>\n",
       "      <th>centering_pass</th>\n",
       "      <th>throw_type</th>\n",
       "      <th>play_description</th>\n",
       "    </tr>\n",
       "  </thead>\n",
       "  <tbody>\n",
       "    <tr>\n",
       "      <th>0</th>\n",
       "      <td>50</td>\n",
       "      <td>NaN</td>\n",
       "      <td>NaN</td>\n",
       "      <td>NaN</td>\n",
       "      <td>720.0</td>\n",
       "      <td>NaN</td>\n",
       "      <td>NaN</td>\n",
       "      <td>2893</td>\n",
       "      <td>18</td>\n",
       "      <td>1</td>\n",
       "      <td>...</td>\n",
       "      <td>NaN</td>\n",
       "      <td>NaN</td>\n",
       "      <td>NaN</td>\n",
       "      <td>NaN</td>\n",
       "      <td>NaN</td>\n",
       "      <td>NaN</td>\n",
       "      <td>NaN</td>\n",
       "      <td>False</td>\n",
       "      <td>None</td>\n",
       "      <td></td>\n",
       "    </tr>\n",
       "    <tr>\n",
       "      <th>1</th>\n",
       "      <td>1</td>\n",
       "      <td>NaN</td>\n",
       "      <td>NaN</td>\n",
       "      <td>NaN</td>\n",
       "      <td>NaN</td>\n",
       "      <td>NaN</td>\n",
       "      <td>NaN</td>\n",
       "      <td>2893</td>\n",
       "      <td>18</td>\n",
       "      <td>1</td>\n",
       "      <td>...</td>\n",
       "      <td>0.0</td>\n",
       "      <td>0.0</td>\n",
       "      <td>0.0</td>\n",
       "      <td>0.0</td>\n",
       "      <td>0.0</td>\n",
       "      <td>1.0</td>\n",
       "      <td>0.0</td>\n",
       "      <td>False</td>\n",
       "      <td>None</td>\n",
       "      <td></td>\n",
       "    </tr>\n",
       "    <tr>\n",
       "      <th>2</th>\n",
       "      <td>20</td>\n",
       "      <td>10159.0</td>\n",
       "      <td>13.64</td>\n",
       "      <td>19.99</td>\n",
       "      <td>NaN</td>\n",
       "      <td>NaN</td>\n",
       "      <td>NaN</td>\n",
       "      <td>2893</td>\n",
       "      <td>18</td>\n",
       "      <td>1</td>\n",
       "      <td>...</td>\n",
       "      <td>0.0</td>\n",
       "      <td>0.0</td>\n",
       "      <td>0.0</td>\n",
       "      <td>0.0</td>\n",
       "      <td>0.0</td>\n",
       "      <td>1.0</td>\n",
       "      <td>0.0</td>\n",
       "      <td>True</td>\n",
       "      <td>Throw</td>\n",
       "      <td>Completion: Matt Gouchoe-Hanas Throw to&lt;br&gt;Sol...</td>\n",
       "    </tr>\n",
       "    <tr>\n",
       "      <th>3</th>\n",
       "      <td>20</td>\n",
       "      <td>10141.0</td>\n",
       "      <td>-2.26</td>\n",
       "      <td>41.59</td>\n",
       "      <td>NaN</td>\n",
       "      <td>NaN</td>\n",
       "      <td>NaN</td>\n",
       "      <td>2893</td>\n",
       "      <td>18</td>\n",
       "      <td>1</td>\n",
       "      <td>...</td>\n",
       "      <td>0.0</td>\n",
       "      <td>0.0</td>\n",
       "      <td>0.0</td>\n",
       "      <td>0.0</td>\n",
       "      <td>0.0</td>\n",
       "      <td>1.0</td>\n",
       "      <td>0.0</td>\n",
       "      <td>False</td>\n",
       "      <td>Dish</td>\n",
       "      <td>Completion: Sol Yanuck Dish to&lt;br&gt;Henry Fisher...</td>\n",
       "    </tr>\n",
       "    <tr>\n",
       "      <th>4</th>\n",
       "      <td>20</td>\n",
       "      <td>10149.0</td>\n",
       "      <td>5.93</td>\n",
       "      <td>48.81</td>\n",
       "      <td>NaN</td>\n",
       "      <td>NaN</td>\n",
       "      <td>NaN</td>\n",
       "      <td>2893</td>\n",
       "      <td>18</td>\n",
       "      <td>1</td>\n",
       "      <td>...</td>\n",
       "      <td>0.0</td>\n",
       "      <td>0.0</td>\n",
       "      <td>0.0</td>\n",
       "      <td>0.0</td>\n",
       "      <td>0.0</td>\n",
       "      <td>1.0</td>\n",
       "      <td>0.0</td>\n",
       "      <td>False</td>\n",
       "      <td>Dump</td>\n",
       "      <td>Completion: Henry Fisher Dump to&lt;br&gt;Sol Yanuck...</td>\n",
       "    </tr>\n",
       "  </tbody>\n",
       "</table>\n",
       "<p>5 rows × 68 columns</p>\n",
       "</div>"
      ],
      "text/plain": [
       "    t        r      x      y      s   q   h  game_id  team_id  \\\n",
       "0  50      NaN    NaN    NaN  720.0 NaN NaN     2893       18   \n",
       "1   1      NaN    NaN    NaN    NaN NaN NaN     2893       18   \n",
       "2  20  10159.0  13.64  19.99    NaN NaN NaN     2893       18   \n",
       "3  20  10141.0  -2.26  41.59    NaN NaN NaN     2893       18   \n",
       "4  20  10149.0   5.93  48.81    NaN NaN NaN     2893       18   \n",
       "\n",
       "   opponent_team_id  ...  10165 10166  10167  10171  10173  10174  10176  \\\n",
       "0                 1  ...    NaN   NaN    NaN    NaN    NaN    NaN    NaN   \n",
       "1                 1  ...    0.0   0.0    0.0    0.0    0.0    1.0    0.0   \n",
       "2                 1  ...    0.0   0.0    0.0    0.0    0.0    1.0    0.0   \n",
       "3                 1  ...    0.0   0.0    0.0    0.0    0.0    1.0    0.0   \n",
       "4                 1  ...    0.0   0.0    0.0    0.0    0.0    1.0    0.0   \n",
       "\n",
       "  centering_pass throw_type                                   play_description  \n",
       "0          False       None                                                     \n",
       "1          False       None                                                     \n",
       "2           True      Throw  Completion: Matt Gouchoe-Hanas Throw to<br>Sol...  \n",
       "3          False       Dish  Completion: Sol Yanuck Dish to<br>Henry Fisher...  \n",
       "4          False       Dump  Completion: Henry Fisher Dump to<br>Sol Yanuck...  \n",
       "\n",
       "[5 rows x 68 columns]"
      ]
     },
     "execution_count": 14,
     "metadata": {},
     "output_type": "execute_result"
    }
   ],
   "source": [
    "%%time\n",
    "# Here's what the processed events look like\n",
    "g.get_home_events().head()"
   ]
  },
  {
   "cell_type": "code",
   "execution_count": 15,
   "metadata": {},
   "outputs": [
    {
     "name": "stdout",
     "output_type": "stream",
     "text": [
      "CPU times: user 4 µs, sys: 1 µs, total: 5 µs\n",
      "Wall time: 8.11 µs\n"
     ]
    },
    {
     "data": {
      "text/html": [
       "<div>\n",
       "<style scoped>\n",
       "    .dataframe tbody tr th:only-of-type {\n",
       "        vertical-align: middle;\n",
       "    }\n",
       "\n",
       "    .dataframe tbody tr th {\n",
       "        vertical-align: top;\n",
       "    }\n",
       "\n",
       "    .dataframe thead th {\n",
       "        text-align: right;\n",
       "    }\n",
       "</style>\n",
       "<table border=\"1\" class=\"dataframe\">\n",
       "  <thead>\n",
       "    <tr style=\"text-align: right;\">\n",
       "      <th></th>\n",
       "      <th>id</th>\n",
       "      <th>team_season_id_home</th>\n",
       "      <th>team_season_id_away</th>\n",
       "      <th>status_id</th>\n",
       "      <th>score_home</th>\n",
       "      <th>score_away</th>\n",
       "      <th>live</th>\n",
       "      <th>reg_season</th>\n",
       "      <th>ignore_game</th>\n",
       "      <th>lock</th>\n",
       "      <th>...</th>\n",
       "      <th>aw_section</th>\n",
       "      <th>ext_game_id</th>\n",
       "      <th>update_timestamp</th>\n",
       "      <th>location_id</th>\n",
       "      <th>ls_game_id</th>\n",
       "      <th>ticket_url</th>\n",
       "      <th>streaming_url</th>\n",
       "      <th>roster_set</th>\n",
       "      <th>roster_set_1</th>\n",
       "      <th>roster_set_2</th>\n",
       "    </tr>\n",
       "  </thead>\n",
       "  <tbody>\n",
       "    <tr>\n",
       "      <th>0</th>\n",
       "      <td>2893</td>\n",
       "      <td>242</td>\n",
       "      <td>241</td>\n",
       "      <td>100</td>\n",
       "      <td>16</td>\n",
       "      <td>14</td>\n",
       "      <td>None</td>\n",
       "      <td>True</td>\n",
       "      <td>False</td>\n",
       "      <td>True</td>\n",
       "      <td>...</td>\n",
       "      <td>week-1</td>\n",
       "      <td>2022-04-29-ATL-CAR</td>\n",
       "      <td>2022-04-30T00:55:50.838Z</td>\n",
       "      <td>53</td>\n",
       "      <td>55790353-0270-4b7c-b916-948dd69b9abb</td>\n",
       "      <td>https://theaudl.com/flyers/tickets</td>\n",
       "      <td>https://audltv.vhx.tv/videos/atlanta-at-caroli...</td>\n",
       "      <td>True</td>\n",
       "      <td>True</td>\n",
       "      <td>True</td>\n",
       "    </tr>\n",
       "  </tbody>\n",
       "</table>\n",
       "<p>1 rows × 23 columns</p>\n",
       "</div>"
      ],
      "text/plain": [
       "     id  team_season_id_home  team_season_id_away  status_id  score_home  \\\n",
       "0  2893                  242                  241        100          16   \n",
       "\n",
       "   score_away  live  reg_season  ignore_game  lock  ... aw_section  \\\n",
       "0          14  None        True        False  True  ...     week-1   \n",
       "\n",
       "          ext_game_id          update_timestamp location_id  \\\n",
       "0  2022-04-29-ATL-CAR  2022-04-30T00:55:50.838Z          53   \n",
       "\n",
       "                             ls_game_id                          ticket_url  \\\n",
       "0  55790353-0270-4b7c-b916-948dd69b9abb  https://theaudl.com/flyers/tickets   \n",
       "\n",
       "                                       streaming_url roster_set roster_set_1  \\\n",
       "0  https://audltv.vhx.tv/videos/atlanta-at-caroli...       True         True   \n",
       "\n",
       "  roster_set_2  \n",
       "0         True  \n",
       "\n",
       "[1 rows x 23 columns]"
      ]
     },
     "execution_count": 15,
     "metadata": {},
     "output_type": "execute_result"
    }
   ],
   "source": [
    "%%time\n",
    "# We can also get some basic info about the game\n",
    "g.get_game_info()"
   ]
  },
  {
   "cell_type": "code",
   "execution_count": 16,
   "metadata": {},
   "outputs": [
    {
     "name": "stdout",
     "output_type": "stream",
     "text": [
      "CPU times: user 3.72 ms, sys: 551 µs, total: 4.27 ms\n",
      "Wall time: 3.83 ms\n"
     ]
    },
    {
     "data": {
      "text/html": [
       "<div>\n",
       "<style scoped>\n",
       "    .dataframe tbody tr th:only-of-type {\n",
       "        vertical-align: middle;\n",
       "    }\n",
       "\n",
       "    .dataframe tbody tr th {\n",
       "        vertical-align: top;\n",
       "    }\n",
       "\n",
       "    .dataframe thead th {\n",
       "        text-align: right;\n",
       "    }\n",
       "</style>\n",
       "<table border=\"1\" class=\"dataframe\">\n",
       "  <thead>\n",
       "    <tr style=\"text-align: right;\">\n",
       "      <th></th>\n",
       "      <th>abbrev</th>\n",
       "      <th>city</th>\n",
       "      <th>division_id</th>\n",
       "      <th>final_standing</th>\n",
       "      <th>id</th>\n",
       "      <th>season_id</th>\n",
       "      <th>team_id</th>\n",
       "      <th>ulti_analytics_ext_id</th>\n",
       "      <th>name</th>\n",
       "      <th>ext_team_id</th>\n",
       "      <th>ls_team_id</th>\n",
       "    </tr>\n",
       "  </thead>\n",
       "  <tbody>\n",
       "    <tr>\n",
       "      <th>0</th>\n",
       "      <td>CAR</td>\n",
       "      <td>Carolina</td>\n",
       "      <td>4</td>\n",
       "      <td>None</td>\n",
       "      <td>242</td>\n",
       "      <td>13</td>\n",
       "      <td>18</td>\n",
       "      <td>None</td>\n",
       "      <td>Flyers</td>\n",
       "      <td>flyers</td>\n",
       "      <td>f364b191-1101-4c86-959e-7ac9b2a0909b</td>\n",
       "    </tr>\n",
       "  </tbody>\n",
       "</table>\n",
       "</div>"
      ],
      "text/plain": [
       "  abbrev      city  division_id final_standing   id  season_id  team_id  \\\n",
       "0    CAR  Carolina            4           None  242         13       18   \n",
       "\n",
       "  ulti_analytics_ext_id    name ext_team_id  \\\n",
       "0                  None  Flyers      flyers   \n",
       "\n",
       "                             ls_team_id  \n",
       "0  f364b191-1101-4c86-959e-7ac9b2a0909b  "
      ]
     },
     "execution_count": 16,
     "metadata": {},
     "output_type": "execute_result"
    }
   ],
   "source": [
    "%%time\n",
    "# We can also get some basic info about each team\n",
    "g.get_home_team()"
   ]
  },
  {
   "cell_type": "code",
   "execution_count": 17,
   "metadata": {},
   "outputs": [
    {
     "name": "stdout",
     "output_type": "stream",
     "text": [
      "CPU times: user 6.97 ms, sys: 1.28 ms, total: 8.24 ms\n",
      "Wall time: 7.33 ms\n"
     ]
    },
    {
     "data": {
      "text/html": [
       "<div>\n",
       "<style scoped>\n",
       "    .dataframe tbody tr th:only-of-type {\n",
       "        vertical-align: middle;\n",
       "    }\n",
       "\n",
       "    .dataframe tbody tr th {\n",
       "        vertical-align: top;\n",
       "    }\n",
       "\n",
       "    .dataframe thead th {\n",
       "        text-align: right;\n",
       "    }\n",
       "</style>\n",
       "<table border=\"1\" class=\"dataframe\">\n",
       "  <thead>\n",
       "    <tr style=\"text-align: right;\">\n",
       "      <th></th>\n",
       "      <th>id</th>\n",
       "      <th>team_season_id</th>\n",
       "      <th>player_id</th>\n",
       "      <th>jersey_number</th>\n",
       "      <th>first_name</th>\n",
       "      <th>last_name</th>\n",
       "      <th>ext_player_id</th>\n",
       "      <th>ls_player_id</th>\n",
       "      <th>active</th>\n",
       "    </tr>\n",
       "  </thead>\n",
       "  <tbody>\n",
       "    <tr>\n",
       "      <th>0</th>\n",
       "      <td>10139</td>\n",
       "      <td>242</td>\n",
       "      <td>2889</td>\n",
       "      <td>0</td>\n",
       "      <td>Wilson</td>\n",
       "      <td>Matthews</td>\n",
       "      <td>wmatthews1</td>\n",
       "      <td>8bdcaa7f-035c-4f60-a1b3-2b5352519ada</td>\n",
       "      <td>False</td>\n",
       "    </tr>\n",
       "    <tr>\n",
       "      <th>1</th>\n",
       "      <td>10140</td>\n",
       "      <td>242</td>\n",
       "      <td>994</td>\n",
       "      <td>1</td>\n",
       "      <td>Justin</td>\n",
       "      <td>Allen</td>\n",
       "      <td>jallen</td>\n",
       "      <td>62b8c47d-76a7-4eae-a397-a313327407be</td>\n",
       "      <td>False</td>\n",
       "    </tr>\n",
       "    <tr>\n",
       "      <th>2</th>\n",
       "      <td>10141</td>\n",
       "      <td>242</td>\n",
       "      <td>1643</td>\n",
       "      <td>2</td>\n",
       "      <td>Sol</td>\n",
       "      <td>Yanuck</td>\n",
       "      <td>syanuck</td>\n",
       "      <td>4338c80e-2abd-40e8-a32a-0b95e347aba3</td>\n",
       "      <td>True</td>\n",
       "    </tr>\n",
       "    <tr>\n",
       "      <th>3</th>\n",
       "      <td>10142</td>\n",
       "      <td>242</td>\n",
       "      <td>2890</td>\n",
       "      <td>3</td>\n",
       "      <td>Michael</td>\n",
       "      <td>Lee</td>\n",
       "      <td>mlee1</td>\n",
       "      <td>d56afe48-2b65-4de1-8594-5650ea403a92</td>\n",
       "      <td>False</td>\n",
       "    </tr>\n",
       "    <tr>\n",
       "      <th>4</th>\n",
       "      <td>10143</td>\n",
       "      <td>242</td>\n",
       "      <td>2222</td>\n",
       "      <td>4</td>\n",
       "      <td>Seth</td>\n",
       "      <td>Weaver</td>\n",
       "      <td>sweaver</td>\n",
       "      <td>3264b70f-0b34-4733-a3e7-56173decc733</td>\n",
       "      <td>True</td>\n",
       "    </tr>\n",
       "  </tbody>\n",
       "</table>\n",
       "</div>"
      ],
      "text/plain": [
       "      id  team_season_id  player_id jersey_number first_name last_name  \\\n",
       "0  10139             242       2889             0     Wilson  Matthews   \n",
       "1  10140             242        994             1     Justin     Allen   \n",
       "2  10141             242       1643             2        Sol    Yanuck   \n",
       "3  10142             242       2890             3    Michael       Lee   \n",
       "4  10143             242       2222             4       Seth    Weaver   \n",
       "\n",
       "  ext_player_id                          ls_player_id  active  \n",
       "0    wmatthews1  8bdcaa7f-035c-4f60-a1b3-2b5352519ada   False  \n",
       "1        jallen  62b8c47d-76a7-4eae-a397-a313327407be   False  \n",
       "2       syanuck  4338c80e-2abd-40e8-a32a-0b95e347aba3    True  \n",
       "3         mlee1  d56afe48-2b65-4de1-8594-5650ea403a92   False  \n",
       "4       sweaver  3264b70f-0b34-4733-a3e7-56173decc733    True  "
      ]
     },
     "execution_count": 17,
     "metadata": {},
     "output_type": "execute_result"
    }
   ],
   "source": [
    "%%time\n",
    "# We can also get the rosters and which players were active\n",
    "g.get_home_roster().head()"
   ]
  },
  {
   "cell_type": "code",
   "execution_count": 18,
   "metadata": {},
   "outputs": [
    {
     "name": "stderr",
     "output_type": "stream",
     "text": [
      "/Users/johnlithio/Documents/AUDL-Advanced-Stats/audl_advanced_stats/game.py:2380: FutureWarning:\n",
      "\n",
      "Dropping of nuisance columns in DataFrame reductions (with 'numeric_only=None') is deprecated; in a future version this will raise TypeError.  Select only valid columns before calling the reduction.\n",
      "\n",
      "/Users/johnlithio/Documents/AUDL-Advanced-Stats/audl_advanced_stats/game.py:2781: FutureWarning:\n",
      "\n",
      "Dropping of nuisance columns in DataFrame reductions (with 'numeric_only=None') is deprecated; in a future version this will raise TypeError.  Select only valid columns before calling the reduction.\n",
      "\n"
     ]
    },
    {
     "name": "stdout",
     "output_type": "stream",
     "text": [
      "CPU times: user 1.14 s, sys: 11.9 ms, total: 1.15 s\n",
      "Wall time: 1.14 s\n"
     ]
    },
    {
     "data": {
      "text/html": [
       "<div>\n",
       "<style scoped>\n",
       "    .dataframe tbody tr th:only-of-type {\n",
       "        vertical-align: middle;\n",
       "    }\n",
       "\n",
       "    .dataframe tbody tr th {\n",
       "        vertical-align: top;\n",
       "    }\n",
       "\n",
       "    .dataframe thead th {\n",
       "        text-align: right;\n",
       "    }\n",
       "</style>\n",
       "<table border=\"1\" class=\"dataframe\">\n",
       "  <thead>\n",
       "    <tr style=\"text-align: right;\">\n",
       "      <th></th>\n",
       "      <th>playerid</th>\n",
       "      <th>name</th>\n",
       "      <th>team</th>\n",
       "      <th>opponent</th>\n",
       "      <th>game_date</th>\n",
       "      <th>year</th>\n",
       "      <th>playoffs</th>\n",
       "      <th>games</th>\n",
       "      <th>total_points</th>\n",
       "      <th>o_points</th>\n",
       "      <th>...</th>\n",
       "      <th>receptions_dump_pct</th>\n",
       "      <th>completion_huck_pct</th>\n",
       "      <th>attempts_huck_pct</th>\n",
       "      <th>receptions_huck_pct</th>\n",
       "      <th>completion_swing_pct</th>\n",
       "      <th>attempts_swing_pct</th>\n",
       "      <th>receptions_swing_pct</th>\n",
       "      <th>completion_throw_pct</th>\n",
       "      <th>attempts_throw_pct</th>\n",
       "      <th>receptions_throw_pct</th>\n",
       "    </tr>\n",
       "  </thead>\n",
       "  <tbody>\n",
       "    <tr>\n",
       "      <th>0</th>\n",
       "      <td>10141</td>\n",
       "      <td>Sol Yanuck</td>\n",
       "      <td>CAR</td>\n",
       "      <td>ATL</td>\n",
       "      <td>2022-04-29</td>\n",
       "      <td>2022</td>\n",
       "      <td>False</td>\n",
       "      <td>1</td>\n",
       "      <td>16</td>\n",
       "      <td>16</td>\n",
       "      <td>...</td>\n",
       "      <td>0.162791</td>\n",
       "      <td>0.5</td>\n",
       "      <td>0.081633</td>\n",
       "      <td>0.000000</td>\n",
       "      <td>1.0</td>\n",
       "      <td>0.204082</td>\n",
       "      <td>0.232558</td>\n",
       "      <td>1.0</td>\n",
       "      <td>0.408163</td>\n",
       "      <td>0.186047</td>\n",
       "    </tr>\n",
       "    <tr>\n",
       "      <th>1</th>\n",
       "      <td>10143</td>\n",
       "      <td>Seth Weaver</td>\n",
       "      <td>CAR</td>\n",
       "      <td>ATL</td>\n",
       "      <td>2022-04-29</td>\n",
       "      <td>2022</td>\n",
       "      <td>False</td>\n",
       "      <td>1</td>\n",
       "      <td>10</td>\n",
       "      <td>0</td>\n",
       "      <td>...</td>\n",
       "      <td>0.333333</td>\n",
       "      <td>NaN</td>\n",
       "      <td>0.000000</td>\n",
       "      <td>0.000000</td>\n",
       "      <td>1.0</td>\n",
       "      <td>0.200000</td>\n",
       "      <td>0.000000</td>\n",
       "      <td>1.0</td>\n",
       "      <td>0.400000</td>\n",
       "      <td>0.166667</td>\n",
       "    </tr>\n",
       "    <tr>\n",
       "      <th>2</th>\n",
       "      <td>10147</td>\n",
       "      <td>Terrence Mitchell</td>\n",
       "      <td>CAR</td>\n",
       "      <td>ATL</td>\n",
       "      <td>2022-04-29</td>\n",
       "      <td>2022</td>\n",
       "      <td>False</td>\n",
       "      <td>1</td>\n",
       "      <td>14</td>\n",
       "      <td>14</td>\n",
       "      <td>...</td>\n",
       "      <td>0.000000</td>\n",
       "      <td>NaN</td>\n",
       "      <td>0.000000</td>\n",
       "      <td>0.000000</td>\n",
       "      <td>NaN</td>\n",
       "      <td>0.000000</td>\n",
       "      <td>0.000000</td>\n",
       "      <td>1.0</td>\n",
       "      <td>0.250000</td>\n",
       "      <td>0.400000</td>\n",
       "    </tr>\n",
       "    <tr>\n",
       "      <th>3</th>\n",
       "      <td>10149</td>\n",
       "      <td>Henry Fisher</td>\n",
       "      <td>CAR</td>\n",
       "      <td>ATL</td>\n",
       "      <td>2022-04-29</td>\n",
       "      <td>2022</td>\n",
       "      <td>False</td>\n",
       "      <td>1</td>\n",
       "      <td>11</td>\n",
       "      <td>10</td>\n",
       "      <td>...</td>\n",
       "      <td>0.000000</td>\n",
       "      <td>1.0</td>\n",
       "      <td>0.083333</td>\n",
       "      <td>0.076923</td>\n",
       "      <td>1.0</td>\n",
       "      <td>0.083333</td>\n",
       "      <td>0.076923</td>\n",
       "      <td>1.0</td>\n",
       "      <td>0.083333</td>\n",
       "      <td>0.384615</td>\n",
       "    </tr>\n",
       "    <tr>\n",
       "      <th>4</th>\n",
       "      <td>10151</td>\n",
       "      <td>William Coffin</td>\n",
       "      <td>CAR</td>\n",
       "      <td>ATL</td>\n",
       "      <td>2022-04-29</td>\n",
       "      <td>2022</td>\n",
       "      <td>False</td>\n",
       "      <td>1</td>\n",
       "      <td>5</td>\n",
       "      <td>0</td>\n",
       "      <td>...</td>\n",
       "      <td>NaN</td>\n",
       "      <td>NaN</td>\n",
       "      <td>NaN</td>\n",
       "      <td>NaN</td>\n",
       "      <td>NaN</td>\n",
       "      <td>NaN</td>\n",
       "      <td>NaN</td>\n",
       "      <td>NaN</td>\n",
       "      <td>NaN</td>\n",
       "      <td>NaN</td>\n",
       "    </tr>\n",
       "  </tbody>\n",
       "</table>\n",
       "<p>5 rows × 218 columns</p>\n",
       "</div>"
      ],
      "text/plain": [
       "  playerid               name team opponent   game_date  year  playoffs  \\\n",
       "0    10141         Sol Yanuck  CAR      ATL  2022-04-29  2022     False   \n",
       "1    10143        Seth Weaver  CAR      ATL  2022-04-29  2022     False   \n",
       "2    10147  Terrence Mitchell  CAR      ATL  2022-04-29  2022     False   \n",
       "3    10149       Henry Fisher  CAR      ATL  2022-04-29  2022     False   \n",
       "4    10151     William Coffin  CAR      ATL  2022-04-29  2022     False   \n",
       "\n",
       "   games  total_points  o_points  ...  receptions_dump_pct  \\\n",
       "0      1            16        16  ...             0.162791   \n",
       "1      1            10         0  ...             0.333333   \n",
       "2      1            14        14  ...             0.000000   \n",
       "3      1            11        10  ...             0.000000   \n",
       "4      1             5         0  ...                  NaN   \n",
       "\n",
       "   completion_huck_pct  attempts_huck_pct  receptions_huck_pct  \\\n",
       "0                  0.5           0.081633             0.000000   \n",
       "1                  NaN           0.000000             0.000000   \n",
       "2                  NaN           0.000000             0.000000   \n",
       "3                  1.0           0.083333             0.076923   \n",
       "4                  NaN                NaN                  NaN   \n",
       "\n",
       "   completion_swing_pct  attempts_swing_pct  receptions_swing_pct  \\\n",
       "0                   1.0            0.204082              0.232558   \n",
       "1                   1.0            0.200000              0.000000   \n",
       "2                   NaN            0.000000              0.000000   \n",
       "3                   1.0            0.083333              0.076923   \n",
       "4                   NaN                 NaN                   NaN   \n",
       "\n",
       "   completion_throw_pct  attempts_throw_pct  receptions_throw_pct  \n",
       "0                   1.0            0.408163              0.186047  \n",
       "1                   1.0            0.400000              0.166667  \n",
       "2                   1.0            0.250000              0.400000  \n",
       "3                   1.0            0.083333              0.384615  \n",
       "4                   NaN                 NaN                   NaN  \n",
       "\n",
       "[5 rows x 218 columns]"
      ]
     },
     "execution_count": 18,
     "metadata": {},
     "output_type": "execute_result"
    }
   ],
   "source": [
    "%%time\n",
    "# Get player stats for this game\n",
    "g.get_player_stats_by_game(home=True).head()"
   ]
  },
  {
   "cell_type": "code",
   "execution_count": 19,
   "metadata": {},
   "outputs": [
    {
     "name": "stdout",
     "output_type": "stream",
     "text": [
      "CPU times: user 86.1 ms, sys: 8.23 ms, total: 94.3 ms\n",
      "Wall time: 97.9 ms\n"
     ]
    },
    {
     "data": {
      "application/vnd.plotly.v1+json": {
       "config": {
        "plotlyServerURL": "https://plot.ly"
       },
       "data": [
        {
         "customdata": [
          [
           "Carolina",
           "12:00"
          ],
          [
           "Carolina",
           "11:18"
          ],
          [
           "Carolina",
           "8:55"
          ],
          [
           "Carolina",
           "6:07"
          ],
          [
           "Carolina",
           "5:31"
          ],
          [
           "Carolina",
           "4:04"
          ],
          [
           "Carolina",
           "3:07"
          ],
          [
           "Carolina",
           "10:49"
          ],
          [
           "Carolina",
           "10:13"
          ],
          [
           "Carolina",
           "8:43"
          ],
          [
           "Carolina",
           "6:58"
          ],
          [
           "Carolina",
           "4:34"
          ],
          [
           "Carolina",
           "4:14"
          ],
          [
           "Carolina",
           "0:15"
          ],
          [
           "Carolina",
           "11:33"
          ],
          [
           "Carolina",
           "9:39"
          ],
          [
           "Carolina",
           "8:33"
          ],
          [
           "Carolina",
           "7:40"
          ],
          [
           "Carolina",
           "5:29"
          ],
          [
           "Carolina",
           "2:03"
          ],
          [
           "Carolina",
           "1:25"
          ],
          [
           "Carolina",
           "0:28"
          ],
          [
           "Carolina",
           "8:21"
          ],
          [
           "Carolina",
           "6:50"
          ],
          [
           "Carolina",
           "5:09"
          ],
          [
           "Carolina",
           "4:18"
          ],
          [
           "Carolina",
           "3:13"
          ],
          [
           "Carolina",
           "2:20"
          ],
          [
           "Carolina",
           "0:38"
          ],
          [
           "Carolina",
           "0:17"
          ],
          [
           "Carolina",
           "0:00"
          ]
         ],
         "hovertemplate": "%{customdata[0]}: %{y}<extra></extra>",
         "hovertext": [
          "12:00",
          "11:18",
          "8:55",
          "6:07",
          "5:31",
          "4:04",
          "3:07",
          "10:49",
          "10:13",
          "8:43",
          "6:58",
          "4:34",
          "4:14",
          "0:15",
          "11:33",
          "9:39",
          "8:33",
          "7:40",
          "5:29",
          "2:03",
          "1:25",
          "0:28",
          "8:21",
          "6:50",
          "5:09",
          "4:18",
          "3:13",
          "2:20",
          "0:38",
          "0:17",
          "0:00"
         ],
         "legendgroup": "a",
         "line": {
          "color": "#636efa",
          "dash": "solid",
          "shape": "hv"
         },
         "marker": {
          "symbol": "circle"
         },
         "mode": "lines",
         "name": "Carolina",
         "orientation": "v",
         "showlegend": true,
         "type": "scatter",
         "x": [
          0,
          42,
          185,
          353,
          389,
          476,
          533,
          791,
          827,
          917,
          1022,
          1166,
          1186,
          1425,
          1467,
          1581,
          1647,
          1700,
          1831,
          2037,
          2075,
          2132,
          2379,
          2470,
          2571,
          2622,
          2687,
          2740,
          2842,
          2863,
          2880
         ],
         "xaxis": "x",
         "y": [
          0,
          1,
          1,
          1,
          2,
          2,
          3,
          3,
          4,
          5,
          6,
          6,
          7,
          7,
          8,
          8,
          9,
          9,
          9,
          10,
          10,
          10,
          10,
          11,
          11,
          12,
          13,
          14,
          14,
          15,
          15
         ],
         "yaxis": "y"
        },
        {
         "customdata": [
          [
           "Atlanta",
           "12:00"
          ],
          [
           "Atlanta",
           "8:55"
          ],
          [
           "Atlanta",
           "6:07"
          ],
          [
           "Atlanta",
           "5:31"
          ],
          [
           "Atlanta",
           "4:04"
          ],
          [
           "Atlanta",
           "3:07"
          ],
          [
           "Atlanta",
           "10:49"
          ],
          [
           "Atlanta",
           "10:13"
          ],
          [
           "Atlanta",
           "8:43"
          ],
          [
           "Atlanta",
           "6:58"
          ],
          [
           "Atlanta",
           "4:34"
          ],
          [
           "Atlanta",
           "4:14"
          ],
          [
           "Atlanta",
           "0:15"
          ],
          [
           "Atlanta",
           "11:33"
          ],
          [
           "Atlanta",
           "9:39"
          ],
          [
           "Atlanta",
           "8:33"
          ],
          [
           "Atlanta",
           "7:40"
          ],
          [
           "Atlanta",
           "5:29"
          ],
          [
           "Atlanta",
           "2:03"
          ],
          [
           "Atlanta",
           "1:25"
          ],
          [
           "Atlanta",
           "0:28"
          ],
          [
           "Atlanta",
           "8:21"
          ],
          [
           "Atlanta",
           "6:50"
          ],
          [
           "Atlanta",
           "5:09"
          ],
          [
           "Atlanta",
           "4:18"
          ],
          [
           "Atlanta",
           "3:13"
          ],
          [
           "Atlanta",
           "2:20"
          ],
          [
           "Atlanta",
           "0:38"
          ],
          [
           "Atlanta",
           "0:17"
          ],
          [
           "Atlanta",
           "0:00"
          ]
         ],
         "hovertemplate": "%{customdata[0]}: %{y}<extra></extra>",
         "hovertext": [
          "12:00",
          "8:55",
          "6:07",
          "5:31",
          "4:04",
          "3:07",
          "10:49",
          "10:13",
          "8:43",
          "6:58",
          "4:34",
          "4:14",
          "0:15",
          "11:33",
          "9:39",
          "8:33",
          "7:40",
          "5:29",
          "2:03",
          "1:25",
          "0:28",
          "8:21",
          "6:50",
          "5:09",
          "4:18",
          "3:13",
          "2:20",
          "0:38",
          "0:17",
          "0:00"
         ],
         "legendgroup": "a",
         "line": {
          "color": "#EF553B",
          "dash": "solid",
          "shape": "hv"
         },
         "marker": {
          "symbol": "circle"
         },
         "mode": "lines",
         "name": "Atlanta",
         "orientation": "v",
         "showlegend": true,
         "type": "scatter",
         "x": [
          0,
          185,
          353,
          389,
          476,
          533,
          791,
          827,
          917,
          1022,
          1166,
          1186,
          1425,
          1467,
          1581,
          1647,
          1700,
          1831,
          2037,
          2075,
          2132,
          2379,
          2470,
          2571,
          2622,
          2687,
          2740,
          2842,
          2863,
          2880
         ],
         "xaxis": "x",
         "y": [
          0,
          1,
          2,
          2,
          3,
          3,
          4,
          4,
          4,
          4,
          5,
          5,
          6,
          6,
          7,
          7,
          8,
          9,
          9,
          10,
          11,
          12,
          12,
          13,
          13,
          13,
          13,
          14,
          14,
          14
         ],
         "yaxis": "y"
        }
       ],
       "layout": {
        "annotations": [
         {
          "showarrow": false,
          "text": "Game Start",
          "x": 0,
          "xref": "x",
          "y": -2,
          "yref": "y"
         },
         {
          "showarrow": false,
          "text": "End of Q1",
          "x": 720,
          "xref": "x",
          "y": -2,
          "yref": "y"
         },
         {
          "showarrow": false,
          "text": "End of Q2",
          "x": 1440,
          "xref": "x",
          "y": -2,
          "yref": "y"
         },
         {
          "showarrow": false,
          "text": "End of Q3",
          "x": 2160,
          "xref": "x",
          "y": -2,
          "yref": "y"
         },
         {
          "showarrow": false,
          "text": "End of Q4",
          "x": 2880,
          "xref": "x",
          "y": -2,
          "yref": "y"
         }
        ],
        "font": {
         "family": "TW Cen MT"
        },
        "height": 250,
        "hoverlabel": {
         "font": {
          "family": "TW Cen MT"
         }
        },
        "hovermode": "x unified",
        "legend": {
         "title": {},
         "tracegroupgap": 0
        },
        "margin": {
         "autoexpand": false,
         "b": 20,
         "l": 102,
         "r": 150,
         "t": 5
        },
        "paper_bgcolor": "rgba(0,0,0,0)",
        "plot_bgcolor": "rgba(0,0,0,0)",
        "shapes": [
         {
          "layer": "below",
          "line": {
           "color": "lightgray",
           "dash": "solid",
           "width": 1
          },
          "type": "line",
          "x0": 0,
          "x1": 0,
          "y0": 0,
          "y1": 15
         },
         {
          "layer": "below",
          "line": {
           "color": "lightgray",
           "dash": "solid",
           "width": 1
          },
          "type": "line",
          "x0": 720,
          "x1": 720,
          "y0": 0,
          "y1": 15
         },
         {
          "layer": "below",
          "line": {
           "color": "lightgray",
           "dash": "solid",
           "width": 1
          },
          "type": "line",
          "x0": 1440,
          "x1": 1440,
          "y0": 0,
          "y1": 15
         },
         {
          "layer": "below",
          "line": {
           "color": "lightgray",
           "dash": "solid",
           "width": 1
          },
          "type": "line",
          "x0": 2160,
          "x1": 2160,
          "y0": 0,
          "y1": 15
         },
         {
          "layer": "below",
          "line": {
           "color": "lightgray",
           "dash": "solid",
           "width": 1
          },
          "type": "line",
          "x0": 2880,
          "x1": 2880,
          "y0": 0,
          "y1": 15
         }
        ],
        "template": {
         "data": {
          "bar": [
           {
            "error_x": {
             "color": "#2a3f5f"
            },
            "error_y": {
             "color": "#2a3f5f"
            },
            "marker": {
             "line": {
              "color": "#E5ECF6",
              "width": 0.5
             },
             "pattern": {
              "fillmode": "overlay",
              "size": 10,
              "solidity": 0.2
             }
            },
            "type": "bar"
           }
          ],
          "barpolar": [
           {
            "marker": {
             "line": {
              "color": "#E5ECF6",
              "width": 0.5
             },
             "pattern": {
              "fillmode": "overlay",
              "size": 10,
              "solidity": 0.2
             }
            },
            "type": "barpolar"
           }
          ],
          "carpet": [
           {
            "aaxis": {
             "endlinecolor": "#2a3f5f",
             "gridcolor": "white",
             "linecolor": "white",
             "minorgridcolor": "white",
             "startlinecolor": "#2a3f5f"
            },
            "baxis": {
             "endlinecolor": "#2a3f5f",
             "gridcolor": "white",
             "linecolor": "white",
             "minorgridcolor": "white",
             "startlinecolor": "#2a3f5f"
            },
            "type": "carpet"
           }
          ],
          "choropleth": [
           {
            "colorbar": {
             "outlinewidth": 0,
             "ticks": ""
            },
            "type": "choropleth"
           }
          ],
          "contour": [
           {
            "colorbar": {
             "outlinewidth": 0,
             "ticks": ""
            },
            "colorscale": [
             [
              0,
              "#0d0887"
             ],
             [
              0.1111111111111111,
              "#46039f"
             ],
             [
              0.2222222222222222,
              "#7201a8"
             ],
             [
              0.3333333333333333,
              "#9c179e"
             ],
             [
              0.4444444444444444,
              "#bd3786"
             ],
             [
              0.5555555555555556,
              "#d8576b"
             ],
             [
              0.6666666666666666,
              "#ed7953"
             ],
             [
              0.7777777777777778,
              "#fb9f3a"
             ],
             [
              0.8888888888888888,
              "#fdca26"
             ],
             [
              1,
              "#f0f921"
             ]
            ],
            "type": "contour"
           }
          ],
          "contourcarpet": [
           {
            "colorbar": {
             "outlinewidth": 0,
             "ticks": ""
            },
            "type": "contourcarpet"
           }
          ],
          "heatmap": [
           {
            "colorbar": {
             "outlinewidth": 0,
             "ticks": ""
            },
            "colorscale": [
             [
              0,
              "#0d0887"
             ],
             [
              0.1111111111111111,
              "#46039f"
             ],
             [
              0.2222222222222222,
              "#7201a8"
             ],
             [
              0.3333333333333333,
              "#9c179e"
             ],
             [
              0.4444444444444444,
              "#bd3786"
             ],
             [
              0.5555555555555556,
              "#d8576b"
             ],
             [
              0.6666666666666666,
              "#ed7953"
             ],
             [
              0.7777777777777778,
              "#fb9f3a"
             ],
             [
              0.8888888888888888,
              "#fdca26"
             ],
             [
              1,
              "#f0f921"
             ]
            ],
            "type": "heatmap"
           }
          ],
          "heatmapgl": [
           {
            "colorbar": {
             "outlinewidth": 0,
             "ticks": ""
            },
            "colorscale": [
             [
              0,
              "#0d0887"
             ],
             [
              0.1111111111111111,
              "#46039f"
             ],
             [
              0.2222222222222222,
              "#7201a8"
             ],
             [
              0.3333333333333333,
              "#9c179e"
             ],
             [
              0.4444444444444444,
              "#bd3786"
             ],
             [
              0.5555555555555556,
              "#d8576b"
             ],
             [
              0.6666666666666666,
              "#ed7953"
             ],
             [
              0.7777777777777778,
              "#fb9f3a"
             ],
             [
              0.8888888888888888,
              "#fdca26"
             ],
             [
              1,
              "#f0f921"
             ]
            ],
            "type": "heatmapgl"
           }
          ],
          "histogram": [
           {
            "marker": {
             "pattern": {
              "fillmode": "overlay",
              "size": 10,
              "solidity": 0.2
             }
            },
            "type": "histogram"
           }
          ],
          "histogram2d": [
           {
            "colorbar": {
             "outlinewidth": 0,
             "ticks": ""
            },
            "colorscale": [
             [
              0,
              "#0d0887"
             ],
             [
              0.1111111111111111,
              "#46039f"
             ],
             [
              0.2222222222222222,
              "#7201a8"
             ],
             [
              0.3333333333333333,
              "#9c179e"
             ],
             [
              0.4444444444444444,
              "#bd3786"
             ],
             [
              0.5555555555555556,
              "#d8576b"
             ],
             [
              0.6666666666666666,
              "#ed7953"
             ],
             [
              0.7777777777777778,
              "#fb9f3a"
             ],
             [
              0.8888888888888888,
              "#fdca26"
             ],
             [
              1,
              "#f0f921"
             ]
            ],
            "type": "histogram2d"
           }
          ],
          "histogram2dcontour": [
           {
            "colorbar": {
             "outlinewidth": 0,
             "ticks": ""
            },
            "colorscale": [
             [
              0,
              "#0d0887"
             ],
             [
              0.1111111111111111,
              "#46039f"
             ],
             [
              0.2222222222222222,
              "#7201a8"
             ],
             [
              0.3333333333333333,
              "#9c179e"
             ],
             [
              0.4444444444444444,
              "#bd3786"
             ],
             [
              0.5555555555555556,
              "#d8576b"
             ],
             [
              0.6666666666666666,
              "#ed7953"
             ],
             [
              0.7777777777777778,
              "#fb9f3a"
             ],
             [
              0.8888888888888888,
              "#fdca26"
             ],
             [
              1,
              "#f0f921"
             ]
            ],
            "type": "histogram2dcontour"
           }
          ],
          "mesh3d": [
           {
            "colorbar": {
             "outlinewidth": 0,
             "ticks": ""
            },
            "type": "mesh3d"
           }
          ],
          "parcoords": [
           {
            "line": {
             "colorbar": {
              "outlinewidth": 0,
              "ticks": ""
             }
            },
            "type": "parcoords"
           }
          ],
          "pie": [
           {
            "automargin": true,
            "type": "pie"
           }
          ],
          "scatter": [
           {
            "fillpattern": {
             "fillmode": "overlay",
             "size": 10,
             "solidity": 0.2
            },
            "type": "scatter"
           }
          ],
          "scatter3d": [
           {
            "line": {
             "colorbar": {
              "outlinewidth": 0,
              "ticks": ""
             }
            },
            "marker": {
             "colorbar": {
              "outlinewidth": 0,
              "ticks": ""
             }
            },
            "type": "scatter3d"
           }
          ],
          "scattercarpet": [
           {
            "marker": {
             "colorbar": {
              "outlinewidth": 0,
              "ticks": ""
             }
            },
            "type": "scattercarpet"
           }
          ],
          "scattergeo": [
           {
            "marker": {
             "colorbar": {
              "outlinewidth": 0,
              "ticks": ""
             }
            },
            "type": "scattergeo"
           }
          ],
          "scattergl": [
           {
            "marker": {
             "colorbar": {
              "outlinewidth": 0,
              "ticks": ""
             }
            },
            "type": "scattergl"
           }
          ],
          "scattermapbox": [
           {
            "marker": {
             "colorbar": {
              "outlinewidth": 0,
              "ticks": ""
             }
            },
            "type": "scattermapbox"
           }
          ],
          "scatterpolar": [
           {
            "marker": {
             "colorbar": {
              "outlinewidth": 0,
              "ticks": ""
             }
            },
            "type": "scatterpolar"
           }
          ],
          "scatterpolargl": [
           {
            "marker": {
             "colorbar": {
              "outlinewidth": 0,
              "ticks": ""
             }
            },
            "type": "scatterpolargl"
           }
          ],
          "scatterternary": [
           {
            "marker": {
             "colorbar": {
              "outlinewidth": 0,
              "ticks": ""
             }
            },
            "type": "scatterternary"
           }
          ],
          "surface": [
           {
            "colorbar": {
             "outlinewidth": 0,
             "ticks": ""
            },
            "colorscale": [
             [
              0,
              "#0d0887"
             ],
             [
              0.1111111111111111,
              "#46039f"
             ],
             [
              0.2222222222222222,
              "#7201a8"
             ],
             [
              0.3333333333333333,
              "#9c179e"
             ],
             [
              0.4444444444444444,
              "#bd3786"
             ],
             [
              0.5555555555555556,
              "#d8576b"
             ],
             [
              0.6666666666666666,
              "#ed7953"
             ],
             [
              0.7777777777777778,
              "#fb9f3a"
             ],
             [
              0.8888888888888888,
              "#fdca26"
             ],
             [
              1,
              "#f0f921"
             ]
            ],
            "type": "surface"
           }
          ],
          "table": [
           {
            "cells": {
             "fill": {
              "color": "#EBF0F8"
             },
             "line": {
              "color": "white"
             }
            },
            "header": {
             "fill": {
              "color": "#C8D4E3"
             },
             "line": {
              "color": "white"
             }
            },
            "type": "table"
           }
          ]
         },
         "layout": {
          "annotationdefaults": {
           "arrowcolor": "#2a3f5f",
           "arrowhead": 0,
           "arrowwidth": 1
          },
          "autotypenumbers": "strict",
          "coloraxis": {
           "colorbar": {
            "outlinewidth": 0,
            "ticks": ""
           }
          },
          "colorscale": {
           "diverging": [
            [
             0,
             "#8e0152"
            ],
            [
             0.1,
             "#c51b7d"
            ],
            [
             0.2,
             "#de77ae"
            ],
            [
             0.3,
             "#f1b6da"
            ],
            [
             0.4,
             "#fde0ef"
            ],
            [
             0.5,
             "#f7f7f7"
            ],
            [
             0.6,
             "#e6f5d0"
            ],
            [
             0.7,
             "#b8e186"
            ],
            [
             0.8,
             "#7fbc41"
            ],
            [
             0.9,
             "#4d9221"
            ],
            [
             1,
             "#276419"
            ]
           ],
           "sequential": [
            [
             0,
             "#0d0887"
            ],
            [
             0.1111111111111111,
             "#46039f"
            ],
            [
             0.2222222222222222,
             "#7201a8"
            ],
            [
             0.3333333333333333,
             "#9c179e"
            ],
            [
             0.4444444444444444,
             "#bd3786"
            ],
            [
             0.5555555555555556,
             "#d8576b"
            ],
            [
             0.6666666666666666,
             "#ed7953"
            ],
            [
             0.7777777777777778,
             "#fb9f3a"
            ],
            [
             0.8888888888888888,
             "#fdca26"
            ],
            [
             1,
             "#f0f921"
            ]
           ],
           "sequentialminus": [
            [
             0,
             "#0d0887"
            ],
            [
             0.1111111111111111,
             "#46039f"
            ],
            [
             0.2222222222222222,
             "#7201a8"
            ],
            [
             0.3333333333333333,
             "#9c179e"
            ],
            [
             0.4444444444444444,
             "#bd3786"
            ],
            [
             0.5555555555555556,
             "#d8576b"
            ],
            [
             0.6666666666666666,
             "#ed7953"
            ],
            [
             0.7777777777777778,
             "#fb9f3a"
            ],
            [
             0.8888888888888888,
             "#fdca26"
            ],
            [
             1,
             "#f0f921"
            ]
           ]
          },
          "colorway": [
           "#636efa",
           "#EF553B",
           "#00cc96",
           "#ab63fa",
           "#FFA15A",
           "#19d3f3",
           "#FF6692",
           "#B6E880",
           "#FF97FF",
           "#FECB52"
          ],
          "font": {
           "color": "#2a3f5f"
          },
          "geo": {
           "bgcolor": "white",
           "lakecolor": "white",
           "landcolor": "#E5ECF6",
           "showlakes": true,
           "showland": true,
           "subunitcolor": "white"
          },
          "hoverlabel": {
           "align": "left"
          },
          "hovermode": "closest",
          "mapbox": {
           "style": "light"
          },
          "paper_bgcolor": "white",
          "plot_bgcolor": "#E5ECF6",
          "polar": {
           "angularaxis": {
            "gridcolor": "white",
            "linecolor": "white",
            "ticks": ""
           },
           "bgcolor": "#E5ECF6",
           "radialaxis": {
            "gridcolor": "white",
            "linecolor": "white",
            "ticks": ""
           }
          },
          "scene": {
           "xaxis": {
            "backgroundcolor": "#E5ECF6",
            "gridcolor": "white",
            "gridwidth": 2,
            "linecolor": "white",
            "showbackground": true,
            "ticks": "",
            "zerolinecolor": "white"
           },
           "yaxis": {
            "backgroundcolor": "#E5ECF6",
            "gridcolor": "white",
            "gridwidth": 2,
            "linecolor": "white",
            "showbackground": true,
            "ticks": "",
            "zerolinecolor": "white"
           },
           "zaxis": {
            "backgroundcolor": "#E5ECF6",
            "gridcolor": "white",
            "gridwidth": 2,
            "linecolor": "white",
            "showbackground": true,
            "ticks": "",
            "zerolinecolor": "white"
           }
          },
          "shapedefaults": {
           "line": {
            "color": "#2a3f5f"
           }
          },
          "ternary": {
           "aaxis": {
            "gridcolor": "white",
            "linecolor": "white",
            "ticks": ""
           },
           "baxis": {
            "gridcolor": "white",
            "linecolor": "white",
            "ticks": ""
           },
           "bgcolor": "#E5ECF6",
           "caxis": {
            "gridcolor": "white",
            "linecolor": "white",
            "ticks": ""
           }
          },
          "title": {
           "x": 0.05
          },
          "xaxis": {
           "automargin": true,
           "gridcolor": "white",
           "linecolor": "white",
           "ticks": "",
           "title": {
            "standoff": 15
           },
           "zerolinecolor": "white",
           "zerolinewidth": 2
          },
          "yaxis": {
           "automargin": true,
           "gridcolor": "white",
           "linecolor": "white",
           "ticks": "",
           "title": {
            "standoff": 15
           },
           "zerolinecolor": "white",
           "zerolinewidth": 2
          }
         }
        },
        "xaxis": {
         "anchor": "y",
         "domain": [
          0,
          1
         ],
         "fixedrange": true,
         "range": [
          -20,
          2890
         ],
         "showgrid": false,
         "showspikes": true,
         "showticklabels": false,
         "spikecolor": "black",
         "spikedash": "solid",
         "spikemode": "across",
         "spikesnap": "cursor",
         "spikethickness": 2,
         "tickmode": "array",
         "ticks": "",
         "ticktext": [
          "Game Start",
          "End of Q1",
          "End of Q2",
          "End of Q3",
          "End of Q4",
          "Q1: 11:18",
          "Q1: 8:55",
          "Q1: 6:07",
          "Q1: 5:31",
          "Q1: 4:04",
          "Q1: 3:07",
          "Q2: 10:49",
          "Q2: 10:13",
          "Q2: 8:43",
          "Q2: 6:58",
          "Q2: 4:34",
          "Q2: 4:14",
          "Q2: 0:15",
          "Q2: 11:33",
          "Q3: 9:39",
          "Q3: 8:33",
          "Q3: 7:40",
          "Q3: 5:29",
          "Q3: 2:03",
          "Q3: 1:25",
          "Q3: 0:28",
          "Q4: 8:21",
          "Q4: 6:50",
          "Q4: 5:09",
          "Q4: 4:18",
          "Q4: 3:13",
          "Q4: 2:20",
          "Q4: 0:38",
          "Q4: 0:17"
         ],
         "tickvals": [
          0,
          720,
          1440,
          2160,
          2880,
          42,
          185,
          353,
          389,
          476,
          533,
          791,
          827,
          917,
          1022,
          1166,
          1186,
          1425,
          1467,
          1581,
          1647,
          1700,
          1831,
          2037,
          2075,
          2132,
          2379,
          2470,
          2571,
          2622,
          2687,
          2740,
          2842,
          2863
         ],
         "title": {},
         "zeroline": false
        },
        "yaxis": {
         "anchor": "x",
         "domain": [
          0,
          1
         ],
         "fixedrange": true,
         "showgrid": false,
         "title": {
          "text": "Points"
         },
         "zerolinecolor": "lightgray"
        }
       }
      }
     },
     "metadata": {},
     "output_type": "display_data"
    }
   ],
   "source": [
    "%%time\n",
    "# Visualize the progression of scoring\n",
    "g.visual_game_score()"
   ]
  },
  {
   "cell_type": "code",
   "execution_count": 20,
   "metadata": {},
   "outputs": [
    {
     "name": "stdout",
     "output_type": "stream",
     "text": [
      "CPU times: user 309 ms, sys: 7.29 ms, total: 316 ms\n",
      "Wall time: 329 ms\n"
     ]
    },
    {
     "data": {
      "application/vnd.plotly.v1+json": {
       "config": {
        "plotlyServerURL": "https://plot.ly"
       },
       "data": [
        {
         "alignmentgroup": "True",
         "base": [
          1581,
          1961,
          1831,
          1440,
          2379,
          2067,
          476,
          2729,
          2842,
          791,
          353,
          2571,
          0,
          2729,
          2571,
          2379,
          2067,
          1961,
          1831,
          1581,
          1166,
          791,
          476,
          353,
          0,
          1440,
          2842,
          1581,
          1166,
          791,
          476,
          2379,
          2842,
          2729,
          2571,
          353,
          0,
          1961,
          1831,
          2067,
          1440,
          2571,
          2729,
          2842,
          2379,
          476,
          0,
          791,
          1166,
          1440,
          1831,
          1961,
          2067,
          1581,
          2842,
          0,
          476,
          353,
          1166,
          1440,
          1581,
          1961,
          2067,
          2379,
          2571,
          0,
          353,
          791,
          2729,
          2571,
          2379,
          476,
          1581,
          1166,
          964,
          917,
          1831,
          1166,
          1440,
          1831,
          1961,
          2571,
          2729,
          2842,
          791,
          353,
          0,
          1440,
          1831,
          2067,
          1961,
          791,
          476,
          2379,
          1166,
          2842,
          2729,
          2687,
          2622,
          827,
          2067,
          1914,
          1900,
          1581,
          864,
          1914,
          864,
          827,
          2687,
          2622,
          1900,
          1914,
          1900,
          864,
          827,
          2622,
          2622,
          964,
          917,
          864,
          964,
          917,
          827,
          2622,
          2687,
          1914,
          1900,
          964,
          917,
          353,
          2687,
          864,
          827,
          827,
          864,
          1900,
          1914,
          2687,
          2687,
          827,
          864,
          964,
          917,
          2687,
          2622,
          964,
          917,
          1900,
          1914,
          2622,
          1900,
          917,
          964,
          1914
         ],
         "customdata": [
          [
           "Anders Juengst",
           "9:39",
           "8:33",
           "O-Point",
           "Hold",
           0,
           "",
           ""
          ],
          [
           "Anders Juengst",
           "3:19",
           "1:33",
           "O-Point",
           "Hold",
           4,
           " (Timeout)",
           " (Injury)"
          ],
          [
           "Anders Juengst",
           "5:29",
           "4:20",
           "O-Point",
           "Hold",
           4,
           "",
           " (Timeout)"
          ],
          [
           "Anders Juengst",
           "12:00",
           "11:33",
           "O-Point",
           "Hold",
           0,
           "",
           ""
          ],
          [
           "Anders Juengst",
           "8:21",
           "6:50",
           "O-Point",
           "Hold",
           0,
           "",
           ""
          ],
          [
           "Anders Juengst",
           "1:33",
           "2:03",
           "O-Point",
           "Hold",
           4,
           " (Injury)",
           ""
          ],
          [
           "Anders Juengst",
           "4:04",
           "3:07",
           "O-Point",
           "Hold",
           0,
           "",
           ""
          ],
          [
           "Anders Juengst",
           "2:31",
           "2:20",
           "D-Point",
           "Break",
           1,
           " (Timeout)",
           ""
          ],
          [
           "Anders Juengst",
           "0:38",
           "0:17",
           "O-Point",
           "Hold",
           0,
           "",
           ""
          ],
          [
           "Anders Juengst",
           "10:49",
           "10:13",
           "O-Point",
           "Hold",
           0,
           "",
           ""
          ],
          [
           "Anders Juengst",
           "6:07",
           "5:31",
           "O-Point",
           "Hold",
           0,
           "",
           ""
          ],
          [
           "Anders Juengst",
           "5:09",
           "4:18",
           "O-Point",
           "Hold",
           0,
           "",
           ""
          ],
          [
           "Anders Juengst",
           "12:00",
           "11:18",
           "O-Point",
           "Hold",
           0,
           "",
           ""
          ],
          [
           "Jacob Fairfax",
           "2:31",
           "2:20",
           "D-Point",
           "Break",
           1,
           " (Timeout)",
           ""
          ],
          [
           "Jacob Fairfax",
           "5:09",
           "4:18",
           "O-Point",
           "Hold",
           0,
           "",
           ""
          ],
          [
           "Jacob Fairfax",
           "8:21",
           "6:50",
           "O-Point",
           "Hold",
           0,
           "",
           ""
          ],
          [
           "Jacob Fairfax",
           "1:33",
           "2:03",
           "O-Point",
           "Hold",
           4,
           " (Injury)",
           ""
          ],
          [
           "Jacob Fairfax",
           "3:19",
           "1:33",
           "O-Point",
           "Hold",
           4,
           " (Timeout)",
           " (Injury)"
          ],
          [
           "Jacob Fairfax",
           "5:29",
           "4:20",
           "O-Point",
           "Hold",
           4,
           "",
           " (Timeout)"
          ],
          [
           "Jacob Fairfax",
           "9:39",
           "8:33",
           "O-Point",
           "Hold",
           0,
           "",
           ""
          ],
          [
           "Jacob Fairfax",
           "4:34",
           "4:14",
           "O-Point",
           "Hold",
           0,
           "",
           ""
          ],
          [
           "Jacob Fairfax",
           "10:49",
           "10:13",
           "O-Point",
           "Hold",
           0,
           "",
           ""
          ],
          [
           "Jacob Fairfax",
           "4:04",
           "3:07",
           "O-Point",
           "Hold",
           0,
           "",
           ""
          ],
          [
           "Jacob Fairfax",
           "6:07",
           "5:31",
           "O-Point",
           "Hold",
           0,
           "",
           ""
          ],
          [
           "Jacob Fairfax",
           "12:00",
           "11:18",
           "O-Point",
           "Hold",
           0,
           "",
           ""
          ],
          [
           "Jacob Fairfax",
           "12:00",
           "11:33",
           "O-Point",
           "Hold",
           0,
           "",
           ""
          ],
          [
           "Jacob Fairfax",
           "0:38",
           "0:17",
           "O-Point",
           "Hold",
           0,
           "",
           ""
          ],
          [
           "Sol Yanuck",
           "9:39",
           "8:33",
           "O-Point",
           "Hold",
           0,
           "",
           ""
          ],
          [
           "Sol Yanuck",
           "4:34",
           "4:14",
           "O-Point",
           "Hold",
           0,
           "",
           ""
          ],
          [
           "Sol Yanuck",
           "10:49",
           "10:13",
           "O-Point",
           "Hold",
           0,
           "",
           ""
          ],
          [
           "Sol Yanuck",
           "4:04",
           "3:07",
           "O-Point",
           "Hold",
           0,
           "",
           ""
          ],
          [
           "Sol Yanuck",
           "8:21",
           "6:50",
           "O-Point",
           "Hold",
           0,
           "",
           ""
          ],
          [
           "Sol Yanuck",
           "0:38",
           "0:17",
           "O-Point",
           "Hold",
           0,
           "",
           ""
          ],
          [
           "Sol Yanuck",
           "2:31",
           "2:20",
           "D-Point",
           "Break",
           1,
           " (Timeout)",
           ""
          ],
          [
           "Sol Yanuck",
           "5:09",
           "4:18",
           "O-Point",
           "Hold",
           0,
           "",
           ""
          ],
          [
           "Sol Yanuck",
           "6:07",
           "5:31",
           "O-Point",
           "Hold",
           0,
           "",
           ""
          ],
          [
           "Sol Yanuck",
           "12:00",
           "11:18",
           "O-Point",
           "Hold",
           0,
           "",
           ""
          ],
          [
           "Sol Yanuck",
           "3:19",
           "1:33",
           "O-Point",
           "Hold",
           4,
           " (Timeout)",
           " (Injury)"
          ],
          [
           "Sol Yanuck",
           "5:29",
           "4:20",
           "O-Point",
           "Hold",
           4,
           "",
           " (Timeout)"
          ],
          [
           "Sol Yanuck",
           "1:33",
           "2:03",
           "O-Point",
           "Hold",
           4,
           " (Injury)",
           ""
          ],
          [
           "Sol Yanuck",
           "12:00",
           "11:33",
           "O-Point",
           "Hold",
           0,
           "",
           ""
          ],
          [
           "Matt Gouchoe-Hanas",
           "5:09",
           "4:18",
           "O-Point",
           "Hold",
           0,
           "",
           ""
          ],
          [
           "Matt Gouchoe-Hanas",
           "2:31",
           "2:20",
           "D-Point",
           "Break",
           1,
           " (Timeout)",
           ""
          ],
          [
           "Matt Gouchoe-Hanas",
           "0:38",
           "0:17",
           "O-Point",
           "Hold",
           0,
           "",
           ""
          ],
          [
           "Matt Gouchoe-Hanas",
           "8:21",
           "6:50",
           "O-Point",
           "Hold",
           0,
           "",
           ""
          ],
          [
           "Matt Gouchoe-Hanas",
           "4:04",
           "3:07",
           "O-Point",
           "Hold",
           0,
           "",
           ""
          ],
          [
           "Matt Gouchoe-Hanas",
           "12:00",
           "11:18",
           "O-Point",
           "Hold",
           0,
           "",
           ""
          ],
          [
           "Matt Gouchoe-Hanas",
           "10:49",
           "10:13",
           "O-Point",
           "Hold",
           0,
           "",
           ""
          ],
          [
           "Matt Gouchoe-Hanas",
           "4:34",
           "4:14",
           "O-Point",
           "Hold",
           0,
           "",
           ""
          ],
          [
           "Matt Gouchoe-Hanas",
           "12:00",
           "11:33",
           "O-Point",
           "Hold",
           0,
           "",
           ""
          ],
          [
           "Matt Gouchoe-Hanas",
           "5:29",
           "4:20",
           "O-Point",
           "Hold",
           4,
           "",
           " (Timeout)"
          ],
          [
           "Matt Gouchoe-Hanas",
           "3:19",
           "1:33",
           "O-Point",
           "Hold",
           4,
           " (Timeout)",
           " (Injury)"
          ],
          [
           "Matt Gouchoe-Hanas",
           "1:33",
           "2:03",
           "O-Point",
           "Hold",
           4,
           " (Injury)",
           ""
          ],
          [
           "Matt Gouchoe-Hanas",
           "9:39",
           "8:33",
           "O-Point",
           "Hold",
           0,
           "",
           ""
          ],
          [
           "Terrence Mitchell",
           "0:38",
           "0:17",
           "O-Point",
           "Hold",
           0,
           "",
           ""
          ],
          [
           "Terrence Mitchell",
           "12:00",
           "11:18",
           "O-Point",
           "Hold",
           0,
           "",
           ""
          ],
          [
           "Terrence Mitchell",
           "4:04",
           "3:07",
           "O-Point",
           "Hold",
           0,
           "",
           ""
          ],
          [
           "Terrence Mitchell",
           "6:07",
           "5:31",
           "O-Point",
           "Hold",
           0,
           "",
           ""
          ],
          [
           "Terrence Mitchell",
           "4:34",
           "4:14",
           "O-Point",
           "Hold",
           0,
           "",
           ""
          ],
          [
           "Terrence Mitchell",
           "12:00",
           "11:33",
           "O-Point",
           "Hold",
           0,
           "",
           ""
          ],
          [
           "Terrence Mitchell",
           "9:39",
           "8:33",
           "O-Point",
           "Hold",
           0,
           "",
           ""
          ],
          [
           "Terrence Mitchell",
           "3:19",
           "1:33",
           "O-Point",
           "Hold",
           4,
           " (Timeout)",
           " (Injury)"
          ],
          [
           "Terrence Mitchell",
           "1:33",
           "2:03",
           "O-Point",
           "Hold",
           4,
           " (Injury)",
           ""
          ],
          [
           "Terrence Mitchell",
           "8:21",
           "6:50",
           "O-Point",
           "Hold",
           0,
           "",
           ""
          ],
          [
           "Terrence Mitchell",
           "5:09",
           "4:18",
           "O-Point",
           "Hold",
           0,
           "",
           ""
          ],
          [
           "Alex Davis",
           "12:00",
           "11:18",
           "O-Point",
           "Hold",
           0,
           "",
           ""
          ],
          [
           "Alex Davis",
           "6:07",
           "5:31",
           "O-Point",
           "Hold",
           0,
           "",
           ""
          ],
          [
           "Alex Davis",
           "10:49",
           "10:13",
           "O-Point",
           "Hold",
           0,
           "",
           ""
          ],
          [
           "Alex Davis",
           "2:31",
           "2:20",
           "D-Point",
           "Break",
           1,
           " (Timeout)",
           ""
          ],
          [
           "Alex Davis",
           "5:09",
           "4:18",
           "O-Point",
           "Hold",
           0,
           "",
           ""
          ],
          [
           "Alex Davis",
           "8:21",
           "6:50",
           "O-Point",
           "Hold",
           0,
           "",
           ""
          ],
          [
           "Alex Davis",
           "4:04",
           "3:07",
           "O-Point",
           "Hold",
           0,
           "",
           ""
          ],
          [
           "Alex Davis",
           "9:39",
           "8:33",
           "O-Point",
           "Hold",
           0,
           "",
           ""
          ],
          [
           "Alex Davis",
           "4:34",
           "4:14",
           "O-Point",
           "Hold",
           0,
           "",
           ""
          ],
          [
           "Alex Davis",
           "7:56",
           "6:58",
           "D-Point",
           "Break",
           1,
           "",
           ""
          ],
          [
           "Alex Davis",
           "8:43",
           "7:56",
           "D-Point",
           "Break",
           1,
           "",
           ""
          ],
          [
           "Alex Davis",
           "5:29",
           "4:20",
           "O-Point",
           "Hold",
           4,
           "",
           " (Timeout)"
          ],
          [
           "Henry Fisher",
           "4:34",
           "4:14",
           "O-Point",
           "Hold",
           0,
           "",
           ""
          ],
          [
           "Henry Fisher",
           "12:00",
           "11:33",
           "O-Point",
           "Hold",
           0,
           "",
           ""
          ],
          [
           "Henry Fisher",
           "5:29",
           "4:20",
           "O-Point",
           "Hold",
           4,
           "",
           " (Timeout)"
          ],
          [
           "Henry Fisher",
           "3:19",
           "1:33",
           "O-Point",
           "Hold",
           4,
           " (Timeout)",
           " (Injury)"
          ],
          [
           "Henry Fisher",
           "5:09",
           "4:18",
           "O-Point",
           "Hold",
           0,
           "",
           ""
          ],
          [
           "Henry Fisher",
           "2:31",
           "2:20",
           "D-Point",
           "Break",
           1,
           " (Timeout)",
           ""
          ],
          [
           "Henry Fisher",
           "0:38",
           "0:17",
           "O-Point",
           "Hold",
           0,
           "",
           ""
          ],
          [
           "Henry Fisher",
           "10:49",
           "10:13",
           "O-Point",
           "Hold",
           0,
           "",
           ""
          ],
          [
           "Henry Fisher",
           "6:07",
           "5:31",
           "O-Point",
           "Hold",
           0,
           "",
           ""
          ],
          [
           "Henry Fisher",
           "12:00",
           "11:18",
           "O-Point",
           "Hold",
           0,
           "",
           ""
          ],
          [
           "Trevor Lynch",
           "12:00",
           "11:33",
           "O-Point",
           "Hold",
           0,
           "",
           ""
          ],
          [
           "Trevor Lynch",
           "5:29",
           "4:20",
           "O-Point",
           "Hold",
           4,
           "",
           " (Timeout)"
          ],
          [
           "Trevor Lynch",
           "1:33",
           "2:03",
           "O-Point",
           "Hold",
           4,
           " (Injury)",
           ""
          ],
          [
           "Trevor Lynch",
           "3:19",
           "1:33",
           "O-Point",
           "Hold",
           4,
           " (Timeout)",
           " (Injury)"
          ],
          [
           "Trevor Lynch",
           "10:49",
           "10:13",
           "O-Point",
           "Hold",
           0,
           "",
           ""
          ],
          [
           "Trevor Lynch",
           "4:04",
           "3:07",
           "O-Point",
           "Hold",
           0,
           "",
           ""
          ],
          [
           "Trevor Lynch",
           "8:21",
           "6:50",
           "O-Point",
           "Hold",
           0,
           "",
           ""
          ],
          [
           "Trevor Lynch",
           "4:34",
           "4:14",
           "O-Point",
           "Hold",
           0,
           "",
           ""
          ],
          [
           "Eric Taylor",
           "0:38",
           "0:17",
           "O-Point",
           "Hold",
           0,
           "",
           ""
          ],
          [
           "Eric Taylor",
           "2:31",
           "2:20",
           "D-Point",
           "Break",
           1,
           " (Timeout)",
           ""
          ],
          [
           "Eric Taylor",
           "3:13",
           "2:31",
           "D-Point",
           "Break",
           1,
           "",
           " (Timeout)"
          ],
          [
           "Eric Taylor",
           "4:18",
           "3:13",
           "D-Point",
           "Break",
           1,
           "",
           ""
          ],
          [
           "Eric Taylor",
           "10:13",
           "9:36",
           "D-Point",
           "Break",
           1,
           "",
           ""
          ],
          [
           "Eric Taylor",
           "1:33",
           "2:03",
           "O-Point",
           "Hold",
           4,
           " (Injury)",
           ""
          ],
          [
           "Eric Taylor",
           "4:06",
           "3:19",
           "O-Point",
           "Hold",
           4,
           "",
           " (Timeout)"
          ],
          [
           "Eric Taylor",
           "4:20",
           "4:06",
           "O-Point",
           "Hold",
           4,
           " (Timeout)",
           ""
          ],
          [
           "Eric Taylor",
           "9:39",
           "8:33",
           "O-Point",
           "Hold",
           0,
           "",
           ""
          ],
          [
           "Eric Taylor",
           "9:36",
           "8:43",
           "D-Point",
           "Break",
           1,
           "",
           ""
          ],
          [
           "Tim McAllister",
           "4:06",
           "3:19",
           "O-Point",
           "Hold",
           4,
           "",
           " (Timeout)"
          ],
          [
           "Tim McAllister",
           "9:36",
           "8:43",
           "D-Point",
           "Break",
           1,
           "",
           ""
          ],
          [
           "Tim McAllister",
           "10:13",
           "9:36",
           "D-Point",
           "Break",
           1,
           "",
           ""
          ],
          [
           "Tim McAllister",
           "3:13",
           "2:31",
           "D-Point",
           "Break",
           1,
           "",
           " (Timeout)"
          ],
          [
           "Tim McAllister",
           "4:18",
           "3:13",
           "D-Point",
           "Break",
           1,
           "",
           ""
          ],
          [
           "Tim McAllister",
           "4:20",
           "4:06",
           "O-Point",
           "Hold",
           4,
           " (Timeout)",
           ""
          ],
          [
           "Ethan Bloodworth",
           "4:06",
           "3:19",
           "O-Point",
           "Hold",
           4,
           "",
           " (Timeout)"
          ],
          [
           "Ethan Bloodworth",
           "4:20",
           "4:06",
           "O-Point",
           "Hold",
           4,
           " (Timeout)",
           ""
          ],
          [
           "Ethan Bloodworth",
           "9:36",
           "8:43",
           "D-Point",
           "Break",
           1,
           "",
           ""
          ],
          [
           "Ethan Bloodworth",
           "10:13",
           "9:36",
           "D-Point",
           "Break",
           1,
           "",
           ""
          ],
          [
           "Ethan Bloodworth",
           "4:18",
           "3:13",
           "D-Point",
           "Break",
           1,
           "",
           ""
          ],
          [
           "Connor Russell",
           "4:18",
           "3:13",
           "D-Point",
           "Break",
           1,
           "",
           ""
          ],
          [
           "Connor Russell",
           "7:56",
           "6:58",
           "D-Point",
           "Break",
           1,
           "",
           ""
          ],
          [
           "Connor Russell",
           "8:43",
           "7:56",
           "D-Point",
           "Break",
           1,
           "",
           ""
          ],
          [
           "Charlie McCutcheon",
           "9:36",
           "8:43",
           "D-Point",
           "Break",
           1,
           "",
           ""
          ],
          [
           "Charlie McCutcheon",
           "7:56",
           "6:58",
           "D-Point",
           "Break",
           1,
           "",
           ""
          ],
          [
           "Charlie McCutcheon",
           "8:43",
           "7:56",
           "D-Point",
           "Break",
           1,
           "",
           ""
          ],
          [
           "Charlie McCutcheon",
           "10:13",
           "9:36",
           "D-Point",
           "Break",
           1,
           "",
           ""
          ],
          [
           "Charlie McCutcheon",
           "4:18",
           "3:13",
           "D-Point",
           "Break",
           1,
           "",
           ""
          ],
          [
           "Noah Saul",
           "3:13",
           "2:31",
           "D-Point",
           "Break",
           1,
           "",
           " (Timeout)"
          ],
          [
           "Noah Saul",
           "4:06",
           "3:19",
           "O-Point",
           "Hold",
           4,
           "",
           " (Timeout)"
          ],
          [
           "Noah Saul",
           "4:20",
           "4:06",
           "O-Point",
           "Hold",
           4,
           " (Timeout)",
           ""
          ],
          [
           "Noah Saul",
           "7:56",
           "6:58",
           "D-Point",
           "Break",
           1,
           "",
           ""
          ],
          [
           "Noah Saul",
           "8:43",
           "7:56",
           "D-Point",
           "Break",
           1,
           "",
           ""
          ],
          [
           "Noah Saul",
           "6:07",
           "5:31",
           "O-Point",
           "Hold",
           0,
           "",
           ""
          ],
          [
           "Suraj Madiraju",
           "3:13",
           "2:31",
           "D-Point",
           "Break",
           1,
           "",
           " (Timeout)"
          ],
          [
           "Suraj Madiraju",
           "9:36",
           "8:43",
           "D-Point",
           "Break",
           1,
           "",
           ""
          ],
          [
           "Suraj Madiraju",
           "10:13",
           "9:36",
           "D-Point",
           "Break",
           1,
           "",
           ""
          ],
          [
           "Player Pierce",
           "10:13",
           "9:36",
           "D-Point",
           "Break",
           1,
           "",
           ""
          ],
          [
           "Player Pierce",
           "9:36",
           "8:43",
           "D-Point",
           "Break",
           1,
           "",
           ""
          ],
          [
           "Player Pierce",
           "4:20",
           "4:06",
           "O-Point",
           "Hold",
           4,
           " (Timeout)",
           ""
          ],
          [
           "Player Pierce",
           "4:06",
           "3:19",
           "O-Point",
           "Hold",
           4,
           "",
           " (Timeout)"
          ],
          [
           "Player Pierce",
           "3:13",
           "2:31",
           "D-Point",
           "Break",
           1,
           "",
           " (Timeout)"
          ],
          [
           "Grayson Sanner",
           "3:13",
           "2:31",
           "D-Point",
           "Break",
           1,
           "",
           " (Timeout)"
          ],
          [
           "Grayson Sanner",
           "10:13",
           "9:36",
           "D-Point",
           "Break",
           1,
           "",
           ""
          ],
          [
           "Grayson Sanner",
           "9:36",
           "8:43",
           "D-Point",
           "Break",
           1,
           "",
           ""
          ],
          [
           "Seth Weaver",
           "7:56",
           "6:58",
           "D-Point",
           "Break",
           1,
           "",
           ""
          ],
          [
           "Seth Weaver",
           "8:43",
           "7:56",
           "D-Point",
           "Break",
           1,
           "",
           ""
          ],
          [
           "Seth Weaver",
           "3:13",
           "2:31",
           "D-Point",
           "Break",
           1,
           "",
           " (Timeout)"
          ],
          [
           "Seth Weaver",
           "4:18",
           "3:13",
           "D-Point",
           "Break",
           1,
           "",
           ""
          ],
          [
           "William Coffin",
           "7:56",
           "6:58",
           "D-Point",
           "Break",
           1,
           "",
           ""
          ],
          [
           "William Coffin",
           "8:43",
           "7:56",
           "D-Point",
           "Break",
           1,
           "",
           ""
          ],
          [
           "William Coffin",
           "4:20",
           "4:06",
           "O-Point",
           "Hold",
           4,
           " (Timeout)",
           ""
          ],
          [
           "William Coffin",
           "4:06",
           "3:19",
           "O-Point",
           "Hold",
           4,
           "",
           " (Timeout)"
          ],
          [
           "Andrew McKelvey",
           "4:18",
           "3:13",
           "D-Point",
           "Break",
           1,
           "",
           ""
          ],
          [
           "Andrew McKelvey",
           "4:20",
           "4:06",
           "O-Point",
           "Hold",
           4,
           " (Timeout)",
           ""
          ],
          [
           "Andrew McKelvey",
           "8:43",
           "7:56",
           "D-Point",
           "Break",
           1,
           "",
           ""
          ],
          [
           "Andrew McKelvey",
           "7:56",
           "6:58",
           "D-Point",
           "Break",
           1,
           "",
           ""
          ],
          [
           "Andrew McKelvey",
           "4:06",
           "3:19",
           "O-Point",
           "Hold",
           4,
           "",
           " (Timeout)"
          ]
         ],
         "hovertemplate": "%{customdata[0]}<br>Segment Start: %{customdata[1]}%{customdata[6]}<br>Segment End: %{customdata[2]}%{customdata[7]}<br>Initial Possession: %{customdata[3]}<br>Outcome: %{customdata[4]}<br>Total Turns During Point: %{customdata[5]}<br><extra></extra>",
         "legendgroup": "Score",
         "marker": {
          "color": "#636efa"
         },
         "name": "Score",
         "offsetgroup": "Score",
         "orientation": "h",
         "showlegend": true,
         "textposition": "auto",
         "type": "bar",
         "x": [
          66,
          106,
          69,
          27,
          91,
          -30,
          57,
          11,
          21,
          36,
          36,
          51,
          42,
          11,
          51,
          91,
          -30,
          106,
          69,
          66,
          20,
          36,
          57,
          36,
          42,
          27,
          21,
          66,
          20,
          36,
          57,
          91,
          21,
          11,
          51,
          36,
          42,
          106,
          69,
          -30,
          27,
          51,
          11,
          21,
          91,
          57,
          42,
          36,
          20,
          27,
          69,
          106,
          -30,
          66,
          21,
          42,
          57,
          36,
          20,
          27,
          66,
          106,
          -30,
          91,
          51,
          42,
          36,
          36,
          11,
          51,
          91,
          57,
          66,
          20,
          58,
          47,
          69,
          20,
          27,
          69,
          106,
          51,
          11,
          21,
          36,
          36,
          42,
          27,
          69,
          -30,
          106,
          36,
          57,
          91,
          20,
          21,
          11,
          42,
          65,
          37,
          -30,
          47,
          14,
          66,
          53,
          47,
          53,
          37,
          42,
          65,
          14,
          47,
          14,
          53,
          37,
          65,
          65,
          58,
          47,
          53,
          58,
          47,
          37,
          65,
          42,
          47,
          14,
          58,
          47,
          36,
          42,
          53,
          37,
          37,
          53,
          14,
          47,
          42,
          42,
          37,
          53,
          58,
          47,
          42,
          65,
          58,
          47,
          14,
          47,
          65,
          14,
          47,
          58,
          47
         ],
         "xaxis": "x",
         "y": [
          "Anders Juengst",
          "Anders Juengst",
          "Anders Juengst",
          "Anders Juengst",
          "Anders Juengst",
          "Anders Juengst",
          "Anders Juengst",
          "Anders Juengst",
          "Anders Juengst",
          "Anders Juengst",
          "Anders Juengst",
          "Anders Juengst",
          "Anders Juengst",
          "Jacob Fairfax",
          "Jacob Fairfax",
          "Jacob Fairfax",
          "Jacob Fairfax",
          "Jacob Fairfax",
          "Jacob Fairfax",
          "Jacob Fairfax",
          "Jacob Fairfax",
          "Jacob Fairfax",
          "Jacob Fairfax",
          "Jacob Fairfax",
          "Jacob Fairfax",
          "Jacob Fairfax",
          "Jacob Fairfax",
          "Sol Yanuck",
          "Sol Yanuck",
          "Sol Yanuck",
          "Sol Yanuck",
          "Sol Yanuck",
          "Sol Yanuck",
          "Sol Yanuck",
          "Sol Yanuck",
          "Sol Yanuck",
          "Sol Yanuck",
          "Sol Yanuck",
          "Sol Yanuck",
          "Sol Yanuck",
          "Sol Yanuck",
          "Matt Gouchoe-Hanas",
          "Matt Gouchoe-Hanas",
          "Matt Gouchoe-Hanas",
          "Matt Gouchoe-Hanas",
          "Matt Gouchoe-Hanas",
          "Matt Gouchoe-Hanas",
          "Matt Gouchoe-Hanas",
          "Matt Gouchoe-Hanas",
          "Matt Gouchoe-Hanas",
          "Matt Gouchoe-Hanas",
          "Matt Gouchoe-Hanas",
          "Matt Gouchoe-Hanas",
          "Matt Gouchoe-Hanas",
          "Terrence Mitchell",
          "Terrence Mitchell",
          "Terrence Mitchell",
          "Terrence Mitchell",
          "Terrence Mitchell",
          "Terrence Mitchell",
          "Terrence Mitchell",
          "Terrence Mitchell",
          "Terrence Mitchell",
          "Terrence Mitchell",
          "Terrence Mitchell",
          "Alex Davis",
          "Alex Davis",
          "Alex Davis",
          "Alex Davis",
          "Alex Davis",
          "Alex Davis",
          "Alex Davis",
          "Alex Davis",
          "Alex Davis",
          "Alex Davis",
          "Alex Davis",
          "Alex Davis",
          "Henry Fisher",
          "Henry Fisher",
          "Henry Fisher",
          "Henry Fisher",
          "Henry Fisher",
          "Henry Fisher",
          "Henry Fisher",
          "Henry Fisher",
          "Henry Fisher",
          "Henry Fisher",
          "Trevor Lynch",
          "Trevor Lynch",
          "Trevor Lynch",
          "Trevor Lynch",
          "Trevor Lynch",
          "Trevor Lynch",
          "Trevor Lynch",
          "Trevor Lynch",
          "Eric Taylor",
          "Eric Taylor",
          "Eric Taylor",
          "Eric Taylor",
          "Eric Taylor",
          "Eric Taylor",
          "Eric Taylor",
          "Eric Taylor",
          "Eric Taylor",
          "Eric Taylor",
          "Tim McAllister",
          "Tim McAllister",
          "Tim McAllister",
          "Tim McAllister",
          "Tim McAllister",
          "Tim McAllister",
          "Ethan Bloodworth",
          "Ethan Bloodworth",
          "Ethan Bloodworth",
          "Ethan Bloodworth",
          "Ethan Bloodworth",
          "Connor Russell",
          "Connor Russell",
          "Connor Russell",
          "Charlie McCutcheon",
          "Charlie McCutcheon",
          "Charlie McCutcheon",
          "Charlie McCutcheon",
          "Charlie McCutcheon",
          "Noah Saul",
          "Noah Saul",
          "Noah Saul",
          "Noah Saul",
          "Noah Saul",
          "Noah Saul",
          "Suraj Madiraju",
          "Suraj Madiraju",
          "Suraj Madiraju",
          "Player Pierce",
          "Player Pierce",
          "Player Pierce",
          "Player Pierce",
          "Player Pierce",
          "Grayson Sanner",
          "Grayson Sanner",
          "Grayson Sanner",
          "Seth Weaver",
          "Seth Weaver",
          "Seth Weaver",
          "Seth Weaver",
          "William Coffin",
          "William Coffin",
          "William Coffin",
          "William Coffin",
          "Andrew McKelvey",
          "Andrew McKelvey",
          "Andrew McKelvey",
          "Andrew McKelvey",
          "Andrew McKelvey"
         ],
         "yaxis": "y"
        },
        {
         "alignmentgroup": "True",
         "base": [
          1751,
          1700,
          1751,
          1700,
          1700,
          1751,
          1700,
          1751,
          1700,
          1751,
          1700,
          1751,
          1751,
          1700
         ],
         "customdata": [
          [
           "Anders Juengst",
           "6:49",
           "6:42",
           "O-Point",
           "Hold",
           1,
           "",
           ""
          ],
          [
           "Anders Juengst",
           "7:40",
           "6:49",
           "O-Point",
           "Hold",
           1,
           "",
           ""
          ],
          [
           "Jacob Fairfax",
           "6:49",
           "6:42",
           "O-Point",
           "Hold",
           1,
           "",
           ""
          ],
          [
           "Jacob Fairfax",
           "7:40",
           "6:49",
           "O-Point",
           "Hold",
           1,
           "",
           ""
          ],
          [
           "Sol Yanuck",
           "7:40",
           "6:49",
           "O-Point",
           "Hold",
           1,
           "",
           ""
          ],
          [
           "Sol Yanuck",
           "6:49",
           "6:42",
           "O-Point",
           "Hold",
           1,
           "",
           ""
          ],
          [
           "Matt Gouchoe-Hanas",
           "7:40",
           "6:49",
           "O-Point",
           "Hold",
           1,
           "",
           ""
          ],
          [
           "Matt Gouchoe-Hanas",
           "6:49",
           "6:42",
           "O-Point",
           "Hold",
           1,
           "",
           ""
          ],
          [
           "Terrence Mitchell",
           "7:40",
           "6:49",
           "O-Point",
           "Hold",
           1,
           "",
           ""
          ],
          [
           "Terrence Mitchell",
           "6:49",
           "6:42",
           "O-Point",
           "Hold",
           1,
           "",
           ""
          ],
          [
           "Alex Davis",
           "7:40",
           "6:49",
           "O-Point",
           "Hold",
           1,
           "",
           ""
          ],
          [
           "Alex Davis",
           "6:49",
           "6:42",
           "O-Point",
           "Hold",
           1,
           "",
           ""
          ],
          [
           "Trevor Lynch",
           "6:49",
           "6:42",
           "O-Point",
           "Hold",
           1,
           "",
           ""
          ],
          [
           "Trevor Lynch",
           "7:40",
           "6:49",
           "O-Point",
           "Hold",
           1,
           "",
           ""
          ]
         ],
         "hovertemplate": "%{customdata[0]}<br>Segment Start: %{customdata[1]}%{customdata[6]}<br>Segment End: %{customdata[2]}%{customdata[7]}<br>Initial Possession: %{customdata[3]}<br>Outcome: %{customdata[4]}<br>Total Turns During Point: %{customdata[5]}<br><extra></extra>",
         "legendgroup": "Callahan",
         "marker": {
          "color": "#EF553B"
         },
         "name": "Callahan",
         "offsetgroup": "Callahan",
         "orientation": "h",
         "showlegend": true,
         "textposition": "auto",
         "type": "bar",
         "x": [
          7,
          51,
          7,
          51,
          51,
          7,
          51,
          7,
          51,
          7,
          51,
          7,
          7,
          51
         ],
         "xaxis": "x",
         "y": [
          "Anders Juengst",
          "Anders Juengst",
          "Jacob Fairfax",
          "Jacob Fairfax",
          "Sol Yanuck",
          "Sol Yanuck",
          "Matt Gouchoe-Hanas",
          "Matt Gouchoe-Hanas",
          "Terrence Mitchell",
          "Terrence Mitchell",
          "Alex Davis",
          "Alex Davis",
          "Trevor Lynch",
          "Trevor Lynch"
         ],
         "yaxis": "y"
        },
        {
         "alignmentgroup": "True",
         "base": [
          2123,
          2075,
          1381,
          1380,
          1353,
          348,
          185,
          2075,
          348,
          185,
          2123,
          1265,
          348,
          185,
          2075,
          2123,
          185,
          2075,
          2123,
          185,
          348,
          2075,
          2123,
          2075,
          2123,
          1647,
          1687,
          1679,
          185,
          348,
          2075,
          185,
          348,
          2123,
          348,
          1381,
          2283,
          2160,
          2315,
          2314,
          2357,
          2470,
          42,
          2037,
          1758,
          1467,
          1380,
          1353,
          1265,
          1186,
          1067,
          1043,
          1022,
          389,
          2160,
          1186,
          1067,
          1043,
          1022,
          42,
          2037,
          1265,
          2315,
          2283,
          2740,
          2357,
          2314,
          1647,
          1679,
          1687,
          1186,
          2357,
          2314,
          2315,
          2283,
          2160,
          2037,
          2470,
          1679,
          1687,
          1647,
          1467,
          1265,
          1067,
          1043,
          1022,
          720,
          389,
          42,
          1758,
          1467,
          1265,
          1186,
          1043,
          2037,
          2160,
          2283,
          2315,
          2470,
          2357,
          2314,
          1022,
          2740,
          1067,
          720,
          42,
          2037,
          1758,
          1467,
          1381,
          1380,
          1353,
          42,
          2283,
          2160,
          2314,
          2315,
          2357,
          2470,
          2740,
          2740,
          2470,
          2314,
          2315,
          2283,
          2160,
          1758,
          1467,
          1265,
          1186,
          720,
          2357,
          42,
          2740,
          2283,
          2037,
          1758,
          1467,
          1186,
          1067,
          1043,
          1022,
          2314,
          389,
          2315,
          2357,
          2470,
          42,
          1353,
          1022,
          1043,
          1067,
          1380,
          1647,
          1687,
          1679,
          1381,
          2470,
          389,
          1380,
          2037,
          1758,
          1679,
          1687,
          1647,
          1467,
          1381,
          720,
          1022,
          1043,
          1067,
          1353,
          2160,
          1758,
          1679,
          1687,
          1647,
          1265,
          1186,
          720,
          389,
          1381,
          1380,
          1353,
          389,
          720,
          1679,
          1687,
          2740,
          1647,
          389,
          2740,
          1381,
          1380,
          1353,
          720
         ],
         "customdata": [
          [
           "Anders Juengst",
           "0:37",
           "0:28",
           "O-Point",
           "Opponent Break",
           1,
           "",
           ""
          ],
          [
           "Anders Juengst",
           "1:25",
           "0:37",
           "O-Point",
           "Opponent Break",
           1,
           "",
           ""
          ],
          [
           "Anders Juengst",
           "0:59",
           "0:15",
           "D-Point",
           "Opponent Hold",
           2,
           "",
           ""
          ],
          [
           "Anders Juengst",
           "1:00",
           "0:59",
           "D-Point",
           "Opponent Hold",
           2,
           "",
           ""
          ],
          [
           "Anders Juengst",
           "1:27",
           "1:00",
           "D-Point",
           "Opponent Hold",
           2,
           " (Timeout)",
           ""
          ],
          [
           "Anders Juengst",
           "6:12",
           "6:07",
           "O-Point",
           "Opponent Break",
           1,
           " (Injury)",
           ""
          ],
          [
           "Anders Juengst",
           "8:55",
           "6:12",
           "O-Point",
           "Opponent Break",
           1,
           "",
           " (Injury)"
          ],
          [
           "Jacob Fairfax",
           "1:25",
           "0:37",
           "O-Point",
           "Opponent Break",
           1,
           "",
           ""
          ],
          [
           "Jacob Fairfax",
           "6:12",
           "6:07",
           "O-Point",
           "Opponent Break",
           1,
           " (Injury)",
           ""
          ],
          [
           "Jacob Fairfax",
           "8:55",
           "6:12",
           "O-Point",
           "Opponent Break",
           1,
           "",
           " (Injury)"
          ],
          [
           "Jacob Fairfax",
           "0:37",
           "0:28",
           "O-Point",
           "Opponent Break",
           1,
           "",
           ""
          ],
          [
           "Sol Yanuck",
           "2:55",
           "1:27",
           "D-Point",
           "Opponent Hold",
           2,
           " (Injury)",
           " (Timeout)"
          ],
          [
           "Sol Yanuck",
           "6:12",
           "6:07",
           "O-Point",
           "Opponent Break",
           1,
           " (Injury)",
           ""
          ],
          [
           "Sol Yanuck",
           "8:55",
           "6:12",
           "O-Point",
           "Opponent Break",
           1,
           "",
           " (Injury)"
          ],
          [
           "Sol Yanuck",
           "1:25",
           "0:37",
           "O-Point",
           "Opponent Break",
           1,
           "",
           ""
          ],
          [
           "Sol Yanuck",
           "0:37",
           "0:28",
           "O-Point",
           "Opponent Break",
           1,
           "",
           ""
          ],
          [
           "Matt Gouchoe-Hanas",
           "8:55",
           "6:12",
           "O-Point",
           "Opponent Break",
           1,
           "",
           " (Injury)"
          ],
          [
           "Matt Gouchoe-Hanas",
           "1:25",
           "0:37",
           "O-Point",
           "Opponent Break",
           1,
           "",
           ""
          ],
          [
           "Matt Gouchoe-Hanas",
           "0:37",
           "0:28",
           "O-Point",
           "Opponent Break",
           1,
           "",
           ""
          ],
          [
           "Terrence Mitchell",
           "8:55",
           "6:12",
           "O-Point",
           "Opponent Break",
           1,
           "",
           " (Injury)"
          ],
          [
           "Terrence Mitchell",
           "6:12",
           "6:07",
           "O-Point",
           "Opponent Break",
           1,
           " (Injury)",
           ""
          ],
          [
           "Terrence Mitchell",
           "1:25",
           "0:37",
           "O-Point",
           "Opponent Break",
           1,
           "",
           ""
          ],
          [
           "Terrence Mitchell",
           "0:37",
           "0:28",
           "O-Point",
           "Opponent Break",
           1,
           "",
           ""
          ],
          [
           "Alex Davis",
           "1:25",
           "0:37",
           "O-Point",
           "Opponent Break",
           1,
           "",
           ""
          ],
          [
           "Alex Davis",
           "0:37",
           "0:28",
           "O-Point",
           "Opponent Break",
           1,
           "",
           ""
          ],
          [
           "Henry Fisher",
           "8:33",
           "7:53",
           "D-Point",
           "Opponent Hold",
           0,
           "",
           ""
          ],
          [
           "Henry Fisher",
           "7:53",
           "8:01",
           "D-Point",
           "Opponent Hold",
           0,
           "",
           ""
          ],
          [
           "Henry Fisher",
           "8:01",
           "7:40",
           "D-Point",
           "Opponent Hold",
           0,
           "",
           ""
          ],
          [
           "Henry Fisher",
           "8:55",
           "6:12",
           "O-Point",
           "Opponent Break",
           1,
           "",
           " (Injury)"
          ],
          [
           "Henry Fisher",
           "6:12",
           "6:07",
           "O-Point",
           "Opponent Break",
           1,
           " (Injury)",
           ""
          ],
          [
           "Trevor Lynch",
           "1:25",
           "0:37",
           "O-Point",
           "Opponent Break",
           1,
           "",
           ""
          ],
          [
           "Trevor Lynch",
           "8:55",
           "6:12",
           "O-Point",
           "Opponent Break",
           1,
           "",
           " (Injury)"
          ],
          [
           "Trevor Lynch",
           "6:12",
           "6:07",
           "O-Point",
           "Opponent Break",
           1,
           " (Injury)",
           ""
          ],
          [
           "Trevor Lynch",
           "0:37",
           "0:28",
           "O-Point",
           "Opponent Break",
           1,
           "",
           ""
          ],
          [
           "Eric Taylor",
           "6:12",
           "6:07",
           "O-Point",
           "Opponent Break",
           1,
           " (Injury)",
           ""
          ],
          [
           "Eric Taylor",
           "0:59",
           "0:15",
           "D-Point",
           "Opponent Hold",
           2,
           "",
           ""
          ],
          [
           "Eric Taylor",
           "9:57",
           "9:25",
           "D-Point",
           "Opponent Hold",
           0,
           " (Injury)",
           ""
          ],
          [
           "Eric Taylor",
           "12:00",
           "9:57",
           "D-Point",
           "Opponent Hold",
           0,
           "",
           " (Injury)"
          ],
          [
           "Eric Taylor",
           "9:25",
           "9:26",
           "D-Point",
           "Opponent Hold",
           0,
           "",
           ""
          ],
          [
           "Eric Taylor",
           "9:26",
           "8:43",
           "D-Point",
           "Opponent Hold",
           0,
           "",
           ""
          ],
          [
           "Eric Taylor",
           "8:43",
           "8:21",
           "D-Point",
           "Opponent Hold",
           0,
           "",
           ""
          ],
          [
           "Eric Taylor",
           "6:50",
           "5:09",
           "D-Point",
           "Opponent Hold",
           0,
           "",
           ""
          ],
          [
           "Eric Taylor",
           "11:18",
           "8:55",
           "D-Point",
           "Opponent Hold",
           2,
           "",
           ""
          ],
          [
           "Eric Taylor",
           "2:03",
           "1:25",
           "D-Point",
           "Opponent Hold",
           0,
           "",
           ""
          ],
          [
           "Eric Taylor",
           "6:42",
           "5:29",
           "D-Point",
           "Opponent Hold",
           0,
           "",
           ""
          ],
          [
           "Eric Taylor",
           "11:33",
           "9:39",
           "D-Point",
           "Opponent Hold",
           0,
           "",
           ""
          ],
          [
           "Eric Taylor",
           "1:00",
           "0:59",
           "D-Point",
           "Opponent Hold",
           2,
           "",
           ""
          ],
          [
           "Eric Taylor",
           "1:27",
           "1:00",
           "D-Point",
           "Opponent Hold",
           2,
           " (Timeout)",
           ""
          ],
          [
           "Eric Taylor",
           "2:55",
           "1:27",
           "D-Point",
           "Opponent Hold",
           2,
           " (Injury)",
           " (Timeout)"
          ],
          [
           "Eric Taylor",
           "4:14",
           "2:55",
           "D-Point",
           "Opponent Hold",
           2,
           "",
           " (Injury)"
          ],
          [
           "Eric Taylor",
           "6:13",
           "4:35",
           "D-Point",
           "Opponent Hold",
           0,
           "",
           ""
          ],
          [
           "Eric Taylor",
           "6:37",
           "6:13",
           "D-Point",
           "Opponent Hold",
           0,
           "",
           ""
          ],
          [
           "Eric Taylor",
           "6:58",
           "6:37",
           "D-Point",
           "Opponent Hold",
           0,
           "",
           ""
          ],
          [
           "Eric Taylor",
           "5:31",
           "4:04",
           "D-Point",
           "Opponent Hold",
           0,
           "",
           ""
          ],
          [
           "Tim McAllister",
           "12:00",
           "9:57",
           "D-Point",
           "Opponent Hold",
           0,
           "",
           " (Injury)"
          ],
          [
           "Tim McAllister",
           "4:14",
           "2:55",
           "D-Point",
           "Opponent Hold",
           2,
           "",
           " (Injury)"
          ],
          [
           "Tim McAllister",
           "6:13",
           "4:35",
           "D-Point",
           "Opponent Hold",
           0,
           "",
           ""
          ],
          [
           "Tim McAllister",
           "6:37",
           "6:13",
           "D-Point",
           "Opponent Hold",
           0,
           "",
           ""
          ],
          [
           "Tim McAllister",
           "6:58",
           "6:37",
           "D-Point",
           "Opponent Hold",
           0,
           "",
           ""
          ],
          [
           "Tim McAllister",
           "11:18",
           "8:55",
           "D-Point",
           "Opponent Hold",
           2,
           "",
           ""
          ],
          [
           "Tim McAllister",
           "2:03",
           "1:25",
           "D-Point",
           "Opponent Hold",
           0,
           "",
           ""
          ],
          [
           "Tim McAllister",
           "2:55",
           "1:27",
           "D-Point",
           "Opponent Hold",
           2,
           " (Injury)",
           " (Timeout)"
          ],
          [
           "Tim McAllister",
           "9:25",
           "9:26",
           "D-Point",
           "Opponent Hold",
           0,
           "",
           ""
          ],
          [
           "Tim McAllister",
           "9:57",
           "9:25",
           "D-Point",
           "Opponent Hold",
           0,
           " (Injury)",
           ""
          ],
          [
           "Tim McAllister",
           "2:20",
           "0:38",
           "D-Point",
           "Opponent Hold",
           0,
           "",
           ""
          ],
          [
           "Tim McAllister",
           "8:43",
           "8:21",
           "D-Point",
           "Opponent Hold",
           0,
           "",
           ""
          ],
          [
           "Tim McAllister",
           "9:26",
           "8:43",
           "D-Point",
           "Opponent Hold",
           0,
           "",
           ""
          ],
          [
           "Tim McAllister",
           "8:33",
           "7:53",
           "D-Point",
           "Opponent Hold",
           0,
           "",
           ""
          ],
          [
           "Tim McAllister",
           "8:01",
           "7:40",
           "D-Point",
           "Opponent Hold",
           0,
           "",
           ""
          ],
          [
           "Tim McAllister",
           "7:53",
           "8:01",
           "D-Point",
           "Opponent Hold",
           0,
           "",
           ""
          ],
          [
           "Ethan Bloodworth",
           "4:14",
           "2:55",
           "D-Point",
           "Opponent Hold",
           2,
           "",
           " (Injury)"
          ],
          [
           "Ethan Bloodworth",
           "8:43",
           "8:21",
           "D-Point",
           "Opponent Hold",
           0,
           "",
           ""
          ],
          [
           "Ethan Bloodworth",
           "9:26",
           "8:43",
           "D-Point",
           "Opponent Hold",
           0,
           "",
           ""
          ],
          [
           "Ethan Bloodworth",
           "9:25",
           "9:26",
           "D-Point",
           "Opponent Hold",
           0,
           "",
           ""
          ],
          [
           "Ethan Bloodworth",
           "9:57",
           "9:25",
           "D-Point",
           "Opponent Hold",
           0,
           " (Injury)",
           ""
          ],
          [
           "Ethan Bloodworth",
           "12:00",
           "9:57",
           "D-Point",
           "Opponent Hold",
           0,
           "",
           " (Injury)"
          ],
          [
           "Ethan Bloodworth",
           "2:03",
           "1:25",
           "D-Point",
           "Opponent Hold",
           0,
           "",
           ""
          ],
          [
           "Ethan Bloodworth",
           "6:50",
           "5:09",
           "D-Point",
           "Opponent Hold",
           0,
           "",
           ""
          ],
          [
           "Ethan Bloodworth",
           "8:01",
           "7:40",
           "D-Point",
           "Opponent Hold",
           0,
           "",
           ""
          ],
          [
           "Ethan Bloodworth",
           "7:53",
           "8:01",
           "D-Point",
           "Opponent Hold",
           0,
           "",
           ""
          ],
          [
           "Ethan Bloodworth",
           "8:33",
           "7:53",
           "D-Point",
           "Opponent Hold",
           0,
           "",
           ""
          ],
          [
           "Ethan Bloodworth",
           "11:33",
           "9:39",
           "D-Point",
           "Opponent Hold",
           0,
           "",
           ""
          ],
          [
           "Ethan Bloodworth",
           "2:55",
           "1:27",
           "D-Point",
           "Opponent Hold",
           2,
           " (Injury)",
           " (Timeout)"
          ],
          [
           "Ethan Bloodworth",
           "6:13",
           "4:35",
           "D-Point",
           "Opponent Hold",
           0,
           "",
           ""
          ],
          [
           "Ethan Bloodworth",
           "6:37",
           "6:13",
           "D-Point",
           "Opponent Hold",
           0,
           "",
           ""
          ],
          [
           "Ethan Bloodworth",
           "6:58",
           "6:37",
           "D-Point",
           "Opponent Hold",
           0,
           "",
           ""
          ],
          [
           "Ethan Bloodworth",
           "12:00",
           "10:49",
           "D-Point",
           "Opponent Hold",
           0,
           "",
           ""
          ],
          [
           "Ethan Bloodworth",
           "5:31",
           "4:04",
           "D-Point",
           "Opponent Hold",
           0,
           "",
           ""
          ],
          [
           "Ethan Bloodworth",
           "11:18",
           "8:55",
           "D-Point",
           "Opponent Hold",
           2,
           "",
           ""
          ],
          [
           "Connor Russell",
           "6:42",
           "5:29",
           "D-Point",
           "Opponent Hold",
           0,
           "",
           ""
          ],
          [
           "Connor Russell",
           "11:33",
           "9:39",
           "D-Point",
           "Opponent Hold",
           0,
           "",
           ""
          ],
          [
           "Connor Russell",
           "2:55",
           "1:27",
           "D-Point",
           "Opponent Hold",
           2,
           " (Injury)",
           " (Timeout)"
          ],
          [
           "Connor Russell",
           "4:14",
           "2:55",
           "D-Point",
           "Opponent Hold",
           2,
           "",
           " (Injury)"
          ],
          [
           "Connor Russell",
           "6:37",
           "6:13",
           "D-Point",
           "Opponent Hold",
           0,
           "",
           ""
          ],
          [
           "Connor Russell",
           "2:03",
           "1:25",
           "D-Point",
           "Opponent Hold",
           0,
           "",
           ""
          ],
          [
           "Connor Russell",
           "12:00",
           "9:57",
           "D-Point",
           "Opponent Hold",
           0,
           "",
           " (Injury)"
          ],
          [
           "Connor Russell",
           "9:57",
           "9:25",
           "D-Point",
           "Opponent Hold",
           0,
           " (Injury)",
           ""
          ],
          [
           "Connor Russell",
           "9:25",
           "9:26",
           "D-Point",
           "Opponent Hold",
           0,
           "",
           ""
          ],
          [
           "Connor Russell",
           "6:50",
           "5:09",
           "D-Point",
           "Opponent Hold",
           0,
           "",
           ""
          ],
          [
           "Connor Russell",
           "8:43",
           "8:21",
           "D-Point",
           "Opponent Hold",
           0,
           "",
           ""
          ],
          [
           "Connor Russell",
           "9:26",
           "8:43",
           "D-Point",
           "Opponent Hold",
           0,
           "",
           ""
          ],
          [
           "Connor Russell",
           "6:58",
           "6:37",
           "D-Point",
           "Opponent Hold",
           0,
           "",
           ""
          ],
          [
           "Connor Russell",
           "2:20",
           "0:38",
           "D-Point",
           "Opponent Hold",
           0,
           "",
           ""
          ],
          [
           "Connor Russell",
           "6:13",
           "4:35",
           "D-Point",
           "Opponent Hold",
           0,
           "",
           ""
          ],
          [
           "Connor Russell",
           "12:00",
           "10:49",
           "D-Point",
           "Opponent Hold",
           0,
           "",
           ""
          ],
          [
           "Connor Russell",
           "11:18",
           "8:55",
           "D-Point",
           "Opponent Hold",
           2,
           "",
           ""
          ],
          [
           "Charlie McCutcheon",
           "2:03",
           "1:25",
           "D-Point",
           "Opponent Hold",
           0,
           "",
           ""
          ],
          [
           "Charlie McCutcheon",
           "6:42",
           "5:29",
           "D-Point",
           "Opponent Hold",
           0,
           "",
           ""
          ],
          [
           "Charlie McCutcheon",
           "11:33",
           "9:39",
           "D-Point",
           "Opponent Hold",
           0,
           "",
           ""
          ],
          [
           "Charlie McCutcheon",
           "0:59",
           "0:15",
           "D-Point",
           "Opponent Hold",
           2,
           "",
           ""
          ],
          [
           "Charlie McCutcheon",
           "1:00",
           "0:59",
           "D-Point",
           "Opponent Hold",
           2,
           "",
           ""
          ],
          [
           "Charlie McCutcheon",
           "1:27",
           "1:00",
           "D-Point",
           "Opponent Hold",
           2,
           " (Timeout)",
           ""
          ],
          [
           "Charlie McCutcheon",
           "11:18",
           "8:55",
           "D-Point",
           "Opponent Hold",
           2,
           "",
           ""
          ],
          [
           "Charlie McCutcheon",
           "9:57",
           "9:25",
           "D-Point",
           "Opponent Hold",
           0,
           " (Injury)",
           ""
          ],
          [
           "Charlie McCutcheon",
           "12:00",
           "9:57",
           "D-Point",
           "Opponent Hold",
           0,
           "",
           " (Injury)"
          ],
          [
           "Charlie McCutcheon",
           "9:26",
           "8:43",
           "D-Point",
           "Opponent Hold",
           0,
           "",
           ""
          ],
          [
           "Charlie McCutcheon",
           "9:25",
           "9:26",
           "D-Point",
           "Opponent Hold",
           0,
           "",
           ""
          ],
          [
           "Charlie McCutcheon",
           "8:43",
           "8:21",
           "D-Point",
           "Opponent Hold",
           0,
           "",
           ""
          ],
          [
           "Charlie McCutcheon",
           "6:50",
           "5:09",
           "D-Point",
           "Opponent Hold",
           0,
           "",
           ""
          ],
          [
           "Charlie McCutcheon",
           "2:20",
           "0:38",
           "D-Point",
           "Opponent Hold",
           0,
           "",
           ""
          ],
          [
           "Noah Saul",
           "2:20",
           "0:38",
           "D-Point",
           "Opponent Hold",
           0,
           "",
           ""
          ],
          [
           "Noah Saul",
           "6:50",
           "5:09",
           "D-Point",
           "Opponent Hold",
           0,
           "",
           ""
          ],
          [
           "Noah Saul",
           "9:26",
           "8:43",
           "D-Point",
           "Opponent Hold",
           0,
           "",
           ""
          ],
          [
           "Noah Saul",
           "9:25",
           "9:26",
           "D-Point",
           "Opponent Hold",
           0,
           "",
           ""
          ],
          [
           "Noah Saul",
           "9:57",
           "9:25",
           "D-Point",
           "Opponent Hold",
           0,
           " (Injury)",
           ""
          ],
          [
           "Noah Saul",
           "12:00",
           "9:57",
           "D-Point",
           "Opponent Hold",
           0,
           "",
           " (Injury)"
          ],
          [
           "Noah Saul",
           "6:42",
           "5:29",
           "D-Point",
           "Opponent Hold",
           0,
           "",
           ""
          ],
          [
           "Noah Saul",
           "11:33",
           "9:39",
           "D-Point",
           "Opponent Hold",
           0,
           "",
           ""
          ],
          [
           "Noah Saul",
           "2:55",
           "1:27",
           "D-Point",
           "Opponent Hold",
           2,
           " (Injury)",
           " (Timeout)"
          ],
          [
           "Noah Saul",
           "4:14",
           "2:55",
           "D-Point",
           "Opponent Hold",
           2,
           "",
           " (Injury)"
          ],
          [
           "Noah Saul",
           "12:00",
           "10:49",
           "D-Point",
           "Opponent Hold",
           0,
           "",
           ""
          ],
          [
           "Noah Saul",
           "8:43",
           "8:21",
           "D-Point",
           "Opponent Hold",
           0,
           "",
           ""
          ],
          [
           "Noah Saul",
           "11:18",
           "8:55",
           "D-Point",
           "Opponent Hold",
           2,
           "",
           ""
          ],
          [
           "Suraj Madiraju",
           "2:20",
           "0:38",
           "D-Point",
           "Opponent Hold",
           0,
           "",
           ""
          ],
          [
           "Suraj Madiraju",
           "9:57",
           "9:25",
           "D-Point",
           "Opponent Hold",
           0,
           " (Injury)",
           ""
          ],
          [
           "Suraj Madiraju",
           "2:03",
           "1:25",
           "D-Point",
           "Opponent Hold",
           0,
           "",
           ""
          ],
          [
           "Suraj Madiraju",
           "6:42",
           "5:29",
           "D-Point",
           "Opponent Hold",
           0,
           "",
           ""
          ],
          [
           "Suraj Madiraju",
           "11:33",
           "9:39",
           "D-Point",
           "Opponent Hold",
           0,
           "",
           ""
          ],
          [
           "Suraj Madiraju",
           "4:14",
           "2:55",
           "D-Point",
           "Opponent Hold",
           2,
           "",
           " (Injury)"
          ],
          [
           "Suraj Madiraju",
           "6:13",
           "4:35",
           "D-Point",
           "Opponent Hold",
           0,
           "",
           ""
          ],
          [
           "Suraj Madiraju",
           "6:37",
           "6:13",
           "D-Point",
           "Opponent Hold",
           0,
           "",
           ""
          ],
          [
           "Suraj Madiraju",
           "6:58",
           "6:37",
           "D-Point",
           "Opponent Hold",
           0,
           "",
           ""
          ],
          [
           "Suraj Madiraju",
           "9:26",
           "8:43",
           "D-Point",
           "Opponent Hold",
           0,
           "",
           ""
          ],
          [
           "Suraj Madiraju",
           "5:31",
           "4:04",
           "D-Point",
           "Opponent Hold",
           0,
           "",
           ""
          ],
          [
           "Suraj Madiraju",
           "9:25",
           "9:26",
           "D-Point",
           "Opponent Hold",
           0,
           "",
           ""
          ],
          [
           "Suraj Madiraju",
           "8:43",
           "8:21",
           "D-Point",
           "Opponent Hold",
           0,
           "",
           ""
          ],
          [
           "Suraj Madiraju",
           "6:50",
           "5:09",
           "D-Point",
           "Opponent Hold",
           0,
           "",
           ""
          ],
          [
           "Player Pierce",
           "11:18",
           "8:55",
           "D-Point",
           "Opponent Hold",
           2,
           "",
           ""
          ],
          [
           "Player Pierce",
           "1:27",
           "1:00",
           "D-Point",
           "Opponent Hold",
           2,
           " (Timeout)",
           ""
          ],
          [
           "Player Pierce",
           "6:58",
           "6:37",
           "D-Point",
           "Opponent Hold",
           0,
           "",
           ""
          ],
          [
           "Player Pierce",
           "6:37",
           "6:13",
           "D-Point",
           "Opponent Hold",
           0,
           "",
           ""
          ],
          [
           "Player Pierce",
           "6:13",
           "4:35",
           "D-Point",
           "Opponent Hold",
           0,
           "",
           ""
          ],
          [
           "Player Pierce",
           "1:00",
           "0:59",
           "D-Point",
           "Opponent Hold",
           2,
           "",
           ""
          ],
          [
           "Player Pierce",
           "8:33",
           "7:53",
           "D-Point",
           "Opponent Hold",
           0,
           "",
           ""
          ],
          [
           "Player Pierce",
           "7:53",
           "8:01",
           "D-Point",
           "Opponent Hold",
           0,
           "",
           ""
          ],
          [
           "Player Pierce",
           "8:01",
           "7:40",
           "D-Point",
           "Opponent Hold",
           0,
           "",
           ""
          ],
          [
           "Player Pierce",
           "0:59",
           "0:15",
           "D-Point",
           "Opponent Hold",
           2,
           "",
           ""
          ],
          [
           "Grayson Sanner",
           "6:50",
           "5:09",
           "D-Point",
           "Opponent Hold",
           0,
           "",
           ""
          ],
          [
           "Grayson Sanner",
           "5:31",
           "4:04",
           "D-Point",
           "Opponent Hold",
           0,
           "",
           ""
          ],
          [
           "Grayson Sanner",
           "1:00",
           "0:59",
           "D-Point",
           "Opponent Hold",
           2,
           "",
           ""
          ],
          [
           "Grayson Sanner",
           "2:03",
           "1:25",
           "D-Point",
           "Opponent Hold",
           0,
           "",
           ""
          ],
          [
           "Grayson Sanner",
           "6:42",
           "5:29",
           "D-Point",
           "Opponent Hold",
           0,
           "",
           ""
          ],
          [
           "Grayson Sanner",
           "8:01",
           "7:40",
           "D-Point",
           "Opponent Hold",
           0,
           "",
           ""
          ],
          [
           "Grayson Sanner",
           "7:53",
           "8:01",
           "D-Point",
           "Opponent Hold",
           0,
           "",
           ""
          ],
          [
           "Grayson Sanner",
           "8:33",
           "7:53",
           "D-Point",
           "Opponent Hold",
           0,
           "",
           ""
          ],
          [
           "Grayson Sanner",
           "11:33",
           "9:39",
           "D-Point",
           "Opponent Hold",
           0,
           "",
           ""
          ],
          [
           "Grayson Sanner",
           "0:59",
           "0:15",
           "D-Point",
           "Opponent Hold",
           2,
           "",
           ""
          ],
          [
           "Grayson Sanner",
           "12:00",
           "10:49",
           "D-Point",
           "Opponent Hold",
           0,
           "",
           ""
          ],
          [
           "Grayson Sanner",
           "6:58",
           "6:37",
           "D-Point",
           "Opponent Hold",
           0,
           "",
           ""
          ],
          [
           "Grayson Sanner",
           "6:37",
           "6:13",
           "D-Point",
           "Opponent Hold",
           0,
           "",
           ""
          ],
          [
           "Grayson Sanner",
           "6:13",
           "4:35",
           "D-Point",
           "Opponent Hold",
           0,
           "",
           ""
          ],
          [
           "Grayson Sanner",
           "1:27",
           "1:00",
           "D-Point",
           "Opponent Hold",
           2,
           " (Timeout)",
           ""
          ],
          [
           "Seth Weaver",
           "12:00",
           "9:57",
           "D-Point",
           "Opponent Hold",
           0,
           "",
           " (Injury)"
          ],
          [
           "Seth Weaver",
           "6:42",
           "5:29",
           "D-Point",
           "Opponent Hold",
           0,
           "",
           ""
          ],
          [
           "Seth Weaver",
           "8:01",
           "7:40",
           "D-Point",
           "Opponent Hold",
           0,
           "",
           ""
          ],
          [
           "Seth Weaver",
           "7:53",
           "8:01",
           "D-Point",
           "Opponent Hold",
           0,
           "",
           ""
          ],
          [
           "Seth Weaver",
           "8:33",
           "7:53",
           "D-Point",
           "Opponent Hold",
           0,
           "",
           ""
          ],
          [
           "Seth Weaver",
           "2:55",
           "1:27",
           "D-Point",
           "Opponent Hold",
           2,
           " (Injury)",
           " (Timeout)"
          ],
          [
           "Seth Weaver",
           "4:14",
           "2:55",
           "D-Point",
           "Opponent Hold",
           2,
           "",
           " (Injury)"
          ],
          [
           "Seth Weaver",
           "12:00",
           "10:49",
           "D-Point",
           "Opponent Hold",
           0,
           "",
           ""
          ],
          [
           "Seth Weaver",
           "5:31",
           "4:04",
           "D-Point",
           "Opponent Hold",
           0,
           "",
           ""
          ],
          [
           "William Coffin",
           "0:59",
           "0:15",
           "D-Point",
           "Opponent Hold",
           2,
           "",
           ""
          ],
          [
           "William Coffin",
           "1:00",
           "0:59",
           "D-Point",
           "Opponent Hold",
           2,
           "",
           ""
          ],
          [
           "William Coffin",
           "1:27",
           "1:00",
           "D-Point",
           "Opponent Hold",
           2,
           " (Timeout)",
           ""
          ],
          [
           "William Coffin",
           "5:31",
           "4:04",
           "D-Point",
           "Opponent Hold",
           0,
           "",
           ""
          ],
          [
           "William Coffin",
           "12:00",
           "10:49",
           "D-Point",
           "Opponent Hold",
           0,
           "",
           ""
          ],
          [
           "William Coffin",
           "8:01",
           "7:40",
           "D-Point",
           "Opponent Hold",
           0,
           "",
           ""
          ],
          [
           "William Coffin",
           "7:53",
           "8:01",
           "D-Point",
           "Opponent Hold",
           0,
           "",
           ""
          ],
          [
           "William Coffin",
           "2:20",
           "0:38",
           "D-Point",
           "Opponent Hold",
           0,
           "",
           ""
          ],
          [
           "William Coffin",
           "8:33",
           "7:53",
           "D-Point",
           "Opponent Hold",
           0,
           "",
           ""
          ],
          [
           "Andrew McKelvey",
           "5:31",
           "4:04",
           "D-Point",
           "Opponent Hold",
           0,
           "",
           ""
          ],
          [
           "Andrew McKelvey",
           "2:20",
           "0:38",
           "D-Point",
           "Opponent Hold",
           0,
           "",
           ""
          ],
          [
           "Andrew McKelvey",
           "0:59",
           "0:15",
           "D-Point",
           "Opponent Hold",
           2,
           "",
           ""
          ],
          [
           "Andrew McKelvey",
           "1:00",
           "0:59",
           "D-Point",
           "Opponent Hold",
           2,
           "",
           ""
          ],
          [
           "Andrew McKelvey",
           "1:27",
           "1:00",
           "D-Point",
           "Opponent Hold",
           2,
           " (Timeout)",
           ""
          ],
          [
           "Andrew McKelvey",
           "12:00",
           "10:49",
           "D-Point",
           "Opponent Hold",
           0,
           "",
           ""
          ]
         ],
         "hovertemplate": "%{customdata[0]}<br>Segment Start: %{customdata[1]}%{customdata[6]}<br>Segment End: %{customdata[2]}%{customdata[7]}<br>Initial Possession: %{customdata[3]}<br>Outcome: %{customdata[4]}<br>Total Turns During Point: %{customdata[5]}<br><extra></extra>",
         "legendgroup": "Opponent Score",
         "marker": {
          "color": "#00cc96"
         },
         "name": "Opponent Score",
         "offsetgroup": "Opponent Score",
         "orientation": "h",
         "showlegend": true,
         "textposition": "auto",
         "type": "bar",
         "x": [
          9,
          48,
          44,
          1,
          27,
          5,
          163,
          48,
          5,
          163,
          9,
          88,
          5,
          163,
          48,
          9,
          163,
          48,
          9,
          163,
          5,
          48,
          9,
          48,
          9,
          40,
          -8,
          21,
          163,
          5,
          48,
          163,
          5,
          9,
          5,
          44,
          32,
          123,
          -1,
          43,
          22,
          101,
          143,
          38,
          73,
          114,
          1,
          27,
          88,
          79,
          98,
          24,
          21,
          87,
          123,
          79,
          98,
          24,
          21,
          143,
          38,
          88,
          -1,
          32,
          102,
          22,
          43,
          40,
          21,
          -8,
          79,
          22,
          43,
          -1,
          32,
          123,
          38,
          101,
          21,
          -8,
          40,
          114,
          88,
          98,
          24,
          21,
          71,
          87,
          143,
          73,
          114,
          88,
          79,
          24,
          38,
          123,
          32,
          -1,
          101,
          22,
          43,
          21,
          102,
          98,
          71,
          143,
          38,
          73,
          114,
          44,
          1,
          27,
          143,
          32,
          123,
          43,
          -1,
          22,
          101,
          102,
          102,
          101,
          43,
          -1,
          32,
          123,
          73,
          114,
          88,
          79,
          71,
          22,
          143,
          102,
          32,
          38,
          73,
          114,
          79,
          98,
          24,
          21,
          43,
          87,
          -1,
          22,
          101,
          143,
          27,
          21,
          24,
          98,
          1,
          40,
          -8,
          21,
          44,
          101,
          87,
          1,
          38,
          73,
          21,
          -8,
          40,
          114,
          44,
          71,
          21,
          24,
          98,
          27,
          123,
          73,
          21,
          -8,
          40,
          88,
          79,
          71,
          87,
          44,
          1,
          27,
          87,
          71,
          21,
          -8,
          102,
          40,
          87,
          102,
          44,
          1,
          27,
          71
         ],
         "xaxis": "x",
         "y": [
          "Anders Juengst",
          "Anders Juengst",
          "Anders Juengst",
          "Anders Juengst",
          "Anders Juengst",
          "Anders Juengst",
          "Anders Juengst",
          "Jacob Fairfax",
          "Jacob Fairfax",
          "Jacob Fairfax",
          "Jacob Fairfax",
          "Sol Yanuck",
          "Sol Yanuck",
          "Sol Yanuck",
          "Sol Yanuck",
          "Sol Yanuck",
          "Matt Gouchoe-Hanas",
          "Matt Gouchoe-Hanas",
          "Matt Gouchoe-Hanas",
          "Terrence Mitchell",
          "Terrence Mitchell",
          "Terrence Mitchell",
          "Terrence Mitchell",
          "Alex Davis",
          "Alex Davis",
          "Henry Fisher",
          "Henry Fisher",
          "Henry Fisher",
          "Henry Fisher",
          "Henry Fisher",
          "Trevor Lynch",
          "Trevor Lynch",
          "Trevor Lynch",
          "Trevor Lynch",
          "Eric Taylor",
          "Eric Taylor",
          "Eric Taylor",
          "Eric Taylor",
          "Eric Taylor",
          "Eric Taylor",
          "Eric Taylor",
          "Eric Taylor",
          "Eric Taylor",
          "Eric Taylor",
          "Eric Taylor",
          "Eric Taylor",
          "Eric Taylor",
          "Eric Taylor",
          "Eric Taylor",
          "Eric Taylor",
          "Eric Taylor",
          "Eric Taylor",
          "Eric Taylor",
          "Eric Taylor",
          "Tim McAllister",
          "Tim McAllister",
          "Tim McAllister",
          "Tim McAllister",
          "Tim McAllister",
          "Tim McAllister",
          "Tim McAllister",
          "Tim McAllister",
          "Tim McAllister",
          "Tim McAllister",
          "Tim McAllister",
          "Tim McAllister",
          "Tim McAllister",
          "Tim McAllister",
          "Tim McAllister",
          "Tim McAllister",
          "Ethan Bloodworth",
          "Ethan Bloodworth",
          "Ethan Bloodworth",
          "Ethan Bloodworth",
          "Ethan Bloodworth",
          "Ethan Bloodworth",
          "Ethan Bloodworth",
          "Ethan Bloodworth",
          "Ethan Bloodworth",
          "Ethan Bloodworth",
          "Ethan Bloodworth",
          "Ethan Bloodworth",
          "Ethan Bloodworth",
          "Ethan Bloodworth",
          "Ethan Bloodworth",
          "Ethan Bloodworth",
          "Ethan Bloodworth",
          "Ethan Bloodworth",
          "Ethan Bloodworth",
          "Connor Russell",
          "Connor Russell",
          "Connor Russell",
          "Connor Russell",
          "Connor Russell",
          "Connor Russell",
          "Connor Russell",
          "Connor Russell",
          "Connor Russell",
          "Connor Russell",
          "Connor Russell",
          "Connor Russell",
          "Connor Russell",
          "Connor Russell",
          "Connor Russell",
          "Connor Russell",
          "Connor Russell",
          "Charlie McCutcheon",
          "Charlie McCutcheon",
          "Charlie McCutcheon",
          "Charlie McCutcheon",
          "Charlie McCutcheon",
          "Charlie McCutcheon",
          "Charlie McCutcheon",
          "Charlie McCutcheon",
          "Charlie McCutcheon",
          "Charlie McCutcheon",
          "Charlie McCutcheon",
          "Charlie McCutcheon",
          "Charlie McCutcheon",
          "Charlie McCutcheon",
          "Noah Saul",
          "Noah Saul",
          "Noah Saul",
          "Noah Saul",
          "Noah Saul",
          "Noah Saul",
          "Noah Saul",
          "Noah Saul",
          "Noah Saul",
          "Noah Saul",
          "Noah Saul",
          "Noah Saul",
          "Noah Saul",
          "Suraj Madiraju",
          "Suraj Madiraju",
          "Suraj Madiraju",
          "Suraj Madiraju",
          "Suraj Madiraju",
          "Suraj Madiraju",
          "Suraj Madiraju",
          "Suraj Madiraju",
          "Suraj Madiraju",
          "Suraj Madiraju",
          "Suraj Madiraju",
          "Suraj Madiraju",
          "Suraj Madiraju",
          "Suraj Madiraju",
          "Player Pierce",
          "Player Pierce",
          "Player Pierce",
          "Player Pierce",
          "Player Pierce",
          "Player Pierce",
          "Player Pierce",
          "Player Pierce",
          "Player Pierce",
          "Player Pierce",
          "Grayson Sanner",
          "Grayson Sanner",
          "Grayson Sanner",
          "Grayson Sanner",
          "Grayson Sanner",
          "Grayson Sanner",
          "Grayson Sanner",
          "Grayson Sanner",
          "Grayson Sanner",
          "Grayson Sanner",
          "Grayson Sanner",
          "Grayson Sanner",
          "Grayson Sanner",
          "Grayson Sanner",
          "Grayson Sanner",
          "Seth Weaver",
          "Seth Weaver",
          "Seth Weaver",
          "Seth Weaver",
          "Seth Weaver",
          "Seth Weaver",
          "Seth Weaver",
          "Seth Weaver",
          "Seth Weaver",
          "William Coffin",
          "William Coffin",
          "William Coffin",
          "William Coffin",
          "William Coffin",
          "William Coffin",
          "William Coffin",
          "William Coffin",
          "William Coffin",
          "Andrew McKelvey",
          "Andrew McKelvey",
          "Andrew McKelvey",
          "Andrew McKelvey",
          "Andrew McKelvey",
          "Andrew McKelvey"
         ],
         "yaxis": "y"
        },
        {
         "alignmentgroup": "True",
         "base": [
          2132,
          1425,
          2158,
          1425,
          2132,
          2863,
          2158,
          2158,
          1425,
          2132,
          1425,
          2158,
          2132,
          1425,
          2132,
          2158,
          2158,
          2132,
          1425,
          2158,
          533,
          2863,
          572,
          575,
          2132,
          1425,
          617,
          617,
          575,
          572,
          2863,
          533,
          2863,
          2863,
          533,
          572,
          575,
          617,
          617,
          575,
          533,
          572,
          617,
          572,
          575,
          533,
          617,
          2863,
          575,
          572,
          533,
          575,
          617,
          533,
          572,
          2863
         ],
         "customdata": [
          [
           "Anders Juengst",
           "0:28",
           "0:02",
           "O-Point",
           "End of Period",
           1,
           "",
           ""
          ],
          [
           "Anders Juengst",
           "0:15",
           "0:00",
           "O-Point",
           "End of Period",
           0,
           "",
           ""
          ],
          [
           "Anders Juengst",
           "0:02",
           "0:00",
           "O-Point",
           "End of Period",
           1,
           "",
           ""
          ],
          [
           "Jacob Fairfax",
           "0:15",
           "0:00",
           "O-Point",
           "End of Period",
           0,
           "",
           ""
          ],
          [
           "Jacob Fairfax",
           "0:28",
           "0:02",
           "O-Point",
           "End of Period",
           1,
           "",
           ""
          ],
          [
           "Jacob Fairfax",
           "0:17",
           "5:00",
           "D-Point",
           "End of Period",
           1,
           "",
           ""
          ],
          [
           "Jacob Fairfax",
           "0:02",
           "0:00",
           "O-Point",
           "End of Period",
           1,
           "",
           ""
          ],
          [
           "Sol Yanuck",
           "0:02",
           "0:00",
           "O-Point",
           "End of Period",
           1,
           "",
           ""
          ],
          [
           "Sol Yanuck",
           "0:15",
           "0:00",
           "O-Point",
           "End of Period",
           0,
           "",
           ""
          ],
          [
           "Sol Yanuck",
           "0:28",
           "0:02",
           "O-Point",
           "End of Period",
           1,
           "",
           ""
          ],
          [
           "Matt Gouchoe-Hanas",
           "0:15",
           "0:00",
           "O-Point",
           "End of Period",
           0,
           "",
           ""
          ],
          [
           "Matt Gouchoe-Hanas",
           "0:02",
           "0:00",
           "O-Point",
           "End of Period",
           1,
           "",
           ""
          ],
          [
           "Matt Gouchoe-Hanas",
           "0:28",
           "0:02",
           "O-Point",
           "End of Period",
           1,
           "",
           ""
          ],
          [
           "Terrence Mitchell",
           "0:15",
           "0:00",
           "O-Point",
           "End of Period",
           0,
           "",
           ""
          ],
          [
           "Terrence Mitchell",
           "0:28",
           "0:02",
           "O-Point",
           "End of Period",
           1,
           "",
           ""
          ],
          [
           "Terrence Mitchell",
           "0:02",
           "0:00",
           "O-Point",
           "End of Period",
           1,
           "",
           ""
          ],
          [
           "Alex Davis",
           "0:02",
           "0:00",
           "O-Point",
           "End of Period",
           1,
           "",
           ""
          ],
          [
           "Alex Davis",
           "0:28",
           "0:02",
           "O-Point",
           "End of Period",
           1,
           "",
           ""
          ],
          [
           "Henry Fisher",
           "0:15",
           "0:00",
           "O-Point",
           "End of Period",
           0,
           "",
           ""
          ],
          [
           "Eric Taylor",
           "0:02",
           "0:00",
           "O-Point",
           "End of Period",
           1,
           "",
           ""
          ],
          [
           "Eric Taylor",
           "3:07",
           "2:28",
           "D-Point",
           "End of Period",
           1,
           "",
           ""
          ],
          [
           "Eric Taylor",
           "0:17",
           "5:00",
           "D-Point",
           "End of Period",
           1,
           "",
           ""
          ],
          [
           "Eric Taylor",
           "2:28",
           "2:25",
           "D-Point",
           "End of Period",
           1,
           "",
           ""
          ],
          [
           "Eric Taylor",
           "2:25",
           "1:43",
           "D-Point",
           "End of Period",
           1,
           "",
           ""
          ],
          [
           "Eric Taylor",
           "0:28",
           "0:02",
           "O-Point",
           "End of Period",
           1,
           "",
           ""
          ],
          [
           "Eric Taylor",
           "0:15",
           "0:00",
           "O-Point",
           "End of Period",
           0,
           "",
           ""
          ],
          [
           "Eric Taylor",
           "1:43",
           "0:00",
           "D-Point",
           "End of Period",
           1,
           "",
           ""
          ],
          [
           "Tim McAllister",
           "1:43",
           "0:00",
           "D-Point",
           "End of Period",
           1,
           "",
           ""
          ],
          [
           "Tim McAllister",
           "2:25",
           "1:43",
           "D-Point",
           "End of Period",
           1,
           "",
           ""
          ],
          [
           "Tim McAllister",
           "2:28",
           "2:25",
           "D-Point",
           "End of Period",
           1,
           "",
           ""
          ],
          [
           "Tim McAllister",
           "0:17",
           "5:00",
           "D-Point",
           "End of Period",
           1,
           "",
           ""
          ],
          [
           "Tim McAllister",
           "3:07",
           "2:28",
           "D-Point",
           "End of Period",
           1,
           "",
           ""
          ],
          [
           "Ethan Bloodworth",
           "0:17",
           "5:00",
           "D-Point",
           "End of Period",
           1,
           "",
           ""
          ],
          [
           "Connor Russell",
           "0:17",
           "5:00",
           "D-Point",
           "End of Period",
           1,
           "",
           ""
          ],
          [
           "Connor Russell",
           "3:07",
           "2:28",
           "D-Point",
           "End of Period",
           1,
           "",
           ""
          ],
          [
           "Connor Russell",
           "2:28",
           "2:25",
           "D-Point",
           "End of Period",
           1,
           "",
           ""
          ],
          [
           "Connor Russell",
           "2:25",
           "1:43",
           "D-Point",
           "End of Period",
           1,
           "",
           ""
          ],
          [
           "Connor Russell",
           "1:43",
           "0:00",
           "D-Point",
           "End of Period",
           1,
           "",
           ""
          ],
          [
           "Charlie McCutcheon",
           "1:43",
           "0:00",
           "D-Point",
           "End of Period",
           1,
           "",
           ""
          ],
          [
           "Charlie McCutcheon",
           "2:25",
           "1:43",
           "D-Point",
           "End of Period",
           1,
           "",
           ""
          ],
          [
           "Charlie McCutcheon",
           "3:07",
           "2:28",
           "D-Point",
           "End of Period",
           1,
           "",
           ""
          ],
          [
           "Charlie McCutcheon",
           "2:28",
           "2:25",
           "D-Point",
           "End of Period",
           1,
           "",
           ""
          ],
          [
           "Noah Saul",
           "1:43",
           "0:00",
           "D-Point",
           "End of Period",
           1,
           "",
           ""
          ],
          [
           "Noah Saul",
           "2:28",
           "2:25",
           "D-Point",
           "End of Period",
           1,
           "",
           ""
          ],
          [
           "Noah Saul",
           "2:25",
           "1:43",
           "D-Point",
           "End of Period",
           1,
           "",
           ""
          ],
          [
           "Noah Saul",
           "3:07",
           "2:28",
           "D-Point",
           "End of Period",
           1,
           "",
           ""
          ],
          [
           "Suraj Madiraju",
           "1:43",
           "0:00",
           "D-Point",
           "End of Period",
           1,
           "",
           ""
          ],
          [
           "Suraj Madiraju",
           "0:17",
           "5:00",
           "D-Point",
           "End of Period",
           1,
           "",
           ""
          ],
          [
           "Suraj Madiraju",
           "2:25",
           "1:43",
           "D-Point",
           "End of Period",
           1,
           "",
           ""
          ],
          [
           "Suraj Madiraju",
           "2:28",
           "2:25",
           "D-Point",
           "End of Period",
           1,
           "",
           ""
          ],
          [
           "Suraj Madiraju",
           "3:07",
           "2:28",
           "D-Point",
           "End of Period",
           1,
           "",
           ""
          ],
          [
           "Player Pierce",
           "2:25",
           "1:43",
           "D-Point",
           "End of Period",
           1,
           "",
           ""
          ],
          [
           "Player Pierce",
           "1:43",
           "0:00",
           "D-Point",
           "End of Period",
           1,
           "",
           ""
          ],
          [
           "Player Pierce",
           "3:07",
           "2:28",
           "D-Point",
           "End of Period",
           1,
           "",
           ""
          ],
          [
           "Player Pierce",
           "2:28",
           "2:25",
           "D-Point",
           "End of Period",
           1,
           "",
           ""
          ],
          [
           "Seth Weaver",
           "0:17",
           "5:00",
           "D-Point",
           "End of Period",
           1,
           "",
           ""
          ]
         ],
         "hovertemplate": "%{customdata[0]}<br>Segment Start: %{customdata[1]}%{customdata[6]}<br>Segment End: %{customdata[2]}%{customdata[7]}<br>Initial Possession: %{customdata[3]}<br>Outcome: %{customdata[4]}<br>Total Turns During Point: %{customdata[5]}<br><extra></extra>",
         "legendgroup": "End of Period",
         "marker": {
          "color": "#FFA15A"
         },
         "name": "End of Period",
         "offsetgroup": "End of Period",
         "orientation": "h",
         "showlegend": true,
         "textposition": "auto",
         "type": "bar",
         "x": [
          26,
          15,
          2,
          15,
          26,
          17,
          2,
          2,
          15,
          26,
          15,
          2,
          26,
          15,
          26,
          2,
          2,
          26,
          15,
          2,
          39,
          17,
          3,
          42,
          26,
          15,
          103,
          103,
          42,
          3,
          17,
          39,
          17,
          17,
          39,
          3,
          42,
          103,
          103,
          42,
          39,
          3,
          103,
          3,
          42,
          39,
          103,
          17,
          42,
          3,
          39,
          42,
          103,
          39,
          3,
          17
         ],
         "xaxis": "x",
         "y": [
          "Anders Juengst",
          "Anders Juengst",
          "Anders Juengst",
          "Jacob Fairfax",
          "Jacob Fairfax",
          "Jacob Fairfax",
          "Jacob Fairfax",
          "Sol Yanuck",
          "Sol Yanuck",
          "Sol Yanuck",
          "Matt Gouchoe-Hanas",
          "Matt Gouchoe-Hanas",
          "Matt Gouchoe-Hanas",
          "Terrence Mitchell",
          "Terrence Mitchell",
          "Terrence Mitchell",
          "Alex Davis",
          "Alex Davis",
          "Henry Fisher",
          "Eric Taylor",
          "Eric Taylor",
          "Eric Taylor",
          "Eric Taylor",
          "Eric Taylor",
          "Eric Taylor",
          "Eric Taylor",
          "Eric Taylor",
          "Tim McAllister",
          "Tim McAllister",
          "Tim McAllister",
          "Tim McAllister",
          "Tim McAllister",
          "Ethan Bloodworth",
          "Connor Russell",
          "Connor Russell",
          "Connor Russell",
          "Connor Russell",
          "Connor Russell",
          "Charlie McCutcheon",
          "Charlie McCutcheon",
          "Charlie McCutcheon",
          "Charlie McCutcheon",
          "Noah Saul",
          "Noah Saul",
          "Noah Saul",
          "Noah Saul",
          "Suraj Madiraju",
          "Suraj Madiraju",
          "Suraj Madiraju",
          "Suraj Madiraju",
          "Suraj Madiraju",
          "Player Pierce",
          "Player Pierce",
          "Player Pierce",
          "Player Pierce",
          "Seth Weaver"
         ],
         "yaxis": "y"
        }
       ],
       "layout": {
        "barmode": "overlay",
        "coloraxis": {
         "colorbar": {
          "dtick": 1,
          "tick0": 0,
          "title": {
           "text": "Turns During Point"
          }
         },
         "colorscale": [
          [
           0,
           "rgb(150,150,150)"
          ],
          [
           0.33,
           "rgb(200,200,50)"
          ],
          [
           0.67,
           "rgb(200,100,50)"
          ],
          [
           1,
           "rgb(200,50,50)"
          ]
         ]
        },
        "font": {
         "family": "TW Cen MT"
        },
        "hoverlabel": {
         "font": {
          "family": "TW Cen MT"
         }
        },
        "legend": {
         "title": {},
         "tracegroupgap": 0
        },
        "margin": {
         "autoexpand": false,
         "b": 20,
         "l": 102,
         "r": 150,
         "t": 5
        },
        "shapes": [
         {
          "layer": "above",
          "line": {
           "color": "white",
           "dash": "solid",
           "width": 2
          },
          "type": "line",
          "x0": 0,
          "x1": 0,
          "xref": "x",
          "y0": 0,
          "y1": 1,
          "yref": "y domain"
         },
         {
          "layer": "above",
          "line": {
           "color": "white",
           "dash": "solid",
           "width": 2
          },
          "type": "line",
          "x0": 720,
          "x1": 720,
          "xref": "x",
          "y0": 0,
          "y1": 1,
          "yref": "y domain"
         },
         {
          "layer": "above",
          "line": {
           "color": "white",
           "dash": "solid",
           "width": 2
          },
          "type": "line",
          "x0": 1440,
          "x1": 1440,
          "xref": "x",
          "y0": 0,
          "y1": 1,
          "yref": "y domain"
         },
         {
          "layer": "above",
          "line": {
           "color": "white",
           "dash": "solid",
           "width": 2
          },
          "type": "line",
          "x0": 2160,
          "x1": 2160,
          "xref": "x",
          "y0": 0,
          "y1": 1,
          "yref": "y domain"
         },
         {
          "layer": "above",
          "line": {
           "color": "white",
           "dash": "solid",
           "width": 2
          },
          "type": "line",
          "x0": 2880,
          "x1": 2880,
          "xref": "x",
          "y0": 0,
          "y1": 1,
          "yref": "y domain"
         },
         {
          "layer": "above",
          "line": {
           "color": "white",
           "dash": "dash",
           "width": 2
          },
          "type": "line",
          "x0": 1353,
          "x1": 1353,
          "xref": "x",
          "y0": 0,
          "y1": 1,
          "yref": "y domain"
         },
         {
          "layer": "above",
          "line": {
           "color": "white",
           "dash": "dash",
           "width": 2
          },
          "type": "line",
          "x0": 1900,
          "x1": 1900,
          "xref": "x",
          "y0": 0,
          "y1": 1,
          "yref": "y domain"
         },
         {
          "layer": "above",
          "line": {
           "color": "white",
           "dash": "dash",
           "width": 2
          },
          "type": "line",
          "x0": 1961,
          "x1": 1961,
          "xref": "x",
          "y0": 0,
          "y1": 1,
          "yref": "y domain"
         },
         {
          "layer": "above",
          "line": {
           "color": "white",
           "dash": "dash",
           "width": 2
          },
          "type": "line",
          "x0": 2729,
          "x1": 2729,
          "xref": "x",
          "y0": 0,
          "y1": 1,
          "yref": "y domain"
         },
         {
          "layer": "above",
          "line": {
           "color": "white",
           "dash": "dash",
           "width": 2
          },
          "type": "line",
          "x0": 348,
          "x1": 348,
          "xref": "x",
          "y0": 0,
          "y1": 1,
          "yref": "y domain"
         },
         {
          "layer": "above",
          "line": {
           "color": "white",
           "dash": "dash",
           "width": 2
          },
          "type": "line",
          "x0": 1265,
          "x1": 1265,
          "xref": "x",
          "y0": 0,
          "y1": 1,
          "yref": "y domain"
         },
         {
          "layer": "above",
          "line": {
           "color": "white",
           "dash": "dash",
           "width": 2
          },
          "type": "line",
          "x0": 2067,
          "x1": 2067,
          "xref": "x",
          "y0": 0,
          "y1": 1,
          "yref": "y domain"
         },
         {
          "layer": "above",
          "line": {
           "color": "white",
           "dash": "dash",
           "width": 2
          },
          "type": "line",
          "x0": 2283,
          "x1": 2283,
          "xref": "x",
          "y0": 0,
          "y1": 1,
          "yref": "y domain"
         },
         {
          "fillcolor": "rgb(102,194,165)",
          "layer": "below",
          "line": {
           "width": 0
          },
          "opacity": 0.25,
          "type": "rect",
          "x0": 0,
          "x1": 1,
          "xref": "x domain",
          "y0": 11.5,
          "y1": 19.5,
          "yref": "y"
         },
         {
          "fillcolor": "rgb(252,141,98)",
          "layer": "below",
          "line": {
           "width": 0
          },
          "opacity": 0.25,
          "type": "rect",
          "x0": 0,
          "x1": 1,
          "xref": "x domain",
          "y0": 4.5,
          "y1": 11.5,
          "yref": "y"
         },
         {
          "fillcolor": "rgb(141,160,203)",
          "layer": "below",
          "line": {
           "width": 0
          },
          "opacity": 0.25,
          "type": "rect",
          "x0": 0,
          "x1": 1,
          "xref": "x domain",
          "y0": -0.5,
          "y1": 4.5,
          "yref": "y"
         }
        ],
        "template": {
         "data": {
          "bar": [
           {
            "error_x": {
             "color": "#2a3f5f"
            },
            "error_y": {
             "color": "#2a3f5f"
            },
            "marker": {
             "line": {
              "color": "#E5ECF6",
              "width": 0.5
             },
             "pattern": {
              "fillmode": "overlay",
              "size": 10,
              "solidity": 0.2
             }
            },
            "type": "bar"
           }
          ],
          "barpolar": [
           {
            "marker": {
             "line": {
              "color": "#E5ECF6",
              "width": 0.5
             },
             "pattern": {
              "fillmode": "overlay",
              "size": 10,
              "solidity": 0.2
             }
            },
            "type": "barpolar"
           }
          ],
          "carpet": [
           {
            "aaxis": {
             "endlinecolor": "#2a3f5f",
             "gridcolor": "white",
             "linecolor": "white",
             "minorgridcolor": "white",
             "startlinecolor": "#2a3f5f"
            },
            "baxis": {
             "endlinecolor": "#2a3f5f",
             "gridcolor": "white",
             "linecolor": "white",
             "minorgridcolor": "white",
             "startlinecolor": "#2a3f5f"
            },
            "type": "carpet"
           }
          ],
          "choropleth": [
           {
            "colorbar": {
             "outlinewidth": 0,
             "ticks": ""
            },
            "type": "choropleth"
           }
          ],
          "contour": [
           {
            "colorbar": {
             "outlinewidth": 0,
             "ticks": ""
            },
            "colorscale": [
             [
              0,
              "#0d0887"
             ],
             [
              0.1111111111111111,
              "#46039f"
             ],
             [
              0.2222222222222222,
              "#7201a8"
             ],
             [
              0.3333333333333333,
              "#9c179e"
             ],
             [
              0.4444444444444444,
              "#bd3786"
             ],
             [
              0.5555555555555556,
              "#d8576b"
             ],
             [
              0.6666666666666666,
              "#ed7953"
             ],
             [
              0.7777777777777778,
              "#fb9f3a"
             ],
             [
              0.8888888888888888,
              "#fdca26"
             ],
             [
              1,
              "#f0f921"
             ]
            ],
            "type": "contour"
           }
          ],
          "contourcarpet": [
           {
            "colorbar": {
             "outlinewidth": 0,
             "ticks": ""
            },
            "type": "contourcarpet"
           }
          ],
          "heatmap": [
           {
            "colorbar": {
             "outlinewidth": 0,
             "ticks": ""
            },
            "colorscale": [
             [
              0,
              "#0d0887"
             ],
             [
              0.1111111111111111,
              "#46039f"
             ],
             [
              0.2222222222222222,
              "#7201a8"
             ],
             [
              0.3333333333333333,
              "#9c179e"
             ],
             [
              0.4444444444444444,
              "#bd3786"
             ],
             [
              0.5555555555555556,
              "#d8576b"
             ],
             [
              0.6666666666666666,
              "#ed7953"
             ],
             [
              0.7777777777777778,
              "#fb9f3a"
             ],
             [
              0.8888888888888888,
              "#fdca26"
             ],
             [
              1,
              "#f0f921"
             ]
            ],
            "type": "heatmap"
           }
          ],
          "heatmapgl": [
           {
            "colorbar": {
             "outlinewidth": 0,
             "ticks": ""
            },
            "colorscale": [
             [
              0,
              "#0d0887"
             ],
             [
              0.1111111111111111,
              "#46039f"
             ],
             [
              0.2222222222222222,
              "#7201a8"
             ],
             [
              0.3333333333333333,
              "#9c179e"
             ],
             [
              0.4444444444444444,
              "#bd3786"
             ],
             [
              0.5555555555555556,
              "#d8576b"
             ],
             [
              0.6666666666666666,
              "#ed7953"
             ],
             [
              0.7777777777777778,
              "#fb9f3a"
             ],
             [
              0.8888888888888888,
              "#fdca26"
             ],
             [
              1,
              "#f0f921"
             ]
            ],
            "type": "heatmapgl"
           }
          ],
          "histogram": [
           {
            "marker": {
             "pattern": {
              "fillmode": "overlay",
              "size": 10,
              "solidity": 0.2
             }
            },
            "type": "histogram"
           }
          ],
          "histogram2d": [
           {
            "colorbar": {
             "outlinewidth": 0,
             "ticks": ""
            },
            "colorscale": [
             [
              0,
              "#0d0887"
             ],
             [
              0.1111111111111111,
              "#46039f"
             ],
             [
              0.2222222222222222,
              "#7201a8"
             ],
             [
              0.3333333333333333,
              "#9c179e"
             ],
             [
              0.4444444444444444,
              "#bd3786"
             ],
             [
              0.5555555555555556,
              "#d8576b"
             ],
             [
              0.6666666666666666,
              "#ed7953"
             ],
             [
              0.7777777777777778,
              "#fb9f3a"
             ],
             [
              0.8888888888888888,
              "#fdca26"
             ],
             [
              1,
              "#f0f921"
             ]
            ],
            "type": "histogram2d"
           }
          ],
          "histogram2dcontour": [
           {
            "colorbar": {
             "outlinewidth": 0,
             "ticks": ""
            },
            "colorscale": [
             [
              0,
              "#0d0887"
             ],
             [
              0.1111111111111111,
              "#46039f"
             ],
             [
              0.2222222222222222,
              "#7201a8"
             ],
             [
              0.3333333333333333,
              "#9c179e"
             ],
             [
              0.4444444444444444,
              "#bd3786"
             ],
             [
              0.5555555555555556,
              "#d8576b"
             ],
             [
              0.6666666666666666,
              "#ed7953"
             ],
             [
              0.7777777777777778,
              "#fb9f3a"
             ],
             [
              0.8888888888888888,
              "#fdca26"
             ],
             [
              1,
              "#f0f921"
             ]
            ],
            "type": "histogram2dcontour"
           }
          ],
          "mesh3d": [
           {
            "colorbar": {
             "outlinewidth": 0,
             "ticks": ""
            },
            "type": "mesh3d"
           }
          ],
          "parcoords": [
           {
            "line": {
             "colorbar": {
              "outlinewidth": 0,
              "ticks": ""
             }
            },
            "type": "parcoords"
           }
          ],
          "pie": [
           {
            "automargin": true,
            "type": "pie"
           }
          ],
          "scatter": [
           {
            "fillpattern": {
             "fillmode": "overlay",
             "size": 10,
             "solidity": 0.2
            },
            "type": "scatter"
           }
          ],
          "scatter3d": [
           {
            "line": {
             "colorbar": {
              "outlinewidth": 0,
              "ticks": ""
             }
            },
            "marker": {
             "colorbar": {
              "outlinewidth": 0,
              "ticks": ""
             }
            },
            "type": "scatter3d"
           }
          ],
          "scattercarpet": [
           {
            "marker": {
             "colorbar": {
              "outlinewidth": 0,
              "ticks": ""
             }
            },
            "type": "scattercarpet"
           }
          ],
          "scattergeo": [
           {
            "marker": {
             "colorbar": {
              "outlinewidth": 0,
              "ticks": ""
             }
            },
            "type": "scattergeo"
           }
          ],
          "scattergl": [
           {
            "marker": {
             "colorbar": {
              "outlinewidth": 0,
              "ticks": ""
             }
            },
            "type": "scattergl"
           }
          ],
          "scattermapbox": [
           {
            "marker": {
             "colorbar": {
              "outlinewidth": 0,
              "ticks": ""
             }
            },
            "type": "scattermapbox"
           }
          ],
          "scatterpolar": [
           {
            "marker": {
             "colorbar": {
              "outlinewidth": 0,
              "ticks": ""
             }
            },
            "type": "scatterpolar"
           }
          ],
          "scatterpolargl": [
           {
            "marker": {
             "colorbar": {
              "outlinewidth": 0,
              "ticks": ""
             }
            },
            "type": "scatterpolargl"
           }
          ],
          "scatterternary": [
           {
            "marker": {
             "colorbar": {
              "outlinewidth": 0,
              "ticks": ""
             }
            },
            "type": "scatterternary"
           }
          ],
          "surface": [
           {
            "colorbar": {
             "outlinewidth": 0,
             "ticks": ""
            },
            "colorscale": [
             [
              0,
              "#0d0887"
             ],
             [
              0.1111111111111111,
              "#46039f"
             ],
             [
              0.2222222222222222,
              "#7201a8"
             ],
             [
              0.3333333333333333,
              "#9c179e"
             ],
             [
              0.4444444444444444,
              "#bd3786"
             ],
             [
              0.5555555555555556,
              "#d8576b"
             ],
             [
              0.6666666666666666,
              "#ed7953"
             ],
             [
              0.7777777777777778,
              "#fb9f3a"
             ],
             [
              0.8888888888888888,
              "#fdca26"
             ],
             [
              1,
              "#f0f921"
             ]
            ],
            "type": "surface"
           }
          ],
          "table": [
           {
            "cells": {
             "fill": {
              "color": "#EBF0F8"
             },
             "line": {
              "color": "white"
             }
            },
            "header": {
             "fill": {
              "color": "#C8D4E3"
             },
             "line": {
              "color": "white"
             }
            },
            "type": "table"
           }
          ]
         },
         "layout": {
          "annotationdefaults": {
           "arrowcolor": "#2a3f5f",
           "arrowhead": 0,
           "arrowwidth": 1
          },
          "autotypenumbers": "strict",
          "coloraxis": {
           "colorbar": {
            "outlinewidth": 0,
            "ticks": ""
           }
          },
          "colorscale": {
           "diverging": [
            [
             0,
             "#8e0152"
            ],
            [
             0.1,
             "#c51b7d"
            ],
            [
             0.2,
             "#de77ae"
            ],
            [
             0.3,
             "#f1b6da"
            ],
            [
             0.4,
             "#fde0ef"
            ],
            [
             0.5,
             "#f7f7f7"
            ],
            [
             0.6,
             "#e6f5d0"
            ],
            [
             0.7,
             "#b8e186"
            ],
            [
             0.8,
             "#7fbc41"
            ],
            [
             0.9,
             "#4d9221"
            ],
            [
             1,
             "#276419"
            ]
           ],
           "sequential": [
            [
             0,
             "#0d0887"
            ],
            [
             0.1111111111111111,
             "#46039f"
            ],
            [
             0.2222222222222222,
             "#7201a8"
            ],
            [
             0.3333333333333333,
             "#9c179e"
            ],
            [
             0.4444444444444444,
             "#bd3786"
            ],
            [
             0.5555555555555556,
             "#d8576b"
            ],
            [
             0.6666666666666666,
             "#ed7953"
            ],
            [
             0.7777777777777778,
             "#fb9f3a"
            ],
            [
             0.8888888888888888,
             "#fdca26"
            ],
            [
             1,
             "#f0f921"
            ]
           ],
           "sequentialminus": [
            [
             0,
             "#0d0887"
            ],
            [
             0.1111111111111111,
             "#46039f"
            ],
            [
             0.2222222222222222,
             "#7201a8"
            ],
            [
             0.3333333333333333,
             "#9c179e"
            ],
            [
             0.4444444444444444,
             "#bd3786"
            ],
            [
             0.5555555555555556,
             "#d8576b"
            ],
            [
             0.6666666666666666,
             "#ed7953"
            ],
            [
             0.7777777777777778,
             "#fb9f3a"
            ],
            [
             0.8888888888888888,
             "#fdca26"
            ],
            [
             1,
             "#f0f921"
            ]
           ]
          },
          "colorway": [
           "#636efa",
           "#EF553B",
           "#00cc96",
           "#ab63fa",
           "#FFA15A",
           "#19d3f3",
           "#FF6692",
           "#B6E880",
           "#FF97FF",
           "#FECB52"
          ],
          "font": {
           "color": "#2a3f5f"
          },
          "geo": {
           "bgcolor": "white",
           "lakecolor": "white",
           "landcolor": "#E5ECF6",
           "showlakes": true,
           "showland": true,
           "subunitcolor": "white"
          },
          "hoverlabel": {
           "align": "left"
          },
          "hovermode": "closest",
          "mapbox": {
           "style": "light"
          },
          "paper_bgcolor": "white",
          "plot_bgcolor": "#E5ECF6",
          "polar": {
           "angularaxis": {
            "gridcolor": "white",
            "linecolor": "white",
            "ticks": ""
           },
           "bgcolor": "#E5ECF6",
           "radialaxis": {
            "gridcolor": "white",
            "linecolor": "white",
            "ticks": ""
           }
          },
          "scene": {
           "xaxis": {
            "backgroundcolor": "#E5ECF6",
            "gridcolor": "white",
            "gridwidth": 2,
            "linecolor": "white",
            "showbackground": true,
            "ticks": "",
            "zerolinecolor": "white"
           },
           "yaxis": {
            "backgroundcolor": "#E5ECF6",
            "gridcolor": "white",
            "gridwidth": 2,
            "linecolor": "white",
            "showbackground": true,
            "ticks": "",
            "zerolinecolor": "white"
           },
           "zaxis": {
            "backgroundcolor": "#E5ECF6",
            "gridcolor": "white",
            "gridwidth": 2,
            "linecolor": "white",
            "showbackground": true,
            "ticks": "",
            "zerolinecolor": "white"
           }
          },
          "shapedefaults": {
           "line": {
            "color": "#2a3f5f"
           }
          },
          "ternary": {
           "aaxis": {
            "gridcolor": "white",
            "linecolor": "white",
            "ticks": ""
           },
           "baxis": {
            "gridcolor": "white",
            "linecolor": "white",
            "ticks": ""
           },
           "bgcolor": "#E5ECF6",
           "caxis": {
            "gridcolor": "white",
            "linecolor": "white",
            "ticks": ""
           }
          },
          "title": {
           "x": 0.05
          },
          "xaxis": {
           "automargin": true,
           "gridcolor": "white",
           "linecolor": "white",
           "ticks": "",
           "title": {
            "standoff": 15
           },
           "zerolinecolor": "white",
           "zerolinewidth": 2
          },
          "yaxis": {
           "automargin": true,
           "gridcolor": "white",
           "linecolor": "white",
           "ticks": "",
           "title": {
            "standoff": 15
           },
           "zerolinecolor": "white",
           "zerolinewidth": 2
          }
         }
        },
        "xaxis": {
         "anchor": "y",
         "domain": [
          0,
          1
         ],
         "fixedrange": true,
         "range": [
          0,
          2880
         ],
         "showgrid": false,
         "tickmode": "array",
         "ticks": "",
         "ticktext": [
          "Game Start",
          "End of Q1",
          "End of Q2",
          "End of Q3",
          "End of Q4"
         ],
         "tickvals": [
          0,
          720,
          1440,
          2160,
          2880
         ],
         "type": "linear"
        },
        "yaxis": {
         "anchor": "x",
         "categoryarray": [
          "Andrew McKelvey",
          "William Coffin",
          "Seth Weaver",
          "Grayson Sanner",
          "Player Pierce",
          "Suraj Madiraju",
          "Noah Saul",
          "Charlie McCutcheon",
          "Connor Russell",
          "Ethan Bloodworth",
          "Tim McAllister",
          "Eric Taylor",
          "Trevor Lynch",
          "Henry Fisher",
          "Alex Davis",
          "Terrence Mitchell",
          "Matt Gouchoe-Hanas",
          "Sol Yanuck",
          "Jacob Fairfax",
          "Anders Juengst"
         ],
         "categoryorder": "array",
         "domain": [
          0,
          1
         ],
         "fixedrange": true,
         "title": {}
        }
       }
      }
     },
     "metadata": {},
     "output_type": "display_data"
    }
   ],
   "source": [
    "%%time\n",
    "# Visualize the substitution patterns\n",
    "g.visual_game_flow()"
   ]
  },
  {
   "cell_type": "code",
   "execution_count": 22,
   "metadata": {},
   "outputs": [
    {
     "name": "stdout",
     "output_type": "stream",
     "text": [
      "CPU times: user 130 ms, sys: 24.5 ms, total: 154 ms\n",
      "Wall time: 174 ms\n"
     ]
    },
    {
     "data": {
      "application/vnd.plotly.v1+json": {
       "config": {
        "plotlyServerURL": "https://plot.ly"
       },
       "data": [
        {
         "hoverinfo": "skip",
         "legendgroup": "",
         "marker": {
          "color": "gray",
          "size": [
           1
          ],
          "sizemode": "area",
          "sizeref": 0.01,
          "symbol": "circle"
         },
         "mode": "markers",
         "name": "",
         "orientation": "v",
         "showlegend": false,
         "type": "scatter",
         "x": [
          13.64
         ],
         "xaxis": "x",
         "y": [
          19.99
         ],
         "yaxis": "y"
        },
        {
         "hovertemplate": "%{text}<extra></extra>",
         "marker": {
          "color": [
           "purple"
          ],
          "symbol": "diamond"
         },
         "mode": "markers",
         "name": "Start of Possession",
         "text": [
          "<b>Start of Possession</b><br>Downfield Yards: 0.0<br>Sideways Yards: 0.0<br>Total Yards: 0.0"
         ],
         "type": "scatter",
         "x": [
          13.64
         ],
         "y": [
          19.99
         ]
        },
        {
         "hovertemplate": "%{text}<extra></extra>",
         "marker": {
          "color": [
           "gray",
           "gray",
           "gray",
           "gray",
           "gray",
           "gray",
           "gray",
           "gray"
          ],
          "symbol": "diamond"
         },
         "mode": "markers",
         "name": "Completion",
         "text": [
          "<b>Completion: Matt Gouchoe-Hanas Throw to<br>Sol Yanuck for 22 yards</b><br>Downfield Yards: 21.6<br>Sideways Yards: -15.9<br>Total Yards: 26.8",
          "<b>Completion: Sol Yanuck Dish to<br>Henry Fisher for 7 yards</b><br>Downfield Yards: 7.2<br>Sideways Yards: 8.2<br>Total Yards: 10.9",
          "<b>Completion: Henry Fisher Dump to<br>Sol Yanuck for -10 yards</b><br>Downfield Yards: -10.3<br>Sideways Yards: 2.6<br>Total Yards: 10.6",
          "<b>Completion: Sol Yanuck Throw to<br>Anders Juengst for 6 yards</b><br>Downfield Yards: 5.6<br>Sideways Yards: 14.7<br>Total Yards: 15.8",
          "<b>Completion: Anders Juengst Swing to<br>Sol Yanuck for -4 yards</b><br>Downfield Yards: -4.5<br>Sideways Yards: -23.1<br>Total Yards: 23.6",
          "<b>Completion: Sol Yanuck Throw to<br>Alex Davis for 6 yards</b><br>Downfield Yards: 6.3<br>Sideways Yards: -16.2<br>Total Yards: 17.3",
          "<b>Completion: Alex Davis Throw to<br>Henry Fisher for 15 yards</b><br>Downfield Yards: 15.3<br>Sideways Yards: -3.9<br>Total Yards: 15.8",
          "<b>Completion: Henry Fisher Swing to<br>Sol Yanuck for -10 yards</b><br>Downfield Yards: -9.9<br>Sideways Yards: 17.9<br>Total Yards: 20.5"
         ],
         "type": "scatter",
         "x": [
          -2.26,
          5.93,
          8.52,
          23.25,
          0.13,
          -16.03,
          -19.92,
          -2.05
         ],
         "y": [
          41.59,
          48.81,
          38.52,
          44.11,
          39.61,
          45.88,
          61.15,
          51.2
         ]
        },
        {
         "hovertemplate": "%{text}<extra></extra>",
         "marker": {
          "color": [
           "green"
          ],
          "symbol": "diamond"
         },
         "mode": "markers",
         "name": "Score",
         "text": [
          "<b>Score: Sol Yanuck Huck to<br>Jacob Fairfax for 49 yards</b><br>Downfield Yards: 57.4<br>Sideways Yards: 26.8<br>Total Yards: 63.4"
         ],
         "type": "scatter",
         "x": [
          24.75
         ],
         "y": [
          108.61
         ]
        }
       ],
       "frames": [
        {
         "data": [
          {
           "legendgroup": "",
           "marker": {
            "color": "gray",
            "size": [
             1
            ],
            "sizemode": "area",
            "sizeref": 0.01,
            "symbol": "circle"
           },
           "mode": "markers",
           "name": "",
           "orientation": "v",
           "showlegend": false,
           "type": "scatter",
           "x": [
            13.64
           ],
           "xaxis": "x",
           "y": [
            19.99
           ],
           "yaxis": "y"
          }
         ],
         "name": "1"
        },
        {
         "data": [
          {
           "legendgroup": "",
           "marker": {
            "color": "gray",
            "size": [
             1
            ],
            "sizemode": "area",
            "sizeref": 0.01,
            "symbol": "circle"
           },
           "mode": "markers",
           "name": "",
           "orientation": "v",
           "showlegend": false,
           "type": "scatter",
           "x": [
            -2.26
           ],
           "xaxis": "x",
           "y": [
            41.59
           ],
           "yaxis": "y"
          }
         ],
         "name": "2"
        },
        {
         "data": [
          {
           "legendgroup": "",
           "marker": {
            "color": "gray",
            "size": [
             1
            ],
            "sizemode": "area",
            "sizeref": 0.01,
            "symbol": "circle"
           },
           "mode": "markers",
           "name": "",
           "orientation": "v",
           "showlegend": false,
           "type": "scatter",
           "x": [
            5.93
           ],
           "xaxis": "x",
           "y": [
            48.81
           ],
           "yaxis": "y"
          }
         ],
         "name": "3"
        },
        {
         "data": [
          {
           "legendgroup": "",
           "marker": {
            "color": "gray",
            "size": [
             1
            ],
            "sizemode": "area",
            "sizeref": 0.01,
            "symbol": "circle"
           },
           "mode": "markers",
           "name": "",
           "orientation": "v",
           "showlegend": false,
           "type": "scatter",
           "x": [
            8.52
           ],
           "xaxis": "x",
           "y": [
            38.52
           ],
           "yaxis": "y"
          }
         ],
         "name": "4"
        },
        {
         "data": [
          {
           "legendgroup": "",
           "marker": {
            "color": "gray",
            "size": [
             1
            ],
            "sizemode": "area",
            "sizeref": 0.01,
            "symbol": "circle"
           },
           "mode": "markers",
           "name": "",
           "orientation": "v",
           "showlegend": false,
           "type": "scatter",
           "x": [
            23.25
           ],
           "xaxis": "x",
           "y": [
            44.11
           ],
           "yaxis": "y"
          }
         ],
         "name": "5"
        },
        {
         "data": [
          {
           "legendgroup": "",
           "marker": {
            "color": "gray",
            "size": [
             1
            ],
            "sizemode": "area",
            "sizeref": 0.01,
            "symbol": "circle"
           },
           "mode": "markers",
           "name": "",
           "orientation": "v",
           "showlegend": false,
           "type": "scatter",
           "x": [
            0.13
           ],
           "xaxis": "x",
           "y": [
            39.61
           ],
           "yaxis": "y"
          }
         ],
         "name": "6"
        },
        {
         "data": [
          {
           "legendgroup": "",
           "marker": {
            "color": "gray",
            "size": [
             1
            ],
            "sizemode": "area",
            "sizeref": 0.01,
            "symbol": "circle"
           },
           "mode": "markers",
           "name": "",
           "orientation": "v",
           "showlegend": false,
           "type": "scatter",
           "x": [
            -16.03
           ],
           "xaxis": "x",
           "y": [
            45.88
           ],
           "yaxis": "y"
          }
         ],
         "name": "7"
        },
        {
         "data": [
          {
           "legendgroup": "",
           "marker": {
            "color": "gray",
            "size": [
             1
            ],
            "sizemode": "area",
            "sizeref": 0.01,
            "symbol": "circle"
           },
           "mode": "markers",
           "name": "",
           "orientation": "v",
           "showlegend": false,
           "type": "scatter",
           "x": [
            -19.92
           ],
           "xaxis": "x",
           "y": [
            61.15
           ],
           "yaxis": "y"
          }
         ],
         "name": "8"
        },
        {
         "data": [
          {
           "legendgroup": "",
           "marker": {
            "color": "gray",
            "size": [
             1
            ],
            "sizemode": "area",
            "sizeref": 0.01,
            "symbol": "circle"
           },
           "mode": "markers",
           "name": "",
           "orientation": "v",
           "showlegend": false,
           "type": "scatter",
           "x": [
            -2.05
           ],
           "xaxis": "x",
           "y": [
            51.2
           ],
           "yaxis": "y"
          }
         ],
         "name": "9"
        },
        {
         "data": [
          {
           "legendgroup": "",
           "marker": {
            "color": "gray",
            "size": [
             1
            ],
            "sizemode": "area",
            "sizeref": 0.01,
            "symbol": "circle"
           },
           "mode": "markers",
           "name": "",
           "orientation": "v",
           "showlegend": false,
           "type": "scatter",
           "x": [
            24.75
           ],
           "xaxis": "x",
           "y": [
            108.61
           ],
           "yaxis": "y"
          }
         ],
         "name": "10"
        }
       ],
       "layout": {
        "annotations": [
         {
          "arrowhead": 2,
          "arrowsize": 1.5,
          "ax": 30,
          "axref": "x",
          "ay": 60,
          "ayref": "y",
          "showarrow": true,
          "text": "Attacking",
          "x": 30,
          "xref": "x",
          "y": 80,
          "yref": "y"
         }
        ],
        "font": {
         "family": "TW Cen MT"
        },
        "height": 800,
        "hoverlabel": {
         "font": {
          "family": "TW Cen MT"
         }
        },
        "legend": {
         "itemsizing": "constant",
         "tracegroupgap": 0
        },
        "margin": {
         "b": 0,
         "l": 0,
         "r": 0,
         "t": 0
        },
        "paper_bgcolor": "rgba(0,0,0,0)",
        "plot_bgcolor": "rgba(0,0,0,0)",
        "shapes": [
         {
          "layer": "below",
          "line": {
           "color": "gray"
          },
          "type": "line",
          "x0": 13.64,
          "x1": -2.26,
          "y0": 19.99,
          "y1": 41.59
         },
         {
          "layer": "below",
          "line": {
           "color": "gray"
          },
          "type": "line",
          "x0": -2.26,
          "x1": 5.93,
          "y0": 41.59,
          "y1": 48.81
         },
         {
          "layer": "below",
          "line": {
           "color": "gray"
          },
          "type": "line",
          "x0": 5.93,
          "x1": 8.52,
          "y0": 48.81,
          "y1": 38.52
         },
         {
          "layer": "below",
          "line": {
           "color": "gray"
          },
          "type": "line",
          "x0": 8.52,
          "x1": 23.25,
          "y0": 38.52,
          "y1": 44.11
         },
         {
          "layer": "below",
          "line": {
           "color": "gray"
          },
          "type": "line",
          "x0": 23.25,
          "x1": 0.13,
          "y0": 44.11,
          "y1": 39.61
         },
         {
          "layer": "below",
          "line": {
           "color": "gray"
          },
          "type": "line",
          "x0": 0.13,
          "x1": -16.03,
          "y0": 39.61,
          "y1": 45.88
         },
         {
          "layer": "below",
          "line": {
           "color": "gray"
          },
          "type": "line",
          "x0": -16.03,
          "x1": -19.92,
          "y0": 45.88,
          "y1": 61.15
         },
         {
          "layer": "below",
          "line": {
           "color": "gray"
          },
          "type": "line",
          "x0": -19.92,
          "x1": -2.05,
          "y0": 61.15,
          "y1": 51.2
         },
         {
          "layer": "below",
          "line": {
           "color": "green"
          },
          "type": "line",
          "x0": -2.05,
          "x1": 24.75,
          "y0": 51.2,
          "y1": 108.61
         },
         {
          "line": {
           "color": "black"
          },
          "type": "line",
          "x0": -25,
          "x1": 25,
          "y0": 0,
          "y1": 0
         },
         {
          "line": {
           "color": "black"
          },
          "type": "line",
          "x0": -25,
          "x1": 25,
          "y0": 20,
          "y1": 20
         },
         {
          "line": {
           "color": "black"
          },
          "type": "line",
          "x0": -25,
          "x1": 25,
          "y0": 100,
          "y1": 100
         },
         {
          "line": {
           "color": "black"
          },
          "type": "line",
          "x0": -25,
          "x1": 25,
          "y0": 120,
          "y1": 120
         },
         {
          "line": {
           "color": "black"
          },
          "type": "line",
          "x0": -25,
          "x1": -25,
          "y0": 0,
          "y1": 120
         },
         {
          "line": {
           "color": "black"
          },
          "type": "line",
          "x0": 25,
          "x1": 25,
          "y0": 0,
          "y1": 120
         }
        ],
        "showlegend": false,
        "sliders": [
         {
          "active": 0,
          "currentvalue": {
           "prefix": ""
          },
          "len": 0.9,
          "pad": {
           "b": -25,
           "t": 25
          },
          "steps": [
           {
            "args": [
             [
              "1"
             ],
             {
              "frame": {
               "duration": 0,
               "redraw": false
              },
              "fromcurrent": true,
              "mode": "immediate",
              "transition": {
               "duration": 0,
               "easing": "linear"
              }
             }
            ],
            "label": "Start of Possession",
            "method": "animate"
           },
           {
            "args": [
             [
              "2"
             ],
             {
              "frame": {
               "duration": 0,
               "redraw": false
              },
              "fromcurrent": true,
              "mode": "immediate",
              "transition": {
               "duration": 0,
               "easing": "linear"
              }
             }
            ],
            "label": "Completion: Matt Gouchoe-Hanas Throw to<br>Sol Yanuck for 22 yards",
            "method": "animate"
           },
           {
            "args": [
             [
              "3"
             ],
             {
              "frame": {
               "duration": 0,
               "redraw": false
              },
              "fromcurrent": true,
              "mode": "immediate",
              "transition": {
               "duration": 0,
               "easing": "linear"
              }
             }
            ],
            "label": "Completion: Sol Yanuck Dish to<br>Henry Fisher for 7 yards",
            "method": "animate"
           },
           {
            "args": [
             [
              "4"
             ],
             {
              "frame": {
               "duration": 0,
               "redraw": false
              },
              "fromcurrent": true,
              "mode": "immediate",
              "transition": {
               "duration": 0,
               "easing": "linear"
              }
             }
            ],
            "label": "Completion: Henry Fisher Dump to<br>Sol Yanuck for -10 yards",
            "method": "animate"
           },
           {
            "args": [
             [
              "5"
             ],
             {
              "frame": {
               "duration": 0,
               "redraw": false
              },
              "fromcurrent": true,
              "mode": "immediate",
              "transition": {
               "duration": 0,
               "easing": "linear"
              }
             }
            ],
            "label": "Completion: Sol Yanuck Throw to<br>Anders Juengst for 6 yards",
            "method": "animate"
           },
           {
            "args": [
             [
              "6"
             ],
             {
              "frame": {
               "duration": 0,
               "redraw": false
              },
              "fromcurrent": true,
              "mode": "immediate",
              "transition": {
               "duration": 0,
               "easing": "linear"
              }
             }
            ],
            "label": "Completion: Anders Juengst Swing to<br>Sol Yanuck for -4 yards",
            "method": "animate"
           },
           {
            "args": [
             [
              "7"
             ],
             {
              "frame": {
               "duration": 0,
               "redraw": false
              },
              "fromcurrent": true,
              "mode": "immediate",
              "transition": {
               "duration": 0,
               "easing": "linear"
              }
             }
            ],
            "label": "Completion: Sol Yanuck Throw to<br>Alex Davis for 6 yards",
            "method": "animate"
           },
           {
            "args": [
             [
              "8"
             ],
             {
              "frame": {
               "duration": 0,
               "redraw": false
              },
              "fromcurrent": true,
              "mode": "immediate",
              "transition": {
               "duration": 0,
               "easing": "linear"
              }
             }
            ],
            "label": "Completion: Alex Davis Throw to<br>Henry Fisher for 15 yards",
            "method": "animate"
           },
           {
            "args": [
             [
              "9"
             ],
             {
              "frame": {
               "duration": 0,
               "redraw": false
              },
              "fromcurrent": true,
              "mode": "immediate",
              "transition": {
               "duration": 0,
               "easing": "linear"
              }
             }
            ],
            "label": "Completion: Henry Fisher Swing to<br>Sol Yanuck for -10 yards",
            "method": "animate"
           },
           {
            "args": [
             [
              "10"
             ],
             {
              "frame": {
               "duration": 0,
               "redraw": false
              },
              "fromcurrent": true,
              "mode": "immediate",
              "transition": {
               "duration": 0,
               "easing": "linear"
              }
             }
            ],
            "label": "Score: Sol Yanuck Huck to<br>Jacob Fairfax for 49 yards",
            "method": "animate"
           }
          ],
          "x": 0.1,
          "xanchor": "left",
          "y": 0.1,
          "yanchor": "top"
         }
        ],
        "template": {
         "data": {
          "bar": [
           {
            "error_x": {
             "color": "#2a3f5f"
            },
            "error_y": {
             "color": "#2a3f5f"
            },
            "marker": {
             "line": {
              "color": "#E5ECF6",
              "width": 0.5
             },
             "pattern": {
              "fillmode": "overlay",
              "size": 10,
              "solidity": 0.2
             }
            },
            "type": "bar"
           }
          ],
          "barpolar": [
           {
            "marker": {
             "line": {
              "color": "#E5ECF6",
              "width": 0.5
             },
             "pattern": {
              "fillmode": "overlay",
              "size": 10,
              "solidity": 0.2
             }
            },
            "type": "barpolar"
           }
          ],
          "carpet": [
           {
            "aaxis": {
             "endlinecolor": "#2a3f5f",
             "gridcolor": "white",
             "linecolor": "white",
             "minorgridcolor": "white",
             "startlinecolor": "#2a3f5f"
            },
            "baxis": {
             "endlinecolor": "#2a3f5f",
             "gridcolor": "white",
             "linecolor": "white",
             "minorgridcolor": "white",
             "startlinecolor": "#2a3f5f"
            },
            "type": "carpet"
           }
          ],
          "choropleth": [
           {
            "colorbar": {
             "outlinewidth": 0,
             "ticks": ""
            },
            "type": "choropleth"
           }
          ],
          "contour": [
           {
            "colorbar": {
             "outlinewidth": 0,
             "ticks": ""
            },
            "colorscale": [
             [
              0,
              "#0d0887"
             ],
             [
              0.1111111111111111,
              "#46039f"
             ],
             [
              0.2222222222222222,
              "#7201a8"
             ],
             [
              0.3333333333333333,
              "#9c179e"
             ],
             [
              0.4444444444444444,
              "#bd3786"
             ],
             [
              0.5555555555555556,
              "#d8576b"
             ],
             [
              0.6666666666666666,
              "#ed7953"
             ],
             [
              0.7777777777777778,
              "#fb9f3a"
             ],
             [
              0.8888888888888888,
              "#fdca26"
             ],
             [
              1,
              "#f0f921"
             ]
            ],
            "type": "contour"
           }
          ],
          "contourcarpet": [
           {
            "colorbar": {
             "outlinewidth": 0,
             "ticks": ""
            },
            "type": "contourcarpet"
           }
          ],
          "heatmap": [
           {
            "colorbar": {
             "outlinewidth": 0,
             "ticks": ""
            },
            "colorscale": [
             [
              0,
              "#0d0887"
             ],
             [
              0.1111111111111111,
              "#46039f"
             ],
             [
              0.2222222222222222,
              "#7201a8"
             ],
             [
              0.3333333333333333,
              "#9c179e"
             ],
             [
              0.4444444444444444,
              "#bd3786"
             ],
             [
              0.5555555555555556,
              "#d8576b"
             ],
             [
              0.6666666666666666,
              "#ed7953"
             ],
             [
              0.7777777777777778,
              "#fb9f3a"
             ],
             [
              0.8888888888888888,
              "#fdca26"
             ],
             [
              1,
              "#f0f921"
             ]
            ],
            "type": "heatmap"
           }
          ],
          "heatmapgl": [
           {
            "colorbar": {
             "outlinewidth": 0,
             "ticks": ""
            },
            "colorscale": [
             [
              0,
              "#0d0887"
             ],
             [
              0.1111111111111111,
              "#46039f"
             ],
             [
              0.2222222222222222,
              "#7201a8"
             ],
             [
              0.3333333333333333,
              "#9c179e"
             ],
             [
              0.4444444444444444,
              "#bd3786"
             ],
             [
              0.5555555555555556,
              "#d8576b"
             ],
             [
              0.6666666666666666,
              "#ed7953"
             ],
             [
              0.7777777777777778,
              "#fb9f3a"
             ],
             [
              0.8888888888888888,
              "#fdca26"
             ],
             [
              1,
              "#f0f921"
             ]
            ],
            "type": "heatmapgl"
           }
          ],
          "histogram": [
           {
            "marker": {
             "pattern": {
              "fillmode": "overlay",
              "size": 10,
              "solidity": 0.2
             }
            },
            "type": "histogram"
           }
          ],
          "histogram2d": [
           {
            "colorbar": {
             "outlinewidth": 0,
             "ticks": ""
            },
            "colorscale": [
             [
              0,
              "#0d0887"
             ],
             [
              0.1111111111111111,
              "#46039f"
             ],
             [
              0.2222222222222222,
              "#7201a8"
             ],
             [
              0.3333333333333333,
              "#9c179e"
             ],
             [
              0.4444444444444444,
              "#bd3786"
             ],
             [
              0.5555555555555556,
              "#d8576b"
             ],
             [
              0.6666666666666666,
              "#ed7953"
             ],
             [
              0.7777777777777778,
              "#fb9f3a"
             ],
             [
              0.8888888888888888,
              "#fdca26"
             ],
             [
              1,
              "#f0f921"
             ]
            ],
            "type": "histogram2d"
           }
          ],
          "histogram2dcontour": [
           {
            "colorbar": {
             "outlinewidth": 0,
             "ticks": ""
            },
            "colorscale": [
             [
              0,
              "#0d0887"
             ],
             [
              0.1111111111111111,
              "#46039f"
             ],
             [
              0.2222222222222222,
              "#7201a8"
             ],
             [
              0.3333333333333333,
              "#9c179e"
             ],
             [
              0.4444444444444444,
              "#bd3786"
             ],
             [
              0.5555555555555556,
              "#d8576b"
             ],
             [
              0.6666666666666666,
              "#ed7953"
             ],
             [
              0.7777777777777778,
              "#fb9f3a"
             ],
             [
              0.8888888888888888,
              "#fdca26"
             ],
             [
              1,
              "#f0f921"
             ]
            ],
            "type": "histogram2dcontour"
           }
          ],
          "mesh3d": [
           {
            "colorbar": {
             "outlinewidth": 0,
             "ticks": ""
            },
            "type": "mesh3d"
           }
          ],
          "parcoords": [
           {
            "line": {
             "colorbar": {
              "outlinewidth": 0,
              "ticks": ""
             }
            },
            "type": "parcoords"
           }
          ],
          "pie": [
           {
            "automargin": true,
            "type": "pie"
           }
          ],
          "scatter": [
           {
            "fillpattern": {
             "fillmode": "overlay",
             "size": 10,
             "solidity": 0.2
            },
            "type": "scatter"
           }
          ],
          "scatter3d": [
           {
            "line": {
             "colorbar": {
              "outlinewidth": 0,
              "ticks": ""
             }
            },
            "marker": {
             "colorbar": {
              "outlinewidth": 0,
              "ticks": ""
             }
            },
            "type": "scatter3d"
           }
          ],
          "scattercarpet": [
           {
            "marker": {
             "colorbar": {
              "outlinewidth": 0,
              "ticks": ""
             }
            },
            "type": "scattercarpet"
           }
          ],
          "scattergeo": [
           {
            "marker": {
             "colorbar": {
              "outlinewidth": 0,
              "ticks": ""
             }
            },
            "type": "scattergeo"
           }
          ],
          "scattergl": [
           {
            "marker": {
             "colorbar": {
              "outlinewidth": 0,
              "ticks": ""
             }
            },
            "type": "scattergl"
           }
          ],
          "scattermapbox": [
           {
            "marker": {
             "colorbar": {
              "outlinewidth": 0,
              "ticks": ""
             }
            },
            "type": "scattermapbox"
           }
          ],
          "scatterpolar": [
           {
            "marker": {
             "colorbar": {
              "outlinewidth": 0,
              "ticks": ""
             }
            },
            "type": "scatterpolar"
           }
          ],
          "scatterpolargl": [
           {
            "marker": {
             "colorbar": {
              "outlinewidth": 0,
              "ticks": ""
             }
            },
            "type": "scatterpolargl"
           }
          ],
          "scatterternary": [
           {
            "marker": {
             "colorbar": {
              "outlinewidth": 0,
              "ticks": ""
             }
            },
            "type": "scatterternary"
           }
          ],
          "surface": [
           {
            "colorbar": {
             "outlinewidth": 0,
             "ticks": ""
            },
            "colorscale": [
             [
              0,
              "#0d0887"
             ],
             [
              0.1111111111111111,
              "#46039f"
             ],
             [
              0.2222222222222222,
              "#7201a8"
             ],
             [
              0.3333333333333333,
              "#9c179e"
             ],
             [
              0.4444444444444444,
              "#bd3786"
             ],
             [
              0.5555555555555556,
              "#d8576b"
             ],
             [
              0.6666666666666666,
              "#ed7953"
             ],
             [
              0.7777777777777778,
              "#fb9f3a"
             ],
             [
              0.8888888888888888,
              "#fdca26"
             ],
             [
              1,
              "#f0f921"
             ]
            ],
            "type": "surface"
           }
          ],
          "table": [
           {
            "cells": {
             "fill": {
              "color": "#EBF0F8"
             },
             "line": {
              "color": "white"
             }
            },
            "header": {
             "fill": {
              "color": "#C8D4E3"
             },
             "line": {
              "color": "white"
             }
            },
            "type": "table"
           }
          ]
         },
         "layout": {
          "annotationdefaults": {
           "arrowcolor": "#2a3f5f",
           "arrowhead": 0,
           "arrowwidth": 1
          },
          "autotypenumbers": "strict",
          "coloraxis": {
           "colorbar": {
            "outlinewidth": 0,
            "ticks": ""
           }
          },
          "colorscale": {
           "diverging": [
            [
             0,
             "#8e0152"
            ],
            [
             0.1,
             "#c51b7d"
            ],
            [
             0.2,
             "#de77ae"
            ],
            [
             0.3,
             "#f1b6da"
            ],
            [
             0.4,
             "#fde0ef"
            ],
            [
             0.5,
             "#f7f7f7"
            ],
            [
             0.6,
             "#e6f5d0"
            ],
            [
             0.7,
             "#b8e186"
            ],
            [
             0.8,
             "#7fbc41"
            ],
            [
             0.9,
             "#4d9221"
            ],
            [
             1,
             "#276419"
            ]
           ],
           "sequential": [
            [
             0,
             "#0d0887"
            ],
            [
             0.1111111111111111,
             "#46039f"
            ],
            [
             0.2222222222222222,
             "#7201a8"
            ],
            [
             0.3333333333333333,
             "#9c179e"
            ],
            [
             0.4444444444444444,
             "#bd3786"
            ],
            [
             0.5555555555555556,
             "#d8576b"
            ],
            [
             0.6666666666666666,
             "#ed7953"
            ],
            [
             0.7777777777777778,
             "#fb9f3a"
            ],
            [
             0.8888888888888888,
             "#fdca26"
            ],
            [
             1,
             "#f0f921"
            ]
           ],
           "sequentialminus": [
            [
             0,
             "#0d0887"
            ],
            [
             0.1111111111111111,
             "#46039f"
            ],
            [
             0.2222222222222222,
             "#7201a8"
            ],
            [
             0.3333333333333333,
             "#9c179e"
            ],
            [
             0.4444444444444444,
             "#bd3786"
            ],
            [
             0.5555555555555556,
             "#d8576b"
            ],
            [
             0.6666666666666666,
             "#ed7953"
            ],
            [
             0.7777777777777778,
             "#fb9f3a"
            ],
            [
             0.8888888888888888,
             "#fdca26"
            ],
            [
             1,
             "#f0f921"
            ]
           ]
          },
          "colorway": [
           "#636efa",
           "#EF553B",
           "#00cc96",
           "#ab63fa",
           "#FFA15A",
           "#19d3f3",
           "#FF6692",
           "#B6E880",
           "#FF97FF",
           "#FECB52"
          ],
          "font": {
           "color": "#2a3f5f"
          },
          "geo": {
           "bgcolor": "white",
           "lakecolor": "white",
           "landcolor": "#E5ECF6",
           "showlakes": true,
           "showland": true,
           "subunitcolor": "white"
          },
          "hoverlabel": {
           "align": "left"
          },
          "hovermode": "closest",
          "mapbox": {
           "style": "light"
          },
          "paper_bgcolor": "white",
          "plot_bgcolor": "#E5ECF6",
          "polar": {
           "angularaxis": {
            "gridcolor": "white",
            "linecolor": "white",
            "ticks": ""
           },
           "bgcolor": "#E5ECF6",
           "radialaxis": {
            "gridcolor": "white",
            "linecolor": "white",
            "ticks": ""
           }
          },
          "scene": {
           "xaxis": {
            "backgroundcolor": "#E5ECF6",
            "gridcolor": "white",
            "gridwidth": 2,
            "linecolor": "white",
            "showbackground": true,
            "ticks": "",
            "zerolinecolor": "white"
           },
           "yaxis": {
            "backgroundcolor": "#E5ECF6",
            "gridcolor": "white",
            "gridwidth": 2,
            "linecolor": "white",
            "showbackground": true,
            "ticks": "",
            "zerolinecolor": "white"
           },
           "zaxis": {
            "backgroundcolor": "#E5ECF6",
            "gridcolor": "white",
            "gridwidth": 2,
            "linecolor": "white",
            "showbackground": true,
            "ticks": "",
            "zerolinecolor": "white"
           }
          },
          "shapedefaults": {
           "line": {
            "color": "#2a3f5f"
           }
          },
          "ternary": {
           "aaxis": {
            "gridcolor": "white",
            "linecolor": "white",
            "ticks": ""
           },
           "baxis": {
            "gridcolor": "white",
            "linecolor": "white",
            "ticks": ""
           },
           "bgcolor": "#E5ECF6",
           "caxis": {
            "gridcolor": "white",
            "linecolor": "white",
            "ticks": ""
           }
          },
          "title": {
           "x": 0.05
          },
          "xaxis": {
           "automargin": true,
           "gridcolor": "white",
           "linecolor": "white",
           "ticks": "",
           "title": {
            "standoff": 15
           },
           "zerolinecolor": "white",
           "zerolinewidth": 2
          },
          "yaxis": {
           "automargin": true,
           "gridcolor": "white",
           "linecolor": "white",
           "ticks": "",
           "title": {
            "standoff": 15
           },
           "zerolinecolor": "white",
           "zerolinewidth": 2
          }
         }
        },
        "updatemenus": [
         {
          "buttons": [
           {
            "args": [
             null,
             {
              "frame": {
               "duration": 500,
               "redraw": false
              },
              "fromcurrent": true,
              "mode": "immediate",
              "transition": {
               "duration": 500,
               "easing": "linear"
              }
             }
            ],
            "label": "&#9654;",
            "method": "animate"
           },
           {
            "args": [
             [
              null
             ],
             {
              "frame": {
               "duration": 0,
               "redraw": false
              },
              "fromcurrent": true,
              "mode": "immediate",
              "transition": {
               "duration": 0,
               "easing": "linear"
              }
             }
            ],
            "label": "&#9724;",
            "method": "animate"
           }
          ],
          "direction": "left",
          "pad": {
           "r": 10,
           "t": 70
          },
          "showactive": false,
          "type": "buttons",
          "x": 0.1,
          "xanchor": "right",
          "y": 0.125,
          "yanchor": "top"
         }
        ],
        "width": 385,
        "xaxis": {
         "anchor": "y",
         "domain": [
          0,
          1
         ],
         "fixedrange": true,
         "range": [
          -27,
          35
         ],
         "showgrid": false,
         "showticklabels": false,
         "ticks": "",
         "title": {},
         "zeroline": false
        },
        "yaxis": {
         "anchor": "x",
         "domain": [
          0,
          1
         ],
         "fixedrange": true,
         "range": [
          -1,
          121
         ],
         "scaleanchor": "x",
         "scaleratio": 1,
         "showgrid": false,
         "showticklabels": false,
         "ticks": "",
         "title": {},
         "zeroline": false
        }
       }
      }
     },
     "metadata": {},
     "output_type": "display_data"
    }
   ],
   "source": [
    "%%time\n",
    "# Visualize a single possession\n",
    "g.visual_possession_map_vertical(possession_number=1)"
   ]
  }
 ],
 "metadata": {
  "kernelspec": {
   "display_name": "Python 3",
   "language": "python",
   "name": "python3"
  },
  "language_info": {
   "codemirror_mode": {
    "name": "ipython",
    "version": 3
   },
   "file_extension": ".py",
   "mimetype": "text/x-python",
   "name": "python",
   "nbconvert_exporter": "python",
   "pygments_lexer": "ipython3",
   "version": "3.9.7"
  }
 },
 "nbformat": 4,
 "nbformat_minor": 4
}
