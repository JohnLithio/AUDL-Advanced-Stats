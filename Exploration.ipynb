{
 "cells": [
  {
   "cell_type": "raw",
   "metadata": {},
   "source": [
    "https://cloud.google.com/blog/products/application-development/how-to-schedule-a-recurring-python-script-on-gcp\n",
    "https://theaudl.com/stats/game/2021-06-04-DC-NY"
   ]
  },
  {
   "cell_type": "code",
   "execution_count": 1,
   "metadata": {},
   "outputs": [],
   "source": [
    "%load_ext autoreload"
   ]
  },
  {
   "cell_type": "code",
   "execution_count": 1253,
   "metadata": {},
   "outputs": [],
   "source": [
    "%autoreload\n",
    "\n",
    "import audl_advanced_stats as audl\n",
    "import numpy as np\n",
    "import pandas as pd\n",
    "import plotly.express as px"
   ]
  },
  {
   "cell_type": "code",
   "execution_count": 1254,
   "metadata": {},
   "outputs": [
    {
     "data": {
      "text/html": [
       "<div>\n",
       "<style scoped>\n",
       "    .dataframe tbody tr th:only-of-type {\n",
       "        vertical-align: middle;\n",
       "    }\n",
       "\n",
       "    .dataframe tbody tr th {\n",
       "        vertical-align: top;\n",
       "    }\n",
       "\n",
       "    .dataframe thead th {\n",
       "        text-align: right;\n",
       "    }\n",
       "</style>\n",
       "<table border=\"1\" class=\"dataframe\">\n",
       "  <thead>\n",
       "    <tr style=\"text-align: right;\">\n",
       "      <th></th>\n",
       "      <th>game_date</th>\n",
       "      <th>away_team</th>\n",
       "      <th>home_team</th>\n",
       "      <th>url</th>\n",
       "    </tr>\n",
       "  </thead>\n",
       "  <tbody>\n",
       "    <tr>\n",
       "      <th>0</th>\n",
       "      <td>2021-06-04</td>\n",
       "      <td>DC</td>\n",
       "      <td>NY</td>\n",
       "      <td>https://audl-stat-server.herokuapp.com/stats-p...</td>\n",
       "    </tr>\n",
       "    <tr>\n",
       "      <th>1</th>\n",
       "      <td>2021-06-04</td>\n",
       "      <td>DET</td>\n",
       "      <td>IND</td>\n",
       "      <td>https://audl-stat-server.herokuapp.com/stats-p...</td>\n",
       "    </tr>\n",
       "    <tr>\n",
       "      <th>2</th>\n",
       "      <td>2021-06-04</td>\n",
       "      <td>MIN</td>\n",
       "      <td>MAD</td>\n",
       "      <td>https://audl-stat-server.herokuapp.com/stats-p...</td>\n",
       "    </tr>\n",
       "    <tr>\n",
       "      <th>3</th>\n",
       "      <td>2021-06-04</td>\n",
       "      <td>TB</td>\n",
       "      <td>PHI</td>\n",
       "      <td>https://audl-stat-server.herokuapp.com/stats-p...</td>\n",
       "    </tr>\n",
       "    <tr>\n",
       "      <th>4</th>\n",
       "      <td>2021-06-05</td>\n",
       "      <td>AUS</td>\n",
       "      <td>DAL</td>\n",
       "      <td>https://audl-stat-server.herokuapp.com/stats-p...</td>\n",
       "    </tr>\n",
       "    <tr>\n",
       "      <th>5</th>\n",
       "      <td>2021-06-05</td>\n",
       "      <td>BOS</td>\n",
       "      <td>PIT</td>\n",
       "      <td>https://audl-stat-server.herokuapp.com/stats-p...</td>\n",
       "    </tr>\n",
       "    <tr>\n",
       "      <th>6</th>\n",
       "      <td>2021-06-05</td>\n",
       "      <td>IND</td>\n",
       "      <td>CHI</td>\n",
       "      <td>https://audl-stat-server.herokuapp.com/stats-p...</td>\n",
       "    </tr>\n",
       "    <tr>\n",
       "      <th>7</th>\n",
       "      <td>2021-06-05</td>\n",
       "      <td>MAD</td>\n",
       "      <td>DET</td>\n",
       "      <td>https://audl-stat-server.herokuapp.com/stats-p...</td>\n",
       "    </tr>\n",
       "    <tr>\n",
       "      <th>8</th>\n",
       "      <td>2021-06-05</td>\n",
       "      <td>RAL</td>\n",
       "      <td>ATL</td>\n",
       "      <td>https://audl-stat-server.herokuapp.com/stats-p...</td>\n",
       "    </tr>\n",
       "    <tr>\n",
       "      <th>9</th>\n",
       "      <td>2021-06-05</td>\n",
       "      <td>SD</td>\n",
       "      <td>LA</td>\n",
       "      <td>https://audl-stat-server.herokuapp.com/stats-p...</td>\n",
       "    </tr>\n",
       "  </tbody>\n",
       "</table>\n",
       "</div>"
      ],
      "text/plain": [
       "    game_date away_team home_team  \\\n",
       "0  2021-06-04        DC        NY   \n",
       "1  2021-06-04       DET       IND   \n",
       "2  2021-06-04       MIN       MAD   \n",
       "3  2021-06-04        TB       PHI   \n",
       "4  2021-06-05       AUS       DAL   \n",
       "5  2021-06-05       BOS       PIT   \n",
       "6  2021-06-05       IND       CHI   \n",
       "7  2021-06-05       MAD       DET   \n",
       "8  2021-06-05       RAL       ATL   \n",
       "9  2021-06-05        SD        LA   \n",
       "\n",
       "                                                 url  \n",
       "0  https://audl-stat-server.herokuapp.com/stats-p...  \n",
       "1  https://audl-stat-server.herokuapp.com/stats-p...  \n",
       "2  https://audl-stat-server.herokuapp.com/stats-p...  \n",
       "3  https://audl-stat-server.herokuapp.com/stats-p...  \n",
       "4  https://audl-stat-server.herokuapp.com/stats-p...  \n",
       "5  https://audl-stat-server.herokuapp.com/stats-p...  \n",
       "6  https://audl-stat-server.herokuapp.com/stats-p...  \n",
       "7  https://audl-stat-server.herokuapp.com/stats-p...  \n",
       "8  https://audl-stat-server.herokuapp.com/stats-p...  \n",
       "9  https://audl-stat-server.herokuapp.com/stats-p...  "
      ]
     },
     "execution_count": 1254,
     "metadata": {},
     "output_type": "execute_result"
    }
   ],
   "source": [
    "s = audl.Season()\n",
    "s.get_games(override=False).iloc[:10]#[\"url\"].values"
   ]
  },
  {
   "cell_type": "code",
   "execution_count": 1255,
   "metadata": {},
   "outputs": [],
   "source": [
    "g = audl.Game(s.games[\"url\"].iloc[0])"
   ]
  },
  {
   "cell_type": "code",
   "execution_count": 1256,
   "metadata": {},
   "outputs": [
    {
     "data": {
      "text/html": [
       "<div>\n",
       "<style scoped>\n",
       "    .dataframe tbody tr th:only-of-type {\n",
       "        vertical-align: middle;\n",
       "    }\n",
       "\n",
       "    .dataframe tbody tr th {\n",
       "        vertical-align: top;\n",
       "    }\n",
       "\n",
       "    .dataframe thead th {\n",
       "        text-align: right;\n",
       "    }\n",
       "</style>\n",
       "<table border=\"1\" class=\"dataframe\">\n",
       "  <thead>\n",
       "    <tr style=\"text-align: right;\">\n",
       "      <th></th>\n",
       "      <th>id</th>\n",
       "      <th>team_season_id_home</th>\n",
       "      <th>team_season_id_away</th>\n",
       "      <th>status_id</th>\n",
       "      <th>score_home</th>\n",
       "      <th>score_away</th>\n",
       "      <th>live</th>\n",
       "      <th>reg_season</th>\n",
       "      <th>lock</th>\n",
       "      <th>start_timestamp</th>\n",
       "      <th>start_timezone</th>\n",
       "      <th>start_time_tbd</th>\n",
       "      <th>aw_section</th>\n",
       "      <th>ext_game_id</th>\n",
       "      <th>update_timestamp</th>\n",
       "    </tr>\n",
       "  </thead>\n",
       "  <tbody>\n",
       "    <tr>\n",
       "      <th>0</th>\n",
       "      <td>2702</td>\n",
       "      <td>210</td>\n",
       "      <td>220</td>\n",
       "      <td>101</td>\n",
       "      <td>19</td>\n",
       "      <td>18</td>\n",
       "      <td>None</td>\n",
       "      <td>True</td>\n",
       "      <td>True</td>\n",
       "      <td>2021-06-04T19:00:00.000Z</td>\n",
       "      <td>EDT</td>\n",
       "      <td>False</td>\n",
       "      <td>week-1</td>\n",
       "      <td>2021-06-04-DC-NY</td>\n",
       "      <td>2021-06-05T01:08:48.237Z</td>\n",
       "    </tr>\n",
       "  </tbody>\n",
       "</table>\n",
       "</div>"
      ],
      "text/plain": [
       "     id  team_season_id_home  team_season_id_away  status_id  score_home  \\\n",
       "0  2702                  210                  220        101          19   \n",
       "\n",
       "   score_away  live  reg_season  lock           start_timestamp  \\\n",
       "0          18  None        True  True  2021-06-04T19:00:00.000Z   \n",
       "\n",
       "  start_timezone  start_time_tbd aw_section       ext_game_id  \\\n",
       "0            EDT           False     week-1  2021-06-04-DC-NY   \n",
       "\n",
       "           update_timestamp  \n",
       "0  2021-06-05T01:08:48.237Z  "
      ]
     },
     "execution_count": 1256,
     "metadata": {},
     "output_type": "execute_result"
    }
   ],
   "source": [
    "g.get_game_info()"
   ]
  },
  {
   "cell_type": "code",
   "execution_count": 1257,
   "metadata": {},
   "outputs": [
    {
     "data": {
      "text/html": [
       "<div>\n",
       "<style scoped>\n",
       "    .dataframe tbody tr th:only-of-type {\n",
       "        vertical-align: middle;\n",
       "    }\n",
       "\n",
       "    .dataframe tbody tr th {\n",
       "        vertical-align: top;\n",
       "    }\n",
       "\n",
       "    .dataframe thead th {\n",
       "        text-align: right;\n",
       "    }\n",
       "</style>\n",
       "<table border=\"1\" class=\"dataframe\">\n",
       "  <thead>\n",
       "    <tr style=\"text-align: right;\">\n",
       "      <th></th>\n",
       "      <th>id</th>\n",
       "      <th>team_season_id</th>\n",
       "      <th>player_id</th>\n",
       "      <th>jersey_number</th>\n",
       "      <th>first_name</th>\n",
       "      <th>last_name</th>\n",
       "      <th>ext_player_id</th>\n",
       "      <th>active</th>\n",
       "    </tr>\n",
       "  </thead>\n",
       "  <tbody>\n",
       "    <tr>\n",
       "      <th>10</th>\n",
       "      <td>9066</td>\n",
       "      <td>220</td>\n",
       "      <td>1986</td>\n",
       "      <td>4</td>\n",
       "      <td>Houston</td>\n",
       "      <td>Parks</td>\n",
       "      <td>hparks</td>\n",
       "      <td>False</td>\n",
       "    </tr>\n",
       "    <tr>\n",
       "      <th>15</th>\n",
       "      <td>9067</td>\n",
       "      <td>220</td>\n",
       "      <td>2301</td>\n",
       "      <td>5</td>\n",
       "      <td>AJ</td>\n",
       "      <td>Merriman</td>\n",
       "      <td>amerriman</td>\n",
       "      <td>True</td>\n",
       "    </tr>\n",
       "    <tr>\n",
       "      <th>1</th>\n",
       "      <td>9068</td>\n",
       "      <td>220</td>\n",
       "      <td>454</td>\n",
       "      <td>6</td>\n",
       "      <td>Dane</td>\n",
       "      <td>Warner</td>\n",
       "      <td>dwarner</td>\n",
       "      <td>False</td>\n",
       "    </tr>\n",
       "    <tr>\n",
       "      <th>8</th>\n",
       "      <td>9069</td>\n",
       "      <td>220</td>\n",
       "      <td>1843</td>\n",
       "      <td>10</td>\n",
       "      <td>Zach</td>\n",
       "      <td>Norrbom</td>\n",
       "      <td>znorrbom</td>\n",
       "      <td>True</td>\n",
       "    </tr>\n",
       "    <tr>\n",
       "      <th>17</th>\n",
       "      <td>9070</td>\n",
       "      <td>220</td>\n",
       "      <td>2304</td>\n",
       "      <td>12</td>\n",
       "      <td>Garrett</td>\n",
       "      <td>Braun</td>\n",
       "      <td>gbraun</td>\n",
       "      <td>True</td>\n",
       "    </tr>\n",
       "    <tr>\n",
       "      <th>18</th>\n",
       "      <td>9071</td>\n",
       "      <td>220</td>\n",
       "      <td>2306</td>\n",
       "      <td>15</td>\n",
       "      <td>Kyle</td>\n",
       "      <td>Vezina</td>\n",
       "      <td>kvezina</td>\n",
       "      <td>True</td>\n",
       "    </tr>\n",
       "    <tr>\n",
       "      <th>25</th>\n",
       "      <td>9072</td>\n",
       "      <td>220</td>\n",
       "      <td>2484</td>\n",
       "      <td>18</td>\n",
       "      <td>Kevin</td>\n",
       "      <td>Healey</td>\n",
       "      <td>khealey</td>\n",
       "      <td>False</td>\n",
       "    </tr>\n",
       "    <tr>\n",
       "      <th>12</th>\n",
       "      <td>9075</td>\n",
       "      <td>220</td>\n",
       "      <td>1992</td>\n",
       "      <td>23</td>\n",
       "      <td>Gabe</td>\n",
       "      <td>Webster</td>\n",
       "      <td>gwebster</td>\n",
       "      <td>False</td>\n",
       "    </tr>\n",
       "    <tr>\n",
       "      <th>23</th>\n",
       "      <td>9076</td>\n",
       "      <td>220</td>\n",
       "      <td>2341</td>\n",
       "      <td>24</td>\n",
       "      <td>Jacques</td>\n",
       "      <td>Nissen</td>\n",
       "      <td>jnissen</td>\n",
       "      <td>True</td>\n",
       "    </tr>\n",
       "    <tr>\n",
       "      <th>20</th>\n",
       "      <td>9077</td>\n",
       "      <td>220</td>\n",
       "      <td>2320</td>\n",
       "      <td>25</td>\n",
       "      <td>Jeremy</td>\n",
       "      <td>Knopf</td>\n",
       "      <td>jknopf</td>\n",
       "      <td>False</td>\n",
       "    </tr>\n",
       "    <tr>\n",
       "      <th>2</th>\n",
       "      <td>9078</td>\n",
       "      <td>220</td>\n",
       "      <td>492</td>\n",
       "      <td>30</td>\n",
       "      <td>David</td>\n",
       "      <td>Bloodgood</td>\n",
       "      <td>dbloodgoo</td>\n",
       "      <td>True</td>\n",
       "    </tr>\n",
       "    <tr>\n",
       "      <th>13</th>\n",
       "      <td>9079</td>\n",
       "      <td>220</td>\n",
       "      <td>1993</td>\n",
       "      <td>33</td>\n",
       "      <td>Quinn</td>\n",
       "      <td>Bergeron</td>\n",
       "      <td>qbergeron</td>\n",
       "      <td>True</td>\n",
       "    </tr>\n",
       "    <tr>\n",
       "      <th>3</th>\n",
       "      <td>9080</td>\n",
       "      <td>220</td>\n",
       "      <td>512</td>\n",
       "      <td>36</td>\n",
       "      <td>David</td>\n",
       "      <td>Shields</td>\n",
       "      <td>dshields</td>\n",
       "      <td>True</td>\n",
       "    </tr>\n",
       "    <tr>\n",
       "      <th>21</th>\n",
       "      <td>9081</td>\n",
       "      <td>220</td>\n",
       "      <td>2321</td>\n",
       "      <td>51</td>\n",
       "      <td>Kevin</td>\n",
       "      <td>Versteeg</td>\n",
       "      <td>kversteeg</td>\n",
       "      <td>False</td>\n",
       "    </tr>\n",
       "    <tr>\n",
       "      <th>22</th>\n",
       "      <td>9082</td>\n",
       "      <td>220</td>\n",
       "      <td>2322</td>\n",
       "      <td>52</td>\n",
       "      <td>Ray</td>\n",
       "      <td>Mendoza</td>\n",
       "      <td>rmendoza</td>\n",
       "      <td>False</td>\n",
       "    </tr>\n",
       "    <tr>\n",
       "      <th>24</th>\n",
       "      <td>9083</td>\n",
       "      <td>220</td>\n",
       "      <td>2352</td>\n",
       "      <td>57</td>\n",
       "      <td>Jasper</td>\n",
       "      <td>Tom</td>\n",
       "      <td>jtom</td>\n",
       "      <td>True</td>\n",
       "    </tr>\n",
       "    <tr>\n",
       "      <th>14</th>\n",
       "      <td>9084</td>\n",
       "      <td>220</td>\n",
       "      <td>1994</td>\n",
       "      <td>78</td>\n",
       "      <td>Leo</td>\n",
       "      <td>Pierson</td>\n",
       "      <td>lpierson</td>\n",
       "      <td>False</td>\n",
       "    </tr>\n",
       "    <tr>\n",
       "      <th>7</th>\n",
       "      <td>9085</td>\n",
       "      <td>220</td>\n",
       "      <td>1824</td>\n",
       "      <td>80</td>\n",
       "      <td>Xavier</td>\n",
       "      <td>Maxstadt</td>\n",
       "      <td>xmaxstadt</td>\n",
       "      <td>False</td>\n",
       "    </tr>\n",
       "    <tr>\n",
       "      <th>4</th>\n",
       "      <td>9276</td>\n",
       "      <td>220</td>\n",
       "      <td>834</td>\n",
       "      <td>45</td>\n",
       "      <td>Jeff</td>\n",
       "      <td>Wodatch</td>\n",
       "      <td>jwodatch1</td>\n",
       "      <td>True</td>\n",
       "    </tr>\n",
       "    <tr>\n",
       "      <th>16</th>\n",
       "      <td>9277</td>\n",
       "      <td>220</td>\n",
       "      <td>2303</td>\n",
       "      <td>9</td>\n",
       "      <td>Kenta</td>\n",
       "      <td>Kawaguchi</td>\n",
       "      <td>kkawaguch</td>\n",
       "      <td>False</td>\n",
       "    </tr>\n",
       "    <tr>\n",
       "      <th>27</th>\n",
       "      <td>9279</td>\n",
       "      <td>220</td>\n",
       "      <td>2540</td>\n",
       "      <td>27</td>\n",
       "      <td>Steven</td>\n",
       "      <td>Wartinbee</td>\n",
       "      <td>swartinbe</td>\n",
       "      <td>False</td>\n",
       "    </tr>\n",
       "    <tr>\n",
       "      <th>28</th>\n",
       "      <td>9281</td>\n",
       "      <td>220</td>\n",
       "      <td>2541</td>\n",
       "      <td>2</td>\n",
       "      <td>Kris</td>\n",
       "      <td>Harrison</td>\n",
       "      <td>kharrison1</td>\n",
       "      <td>False</td>\n",
       "    </tr>\n",
       "    <tr>\n",
       "      <th>19</th>\n",
       "      <td>9282</td>\n",
       "      <td>220</td>\n",
       "      <td>2309</td>\n",
       "      <td>35</td>\n",
       "      <td>Jeremy</td>\n",
       "      <td>Hess</td>\n",
       "      <td>jhess</td>\n",
       "      <td>True</td>\n",
       "    </tr>\n",
       "    <tr>\n",
       "      <th>0</th>\n",
       "      <td>9283</td>\n",
       "      <td>220</td>\n",
       "      <td>137</td>\n",
       "      <td>32</td>\n",
       "      <td>Anthony</td>\n",
       "      <td>McLean</td>\n",
       "      <td>amclean</td>\n",
       "      <td>False</td>\n",
       "    </tr>\n",
       "    <tr>\n",
       "      <th>5</th>\n",
       "      <td>9284</td>\n",
       "      <td>220</td>\n",
       "      <td>875</td>\n",
       "      <td>99</td>\n",
       "      <td>Joe</td>\n",
       "      <td>Richards</td>\n",
       "      <td>jrichards</td>\n",
       "      <td>True</td>\n",
       "    </tr>\n",
       "    <tr>\n",
       "      <th>29</th>\n",
       "      <td>9285</td>\n",
       "      <td>220</td>\n",
       "      <td>2542</td>\n",
       "      <td>44</td>\n",
       "      <td>Justin</td>\n",
       "      <td>Keller</td>\n",
       "      <td>jkeller</td>\n",
       "      <td>False</td>\n",
       "    </tr>\n",
       "    <tr>\n",
       "      <th>26</th>\n",
       "      <td>9286</td>\n",
       "      <td>220</td>\n",
       "      <td>1241</td>\n",
       "      <td>28</td>\n",
       "      <td>Rowan</td>\n",
       "      <td>McDonnell</td>\n",
       "      <td>mmcdonnel</td>\n",
       "      <td>True</td>\n",
       "    </tr>\n",
       "    <tr>\n",
       "      <th>31</th>\n",
       "      <td>9336</td>\n",
       "      <td>220</td>\n",
       "      <td>2568</td>\n",
       "      <td>8</td>\n",
       "      <td>Colum</td>\n",
       "      <td>Bergeron</td>\n",
       "      <td>cbergeron</td>\n",
       "      <td>False</td>\n",
       "    </tr>\n",
       "    <tr>\n",
       "      <th>32</th>\n",
       "      <td>9337</td>\n",
       "      <td>220</td>\n",
       "      <td>2569</td>\n",
       "      <td>11</td>\n",
       "      <td>Luke</td>\n",
       "      <td>Rehfuss</td>\n",
       "      <td>lrehfuss</td>\n",
       "      <td>False</td>\n",
       "    </tr>\n",
       "    <tr>\n",
       "      <th>30</th>\n",
       "      <td>9338</td>\n",
       "      <td>220</td>\n",
       "      <td>2570</td>\n",
       "      <td>14</td>\n",
       "      <td>Aaron</td>\n",
       "      <td>Bartlett</td>\n",
       "      <td>abartlett</td>\n",
       "      <td>True</td>\n",
       "    </tr>\n",
       "    <tr>\n",
       "      <th>9</th>\n",
       "      <td>9339</td>\n",
       "      <td>220</td>\n",
       "      <td>1984</td>\n",
       "      <td>16</td>\n",
       "      <td>Alexandre</td>\n",
       "      <td>Fall</td>\n",
       "      <td>afall</td>\n",
       "      <td>False</td>\n",
       "    </tr>\n",
       "    <tr>\n",
       "      <th>36</th>\n",
       "      <td>9340</td>\n",
       "      <td>220</td>\n",
       "      <td>2571</td>\n",
       "      <td>17</td>\n",
       "      <td>Moussa</td>\n",
       "      <td>Dia</td>\n",
       "      <td>mdia</td>\n",
       "      <td>False</td>\n",
       "    </tr>\n",
       "    <tr>\n",
       "      <th>11</th>\n",
       "      <td>9341</td>\n",
       "      <td>220</td>\n",
       "      <td>1991</td>\n",
       "      <td>21</td>\n",
       "      <td>Rhys</td>\n",
       "      <td>Bergeron</td>\n",
       "      <td>rbergeron</td>\n",
       "      <td>True</td>\n",
       "    </tr>\n",
       "    <tr>\n",
       "      <th>33</th>\n",
       "      <td>9342</td>\n",
       "      <td>220</td>\n",
       "      <td>2572</td>\n",
       "      <td>26</td>\n",
       "      <td>Ben</td>\n",
       "      <td>Green</td>\n",
       "      <td>bgreen</td>\n",
       "      <td>True</td>\n",
       "    </tr>\n",
       "    <tr>\n",
       "      <th>35</th>\n",
       "      <td>9343</td>\n",
       "      <td>220</td>\n",
       "      <td>2573</td>\n",
       "      <td>40</td>\n",
       "      <td>Joe</td>\n",
       "      <td>Merrill</td>\n",
       "      <td>jmerrill</td>\n",
       "      <td>True</td>\n",
       "    </tr>\n",
       "    <tr>\n",
       "      <th>6</th>\n",
       "      <td>9344</td>\n",
       "      <td>220</td>\n",
       "      <td>946</td>\n",
       "      <td>53</td>\n",
       "      <td>Jonny</td>\n",
       "      <td>Malks</td>\n",
       "      <td>jmalks</td>\n",
       "      <td>True</td>\n",
       "    </tr>\n",
       "    <tr>\n",
       "      <th>34</th>\n",
       "      <td>9345</td>\n",
       "      <td>220</td>\n",
       "      <td>2575</td>\n",
       "      <td>54</td>\n",
       "      <td>Gus</td>\n",
       "      <td>Norrbom</td>\n",
       "      <td>gnorrbom</td>\n",
       "      <td>True</td>\n",
       "    </tr>\n",
       "    <tr>\n",
       "      <th>37</th>\n",
       "      <td>9537</td>\n",
       "      <td>220</td>\n",
       "      <td>2664</td>\n",
       "      <td>88</td>\n",
       "      <td>Duncan</td>\n",
       "      <td>Fitzgerald</td>\n",
       "      <td>dfitzgera</td>\n",
       "      <td>True</td>\n",
       "    </tr>\n",
       "    <tr>\n",
       "      <th>38</th>\n",
       "      <td>9538</td>\n",
       "      <td>220</td>\n",
       "      <td>2665</td>\n",
       "      <td>22</td>\n",
       "      <td>Colin</td>\n",
       "      <td>McLaughlin</td>\n",
       "      <td>cmclaughl</td>\n",
       "      <td>False</td>\n",
       "    </tr>\n",
       "  </tbody>\n",
       "</table>\n",
       "</div>"
      ],
      "text/plain": [
       "      id  team_season_id  player_id jersey_number first_name   last_name  \\\n",
       "10  9066             220       1986             4    Houston       Parks   \n",
       "15  9067             220       2301             5         AJ    Merriman   \n",
       "1   9068             220        454             6       Dane      Warner   \n",
       "8   9069             220       1843            10       Zach     Norrbom   \n",
       "17  9070             220       2304            12    Garrett       Braun   \n",
       "18  9071             220       2306            15       Kyle      Vezina   \n",
       "25  9072             220       2484            18      Kevin      Healey   \n",
       "12  9075             220       1992            23       Gabe     Webster   \n",
       "23  9076             220       2341            24    Jacques      Nissen   \n",
       "20  9077             220       2320            25     Jeremy       Knopf   \n",
       "2   9078             220        492            30      David   Bloodgood   \n",
       "13  9079             220       1993            33      Quinn    Bergeron   \n",
       "3   9080             220        512            36      David     Shields   \n",
       "21  9081             220       2321            51      Kevin    Versteeg   \n",
       "22  9082             220       2322            52        Ray     Mendoza   \n",
       "24  9083             220       2352            57     Jasper         Tom   \n",
       "14  9084             220       1994            78        Leo     Pierson   \n",
       "7   9085             220       1824            80     Xavier    Maxstadt   \n",
       "4   9276             220        834            45       Jeff     Wodatch   \n",
       "16  9277             220       2303             9      Kenta   Kawaguchi   \n",
       "27  9279             220       2540            27     Steven   Wartinbee   \n",
       "28  9281             220       2541             2       Kris    Harrison   \n",
       "19  9282             220       2309            35     Jeremy        Hess   \n",
       "0   9283             220        137            32    Anthony      McLean   \n",
       "5   9284             220        875            99        Joe    Richards   \n",
       "29  9285             220       2542            44     Justin      Keller   \n",
       "26  9286             220       1241            28      Rowan   McDonnell   \n",
       "31  9336             220       2568             8      Colum    Bergeron   \n",
       "32  9337             220       2569            11       Luke     Rehfuss   \n",
       "30  9338             220       2570            14      Aaron    Bartlett   \n",
       "9   9339             220       1984            16  Alexandre        Fall   \n",
       "36  9340             220       2571            17     Moussa         Dia   \n",
       "11  9341             220       1991            21       Rhys    Bergeron   \n",
       "33  9342             220       2572            26        Ben       Green   \n",
       "35  9343             220       2573            40        Joe     Merrill   \n",
       "6   9344             220        946            53      Jonny       Malks   \n",
       "34  9345             220       2575            54        Gus     Norrbom   \n",
       "37  9537             220       2664            88     Duncan  Fitzgerald   \n",
       "38  9538             220       2665            22      Colin  McLaughlin   \n",
       "\n",
       "   ext_player_id  active  \n",
       "10        hparks   False  \n",
       "15     amerriman    True  \n",
       "1        dwarner   False  \n",
       "8       znorrbom    True  \n",
       "17        gbraun    True  \n",
       "18       kvezina    True  \n",
       "25       khealey   False  \n",
       "12      gwebster   False  \n",
       "23       jnissen    True  \n",
       "20        jknopf   False  \n",
       "2      dbloodgoo    True  \n",
       "13     qbergeron    True  \n",
       "3       dshields    True  \n",
       "21     kversteeg   False  \n",
       "22      rmendoza   False  \n",
       "24          jtom    True  \n",
       "14      lpierson   False  \n",
       "7      xmaxstadt   False  \n",
       "4      jwodatch1    True  \n",
       "16     kkawaguch   False  \n",
       "27     swartinbe   False  \n",
       "28    kharrison1   False  \n",
       "19         jhess    True  \n",
       "0        amclean   False  \n",
       "5      jrichards    True  \n",
       "29       jkeller   False  \n",
       "26     mmcdonnel    True  \n",
       "31     cbergeron   False  \n",
       "32      lrehfuss   False  \n",
       "30     abartlett    True  \n",
       "9          afall   False  \n",
       "36          mdia   False  \n",
       "11     rbergeron    True  \n",
       "33        bgreen    True  \n",
       "35      jmerrill    True  \n",
       "6         jmalks    True  \n",
       "34      gnorrbom    True  \n",
       "37     dfitzgera    True  \n",
       "38     cmclaughl   False  "
      ]
     },
     "execution_count": 1257,
     "metadata": {},
     "output_type": "execute_result"
    }
   ],
   "source": [
    "g.get_away_roster().sort_values([\"id\"])"
   ]
  },
  {
   "cell_type": "code",
   "execution_count": 1258,
   "metadata": {},
   "outputs": [
    {
     "name": "stdout",
     "output_type": "stream",
     "text": [
      "Number of events: 437\n",
      "New Event Types: \n",
      "Event Attributes: t, r, x, y, s\n"
     ]
    },
    {
     "data": {
      "text/plain": [
       "<matplotlib.axes._subplots.AxesSubplot at 0x27b9f9d93c8>"
      ]
     },
     "execution_count": 1258,
     "metadata": {},
     "output_type": "execute_result"
    },
    {
     "data": {
      "image/png": "[encoded data removed]",
      "text/plain": [
       "<Figure size 432x288 with 1 Axes>"
      ]
     },
     "metadata": {
      "needs_background": "light"
     },
     "output_type": "display_data"
    }
   ],
   "source": [
    "import seaborn as sns\n",
    "temp = g.get_away_events().query(\"t_after==[20,22]\")\n",
    "sns.scatterplot(data=temp, x=\"xyards_raw\", y=\"yyards_raw\", hue=\"throw_type\")"
   ]
  },
  {
   "cell_type": "code",
   "execution_count": 1259,
   "metadata": {},
   "outputs": [
    {
     "name": "stdout",
     "output_type": "stream",
     "text": [
      "Number of events: 359\n",
      "New Event Types: \n",
      "Event Attributes: t, r, x, y, s\n"
     ]
    },
    {
     "data": {
      "text/html": [
       "<div>\n",
       "<style scoped>\n",
       "    .dataframe tbody tr th:only-of-type {\n",
       "        vertical-align: middle;\n",
       "    }\n",
       "\n",
       "    .dataframe tbody tr th {\n",
       "        vertical-align: top;\n",
       "    }\n",
       "\n",
       "    .dataframe thead th {\n",
       "        text-align: right;\n",
       "    }\n",
       "</style>\n",
       "<table border=\"1\" class=\"dataframe\">\n",
       "  <thead>\n",
       "    <tr style=\"text-align: right;\">\n",
       "      <th></th>\n",
       "      <th>t</th>\n",
       "      <th>point_number</th>\n",
       "      <th>possession_number</th>\n",
       "      <th>possession_number_min</th>\n",
       "      <th>possession_number_max</th>\n",
       "      <th>num_turnovers</th>\n",
       "    </tr>\n",
       "  </thead>\n",
       "  <tbody>\n",
       "    <tr>\n",
       "      <th>339</th>\n",
       "      <td>21</td>\n",
       "      <td>39.0</td>\n",
       "      <td>59.0</td>\n",
       "      <td>58.0</td>\n",
       "      <td>59.0</td>\n",
       "      <td>1</td>\n",
       "    </tr>\n",
       "    <tr>\n",
       "      <th>340</th>\n",
       "      <td>1</td>\n",
       "      <td>40.0</td>\n",
       "      <td>60.0</td>\n",
       "      <td>60.0</td>\n",
       "      <td>60.0</td>\n",
       "      <td>0</td>\n",
       "    </tr>\n",
       "    <tr>\n",
       "      <th>341</th>\n",
       "      <td>20</td>\n",
       "      <td>40.0</td>\n",
       "      <td>60.0</td>\n",
       "      <td>60.0</td>\n",
       "      <td>60.0</td>\n",
       "      <td>0</td>\n",
       "    </tr>\n",
       "    <tr>\n",
       "      <th>342</th>\n",
       "      <td>20</td>\n",
       "      <td>40.0</td>\n",
       "      <td>60.0</td>\n",
       "      <td>60.0</td>\n",
       "      <td>60.0</td>\n",
       "      <td>0</td>\n",
       "    </tr>\n",
       "    <tr>\n",
       "      <th>343</th>\n",
       "      <td>20</td>\n",
       "      <td>40.0</td>\n",
       "      <td>60.0</td>\n",
       "      <td>60.0</td>\n",
       "      <td>60.0</td>\n",
       "      <td>0</td>\n",
       "    </tr>\n",
       "    <tr>\n",
       "      <th>344</th>\n",
       "      <td>20</td>\n",
       "      <td>40.0</td>\n",
       "      <td>60.0</td>\n",
       "      <td>60.0</td>\n",
       "      <td>60.0</td>\n",
       "      <td>0</td>\n",
       "    </tr>\n",
       "    <tr>\n",
       "      <th>345</th>\n",
       "      <td>20</td>\n",
       "      <td>40.0</td>\n",
       "      <td>60.0</td>\n",
       "      <td>60.0</td>\n",
       "      <td>60.0</td>\n",
       "      <td>0</td>\n",
       "    </tr>\n",
       "    <tr>\n",
       "      <th>346</th>\n",
       "      <td>20</td>\n",
       "      <td>40.0</td>\n",
       "      <td>60.0</td>\n",
       "      <td>60.0</td>\n",
       "      <td>60.0</td>\n",
       "      <td>0</td>\n",
       "    </tr>\n",
       "    <tr>\n",
       "      <th>347</th>\n",
       "      <td>20</td>\n",
       "      <td>40.0</td>\n",
       "      <td>60.0</td>\n",
       "      <td>60.0</td>\n",
       "      <td>60.0</td>\n",
       "      <td>0</td>\n",
       "    </tr>\n",
       "    <tr>\n",
       "      <th>348</th>\n",
       "      <td>20</td>\n",
       "      <td>40.0</td>\n",
       "      <td>60.0</td>\n",
       "      <td>60.0</td>\n",
       "      <td>60.0</td>\n",
       "      <td>0</td>\n",
       "    </tr>\n",
       "    <tr>\n",
       "      <th>349</th>\n",
       "      <td>20</td>\n",
       "      <td>40.0</td>\n",
       "      <td>60.0</td>\n",
       "      <td>60.0</td>\n",
       "      <td>60.0</td>\n",
       "      <td>0</td>\n",
       "    </tr>\n",
       "    <tr>\n",
       "      <th>350</th>\n",
       "      <td>20</td>\n",
       "      <td>40.0</td>\n",
       "      <td>60.0</td>\n",
       "      <td>60.0</td>\n",
       "      <td>60.0</td>\n",
       "      <td>0</td>\n",
       "    </tr>\n",
       "    <tr>\n",
       "      <th>351</th>\n",
       "      <td>20</td>\n",
       "      <td>40.0</td>\n",
       "      <td>60.0</td>\n",
       "      <td>60.0</td>\n",
       "      <td>60.0</td>\n",
       "      <td>0</td>\n",
       "    </tr>\n",
       "    <tr>\n",
       "      <th>352</th>\n",
       "      <td>20</td>\n",
       "      <td>40.0</td>\n",
       "      <td>60.0</td>\n",
       "      <td>60.0</td>\n",
       "      <td>60.0</td>\n",
       "      <td>0</td>\n",
       "    </tr>\n",
       "    <tr>\n",
       "      <th>353</th>\n",
       "      <td>20</td>\n",
       "      <td>40.0</td>\n",
       "      <td>60.0</td>\n",
       "      <td>60.0</td>\n",
       "      <td>60.0</td>\n",
       "      <td>0</td>\n",
       "    </tr>\n",
       "    <tr>\n",
       "      <th>354</th>\n",
       "      <td>20</td>\n",
       "      <td>40.0</td>\n",
       "      <td>60.0</td>\n",
       "      <td>60.0</td>\n",
       "      <td>60.0</td>\n",
       "      <td>0</td>\n",
       "    </tr>\n",
       "    <tr>\n",
       "      <th>355</th>\n",
       "      <td>20</td>\n",
       "      <td>40.0</td>\n",
       "      <td>60.0</td>\n",
       "      <td>60.0</td>\n",
       "      <td>60.0</td>\n",
       "      <td>0</td>\n",
       "    </tr>\n",
       "    <tr>\n",
       "      <th>356</th>\n",
       "      <td>20</td>\n",
       "      <td>40.0</td>\n",
       "      <td>60.0</td>\n",
       "      <td>60.0</td>\n",
       "      <td>60.0</td>\n",
       "      <td>0</td>\n",
       "    </tr>\n",
       "    <tr>\n",
       "      <th>357</th>\n",
       "      <td>22</td>\n",
       "      <td>40.0</td>\n",
       "      <td>60.0</td>\n",
       "      <td>60.0</td>\n",
       "      <td>60.0</td>\n",
       "      <td>0</td>\n",
       "    </tr>\n",
       "    <tr>\n",
       "      <th>358</th>\n",
       "      <td>26</td>\n",
       "      <td>40.0</td>\n",
       "      <td>60.0</td>\n",
       "      <td>60.0</td>\n",
       "      <td>60.0</td>\n",
       "      <td>0</td>\n",
       "    </tr>\n",
       "  </tbody>\n",
       "</table>\n",
       "</div>"
      ],
      "text/plain": [
       "      t  point_number  possession_number  possession_number_min  \\\n",
       "339  21          39.0               59.0                   58.0   \n",
       "340   1          40.0               60.0                   60.0   \n",
       "341  20          40.0               60.0                   60.0   \n",
       "342  20          40.0               60.0                   60.0   \n",
       "343  20          40.0               60.0                   60.0   \n",
       "344  20          40.0               60.0                   60.0   \n",
       "345  20          40.0               60.0                   60.0   \n",
       "346  20          40.0               60.0                   60.0   \n",
       "347  20          40.0               60.0                   60.0   \n",
       "348  20          40.0               60.0                   60.0   \n",
       "349  20          40.0               60.0                   60.0   \n",
       "350  20          40.0               60.0                   60.0   \n",
       "351  20          40.0               60.0                   60.0   \n",
       "352  20          40.0               60.0                   60.0   \n",
       "353  20          40.0               60.0                   60.0   \n",
       "354  20          40.0               60.0                   60.0   \n",
       "355  20          40.0               60.0                   60.0   \n",
       "356  20          40.0               60.0                   60.0   \n",
       "357  22          40.0               60.0                   60.0   \n",
       "358  26          40.0               60.0                   60.0   \n",
       "\n",
       "     possession_number_max  num_turnovers  \n",
       "339                   59.0              1  \n",
       "340                   60.0              0  \n",
       "341                   60.0              0  \n",
       "342                   60.0              0  \n",
       "343                   60.0              0  \n",
       "344                   60.0              0  \n",
       "345                   60.0              0  \n",
       "346                   60.0              0  \n",
       "347                   60.0              0  \n",
       "348                   60.0              0  \n",
       "349                   60.0              0  \n",
       "350                   60.0              0  \n",
       "351                   60.0              0  \n",
       "352                   60.0              0  \n",
       "353                   60.0              0  \n",
       "354                   60.0              0  \n",
       "355                   60.0              0  \n",
       "356                   60.0              0  \n",
       "357                   60.0              0  \n",
       "358                   60.0              0  "
      ]
     },
     "execution_count": 1259,
     "metadata": {},
     "output_type": "execute_result"
    }
   ],
   "source": [
    "g.get_home_events().tail(20)[[\"t\", \"point_number\", \"possession_number\", \"possession_number_min\", \"possession_number_max\", \"num_turnovers\"]]"
   ]
  },
  {
   "cell_type": "code",
   "execution_count": 1260,
   "metadata": {},
   "outputs": [
    {
     "data": {
      "text/plain": [
       "r\n",
       "9342.0     -6.83\n",
       "9284.0      1.57\n",
       "9079.0      9.47\n",
       "9341.0     15.15\n",
       "9282.0     15.47\n",
       "9067.0     21.94\n",
       "9343.0     31.61\n",
       "9083.0     38.05\n",
       "9080.0     52.34\n",
       "9078.0     80.35\n",
       "9345.0    140.28\n",
       "9070.0    143.21\n",
       "9286.0    149.94\n",
       "9276.0    161.29\n",
       "9076.0    164.61\n",
       "9344.0    222.28\n",
       "9069.0    231.96\n",
       "Name: yyards, dtype: float64"
      ]
     },
     "execution_count": 1260,
     "metadata": {},
     "output_type": "execute_result"
    }
   ],
   "source": [
    "g.get_away_events().query(\"t_after==[20,22] & ~centering_pass\").groupby([\"r\"])[\"yyards\"].sum().sort_values()"
   ]
  },
  {
   "cell_type": "code",
   "execution_count": 1261,
   "metadata": {},
   "outputs": [
    {
     "name": "stdout",
     "output_type": "stream",
     "text": [
      "Segments w/ >7 players: 0\n"
     ]
    },
    {
     "data": {
      "application/vnd.plotly.v1+json": {
       "config": {
        "plotlyServerURL": "https://plot.ly"
       },
       "data": [
        {
         "alignmentgroup": "True",
         "base": [
          2565,
          2470,
          2322,
          271,
          432,
          720,
          704,
          1149,
          1034,
          507,
          1203,
          177,
          2718.5,
          2761,
          2813,
          2676,
          1504,
          1586,
          1878,
          2020,
          2138,
          2160,
          1418,
          2020,
          2322,
          1586,
          1504,
          1418,
          432,
          507,
          2138,
          720,
          1878,
          1203,
          1149,
          1034,
          704,
          2160,
          2470,
          177,
          271,
          2813,
          2761,
          2718.5,
          2676,
          2565,
          507,
          704,
          177,
          271,
          432,
          1878,
          1418,
          1504,
          1586,
          1203,
          1149,
          1034,
          2020,
          2160,
          2322,
          2138,
          2813,
          2718.5,
          2676,
          2565,
          2470,
          720,
          1418,
          177,
          2322,
          1586,
          432,
          1878,
          2138,
          271,
          2020,
          507,
          704,
          1034,
          2676,
          2813,
          2718.5,
          1149,
          2470,
          2160,
          720,
          2565,
          1504,
          2020,
          2160,
          2322,
          2565,
          2470,
          1504,
          1418,
          1149,
          720,
          1034,
          2718.5,
          2676,
          2138,
          1878,
          704,
          432,
          271,
          177,
          1586,
          2813,
          2676,
          2718.5,
          2470,
          2160,
          2020,
          1878,
          1586,
          1504,
          1149,
          2322,
          1034,
          507,
          432,
          271,
          177,
          720,
          2565,
          2565,
          1149,
          2470,
          2322,
          1878,
          2020,
          177,
          432,
          507,
          720,
          1034,
          1504,
          1586,
          271,
          2676,
          2813,
          2160,
          1203,
          704,
          1418,
          1555,
          2138,
          2718.5,
          2761,
          2138,
          2761,
          1555,
          1418,
          1203,
          704,
          507,
          2813,
          1203,
          1555,
          2761,
          2761,
          1555,
          1203,
          1555,
          1555,
          2761,
          1555
         ],
         "customdata": [
          [
           "Ben Jagt",
           "5:15",
           "4:43",
           "O-Point",
           "Hold",
           0,
           "",
           ""
          ],
          [
           "Ben Jagt",
           "6:50",
           "5:55",
           "O-Point",
           "Hold",
           0,
           "",
           ""
          ],
          [
           "Ben Jagt",
           "9:18",
           "8:08",
           "O-Point",
           "Hold",
           0,
           "",
           ""
          ],
          [
           "Ben Jagt",
           "7:29",
           "6:21",
           "O-Point",
           "Hold",
           0,
           "",
           ""
          ],
          [
           "Ben Jagt",
           "4:48",
           "3:33",
           "O-Point",
           "Opponent Break",
           1,
           "",
           ""
          ],
          [
           "Ben Jagt",
           "12:00",
           "10:46",
           "O-Point",
           "Hold",
           0,
           "",
           ""
          ],
          [
           "Ben Jagt",
           "0:16",
           "0:01",
           "O-Point",
           "Hold",
           0,
           "",
           ""
          ],
          [
           "Ben Jagt",
           "4:51",
           "3:57",
           "O-Point",
           "Hold",
           2,
           "",
           " (Timeout)"
          ],
          [
           "Ben Jagt",
           "6:46",
           "5:51",
           "O-Point",
           "Hold",
           2,
           "",
           ""
          ],
          [
           "Ben Jagt",
           "3:33",
           "3:03",
           "O-Point",
           "Hold",
           0,
           "",
           ""
          ],
          [
           "Ben Jagt",
           "3:57",
           "3:25",
           "O-Point",
           "Hold",
           2,
           " (Timeout)",
           ""
          ],
          [
           "Ben Jagt",
           "9:03",
           "8:09",
           "O-Point",
           "Hold",
           0,
           "",
           ""
          ],
          [
           "Ben Jagt",
           "2:41",
           "1:59",
           "O-Point",
           "Opponent Break",
           1,
           " (Injury)",
           " (Timeout)"
          ],
          [
           "Ben Jagt",
           "1:59",
           "1:07",
           "O-Point",
           "Opponent Break",
           1,
           " (Timeout)",
           ""
          ],
          [
           "Ben Jagt",
           "1:07",
           "0:00",
           "O-Point",
           "Hold",
           0,
           "",
           ""
          ],
          [
           "Ben Jagt",
           "3:24",
           "2:41",
           "O-Point",
           "Opponent Break",
           1,
           "",
           " (Injury)"
          ],
          [
           "Ben Jagt",
           "10:56",
           "10:05",
           "O-Point",
           "Opponent Break",
           1,
           "",
           " (Timeout)"
          ],
          [
           "Ben Jagt",
           "9:34",
           "7:46",
           "O-Point",
           "Hold",
           2,
           "",
           ""
          ],
          [
           "Ben Jagt",
           "4:42",
           "2:59",
           "O-Point",
           "Hold",
           0,
           "",
           ""
          ],
          [
           "Ben Jagt",
           "2:20",
           "0:22",
           "O-Point",
           "Opponent Break",
           1,
           "",
           ""
          ],
          [
           "Ben Jagt",
           "0:22",
           "0:00",
           "O-Point",
           "Hold",
           0,
           "",
           ""
          ],
          [
           "Ben Jagt",
           "12:00",
           "10:34",
           "O-Point",
           "Hold",
           0,
           "",
           ""
          ],
          [
           "Ben Jagt",
           "0:22",
           "0:00",
           "O-Point",
           "End of Quarter",
           0,
           "",
           ""
          ],
          [
           "Jack Williams",
           "2:20",
           "0:22",
           "O-Point",
           "Opponent Break",
           1,
           "",
           ""
          ],
          [
           "Jack Williams",
           "9:18",
           "8:08",
           "O-Point",
           "Hold",
           0,
           "",
           ""
          ],
          [
           "Jack Williams",
           "9:34",
           "7:46",
           "O-Point",
           "Hold",
           2,
           "",
           ""
          ],
          [
           "Jack Williams",
           "10:56",
           "10:05",
           "O-Point",
           "Opponent Break",
           1,
           "",
           " (Timeout)"
          ],
          [
           "Jack Williams",
           "0:22",
           "0:00",
           "O-Point",
           "End of Quarter",
           0,
           "",
           ""
          ],
          [
           "Jack Williams",
           "4:48",
           "3:33",
           "O-Point",
           "Opponent Break",
           1,
           "",
           ""
          ],
          [
           "Jack Williams",
           "3:33",
           "3:03",
           "O-Point",
           "Hold",
           0,
           "",
           ""
          ],
          [
           "Jack Williams",
           "0:22",
           "0:00",
           "O-Point",
           "Hold",
           0,
           "",
           ""
          ],
          [
           "Jack Williams",
           "12:00",
           "10:46",
           "O-Point",
           "Hold",
           0,
           "",
           ""
          ],
          [
           "Jack Williams",
           "4:42",
           "2:59",
           "O-Point",
           "Hold",
           0,
           "",
           ""
          ],
          [
           "Jack Williams",
           "3:57",
           "3:25",
           "O-Point",
           "Hold",
           2,
           " (Timeout)",
           ""
          ],
          [
           "Jack Williams",
           "4:51",
           "3:57",
           "O-Point",
           "Hold",
           2,
           "",
           " (Timeout)"
          ],
          [
           "Jack Williams",
           "6:46",
           "5:51",
           "O-Point",
           "Hold",
           2,
           "",
           ""
          ],
          [
           "Jack Williams",
           "0:16",
           "0:01",
           "O-Point",
           "Hold",
           0,
           "",
           ""
          ],
          [
           "Jack Williams",
           "12:00",
           "10:34",
           "O-Point",
           "Hold",
           0,
           "",
           ""
          ],
          [
           "Jack Williams",
           "6:50",
           "5:55",
           "O-Point",
           "Hold",
           0,
           "",
           ""
          ],
          [
           "Jack Williams",
           "9:03",
           "8:09",
           "O-Point",
           "Hold",
           0,
           "",
           ""
          ],
          [
           "Jack Williams",
           "7:29",
           "6:21",
           "O-Point",
           "Hold",
           0,
           "",
           ""
          ],
          [
           "Jack Williams",
           "1:07",
           "0:00",
           "O-Point",
           "Hold",
           0,
           "",
           ""
          ],
          [
           "Jack Williams",
           "1:59",
           "1:07",
           "O-Point",
           "Opponent Break",
           1,
           " (Timeout)",
           ""
          ],
          [
           "Jack Williams",
           "2:41",
           "1:59",
           "O-Point",
           "Opponent Break",
           1,
           " (Injury)",
           " (Timeout)"
          ],
          [
           "Jack Williams",
           "3:24",
           "2:41",
           "O-Point",
           "Opponent Break",
           1,
           "",
           " (Injury)"
          ],
          [
           "Jack Williams",
           "5:15",
           "4:43",
           "O-Point",
           "Hold",
           0,
           "",
           ""
          ],
          [
           "Ryan Osgar",
           "3:33",
           "3:03",
           "O-Point",
           "Hold",
           0,
           "",
           ""
          ],
          [
           "Ryan Osgar",
           "0:16",
           "0:01",
           "O-Point",
           "Hold",
           0,
           "",
           ""
          ],
          [
           "Ryan Osgar",
           "9:03",
           "8:09",
           "O-Point",
           "Hold",
           0,
           "",
           ""
          ],
          [
           "Ryan Osgar",
           "7:29",
           "6:21",
           "O-Point",
           "Hold",
           0,
           "",
           ""
          ],
          [
           "Ryan Osgar",
           "4:48",
           "3:33",
           "O-Point",
           "Opponent Break",
           1,
           "",
           ""
          ],
          [
           "Ryan Osgar",
           "4:42",
           "2:59",
           "O-Point",
           "Hold",
           0,
           "",
           ""
          ],
          [
           "Ryan Osgar",
           "0:22",
           "0:00",
           "O-Point",
           "End of Quarter",
           0,
           "",
           ""
          ],
          [
           "Ryan Osgar",
           "10:56",
           "10:05",
           "O-Point",
           "Opponent Break",
           1,
           "",
           " (Timeout)"
          ],
          [
           "Ryan Osgar",
           "9:34",
           "7:46",
           "O-Point",
           "Hold",
           2,
           "",
           ""
          ],
          [
           "Ryan Osgar",
           "3:57",
           "3:25",
           "O-Point",
           "Hold",
           2,
           " (Timeout)",
           ""
          ],
          [
           "Ryan Osgar",
           "4:51",
           "3:57",
           "O-Point",
           "Hold",
           2,
           "",
           " (Timeout)"
          ],
          [
           "Ryan Osgar",
           "6:46",
           "5:51",
           "O-Point",
           "Hold",
           2,
           "",
           ""
          ],
          [
           "Ryan Osgar",
           "2:20",
           "0:22",
           "O-Point",
           "Opponent Break",
           1,
           "",
           ""
          ],
          [
           "Ryan Osgar",
           "12:00",
           "10:34",
           "O-Point",
           "Hold",
           0,
           "",
           ""
          ],
          [
           "Ryan Osgar",
           "9:18",
           "8:08",
           "O-Point",
           "Hold",
           0,
           "",
           ""
          ],
          [
           "Ryan Osgar",
           "0:22",
           "0:00",
           "O-Point",
           "Hold",
           0,
           "",
           ""
          ],
          [
           "Ryan Osgar",
           "1:07",
           "0:00",
           "O-Point",
           "Hold",
           0,
           "",
           ""
          ],
          [
           "Ryan Osgar",
           "2:41",
           "1:59",
           "O-Point",
           "Opponent Break",
           1,
           " (Injury)",
           " (Timeout)"
          ],
          [
           "Ryan Osgar",
           "3:24",
           "2:41",
           "O-Point",
           "Opponent Break",
           1,
           "",
           " (Injury)"
          ],
          [
           "Ryan Osgar",
           "5:15",
           "4:43",
           "O-Point",
           "Hold",
           0,
           "",
           ""
          ],
          [
           "Ryan Osgar",
           "6:50",
           "5:55",
           "O-Point",
           "Hold",
           0,
           "",
           ""
          ],
          [
           "Ryan Osgar",
           "12:00",
           "10:46",
           "O-Point",
           "Hold",
           0,
           "",
           ""
          ],
          [
           "John Lithio",
           "0:22",
           "0:00",
           "O-Point",
           "End of Quarter",
           0,
           "",
           ""
          ],
          [
           "John Lithio",
           "9:03",
           "8:09",
           "O-Point",
           "Hold",
           0,
           "",
           ""
          ],
          [
           "John Lithio",
           "9:18",
           "8:08",
           "O-Point",
           "Hold",
           0,
           "",
           ""
          ],
          [
           "John Lithio",
           "9:34",
           "7:46",
           "O-Point",
           "Hold",
           2,
           "",
           ""
          ],
          [
           "John Lithio",
           "4:48",
           "3:33",
           "O-Point",
           "Opponent Break",
           1,
           "",
           ""
          ],
          [
           "John Lithio",
           "4:42",
           "2:59",
           "O-Point",
           "Hold",
           0,
           "",
           ""
          ],
          [
           "John Lithio",
           "0:22",
           "0:00",
           "O-Point",
           "Hold",
           0,
           "",
           ""
          ],
          [
           "John Lithio",
           "7:29",
           "6:21",
           "O-Point",
           "Hold",
           0,
           "",
           ""
          ],
          [
           "John Lithio",
           "2:20",
           "0:22",
           "O-Point",
           "Opponent Break",
           1,
           "",
           ""
          ],
          [
           "John Lithio",
           "3:33",
           "3:03",
           "O-Point",
           "Hold",
           0,
           "",
           ""
          ],
          [
           "John Lithio",
           "0:16",
           "0:01",
           "O-Point",
           "Hold",
           0,
           "",
           ""
          ],
          [
           "John Lithio",
           "6:46",
           "5:51",
           "O-Point",
           "Hold",
           2,
           "",
           ""
          ],
          [
           "John Lithio",
           "3:24",
           "2:41",
           "O-Point",
           "Opponent Break",
           1,
           "",
           " (Injury)"
          ],
          [
           "John Lithio",
           "1:07",
           "0:00",
           "O-Point",
           "Hold",
           0,
           "",
           ""
          ],
          [
           "John Lithio",
           "2:41",
           "1:59",
           "O-Point",
           "Opponent Break",
           1,
           " (Injury)",
           " (Timeout)"
          ],
          [
           "John Lithio",
           "4:51",
           "3:57",
           "O-Point",
           "Hold",
           2,
           "",
           " (Timeout)"
          ],
          [
           "John Lithio",
           "6:50",
           "5:55",
           "O-Point",
           "Hold",
           0,
           "",
           ""
          ],
          [
           "John Lithio",
           "12:00",
           "10:34",
           "O-Point",
           "Hold",
           0,
           "",
           ""
          ],
          [
           "John Lithio",
           "12:00",
           "10:46",
           "O-Point",
           "Hold",
           0,
           "",
           ""
          ],
          [
           "John Lithio",
           "5:15",
           "4:43",
           "O-Point",
           "Hold",
           0,
           "",
           ""
          ],
          [
           "John Lithio",
           "10:56",
           "10:05",
           "O-Point",
           "Opponent Break",
           1,
           "",
           " (Timeout)"
          ],
          [
           "Ryan Weaver",
           "2:20",
           "0:22",
           "O-Point",
           "Opponent Break",
           1,
           "",
           ""
          ],
          [
           "Ryan Weaver",
           "12:00",
           "10:34",
           "O-Point",
           "Hold",
           0,
           "",
           ""
          ],
          [
           "Ryan Weaver",
           "9:18",
           "8:08",
           "O-Point",
           "Hold",
           0,
           "",
           ""
          ],
          [
           "Ryan Weaver",
           "5:15",
           "4:43",
           "O-Point",
           "Hold",
           0,
           "",
           ""
          ],
          [
           "Ryan Weaver",
           "6:50",
           "5:55",
           "O-Point",
           "Hold",
           0,
           "",
           ""
          ],
          [
           "Ryan Weaver",
           "10:56",
           "10:05",
           "O-Point",
           "Opponent Break",
           1,
           "",
           " (Timeout)"
          ],
          [
           "Ryan Weaver",
           "0:22",
           "0:00",
           "O-Point",
           "End of Quarter",
           0,
           "",
           ""
          ],
          [
           "Ryan Weaver",
           "4:51",
           "3:57",
           "O-Point",
           "Hold",
           2,
           "",
           " (Timeout)"
          ],
          [
           "Ryan Weaver",
           "12:00",
           "10:46",
           "O-Point",
           "Hold",
           0,
           "",
           ""
          ],
          [
           "Ryan Weaver",
           "6:46",
           "5:51",
           "O-Point",
           "Hold",
           2,
           "",
           ""
          ],
          [
           "Ryan Weaver",
           "2:41",
           "1:59",
           "O-Point",
           "Opponent Break",
           1,
           " (Injury)",
           " (Timeout)"
          ],
          [
           "Ryan Weaver",
           "3:24",
           "2:41",
           "O-Point",
           "Opponent Break",
           1,
           "",
           " (Injury)"
          ],
          [
           "Ryan Weaver",
           "0:22",
           "0:00",
           "O-Point",
           "Hold",
           0,
           "",
           ""
          ],
          [
           "Ryan Weaver",
           "4:42",
           "2:59",
           "O-Point",
           "Hold",
           0,
           "",
           ""
          ],
          [
           "Ryan Weaver",
           "0:16",
           "0:01",
           "O-Point",
           "Hold",
           0,
           "",
           ""
          ],
          [
           "Ryan Weaver",
           "4:48",
           "3:33",
           "O-Point",
           "Opponent Break",
           1,
           "",
           ""
          ],
          [
           "Ryan Weaver",
           "7:29",
           "6:21",
           "O-Point",
           "Hold",
           0,
           "",
           ""
          ],
          [
           "Ryan Weaver",
           "9:03",
           "8:09",
           "O-Point",
           "Hold",
           0,
           "",
           ""
          ],
          [
           "Ryan Weaver",
           "9:34",
           "7:46",
           "O-Point",
           "Hold",
           2,
           "",
           ""
          ],
          [
           "Elliott Chartock",
           "1:07",
           "0:00",
           "O-Point",
           "Hold",
           0,
           "",
           ""
          ],
          [
           "Elliott Chartock",
           "3:24",
           "2:41",
           "O-Point",
           "Opponent Break",
           1,
           "",
           " (Injury)"
          ],
          [
           "Elliott Chartock",
           "2:41",
           "1:59",
           "O-Point",
           "Opponent Break",
           1,
           " (Injury)",
           " (Timeout)"
          ],
          [
           "Elliott Chartock",
           "6:50",
           "5:55",
           "O-Point",
           "Hold",
           0,
           "",
           ""
          ],
          [
           "Elliott Chartock",
           "12:00",
           "10:34",
           "O-Point",
           "Hold",
           0,
           "",
           ""
          ],
          [
           "Elliott Chartock",
           "2:20",
           "0:22",
           "O-Point",
           "Opponent Break",
           1,
           "",
           ""
          ],
          [
           "Elliott Chartock",
           "4:42",
           "2:59",
           "O-Point",
           "Hold",
           0,
           "",
           ""
          ],
          [
           "Elliott Chartock",
           "9:34",
           "7:46",
           "O-Point",
           "Hold",
           2,
           "",
           ""
          ],
          [
           "Elliott Chartock",
           "10:56",
           "10:05",
           "O-Point",
           "Opponent Break",
           1,
           "",
           " (Timeout)"
          ],
          [
           "Elliott Chartock",
           "4:51",
           "3:57",
           "O-Point",
           "Hold",
           2,
           "",
           " (Timeout)"
          ],
          [
           "Elliott Chartock",
           "9:18",
           "8:08",
           "O-Point",
           "Hold",
           0,
           "",
           ""
          ],
          [
           "Elliott Chartock",
           "6:46",
           "5:51",
           "O-Point",
           "Hold",
           2,
           "",
           ""
          ],
          [
           "Elliott Chartock",
           "3:33",
           "3:03",
           "O-Point",
           "Hold",
           0,
           "",
           ""
          ],
          [
           "Elliott Chartock",
           "4:48",
           "3:33",
           "O-Point",
           "Opponent Break",
           1,
           "",
           ""
          ],
          [
           "Elliott Chartock",
           "7:29",
           "6:21",
           "O-Point",
           "Hold",
           0,
           "",
           ""
          ],
          [
           "Elliott Chartock",
           "9:03",
           "8:09",
           "O-Point",
           "Hold",
           0,
           "",
           ""
          ],
          [
           "Elliott Chartock",
           "12:00",
           "10:46",
           "O-Point",
           "Hold",
           0,
           "",
           ""
          ],
          [
           "Elliott Chartock",
           "5:15",
           "4:43",
           "O-Point",
           "Hold",
           0,
           "",
           ""
          ],
          [
           "Conor Kline",
           "5:15",
           "4:43",
           "O-Point",
           "Hold",
           0,
           "",
           ""
          ],
          [
           "Conor Kline",
           "4:51",
           "3:57",
           "O-Point",
           "Hold",
           2,
           "",
           " (Timeout)"
          ],
          [
           "Conor Kline",
           "6:50",
           "5:55",
           "O-Point",
           "Hold",
           0,
           "",
           ""
          ],
          [
           "Conor Kline",
           "9:18",
           "8:08",
           "O-Point",
           "Hold",
           0,
           "",
           ""
          ],
          [
           "Conor Kline",
           "4:42",
           "2:59",
           "O-Point",
           "Hold",
           0,
           "",
           ""
          ],
          [
           "Conor Kline",
           "2:20",
           "0:22",
           "O-Point",
           "Opponent Break",
           1,
           "",
           ""
          ],
          [
           "Conor Kline",
           "9:03",
           "8:09",
           "O-Point",
           "Hold",
           0,
           "",
           ""
          ],
          [
           "Conor Kline",
           "4:48",
           "3:33",
           "O-Point",
           "Opponent Break",
           1,
           "",
           ""
          ],
          [
           "Conor Kline",
           "3:33",
           "3:03",
           "O-Point",
           "Hold",
           0,
           "",
           ""
          ],
          [
           "Conor Kline",
           "12:00",
           "10:46",
           "O-Point",
           "Hold",
           0,
           "",
           ""
          ],
          [
           "Conor Kline",
           "6:46",
           "5:51",
           "O-Point",
           "Hold",
           2,
           "",
           ""
          ],
          [
           "Conor Kline",
           "10:56",
           "10:05",
           "O-Point",
           "Opponent Break",
           1,
           "",
           " (Timeout)"
          ],
          [
           "Conor Kline",
           "9:34",
           "7:46",
           "O-Point",
           "Hold",
           2,
           "",
           ""
          ],
          [
           "Conor Kline",
           "7:29",
           "6:21",
           "O-Point",
           "Hold",
           0,
           "",
           ""
          ],
          [
           "Conor Kline",
           "3:24",
           "2:41",
           "O-Point",
           "Opponent Break",
           1,
           "",
           " (Injury)"
          ],
          [
           "Conor Kline",
           "1:07",
           "0:00",
           "O-Point",
           "Hold",
           0,
           "",
           ""
          ],
          [
           "Conor Kline",
           "12:00",
           "10:34",
           "O-Point",
           "Hold",
           0,
           "",
           ""
          ],
          [
           "Jeff Babbitt",
           "3:57",
           "3:25",
           "O-Point",
           "Hold",
           2,
           " (Timeout)",
           ""
          ],
          [
           "Jeff Babbitt",
           "0:16",
           "0:01",
           "O-Point",
           "Hold",
           0,
           "",
           ""
          ],
          [
           "Jeff Babbitt",
           "0:22",
           "0:00",
           "O-Point",
           "End of Quarter",
           0,
           "",
           ""
          ],
          [
           "Jeff Babbitt",
           "10:05",
           "9:34",
           "O-Point",
           "Opponent Break",
           1,
           " (Timeout)",
           ""
          ],
          [
           "Jeff Babbitt",
           "0:22",
           "0:00",
           "O-Point",
           "Hold",
           0,
           "",
           ""
          ],
          [
           "Jeff Babbitt",
           "2:41",
           "1:59",
           "O-Point",
           "Opponent Break",
           1,
           " (Injury)",
           " (Timeout)"
          ],
          [
           "Jeff Babbitt",
           "1:59",
           "1:07",
           "O-Point",
           "Opponent Break",
           1,
           " (Timeout)",
           ""
          ],
          [
           "Ben Katz",
           "0:22",
           "0:00",
           "O-Point",
           "Hold",
           0,
           "",
           ""
          ],
          [
           "Ben Katz",
           "1:59",
           "1:07",
           "O-Point",
           "Opponent Break",
           1,
           " (Timeout)",
           ""
          ],
          [
           "Ben Katz",
           "10:05",
           "9:34",
           "O-Point",
           "Opponent Break",
           1,
           " (Timeout)",
           ""
          ],
          [
           "Ben Katz",
           "0:22",
           "0:00",
           "O-Point",
           "End of Quarter",
           0,
           "",
           ""
          ],
          [
           "Ben Katz",
           "3:57",
           "3:25",
           "O-Point",
           "Hold",
           2,
           " (Timeout)",
           ""
          ],
          [
           "Ben Katz",
           "0:16",
           "0:01",
           "O-Point",
           "Hold",
           0,
           "",
           ""
          ],
          [
           "Ben Katz",
           "3:33",
           "3:03",
           "O-Point",
           "Hold",
           0,
           "",
           ""
          ],
          [
           "Ben Katz",
           "1:07",
           "0:00",
           "O-Point",
           "Hold",
           0,
           "",
           ""
          ],
          [
           "Mike Drost",
           "3:57",
           "3:25",
           "O-Point",
           "Hold",
           2,
           " (Timeout)",
           ""
          ],
          [
           "Mike Drost",
           "10:05",
           "9:34",
           "O-Point",
           "Opponent Break",
           1,
           " (Timeout)",
           ""
          ],
          [
           "Mike Drost",
           "1:59",
           "1:07",
           "O-Point",
           "Opponent Break",
           1,
           " (Timeout)",
           ""
          ],
          [
           "Ryan Drost",
           "1:59",
           "1:07",
           "O-Point",
           "Opponent Break",
           1,
           " (Timeout)",
           ""
          ],
          [
           "Ryan Drost",
           "10:05",
           "9:34",
           "O-Point",
           "Opponent Break",
           1,
           " (Timeout)",
           ""
          ],
          [
           "Ryan Drost",
           "3:57",
           "3:25",
           "O-Point",
           "Hold",
           2,
           " (Timeout)",
           ""
          ],
          [
           "Josue Alorro",
           "10:05",
           "9:34",
           "O-Point",
           "Opponent Break",
           1,
           " (Timeout)",
           ""
          ],
          [
           "Marques Brownlee",
           "10:05",
           "9:34",
           "O-Point",
           "Opponent Break",
           1,
           " (Timeout)",
           ""
          ],
          [
           "Matt LeMar",
           "1:59",
           "1:07",
           "O-Point",
           "Opponent Break",
           1,
           " (Timeout)",
           ""
          ],
          [
           "Matt LeMar",
           "10:05",
           "9:34",
           "O-Point",
           "Opponent Break",
           1,
           " (Timeout)",
           ""
          ]
         ],
         "hovertemplate": "%{customdata[0]}<br>Segment Start: %{customdata[1]}%{customdata[6]}<br>Segment End: %{customdata[2]}%{customdata[7]}<br>Initial Possession: %{customdata[3]}<br>Outcome: %{customdata[4]}<br>Total Turns During Point: %{customdata[5]}<br><extra></extra>",
         "legendgroup": "O-Point",
         "marker": {
          "color": "#636efa"
         },
         "name": "O-Point",
         "offsetgroup": "O-Point",
         "orientation": "h",
         "showlegend": true,
         "textposition": "auto",
         "type": "bar",
         "x": [
          32,
          55,
          70,
          68,
          75,
          74,
          15,
          54,
          55,
          30,
          32,
          54,
          42.5,
          52,
          67,
          42.5,
          51,
          108,
          103,
          118,
          22,
          86,
          22,
          118,
          70,
          108,
          51,
          22,
          75,
          30,
          22,
          74,
          103,
          32,
          54,
          55,
          15,
          86,
          55,
          54,
          68,
          67,
          52,
          42.5,
          42.5,
          32,
          30,
          15,
          54,
          68,
          75,
          103,
          22,
          51,
          108,
          32,
          54,
          55,
          118,
          86,
          70,
          22,
          67,
          42.5,
          42.5,
          32,
          55,
          74,
          22,
          54,
          70,
          108,
          75,
          103,
          22,
          68,
          118,
          30,
          15,
          55,
          42.5,
          67,
          42.5,
          54,
          55,
          86,
          74,
          32,
          51,
          118,
          86,
          70,
          32,
          55,
          51,
          22,
          54,
          74,
          55,
          42.5,
          42.5,
          22,
          103,
          15,
          75,
          68,
          54,
          108,
          67,
          42.5,
          42.5,
          55,
          86,
          118,
          103,
          108,
          51,
          54,
          70,
          55,
          30,
          75,
          68,
          54,
          74,
          32,
          32,
          54,
          55,
          70,
          103,
          118,
          54,
          75,
          30,
          74,
          55,
          51,
          108,
          68,
          42.5,
          67,
          86,
          32,
          15,
          22,
          31,
          22,
          42.5,
          52,
          22,
          52,
          31,
          22,
          32,
          15,
          30,
          67,
          32,
          31,
          52,
          52,
          31,
          32,
          31,
          31,
          52,
          31
         ],
         "xaxis": "x",
         "y": [
          "Ben Jagt",
          "Ben Jagt",
          "Ben Jagt",
          "Ben Jagt",
          "Ben Jagt",
          "Ben Jagt",
          "Ben Jagt",
          "Ben Jagt",
          "Ben Jagt",
          "Ben Jagt",
          "Ben Jagt",
          "Ben Jagt",
          "Ben Jagt",
          "Ben Jagt",
          "Ben Jagt",
          "Ben Jagt",
          "Ben Jagt",
          "Ben Jagt",
          "Ben Jagt",
          "Ben Jagt",
          "Ben Jagt",
          "Ben Jagt",
          "Ben Jagt",
          "Jack Williams",
          "Jack Williams",
          "Jack Williams",
          "Jack Williams",
          "Jack Williams",
          "Jack Williams",
          "Jack Williams",
          "Jack Williams",
          "Jack Williams",
          "Jack Williams",
          "Jack Williams",
          "Jack Williams",
          "Jack Williams",
          "Jack Williams",
          "Jack Williams",
          "Jack Williams",
          "Jack Williams",
          "Jack Williams",
          "Jack Williams",
          "Jack Williams",
          "Jack Williams",
          "Jack Williams",
          "Jack Williams",
          "Ryan Osgar",
          "Ryan Osgar",
          "Ryan Osgar",
          "Ryan Osgar",
          "Ryan Osgar",
          "Ryan Osgar",
          "Ryan Osgar",
          "Ryan Osgar",
          "Ryan Osgar",
          "Ryan Osgar",
          "Ryan Osgar",
          "Ryan Osgar",
          "Ryan Osgar",
          "Ryan Osgar",
          "Ryan Osgar",
          "Ryan Osgar",
          "Ryan Osgar",
          "Ryan Osgar",
          "Ryan Osgar",
          "Ryan Osgar",
          "Ryan Osgar",
          "Ryan Osgar",
          "John Lithio",
          "John Lithio",
          "John Lithio",
          "John Lithio",
          "John Lithio",
          "John Lithio",
          "John Lithio",
          "John Lithio",
          "John Lithio",
          "John Lithio",
          "John Lithio",
          "John Lithio",
          "John Lithio",
          "John Lithio",
          "John Lithio",
          "John Lithio",
          "John Lithio",
          "John Lithio",
          "John Lithio",
          "John Lithio",
          "John Lithio",
          "Ryan Weaver",
          "Ryan Weaver",
          "Ryan Weaver",
          "Ryan Weaver",
          "Ryan Weaver",
          "Ryan Weaver",
          "Ryan Weaver",
          "Ryan Weaver",
          "Ryan Weaver",
          "Ryan Weaver",
          "Ryan Weaver",
          "Ryan Weaver",
          "Ryan Weaver",
          "Ryan Weaver",
          "Ryan Weaver",
          "Ryan Weaver",
          "Ryan Weaver",
          "Ryan Weaver",
          "Ryan Weaver",
          "Elliott Chartock",
          "Elliott Chartock",
          "Elliott Chartock",
          "Elliott Chartock",
          "Elliott Chartock",
          "Elliott Chartock",
          "Elliott Chartock",
          "Elliott Chartock",
          "Elliott Chartock",
          "Elliott Chartock",
          "Elliott Chartock",
          "Elliott Chartock",
          "Elliott Chartock",
          "Elliott Chartock",
          "Elliott Chartock",
          "Elliott Chartock",
          "Elliott Chartock",
          "Elliott Chartock",
          "Conor Kline",
          "Conor Kline",
          "Conor Kline",
          "Conor Kline",
          "Conor Kline",
          "Conor Kline",
          "Conor Kline",
          "Conor Kline",
          "Conor Kline",
          "Conor Kline",
          "Conor Kline",
          "Conor Kline",
          "Conor Kline",
          "Conor Kline",
          "Conor Kline",
          "Conor Kline",
          "Conor Kline",
          "Jeff Babbitt",
          "Jeff Babbitt",
          "Jeff Babbitt",
          "Jeff Babbitt",
          "Jeff Babbitt",
          "Jeff Babbitt",
          "Jeff Babbitt",
          "Ben Katz",
          "Ben Katz",
          "Ben Katz",
          "Ben Katz",
          "Ben Katz",
          "Ben Katz",
          "Ben Katz",
          "Ben Katz",
          "Mike Drost",
          "Mike Drost",
          "Mike Drost",
          "Ryan Drost",
          "Ryan Drost",
          "Ryan Drost",
          "Josue Alorro",
          "Marques Brownlee",
          "Matt LeMar",
          "Matt LeMar"
         ],
         "yaxis": "y"
        },
        {
         "alignmentgroup": "True",
         "base": [
          657,
          719,
          982,
          1314,
          719,
          657,
          1314,
          657,
          1314,
          1314,
          657,
          1314,
          657,
          1314,
          657,
          1089,
          1440,
          0,
          339,
          537,
          657,
          679,
          794,
          719,
          1359,
          1314,
          1235,
          1794,
          1981,
          2525,
          2597,
          2246,
          1794,
          1981,
          0,
          2246,
          2525,
          2597,
          1440,
          1359,
          1235,
          1089,
          794,
          719,
          537,
          339,
          679,
          1359,
          1235,
          1089,
          794,
          719,
          679,
          537,
          339,
          0,
          1794,
          1981,
          2246,
          1440,
          231,
          2597,
          2525,
          2597,
          2525,
          2246,
          1981,
          1794,
          1440,
          1359,
          1235,
          1089,
          794,
          719,
          679,
          537,
          0,
          339,
          1440,
          1694,
          1794,
          2597,
          2525,
          2392,
          2246,
          0,
          231,
          679,
          794,
          1089,
          1235,
          1359,
          537,
          2597,
          2525,
          2246,
          1981,
          1794,
          1359,
          1235,
          1089,
          794,
          719,
          679,
          537,
          339,
          0,
          1440,
          794,
          2597,
          2525,
          2246,
          1981,
          1794,
          1440,
          1359,
          1235,
          339,
          0,
          1089,
          679,
          537,
          2392,
          1694,
          339,
          982,
          231,
          2392,
          1694,
          982,
          231,
          982,
          2392,
          1694,
          231,
          1694,
          231,
          982,
          2392,
          2392,
          231,
          1694,
          982,
          982,
          1694,
          1981,
          2392
         ],
         "customdata": [
          [
           "Ben Jagt",
           "1:03",
           "0:41",
           "D-Point",
           "Break",
           1,
           " (Timeout)",
           ""
          ],
          [
           "Ben Jagt",
           "0:01",
           "0:00",
           "D-Point",
           "End of Quarter",
           0,
           "",
           ""
          ],
          [
           "Ben Jagt",
           "7:38",
           "6:46",
           "D-Point",
           "Opponent Hold",
           0,
           "",
           ""
          ],
          [
           "Ben Jagt",
           "2:06",
           "1:21",
           "D-Point",
           "Break",
           1,
           " (Timeout)",
           ""
          ],
          [
           "Jack Williams",
           "0:01",
           "0:00",
           "D-Point",
           "End of Quarter",
           0,
           "",
           ""
          ],
          [
           "Jack Williams",
           "1:03",
           "0:41",
           "D-Point",
           "Break",
           1,
           " (Timeout)",
           ""
          ],
          [
           "Jack Williams",
           "2:06",
           "1:21",
           "D-Point",
           "Break",
           1,
           " (Timeout)",
           ""
          ],
          [
           "Ryan Osgar",
           "1:03",
           "0:41",
           "D-Point",
           "Break",
           1,
           " (Timeout)",
           ""
          ],
          [
           "Ryan Osgar",
           "2:06",
           "1:21",
           "D-Point",
           "Break",
           1,
           " (Timeout)",
           ""
          ],
          [
           "John Lithio",
           "2:06",
           "1:21",
           "D-Point",
           "Break",
           1,
           " (Timeout)",
           ""
          ],
          [
           "John Lithio",
           "1:03",
           "0:41",
           "D-Point",
           "Break",
           1,
           " (Timeout)",
           ""
          ],
          [
           "Ryan Weaver",
           "2:06",
           "1:21",
           "D-Point",
           "Break",
           1,
           " (Timeout)",
           ""
          ],
          [
           "Ryan Weaver",
           "1:03",
           "0:41",
           "D-Point",
           "Break",
           1,
           " (Timeout)",
           ""
          ],
          [
           "Elliott Chartock",
           "2:06",
           "1:21",
           "D-Point",
           "Break",
           1,
           " (Timeout)",
           ""
          ],
          [
           "Elliott Chartock",
           "1:03",
           "0:41",
           "D-Point",
           "Break",
           1,
           " (Timeout)",
           ""
          ],
          [
           "Jeff Babbitt",
           "5:51",
           "4:51",
           "D-Point",
           "Opponent Hold",
           0,
           "",
           ""
          ],
          [
           "Jeff Babbitt",
           "12:00",
           "10:56",
           "D-Point",
           "Opponent Hold",
           0,
           "",
           ""
          ],
          [
           "Jeff Babbitt",
           "12:00",
           "9:03",
           "D-Point",
           "Opponent Hold",
           2,
           "",
           ""
          ],
          [
           "Jeff Babbitt",
           "6:21",
           "4:48",
           "D-Point",
           "Opponent Hold",
           0,
           "",
           ""
          ],
          [
           "Jeff Babbitt",
           "3:03",
           "1:03",
           "D-Point",
           "Break",
           1,
           "",
           " (Timeout)"
          ],
          [
           "Jeff Babbitt",
           "1:03",
           "0:41",
           "D-Point",
           "Break",
           1,
           " (Timeout)",
           ""
          ],
          [
           "Jeff Babbitt",
           "0:41",
           "0:16",
           "D-Point",
           "Opponent Hold",
           0,
           "",
           ""
          ],
          [
           "Jeff Babbitt",
           "10:46",
           "7:38",
           "D-Point",
           "Break",
           3,
           "",
           ""
          ],
          [
           "Jeff Babbitt",
           "0:01",
           "0:00",
           "D-Point",
           "End of Quarter",
           0,
           "",
           ""
          ],
          [
           "Jeff Babbitt",
           "1:21",
           "0:22",
           "D-Point",
           "Opponent Hold",
           0,
           "",
           ""
          ],
          [
           "Jeff Babbitt",
           "2:06",
           "1:21",
           "D-Point",
           "Break",
           1,
           " (Timeout)",
           ""
          ],
          [
           "Jeff Babbitt",
           "3:25",
           "2:06",
           "D-Point",
           "Break",
           1,
           "",
           " (Timeout)"
          ],
          [
           "Jeff Babbitt",
           "6:06",
           "4:42",
           "D-Point",
           "Opponent Hold",
           0,
           "",
           ""
          ],
          [
           "Jeff Babbitt",
           "2:59",
           "2:20",
           "D-Point",
           "Opponent Hold",
           0,
           "",
           ""
          ],
          [
           "Jeff Babbitt",
           "5:55",
           "5:15",
           "D-Point",
           "Opponent Hold",
           0,
           "",
           ""
          ],
          [
           "Jeff Babbitt",
           "4:43",
           "3:24",
           "D-Point",
           "Opponent Hold",
           0,
           "",
           ""
          ],
          [
           "Jeff Babbitt",
           "10:34",
           "9:18",
           "D-Point",
           "Opponent Hold",
           0,
           "",
           ""
          ],
          [
           "Ben Katz",
           "6:06",
           "4:42",
           "D-Point",
           "Opponent Hold",
           0,
           "",
           ""
          ],
          [
           "Ben Katz",
           "2:59",
           "2:20",
           "D-Point",
           "Opponent Hold",
           0,
           "",
           ""
          ],
          [
           "Ben Katz",
           "12:00",
           "9:03",
           "D-Point",
           "Opponent Hold",
           2,
           "",
           ""
          ],
          [
           "Ben Katz",
           "10:34",
           "9:18",
           "D-Point",
           "Opponent Hold",
           0,
           "",
           ""
          ],
          [
           "Ben Katz",
           "5:55",
           "5:15",
           "D-Point",
           "Opponent Hold",
           0,
           "",
           ""
          ],
          [
           "Ben Katz",
           "4:43",
           "3:24",
           "D-Point",
           "Opponent Hold",
           0,
           "",
           ""
          ],
          [
           "Ben Katz",
           "12:00",
           "10:56",
           "D-Point",
           "Opponent Hold",
           0,
           "",
           ""
          ],
          [
           "Ben Katz",
           "1:21",
           "0:22",
           "D-Point",
           "Opponent Hold",
           0,
           "",
           ""
          ],
          [
           "Ben Katz",
           "3:25",
           "2:06",
           "D-Point",
           "Break",
           1,
           "",
           " (Timeout)"
          ],
          [
           "Ben Katz",
           "5:51",
           "4:51",
           "D-Point",
           "Opponent Hold",
           0,
           "",
           ""
          ],
          [
           "Ben Katz",
           "10:46",
           "7:38",
           "D-Point",
           "Break",
           3,
           "",
           ""
          ],
          [
           "Ben Katz",
           "0:01",
           "0:00",
           "D-Point",
           "End of Quarter",
           0,
           "",
           ""
          ],
          [
           "Ben Katz",
           "3:03",
           "1:03",
           "D-Point",
           "Break",
           1,
           "",
           " (Timeout)"
          ],
          [
           "Ben Katz",
           "6:21",
           "4:48",
           "D-Point",
           "Opponent Hold",
           0,
           "",
           ""
          ],
          [
           "Ben Katz",
           "0:41",
           "0:16",
           "D-Point",
           "Opponent Hold",
           0,
           "",
           ""
          ],
          [
           "Mike Drost",
           "1:21",
           "0:22",
           "D-Point",
           "Opponent Hold",
           0,
           "",
           ""
          ],
          [
           "Mike Drost",
           "3:25",
           "2:06",
           "D-Point",
           "Break",
           1,
           "",
           " (Timeout)"
          ],
          [
           "Mike Drost",
           "5:51",
           "4:51",
           "D-Point",
           "Opponent Hold",
           0,
           "",
           ""
          ],
          [
           "Mike Drost",
           "10:46",
           "7:38",
           "D-Point",
           "Break",
           3,
           "",
           ""
          ],
          [
           "Mike Drost",
           "0:01",
           "0:00",
           "D-Point",
           "End of Quarter",
           0,
           "",
           ""
          ],
          [
           "Mike Drost",
           "0:41",
           "0:16",
           "D-Point",
           "Opponent Hold",
           0,
           "",
           ""
          ],
          [
           "Mike Drost",
           "3:03",
           "1:03",
           "D-Point",
           "Break",
           1,
           "",
           " (Timeout)"
          ],
          [
           "Mike Drost",
           "6:21",
           "4:48",
           "D-Point",
           "Opponent Hold",
           0,
           "",
           ""
          ],
          [
           "Mike Drost",
           "12:00",
           "9:03",
           "D-Point",
           "Opponent Hold",
           2,
           "",
           ""
          ],
          [
           "Mike Drost",
           "6:06",
           "4:42",
           "D-Point",
           "Opponent Hold",
           0,
           "",
           ""
          ],
          [
           "Mike Drost",
           "2:59",
           "2:20",
           "D-Point",
           "Opponent Hold",
           0,
           "",
           ""
          ],
          [
           "Mike Drost",
           "10:34",
           "9:18",
           "D-Point",
           "Opponent Hold",
           0,
           "",
           ""
          ],
          [
           "Mike Drost",
           "12:00",
           "10:56",
           "D-Point",
           "Opponent Hold",
           0,
           "",
           ""
          ],
          [
           "Mike Drost",
           "8:09",
           "7:29",
           "D-Point",
           "Opponent Hold",
           0,
           "",
           ""
          ],
          [
           "Mike Drost",
           "4:43",
           "3:24",
           "D-Point",
           "Opponent Hold",
           0,
           "",
           ""
          ],
          [
           "Mike Drost",
           "5:55",
           "5:15",
           "D-Point",
           "Opponent Hold",
           0,
           "",
           ""
          ],
          [
           "Ryan Drost",
           "4:43",
           "3:24",
           "D-Point",
           "Opponent Hold",
           0,
           "",
           ""
          ],
          [
           "Ryan Drost",
           "5:55",
           "5:15",
           "D-Point",
           "Opponent Hold",
           0,
           "",
           ""
          ],
          [
           "Ryan Drost",
           "10:34",
           "9:18",
           "D-Point",
           "Opponent Hold",
           0,
           "",
           ""
          ],
          [
           "Ryan Drost",
           "2:59",
           "2:20",
           "D-Point",
           "Opponent Hold",
           0,
           "",
           ""
          ],
          [
           "Ryan Drost",
           "6:06",
           "4:42",
           "D-Point",
           "Opponent Hold",
           0,
           "",
           ""
          ],
          [
           "Ryan Drost",
           "12:00",
           "10:56",
           "D-Point",
           "Opponent Hold",
           0,
           "",
           ""
          ],
          [
           "Ryan Drost",
           "1:21",
           "0:22",
           "D-Point",
           "Opponent Hold",
           0,
           "",
           ""
          ],
          [
           "Ryan Drost",
           "3:25",
           "2:06",
           "D-Point",
           "Break",
           1,
           "",
           " (Timeout)"
          ],
          [
           "Ryan Drost",
           "5:51",
           "4:51",
           "D-Point",
           "Opponent Hold",
           0,
           "",
           ""
          ],
          [
           "Ryan Drost",
           "10:46",
           "7:38",
           "D-Point",
           "Break",
           3,
           "",
           ""
          ],
          [
           "Ryan Drost",
           "0:01",
           "0:00",
           "D-Point",
           "End of Quarter",
           0,
           "",
           ""
          ],
          [
           "Ryan Drost",
           "0:41",
           "0:16",
           "D-Point",
           "Opponent Hold",
           0,
           "",
           ""
          ],
          [
           "Ryan Drost",
           "3:03",
           "1:03",
           "D-Point",
           "Break",
           1,
           "",
           " (Timeout)"
          ],
          [
           "Ryan Drost",
           "12:00",
           "9:03",
           "D-Point",
           "Opponent Hold",
           2,
           "",
           ""
          ],
          [
           "Ryan Drost",
           "6:21",
           "4:48",
           "D-Point",
           "Opponent Hold",
           0,
           "",
           ""
          ],
          [
           "Josue Alorro",
           "12:00",
           "10:56",
           "D-Point",
           "Opponent Hold",
           0,
           "",
           ""
          ],
          [
           "Josue Alorro",
           "7:46",
           "6:06",
           "D-Point",
           "Break",
           1,
           "",
           ""
          ],
          [
           "Josue Alorro",
           "6:06",
           "4:42",
           "D-Point",
           "Opponent Hold",
           0,
           "",
           ""
          ],
          [
           "Josue Alorro",
           "4:43",
           "3:24",
           "D-Point",
           "Opponent Hold",
           0,
           "",
           ""
          ],
          [
           "Josue Alorro",
           "5:55",
           "5:15",
           "D-Point",
           "Opponent Hold",
           0,
           "",
           ""
          ],
          [
           "Josue Alorro",
           "8:08",
           "6:50",
           "D-Point",
           "Opponent Hold",
           0,
           "",
           ""
          ],
          [
           "Josue Alorro",
           "10:34",
           "9:18",
           "D-Point",
           "Opponent Hold",
           0,
           "",
           ""
          ],
          [
           "Josue Alorro",
           "12:00",
           "9:03",
           "D-Point",
           "Opponent Hold",
           2,
           "",
           ""
          ],
          [
           "Josue Alorro",
           "8:09",
           "7:29",
           "D-Point",
           "Opponent Hold",
           0,
           "",
           ""
          ],
          [
           "Josue Alorro",
           "0:41",
           "0:16",
           "D-Point",
           "Opponent Hold",
           0,
           "",
           ""
          ],
          [
           "Josue Alorro",
           "10:46",
           "7:38",
           "D-Point",
           "Break",
           3,
           "",
           ""
          ],
          [
           "Josue Alorro",
           "5:51",
           "4:51",
           "D-Point",
           "Opponent Hold",
           0,
           "",
           ""
          ],
          [
           "Josue Alorro",
           "3:25",
           "2:06",
           "D-Point",
           "Break",
           1,
           "",
           " (Timeout)"
          ],
          [
           "Josue Alorro",
           "1:21",
           "0:22",
           "D-Point",
           "Opponent Hold",
           0,
           "",
           ""
          ],
          [
           "Josue Alorro",
           "3:03",
           "1:03",
           "D-Point",
           "Break",
           1,
           "",
           " (Timeout)"
          ],
          [
           "Marques Brownlee",
           "4:43",
           "3:24",
           "D-Point",
           "Opponent Hold",
           0,
           "",
           ""
          ],
          [
           "Marques Brownlee",
           "5:55",
           "5:15",
           "D-Point",
           "Opponent Hold",
           0,
           "",
           ""
          ],
          [
           "Marques Brownlee",
           "10:34",
           "9:18",
           "D-Point",
           "Opponent Hold",
           0,
           "",
           ""
          ],
          [
           "Marques Brownlee",
           "2:59",
           "2:20",
           "D-Point",
           "Opponent Hold",
           0,
           "",
           ""
          ],
          [
           "Marques Brownlee",
           "6:06",
           "4:42",
           "D-Point",
           "Opponent Hold",
           0,
           "",
           ""
          ],
          [
           "Marques Brownlee",
           "1:21",
           "0:22",
           "D-Point",
           "Opponent Hold",
           0,
           "",
           ""
          ],
          [
           "Marques Brownlee",
           "3:25",
           "2:06",
           "D-Point",
           "Break",
           1,
           "",
           " (Timeout)"
          ],
          [
           "Marques Brownlee",
           "5:51",
           "4:51",
           "D-Point",
           "Opponent Hold",
           0,
           "",
           ""
          ],
          [
           "Marques Brownlee",
           "10:46",
           "7:38",
           "D-Point",
           "Break",
           3,
           "",
           ""
          ],
          [
           "Marques Brownlee",
           "0:01",
           "0:00",
           "D-Point",
           "End of Quarter",
           0,
           "",
           ""
          ],
          [
           "Marques Brownlee",
           "0:41",
           "0:16",
           "D-Point",
           "Opponent Hold",
           0,
           "",
           ""
          ],
          [
           "Marques Brownlee",
           "3:03",
           "1:03",
           "D-Point",
           "Break",
           1,
           "",
           " (Timeout)"
          ],
          [
           "Marques Brownlee",
           "6:21",
           "4:48",
           "D-Point",
           "Opponent Hold",
           0,
           "",
           ""
          ],
          [
           "Marques Brownlee",
           "12:00",
           "9:03",
           "D-Point",
           "Opponent Hold",
           2,
           "",
           ""
          ],
          [
           "Marques Brownlee",
           "12:00",
           "10:56",
           "D-Point",
           "Opponent Hold",
           0,
           "",
           ""
          ],
          [
           "Matt LeMar",
           "10:46",
           "7:38",
           "D-Point",
           "Break",
           3,
           "",
           ""
          ],
          [
           "Matt LeMar",
           "4:43",
           "3:24",
           "D-Point",
           "Opponent Hold",
           0,
           "",
           ""
          ],
          [
           "Matt LeMar",
           "5:55",
           "5:15",
           "D-Point",
           "Opponent Hold",
           0,
           "",
           ""
          ],
          [
           "Matt LeMar",
           "10:34",
           "9:18",
           "D-Point",
           "Opponent Hold",
           0,
           "",
           ""
          ],
          [
           "Matt LeMar",
           "2:59",
           "2:20",
           "D-Point",
           "Opponent Hold",
           0,
           "",
           ""
          ],
          [
           "Matt LeMar",
           "6:06",
           "4:42",
           "D-Point",
           "Opponent Hold",
           0,
           "",
           ""
          ],
          [
           "Matt LeMar",
           "12:00",
           "10:56",
           "D-Point",
           "Opponent Hold",
           0,
           "",
           ""
          ],
          [
           "Matt LeMar",
           "1:21",
           "0:22",
           "D-Point",
           "Opponent Hold",
           0,
           "",
           ""
          ],
          [
           "Matt LeMar",
           "3:25",
           "2:06",
           "D-Point",
           "Break",
           1,
           "",
           " (Timeout)"
          ],
          [
           "Matt LeMar",
           "6:21",
           "4:48",
           "D-Point",
           "Opponent Hold",
           0,
           "",
           ""
          ],
          [
           "Matt LeMar",
           "12:00",
           "9:03",
           "D-Point",
           "Opponent Hold",
           2,
           "",
           ""
          ],
          [
           "Matt LeMar",
           "5:51",
           "4:51",
           "D-Point",
           "Opponent Hold",
           0,
           "",
           ""
          ],
          [
           "Matt LeMar",
           "0:41",
           "0:16",
           "D-Point",
           "Opponent Hold",
           0,
           "",
           ""
          ],
          [
           "Matt LeMar",
           "3:03",
           "1:03",
           "D-Point",
           "Break",
           1,
           "",
           " (Timeout)"
          ],
          [
           "TJ Stanton",
           "8:08",
           "6:50",
           "D-Point",
           "Opponent Hold",
           0,
           "",
           ""
          ],
          [
           "TJ Stanton",
           "7:46",
           "6:06",
           "D-Point",
           "Break",
           1,
           "",
           ""
          ],
          [
           "TJ Stanton",
           "6:21",
           "4:48",
           "D-Point",
           "Opponent Hold",
           0,
           "",
           ""
          ],
          [
           "TJ Stanton",
           "7:38",
           "6:46",
           "D-Point",
           "Opponent Hold",
           0,
           "",
           ""
          ],
          [
           "TJ Stanton",
           "8:09",
           "7:29",
           "D-Point",
           "Opponent Hold",
           0,
           "",
           ""
          ],
          [
           "Sam Feder",
           "8:08",
           "6:50",
           "D-Point",
           "Opponent Hold",
           0,
           "",
           ""
          ],
          [
           "Sam Feder",
           "7:46",
           "6:06",
           "D-Point",
           "Break",
           1,
           "",
           ""
          ],
          [
           "Sam Feder",
           "7:38",
           "6:46",
           "D-Point",
           "Opponent Hold",
           0,
           "",
           ""
          ],
          [
           "Sam Feder",
           "8:09",
           "7:29",
           "D-Point",
           "Opponent Hold",
           0,
           "",
           ""
          ],
          [
           "Angelo Olcese",
           "7:38",
           "6:46",
           "D-Point",
           "Opponent Hold",
           0,
           "",
           ""
          ],
          [
           "Angelo Olcese",
           "8:08",
           "6:50",
           "D-Point",
           "Opponent Hold",
           0,
           "",
           ""
          ],
          [
           "Angelo Olcese",
           "7:46",
           "6:06",
           "D-Point",
           "Break",
           1,
           "",
           ""
          ],
          [
           "Angelo Olcese",
           "8:09",
           "7:29",
           "D-Point",
           "Opponent Hold",
           0,
           "",
           ""
          ],
          [
           "Joe Ouellette",
           "7:46",
           "6:06",
           "D-Point",
           "Break",
           1,
           "",
           ""
          ],
          [
           "Joe Ouellette",
           "8:09",
           "7:29",
           "D-Point",
           "Opponent Hold",
           0,
           "",
           ""
          ],
          [
           "Joe Ouellette",
           "7:38",
           "6:46",
           "D-Point",
           "Opponent Hold",
           0,
           "",
           ""
          ],
          [
           "Joe Ouellette",
           "8:08",
           "6:50",
           "D-Point",
           "Opponent Hold",
           0,
           "",
           ""
          ],
          [
           "Solomon Rueschemeyer-Bailey",
           "8:08",
           "6:50",
           "D-Point",
           "Opponent Hold",
           0,
           "",
           ""
          ],
          [
           "Solomon Rueschemeyer-Bailey",
           "8:09",
           "7:29",
           "D-Point",
           "Opponent Hold",
           0,
           "",
           ""
          ],
          [
           "Solomon Rueschemeyer-Bailey",
           "7:46",
           "6:06",
           "D-Point",
           "Break",
           1,
           "",
           ""
          ],
          [
           "Solomon Rueschemeyer-Bailey",
           "7:38",
           "6:46",
           "D-Point",
           "Opponent Hold",
           0,
           "",
           ""
          ],
          [
           "Matt Stevens",
           "7:38",
           "6:46",
           "D-Point",
           "Opponent Hold",
           0,
           "",
           ""
          ],
          [
           "Matt Stevens",
           "7:46",
           "6:06",
           "D-Point",
           "Break",
           1,
           "",
           ""
          ],
          [
           "Matt Stevens",
           "2:59",
           "2:20",
           "D-Point",
           "Opponent Hold",
           0,
           "",
           ""
          ],
          [
           "Matt Stevens",
           "8:08",
           "6:50",
           "D-Point",
           "Opponent Hold",
           0,
           "",
           ""
          ]
         ],
         "hovertemplate": "%{customdata[0]}<br>Segment Start: %{customdata[1]}%{customdata[6]}<br>Segment End: %{customdata[2]}%{customdata[7]}<br>Initial Possession: %{customdata[3]}<br>Outcome: %{customdata[4]}<br>Total Turns During Point: %{customdata[5]}<br><extra></extra>",
         "legendgroup": "D-Point",
         "marker": {
          "color": "#EF553B"
         },
         "name": "D-Point",
         "offsetgroup": "D-Point",
         "orientation": "h",
         "showlegend": true,
         "textposition": "auto",
         "type": "bar",
         "x": [
          22,
          1,
          52,
          45,
          1,
          22,
          45,
          22,
          45,
          45,
          22,
          45,
          22,
          45,
          22,
          60,
          64,
          177,
          93,
          120,
          22,
          25,
          188,
          1,
          59,
          45,
          79,
          84,
          39,
          40,
          79,
          76,
          84,
          39,
          177,
          76,
          40,
          79,
          64,
          59,
          79,
          60,
          188,
          1,
          120,
          93,
          25,
          59,
          79,
          60,
          188,
          1,
          25,
          120,
          93,
          177,
          84,
          39,
          76,
          64,
          40,
          79,
          40,
          79,
          40,
          76,
          39,
          84,
          64,
          59,
          79,
          60,
          188,
          1,
          25,
          120,
          177,
          93,
          64,
          100,
          84,
          79,
          40,
          78,
          76,
          177,
          40,
          25,
          188,
          60,
          79,
          59,
          120,
          79,
          40,
          76,
          39,
          84,
          59,
          79,
          60,
          188,
          1,
          25,
          120,
          93,
          177,
          64,
          188,
          79,
          40,
          76,
          39,
          84,
          64,
          59,
          79,
          93,
          177,
          60,
          25,
          120,
          78,
          100,
          93,
          52,
          40,
          78,
          100,
          52,
          40,
          52,
          78,
          100,
          40,
          100,
          40,
          52,
          78,
          78,
          40,
          100,
          52,
          52,
          100,
          39,
          78
         ],
         "xaxis": "x",
         "y": [
          "Ben Jagt",
          "Ben Jagt",
          "Ben Jagt",
          "Ben Jagt",
          "Jack Williams",
          "Jack Williams",
          "Jack Williams",
          "Ryan Osgar",
          "Ryan Osgar",
          "John Lithio",
          "John Lithio",
          "Ryan Weaver",
          "Ryan Weaver",
          "Elliott Chartock",
          "Elliott Chartock",
          "Jeff Babbitt",
          "Jeff Babbitt",
          "Jeff Babbitt",
          "Jeff Babbitt",
          "Jeff Babbitt",
          "Jeff Babbitt",
          "Jeff Babbitt",
          "Jeff Babbitt",
          "Jeff Babbitt",
          "Jeff Babbitt",
          "Jeff Babbitt",
          "Jeff Babbitt",
          "Jeff Babbitt",
          "Jeff Babbitt",
          "Jeff Babbitt",
          "Jeff Babbitt",
          "Jeff Babbitt",
          "Ben Katz",
          "Ben Katz",
          "Ben Katz",
          "Ben Katz",
          "Ben Katz",
          "Ben Katz",
          "Ben Katz",
          "Ben Katz",
          "Ben Katz",
          "Ben Katz",
          "Ben Katz",
          "Ben Katz",
          "Ben Katz",
          "Ben Katz",
          "Ben Katz",
          "Mike Drost",
          "Mike Drost",
          "Mike Drost",
          "Mike Drost",
          "Mike Drost",
          "Mike Drost",
          "Mike Drost",
          "Mike Drost",
          "Mike Drost",
          "Mike Drost",
          "Mike Drost",
          "Mike Drost",
          "Mike Drost",
          "Mike Drost",
          "Mike Drost",
          "Mike Drost",
          "Ryan Drost",
          "Ryan Drost",
          "Ryan Drost",
          "Ryan Drost",
          "Ryan Drost",
          "Ryan Drost",
          "Ryan Drost",
          "Ryan Drost",
          "Ryan Drost",
          "Ryan Drost",
          "Ryan Drost",
          "Ryan Drost",
          "Ryan Drost",
          "Ryan Drost",
          "Ryan Drost",
          "Josue Alorro",
          "Josue Alorro",
          "Josue Alorro",
          "Josue Alorro",
          "Josue Alorro",
          "Josue Alorro",
          "Josue Alorro",
          "Josue Alorro",
          "Josue Alorro",
          "Josue Alorro",
          "Josue Alorro",
          "Josue Alorro",
          "Josue Alorro",
          "Josue Alorro",
          "Josue Alorro",
          "Marques Brownlee",
          "Marques Brownlee",
          "Marques Brownlee",
          "Marques Brownlee",
          "Marques Brownlee",
          "Marques Brownlee",
          "Marques Brownlee",
          "Marques Brownlee",
          "Marques Brownlee",
          "Marques Brownlee",
          "Marques Brownlee",
          "Marques Brownlee",
          "Marques Brownlee",
          "Marques Brownlee",
          "Marques Brownlee",
          "Matt LeMar",
          "Matt LeMar",
          "Matt LeMar",
          "Matt LeMar",
          "Matt LeMar",
          "Matt LeMar",
          "Matt LeMar",
          "Matt LeMar",
          "Matt LeMar",
          "Matt LeMar",
          "Matt LeMar",
          "Matt LeMar",
          "Matt LeMar",
          "Matt LeMar",
          "TJ Stanton",
          "TJ Stanton",
          "TJ Stanton",
          "TJ Stanton",
          "TJ Stanton",
          "Sam Feder",
          "Sam Feder",
          "Sam Feder",
          "Sam Feder",
          "Angelo Olcese",
          "Angelo Olcese",
          "Angelo Olcese",
          "Angelo Olcese",
          "Joe Ouellette",
          "Joe Ouellette",
          "Joe Ouellette",
          "Joe Ouellette",
          "Solomon Rueschemeyer-Bailey",
          "Solomon Rueschemeyer-Bailey",
          "Solomon Rueschemeyer-Bailey",
          "Solomon Rueschemeyer-Bailey",
          "Matt Stevens",
          "Matt Stevens",
          "Matt Stevens",
          "Matt Stevens"
         ],
         "yaxis": "y"
        }
       ],
       "layout": {
        "barmode": "overlay",
        "coloraxis": {
         "colorbar": {
          "dtick": 1,
          "tick0": 0,
          "title": {
           "text": "Turns During Point"
          }
         },
         "colorscale": [
          [
           0,
           "rgb(150,150,150)"
          ],
          [
           0.33,
           "rgb(200,200,50)"
          ],
          [
           0.67,
           "rgb(200,100,50)"
          ],
          [
           1,
           "rgb(200,50,50)"
          ]
         ]
        },
        "font": {
         "family": "TW Cen MT"
        },
        "legend": {
         "title": {},
         "tracegroupgap": 0
        },
        "margin": {
         "t": 60
        },
        "shapes": [
         {
          "layer": "above",
          "line": {
           "color": "white",
           "dash": "solid",
           "width": 2
          },
          "type": "line",
          "x0": 0,
          "x1": 0,
          "xref": "x",
          "y0": 0,
          "y1": 1,
          "yref": "y domain"
         },
         {
          "layer": "above",
          "line": {
           "color": "white",
           "dash": "solid",
           "width": 2
          },
          "type": "line",
          "x0": 720,
          "x1": 720,
          "xref": "x",
          "y0": 0,
          "y1": 1,
          "yref": "y domain"
         },
         {
          "layer": "above",
          "line": {
           "color": "white",
           "dash": "solid",
           "width": 2
          },
          "type": "line",
          "x0": 1440,
          "x1": 1440,
          "xref": "x",
          "y0": 0,
          "y1": 1,
          "yref": "y domain"
         },
         {
          "layer": "above",
          "line": {
           "color": "white",
           "dash": "solid",
           "width": 2
          },
          "type": "line",
          "x0": 2160,
          "x1": 2160,
          "xref": "x",
          "y0": 0,
          "y1": 1,
          "yref": "y domain"
         },
         {
          "layer": "above",
          "line": {
           "color": "white",
           "dash": "solid",
           "width": 2
          },
          "type": "line",
          "x0": 2880,
          "x1": 2880,
          "xref": "x",
          "y0": 0,
          "y1": 1,
          "yref": "y domain"
         },
         {
          "layer": "above",
          "line": {
           "color": "white",
           "dash": "dash",
           "width": 2
          },
          "type": "line",
          "x0": 657,
          "x1": 657,
          "xref": "x",
          "y0": 0,
          "y1": 1,
          "yref": "y domain"
         },
         {
          "layer": "above",
          "line": {
           "color": "white",
           "dash": "dash",
           "width": 2
          },
          "type": "line",
          "x0": 1203,
          "x1": 1203,
          "xref": "x",
          "y0": 0,
          "y1": 1,
          "yref": "y domain"
         },
         {
          "layer": "above",
          "line": {
           "color": "white",
           "dash": "dash",
           "width": 2
          },
          "type": "line",
          "x0": 1314,
          "x1": 1314,
          "xref": "x",
          "y0": 0,
          "y1": 1,
          "yref": "y domain"
         },
         {
          "layer": "above",
          "line": {
           "color": "white",
           "dash": "dash",
           "width": 2
          },
          "type": "line",
          "x0": 1555,
          "x1": 1555,
          "xref": "x",
          "y0": 0,
          "y1": 1,
          "yref": "y domain"
         },
         {
          "layer": "above",
          "line": {
           "color": "white",
           "dash": "dash",
           "width": 2
          },
          "type": "line",
          "x0": 2761,
          "x1": 2761,
          "xref": "x",
          "y0": 0,
          "y1": 1,
          "yref": "y domain"
         },
         {
          "layer": "above",
          "line": {
           "color": "white",
           "dash": "dash",
           "width": 2
          },
          "type": "line",
          "x0": 2718.5,
          "x1": 2718.5,
          "xref": "x",
          "y0": 0,
          "y1": 1,
          "yref": "y domain"
         },
         {
          "fillcolor": "rgb(102,194,165)",
          "layer": "below",
          "line": {
           "width": 0
          },
          "opacity": 0.25,
          "type": "rect",
          "x0": 0,
          "x1": 1,
          "xref": "x domain",
          "y0": 12.5,
          "y1": 19.5,
          "yref": "y"
         },
         {
          "fillcolor": "rgb(252,141,98)",
          "layer": "below",
          "line": {
           "width": 0
          },
          "opacity": 0.25,
          "type": "rect",
          "x0": 0,
          "x1": 1,
          "xref": "x domain",
          "y0": 5.5,
          "y1": 12.5,
          "yref": "y"
         },
         {
          "fillcolor": "rgb(141,160,203)",
          "layer": "below",
          "line": {
           "width": 0
          },
          "opacity": 0.25,
          "type": "rect",
          "x0": 0,
          "x1": 1,
          "xref": "x domain",
          "y0": -0.5,
          "y1": 5.5,
          "yref": "y"
         }
        ],
        "template": {
         "data": {
          "bar": [
           {
            "error_x": {
             "color": "#2a3f5f"
            },
            "error_y": {
             "color": "#2a3f5f"
            },
            "marker": {
             "line": {
              "color": "#E5ECF6",
              "width": 0.5
             }
            },
            "type": "bar"
           }
          ],
          "barpolar": [
           {
            "marker": {
             "line": {
              "color": "#E5ECF6",
              "width": 0.5
             }
            },
            "type": "barpolar"
           }
          ],
          "carpet": [
           {
            "aaxis": {
             "endlinecolor": "#2a3f5f",
             "gridcolor": "white",
             "linecolor": "white",
             "minorgridcolor": "white",
             "startlinecolor": "#2a3f5f"
            },
            "baxis": {
             "endlinecolor": "#2a3f5f",
             "gridcolor": "white",
             "linecolor": "white",
             "minorgridcolor": "white",
             "startlinecolor": "#2a3f5f"
            },
            "type": "carpet"
           }
          ],
          "choropleth": [
           {
            "colorbar": {
             "outlinewidth": 0,
             "ticks": ""
            },
            "type": "choropleth"
           }
          ],
          "contour": [
           {
            "colorbar": {
             "outlinewidth": 0,
             "ticks": ""
            },
            "colorscale": [
             [
              0,
              "#0d0887"
             ],
             [
              0.1111111111111111,
              "#46039f"
             ],
             [
              0.2222222222222222,
              "#7201a8"
             ],
             [
              0.3333333333333333,
              "#9c179e"
             ],
             [
              0.4444444444444444,
              "#bd3786"
             ],
             [
              0.5555555555555556,
              "#d8576b"
             ],
             [
              0.6666666666666666,
              "#ed7953"
             ],
             [
              0.7777777777777778,
              "#fb9f3a"
             ],
             [
              0.8888888888888888,
              "#fdca26"
             ],
             [
              1,
              "#f0f921"
             ]
            ],
            "type": "contour"
           }
          ],
          "contourcarpet": [
           {
            "colorbar": {
             "outlinewidth": 0,
             "ticks": ""
            },
            "type": "contourcarpet"
           }
          ],
          "heatmap": [
           {
            "colorbar": {
             "outlinewidth": 0,
             "ticks": ""
            },
            "colorscale": [
             [
              0,
              "#0d0887"
             ],
             [
              0.1111111111111111,
              "#46039f"
             ],
             [
              0.2222222222222222,
              "#7201a8"
             ],
             [
              0.3333333333333333,
              "#9c179e"
             ],
             [
              0.4444444444444444,
              "#bd3786"
             ],
             [
              0.5555555555555556,
              "#d8576b"
             ],
             [
              0.6666666666666666,
              "#ed7953"
             ],
             [
              0.7777777777777778,
              "#fb9f3a"
             ],
             [
              0.8888888888888888,
              "#fdca26"
             ],
             [
              1,
              "#f0f921"
             ]
            ],
            "type": "heatmap"
           }
          ],
          "heatmapgl": [
           {
            "colorbar": {
             "outlinewidth": 0,
             "ticks": ""
            },
            "colorscale": [
             [
              0,
              "#0d0887"
             ],
             [
              0.1111111111111111,
              "#46039f"
             ],
             [
              0.2222222222222222,
              "#7201a8"
             ],
             [
              0.3333333333333333,
              "#9c179e"
             ],
             [
              0.4444444444444444,
              "#bd3786"
             ],
             [
              0.5555555555555556,
              "#d8576b"
             ],
             [
              0.6666666666666666,
              "#ed7953"
             ],
             [
              0.7777777777777778,
              "#fb9f3a"
             ],
             [
              0.8888888888888888,
              "#fdca26"
             ],
             [
              1,
              "#f0f921"
             ]
            ],
            "type": "heatmapgl"
           }
          ],
          "histogram": [
           {
            "marker": {
             "colorbar": {
              "outlinewidth": 0,
              "ticks": ""
             }
            },
            "type": "histogram"
           }
          ],
          "histogram2d": [
           {
            "colorbar": {
             "outlinewidth": 0,
             "ticks": ""
            },
            "colorscale": [
             [
              0,
              "#0d0887"
             ],
             [
              0.1111111111111111,
              "#46039f"
             ],
             [
              0.2222222222222222,
              "#7201a8"
             ],
             [
              0.3333333333333333,
              "#9c179e"
             ],
             [
              0.4444444444444444,
              "#bd3786"
             ],
             [
              0.5555555555555556,
              "#d8576b"
             ],
             [
              0.6666666666666666,
              "#ed7953"
             ],
             [
              0.7777777777777778,
              "#fb9f3a"
             ],
             [
              0.8888888888888888,
              "#fdca26"
             ],
             [
              1,
              "#f0f921"
             ]
            ],
            "type": "histogram2d"
           }
          ],
          "histogram2dcontour": [
           {
            "colorbar": {
             "outlinewidth": 0,
             "ticks": ""
            },
            "colorscale": [
             [
              0,
              "#0d0887"
             ],
             [
              0.1111111111111111,
              "#46039f"
             ],
             [
              0.2222222222222222,
              "#7201a8"
             ],
             [
              0.3333333333333333,
              "#9c179e"
             ],
             [
              0.4444444444444444,
              "#bd3786"
             ],
             [
              0.5555555555555556,
              "#d8576b"
             ],
             [
              0.6666666666666666,
              "#ed7953"
             ],
             [
              0.7777777777777778,
              "#fb9f3a"
             ],
             [
              0.8888888888888888,
              "#fdca26"
             ],
             [
              1,
              "#f0f921"
             ]
            ],
            "type": "histogram2dcontour"
           }
          ],
          "mesh3d": [
           {
            "colorbar": {
             "outlinewidth": 0,
             "ticks": ""
            },
            "type": "mesh3d"
           }
          ],
          "parcoords": [
           {
            "line": {
             "colorbar": {
              "outlinewidth": 0,
              "ticks": ""
             }
            },
            "type": "parcoords"
           }
          ],
          "pie": [
           {
            "automargin": true,
            "type": "pie"
           }
          ],
          "scatter": [
           {
            "marker": {
             "colorbar": {
              "outlinewidth": 0,
              "ticks": ""
             }
            },
            "type": "scatter"
           }
          ],
          "scatter3d": [
           {
            "line": {
             "colorbar": {
              "outlinewidth": 0,
              "ticks": ""
             }
            },
            "marker": {
             "colorbar": {
              "outlinewidth": 0,
              "ticks": ""
             }
            },
            "type": "scatter3d"
           }
          ],
          "scattercarpet": [
           {
            "marker": {
             "colorbar": {
              "outlinewidth": 0,
              "ticks": ""
             }
            },
            "type": "scattercarpet"
           }
          ],
          "scattergeo": [
           {
            "marker": {
             "colorbar": {
              "outlinewidth": 0,
              "ticks": ""
             }
            },
            "type": "scattergeo"
           }
          ],
          "scattergl": [
           {
            "marker": {
             "colorbar": {
              "outlinewidth": 0,
              "ticks": ""
             }
            },
            "type": "scattergl"
           }
          ],
          "scattermapbox": [
           {
            "marker": {
             "colorbar": {
              "outlinewidth": 0,
              "ticks": ""
             }
            },
            "type": "scattermapbox"
           }
          ],
          "scatterpolar": [
           {
            "marker": {
             "colorbar": {
              "outlinewidth": 0,
              "ticks": ""
             }
            },
            "type": "scatterpolar"
           }
          ],
          "scatterpolargl": [
           {
            "marker": {
             "colorbar": {
              "outlinewidth": 0,
              "ticks": ""
             }
            },
            "type": "scatterpolargl"
           }
          ],
          "scatterternary": [
           {
            "marker": {
             "colorbar": {
              "outlinewidth": 0,
              "ticks": ""
             }
            },
            "type": "scatterternary"
           }
          ],
          "surface": [
           {
            "colorbar": {
             "outlinewidth": 0,
             "ticks": ""
            },
            "colorscale": [
             [
              0,
              "#0d0887"
             ],
             [
              0.1111111111111111,
              "#46039f"
             ],
             [
              0.2222222222222222,
              "#7201a8"
             ],
             [
              0.3333333333333333,
              "#9c179e"
             ],
             [
              0.4444444444444444,
              "#bd3786"
             ],
             [
              0.5555555555555556,
              "#d8576b"
             ],
             [
              0.6666666666666666,
              "#ed7953"
             ],
             [
              0.7777777777777778,
              "#fb9f3a"
             ],
             [
              0.8888888888888888,
              "#fdca26"
             ],
             [
              1,
              "#f0f921"
             ]
            ],
            "type": "surface"
           }
          ],
          "table": [
           {
            "cells": {
             "fill": {
              "color": "#EBF0F8"
             },
             "line": {
              "color": "white"
             }
            },
            "header": {
             "fill": {
              "color": "#C8D4E3"
             },
             "line": {
              "color": "white"
             }
            },
            "type": "table"
           }
          ]
         },
         "layout": {
          "annotationdefaults": {
           "arrowcolor": "#2a3f5f",
           "arrowhead": 0,
           "arrowwidth": 1
          },
          "autotypenumbers": "strict",
          "coloraxis": {
           "colorbar": {
            "outlinewidth": 0,
            "ticks": ""
           }
          },
          "colorscale": {
           "diverging": [
            [
             0,
             "#8e0152"
            ],
            [
             0.1,
             "#c51b7d"
            ],
            [
             0.2,
             "#de77ae"
            ],
            [
             0.3,
             "#f1b6da"
            ],
            [
             0.4,
             "#fde0ef"
            ],
            [
             0.5,
             "#f7f7f7"
            ],
            [
             0.6,
             "#e6f5d0"
            ],
            [
             0.7,
             "#b8e186"
            ],
            [
             0.8,
             "#7fbc41"
            ],
            [
             0.9,
             "#4d9221"
            ],
            [
             1,
             "#276419"
            ]
           ],
           "sequential": [
            [
             0,
             "#0d0887"
            ],
            [
             0.1111111111111111,
             "#46039f"
            ],
            [
             0.2222222222222222,
             "#7201a8"
            ],
            [
             0.3333333333333333,
             "#9c179e"
            ],
            [
             0.4444444444444444,
             "#bd3786"
            ],
            [
             0.5555555555555556,
             "#d8576b"
            ],
            [
             0.6666666666666666,
             "#ed7953"
            ],
            [
             0.7777777777777778,
             "#fb9f3a"
            ],
            [
             0.8888888888888888,
             "#fdca26"
            ],
            [
             1,
             "#f0f921"
            ]
           ],
           "sequentialminus": [
            [
             0,
             "#0d0887"
            ],
            [
             0.1111111111111111,
             "#46039f"
            ],
            [
             0.2222222222222222,
             "#7201a8"
            ],
            [
             0.3333333333333333,
             "#9c179e"
            ],
            [
             0.4444444444444444,
             "#bd3786"
            ],
            [
             0.5555555555555556,
             "#d8576b"
            ],
            [
             0.6666666666666666,
             "#ed7953"
            ],
            [
             0.7777777777777778,
             "#fb9f3a"
            ],
            [
             0.8888888888888888,
             "#fdca26"
            ],
            [
             1,
             "#f0f921"
            ]
           ]
          },
          "colorway": [
           "#636efa",
           "#EF553B",
           "#00cc96",
           "#ab63fa",
           "#FFA15A",
           "#19d3f3",
           "#FF6692",
           "#B6E880",
           "#FF97FF",
           "#FECB52"
          ],
          "font": {
           "color": "#2a3f5f"
          },
          "geo": {
           "bgcolor": "white",
           "lakecolor": "white",
           "landcolor": "#E5ECF6",
           "showlakes": true,
           "showland": true,
           "subunitcolor": "white"
          },
          "hoverlabel": {
           "align": "left"
          },
          "hovermode": "closest",
          "mapbox": {
           "style": "light"
          },
          "paper_bgcolor": "white",
          "plot_bgcolor": "#E5ECF6",
          "polar": {
           "angularaxis": {
            "gridcolor": "white",
            "linecolor": "white",
            "ticks": ""
           },
           "bgcolor": "#E5ECF6",
           "radialaxis": {
            "gridcolor": "white",
            "linecolor": "white",
            "ticks": ""
           }
          },
          "scene": {
           "xaxis": {
            "backgroundcolor": "#E5ECF6",
            "gridcolor": "white",
            "gridwidth": 2,
            "linecolor": "white",
            "showbackground": true,
            "ticks": "",
            "zerolinecolor": "white"
           },
           "yaxis": {
            "backgroundcolor": "#E5ECF6",
            "gridcolor": "white",
            "gridwidth": 2,
            "linecolor": "white",
            "showbackground": true,
            "ticks": "",
            "zerolinecolor": "white"
           },
           "zaxis": {
            "backgroundcolor": "#E5ECF6",
            "gridcolor": "white",
            "gridwidth": 2,
            "linecolor": "white",
            "showbackground": true,
            "ticks": "",
            "zerolinecolor": "white"
           }
          },
          "shapedefaults": {
           "line": {
            "color": "#2a3f5f"
           }
          },
          "ternary": {
           "aaxis": {
            "gridcolor": "white",
            "linecolor": "white",
            "ticks": ""
           },
           "baxis": {
            "gridcolor": "white",
            "linecolor": "white",
            "ticks": ""
           },
           "bgcolor": "#E5ECF6",
           "caxis": {
            "gridcolor": "white",
            "linecolor": "white",
            "ticks": ""
           }
          },
          "title": {
           "x": 0.05
          },
          "xaxis": {
           "automargin": true,
           "gridcolor": "white",
           "linecolor": "white",
           "ticks": "",
           "title": {
            "standoff": 15
           },
           "zerolinecolor": "white",
           "zerolinewidth": 2
          },
          "yaxis": {
           "automargin": true,
           "gridcolor": "white",
           "linecolor": "white",
           "ticks": "",
           "title": {
            "standoff": 15
           },
           "zerolinecolor": "white",
           "zerolinewidth": 2
          }
         }
        },
        "xaxis": {
         "anchor": "y",
         "domain": [
          0,
          1
         ],
         "range": [
          0,
          2880
         ],
         "showgrid": false,
         "tickmode": "array",
         "ticks": "",
         "ticktext": [
          "Game Start",
          "End of Q1",
          "End of Q2",
          "End of Q3",
          "End of Q4"
         ],
         "tickvals": [
          0,
          720,
          1440,
          2160,
          2880
         ],
         "type": "linear"
        },
        "yaxis": {
         "anchor": "x",
         "categoryarray": [
          "Matt Stevens",
          "Solomon Rueschemeyer-Bailey",
          "Joe Ouellette",
          "Angelo Olcese",
          "Sam Feder",
          "TJ Stanton",
          "Matt LeMar",
          "Marques Brownlee",
          "Josue Alorro",
          "Ryan Drost",
          "Mike Drost",
          "Ben Katz",
          "Jeff Babbitt",
          "Conor Kline",
          "Elliott Chartock",
          "Ryan Weaver",
          "John Lithio",
          "Ryan Osgar",
          "Jack Williams",
          "Ben Jagt"
         ],
         "categoryorder": "array",
         "domain": [
          0,
          1
         ],
         "title": {}
        }
       }
      },
      "text/html": [
       "<div>                            <div id=\"1bbf07ad-efda-4c1a-b254-56fe9ca01209\" class=\"plotly-graph-div\" style=\"height:525px; width:100%;\"></div>            <script type=\"text/javascript\">                require([\"plotly\"], function(Plotly) {                    window.PLOTLYENV=window.PLOTLYENV || {};                                    if (document.getElementById(\"1bbf07ad-efda-4c1a-b254-56fe9ca01209\")) {                    Plotly.newPlot(                        \"1bbf07ad-efda-4c1a-b254-56fe9ca01209\",                        [{\"alignmentgroup\": \"True\", \"base\": [2565.0, 2470.0, 2322.0, 271.0, 432.0, 720.0, 704.0, 1149.0, 1034.0, 507.0, 1203.0, 177.0, 2718.5, 2761.0, 2813.0, 2676.0, 1504.0, 1586.0, 1878.0, 2020.0, 2138.0, 2160.0, 1418.0, 2020.0, 2322.0, 1586.0, 1504.0, 1418.0, 432.0, 507.0, 2138.0, 720.0, 1878.0, 1203.0, 1149.0, 1034.0, 704.0, 2160.0, 2470.0, 177.0, 271.0, 2813.0, 2761.0, 2718.5, 2676.0, 2565.0, 507.0, 704.0, 177.0, 271.0, 432.0, 1878.0, 1418.0, 1504.0, 1586.0, 1203.0, 1149.0, 1034.0, 2020.0, 2160.0, 2322.0, 2138.0, 2813.0, 2718.5, 2676.0, 2565.0, 2470.0, 720.0, 1418.0, 177.0, 2322.0, 1586.0, 432.0, 1878.0, 2138.0, 271.0, 2020.0, 507.0, 704.0, 1034.0, 2676.0, 2813.0, 2718.5, 1149.0, 2470.0, 2160.0, 720.0, 2565.0, 1504.0, 2020.0, 2160.0, 2322.0, 2565.0, 2470.0, 1504.0, 1418.0, 1149.0, 720.0, 1034.0, 2718.5, 2676.0, 2138.0, 1878.0, 704.0, 432.0, 271.0, 177.0, 1586.0, 2813.0, 2676.0, 2718.5, 2470.0, 2160.0, 2020.0, 1878.0, 1586.0, 1504.0, 1149.0, 2322.0, 1034.0, 507.0, 432.0, 271.0, 177.0, 720.0, 2565.0, 2565.0, 1149.0, 2470.0, 2322.0, 1878.0, 2020.0, 177.0, 432.0, 507.0, 720.0, 1034.0, 1504.0, 1586.0, 271.0, 2676.0, 2813.0, 2160.0, 1203.0, 704.0, 1418.0, 1555.0, 2138.0, 2718.5, 2761.0, 2138.0, 2761.0, 1555.0, 1418.0, 1203.0, 704.0, 507.0, 2813.0, 1203.0, 1555.0, 2761.0, 2761.0, 1555.0, 1203.0, 1555.0, 1555.0, 2761.0, 1555.0], \"customdata\": [[\"Ben Jagt\", \"5:15\", \"4:43\", \"O-Point\", \"Hold\", 0, \"\", \"\"], [\"Ben Jagt\", \"6:50\", \"5:55\", \"O-Point\", \"Hold\", 0, \"\", \"\"], [\"Ben Jagt\", \"9:18\", \"8:08\", \"O-Point\", \"Hold\", 0, \"\", \"\"], [\"Ben Jagt\", \"7:29\", \"6:21\", \"O-Point\", \"Hold\", 0, \"\", \"\"], [\"Ben Jagt\", \"4:48\", \"3:33\", \"O-Point\", \"Opponent Break\", 1, \"\", \"\"], [\"Ben Jagt\", \"12:00\", \"10:46\", \"O-Point\", \"Hold\", 0, \"\", \"\"], [\"Ben Jagt\", \"0:16\", \"0:01\", \"O-Point\", \"Hold\", 0, \"\", \"\"], [\"Ben Jagt\", \"4:51\", \"3:57\", \"O-Point\", \"Hold\", 2, \"\", \" (Timeout)\"], [\"Ben Jagt\", \"6:46\", \"5:51\", \"O-Point\", \"Hold\", 2, \"\", \"\"], [\"Ben Jagt\", \"3:33\", \"3:03\", \"O-Point\", \"Hold\", 0, \"\", \"\"], [\"Ben Jagt\", \"3:57\", \"3:25\", \"O-Point\", \"Hold\", 2, \" (Timeout)\", \"\"], [\"Ben Jagt\", \"9:03\", \"8:09\", \"O-Point\", \"Hold\", 0, \"\", \"\"], [\"Ben Jagt\", \"2:41\", \"1:59\", \"O-Point\", \"Opponent Break\", 1, \" (Injury)\", \" (Timeout)\"], [\"Ben Jagt\", \"1:59\", \"1:07\", \"O-Point\", \"Opponent Break\", 1, \" (Timeout)\", \"\"], [\"Ben Jagt\", \"1:07\", \"0:00\", \"O-Point\", \"Hold\", 0, \"\", \"\"], [\"Ben Jagt\", \"3:24\", \"2:41\", \"O-Point\", \"Opponent Break\", 1, \"\", \" (Injury)\"], [\"Ben Jagt\", \"10:56\", \"10:05\", \"O-Point\", \"Opponent Break\", 1, \"\", \" (Timeout)\"], [\"Ben Jagt\", \"9:34\", \"7:46\", \"O-Point\", \"Hold\", 2, \"\", \"\"], [\"Ben Jagt\", \"4:42\", \"2:59\", \"O-Point\", \"Hold\", 0, \"\", \"\"], [\"Ben Jagt\", \"2:20\", \"0:22\", \"O-Point\", \"Opponent Break\", 1, \"\", \"\"], [\"Ben Jagt\", \"0:22\", \"0:00\", \"O-Point\", \"Hold\", 0, \"\", \"\"], [\"Ben Jagt\", \"12:00\", \"10:34\", \"O-Point\", \"Hold\", 0, \"\", \"\"], [\"Ben Jagt\", \"0:22\", \"0:00\", \"O-Point\", \"End of Quarter\", 0, \"\", \"\"], [\"Jack Williams\", \"2:20\", \"0:22\", \"O-Point\", \"Opponent Break\", 1, \"\", \"\"], [\"Jack Williams\", \"9:18\", \"8:08\", \"O-Point\", \"Hold\", 0, \"\", \"\"], [\"Jack Williams\", \"9:34\", \"7:46\", \"O-Point\", \"Hold\", 2, \"\", \"\"], [\"Jack Williams\", \"10:56\", \"10:05\", \"O-Point\", \"Opponent Break\", 1, \"\", \" (Timeout)\"], [\"Jack Williams\", \"0:22\", \"0:00\", \"O-Point\", \"End of Quarter\", 0, \"\", \"\"], [\"Jack Williams\", \"4:48\", \"3:33\", \"O-Point\", \"Opponent Break\", 1, \"\", \"\"], [\"Jack Williams\", \"3:33\", \"3:03\", \"O-Point\", \"Hold\", 0, \"\", \"\"], [\"Jack Williams\", \"0:22\", \"0:00\", \"O-Point\", \"Hold\", 0, \"\", \"\"], [\"Jack Williams\", \"12:00\", \"10:46\", \"O-Point\", \"Hold\", 0, \"\", \"\"], [\"Jack Williams\", \"4:42\", \"2:59\", \"O-Point\", \"Hold\", 0, \"\", \"\"], [\"Jack Williams\", \"3:57\", \"3:25\", \"O-Point\", \"Hold\", 2, \" (Timeout)\", \"\"], [\"Jack Williams\", \"4:51\", \"3:57\", \"O-Point\", \"Hold\", 2, \"\", \" (Timeout)\"], [\"Jack Williams\", \"6:46\", \"5:51\", \"O-Point\", \"Hold\", 2, \"\", \"\"], [\"Jack Williams\", \"0:16\", \"0:01\", \"O-Point\", \"Hold\", 0, \"\", \"\"], [\"Jack Williams\", \"12:00\", \"10:34\", \"O-Point\", \"Hold\", 0, \"\", \"\"], [\"Jack Williams\", \"6:50\", \"5:55\", \"O-Point\", \"Hold\", 0, \"\", \"\"], [\"Jack Williams\", \"9:03\", \"8:09\", \"O-Point\", \"Hold\", 0, \"\", \"\"], [\"Jack Williams\", \"7:29\", \"6:21\", \"O-Point\", \"Hold\", 0, \"\", \"\"], [\"Jack Williams\", \"1:07\", \"0:00\", \"O-Point\", \"Hold\", 0, \"\", \"\"], [\"Jack Williams\", \"1:59\", \"1:07\", \"O-Point\", \"Opponent Break\", 1, \" (Timeout)\", \"\"], [\"Jack Williams\", \"2:41\", \"1:59\", \"O-Point\", \"Opponent Break\", 1, \" (Injury)\", \" (Timeout)\"], [\"Jack Williams\", \"3:24\", \"2:41\", \"O-Point\", \"Opponent Break\", 1, \"\", \" (Injury)\"], [\"Jack Williams\", \"5:15\", \"4:43\", \"O-Point\", \"Hold\", 0, \"\", \"\"], [\"Ryan Osgar\", \"3:33\", \"3:03\", \"O-Point\", \"Hold\", 0, \"\", \"\"], [\"Ryan Osgar\", \"0:16\", \"0:01\", \"O-Point\", \"Hold\", 0, \"\", \"\"], [\"Ryan Osgar\", \"9:03\", \"8:09\", \"O-Point\", \"Hold\", 0, \"\", \"\"], [\"Ryan Osgar\", \"7:29\", \"6:21\", \"O-Point\", \"Hold\", 0, \"\", \"\"], [\"Ryan Osgar\", \"4:48\", \"3:33\", \"O-Point\", \"Opponent Break\", 1, \"\", \"\"], [\"Ryan Osgar\", \"4:42\", \"2:59\", \"O-Point\", \"Hold\", 0, \"\", \"\"], [\"Ryan Osgar\", \"0:22\", \"0:00\", \"O-Point\", \"End of Quarter\", 0, \"\", \"\"], [\"Ryan Osgar\", \"10:56\", \"10:05\", \"O-Point\", \"Opponent Break\", 1, \"\", \" (Timeout)\"], [\"Ryan Osgar\", \"9:34\", \"7:46\", \"O-Point\", \"Hold\", 2, \"\", \"\"], [\"Ryan Osgar\", \"3:57\", \"3:25\", \"O-Point\", \"Hold\", 2, \" (Timeout)\", \"\"], [\"Ryan Osgar\", \"4:51\", \"3:57\", \"O-Point\", \"Hold\", 2, \"\", \" (Timeout)\"], [\"Ryan Osgar\", \"6:46\", \"5:51\", \"O-Point\", \"Hold\", 2, \"\", \"\"], [\"Ryan Osgar\", \"2:20\", \"0:22\", \"O-Point\", \"Opponent Break\", 1, \"\", \"\"], [\"Ryan Osgar\", \"12:00\", \"10:34\", \"O-Point\", \"Hold\", 0, \"\", \"\"], [\"Ryan Osgar\", \"9:18\", \"8:08\", \"O-Point\", \"Hold\", 0, \"\", \"\"], [\"Ryan Osgar\", \"0:22\", \"0:00\", \"O-Point\", \"Hold\", 0, \"\", \"\"], [\"Ryan Osgar\", \"1:07\", \"0:00\", \"O-Point\", \"Hold\", 0, \"\", \"\"], [\"Ryan Osgar\", \"2:41\", \"1:59\", \"O-Point\", \"Opponent Break\", 1, \" (Injury)\", \" (Timeout)\"], [\"Ryan Osgar\", \"3:24\", \"2:41\", \"O-Point\", \"Opponent Break\", 1, \"\", \" (Injury)\"], [\"Ryan Osgar\", \"5:15\", \"4:43\", \"O-Point\", \"Hold\", 0, \"\", \"\"], [\"Ryan Osgar\", \"6:50\", \"5:55\", \"O-Point\", \"Hold\", 0, \"\", \"\"], [\"Ryan Osgar\", \"12:00\", \"10:46\", \"O-Point\", \"Hold\", 0, \"\", \"\"], [\"John Lithio\", \"0:22\", \"0:00\", \"O-Point\", \"End of Quarter\", 0, \"\", \"\"], [\"John Lithio\", \"9:03\", \"8:09\", \"O-Point\", \"Hold\", 0, \"\", \"\"], [\"John Lithio\", \"9:18\", \"8:08\", \"O-Point\", \"Hold\", 0, \"\", \"\"], [\"John Lithio\", \"9:34\", \"7:46\", \"O-Point\", \"Hold\", 2, \"\", \"\"], [\"John Lithio\", \"4:48\", \"3:33\", \"O-Point\", \"Opponent Break\", 1, \"\", \"\"], [\"John Lithio\", \"4:42\", \"2:59\", \"O-Point\", \"Hold\", 0, \"\", \"\"], [\"John Lithio\", \"0:22\", \"0:00\", \"O-Point\", \"Hold\", 0, \"\", \"\"], [\"John Lithio\", \"7:29\", \"6:21\", \"O-Point\", \"Hold\", 0, \"\", \"\"], [\"John Lithio\", \"2:20\", \"0:22\", \"O-Point\", \"Opponent Break\", 1, \"\", \"\"], [\"John Lithio\", \"3:33\", \"3:03\", \"O-Point\", \"Hold\", 0, \"\", \"\"], [\"John Lithio\", \"0:16\", \"0:01\", \"O-Point\", \"Hold\", 0, \"\", \"\"], [\"John Lithio\", \"6:46\", \"5:51\", \"O-Point\", \"Hold\", 2, \"\", \"\"], [\"John Lithio\", \"3:24\", \"2:41\", \"O-Point\", \"Opponent Break\", 1, \"\", \" (Injury)\"], [\"John Lithio\", \"1:07\", \"0:00\", \"O-Point\", \"Hold\", 0, \"\", \"\"], [\"John Lithio\", \"2:41\", \"1:59\", \"O-Point\", \"Opponent Break\", 1, \" (Injury)\", \" (Timeout)\"], [\"John Lithio\", \"4:51\", \"3:57\", \"O-Point\", \"Hold\", 2, \"\", \" (Timeout)\"], [\"John Lithio\", \"6:50\", \"5:55\", \"O-Point\", \"Hold\", 0, \"\", \"\"], [\"John Lithio\", \"12:00\", \"10:34\", \"O-Point\", \"Hold\", 0, \"\", \"\"], [\"John Lithio\", \"12:00\", \"10:46\", \"O-Point\", \"Hold\", 0, \"\", \"\"], [\"John Lithio\", \"5:15\", \"4:43\", \"O-Point\", \"Hold\", 0, \"\", \"\"], [\"John Lithio\", \"10:56\", \"10:05\", \"O-Point\", \"Opponent Break\", 1, \"\", \" (Timeout)\"], [\"Ryan Weaver\", \"2:20\", \"0:22\", \"O-Point\", \"Opponent Break\", 1, \"\", \"\"], [\"Ryan Weaver\", \"12:00\", \"10:34\", \"O-Point\", \"Hold\", 0, \"\", \"\"], [\"Ryan Weaver\", \"9:18\", \"8:08\", \"O-Point\", \"Hold\", 0, \"\", \"\"], [\"Ryan Weaver\", \"5:15\", \"4:43\", \"O-Point\", \"Hold\", 0, \"\", \"\"], [\"Ryan Weaver\", \"6:50\", \"5:55\", \"O-Point\", \"Hold\", 0, \"\", \"\"], [\"Ryan Weaver\", \"10:56\", \"10:05\", \"O-Point\", \"Opponent Break\", 1, \"\", \" (Timeout)\"], [\"Ryan Weaver\", \"0:22\", \"0:00\", \"O-Point\", \"End of Quarter\", 0, \"\", \"\"], [\"Ryan Weaver\", \"4:51\", \"3:57\", \"O-Point\", \"Hold\", 2, \"\", \" (Timeout)\"], [\"Ryan Weaver\", \"12:00\", \"10:46\", \"O-Point\", \"Hold\", 0, \"\", \"\"], [\"Ryan Weaver\", \"6:46\", \"5:51\", \"O-Point\", \"Hold\", 2, \"\", \"\"], [\"Ryan Weaver\", \"2:41\", \"1:59\", \"O-Point\", \"Opponent Break\", 1, \" (Injury)\", \" (Timeout)\"], [\"Ryan Weaver\", \"3:24\", \"2:41\", \"O-Point\", \"Opponent Break\", 1, \"\", \" (Injury)\"], [\"Ryan Weaver\", \"0:22\", \"0:00\", \"O-Point\", \"Hold\", 0, \"\", \"\"], [\"Ryan Weaver\", \"4:42\", \"2:59\", \"O-Point\", \"Hold\", 0, \"\", \"\"], [\"Ryan Weaver\", \"0:16\", \"0:01\", \"O-Point\", \"Hold\", 0, \"\", \"\"], [\"Ryan Weaver\", \"4:48\", \"3:33\", \"O-Point\", \"Opponent Break\", 1, \"\", \"\"], [\"Ryan Weaver\", \"7:29\", \"6:21\", \"O-Point\", \"Hold\", 0, \"\", \"\"], [\"Ryan Weaver\", \"9:03\", \"8:09\", \"O-Point\", \"Hold\", 0, \"\", \"\"], [\"Ryan Weaver\", \"9:34\", \"7:46\", \"O-Point\", \"Hold\", 2, \"\", \"\"], [\"Elliott Chartock\", \"1:07\", \"0:00\", \"O-Point\", \"Hold\", 0, \"\", \"\"], [\"Elliott Chartock\", \"3:24\", \"2:41\", \"O-Point\", \"Opponent Break\", 1, \"\", \" (Injury)\"], [\"Elliott Chartock\", \"2:41\", \"1:59\", \"O-Point\", \"Opponent Break\", 1, \" (Injury)\", \" (Timeout)\"], [\"Elliott Chartock\", \"6:50\", \"5:55\", \"O-Point\", \"Hold\", 0, \"\", \"\"], [\"Elliott Chartock\", \"12:00\", \"10:34\", \"O-Point\", \"Hold\", 0, \"\", \"\"], [\"Elliott Chartock\", \"2:20\", \"0:22\", \"O-Point\", \"Opponent Break\", 1, \"\", \"\"], [\"Elliott Chartock\", \"4:42\", \"2:59\", \"O-Point\", \"Hold\", 0, \"\", \"\"], [\"Elliott Chartock\", \"9:34\", \"7:46\", \"O-Point\", \"Hold\", 2, \"\", \"\"], [\"Elliott Chartock\", \"10:56\", \"10:05\", \"O-Point\", \"Opponent Break\", 1, \"\", \" (Timeout)\"], [\"Elliott Chartock\", \"4:51\", \"3:57\", \"O-Point\", \"Hold\", 2, \"\", \" (Timeout)\"], [\"Elliott Chartock\", \"9:18\", \"8:08\", \"O-Point\", \"Hold\", 0, \"\", \"\"], [\"Elliott Chartock\", \"6:46\", \"5:51\", \"O-Point\", \"Hold\", 2, \"\", \"\"], [\"Elliott Chartock\", \"3:33\", \"3:03\", \"O-Point\", \"Hold\", 0, \"\", \"\"], [\"Elliott Chartock\", \"4:48\", \"3:33\", \"O-Point\", \"Opponent Break\", 1, \"\", \"\"], [\"Elliott Chartock\", \"7:29\", \"6:21\", \"O-Point\", \"Hold\", 0, \"\", \"\"], [\"Elliott Chartock\", \"9:03\", \"8:09\", \"O-Point\", \"Hold\", 0, \"\", \"\"], [\"Elliott Chartock\", \"12:00\", \"10:46\", \"O-Point\", \"Hold\", 0, \"\", \"\"], [\"Elliott Chartock\", \"5:15\", \"4:43\", \"O-Point\", \"Hold\", 0, \"\", \"\"], [\"Conor Kline\", \"5:15\", \"4:43\", \"O-Point\", \"Hold\", 0, \"\", \"\"], [\"Conor Kline\", \"4:51\", \"3:57\", \"O-Point\", \"Hold\", 2, \"\", \" (Timeout)\"], [\"Conor Kline\", \"6:50\", \"5:55\", \"O-Point\", \"Hold\", 0, \"\", \"\"], [\"Conor Kline\", \"9:18\", \"8:08\", \"O-Point\", \"Hold\", 0, \"\", \"\"], [\"Conor Kline\", \"4:42\", \"2:59\", \"O-Point\", \"Hold\", 0, \"\", \"\"], [\"Conor Kline\", \"2:20\", \"0:22\", \"O-Point\", \"Opponent Break\", 1, \"\", \"\"], [\"Conor Kline\", \"9:03\", \"8:09\", \"O-Point\", \"Hold\", 0, \"\", \"\"], [\"Conor Kline\", \"4:48\", \"3:33\", \"O-Point\", \"Opponent Break\", 1, \"\", \"\"], [\"Conor Kline\", \"3:33\", \"3:03\", \"O-Point\", \"Hold\", 0, \"\", \"\"], [\"Conor Kline\", \"12:00\", \"10:46\", \"O-Point\", \"Hold\", 0, \"\", \"\"], [\"Conor Kline\", \"6:46\", \"5:51\", \"O-Point\", \"Hold\", 2, \"\", \"\"], [\"Conor Kline\", \"10:56\", \"10:05\", \"O-Point\", \"Opponent Break\", 1, \"\", \" (Timeout)\"], [\"Conor Kline\", \"9:34\", \"7:46\", \"O-Point\", \"Hold\", 2, \"\", \"\"], [\"Conor Kline\", \"7:29\", \"6:21\", \"O-Point\", \"Hold\", 0, \"\", \"\"], [\"Conor Kline\", \"3:24\", \"2:41\", \"O-Point\", \"Opponent Break\", 1, \"\", \" (Injury)\"], [\"Conor Kline\", \"1:07\", \"0:00\", \"O-Point\", \"Hold\", 0, \"\", \"\"], [\"Conor Kline\", \"12:00\", \"10:34\", \"O-Point\", \"Hold\", 0, \"\", \"\"], [\"Jeff Babbitt\", \"3:57\", \"3:25\", \"O-Point\", \"Hold\", 2, \" (Timeout)\", \"\"], [\"Jeff Babbitt\", \"0:16\", \"0:01\", \"O-Point\", \"Hold\", 0, \"\", \"\"], [\"Jeff Babbitt\", \"0:22\", \"0:00\", \"O-Point\", \"End of Quarter\", 0, \"\", \"\"], [\"Jeff Babbitt\", \"10:05\", \"9:34\", \"O-Point\", \"Opponent Break\", 1, \" (Timeout)\", \"\"], [\"Jeff Babbitt\", \"0:22\", \"0:00\", \"O-Point\", \"Hold\", 0, \"\", \"\"], [\"Jeff Babbitt\", \"2:41\", \"1:59\", \"O-Point\", \"Opponent Break\", 1, \" (Injury)\", \" (Timeout)\"], [\"Jeff Babbitt\", \"1:59\", \"1:07\", \"O-Point\", \"Opponent Break\", 1, \" (Timeout)\", \"\"], [\"Ben Katz\", \"0:22\", \"0:00\", \"O-Point\", \"Hold\", 0, \"\", \"\"], [\"Ben Katz\", \"1:59\", \"1:07\", \"O-Point\", \"Opponent Break\", 1, \" (Timeout)\", \"\"], [\"Ben Katz\", \"10:05\", \"9:34\", \"O-Point\", \"Opponent Break\", 1, \" (Timeout)\", \"\"], [\"Ben Katz\", \"0:22\", \"0:00\", \"O-Point\", \"End of Quarter\", 0, \"\", \"\"], [\"Ben Katz\", \"3:57\", \"3:25\", \"O-Point\", \"Hold\", 2, \" (Timeout)\", \"\"], [\"Ben Katz\", \"0:16\", \"0:01\", \"O-Point\", \"Hold\", 0, \"\", \"\"], [\"Ben Katz\", \"3:33\", \"3:03\", \"O-Point\", \"Hold\", 0, \"\", \"\"], [\"Ben Katz\", \"1:07\", \"0:00\", \"O-Point\", \"Hold\", 0, \"\", \"\"], [\"Mike Drost\", \"3:57\", \"3:25\", \"O-Point\", \"Hold\", 2, \" (Timeout)\", \"\"], [\"Mike Drost\", \"10:05\", \"9:34\", \"O-Point\", \"Opponent Break\", 1, \" (Timeout)\", \"\"], [\"Mike Drost\", \"1:59\", \"1:07\", \"O-Point\", \"Opponent Break\", 1, \" (Timeout)\", \"\"], [\"Ryan Drost\", \"1:59\", \"1:07\", \"O-Point\", \"Opponent Break\", 1, \" (Timeout)\", \"\"], [\"Ryan Drost\", \"10:05\", \"9:34\", \"O-Point\", \"Opponent Break\", 1, \" (Timeout)\", \"\"], [\"Ryan Drost\", \"3:57\", \"3:25\", \"O-Point\", \"Hold\", 2, \" (Timeout)\", \"\"], [\"Josue Alorro\", \"10:05\", \"9:34\", \"O-Point\", \"Opponent Break\", 1, \" (Timeout)\", \"\"], [\"Marques Brownlee\", \"10:05\", \"9:34\", \"O-Point\", \"Opponent Break\", 1, \" (Timeout)\", \"\"], [\"Matt LeMar\", \"1:59\", \"1:07\", \"O-Point\", \"Opponent Break\", 1, \" (Timeout)\", \"\"], [\"Matt LeMar\", \"10:05\", \"9:34\", \"O-Point\", \"Opponent Break\", 1, \" (Timeout)\", \"\"]], \"hovertemplate\": \"%{customdata[0]}<br>Segment Start: %{customdata[1]}%{customdata[6]}<br>Segment End: %{customdata[2]}%{customdata[7]}<br>Initial Possession: %{customdata[3]}<br>Outcome: %{customdata[4]}<br>Total Turns During Point: %{customdata[5]}<br><extra></extra>\", \"legendgroup\": \"O-Point\", \"marker\": {\"color\": \"#636efa\"}, \"name\": \"O-Point\", \"offsetgroup\": \"O-Point\", \"orientation\": \"h\", \"showlegend\": true, \"textposition\": \"auto\", \"type\": \"bar\", \"x\": [32.0, 55.0, 70.0, 68.0, 75.0, 74.0, 15.0, 54.0, 55.0, 30.0, 32.0, 54.0, 42.5, 52.0, 67.0, 42.5, 51.0, 108.0, 103.0, 118.0, 22.0, 86.0, 22.0, 118.0, 70.0, 108.0, 51.0, 22.0, 75.0, 30.0, 22.0, 74.0, 103.0, 32.0, 54.0, 55.0, 15.0, 86.0, 55.0, 54.0, 68.0, 67.0, 52.0, 42.5, 42.5, 32.0, 30.0, 15.0, 54.0, 68.0, 75.0, 103.0, 22.0, 51.0, 108.0, 32.0, 54.0, 55.0, 118.0, 86.0, 70.0, 22.0, 67.0, 42.5, 42.5, 32.0, 55.0, 74.0, 22.0, 54.0, 70.0, 108.0, 75.0, 103.0, 22.0, 68.0, 118.0, 30.0, 15.0, 55.0, 42.5, 67.0, 42.5, 54.0, 55.0, 86.0, 74.0, 32.0, 51.0, 118.0, 86.0, 70.0, 32.0, 55.0, 51.0, 22.0, 54.0, 74.0, 55.0, 42.5, 42.5, 22.0, 103.0, 15.0, 75.0, 68.0, 54.0, 108.0, 67.0, 42.5, 42.5, 55.0, 86.0, 118.0, 103.0, 108.0, 51.0, 54.0, 70.0, 55.0, 30.0, 75.0, 68.0, 54.0, 74.0, 32.0, 32.0, 54.0, 55.0, 70.0, 103.0, 118.0, 54.0, 75.0, 30.0, 74.0, 55.0, 51.0, 108.0, 68.0, 42.5, 67.0, 86.0, 32.0, 15.0, 22.0, 31.0, 22.0, 42.5, 52.0, 22.0, 52.0, 31.0, 22.0, 32.0, 15.0, 30.0, 67.0, 32.0, 31.0, 52.0, 52.0, 31.0, 32.0, 31.0, 31.0, 52.0, 31.0], \"xaxis\": \"x\", \"y\": [\"Ben Jagt\", \"Ben Jagt\", \"Ben Jagt\", \"Ben Jagt\", \"Ben Jagt\", \"Ben Jagt\", \"Ben Jagt\", \"Ben Jagt\", \"Ben Jagt\", \"Ben Jagt\", \"Ben Jagt\", \"Ben Jagt\", \"Ben Jagt\", \"Ben Jagt\", \"Ben Jagt\", \"Ben Jagt\", \"Ben Jagt\", \"Ben Jagt\", \"Ben Jagt\", \"Ben Jagt\", \"Ben Jagt\", \"Ben Jagt\", \"Ben Jagt\", \"Jack Williams\", \"Jack Williams\", \"Jack Williams\", \"Jack Williams\", \"Jack Williams\", \"Jack Williams\", \"Jack Williams\", \"Jack Williams\", \"Jack Williams\", \"Jack Williams\", \"Jack Williams\", \"Jack Williams\", \"Jack Williams\", \"Jack Williams\", \"Jack Williams\", \"Jack Williams\", \"Jack Williams\", \"Jack Williams\", \"Jack Williams\", \"Jack Williams\", \"Jack Williams\", \"Jack Williams\", \"Jack Williams\", \"Ryan Osgar\", \"Ryan Osgar\", \"Ryan Osgar\", \"Ryan Osgar\", \"Ryan Osgar\", \"Ryan Osgar\", \"Ryan Osgar\", \"Ryan Osgar\", \"Ryan Osgar\", \"Ryan Osgar\", \"Ryan Osgar\", \"Ryan Osgar\", \"Ryan Osgar\", \"Ryan Osgar\", \"Ryan Osgar\", \"Ryan Osgar\", \"Ryan Osgar\", \"Ryan Osgar\", \"Ryan Osgar\", \"Ryan Osgar\", \"Ryan Osgar\", \"Ryan Osgar\", \"John Lithio\", \"John Lithio\", \"John Lithio\", \"John Lithio\", \"John Lithio\", \"John Lithio\", \"John Lithio\", \"John Lithio\", \"John Lithio\", \"John Lithio\", \"John Lithio\", \"John Lithio\", \"John Lithio\", \"John Lithio\", \"John Lithio\", \"John Lithio\", \"John Lithio\", \"John Lithio\", \"John Lithio\", \"John Lithio\", \"John Lithio\", \"Ryan Weaver\", \"Ryan Weaver\", \"Ryan Weaver\", \"Ryan Weaver\", \"Ryan Weaver\", \"Ryan Weaver\", \"Ryan Weaver\", \"Ryan Weaver\", \"Ryan Weaver\", \"Ryan Weaver\", \"Ryan Weaver\", \"Ryan Weaver\", \"Ryan Weaver\", \"Ryan Weaver\", \"Ryan Weaver\", \"Ryan Weaver\", \"Ryan Weaver\", \"Ryan Weaver\", \"Ryan Weaver\", \"Elliott Chartock\", \"Elliott Chartock\", \"Elliott Chartock\", \"Elliott Chartock\", \"Elliott Chartock\", \"Elliott Chartock\", \"Elliott Chartock\", \"Elliott Chartock\", \"Elliott Chartock\", \"Elliott Chartock\", \"Elliott Chartock\", \"Elliott Chartock\", \"Elliott Chartock\", \"Elliott Chartock\", \"Elliott Chartock\", \"Elliott Chartock\", \"Elliott Chartock\", \"Elliott Chartock\", \"Conor Kline\", \"Conor Kline\", \"Conor Kline\", \"Conor Kline\", \"Conor Kline\", \"Conor Kline\", \"Conor Kline\", \"Conor Kline\", \"Conor Kline\", \"Conor Kline\", \"Conor Kline\", \"Conor Kline\", \"Conor Kline\", \"Conor Kline\", \"Conor Kline\", \"Conor Kline\", \"Conor Kline\", \"Jeff Babbitt\", \"Jeff Babbitt\", \"Jeff Babbitt\", \"Jeff Babbitt\", \"Jeff Babbitt\", \"Jeff Babbitt\", \"Jeff Babbitt\", \"Ben Katz\", \"Ben Katz\", \"Ben Katz\", \"Ben Katz\", \"Ben Katz\", \"Ben Katz\", \"Ben Katz\", \"Ben Katz\", \"Mike Drost\", \"Mike Drost\", \"Mike Drost\", \"Ryan Drost\", \"Ryan Drost\", \"Ryan Drost\", \"Josue Alorro\", \"Marques Brownlee\", \"Matt LeMar\", \"Matt LeMar\"], \"yaxis\": \"y\"}, {\"alignmentgroup\": \"True\", \"base\": [657.0, 719.0, 982.0, 1314.0, 719.0, 657.0, 1314.0, 657.0, 1314.0, 1314.0, 657.0, 1314.0, 657.0, 1314.0, 657.0, 1089.0, 1440.0, 0.0, 339.0, 537.0, 657.0, 679.0, 794.0, 719.0, 1359.0, 1314.0, 1235.0, 1794.0, 1981.0, 2525.0, 2597.0, 2246.0, 1794.0, 1981.0, 0.0, 2246.0, 2525.0, 2597.0, 1440.0, 1359.0, 1235.0, 1089.0, 794.0, 719.0, 537.0, 339.0, 679.0, 1359.0, 1235.0, 1089.0, 794.0, 719.0, 679.0, 537.0, 339.0, 0.0, 1794.0, 1981.0, 2246.0, 1440.0, 231.0, 2597.0, 2525.0, 2597.0, 2525.0, 2246.0, 1981.0, 1794.0, 1440.0, 1359.0, 1235.0, 1089.0, 794.0, 719.0, 679.0, 537.0, 0.0, 339.0, 1440.0, 1694.0, 1794.0, 2597.0, 2525.0, 2392.0, 2246.0, 0.0, 231.0, 679.0, 794.0, 1089.0, 1235.0, 1359.0, 537.0, 2597.0, 2525.0, 2246.0, 1981.0, 1794.0, 1359.0, 1235.0, 1089.0, 794.0, 719.0, 679.0, 537.0, 339.0, 0.0, 1440.0, 794.0, 2597.0, 2525.0, 2246.0, 1981.0, 1794.0, 1440.0, 1359.0, 1235.0, 339.0, 0.0, 1089.0, 679.0, 537.0, 2392.0, 1694.0, 339.0, 982.0, 231.0, 2392.0, 1694.0, 982.0, 231.0, 982.0, 2392.0, 1694.0, 231.0, 1694.0, 231.0, 982.0, 2392.0, 2392.0, 231.0, 1694.0, 982.0, 982.0, 1694.0, 1981.0, 2392.0], \"customdata\": [[\"Ben Jagt\", \"1:03\", \"0:41\", \"D-Point\", \"Break\", 1, \" (Timeout)\", \"\"], [\"Ben Jagt\", \"0:01\", \"0:00\", \"D-Point\", \"End of Quarter\", 0, \"\", \"\"], [\"Ben Jagt\", \"7:38\", \"6:46\", \"D-Point\", \"Opponent Hold\", 0, \"\", \"\"], [\"Ben Jagt\", \"2:06\", \"1:21\", \"D-Point\", \"Break\", 1, \" (Timeout)\", \"\"], [\"Jack Williams\", \"0:01\", \"0:00\", \"D-Point\", \"End of Quarter\", 0, \"\", \"\"], [\"Jack Williams\", \"1:03\", \"0:41\", \"D-Point\", \"Break\", 1, \" (Timeout)\", \"\"], [\"Jack Williams\", \"2:06\", \"1:21\", \"D-Point\", \"Break\", 1, \" (Timeout)\", \"\"], [\"Ryan Osgar\", \"1:03\", \"0:41\", \"D-Point\", \"Break\", 1, \" (Timeout)\", \"\"], [\"Ryan Osgar\", \"2:06\", \"1:21\", \"D-Point\", \"Break\", 1, \" (Timeout)\", \"\"], [\"John Lithio\", \"2:06\", \"1:21\", \"D-Point\", \"Break\", 1, \" (Timeout)\", \"\"], [\"John Lithio\", \"1:03\", \"0:41\", \"D-Point\", \"Break\", 1, \" (Timeout)\", \"\"], [\"Ryan Weaver\", \"2:06\", \"1:21\", \"D-Point\", \"Break\", 1, \" (Timeout)\", \"\"], [\"Ryan Weaver\", \"1:03\", \"0:41\", \"D-Point\", \"Break\", 1, \" (Timeout)\", \"\"], [\"Elliott Chartock\", \"2:06\", \"1:21\", \"D-Point\", \"Break\", 1, \" (Timeout)\", \"\"], [\"Elliott Chartock\", \"1:03\", \"0:41\", \"D-Point\", \"Break\", 1, \" (Timeout)\", \"\"], [\"Jeff Babbitt\", \"5:51\", \"4:51\", \"D-Point\", \"Opponent Hold\", 0, \"\", \"\"], [\"Jeff Babbitt\", \"12:00\", \"10:56\", \"D-Point\", \"Opponent Hold\", 0, \"\", \"\"], [\"Jeff Babbitt\", \"12:00\", \"9:03\", \"D-Point\", \"Opponent Hold\", 2, \"\", \"\"], [\"Jeff Babbitt\", \"6:21\", \"4:48\", \"D-Point\", \"Opponent Hold\", 0, \"\", \"\"], [\"Jeff Babbitt\", \"3:03\", \"1:03\", \"D-Point\", \"Break\", 1, \"\", \" (Timeout)\"], [\"Jeff Babbitt\", \"1:03\", \"0:41\", \"D-Point\", \"Break\", 1, \" (Timeout)\", \"\"], [\"Jeff Babbitt\", \"0:41\", \"0:16\", \"D-Point\", \"Opponent Hold\", 0, \"\", \"\"], [\"Jeff Babbitt\", \"10:46\", \"7:38\", \"D-Point\", \"Break\", 3, \"\", \"\"], [\"Jeff Babbitt\", \"0:01\", \"0:00\", \"D-Point\", \"End of Quarter\", 0, \"\", \"\"], [\"Jeff Babbitt\", \"1:21\", \"0:22\", \"D-Point\", \"Opponent Hold\", 0, \"\", \"\"], [\"Jeff Babbitt\", \"2:06\", \"1:21\", \"D-Point\", \"Break\", 1, \" (Timeout)\", \"\"], [\"Jeff Babbitt\", \"3:25\", \"2:06\", \"D-Point\", \"Break\", 1, \"\", \" (Timeout)\"], [\"Jeff Babbitt\", \"6:06\", \"4:42\", \"D-Point\", \"Opponent Hold\", 0, \"\", \"\"], [\"Jeff Babbitt\", \"2:59\", \"2:20\", \"D-Point\", \"Opponent Hold\", 0, \"\", \"\"], [\"Jeff Babbitt\", \"5:55\", \"5:15\", \"D-Point\", \"Opponent Hold\", 0, \"\", \"\"], [\"Jeff Babbitt\", \"4:43\", \"3:24\", \"D-Point\", \"Opponent Hold\", 0, \"\", \"\"], [\"Jeff Babbitt\", \"10:34\", \"9:18\", \"D-Point\", \"Opponent Hold\", 0, \"\", \"\"], [\"Ben Katz\", \"6:06\", \"4:42\", \"D-Point\", \"Opponent Hold\", 0, \"\", \"\"], [\"Ben Katz\", \"2:59\", \"2:20\", \"D-Point\", \"Opponent Hold\", 0, \"\", \"\"], [\"Ben Katz\", \"12:00\", \"9:03\", \"D-Point\", \"Opponent Hold\", 2, \"\", \"\"], [\"Ben Katz\", \"10:34\", \"9:18\", \"D-Point\", \"Opponent Hold\", 0, \"\", \"\"], [\"Ben Katz\", \"5:55\", \"5:15\", \"D-Point\", \"Opponent Hold\", 0, \"\", \"\"], [\"Ben Katz\", \"4:43\", \"3:24\", \"D-Point\", \"Opponent Hold\", 0, \"\", \"\"], [\"Ben Katz\", \"12:00\", \"10:56\", \"D-Point\", \"Opponent Hold\", 0, \"\", \"\"], [\"Ben Katz\", \"1:21\", \"0:22\", \"D-Point\", \"Opponent Hold\", 0, \"\", \"\"], [\"Ben Katz\", \"3:25\", \"2:06\", \"D-Point\", \"Break\", 1, \"\", \" (Timeout)\"], [\"Ben Katz\", \"5:51\", \"4:51\", \"D-Point\", \"Opponent Hold\", 0, \"\", \"\"], [\"Ben Katz\", \"10:46\", \"7:38\", \"D-Point\", \"Break\", 3, \"\", \"\"], [\"Ben Katz\", \"0:01\", \"0:00\", \"D-Point\", \"End of Quarter\", 0, \"\", \"\"], [\"Ben Katz\", \"3:03\", \"1:03\", \"D-Point\", \"Break\", 1, \"\", \" (Timeout)\"], [\"Ben Katz\", \"6:21\", \"4:48\", \"D-Point\", \"Opponent Hold\", 0, \"\", \"\"], [\"Ben Katz\", \"0:41\", \"0:16\", \"D-Point\", \"Opponent Hold\", 0, \"\", \"\"], [\"Mike Drost\", \"1:21\", \"0:22\", \"D-Point\", \"Opponent Hold\", 0, \"\", \"\"], [\"Mike Drost\", \"3:25\", \"2:06\", \"D-Point\", \"Break\", 1, \"\", \" (Timeout)\"], [\"Mike Drost\", \"5:51\", \"4:51\", \"D-Point\", \"Opponent Hold\", 0, \"\", \"\"], [\"Mike Drost\", \"10:46\", \"7:38\", \"D-Point\", \"Break\", 3, \"\", \"\"], [\"Mike Drost\", \"0:01\", \"0:00\", \"D-Point\", \"End of Quarter\", 0, \"\", \"\"], [\"Mike Drost\", \"0:41\", \"0:16\", \"D-Point\", \"Opponent Hold\", 0, \"\", \"\"], [\"Mike Drost\", \"3:03\", \"1:03\", \"D-Point\", \"Break\", 1, \"\", \" (Timeout)\"], [\"Mike Drost\", \"6:21\", \"4:48\", \"D-Point\", \"Opponent Hold\", 0, \"\", \"\"], [\"Mike Drost\", \"12:00\", \"9:03\", \"D-Point\", \"Opponent Hold\", 2, \"\", \"\"], [\"Mike Drost\", \"6:06\", \"4:42\", \"D-Point\", \"Opponent Hold\", 0, \"\", \"\"], [\"Mike Drost\", \"2:59\", \"2:20\", \"D-Point\", \"Opponent Hold\", 0, \"\", \"\"], [\"Mike Drost\", \"10:34\", \"9:18\", \"D-Point\", \"Opponent Hold\", 0, \"\", \"\"], [\"Mike Drost\", \"12:00\", \"10:56\", \"D-Point\", \"Opponent Hold\", 0, \"\", \"\"], [\"Mike Drost\", \"8:09\", \"7:29\", \"D-Point\", \"Opponent Hold\", 0, \"\", \"\"], [\"Mike Drost\", \"4:43\", \"3:24\", \"D-Point\", \"Opponent Hold\", 0, \"\", \"\"], [\"Mike Drost\", \"5:55\", \"5:15\", \"D-Point\", \"Opponent Hold\", 0, \"\", \"\"], [\"Ryan Drost\", \"4:43\", \"3:24\", \"D-Point\", \"Opponent Hold\", 0, \"\", \"\"], [\"Ryan Drost\", \"5:55\", \"5:15\", \"D-Point\", \"Opponent Hold\", 0, \"\", \"\"], [\"Ryan Drost\", \"10:34\", \"9:18\", \"D-Point\", \"Opponent Hold\", 0, \"\", \"\"], [\"Ryan Drost\", \"2:59\", \"2:20\", \"D-Point\", \"Opponent Hold\", 0, \"\", \"\"], [\"Ryan Drost\", \"6:06\", \"4:42\", \"D-Point\", \"Opponent Hold\", 0, \"\", \"\"], [\"Ryan Drost\", \"12:00\", \"10:56\", \"D-Point\", \"Opponent Hold\", 0, \"\", \"\"], [\"Ryan Drost\", \"1:21\", \"0:22\", \"D-Point\", \"Opponent Hold\", 0, \"\", \"\"], [\"Ryan Drost\", \"3:25\", \"2:06\", \"D-Point\", \"Break\", 1, \"\", \" (Timeout)\"], [\"Ryan Drost\", \"5:51\", \"4:51\", \"D-Point\", \"Opponent Hold\", 0, \"\", \"\"], [\"Ryan Drost\", \"10:46\", \"7:38\", \"D-Point\", \"Break\", 3, \"\", \"\"], [\"Ryan Drost\", \"0:01\", \"0:00\", \"D-Point\", \"End of Quarter\", 0, \"\", \"\"], [\"Ryan Drost\", \"0:41\", \"0:16\", \"D-Point\", \"Opponent Hold\", 0, \"\", \"\"], [\"Ryan Drost\", \"3:03\", \"1:03\", \"D-Point\", \"Break\", 1, \"\", \" (Timeout)\"], [\"Ryan Drost\", \"12:00\", \"9:03\", \"D-Point\", \"Opponent Hold\", 2, \"\", \"\"], [\"Ryan Drost\", \"6:21\", \"4:48\", \"D-Point\", \"Opponent Hold\", 0, \"\", \"\"], [\"Josue Alorro\", \"12:00\", \"10:56\", \"D-Point\", \"Opponent Hold\", 0, \"\", \"\"], [\"Josue Alorro\", \"7:46\", \"6:06\", \"D-Point\", \"Break\", 1, \"\", \"\"], [\"Josue Alorro\", \"6:06\", \"4:42\", \"D-Point\", \"Opponent Hold\", 0, \"\", \"\"], [\"Josue Alorro\", \"4:43\", \"3:24\", \"D-Point\", \"Opponent Hold\", 0, \"\", \"\"], [\"Josue Alorro\", \"5:55\", \"5:15\", \"D-Point\", \"Opponent Hold\", 0, \"\", \"\"], [\"Josue Alorro\", \"8:08\", \"6:50\", \"D-Point\", \"Opponent Hold\", 0, \"\", \"\"], [\"Josue Alorro\", \"10:34\", \"9:18\", \"D-Point\", \"Opponent Hold\", 0, \"\", \"\"], [\"Josue Alorro\", \"12:00\", \"9:03\", \"D-Point\", \"Opponent Hold\", 2, \"\", \"\"], [\"Josue Alorro\", \"8:09\", \"7:29\", \"D-Point\", \"Opponent Hold\", 0, \"\", \"\"], [\"Josue Alorro\", \"0:41\", \"0:16\", \"D-Point\", \"Opponent Hold\", 0, \"\", \"\"], [\"Josue Alorro\", \"10:46\", \"7:38\", \"D-Point\", \"Break\", 3, \"\", \"\"], [\"Josue Alorro\", \"5:51\", \"4:51\", \"D-Point\", \"Opponent Hold\", 0, \"\", \"\"], [\"Josue Alorro\", \"3:25\", \"2:06\", \"D-Point\", \"Break\", 1, \"\", \" (Timeout)\"], [\"Josue Alorro\", \"1:21\", \"0:22\", \"D-Point\", \"Opponent Hold\", 0, \"\", \"\"], [\"Josue Alorro\", \"3:03\", \"1:03\", \"D-Point\", \"Break\", 1, \"\", \" (Timeout)\"], [\"Marques Brownlee\", \"4:43\", \"3:24\", \"D-Point\", \"Opponent Hold\", 0, \"\", \"\"], [\"Marques Brownlee\", \"5:55\", \"5:15\", \"D-Point\", \"Opponent Hold\", 0, \"\", \"\"], [\"Marques Brownlee\", \"10:34\", \"9:18\", \"D-Point\", \"Opponent Hold\", 0, \"\", \"\"], [\"Marques Brownlee\", \"2:59\", \"2:20\", \"D-Point\", \"Opponent Hold\", 0, \"\", \"\"], [\"Marques Brownlee\", \"6:06\", \"4:42\", \"D-Point\", \"Opponent Hold\", 0, \"\", \"\"], [\"Marques Brownlee\", \"1:21\", \"0:22\", \"D-Point\", \"Opponent Hold\", 0, \"\", \"\"], [\"Marques Brownlee\", \"3:25\", \"2:06\", \"D-Point\", \"Break\", 1, \"\", \" (Timeout)\"], [\"Marques Brownlee\", \"5:51\", \"4:51\", \"D-Point\", \"Opponent Hold\", 0, \"\", \"\"], [\"Marques Brownlee\", \"10:46\", \"7:38\", \"D-Point\", \"Break\", 3, \"\", \"\"], [\"Marques Brownlee\", \"0:01\", \"0:00\", \"D-Point\", \"End of Quarter\", 0, \"\", \"\"], [\"Marques Brownlee\", \"0:41\", \"0:16\", \"D-Point\", \"Opponent Hold\", 0, \"\", \"\"], [\"Marques Brownlee\", \"3:03\", \"1:03\", \"D-Point\", \"Break\", 1, \"\", \" (Timeout)\"], [\"Marques Brownlee\", \"6:21\", \"4:48\", \"D-Point\", \"Opponent Hold\", 0, \"\", \"\"], [\"Marques Brownlee\", \"12:00\", \"9:03\", \"D-Point\", \"Opponent Hold\", 2, \"\", \"\"], [\"Marques Brownlee\", \"12:00\", \"10:56\", \"D-Point\", \"Opponent Hold\", 0, \"\", \"\"], [\"Matt LeMar\", \"10:46\", \"7:38\", \"D-Point\", \"Break\", 3, \"\", \"\"], [\"Matt LeMar\", \"4:43\", \"3:24\", \"D-Point\", \"Opponent Hold\", 0, \"\", \"\"], [\"Matt LeMar\", \"5:55\", \"5:15\", \"D-Point\", \"Opponent Hold\", 0, \"\", \"\"], [\"Matt LeMar\", \"10:34\", \"9:18\", \"D-Point\", \"Opponent Hold\", 0, \"\", \"\"], [\"Matt LeMar\", \"2:59\", \"2:20\", \"D-Point\", \"Opponent Hold\", 0, \"\", \"\"], [\"Matt LeMar\", \"6:06\", \"4:42\", \"D-Point\", \"Opponent Hold\", 0, \"\", \"\"], [\"Matt LeMar\", \"12:00\", \"10:56\", \"D-Point\", \"Opponent Hold\", 0, \"\", \"\"], [\"Matt LeMar\", \"1:21\", \"0:22\", \"D-Point\", \"Opponent Hold\", 0, \"\", \"\"], [\"Matt LeMar\", \"3:25\", \"2:06\", \"D-Point\", \"Break\", 1, \"\", \" (Timeout)\"], [\"Matt LeMar\", \"6:21\", \"4:48\", \"D-Point\", \"Opponent Hold\", 0, \"\", \"\"], [\"Matt LeMar\", \"12:00\", \"9:03\", \"D-Point\", \"Opponent Hold\", 2, \"\", \"\"], [\"Matt LeMar\", \"5:51\", \"4:51\", \"D-Point\", \"Opponent Hold\", 0, \"\", \"\"], [\"Matt LeMar\", \"0:41\", \"0:16\", \"D-Point\", \"Opponent Hold\", 0, \"\", \"\"], [\"Matt LeMar\", \"3:03\", \"1:03\", \"D-Point\", \"Break\", 1, \"\", \" (Timeout)\"], [\"TJ Stanton\", \"8:08\", \"6:50\", \"D-Point\", \"Opponent Hold\", 0, \"\", \"\"], [\"TJ Stanton\", \"7:46\", \"6:06\", \"D-Point\", \"Break\", 1, \"\", \"\"], [\"TJ Stanton\", \"6:21\", \"4:48\", \"D-Point\", \"Opponent Hold\", 0, \"\", \"\"], [\"TJ Stanton\", \"7:38\", \"6:46\", \"D-Point\", \"Opponent Hold\", 0, \"\", \"\"], [\"TJ Stanton\", \"8:09\", \"7:29\", \"D-Point\", \"Opponent Hold\", 0, \"\", \"\"], [\"Sam Feder\", \"8:08\", \"6:50\", \"D-Point\", \"Opponent Hold\", 0, \"\", \"\"], [\"Sam Feder\", \"7:46\", \"6:06\", \"D-Point\", \"Break\", 1, \"\", \"\"], [\"Sam Feder\", \"7:38\", \"6:46\", \"D-Point\", \"Opponent Hold\", 0, \"\", \"\"], [\"Sam Feder\", \"8:09\", \"7:29\", \"D-Point\", \"Opponent Hold\", 0, \"\", \"\"], [\"Angelo Olcese\", \"7:38\", \"6:46\", \"D-Point\", \"Opponent Hold\", 0, \"\", \"\"], [\"Angelo Olcese\", \"8:08\", \"6:50\", \"D-Point\", \"Opponent Hold\", 0, \"\", \"\"], [\"Angelo Olcese\", \"7:46\", \"6:06\", \"D-Point\", \"Break\", 1, \"\", \"\"], [\"Angelo Olcese\", \"8:09\", \"7:29\", \"D-Point\", \"Opponent Hold\", 0, \"\", \"\"], [\"Joe Ouellette\", \"7:46\", \"6:06\", \"D-Point\", \"Break\", 1, \"\", \"\"], [\"Joe Ouellette\", \"8:09\", \"7:29\", \"D-Point\", \"Opponent Hold\", 0, \"\", \"\"], [\"Joe Ouellette\", \"7:38\", \"6:46\", \"D-Point\", \"Opponent Hold\", 0, \"\", \"\"], [\"Joe Ouellette\", \"8:08\", \"6:50\", \"D-Point\", \"Opponent Hold\", 0, \"\", \"\"], [\"Solomon Rueschemeyer-Bailey\", \"8:08\", \"6:50\", \"D-Point\", \"Opponent Hold\", 0, \"\", \"\"], [\"Solomon Rueschemeyer-Bailey\", \"8:09\", \"7:29\", \"D-Point\", \"Opponent Hold\", 0, \"\", \"\"], [\"Solomon Rueschemeyer-Bailey\", \"7:46\", \"6:06\", \"D-Point\", \"Break\", 1, \"\", \"\"], [\"Solomon Rueschemeyer-Bailey\", \"7:38\", \"6:46\", \"D-Point\", \"Opponent Hold\", 0, \"\", \"\"], [\"Matt Stevens\", \"7:38\", \"6:46\", \"D-Point\", \"Opponent Hold\", 0, \"\", \"\"], [\"Matt Stevens\", \"7:46\", \"6:06\", \"D-Point\", \"Break\", 1, \"\", \"\"], [\"Matt Stevens\", \"2:59\", \"2:20\", \"D-Point\", \"Opponent Hold\", 0, \"\", \"\"], [\"Matt Stevens\", \"8:08\", \"6:50\", \"D-Point\", \"Opponent Hold\", 0, \"\", \"\"]], \"hovertemplate\": \"%{customdata[0]}<br>Segment Start: %{customdata[1]}%{customdata[6]}<br>Segment End: %{customdata[2]}%{customdata[7]}<br>Initial Possession: %{customdata[3]}<br>Outcome: %{customdata[4]}<br>Total Turns During Point: %{customdata[5]}<br><extra></extra>\", \"legendgroup\": \"D-Point\", \"marker\": {\"color\": \"#EF553B\"}, \"name\": \"D-Point\", \"offsetgroup\": \"D-Point\", \"orientation\": \"h\", \"showlegend\": true, \"textposition\": \"auto\", \"type\": \"bar\", \"x\": [22.0, 1.0, 52.0, 45.0, 1.0, 22.0, 45.0, 22.0, 45.0, 45.0, 22.0, 45.0, 22.0, 45.0, 22.0, 60.0, 64.0, 177.0, 93.0, 120.0, 22.0, 25.0, 188.0, 1.0, 59.0, 45.0, 79.0, 84.0, 39.0, 40.0, 79.0, 76.0, 84.0, 39.0, 177.0, 76.0, 40.0, 79.0, 64.0, 59.0, 79.0, 60.0, 188.0, 1.0, 120.0, 93.0, 25.0, 59.0, 79.0, 60.0, 188.0, 1.0, 25.0, 120.0, 93.0, 177.0, 84.0, 39.0, 76.0, 64.0, 40.0, 79.0, 40.0, 79.0, 40.0, 76.0, 39.0, 84.0, 64.0, 59.0, 79.0, 60.0, 188.0, 1.0, 25.0, 120.0, 177.0, 93.0, 64.0, 100.0, 84.0, 79.0, 40.0, 78.0, 76.0, 177.0, 40.0, 25.0, 188.0, 60.0, 79.0, 59.0, 120.0, 79.0, 40.0, 76.0, 39.0, 84.0, 59.0, 79.0, 60.0, 188.0, 1.0, 25.0, 120.0, 93.0, 177.0, 64.0, 188.0, 79.0, 40.0, 76.0, 39.0, 84.0, 64.0, 59.0, 79.0, 93.0, 177.0, 60.0, 25.0, 120.0, 78.0, 100.0, 93.0, 52.0, 40.0, 78.0, 100.0, 52.0, 40.0, 52.0, 78.0, 100.0, 40.0, 100.0, 40.0, 52.0, 78.0, 78.0, 40.0, 100.0, 52.0, 52.0, 100.0, 39.0, 78.0], \"xaxis\": \"x\", \"y\": [\"Ben Jagt\", \"Ben Jagt\", \"Ben Jagt\", \"Ben Jagt\", \"Jack Williams\", \"Jack Williams\", \"Jack Williams\", \"Ryan Osgar\", \"Ryan Osgar\", \"John Lithio\", \"John Lithio\", \"Ryan Weaver\", \"Ryan Weaver\", \"Elliott Chartock\", \"Elliott Chartock\", \"Jeff Babbitt\", \"Jeff Babbitt\", \"Jeff Babbitt\", \"Jeff Babbitt\", \"Jeff Babbitt\", \"Jeff Babbitt\", \"Jeff Babbitt\", \"Jeff Babbitt\", \"Jeff Babbitt\", \"Jeff Babbitt\", \"Jeff Babbitt\", \"Jeff Babbitt\", \"Jeff Babbitt\", \"Jeff Babbitt\", \"Jeff Babbitt\", \"Jeff Babbitt\", \"Jeff Babbitt\", \"Ben Katz\", \"Ben Katz\", \"Ben Katz\", \"Ben Katz\", \"Ben Katz\", \"Ben Katz\", \"Ben Katz\", \"Ben Katz\", \"Ben Katz\", \"Ben Katz\", \"Ben Katz\", \"Ben Katz\", \"Ben Katz\", \"Ben Katz\", \"Ben Katz\", \"Mike Drost\", \"Mike Drost\", \"Mike Drost\", \"Mike Drost\", \"Mike Drost\", \"Mike Drost\", \"Mike Drost\", \"Mike Drost\", \"Mike Drost\", \"Mike Drost\", \"Mike Drost\", \"Mike Drost\", \"Mike Drost\", \"Mike Drost\", \"Mike Drost\", \"Mike Drost\", \"Ryan Drost\", \"Ryan Drost\", \"Ryan Drost\", \"Ryan Drost\", \"Ryan Drost\", \"Ryan Drost\", \"Ryan Drost\", \"Ryan Drost\", \"Ryan Drost\", \"Ryan Drost\", \"Ryan Drost\", \"Ryan Drost\", \"Ryan Drost\", \"Ryan Drost\", \"Ryan Drost\", \"Josue Alorro\", \"Josue Alorro\", \"Josue Alorro\", \"Josue Alorro\", \"Josue Alorro\", \"Josue Alorro\", \"Josue Alorro\", \"Josue Alorro\", \"Josue Alorro\", \"Josue Alorro\", \"Josue Alorro\", \"Josue Alorro\", \"Josue Alorro\", \"Josue Alorro\", \"Josue Alorro\", \"Marques Brownlee\", \"Marques Brownlee\", \"Marques Brownlee\", \"Marques Brownlee\", \"Marques Brownlee\", \"Marques Brownlee\", \"Marques Brownlee\", \"Marques Brownlee\", \"Marques Brownlee\", \"Marques Brownlee\", \"Marques Brownlee\", \"Marques Brownlee\", \"Marques Brownlee\", \"Marques Brownlee\", \"Marques Brownlee\", \"Matt LeMar\", \"Matt LeMar\", \"Matt LeMar\", \"Matt LeMar\", \"Matt LeMar\", \"Matt LeMar\", \"Matt LeMar\", \"Matt LeMar\", \"Matt LeMar\", \"Matt LeMar\", \"Matt LeMar\", \"Matt LeMar\", \"Matt LeMar\", \"Matt LeMar\", \"TJ Stanton\", \"TJ Stanton\", \"TJ Stanton\", \"TJ Stanton\", \"TJ Stanton\", \"Sam Feder\", \"Sam Feder\", \"Sam Feder\", \"Sam Feder\", \"Angelo Olcese\", \"Angelo Olcese\", \"Angelo Olcese\", \"Angelo Olcese\", \"Joe Ouellette\", \"Joe Ouellette\", \"Joe Ouellette\", \"Joe Ouellette\", \"Solomon Rueschemeyer-Bailey\", \"Solomon Rueschemeyer-Bailey\", \"Solomon Rueschemeyer-Bailey\", \"Solomon Rueschemeyer-Bailey\", \"Matt Stevens\", \"Matt Stevens\", \"Matt Stevens\", \"Matt Stevens\"], \"yaxis\": \"y\"}],                        {\"barmode\": \"overlay\", \"coloraxis\": {\"colorbar\": {\"dtick\": 1, \"tick0\": 0, \"title\": {\"text\": \"Turns During Point\"}}, \"colorscale\": [[0, \"rgb(150,150,150)\"], [0.33, \"rgb(200,200,50)\"], [0.67, \"rgb(200,100,50)\"], [1, \"rgb(200,50,50)\"]]}, \"font\": {\"family\": \"TW Cen MT\"}, \"legend\": {\"title\": {}, \"tracegroupgap\": 0}, \"margin\": {\"t\": 60}, \"shapes\": [{\"layer\": \"above\", \"line\": {\"color\": \"white\", \"dash\": \"solid\", \"width\": 2}, \"type\": \"line\", \"x0\": 0, \"x1\": 0, \"xref\": \"x\", \"y0\": 0, \"y1\": 1, \"yref\": \"y domain\"}, {\"layer\": \"above\", \"line\": {\"color\": \"white\", \"dash\": \"solid\", \"width\": 2}, \"type\": \"line\", \"x0\": 720, \"x1\": 720, \"xref\": \"x\", \"y0\": 0, \"y1\": 1, \"yref\": \"y domain\"}, {\"layer\": \"above\", \"line\": {\"color\": \"white\", \"dash\": \"solid\", \"width\": 2}, \"type\": \"line\", \"x0\": 1440, \"x1\": 1440, \"xref\": \"x\", \"y0\": 0, \"y1\": 1, \"yref\": \"y domain\"}, {\"layer\": \"above\", \"line\": {\"color\": \"white\", \"dash\": \"solid\", \"width\": 2}, \"type\": \"line\", \"x0\": 2160, \"x1\": 2160, \"xref\": \"x\", \"y0\": 0, \"y1\": 1, \"yref\": \"y domain\"}, {\"layer\": \"above\", \"line\": {\"color\": \"white\", \"dash\": \"solid\", \"width\": 2}, \"type\": \"line\", \"x0\": 2880, \"x1\": 2880, \"xref\": \"x\", \"y0\": 0, \"y1\": 1, \"yref\": \"y domain\"}, {\"layer\": \"above\", \"line\": {\"color\": \"white\", \"dash\": \"dash\", \"width\": 2}, \"type\": \"line\", \"x0\": 657.0, \"x1\": 657.0, \"xref\": \"x\", \"y0\": 0, \"y1\": 1, \"yref\": \"y domain\"}, {\"layer\": \"above\", \"line\": {\"color\": \"white\", \"dash\": \"dash\", \"width\": 2}, \"type\": \"line\", \"x0\": 1203.0, \"x1\": 1203.0, \"xref\": \"x\", \"y0\": 0, \"y1\": 1, \"yref\": \"y domain\"}, {\"layer\": \"above\", \"line\": {\"color\": \"white\", \"dash\": \"dash\", \"width\": 2}, \"type\": \"line\", \"x0\": 1314.0, \"x1\": 1314.0, \"xref\": \"x\", \"y0\": 0, \"y1\": 1, \"yref\": \"y domain\"}, {\"layer\": \"above\", \"line\": {\"color\": \"white\", \"dash\": \"dash\", \"width\": 2}, \"type\": \"line\", \"x0\": 1555.0, \"x1\": 1555.0, \"xref\": \"x\", \"y0\": 0, \"y1\": 1, \"yref\": \"y domain\"}, {\"layer\": \"above\", \"line\": {\"color\": \"white\", \"dash\": \"dash\", \"width\": 2}, \"type\": \"line\", \"x0\": 2761.0, \"x1\": 2761.0, \"xref\": \"x\", \"y0\": 0, \"y1\": 1, \"yref\": \"y domain\"}, {\"layer\": \"above\", \"line\": {\"color\": \"white\", \"dash\": \"dash\", \"width\": 2}, \"type\": \"line\", \"x0\": 2718.5, \"x1\": 2718.5, \"xref\": \"x\", \"y0\": 0, \"y1\": 1, \"yref\": \"y domain\"}, {\"fillcolor\": \"rgb(102,194,165)\", \"layer\": \"below\", \"line\": {\"width\": 0}, \"opacity\": 0.25, \"type\": \"rect\", \"x0\": 0, \"x1\": 1, \"xref\": \"x domain\", \"y0\": 12.5, \"y1\": 19.5, \"yref\": \"y\"}, {\"fillcolor\": \"rgb(252,141,98)\", \"layer\": \"below\", \"line\": {\"width\": 0}, \"opacity\": 0.25, \"type\": \"rect\", \"x0\": 0, \"x1\": 1, \"xref\": \"x domain\", \"y0\": 5.5, \"y1\": 12.5, \"yref\": \"y\"}, {\"fillcolor\": \"rgb(141,160,203)\", \"layer\": \"below\", \"line\": {\"width\": 0}, \"opacity\": 0.25, \"type\": \"rect\", \"x0\": 0, \"x1\": 1, \"xref\": \"x domain\", \"y0\": -0.5, \"y1\": 5.5, \"yref\": \"y\"}], \"template\": {\"data\": {\"bar\": [{\"error_x\": {\"color\": \"#2a3f5f\"}, \"error_y\": {\"color\": \"#2a3f5f\"}, \"marker\": {\"line\": {\"color\": \"#E5ECF6\", \"width\": 0.5}}, \"type\": \"bar\"}], \"barpolar\": [{\"marker\": {\"line\": {\"color\": \"#E5ECF6\", \"width\": 0.5}}, \"type\": \"barpolar\"}], \"carpet\": [{\"aaxis\": {\"endlinecolor\": \"#2a3f5f\", \"gridcolor\": \"white\", \"linecolor\": \"white\", \"minorgridcolor\": \"white\", \"startlinecolor\": \"#2a3f5f\"}, \"baxis\": {\"endlinecolor\": \"#2a3f5f\", \"gridcolor\": \"white\", \"linecolor\": \"white\", \"minorgridcolor\": \"white\", \"startlinecolor\": \"#2a3f5f\"}, \"type\": \"carpet\"}], \"choropleth\": [{\"colorbar\": {\"outlinewidth\": 0, \"ticks\": \"\"}, \"type\": \"choropleth\"}], \"contour\": [{\"colorbar\": {\"outlinewidth\": 0, \"ticks\": \"\"}, \"colorscale\": [[0.0, \"#0d0887\"], [0.1111111111111111, \"#46039f\"], [0.2222222222222222, \"#7201a8\"], [0.3333333333333333, \"#9c179e\"], [0.4444444444444444, \"#bd3786\"], [0.5555555555555556, \"#d8576b\"], [0.6666666666666666, \"#ed7953\"], [0.7777777777777778, \"#fb9f3a\"], [0.8888888888888888, \"#fdca26\"], [1.0, \"#f0f921\"]], \"type\": \"contour\"}], \"contourcarpet\": [{\"colorbar\": {\"outlinewidth\": 0, \"ticks\": \"\"}, \"type\": \"contourcarpet\"}], \"heatmap\": [{\"colorbar\": {\"outlinewidth\": 0, \"ticks\": \"\"}, \"colorscale\": [[0.0, \"#0d0887\"], [0.1111111111111111, \"#46039f\"], [0.2222222222222222, \"#7201a8\"], [0.3333333333333333, \"#9c179e\"], [0.4444444444444444, \"#bd3786\"], [0.5555555555555556, \"#d8576b\"], [0.6666666666666666, \"#ed7953\"], [0.7777777777777778, \"#fb9f3a\"], [0.8888888888888888, \"#fdca26\"], [1.0, \"#f0f921\"]], \"type\": \"heatmap\"}], \"heatmapgl\": [{\"colorbar\": {\"outlinewidth\": 0, \"ticks\": \"\"}, \"colorscale\": [[0.0, \"#0d0887\"], [0.1111111111111111, \"#46039f\"], [0.2222222222222222, \"#7201a8\"], [0.3333333333333333, \"#9c179e\"], [0.4444444444444444, \"#bd3786\"], [0.5555555555555556, \"#d8576b\"], [0.6666666666666666, \"#ed7953\"], [0.7777777777777778, \"#fb9f3a\"], [0.8888888888888888, \"#fdca26\"], [1.0, \"#f0f921\"]], \"type\": \"heatmapgl\"}], \"histogram\": [{\"marker\": {\"colorbar\": {\"outlinewidth\": 0, \"ticks\": \"\"}}, \"type\": \"histogram\"}], \"histogram2d\": [{\"colorbar\": {\"outlinewidth\": 0, \"ticks\": \"\"}, \"colorscale\": [[0.0, \"#0d0887\"], [0.1111111111111111, \"#46039f\"], [0.2222222222222222, \"#7201a8\"], [0.3333333333333333, \"#9c179e\"], [0.4444444444444444, \"#bd3786\"], [0.5555555555555556, \"#d8576b\"], [0.6666666666666666, \"#ed7953\"], [0.7777777777777778, \"#fb9f3a\"], [0.8888888888888888, \"#fdca26\"], [1.0, \"#f0f921\"]], \"type\": \"histogram2d\"}], \"histogram2dcontour\": [{\"colorbar\": {\"outlinewidth\": 0, \"ticks\": \"\"}, \"colorscale\": [[0.0, \"#0d0887\"], [0.1111111111111111, \"#46039f\"], [0.2222222222222222, \"#7201a8\"], [0.3333333333333333, \"#9c179e\"], [0.4444444444444444, \"#bd3786\"], [0.5555555555555556, \"#d8576b\"], [0.6666666666666666, \"#ed7953\"], [0.7777777777777778, \"#fb9f3a\"], [0.8888888888888888, \"#fdca26\"], [1.0, \"#f0f921\"]], \"type\": \"histogram2dcontour\"}], \"mesh3d\": [{\"colorbar\": {\"outlinewidth\": 0, \"ticks\": \"\"}, \"type\": \"mesh3d\"}], \"parcoords\": [{\"line\": {\"colorbar\": {\"outlinewidth\": 0, \"ticks\": \"\"}}, \"type\": \"parcoords\"}], \"pie\": [{\"automargin\": true, \"type\": \"pie\"}], \"scatter\": [{\"marker\": {\"colorbar\": {\"outlinewidth\": 0, \"ticks\": \"\"}}, \"type\": \"scatter\"}], \"scatter3d\": [{\"line\": {\"colorbar\": {\"outlinewidth\": 0, \"ticks\": \"\"}}, \"marker\": {\"colorbar\": {\"outlinewidth\": 0, \"ticks\": \"\"}}, \"type\": \"scatter3d\"}], \"scattercarpet\": [{\"marker\": {\"colorbar\": {\"outlinewidth\": 0, \"ticks\": \"\"}}, \"type\": \"scattercarpet\"}], \"scattergeo\": [{\"marker\": {\"colorbar\": {\"outlinewidth\": 0, \"ticks\": \"\"}}, \"type\": \"scattergeo\"}], \"scattergl\": [{\"marker\": {\"colorbar\": {\"outlinewidth\": 0, \"ticks\": \"\"}}, \"type\": \"scattergl\"}], \"scattermapbox\": [{\"marker\": {\"colorbar\": {\"outlinewidth\": 0, \"ticks\": \"\"}}, \"type\": \"scattermapbox\"}], \"scatterpolar\": [{\"marker\": {\"colorbar\": {\"outlinewidth\": 0, \"ticks\": \"\"}}, \"type\": \"scatterpolar\"}], \"scatterpolargl\": [{\"marker\": {\"colorbar\": {\"outlinewidth\": 0, \"ticks\": \"\"}}, \"type\": \"scatterpolargl\"}], \"scatterternary\": [{\"marker\": {\"colorbar\": {\"outlinewidth\": 0, \"ticks\": \"\"}}, \"type\": \"scatterternary\"}], \"surface\": [{\"colorbar\": {\"outlinewidth\": 0, \"ticks\": \"\"}, \"colorscale\": [[0.0, \"#0d0887\"], [0.1111111111111111, \"#46039f\"], [0.2222222222222222, \"#7201a8\"], [0.3333333333333333, \"#9c179e\"], [0.4444444444444444, \"#bd3786\"], [0.5555555555555556, \"#d8576b\"], [0.6666666666666666, \"#ed7953\"], [0.7777777777777778, \"#fb9f3a\"], [0.8888888888888888, \"#fdca26\"], [1.0, \"#f0f921\"]], \"type\": \"surface\"}], \"table\": [{\"cells\": {\"fill\": {\"color\": \"#EBF0F8\"}, \"line\": {\"color\": \"white\"}}, \"header\": {\"fill\": {\"color\": \"#C8D4E3\"}, \"line\": {\"color\": \"white\"}}, \"type\": \"table\"}]}, \"layout\": {\"annotationdefaults\": {\"arrowcolor\": \"#2a3f5f\", \"arrowhead\": 0, \"arrowwidth\": 1}, \"autotypenumbers\": \"strict\", \"coloraxis\": {\"colorbar\": {\"outlinewidth\": 0, \"ticks\": \"\"}}, \"colorscale\": {\"diverging\": [[0, \"#8e0152\"], [0.1, \"#c51b7d\"], [0.2, \"#de77ae\"], [0.3, \"#f1b6da\"], [0.4, \"#fde0ef\"], [0.5, \"#f7f7f7\"], [0.6, \"#e6f5d0\"], [0.7, \"#b8e186\"], [0.8, \"#7fbc41\"], [0.9, \"#4d9221\"], [1, \"#276419\"]], \"sequential\": [[0.0, \"#0d0887\"], [0.1111111111111111, \"#46039f\"], [0.2222222222222222, \"#7201a8\"], [0.3333333333333333, \"#9c179e\"], [0.4444444444444444, \"#bd3786\"], [0.5555555555555556, \"#d8576b\"], [0.6666666666666666, \"#ed7953\"], [0.7777777777777778, \"#fb9f3a\"], [0.8888888888888888, \"#fdca26\"], [1.0, \"#f0f921\"]], \"sequentialminus\": [[0.0, \"#0d0887\"], [0.1111111111111111, \"#46039f\"], [0.2222222222222222, \"#7201a8\"], [0.3333333333333333, \"#9c179e\"], [0.4444444444444444, \"#bd3786\"], [0.5555555555555556, \"#d8576b\"], [0.6666666666666666, \"#ed7953\"], [0.7777777777777778, \"#fb9f3a\"], [0.8888888888888888, \"#fdca26\"], [1.0, \"#f0f921\"]]}, \"colorway\": [\"#636efa\", \"#EF553B\", \"#00cc96\", \"#ab63fa\", \"#FFA15A\", \"#19d3f3\", \"#FF6692\", \"#B6E880\", \"#FF97FF\", \"#FECB52\"], \"font\": {\"color\": \"#2a3f5f\"}, \"geo\": {\"bgcolor\": \"white\", \"lakecolor\": \"white\", \"landcolor\": \"#E5ECF6\", \"showlakes\": true, \"showland\": true, \"subunitcolor\": \"white\"}, \"hoverlabel\": {\"align\": \"left\"}, \"hovermode\": \"closest\", \"mapbox\": {\"style\": \"light\"}, \"paper_bgcolor\": \"white\", \"plot_bgcolor\": \"#E5ECF6\", \"polar\": {\"angularaxis\": {\"gridcolor\": \"white\", \"linecolor\": \"white\", \"ticks\": \"\"}, \"bgcolor\": \"#E5ECF6\", \"radialaxis\": {\"gridcolor\": \"white\", \"linecolor\": \"white\", \"ticks\": \"\"}}, \"scene\": {\"xaxis\": {\"backgroundcolor\": \"#E5ECF6\", \"gridcolor\": \"white\", \"gridwidth\": 2, \"linecolor\": \"white\", \"showbackground\": true, \"ticks\": \"\", \"zerolinecolor\": \"white\"}, \"yaxis\": {\"backgroundcolor\": \"#E5ECF6\", \"gridcolor\": \"white\", \"gridwidth\": 2, \"linecolor\": \"white\", \"showbackground\": true, \"ticks\": \"\", \"zerolinecolor\": \"white\"}, \"zaxis\": {\"backgroundcolor\": \"#E5ECF6\", \"gridcolor\": \"white\", \"gridwidth\": 2, \"linecolor\": \"white\", \"showbackground\": true, \"ticks\": \"\", \"zerolinecolor\": \"white\"}}, \"shapedefaults\": {\"line\": {\"color\": \"#2a3f5f\"}}, \"ternary\": {\"aaxis\": {\"gridcolor\": \"white\", \"linecolor\": \"white\", \"ticks\": \"\"}, \"baxis\": {\"gridcolor\": \"white\", \"linecolor\": \"white\", \"ticks\": \"\"}, \"bgcolor\": \"#E5ECF6\", \"caxis\": {\"gridcolor\": \"white\", \"linecolor\": \"white\", \"ticks\": \"\"}}, \"title\": {\"x\": 0.05}, \"xaxis\": {\"automargin\": true, \"gridcolor\": \"white\", \"linecolor\": \"white\", \"ticks\": \"\", \"title\": {\"standoff\": 15}, \"zerolinecolor\": \"white\", \"zerolinewidth\": 2}, \"yaxis\": {\"automargin\": true, \"gridcolor\": \"white\", \"linecolor\": \"white\", \"ticks\": \"\", \"title\": {\"standoff\": 15}, \"zerolinecolor\": \"white\", \"zerolinewidth\": 2}}}, \"xaxis\": {\"anchor\": \"y\", \"domain\": [0.0, 1.0], \"range\": [0, 2880.0], \"showgrid\": false, \"tickmode\": \"array\", \"ticks\": \"\", \"ticktext\": [\"Game Start\", \"End of Q1\", \"End of Q2\", \"End of Q3\", \"End of Q4\"], \"tickvals\": [0, 720, 1440, 2160, 2880], \"type\": \"linear\"}, \"yaxis\": {\"anchor\": \"x\", \"categoryarray\": [\"Matt Stevens\", \"Solomon Rueschemeyer-Bailey\", \"Joe Ouellette\", \"Angelo Olcese\", \"Sam Feder\", \"TJ Stanton\", \"Matt LeMar\", \"Marques Brownlee\", \"Josue Alorro\", \"Ryan Drost\", \"Mike Drost\", \"Ben Katz\", \"Jeff Babbitt\", \"Conor Kline\", \"Elliott Chartock\", \"Ryan Weaver\", \"John Lithio\", \"Ryan Osgar\", \"Jack Williams\", \"Ben Jagt\"], \"categoryorder\": \"array\", \"domain\": [0.0, 1.0], \"title\": {}}},                        {\"responsive\": true}                    ).then(function(){\n",
       "                            \n",
       "var gd = document.getElementById('1bbf07ad-efda-4c1a-b254-56fe9ca01209');\n",
       "var x = new MutationObserver(function (mutations, observer) {{\n",
       "        var display = window.getComputedStyle(gd).display;\n",
       "        if (!display || display === 'none') {{\n",
       "            console.log([gd, 'removed!']);\n",
       "            Plotly.purge(gd);\n",
       "            observer.disconnect();\n",
       "        }}\n",
       "}});\n",
       "\n",
       "// Listen for the removal of the full notebook cells\n",
       "var notebookContainer = gd.closest('#notebook-container');\n",
       "if (notebookContainer) {{\n",
       "    x.observe(notebookContainer, {childList: true});\n",
       "}}\n",
       "\n",
       "// Listen for the clearing of the current output cell\n",
       "var outputEl = gd.closest('.output');\n",
       "if (outputEl) {{\n",
       "    x.observe(outputEl, {childList: true});\n",
       "}}\n",
       "\n",
       "                        })                };                });            </script>        </div>"
      ]
     },
     "metadata": {},
     "output_type": "display_data"
    }
   ],
   "source": [
    "fig = g.visual_game_flow(color=\"o_point\", home=True, qc=True)\n",
    "fig"
   ]
  },
  {
   "cell_type": "code",
   "execution_count": 1262,
   "metadata": {},
   "outputs": [
    {
     "data": {
      "application/vnd.plotly.v1+json": {
       "config": {
        "plotlyServerURL": "https://plot.ly"
       },
       "data": [
        {
         "hoverinfo": "skip",
         "legendgroup": "",
         "marker": {
          "color": "gray",
          "size": [
           1
          ],
          "sizemode": "area",
          "sizeref": 0.01,
          "symbol": "circle"
         },
         "mode": "markers",
         "name": "",
         "orientation": "v",
         "showlegend": false,
         "type": "scatter",
         "x": [
          2.09
         ],
         "xaxis": "x",
         "y": [
          24.96
         ],
         "yaxis": "y"
        },
        {
         "marker": {
          "color": [
           "purple"
          ],
          "symbol": "diamond"
         },
         "mode": "markers",
         "name": "Start of Possession",
         "type": "scatter",
         "x": [
          2.09
         ],
         "y": [
          24.96
         ]
        },
        {
         "marker": {
          "color": [
           "gray",
           "gray",
           "gray",
           "gray",
           "gray",
           "gray",
           "gray",
           "gray",
           "gray",
           "gray",
           "gray",
           "gray",
           "gray",
           "gray",
           "gray"
          ],
          "symbol": "diamond"
         },
         "mode": "markers",
         "name": "Completion",
         "type": "scatter",
         "x": [
          -7.99,
          -16.13,
          -1.25,
          -16.28,
          -19.46,
          -21.21,
          -21.56,
          -22.02,
          -23.03,
          -8.76,
          -5.35,
          6.74,
          -5.66,
          -13.49,
          -2.8
         ],
         "y": [
          31.55,
          41.08,
          31.31,
          39.92,
          55.19,
          64.8,
          76.35,
          86.27,
          96.27,
          87.2,
          84.49,
          84.65,
          84.26,
          84.34,
          84.26
         ]
        },
        {
         "marker": {
          "color": [
           "red"
          ],
          "symbol": "diamond"
         },
         "mode": "markers",
         "name": "Throwaway",
         "type": "scatter",
         "x": [
          -25.94
         ],
         "y": [
          105.07
         ]
        }
       ],
       "frames": [
        {
         "data": [
          {
           "legendgroup": "",
           "marker": {
            "color": "gray",
            "size": [
             1
            ],
            "sizemode": "area",
            "sizeref": 0.01,
            "symbol": "circle"
           },
           "mode": "markers",
           "name": "",
           "orientation": "v",
           "showlegend": false,
           "type": "scatter",
           "x": [
            2.09
           ],
           "xaxis": "x",
           "y": [
            24.96
           ],
           "yaxis": "y"
          }
         ],
         "name": "1"
        },
        {
         "data": [
          {
           "legendgroup": "",
           "marker": {
            "color": "gray",
            "size": [
             1
            ],
            "sizemode": "area",
            "sizeref": 0.01,
            "symbol": "circle"
           },
           "mode": "markers",
           "name": "",
           "orientation": "v",
           "showlegend": false,
           "type": "scatter",
           "x": [
            -7.99
           ],
           "xaxis": "x",
           "y": [
            31.55
           ],
           "yaxis": "y"
          }
         ],
         "name": "2"
        },
        {
         "data": [
          {
           "legendgroup": "",
           "marker": {
            "color": "gray",
            "size": [
             1
            ],
            "sizemode": "area",
            "sizeref": 0.01,
            "symbol": "circle"
           },
           "mode": "markers",
           "name": "",
           "orientation": "v",
           "showlegend": false,
           "type": "scatter",
           "x": [
            -16.13
           ],
           "xaxis": "x",
           "y": [
            41.08
           ],
           "yaxis": "y"
          }
         ],
         "name": "3"
        },
        {
         "data": [
          {
           "legendgroup": "",
           "marker": {
            "color": "gray",
            "size": [
             1
            ],
            "sizemode": "area",
            "sizeref": 0.01,
            "symbol": "circle"
           },
           "mode": "markers",
           "name": "",
           "orientation": "v",
           "showlegend": false,
           "type": "scatter",
           "x": [
            -1.25
           ],
           "xaxis": "x",
           "y": [
            31.31
           ],
           "yaxis": "y"
          }
         ],
         "name": "4"
        },
        {
         "data": [
          {
           "legendgroup": "",
           "marker": {
            "color": "gray",
            "size": [
             1
            ],
            "sizemode": "area",
            "sizeref": 0.01,
            "symbol": "circle"
           },
           "mode": "markers",
           "name": "",
           "orientation": "v",
           "showlegend": false,
           "type": "scatter",
           "x": [
            -16.28
           ],
           "xaxis": "x",
           "y": [
            39.92
           ],
           "yaxis": "y"
          }
         ],
         "name": "5"
        },
        {
         "data": [
          {
           "legendgroup": "",
           "marker": {
            "color": "gray",
            "size": [
             1
            ],
            "sizemode": "area",
            "sizeref": 0.01,
            "symbol": "circle"
           },
           "mode": "markers",
           "name": "",
           "orientation": "v",
           "showlegend": false,
           "type": "scatter",
           "x": [
            -19.46
           ],
           "xaxis": "x",
           "y": [
            55.19
           ],
           "yaxis": "y"
          }
         ],
         "name": "6"
        },
        {
         "data": [
          {
           "legendgroup": "",
           "marker": {
            "color": "gray",
            "size": [
             1
            ],
            "sizemode": "area",
            "sizeref": 0.01,
            "symbol": "circle"
           },
           "mode": "markers",
           "name": "",
           "orientation": "v",
           "showlegend": false,
           "type": "scatter",
           "x": [
            -21.21
           ],
           "xaxis": "x",
           "y": [
            64.8
           ],
           "yaxis": "y"
          }
         ],
         "name": "7"
        },
        {
         "data": [
          {
           "legendgroup": "",
           "marker": {
            "color": "gray",
            "size": [
             1
            ],
            "sizemode": "area",
            "sizeref": 0.01,
            "symbol": "circle"
           },
           "mode": "markers",
           "name": "",
           "orientation": "v",
           "showlegend": false,
           "type": "scatter",
           "x": [
            -21.56
           ],
           "xaxis": "x",
           "y": [
            76.35
           ],
           "yaxis": "y"
          }
         ],
         "name": "8"
        },
        {
         "data": [
          {
           "legendgroup": "",
           "marker": {
            "color": "gray",
            "size": [
             1
            ],
            "sizemode": "area",
            "sizeref": 0.01,
            "symbol": "circle"
           },
           "mode": "markers",
           "name": "",
           "orientation": "v",
           "showlegend": false,
           "type": "scatter",
           "x": [
            -22.02
           ],
           "xaxis": "x",
           "y": [
            86.27
           ],
           "yaxis": "y"
          }
         ],
         "name": "9"
        },
        {
         "data": [
          {
           "legendgroup": "",
           "marker": {
            "color": "gray",
            "size": [
             1
            ],
            "sizemode": "area",
            "sizeref": 0.01,
            "symbol": "circle"
           },
           "mode": "markers",
           "name": "",
           "orientation": "v",
           "showlegend": false,
           "type": "scatter",
           "x": [
            -23.03
           ],
           "xaxis": "x",
           "y": [
            96.27
           ],
           "yaxis": "y"
          }
         ],
         "name": "10"
        },
        {
         "data": [
          {
           "legendgroup": "",
           "marker": {
            "color": "gray",
            "size": [
             1
            ],
            "sizemode": "area",
            "sizeref": 0.01,
            "symbol": "circle"
           },
           "mode": "markers",
           "name": "",
           "orientation": "v",
           "showlegend": false,
           "type": "scatter",
           "x": [
            -8.76
           ],
           "xaxis": "x",
           "y": [
            87.2
           ],
           "yaxis": "y"
          }
         ],
         "name": "11"
        },
        {
         "data": [
          {
           "legendgroup": "",
           "marker": {
            "color": "gray",
            "size": [
             1
            ],
            "sizemode": "area",
            "sizeref": 0.01,
            "symbol": "circle"
           },
           "mode": "markers",
           "name": "",
           "orientation": "v",
           "showlegend": false,
           "type": "scatter",
           "x": [
            -5.35
           ],
           "xaxis": "x",
           "y": [
            84.49
           ],
           "yaxis": "y"
          }
         ],
         "name": "12"
        },
        {
         "data": [
          {
           "legendgroup": "",
           "marker": {
            "color": "gray",
            "size": [
             1
            ],
            "sizemode": "area",
            "sizeref": 0.01,
            "symbol": "circle"
           },
           "mode": "markers",
           "name": "",
           "orientation": "v",
           "showlegend": false,
           "type": "scatter",
           "x": [
            6.74
           ],
           "xaxis": "x",
           "y": [
            84.65
           ],
           "yaxis": "y"
          }
         ],
         "name": "13"
        },
        {
         "data": [
          {
           "legendgroup": "",
           "marker": {
            "color": "gray",
            "size": [
             1
            ],
            "sizemode": "area",
            "sizeref": 0.01,
            "symbol": "circle"
           },
           "mode": "markers",
           "name": "",
           "orientation": "v",
           "showlegend": false,
           "type": "scatter",
           "x": [
            -5.66
           ],
           "xaxis": "x",
           "y": [
            84.26
           ],
           "yaxis": "y"
          }
         ],
         "name": "14"
        },
        {
         "data": [
          {
           "legendgroup": "",
           "marker": {
            "color": "gray",
            "size": [
             1
            ],
            "sizemode": "area",
            "sizeref": 0.01,
            "symbol": "circle"
           },
           "mode": "markers",
           "name": "",
           "orientation": "v",
           "showlegend": false,
           "type": "scatter",
           "x": [
            -13.49
           ],
           "xaxis": "x",
           "y": [
            84.34
           ],
           "yaxis": "y"
          }
         ],
         "name": "15"
        },
        {
         "data": [
          {
           "legendgroup": "",
           "marker": {
            "color": "gray",
            "size": [
             1
            ],
            "sizemode": "area",
            "sizeref": 0.01,
            "symbol": "circle"
           },
           "mode": "markers",
           "name": "",
           "orientation": "v",
           "showlegend": false,
           "type": "scatter",
           "x": [
            -2.8
           ],
           "xaxis": "x",
           "y": [
            84.26
           ],
           "yaxis": "y"
          }
         ],
         "name": "16"
        },
        {
         "data": [
          {
           "legendgroup": "",
           "marker": {
            "color": "gray",
            "size": [
             1
            ],
            "sizemode": "area",
            "sizeref": 0.01,
            "symbol": "circle"
           },
           "mode": "markers",
           "name": "",
           "orientation": "v",
           "showlegend": false,
           "type": "scatter",
           "x": [
            -25.94
           ],
           "xaxis": "x",
           "y": [
            105.07
           ],
           "yaxis": "y"
          }
         ],
         "name": "17"
        }
       ],
       "layout": {
        "annotations": [
         {
          "arrowhead": 2,
          "arrowsize": 1.5,
          "ax": 40,
          "axref": "x",
          "ay": 60,
          "ayref": "y",
          "showarrow": true,
          "text": "Attacking",
          "x": 40,
          "xref": "x",
          "y": 80,
          "yref": "y"
         }
        ],
        "font": {
         "family": "TW Cen MT"
        },
        "legend": {
         "itemsizing": "constant",
         "tracegroupgap": 0
        },
        "margin": {
         "t": 60
        },
        "paper_bgcolor": "rgba(0,0,0,0)",
        "plot_bgcolor": "rgba(0,0,0,0)",
        "shapes": [
         {
          "line": {
           "color": "black"
          },
          "type": "line",
          "x0": -25,
          "x1": 25,
          "y0": 0,
          "y1": 0
         },
         {
          "line": {
           "color": "black"
          },
          "type": "line",
          "x0": -25,
          "x1": 25,
          "y0": 20,
          "y1": 20
         },
         {
          "line": {
           "color": "black"
          },
          "type": "line",
          "x0": -25,
          "x1": 25,
          "y0": 100,
          "y1": 100
         },
         {
          "line": {
           "color": "black"
          },
          "type": "line",
          "x0": -25,
          "x1": 25,
          "y0": 120,
          "y1": 120
         },
         {
          "line": {
           "color": "black"
          },
          "type": "line",
          "x0": -25,
          "x1": -25,
          "y0": 0,
          "y1": 120
         },
         {
          "line": {
           "color": "black"
          },
          "type": "line",
          "x0": 25,
          "x1": 25,
          "y0": 0,
          "y1": 120
         },
         {
          "layer": "below",
          "line": {
           "color": "gray"
          },
          "type": "line",
          "x0": 2.09,
          "x1": -7.99,
          "y0": 24.96,
          "y1": 31.55
         },
         {
          "layer": "below",
          "line": {
           "color": "gray"
          },
          "type": "line",
          "x0": -7.99,
          "x1": -16.13,
          "y0": 31.55,
          "y1": 41.08
         },
         {
          "layer": "below",
          "line": {
           "color": "gray"
          },
          "type": "line",
          "x0": -16.13,
          "x1": -1.25,
          "y0": 41.08,
          "y1": 31.31
         },
         {
          "layer": "below",
          "line": {
           "color": "gray"
          },
          "type": "line",
          "x0": -1.25,
          "x1": -16.28,
          "y0": 31.31,
          "y1": 39.92
         },
         {
          "layer": "below",
          "line": {
           "color": "gray"
          },
          "type": "line",
          "x0": -16.28,
          "x1": -19.46,
          "y0": 39.92,
          "y1": 55.19
         },
         {
          "layer": "below",
          "line": {
           "color": "gray"
          },
          "type": "line",
          "x0": -19.46,
          "x1": -21.21,
          "y0": 55.19,
          "y1": 64.8
         },
         {
          "layer": "below",
          "line": {
           "color": "gray"
          },
          "type": "line",
          "x0": -21.21,
          "x1": -21.56,
          "y0": 64.8,
          "y1": 76.35
         },
         {
          "layer": "below",
          "line": {
           "color": "gray"
          },
          "type": "line",
          "x0": -21.56,
          "x1": -22.02,
          "y0": 76.35,
          "y1": 86.27
         },
         {
          "layer": "below",
          "line": {
           "color": "gray"
          },
          "type": "line",
          "x0": -22.02,
          "x1": -23.03,
          "y0": 86.27,
          "y1": 96.27
         },
         {
          "layer": "below",
          "line": {
           "color": "gray"
          },
          "type": "line",
          "x0": -23.03,
          "x1": -8.76,
          "y0": 96.27,
          "y1": 87.2
         },
         {
          "layer": "below",
          "line": {
           "color": "gray"
          },
          "type": "line",
          "x0": -8.76,
          "x1": -5.35,
          "y0": 87.2,
          "y1": 84.49
         },
         {
          "layer": "below",
          "line": {
           "color": "gray"
          },
          "type": "line",
          "x0": -5.35,
          "x1": 6.74,
          "y0": 84.49,
          "y1": 84.65
         },
         {
          "layer": "below",
          "line": {
           "color": "gray"
          },
          "type": "line",
          "x0": 6.74,
          "x1": -5.66,
          "y0": 84.65,
          "y1": 84.26
         },
         {
          "layer": "below",
          "line": {
           "color": "gray"
          },
          "type": "line",
          "x0": -5.66,
          "x1": -13.49,
          "y0": 84.26,
          "y1": 84.34
         },
         {
          "layer": "below",
          "line": {
           "color": "gray"
          },
          "type": "line",
          "x0": -13.49,
          "x1": -2.8,
          "y0": 84.34,
          "y1": 84.26
         },
         {
          "layer": "below",
          "line": {
           "color": "red"
          },
          "type": "line",
          "x0": -2.8,
          "x1": -25.94,
          "y0": 84.26,
          "y1": 105.07
         }
        ],
        "showlegend": false,
        "sliders": [
         {
          "active": 0,
          "currentvalue": {
           "prefix": ""
          },
          "len": 0.9,
          "pad": {
           "b": 5,
           "t": 29
          },
          "steps": [
           {
            "args": [
             [
              "1"
             ],
             {
              "frame": {
               "duration": 0,
               "redraw": false
              },
              "fromcurrent": true,
              "mode": "immediate",
              "transition": {
               "duration": 0,
               "easing": "linear"
              }
             }
            ],
            "label": "Start of Possession",
            "method": "animate"
           },
           {
            "args": [
             [
              "2"
             ],
             {
              "frame": {
               "duration": 0,
               "redraw": false
              },
              "fromcurrent": true,
              "mode": "immediate",
              "transition": {
               "duration": 0,
               "easing": "linear"
              }
             }
            ],
            "label": "Completion",
            "method": "animate"
           },
           {
            "args": [
             [
              "3"
             ],
             {
              "frame": {
               "duration": 0,
               "redraw": false
              },
              "fromcurrent": true,
              "mode": "immediate",
              "transition": {
               "duration": 0,
               "easing": "linear"
              }
             }
            ],
            "label": "Completion",
            "method": "animate"
           },
           {
            "args": [
             [
              "4"
             ],
             {
              "frame": {
               "duration": 0,
               "redraw": false
              },
              "fromcurrent": true,
              "mode": "immediate",
              "transition": {
               "duration": 0,
               "easing": "linear"
              }
             }
            ],
            "label": "Completion",
            "method": "animate"
           },
           {
            "args": [
             [
              "5"
             ],
             {
              "frame": {
               "duration": 0,
               "redraw": false
              },
              "fromcurrent": true,
              "mode": "immediate",
              "transition": {
               "duration": 0,
               "easing": "linear"
              }
             }
            ],
            "label": "Completion",
            "method": "animate"
           },
           {
            "args": [
             [
              "6"
             ],
             {
              "frame": {
               "duration": 0,
               "redraw": false
              },
              "fromcurrent": true,
              "mode": "immediate",
              "transition": {
               "duration": 0,
               "easing": "linear"
              }
             }
            ],
            "label": "Completion",
            "method": "animate"
           },
           {
            "args": [
             [
              "7"
             ],
             {
              "frame": {
               "duration": 0,
               "redraw": false
              },
              "fromcurrent": true,
              "mode": "immediate",
              "transition": {
               "duration": 0,
               "easing": "linear"
              }
             }
            ],
            "label": "Completion",
            "method": "animate"
           },
           {
            "args": [
             [
              "8"
             ],
             {
              "frame": {
               "duration": 0,
               "redraw": false
              },
              "fromcurrent": true,
              "mode": "immediate",
              "transition": {
               "duration": 0,
               "easing": "linear"
              }
             }
            ],
            "label": "Completion",
            "method": "animate"
           },
           {
            "args": [
             [
              "9"
             ],
             {
              "frame": {
               "duration": 0,
               "redraw": false
              },
              "fromcurrent": true,
              "mode": "immediate",
              "transition": {
               "duration": 0,
               "easing": "linear"
              }
             }
            ],
            "label": "Completion",
            "method": "animate"
           },
           {
            "args": [
             [
              "10"
             ],
             {
              "frame": {
               "duration": 0,
               "redraw": false
              },
              "fromcurrent": true,
              "mode": "immediate",
              "transition": {
               "duration": 0,
               "easing": "linear"
              }
             }
            ],
            "label": "Completion",
            "method": "animate"
           },
           {
            "args": [
             [
              "11"
             ],
             {
              "frame": {
               "duration": 0,
               "redraw": false
              },
              "fromcurrent": true,
              "mode": "immediate",
              "transition": {
               "duration": 0,
               "easing": "linear"
              }
             }
            ],
            "label": "Completion",
            "method": "animate"
           },
           {
            "args": [
             [
              "12"
             ],
             {
              "frame": {
               "duration": 0,
               "redraw": false
              },
              "fromcurrent": true,
              "mode": "immediate",
              "transition": {
               "duration": 0,
               "easing": "linear"
              }
             }
            ],
            "label": "Completion",
            "method": "animate"
           },
           {
            "args": [
             [
              "13"
             ],
             {
              "frame": {
               "duration": 0,
               "redraw": false
              },
              "fromcurrent": true,
              "mode": "immediate",
              "transition": {
               "duration": 0,
               "easing": "linear"
              }
             }
            ],
            "label": "Completion",
            "method": "animate"
           },
           {
            "args": [
             [
              "14"
             ],
             {
              "frame": {
               "duration": 0,
               "redraw": false
              },
              "fromcurrent": true,
              "mode": "immediate",
              "transition": {
               "duration": 0,
               "easing": "linear"
              }
             }
            ],
            "label": "Completion",
            "method": "animate"
           },
           {
            "args": [
             [
              "15"
             ],
             {
              "frame": {
               "duration": 0,
               "redraw": false
              },
              "fromcurrent": true,
              "mode": "immediate",
              "transition": {
               "duration": 0,
               "easing": "linear"
              }
             }
            ],
            "label": "Completion",
            "method": "animate"
           },
           {
            "args": [
             [
              "16"
             ],
             {
              "frame": {
               "duration": 0,
               "redraw": false
              },
              "fromcurrent": true,
              "mode": "immediate",
              "transition": {
               "duration": 0,
               "easing": "linear"
              }
             }
            ],
            "label": "Completion",
            "method": "animate"
           },
           {
            "args": [
             [
              "17"
             ],
             {
              "frame": {
               "duration": 0,
               "redraw": false
              },
              "fromcurrent": true,
              "mode": "immediate",
              "transition": {
               "duration": 0,
               "easing": "linear"
              }
             }
            ],
            "label": "Throwaway",
            "method": "animate"
           }
          ],
          "x": 0.1,
          "xanchor": "left",
          "y": 0.1,
          "yanchor": "top"
         }
        ],
        "template": {
         "data": {
          "bar": [
           {
            "error_x": {
             "color": "#2a3f5f"
            },
            "error_y": {
             "color": "#2a3f5f"
            },
            "marker": {
             "line": {
              "color": "#E5ECF6",
              "width": 0.5
             }
            },
            "type": "bar"
           }
          ],
          "barpolar": [
           {
            "marker": {
             "line": {
              "color": "#E5ECF6",
              "width": 0.5
             }
            },
            "type": "barpolar"
           }
          ],
          "carpet": [
           {
            "aaxis": {
             "endlinecolor": "#2a3f5f",
             "gridcolor": "white",
             "linecolor": "white",
             "minorgridcolor": "white",
             "startlinecolor": "#2a3f5f"
            },
            "baxis": {
             "endlinecolor": "#2a3f5f",
             "gridcolor": "white",
             "linecolor": "white",
             "minorgridcolor": "white",
             "startlinecolor": "#2a3f5f"
            },
            "type": "carpet"
           }
          ],
          "choropleth": [
           {
            "colorbar": {
             "outlinewidth": 0,
             "ticks": ""
            },
            "type": "choropleth"
           }
          ],
          "contour": [
           {
            "colorbar": {
             "outlinewidth": 0,
             "ticks": ""
            },
            "colorscale": [
             [
              0,
              "#0d0887"
             ],
             [
              0.1111111111111111,
              "#46039f"
             ],
             [
              0.2222222222222222,
              "#7201a8"
             ],
             [
              0.3333333333333333,
              "#9c179e"
             ],
             [
              0.4444444444444444,
              "#bd3786"
             ],
             [
              0.5555555555555556,
              "#d8576b"
             ],
             [
              0.6666666666666666,
              "#ed7953"
             ],
             [
              0.7777777777777778,
              "#fb9f3a"
             ],
             [
              0.8888888888888888,
              "#fdca26"
             ],
             [
              1,
              "#f0f921"
             ]
            ],
            "type": "contour"
           }
          ],
          "contourcarpet": [
           {
            "colorbar": {
             "outlinewidth": 0,
             "ticks": ""
            },
            "type": "contourcarpet"
           }
          ],
          "heatmap": [
           {
            "colorbar": {
             "outlinewidth": 0,
             "ticks": ""
            },
            "colorscale": [
             [
              0,
              "#0d0887"
             ],
             [
              0.1111111111111111,
              "#46039f"
             ],
             [
              0.2222222222222222,
              "#7201a8"
             ],
             [
              0.3333333333333333,
              "#9c179e"
             ],
             [
              0.4444444444444444,
              "#bd3786"
             ],
             [
              0.5555555555555556,
              "#d8576b"
             ],
             [
              0.6666666666666666,
              "#ed7953"
             ],
             [
              0.7777777777777778,
              "#fb9f3a"
             ],
             [
              0.8888888888888888,
              "#fdca26"
             ],
             [
              1,
              "#f0f921"
             ]
            ],
            "type": "heatmap"
           }
          ],
          "heatmapgl": [
           {
            "colorbar": {
             "outlinewidth": 0,
             "ticks": ""
            },
            "colorscale": [
             [
              0,
              "#0d0887"
             ],
             [
              0.1111111111111111,
              "#46039f"
             ],
             [
              0.2222222222222222,
              "#7201a8"
             ],
             [
              0.3333333333333333,
              "#9c179e"
             ],
             [
              0.4444444444444444,
              "#bd3786"
             ],
             [
              0.5555555555555556,
              "#d8576b"
             ],
             [
              0.6666666666666666,
              "#ed7953"
             ],
             [
              0.7777777777777778,
              "#fb9f3a"
             ],
             [
              0.8888888888888888,
              "#fdca26"
             ],
             [
              1,
              "#f0f921"
             ]
            ],
            "type": "heatmapgl"
           }
          ],
          "histogram": [
           {
            "marker": {
             "colorbar": {
              "outlinewidth": 0,
              "ticks": ""
             }
            },
            "type": "histogram"
           }
          ],
          "histogram2d": [
           {
            "colorbar": {
             "outlinewidth": 0,
             "ticks": ""
            },
            "colorscale": [
             [
              0,
              "#0d0887"
             ],
             [
              0.1111111111111111,
              "#46039f"
             ],
             [
              0.2222222222222222,
              "#7201a8"
             ],
             [
              0.3333333333333333,
              "#9c179e"
             ],
             [
              0.4444444444444444,
              "#bd3786"
             ],
             [
              0.5555555555555556,
              "#d8576b"
             ],
             [
              0.6666666666666666,
              "#ed7953"
             ],
             [
              0.7777777777777778,
              "#fb9f3a"
             ],
             [
              0.8888888888888888,
              "#fdca26"
             ],
             [
              1,
              "#f0f921"
             ]
            ],
            "type": "histogram2d"
           }
          ],
          "histogram2dcontour": [
           {
            "colorbar": {
             "outlinewidth": 0,
             "ticks": ""
            },
            "colorscale": [
             [
              0,
              "#0d0887"
             ],
             [
              0.1111111111111111,
              "#46039f"
             ],
             [
              0.2222222222222222,
              "#7201a8"
             ],
             [
              0.3333333333333333,
              "#9c179e"
             ],
             [
              0.4444444444444444,
              "#bd3786"
             ],
             [
              0.5555555555555556,
              "#d8576b"
             ],
             [
              0.6666666666666666,
              "#ed7953"
             ],
             [
              0.7777777777777778,
              "#fb9f3a"
             ],
             [
              0.8888888888888888,
              "#fdca26"
             ],
             [
              1,
              "#f0f921"
             ]
            ],
            "type": "histogram2dcontour"
           }
          ],
          "mesh3d": [
           {
            "colorbar": {
             "outlinewidth": 0,
             "ticks": ""
            },
            "type": "mesh3d"
           }
          ],
          "parcoords": [
           {
            "line": {
             "colorbar": {
              "outlinewidth": 0,
              "ticks": ""
             }
            },
            "type": "parcoords"
           }
          ],
          "pie": [
           {
            "automargin": true,
            "type": "pie"
           }
          ],
          "scatter": [
           {
            "marker": {
             "colorbar": {
              "outlinewidth": 0,
              "ticks": ""
             }
            },
            "type": "scatter"
           }
          ],
          "scatter3d": [
           {
            "line": {
             "colorbar": {
              "outlinewidth": 0,
              "ticks": ""
             }
            },
            "marker": {
             "colorbar": {
              "outlinewidth": 0,
              "ticks": ""
             }
            },
            "type": "scatter3d"
           }
          ],
          "scattercarpet": [
           {
            "marker": {
             "colorbar": {
              "outlinewidth": 0,
              "ticks": ""
             }
            },
            "type": "scattercarpet"
           }
          ],
          "scattergeo": [
           {
            "marker": {
             "colorbar": {
              "outlinewidth": 0,
              "ticks": ""
             }
            },
            "type": "scattergeo"
           }
          ],
          "scattergl": [
           {
            "marker": {
             "colorbar": {
              "outlinewidth": 0,
              "ticks": ""
             }
            },
            "type": "scattergl"
           }
          ],
          "scattermapbox": [
           {
            "marker": {
             "colorbar": {
              "outlinewidth": 0,
              "ticks": ""
             }
            },
            "type": "scattermapbox"
           }
          ],
          "scatterpolar": [
           {
            "marker": {
             "colorbar": {
              "outlinewidth": 0,
              "ticks": ""
             }
            },
            "type": "scatterpolar"
           }
          ],
          "scatterpolargl": [
           {
            "marker": {
             "colorbar": {
              "outlinewidth": 0,
              "ticks": ""
             }
            },
            "type": "scatterpolargl"
           }
          ],
          "scatterternary": [
           {
            "marker": {
             "colorbar": {
              "outlinewidth": 0,
              "ticks": ""
             }
            },
            "type": "scatterternary"
           }
          ],
          "surface": [
           {
            "colorbar": {
             "outlinewidth": 0,
             "ticks": ""
            },
            "colorscale": [
             [
              0,
              "#0d0887"
             ],
             [
              0.1111111111111111,
              "#46039f"
             ],
             [
              0.2222222222222222,
              "#7201a8"
             ],
             [
              0.3333333333333333,
              "#9c179e"
             ],
             [
              0.4444444444444444,
              "#bd3786"
             ],
             [
              0.5555555555555556,
              "#d8576b"
             ],
             [
              0.6666666666666666,
              "#ed7953"
             ],
             [
              0.7777777777777778,
              "#fb9f3a"
             ],
             [
              0.8888888888888888,
              "#fdca26"
             ],
             [
              1,
              "#f0f921"
             ]
            ],
            "type": "surface"
           }
          ],
          "table": [
           {
            "cells": {
             "fill": {
              "color": "#EBF0F8"
             },
             "line": {
              "color": "white"
             }
            },
            "header": {
             "fill": {
              "color": "#C8D4E3"
             },
             "line": {
              "color": "white"
             }
            },
            "type": "table"
           }
          ]
         },
         "layout": {
          "annotationdefaults": {
           "arrowcolor": "#2a3f5f",
           "arrowhead": 0,
           "arrowwidth": 1
          },
          "autotypenumbers": "strict",
          "coloraxis": {
           "colorbar": {
            "outlinewidth": 0,
            "ticks": ""
           }
          },
          "colorscale": {
           "diverging": [
            [
             0,
             "#8e0152"
            ],
            [
             0.1,
             "#c51b7d"
            ],
            [
             0.2,
             "#de77ae"
            ],
            [
             0.3,
             "#f1b6da"
            ],
            [
             0.4,
             "#fde0ef"
            ],
            [
             0.5,
             "#f7f7f7"
            ],
            [
             0.6,
             "#e6f5d0"
            ],
            [
             0.7,
             "#b8e186"
            ],
            [
             0.8,
             "#7fbc41"
            ],
            [
             0.9,
             "#4d9221"
            ],
            [
             1,
             "#276419"
            ]
           ],
           "sequential": [
            [
             0,
             "#0d0887"
            ],
            [
             0.1111111111111111,
             "#46039f"
            ],
            [
             0.2222222222222222,
             "#7201a8"
            ],
            [
             0.3333333333333333,
             "#9c179e"
            ],
            [
             0.4444444444444444,
             "#bd3786"
            ],
            [
             0.5555555555555556,
             "#d8576b"
            ],
            [
             0.6666666666666666,
             "#ed7953"
            ],
            [
             0.7777777777777778,
             "#fb9f3a"
            ],
            [
             0.8888888888888888,
             "#fdca26"
            ],
            [
             1,
             "#f0f921"
            ]
           ],
           "sequentialminus": [
            [
             0,
             "#0d0887"
            ],
            [
             0.1111111111111111,
             "#46039f"
            ],
            [
             0.2222222222222222,
             "#7201a8"
            ],
            [
             0.3333333333333333,
             "#9c179e"
            ],
            [
             0.4444444444444444,
             "#bd3786"
            ],
            [
             0.5555555555555556,
             "#d8576b"
            ],
            [
             0.6666666666666666,
             "#ed7953"
            ],
            [
             0.7777777777777778,
             "#fb9f3a"
            ],
            [
             0.8888888888888888,
             "#fdca26"
            ],
            [
             1,
             "#f0f921"
            ]
           ]
          },
          "colorway": [
           "#636efa",
           "#EF553B",
           "#00cc96",
           "#ab63fa",
           "#FFA15A",
           "#19d3f3",
           "#FF6692",
           "#B6E880",
           "#FF97FF",
           "#FECB52"
          ],
          "font": {
           "color": "#2a3f5f"
          },
          "geo": {
           "bgcolor": "white",
           "lakecolor": "white",
           "landcolor": "#E5ECF6",
           "showlakes": true,
           "showland": true,
           "subunitcolor": "white"
          },
          "hoverlabel": {
           "align": "left"
          },
          "hovermode": "closest",
          "mapbox": {
           "style": "light"
          },
          "paper_bgcolor": "white",
          "plot_bgcolor": "#E5ECF6",
          "polar": {
           "angularaxis": {
            "gridcolor": "white",
            "linecolor": "white",
            "ticks": ""
           },
           "bgcolor": "#E5ECF6",
           "radialaxis": {
            "gridcolor": "white",
            "linecolor": "white",
            "ticks": ""
           }
          },
          "scene": {
           "xaxis": {
            "backgroundcolor": "#E5ECF6",
            "gridcolor": "white",
            "gridwidth": 2,
            "linecolor": "white",
            "showbackground": true,
            "ticks": "",
            "zerolinecolor": "white"
           },
           "yaxis": {
            "backgroundcolor": "#E5ECF6",
            "gridcolor": "white",
            "gridwidth": 2,
            "linecolor": "white",
            "showbackground": true,
            "ticks": "",
            "zerolinecolor": "white"
           },
           "zaxis": {
            "backgroundcolor": "#E5ECF6",
            "gridcolor": "white",
            "gridwidth": 2,
            "linecolor": "white",
            "showbackground": true,
            "ticks": "",
            "zerolinecolor": "white"
           }
          },
          "shapedefaults": {
           "line": {
            "color": "#2a3f5f"
           }
          },
          "ternary": {
           "aaxis": {
            "gridcolor": "white",
            "linecolor": "white",
            "ticks": ""
           },
           "baxis": {
            "gridcolor": "white",
            "linecolor": "white",
            "ticks": ""
           },
           "bgcolor": "#E5ECF6",
           "caxis": {
            "gridcolor": "white",
            "linecolor": "white",
            "ticks": ""
           }
          },
          "title": {
           "x": 0.05
          },
          "xaxis": {
           "automargin": true,
           "gridcolor": "white",
           "linecolor": "white",
           "ticks": "",
           "title": {
            "standoff": 15
           },
           "zerolinecolor": "white",
           "zerolinewidth": 2
          },
          "yaxis": {
           "automargin": true,
           "gridcolor": "white",
           "linecolor": "white",
           "ticks": "",
           "title": {
            "standoff": 15
           },
           "zerolinecolor": "white",
           "zerolinewidth": 2
          }
         }
        },
        "updatemenus": [
         {
          "buttons": [
           {
            "args": [
             null,
             {
              "frame": {
               "duration": 500,
               "redraw": false
              },
              "fromcurrent": true,
              "mode": "immediate",
              "transition": {
               "duration": 500,
               "easing": "linear"
              }
             }
            ],
            "label": "&#9654;",
            "method": "animate"
           },
           {
            "args": [
             [
              null
             ],
             {
              "frame": {
               "duration": 0,
               "redraw": false
              },
              "fromcurrent": true,
              "mode": "immediate",
              "transition": {
               "duration": 0,
               "easing": "linear"
              }
             }
            ],
            "label": "&#9724;",
            "method": "animate"
           }
          ],
          "direction": "left",
          "pad": {
           "r": 10,
           "t": 70
          },
          "showactive": false,
          "type": "buttons",
          "x": 0.1,
          "xanchor": "right",
          "y": 0,
          "yanchor": "top"
         }
        ],
        "width": 400,
        "xaxis": {
         "anchor": "y",
         "domain": [
          0,
          1
         ],
         "range": [
          -27,
          40
         ],
         "showgrid": false,
         "showticklabels": false,
         "ticks": "",
         "title": {},
         "zeroline": false
        },
        "yaxis": {
         "anchor": "x",
         "domain": [
          0,
          1
         ],
         "range": [
          -1,
          121
         ],
         "scaleanchor": "x",
         "scaleratio": 1,
         "showgrid": false,
         "showticklabels": false,
         "ticks": "",
         "title": {},
         "zeroline": false
        }
       }
      },
      "text/html": [
       "<div>                            <div id=\"4ce908f5-b16a-452e-b85a-e25a1a61f9ae\" class=\"plotly-graph-div\" style=\"height:525px; width:400px;\"></div>            <script type=\"text/javascript\">                require([\"plotly\"], function(Plotly) {                    window.PLOTLYENV=window.PLOTLYENV || {};                                    if (document.getElementById(\"4ce908f5-b16a-452e-b85a-e25a1a61f9ae\")) {                    Plotly.newPlot(                        \"4ce908f5-b16a-452e-b85a-e25a1a61f9ae\",                        [{\"hoverinfo\": \"skip\", \"legendgroup\": \"\", \"marker\": {\"color\": \"gray\", \"size\": [1], \"sizemode\": \"area\", \"sizeref\": 0.01, \"symbol\": \"circle\"}, \"mode\": \"markers\", \"name\": \"\", \"orientation\": \"v\", \"showlegend\": false, \"type\": \"scatter\", \"x\": [2.09], \"xaxis\": \"x\", \"y\": [24.96], \"yaxis\": \"y\"}, {\"marker\": {\"color\": [\"purple\"], \"symbol\": \"diamond\"}, \"mode\": \"markers\", \"name\": \"Start of Possession\", \"type\": \"scatter\", \"x\": [2.09], \"y\": [24.96]}, {\"marker\": {\"color\": [\"gray\", \"gray\", \"gray\", \"gray\", \"gray\", \"gray\", \"gray\", \"gray\", \"gray\", \"gray\", \"gray\", \"gray\", \"gray\", \"gray\", \"gray\"], \"symbol\": \"diamond\"}, \"mode\": \"markers\", \"name\": \"Completion\", \"type\": \"scatter\", \"x\": [-7.99, -16.13, -1.25, -16.28, -19.46, -21.21, -21.56, -22.02, -23.03, -8.76, -5.35, 6.74, -5.66, -13.49, -2.8], \"y\": [31.55, 41.08, 31.31, 39.92, 55.19, 64.8, 76.35, 86.27, 96.27, 87.2, 84.49, 84.65, 84.26, 84.34, 84.26]}, {\"marker\": {\"color\": [\"red\"], \"symbol\": \"diamond\"}, \"mode\": \"markers\", \"name\": \"Throwaway\", \"type\": \"scatter\", \"x\": [-25.94], \"y\": [105.07]}],                        {\"annotations\": [{\"arrowhead\": 2, \"arrowsize\": 1.5, \"ax\": 40, \"axref\": \"x\", \"ay\": 60, \"ayref\": \"y\", \"showarrow\": true, \"text\": \"Attacking\", \"x\": 40, \"xref\": \"x\", \"y\": 80, \"yref\": \"y\"}], \"font\": {\"family\": \"TW Cen MT\"}, \"legend\": {\"itemsizing\": \"constant\", \"tracegroupgap\": 0}, \"margin\": {\"t\": 60}, \"paper_bgcolor\": \"rgba(0,0,0,0)\", \"plot_bgcolor\": \"rgba(0,0,0,0)\", \"shapes\": [{\"line\": {\"color\": \"black\"}, \"type\": \"line\", \"x0\": -25, \"x1\": 25, \"y0\": 0, \"y1\": 0}, {\"line\": {\"color\": \"black\"}, \"type\": \"line\", \"x0\": -25, \"x1\": 25, \"y0\": 20, \"y1\": 20}, {\"line\": {\"color\": \"black\"}, \"type\": \"line\", \"x0\": -25, \"x1\": 25, \"y0\": 100, \"y1\": 100}, {\"line\": {\"color\": \"black\"}, \"type\": \"line\", \"x0\": -25, \"x1\": 25, \"y0\": 120, \"y1\": 120}, {\"line\": {\"color\": \"black\"}, \"type\": \"line\", \"x0\": -25, \"x1\": -25, \"y0\": 0, \"y1\": 120}, {\"line\": {\"color\": \"black\"}, \"type\": \"line\", \"x0\": 25, \"x1\": 25, \"y0\": 0, \"y1\": 120}, {\"layer\": \"below\", \"line\": {\"color\": \"gray\"}, \"type\": \"line\", \"x0\": 2.09, \"x1\": -7.99, \"y0\": 24.96, \"y1\": 31.55}, {\"layer\": \"below\", \"line\": {\"color\": \"gray\"}, \"type\": \"line\", \"x0\": -7.99, \"x1\": -16.13, \"y0\": 31.55, \"y1\": 41.08}, {\"layer\": \"below\", \"line\": {\"color\": \"gray\"}, \"type\": \"line\", \"x0\": -16.13, \"x1\": -1.25, \"y0\": 41.08, \"y1\": 31.31}, {\"layer\": \"below\", \"line\": {\"color\": \"gray\"}, \"type\": \"line\", \"x0\": -1.25, \"x1\": -16.28, \"y0\": 31.31, \"y1\": 39.92}, {\"layer\": \"below\", \"line\": {\"color\": \"gray\"}, \"type\": \"line\", \"x0\": -16.28, \"x1\": -19.46, \"y0\": 39.92, \"y1\": 55.19}, {\"layer\": \"below\", \"line\": {\"color\": \"gray\"}, \"type\": \"line\", \"x0\": -19.46, \"x1\": -21.21, \"y0\": 55.19, \"y1\": 64.8}, {\"layer\": \"below\", \"line\": {\"color\": \"gray\"}, \"type\": \"line\", \"x0\": -21.21, \"x1\": -21.56, \"y0\": 64.8, \"y1\": 76.35}, {\"layer\": \"below\", \"line\": {\"color\": \"gray\"}, \"type\": \"line\", \"x0\": -21.56, \"x1\": -22.02, \"y0\": 76.35, \"y1\": 86.27}, {\"layer\": \"below\", \"line\": {\"color\": \"gray\"}, \"type\": \"line\", \"x0\": -22.02, \"x1\": -23.03, \"y0\": 86.27, \"y1\": 96.27}, {\"layer\": \"below\", \"line\": {\"color\": \"gray\"}, \"type\": \"line\", \"x0\": -23.03, \"x1\": -8.76, \"y0\": 96.27, \"y1\": 87.2}, {\"layer\": \"below\", \"line\": {\"color\": \"gray\"}, \"type\": \"line\", \"x0\": -8.76, \"x1\": -5.35, \"y0\": 87.2, \"y1\": 84.49}, {\"layer\": \"below\", \"line\": {\"color\": \"gray\"}, \"type\": \"line\", \"x0\": -5.35, \"x1\": 6.74, \"y0\": 84.49, \"y1\": 84.65}, {\"layer\": \"below\", \"line\": {\"color\": \"gray\"}, \"type\": \"line\", \"x0\": 6.74, \"x1\": -5.66, \"y0\": 84.65, \"y1\": 84.26}, {\"layer\": \"below\", \"line\": {\"color\": \"gray\"}, \"type\": \"line\", \"x0\": -5.66, \"x1\": -13.49, \"y0\": 84.26, \"y1\": 84.34}, {\"layer\": \"below\", \"line\": {\"color\": \"gray\"}, \"type\": \"line\", \"x0\": -13.49, \"x1\": -2.8, \"y0\": 84.34, \"y1\": 84.26}, {\"layer\": \"below\", \"line\": {\"color\": \"red\"}, \"type\": \"line\", \"x0\": -2.8, \"x1\": -25.94, \"y0\": 84.26, \"y1\": 105.07}], \"showlegend\": false, \"sliders\": [{\"active\": 0, \"currentvalue\": {\"prefix\": \"\"}, \"len\": 0.9, \"pad\": {\"b\": 5, \"t\": 29}, \"steps\": [{\"args\": [[\"1\"], {\"frame\": {\"duration\": 0, \"redraw\": false}, \"fromcurrent\": true, \"mode\": \"immediate\", \"transition\": {\"duration\": 0, \"easing\": \"linear\"}}], \"label\": \"Start of Possession\", \"method\": \"animate\"}, {\"args\": [[\"2\"], {\"frame\": {\"duration\": 0, \"redraw\": false}, \"fromcurrent\": true, \"mode\": \"immediate\", \"transition\": {\"duration\": 0, \"easing\": \"linear\"}}], \"label\": \"Completion\", \"method\": \"animate\"}, {\"args\": [[\"3\"], {\"frame\": {\"duration\": 0, \"redraw\": false}, \"fromcurrent\": true, \"mode\": \"immediate\", \"transition\": {\"duration\": 0, \"easing\": \"linear\"}}], \"label\": \"Completion\", \"method\": \"animate\"}, {\"args\": [[\"4\"], {\"frame\": {\"duration\": 0, \"redraw\": false}, \"fromcurrent\": true, \"mode\": \"immediate\", \"transition\": {\"duration\": 0, \"easing\": \"linear\"}}], \"label\": \"Completion\", \"method\": \"animate\"}, {\"args\": [[\"5\"], {\"frame\": {\"duration\": 0, \"redraw\": false}, \"fromcurrent\": true, \"mode\": \"immediate\", \"transition\": {\"duration\": 0, \"easing\": \"linear\"}}], \"label\": \"Completion\", \"method\": \"animate\"}, {\"args\": [[\"6\"], {\"frame\": {\"duration\": 0, \"redraw\": false}, \"fromcurrent\": true, \"mode\": \"immediate\", \"transition\": {\"duration\": 0, \"easing\": \"linear\"}}], \"label\": \"Completion\", \"method\": \"animate\"}, {\"args\": [[\"7\"], {\"frame\": {\"duration\": 0, \"redraw\": false}, \"fromcurrent\": true, \"mode\": \"immediate\", \"transition\": {\"duration\": 0, \"easing\": \"linear\"}}], \"label\": \"Completion\", \"method\": \"animate\"}, {\"args\": [[\"8\"], {\"frame\": {\"duration\": 0, \"redraw\": false}, \"fromcurrent\": true, \"mode\": \"immediate\", \"transition\": {\"duration\": 0, \"easing\": \"linear\"}}], \"label\": \"Completion\", \"method\": \"animate\"}, {\"args\": [[\"9\"], {\"frame\": {\"duration\": 0, \"redraw\": false}, \"fromcurrent\": true, \"mode\": \"immediate\", \"transition\": {\"duration\": 0, \"easing\": \"linear\"}}], \"label\": \"Completion\", \"method\": \"animate\"}, {\"args\": [[\"10\"], {\"frame\": {\"duration\": 0, \"redraw\": false}, \"fromcurrent\": true, \"mode\": \"immediate\", \"transition\": {\"duration\": 0, \"easing\": \"linear\"}}], \"label\": \"Completion\", \"method\": \"animate\"}, {\"args\": [[\"11\"], {\"frame\": {\"duration\": 0, \"redraw\": false}, \"fromcurrent\": true, \"mode\": \"immediate\", \"transition\": {\"duration\": 0, \"easing\": \"linear\"}}], \"label\": \"Completion\", \"method\": \"animate\"}, {\"args\": [[\"12\"], {\"frame\": {\"duration\": 0, \"redraw\": false}, \"fromcurrent\": true, \"mode\": \"immediate\", \"transition\": {\"duration\": 0, \"easing\": \"linear\"}}], \"label\": \"Completion\", \"method\": \"animate\"}, {\"args\": [[\"13\"], {\"frame\": {\"duration\": 0, \"redraw\": false}, \"fromcurrent\": true, \"mode\": \"immediate\", \"transition\": {\"duration\": 0, \"easing\": \"linear\"}}], \"label\": \"Completion\", \"method\": \"animate\"}, {\"args\": [[\"14\"], {\"frame\": {\"duration\": 0, \"redraw\": false}, \"fromcurrent\": true, \"mode\": \"immediate\", \"transition\": {\"duration\": 0, \"easing\": \"linear\"}}], \"label\": \"Completion\", \"method\": \"animate\"}, {\"args\": [[\"15\"], {\"frame\": {\"duration\": 0, \"redraw\": false}, \"fromcurrent\": true, \"mode\": \"immediate\", \"transition\": {\"duration\": 0, \"easing\": \"linear\"}}], \"label\": \"Completion\", \"method\": \"animate\"}, {\"args\": [[\"16\"], {\"frame\": {\"duration\": 0, \"redraw\": false}, \"fromcurrent\": true, \"mode\": \"immediate\", \"transition\": {\"duration\": 0, \"easing\": \"linear\"}}], \"label\": \"Completion\", \"method\": \"animate\"}, {\"args\": [[\"17\"], {\"frame\": {\"duration\": 0, \"redraw\": false}, \"fromcurrent\": true, \"mode\": \"immediate\", \"transition\": {\"duration\": 0, \"easing\": \"linear\"}}], \"label\": \"Throwaway\", \"method\": \"animate\"}], \"x\": 0.1, \"xanchor\": \"left\", \"y\": 0.1, \"yanchor\": \"top\"}], \"template\": {\"data\": {\"bar\": [{\"error_x\": {\"color\": \"#2a3f5f\"}, \"error_y\": {\"color\": \"#2a3f5f\"}, \"marker\": {\"line\": {\"color\": \"#E5ECF6\", \"width\": 0.5}}, \"type\": \"bar\"}], \"barpolar\": [{\"marker\": {\"line\": {\"color\": \"#E5ECF6\", \"width\": 0.5}}, \"type\": \"barpolar\"}], \"carpet\": [{\"aaxis\": {\"endlinecolor\": \"#2a3f5f\", \"gridcolor\": \"white\", \"linecolor\": \"white\", \"minorgridcolor\": \"white\", \"startlinecolor\": \"#2a3f5f\"}, \"baxis\": {\"endlinecolor\": \"#2a3f5f\", \"gridcolor\": \"white\", \"linecolor\": \"white\", \"minorgridcolor\": \"white\", \"startlinecolor\": \"#2a3f5f\"}, \"type\": \"carpet\"}], \"choropleth\": [{\"colorbar\": {\"outlinewidth\": 0, \"ticks\": \"\"}, \"type\": \"choropleth\"}], \"contour\": [{\"colorbar\": {\"outlinewidth\": 0, \"ticks\": \"\"}, \"colorscale\": [[0.0, \"#0d0887\"], [0.1111111111111111, \"#46039f\"], [0.2222222222222222, \"#7201a8\"], [0.3333333333333333, \"#9c179e\"], [0.4444444444444444, \"#bd3786\"], [0.5555555555555556, \"#d8576b\"], [0.6666666666666666, \"#ed7953\"], [0.7777777777777778, \"#fb9f3a\"], [0.8888888888888888, \"#fdca26\"], [1.0, \"#f0f921\"]], \"type\": \"contour\"}], \"contourcarpet\": [{\"colorbar\": {\"outlinewidth\": 0, \"ticks\": \"\"}, \"type\": \"contourcarpet\"}], \"heatmap\": [{\"colorbar\": {\"outlinewidth\": 0, \"ticks\": \"\"}, \"colorscale\": [[0.0, \"#0d0887\"], [0.1111111111111111, \"#46039f\"], [0.2222222222222222, \"#7201a8\"], [0.3333333333333333, \"#9c179e\"], [0.4444444444444444, \"#bd3786\"], [0.5555555555555556, \"#d8576b\"], [0.6666666666666666, \"#ed7953\"], [0.7777777777777778, \"#fb9f3a\"], [0.8888888888888888, \"#fdca26\"], [1.0, \"#f0f921\"]], \"type\": \"heatmap\"}], \"heatmapgl\": [{\"colorbar\": {\"outlinewidth\": 0, \"ticks\": \"\"}, \"colorscale\": [[0.0, \"#0d0887\"], [0.1111111111111111, \"#46039f\"], [0.2222222222222222, \"#7201a8\"], [0.3333333333333333, \"#9c179e\"], [0.4444444444444444, \"#bd3786\"], [0.5555555555555556, \"#d8576b\"], [0.6666666666666666, \"#ed7953\"], [0.7777777777777778, \"#fb9f3a\"], [0.8888888888888888, \"#fdca26\"], [1.0, \"#f0f921\"]], \"type\": \"heatmapgl\"}], \"histogram\": [{\"marker\": {\"colorbar\": {\"outlinewidth\": 0, \"ticks\": \"\"}}, \"type\": \"histogram\"}], \"histogram2d\": [{\"colorbar\": {\"outlinewidth\": 0, \"ticks\": \"\"}, \"colorscale\": [[0.0, \"#0d0887\"], [0.1111111111111111, \"#46039f\"], [0.2222222222222222, \"#7201a8\"], [0.3333333333333333, \"#9c179e\"], [0.4444444444444444, \"#bd3786\"], [0.5555555555555556, \"#d8576b\"], [0.6666666666666666, \"#ed7953\"], [0.7777777777777778, \"#fb9f3a\"], [0.8888888888888888, \"#fdca26\"], [1.0, \"#f0f921\"]], \"type\": \"histogram2d\"}], \"histogram2dcontour\": [{\"colorbar\": {\"outlinewidth\": 0, \"ticks\": \"\"}, \"colorscale\": [[0.0, \"#0d0887\"], [0.1111111111111111, \"#46039f\"], [0.2222222222222222, \"#7201a8\"], [0.3333333333333333, \"#9c179e\"], [0.4444444444444444, \"#bd3786\"], [0.5555555555555556, \"#d8576b\"], [0.6666666666666666, \"#ed7953\"], [0.7777777777777778, \"#fb9f3a\"], [0.8888888888888888, \"#fdca26\"], [1.0, \"#f0f921\"]], \"type\": \"histogram2dcontour\"}], \"mesh3d\": [{\"colorbar\": {\"outlinewidth\": 0, \"ticks\": \"\"}, \"type\": \"mesh3d\"}], \"parcoords\": [{\"line\": {\"colorbar\": {\"outlinewidth\": 0, \"ticks\": \"\"}}, \"type\": \"parcoords\"}], \"pie\": [{\"automargin\": true, \"type\": \"pie\"}], \"scatter\": [{\"marker\": {\"colorbar\": {\"outlinewidth\": 0, \"ticks\": \"\"}}, \"type\": \"scatter\"}], \"scatter3d\": [{\"line\": {\"colorbar\": {\"outlinewidth\": 0, \"ticks\": \"\"}}, \"marker\": {\"colorbar\": {\"outlinewidth\": 0, \"ticks\": \"\"}}, \"type\": \"scatter3d\"}], \"scattercarpet\": [{\"marker\": {\"colorbar\": {\"outlinewidth\": 0, \"ticks\": \"\"}}, \"type\": \"scattercarpet\"}], \"scattergeo\": [{\"marker\": {\"colorbar\": {\"outlinewidth\": 0, \"ticks\": \"\"}}, \"type\": \"scattergeo\"}], \"scattergl\": [{\"marker\": {\"colorbar\": {\"outlinewidth\": 0, \"ticks\": \"\"}}, \"type\": \"scattergl\"}], \"scattermapbox\": [{\"marker\": {\"colorbar\": {\"outlinewidth\": 0, \"ticks\": \"\"}}, \"type\": \"scattermapbox\"}], \"scatterpolar\": [{\"marker\": {\"colorbar\": {\"outlinewidth\": 0, \"ticks\": \"\"}}, \"type\": \"scatterpolar\"}], \"scatterpolargl\": [{\"marker\": {\"colorbar\": {\"outlinewidth\": 0, \"ticks\": \"\"}}, \"type\": \"scatterpolargl\"}], \"scatterternary\": [{\"marker\": {\"colorbar\": {\"outlinewidth\": 0, \"ticks\": \"\"}}, \"type\": \"scatterternary\"}], \"surface\": [{\"colorbar\": {\"outlinewidth\": 0, \"ticks\": \"\"}, \"colorscale\": [[0.0, \"#0d0887\"], [0.1111111111111111, \"#46039f\"], [0.2222222222222222, \"#7201a8\"], [0.3333333333333333, \"#9c179e\"], [0.4444444444444444, \"#bd3786\"], [0.5555555555555556, \"#d8576b\"], [0.6666666666666666, \"#ed7953\"], [0.7777777777777778, \"#fb9f3a\"], [0.8888888888888888, \"#fdca26\"], [1.0, \"#f0f921\"]], \"type\": \"surface\"}], \"table\": [{\"cells\": {\"fill\": {\"color\": \"#EBF0F8\"}, \"line\": {\"color\": \"white\"}}, \"header\": {\"fill\": {\"color\": \"#C8D4E3\"}, \"line\": {\"color\": \"white\"}}, \"type\": \"table\"}]}, \"layout\": {\"annotationdefaults\": {\"arrowcolor\": \"#2a3f5f\", \"arrowhead\": 0, \"arrowwidth\": 1}, \"autotypenumbers\": \"strict\", \"coloraxis\": {\"colorbar\": {\"outlinewidth\": 0, \"ticks\": \"\"}}, \"colorscale\": {\"diverging\": [[0, \"#8e0152\"], [0.1, \"#c51b7d\"], [0.2, \"#de77ae\"], [0.3, \"#f1b6da\"], [0.4, \"#fde0ef\"], [0.5, \"#f7f7f7\"], [0.6, \"#e6f5d0\"], [0.7, \"#b8e186\"], [0.8, \"#7fbc41\"], [0.9, \"#4d9221\"], [1, \"#276419\"]], \"sequential\": [[0.0, \"#0d0887\"], [0.1111111111111111, \"#46039f\"], [0.2222222222222222, \"#7201a8\"], [0.3333333333333333, \"#9c179e\"], [0.4444444444444444, \"#bd3786\"], [0.5555555555555556, \"#d8576b\"], [0.6666666666666666, \"#ed7953\"], [0.7777777777777778, \"#fb9f3a\"], [0.8888888888888888, \"#fdca26\"], [1.0, \"#f0f921\"]], \"sequentialminus\": [[0.0, \"#0d0887\"], [0.1111111111111111, \"#46039f\"], [0.2222222222222222, \"#7201a8\"], [0.3333333333333333, \"#9c179e\"], [0.4444444444444444, \"#bd3786\"], [0.5555555555555556, \"#d8576b\"], [0.6666666666666666, \"#ed7953\"], [0.7777777777777778, \"#fb9f3a\"], [0.8888888888888888, \"#fdca26\"], [1.0, \"#f0f921\"]]}, \"colorway\": [\"#636efa\", \"#EF553B\", \"#00cc96\", \"#ab63fa\", \"#FFA15A\", \"#19d3f3\", \"#FF6692\", \"#B6E880\", \"#FF97FF\", \"#FECB52\"], \"font\": {\"color\": \"#2a3f5f\"}, \"geo\": {\"bgcolor\": \"white\", \"lakecolor\": \"white\", \"landcolor\": \"#E5ECF6\", \"showlakes\": true, \"showland\": true, \"subunitcolor\": \"white\"}, \"hoverlabel\": {\"align\": \"left\"}, \"hovermode\": \"closest\", \"mapbox\": {\"style\": \"light\"}, \"paper_bgcolor\": \"white\", \"plot_bgcolor\": \"#E5ECF6\", \"polar\": {\"angularaxis\": {\"gridcolor\": \"white\", \"linecolor\": \"white\", \"ticks\": \"\"}, \"bgcolor\": \"#E5ECF6\", \"radialaxis\": {\"gridcolor\": \"white\", \"linecolor\": \"white\", \"ticks\": \"\"}}, \"scene\": {\"xaxis\": {\"backgroundcolor\": \"#E5ECF6\", \"gridcolor\": \"white\", \"gridwidth\": 2, \"linecolor\": \"white\", \"showbackground\": true, \"ticks\": \"\", \"zerolinecolor\": \"white\"}, \"yaxis\": {\"backgroundcolor\": \"#E5ECF6\", \"gridcolor\": \"white\", \"gridwidth\": 2, \"linecolor\": \"white\", \"showbackground\": true, \"ticks\": \"\", \"zerolinecolor\": \"white\"}, \"zaxis\": {\"backgroundcolor\": \"#E5ECF6\", \"gridcolor\": \"white\", \"gridwidth\": 2, \"linecolor\": \"white\", \"showbackground\": true, \"ticks\": \"\", \"zerolinecolor\": \"white\"}}, \"shapedefaults\": {\"line\": {\"color\": \"#2a3f5f\"}}, \"ternary\": {\"aaxis\": {\"gridcolor\": \"white\", \"linecolor\": \"white\", \"ticks\": \"\"}, \"baxis\": {\"gridcolor\": \"white\", \"linecolor\": \"white\", \"ticks\": \"\"}, \"bgcolor\": \"#E5ECF6\", \"caxis\": {\"gridcolor\": \"white\", \"linecolor\": \"white\", \"ticks\": \"\"}}, \"title\": {\"x\": 0.05}, \"xaxis\": {\"automargin\": true, \"gridcolor\": \"white\", \"linecolor\": \"white\", \"ticks\": \"\", \"title\": {\"standoff\": 15}, \"zerolinecolor\": \"white\", \"zerolinewidth\": 2}, \"yaxis\": {\"automargin\": true, \"gridcolor\": \"white\", \"linecolor\": \"white\", \"ticks\": \"\", \"title\": {\"standoff\": 15}, \"zerolinecolor\": \"white\", \"zerolinewidth\": 2}}}, \"updatemenus\": [{\"buttons\": [{\"args\": [null, {\"frame\": {\"duration\": 500, \"redraw\": false}, \"fromcurrent\": true, \"mode\": \"immediate\", \"transition\": {\"duration\": 500, \"easing\": \"linear\"}}], \"label\": \"&#9654;\", \"method\": \"animate\"}, {\"args\": [[null], {\"frame\": {\"duration\": 0, \"redraw\": false}, \"fromcurrent\": true, \"mode\": \"immediate\", \"transition\": {\"duration\": 0, \"easing\": \"linear\"}}], \"label\": \"&#9724;\", \"method\": \"animate\"}], \"direction\": \"left\", \"pad\": {\"r\": 10, \"t\": 70}, \"showactive\": false, \"type\": \"buttons\", \"x\": 0.1, \"xanchor\": \"right\", \"y\": 0, \"yanchor\": \"top\"}], \"width\": 400, \"xaxis\": {\"anchor\": \"y\", \"domain\": [0.0, 1.0], \"range\": [-27, 40], \"showgrid\": false, \"showticklabels\": false, \"ticks\": \"\", \"title\": {}, \"zeroline\": false}, \"yaxis\": {\"anchor\": \"x\", \"domain\": [0.0, 1.0], \"range\": [-1, 121], \"scaleanchor\": \"x\", \"scaleratio\": 1, \"showgrid\": false, \"showticklabels\": false, \"ticks\": \"\", \"title\": {}, \"zeroline\": false}},                        {\"responsive\": true}                    ).then(function(){\n",
       "                            Plotly.addFrames('4ce908f5-b16a-452e-b85a-e25a1a61f9ae', [{\"data\": [{\"legendgroup\": \"\", \"marker\": {\"color\": \"gray\", \"size\": [1], \"sizemode\": \"area\", \"sizeref\": 0.01, \"symbol\": \"circle\"}, \"mode\": \"markers\", \"name\": \"\", \"orientation\": \"v\", \"showlegend\": false, \"x\": [2.09], \"xaxis\": \"x\", \"y\": [24.96], \"yaxis\": \"y\", \"type\": \"scatter\"}], \"name\": \"1\"}, {\"data\": [{\"legendgroup\": \"\", \"marker\": {\"color\": \"gray\", \"size\": [1], \"sizemode\": \"area\", \"sizeref\": 0.01, \"symbol\": \"circle\"}, \"mode\": \"markers\", \"name\": \"\", \"orientation\": \"v\", \"showlegend\": false, \"x\": [-7.99], \"xaxis\": \"x\", \"y\": [31.55], \"yaxis\": \"y\", \"type\": \"scatter\"}], \"name\": \"2\"}, {\"data\": [{\"legendgroup\": \"\", \"marker\": {\"color\": \"gray\", \"size\": [1], \"sizemode\": \"area\", \"sizeref\": 0.01, \"symbol\": \"circle\"}, \"mode\": \"markers\", \"name\": \"\", \"orientation\": \"v\", \"showlegend\": false, \"x\": [-16.13], \"xaxis\": \"x\", \"y\": [41.08], \"yaxis\": \"y\", \"type\": \"scatter\"}], \"name\": \"3\"}, {\"data\": [{\"legendgroup\": \"\", \"marker\": {\"color\": \"gray\", \"size\": [1], \"sizemode\": \"area\", \"sizeref\": 0.01, \"symbol\": \"circle\"}, \"mode\": \"markers\", \"name\": \"\", \"orientation\": \"v\", \"showlegend\": false, \"x\": [-1.25], \"xaxis\": \"x\", \"y\": [31.31], \"yaxis\": \"y\", \"type\": \"scatter\"}], \"name\": \"4\"}, {\"data\": [{\"legendgroup\": \"\", \"marker\": {\"color\": \"gray\", \"size\": [1], \"sizemode\": \"area\", \"sizeref\": 0.01, \"symbol\": \"circle\"}, \"mode\": \"markers\", \"name\": \"\", \"orientation\": \"v\", \"showlegend\": false, \"x\": [-16.28], \"xaxis\": \"x\", \"y\": [39.92], \"yaxis\": \"y\", \"type\": \"scatter\"}], \"name\": \"5\"}, {\"data\": [{\"legendgroup\": \"\", \"marker\": {\"color\": \"gray\", \"size\": [1], \"sizemode\": \"area\", \"sizeref\": 0.01, \"symbol\": \"circle\"}, \"mode\": \"markers\", \"name\": \"\", \"orientation\": \"v\", \"showlegend\": false, \"x\": [-19.46], \"xaxis\": \"x\", \"y\": [55.19], \"yaxis\": \"y\", \"type\": \"scatter\"}], \"name\": \"6\"}, {\"data\": [{\"legendgroup\": \"\", \"marker\": {\"color\": \"gray\", \"size\": [1], \"sizemode\": \"area\", \"sizeref\": 0.01, \"symbol\": \"circle\"}, \"mode\": \"markers\", \"name\": \"\", \"orientation\": \"v\", \"showlegend\": false, \"x\": [-21.21], \"xaxis\": \"x\", \"y\": [64.8], \"yaxis\": \"y\", \"type\": \"scatter\"}], \"name\": \"7\"}, {\"data\": [{\"legendgroup\": \"\", \"marker\": {\"color\": \"gray\", \"size\": [1], \"sizemode\": \"area\", \"sizeref\": 0.01, \"symbol\": \"circle\"}, \"mode\": \"markers\", \"name\": \"\", \"orientation\": \"v\", \"showlegend\": false, \"x\": [-21.56], \"xaxis\": \"x\", \"y\": [76.35], \"yaxis\": \"y\", \"type\": \"scatter\"}], \"name\": \"8\"}, {\"data\": [{\"legendgroup\": \"\", \"marker\": {\"color\": \"gray\", \"size\": [1], \"sizemode\": \"area\", \"sizeref\": 0.01, \"symbol\": \"circle\"}, \"mode\": \"markers\", \"name\": \"\", \"orientation\": \"v\", \"showlegend\": false, \"x\": [-22.02], \"xaxis\": \"x\", \"y\": [86.27], \"yaxis\": \"y\", \"type\": \"scatter\"}], \"name\": \"9\"}, {\"data\": [{\"legendgroup\": \"\", \"marker\": {\"color\": \"gray\", \"size\": [1], \"sizemode\": \"area\", \"sizeref\": 0.01, \"symbol\": \"circle\"}, \"mode\": \"markers\", \"name\": \"\", \"orientation\": \"v\", \"showlegend\": false, \"x\": [-23.03], \"xaxis\": \"x\", \"y\": [96.27], \"yaxis\": \"y\", \"type\": \"scatter\"}], \"name\": \"10\"}, {\"data\": [{\"legendgroup\": \"\", \"marker\": {\"color\": \"gray\", \"size\": [1], \"sizemode\": \"area\", \"sizeref\": 0.01, \"symbol\": \"circle\"}, \"mode\": \"markers\", \"name\": \"\", \"orientation\": \"v\", \"showlegend\": false, \"x\": [-8.76], \"xaxis\": \"x\", \"y\": [87.2], \"yaxis\": \"y\", \"type\": \"scatter\"}], \"name\": \"11\"}, {\"data\": [{\"legendgroup\": \"\", \"marker\": {\"color\": \"gray\", \"size\": [1], \"sizemode\": \"area\", \"sizeref\": 0.01, \"symbol\": \"circle\"}, \"mode\": \"markers\", \"name\": \"\", \"orientation\": \"v\", \"showlegend\": false, \"x\": [-5.35], \"xaxis\": \"x\", \"y\": [84.49], \"yaxis\": \"y\", \"type\": \"scatter\"}], \"name\": \"12\"}, {\"data\": [{\"legendgroup\": \"\", \"marker\": {\"color\": \"gray\", \"size\": [1], \"sizemode\": \"area\", \"sizeref\": 0.01, \"symbol\": \"circle\"}, \"mode\": \"markers\", \"name\": \"\", \"orientation\": \"v\", \"showlegend\": false, \"x\": [6.74], \"xaxis\": \"x\", \"y\": [84.65], \"yaxis\": \"y\", \"type\": \"scatter\"}], \"name\": \"13\"}, {\"data\": [{\"legendgroup\": \"\", \"marker\": {\"color\": \"gray\", \"size\": [1], \"sizemode\": \"area\", \"sizeref\": 0.01, \"symbol\": \"circle\"}, \"mode\": \"markers\", \"name\": \"\", \"orientation\": \"v\", \"showlegend\": false, \"x\": [-5.66], \"xaxis\": \"x\", \"y\": [84.26], \"yaxis\": \"y\", \"type\": \"scatter\"}], \"name\": \"14\"}, {\"data\": [{\"legendgroup\": \"\", \"marker\": {\"color\": \"gray\", \"size\": [1], \"sizemode\": \"area\", \"sizeref\": 0.01, \"symbol\": \"circle\"}, \"mode\": \"markers\", \"name\": \"\", \"orientation\": \"v\", \"showlegend\": false, \"x\": [-13.49], \"xaxis\": \"x\", \"y\": [84.34], \"yaxis\": \"y\", \"type\": \"scatter\"}], \"name\": \"15\"}, {\"data\": [{\"legendgroup\": \"\", \"marker\": {\"color\": \"gray\", \"size\": [1], \"sizemode\": \"area\", \"sizeref\": 0.01, \"symbol\": \"circle\"}, \"mode\": \"markers\", \"name\": \"\", \"orientation\": \"v\", \"showlegend\": false, \"x\": [-2.8], \"xaxis\": \"x\", \"y\": [84.26], \"yaxis\": \"y\", \"type\": \"scatter\"}], \"name\": \"16\"}, {\"data\": [{\"legendgroup\": \"\", \"marker\": {\"color\": \"gray\", \"size\": [1], \"sizemode\": \"area\", \"sizeref\": 0.01, \"symbol\": \"circle\"}, \"mode\": \"markers\", \"name\": \"\", \"orientation\": \"v\", \"showlegend\": false, \"x\": [-25.94], \"xaxis\": \"x\", \"y\": [105.07], \"yaxis\": \"y\", \"type\": \"scatter\"}], \"name\": \"17\"}]);\n",
       "                        }).then(function(){\n",
       "                            \n",
       "var gd = document.getElementById('4ce908f5-b16a-452e-b85a-e25a1a61f9ae');\n",
       "var x = new MutationObserver(function (mutations, observer) {{\n",
       "        var display = window.getComputedStyle(gd).display;\n",
       "        if (!display || display === 'none') {{\n",
       "            console.log([gd, 'removed!']);\n",
       "            Plotly.purge(gd);\n",
       "            observer.disconnect();\n",
       "        }}\n",
       "}});\n",
       "\n",
       "// Listen for the removal of the full notebook cells\n",
       "var notebookContainer = gd.closest('#notebook-container');\n",
       "if (notebookContainer) {{\n",
       "    x.observe(notebookContainer, {childList: true});\n",
       "}}\n",
       "\n",
       "// Listen for the clearing of the current output cell\n",
       "var outputEl = gd.closest('.output');\n",
       "if (outputEl) {{\n",
       "    x.observe(outputEl, {childList: true});\n",
       "}}\n",
       "\n",
       "                        })                };                });            </script>        </div>"
      ]
     },
     "metadata": {},
     "output_type": "display_data"
    }
   ],
   "source": [
    "fig = g.visual_possession_map(possession_number=1, home=False)\n",
    "fig"
   ]
  },
  {
   "cell_type": "code",
   "execution_count": 1265,
   "metadata": {},
   "outputs": [
    {
     "data": {
      "text/plain": [
       "'Completion: Ben Katz Under/Other to Josue Alorro for 9 yards'"
      ]
     },
     "execution_count": 1265,
     "metadata": {},
     "output_type": "execute_result"
    }
   ],
   "source": [
    "g.get_home_events()[\"play_description\"].head(10).iloc[3]"
   ]
  },
  {
   "cell_type": "code",
   "execution_count": 1226,
   "metadata": {},
   "outputs": [
    {
     "data": {
      "text/plain": [
       "{9451: 'Ben Jagt',\n",
       " 9463: 'Ben Katz',\n",
       " 9468: 'Ben Nelson',\n",
       " 9454: 'Conor Kline',\n",
       " 9455: 'Jack Williams',\n",
       " 9471: 'Jeff Babbitt',\n",
       " 9457: 'Joe Ouellette',\n",
       " 9550: 'Josue Alorro',\n",
       " 9470: 'Marques Brownlee',\n",
       " 9456: 'Matt LeMar',\n",
       " 9459: 'Matt Stevens',\n",
       " 9467: 'Matt Weintraub',\n",
       " 9458: 'Mike Drost',\n",
       " 9469: 'Ryan Drost',\n",
       " 9461: 'Ryan Holmes',\n",
       " 9448: 'Ryan Osgar',\n",
       " 9449: 'Ryan Saffa',\n",
       " 9462: 'Noriaki To',\n",
       " 9452: 'TJ Stanton',\n",
       " 9465: 'Ryan Weaver',\n",
       " 9450: 'Elliott Chartock',\n",
       " 9464: 'Sam Feder',\n",
       " 9466: 'John Lithio',\n",
       " 9460: 'Angelo Olcese',\n",
       " 9453: 'Solomon Rueschemeyer-Bailey'}"
      ]
     },
     "execution_count": 1226,
     "metadata": {},
     "output_type": "execute_result"
    }
   ],
   "source": [
    "g.get_home_roster().assign(name=lambda x: x[\"first_name\"].str.strip()\n",
    "                        + \" \"\n",
    "                        + x[\"last_name\"].str.strip(),)[[\"id\", \"name\"]].set_index(\"id\").to_dict()[\"name\"]"
   ]
  }
 ],
 "metadata": {
  "kernelspec": {
   "display_name": "Python 3",
   "language": "python",
   "name": "python3"
  },
  "language_info": {
   "codemirror_mode": {
    "name": "ipython",
    "version": 3
   },
   "file_extension": ".py",
   "mimetype": "text/x-python",
   "name": "python",
   "nbconvert_exporter": "python",
   "pygments_lexer": "ipython3",
   "version": "3.7.6"
  }
 },
 "nbformat": 4,
 "nbformat_minor": 4
}
